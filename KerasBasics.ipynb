{
  "nbformat": 4,
  "nbformat_minor": 0,
  "metadata": {
    "colab": {
      "name": "KerasBasics.ipynb",
      "version": "0.3.2",
      "provenance": [],
      "collapsed_sections": [],
      "include_colab_link": true
    },
    "kernelspec": {
      "name": "python3",
      "display_name": "Python 3"
    }
  },
  "cells": [
    {
      "cell_type": "markdown",
      "metadata": {
        "id": "view-in-github",
        "colab_type": "text"
      },
      "source": [
        "<a href=\"https://colab.research.google.com/github/GabeMaldonado/JupyterNotebooks/blob/master/KerasBasics.ipynb\" target=\"_parent\"><img src=\"https://colab.research.google.com/assets/colab-badge.svg\" alt=\"Open In Colab\"/></a>"
      ]
    },
    {
      "cell_type": "markdown",
      "metadata": {
        "id": "iYn4K2Gi8WRq",
        "colab_type": "text"
      },
      "source": [
        "# KERAS BASICS\n",
        "\n",
        "We are going to build a Neural Network using Keras\n"
      ]
    },
    {
      "cell_type": "code",
      "metadata": {
        "id": "rtWVtVVE3lc7",
        "colab_type": "code",
        "colab": {}
      },
      "source": [
        "# Basic imports\n",
        "\n",
        "import pandas as pd\n",
        "import numpy as np\n",
        "import matplotlib.pyplot as plt\n",
        "import keras\n",
        "%matplotlib inline"
      ],
      "execution_count": 0,
      "outputs": []
    },
    {
      "cell_type": "markdown",
      "metadata": {
        "id": "UMF9W1UP-gF9",
        "colab_type": "text"
      },
      "source": [
        "Let's follow the equation of a line plus some noise\n",
        "\n",
        "``` y = mx + b + noise```"
      ]
    },
    {
      "cell_type": "code",
      "metadata": {
        "id": "FjPxwcx_-PnK",
        "colab_type": "code",
        "colab": {}
      },
      "source": [
        "m = 2\n",
        "b = 3\n",
        "x = np.linspace(0, 50, 100)     # fom 0-50 get 100 points"
      ],
      "execution_count": 0,
      "outputs": []
    },
    {
      "cell_type": "code",
      "metadata": {
        "id": "aPkH_Rsv_ifb",
        "colab_type": "code",
        "colab": {
          "base_uri": "https://localhost:8080/",
          "height": 442
        },
        "outputId": "d56abd34-0a6a-465f-f67e-64057f36ff51"
      },
      "source": [
        "# create noise element\n",
        "np.random.seed(101)\n",
        "noise = np.random.normal(loc=0, scale=4, size=len(x))\n",
        "noise"
      ],
      "execution_count": 32,
      "outputs": [
        {
          "output_type": "execute_result",
          "data": {
            "text/plain": [
              "array([ 1.08273994e+01,  2.51253084e+00,  3.63187779e+00,  2.01530302e+00,\n",
              "        2.60447179e+00, -1.27727218e+00, -3.39230793e+00,  2.42386140e+00,\n",
              "       -8.07267298e+00,  2.96048823e+00,  2.11525398e+00, -2.35600213e+00,\n",
              "        7.54781238e-01, -3.03548822e+00, -3.73294887e+00,  3.82022604e+00,\n",
              "        7.63177289e-01,  7.91502930e+00,  1.04238691e+01,  2.73403554e+00,\n",
              "        1.21066179e+00,  6.77489170e+00, -6.82434372e+00, -4.63647766e+00,\n",
              "       -5.39362882e-01,  1.56211137e+00,  6.67618544e-01,  7.38007437e-01,\n",
              "        3.23082366e+00,  2.91838701e-01,  2.55514805e+00,  1.31858520e+00,\n",
              "       -1.98841609e+00, -3.01627880e+00, -3.77362561e+00,  1.93900659e+00,\n",
              "       -4.67093266e-01,  7.60701918e+00,  9.52507835e-01,  7.98660914e+00,\n",
              "       -3.97305400e+00,  7.87198020e-01, -4.54657837e+00,  1.46591842e-03,\n",
              "        4.10393661e+00, -6.26391617e-01, -1.26316576e-01,  2.59930333e+00,\n",
              "        8.61938577e+00, -2.44103542e+00, -3.02130136e+00, -1.38567401e+00,\n",
              "        5.88107085e-01, -1.91779216e+00,  2.23507763e+00,  4.09924111e+00,\n",
              "       -3.70349704e+00,  7.45145655e+00, -4.53526865e+00,  2.44191163e+00,\n",
              "        1.54412125e+00,  8.33607412e+00, -1.50607470e+00,  9.21345374e-01,\n",
              "        2.72483717e+00,  4.14050030e+00, -1.24641926e-01,  7.75972924e+00,\n",
              "       -4.02074767e+00, -2.96715882e+00,  7.48498087e-01, -2.93138059e+00,\n",
              "       -5.53168039e+00,  5.92998198e+00,  3.84583262e+00, -8.56484916e+00,\n",
              "        3.97029381e+00,  4.76896255e+00, -4.18711815e+00,  5.17105831e+00,\n",
              "       -5.87005608e+00, -1.97638143e+00, -6.50138939e-01,  1.94323495e+00,\n",
              "        1.56995524e+00,  8.85962740e-01, -3.42078416e+00,  6.16796163e+00,\n",
              "        2.66527728e+00, -2.15293850e+00, -2.27432544e+00,  5.62935299e+00,\n",
              "        2.56722205e+00, -3.62039961e+00, -1.56462651e+00,  4.11317264e+00,\n",
              "       -7.89042041e+00, -3.46754014e+00,  2.88315040e+00, -4.89232815e+00])"
            ]
          },
          "metadata": {
            "tags": []
          },
          "execution_count": 32
        }
      ]
    },
    {
      "cell_type": "code",
      "metadata": {
        "id": "-5XhmV9oA4yN",
        "colab_type": "code",
        "colab": {
          "base_uri": "https://localhost:8080/",
          "height": 442
        },
        "outputId": "b194e554-14e3-42eb-949c-018e1486b2a0"
      },
      "source": [
        "# get y\n",
        "\n",
        "y = m * x + b + noise\n",
        "y"
      ],
      "execution_count": 33,
      "outputs": [
        {
          "output_type": "execute_result",
          "data": {
            "text/plain": [
              "array([ 13.82739936,   6.52263185,   8.65207981,   8.04560605,\n",
              "         9.64487583,   6.77323287,   5.66829813,  12.49456847,\n",
              "         3.0081351 ,  15.05139732,  15.21626408,  11.75510898,\n",
              "        15.87599336,  13.09582491,  13.40846528,  21.97174119,\n",
              "        19.92479345,  28.08674647,  31.6056873 ,  24.92595473,\n",
              "        24.412682  ,  30.98701291,  18.3978785 ,  21.59584557,\n",
              "        26.70306136,  29.81463662,  29.93024481,  31.01073471,\n",
              "        34.51365194,  32.58476799,  35.85817836,  35.63171651,\n",
              "        33.33481623,  33.31705453,  33.56980873,  40.29254194,\n",
              "        38.8965431 ,  47.98075655,  42.33634622,  50.38054854,\n",
              "        39.4309864 ,  45.20133943,  40.87766405,  46.43580935,\n",
              "        51.54838105,  47.82815384,  49.33832989,  53.07405081,\n",
              "        60.10423426,  50.05391407,  50.48374915,  53.1294775 ,\n",
              "        56.11335961,  54.61756138,  59.78053217,  62.65479667,\n",
              "        55.86215953,  68.02721413,  57.05058994,  65.03787123,\n",
              "        65.15018185,  72.95223574,  64.12018793,  67.55770901,\n",
              "        70.37130182,  72.79706596,  69.54202474,  78.43649692,\n",
              "        67.66612102,  69.72981088,  74.45556879,  71.78579113,\n",
              "        70.19559233,  82.66735572,  81.59330737,  70.19272659,\n",
              "        83.73797058,  85.54674033,  77.60076064,  87.96903811,\n",
              "        77.93802473,  82.84180038,  85.17814389,  88.78161879,\n",
              "        89.41844009,  89.7445486 ,  86.44790271,  97.04674951,\n",
              "        94.55416617,  90.7460514 ,  91.63476547, 100.54854491,\n",
              "        98.49651498,  93.31899433,  96.38486844, 103.0727686 ,\n",
              "        92.07927656,  97.51225784, 104.87304938,  98.10767185])"
            ]
          },
          "metadata": {
            "tags": []
          },
          "execution_count": 33
        }
      ]
    },
    {
      "cell_type": "code",
      "metadata": {
        "id": "Px-TeItGCE_y",
        "colab_type": "code",
        "colab": {
          "base_uri": "https://localhost:8080/",
          "height": 269
        },
        "outputId": "34d21653-aeb8-474f-ffba-227893c8fbef"
      },
      "source": [
        "plt.plot(x, y, '*');"
      ],
      "execution_count": 34,
      "outputs": [
        {
          "output_type": "display_data",
          "data": {
            "image/png": "[encoded data removed]",
            "text/plain": [
              "<Figure size 432x288 with 1 Axes>"
            ]
          },
          "metadata": {
            "tags": []
          }
        }
      ]
    },
    {
      "cell_type": "markdown",
      "metadata": {
        "id": "2-Arq9nBC99C",
        "colab_type": "text"
      },
      "source": [
        "Create a NN that would predict a best fitting line for this model."
      ]
    },
    {
      "cell_type": "code",
      "metadata": {
        "id": "HEB79MJACd0m",
        "colab_type": "code",
        "colab": {}
      },
      "source": [
        "from keras.models import Sequential\n",
        "# allows to add layers in sequence"
      ],
      "execution_count": 0,
      "outputs": []
    },
    {
      "cell_type": "code",
      "metadata": {
        "id": "oMS-7jKNDQ6l",
        "colab_type": "code",
        "colab": {}
      },
      "source": [
        "from keras.layers import Dense\n",
        "# all layers from previous layers are connected to next layers "
      ],
      "execution_count": 0,
      "outputs": []
    },
    {
      "cell_type": "code",
      "metadata": {
        "id": "j1vjYoxHD3xt",
        "colab_type": "code",
        "colab": {}
      },
      "source": [
        "# create model\n",
        "\n",
        "model = Sequential()\n",
        "\n",
        "# add Dense layer to model\n",
        "# first parameter is number of neurons\n",
        "\n",
        "model.add(Dense(4, input_dim=1, activation='relu'))\n",
        "model.add(Dense(4, activation='relu'))\n",
        "\n",
        "# create output layer\n",
        "model.add(Dense(1, activation='linear'))\n",
        "\n",
        "# compile\n",
        "\n",
        "model.compile(loss='mse', optimizer='adam')\n"
      ],
      "execution_count": 0,
      "outputs": []
    },
    {
      "cell_type": "code",
      "metadata": {
        "id": "kE1JM0x8Gb1B",
        "colab_type": "code",
        "colab": {
          "base_uri": "https://localhost:8080/",
          "height": 238
        },
        "outputId": "9cc2a0b2-e3c8-479b-c3a8-5e8185286b5e"
      },
      "source": [
        "# get summary\n",
        "model.summary()"
      ],
      "execution_count": 44,
      "outputs": [
        {
          "output_type": "stream",
          "text": [
            "_________________________________________________________________\n",
            "Layer (type)                 Output Shape              Param #   \n",
            "=================================================================\n",
            "dense_10 (Dense)             (None, 4)                 8         \n",
            "_________________________________________________________________\n",
            "dense_11 (Dense)             (None, 4)                 20        \n",
            "_________________________________________________________________\n",
            "dense_12 (Dense)             (None, 1)                 5         \n",
            "=================================================================\n",
            "Total params: 33\n",
            "Trainable params: 33\n",
            "Non-trainable params: 0\n",
            "_________________________________________________________________\n"
          ],
          "name": "stdout"
        }
      ]
    },
    {
      "cell_type": "code",
      "metadata": {
        "id": "Rh9IpjKPGs4L",
        "colab_type": "code",
        "colab": {
          "base_uri": "https://localhost:8080/",
          "height": 1000
        },
        "outputId": "9591e99d-53e8-447e-e8a5-ff6a02a1636f"
      },
      "source": [
        "# fit model to data\n",
        "model.fit(x, y, epochs= 200)     # given x what is the y value"
      ],
      "execution_count": 45,
      "outputs": [
        {
          "output_type": "stream",
          "text": [
            "Epoch 1/200\n",
            "100/100 [==============================] - 0s 4ms/step - loss: 3959.5821\n",
            "Epoch 2/200\n",
            "100/100 [==============================] - 0s 100us/step - loss: 3925.9080\n",
            "Epoch 3/200\n",
            "100/100 [==============================] - 0s 74us/step - loss: 3890.6342\n",
            "Epoch 4/200\n",
            "100/100 [==============================] - 0s 73us/step - loss: 3853.2411\n",
            "Epoch 5/200\n",
            "100/100 [==============================] - 0s 122us/step - loss: 3817.9478\n",
            "Epoch 6/200\n",
            "100/100 [==============================] - 0s 106us/step - loss: 3778.9509\n",
            "Epoch 7/200\n",
            "100/100 [==============================] - 0s 98us/step - loss: 3740.8216\n",
            "Epoch 8/200\n",
            "100/100 [==============================] - 0s 135us/step - loss: 3701.9130\n",
            "Epoch 9/200\n",
            "100/100 [==============================] - 0s 92us/step - loss: 3661.2656\n",
            "Epoch 10/200\n",
            "100/100 [==============================] - 0s 116us/step - loss: 3621.8654\n",
            "Epoch 11/200\n",
            "100/100 [==============================] - 0s 108us/step - loss: 3581.9720\n",
            "Epoch 12/200\n",
            "100/100 [==============================] - 0s 90us/step - loss: 3541.7324\n",
            "Epoch 13/200\n",
            "100/100 [==============================] - 0s 106us/step - loss: 3502.1975\n",
            "Epoch 14/200\n",
            "100/100 [==============================] - 0s 101us/step - loss: 3460.7741\n",
            "Epoch 15/200\n",
            "100/100 [==============================] - 0s 111us/step - loss: 3420.3773\n",
            "Epoch 16/200\n",
            "100/100 [==============================] - 0s 73us/step - loss: 3380.3055\n",
            "Epoch 17/200\n",
            "100/100 [==============================] - 0s 72us/step - loss: 3336.9047\n",
            "Epoch 18/200\n",
            "100/100 [==============================] - 0s 87us/step - loss: 3294.4042\n",
            "Epoch 19/200\n",
            "100/100 [==============================] - 0s 66us/step - loss: 3250.5796\n",
            "Epoch 20/200\n",
            "100/100 [==============================] - 0s 95us/step - loss: 3205.9244\n",
            "Epoch 21/200\n",
            "100/100 [==============================] - 0s 238us/step - loss: 3156.4999\n",
            "Epoch 22/200\n",
            "100/100 [==============================] - 0s 103us/step - loss: 3110.8264\n",
            "Epoch 23/200\n",
            "100/100 [==============================] - 0s 82us/step - loss: 3063.4155\n",
            "Epoch 24/200\n",
            "100/100 [==============================] - 0s 90us/step - loss: 3014.3102\n",
            "Epoch 25/200\n",
            "100/100 [==============================] - 0s 93us/step - loss: 2964.9894\n",
            "Epoch 26/200\n",
            "100/100 [==============================] - 0s 85us/step - loss: 2916.0843\n",
            "Epoch 27/200\n",
            "100/100 [==============================] - 0s 90us/step - loss: 2863.4672\n",
            "Epoch 28/200\n",
            "100/100 [==============================] - 0s 86us/step - loss: 2811.6600\n",
            "Epoch 29/200\n",
            "100/100 [==============================] - 0s 96us/step - loss: 2762.1870\n",
            "Epoch 30/200\n",
            "100/100 [==============================] - 0s 80us/step - loss: 2712.3799\n",
            "Epoch 31/200\n",
            "100/100 [==============================] - 0s 79us/step - loss: 2661.4994\n",
            "Epoch 32/200\n",
            "100/100 [==============================] - 0s 91us/step - loss: 2611.5217\n",
            "Epoch 33/200\n",
            "100/100 [==============================] - 0s 102us/step - loss: 2562.5019\n",
            "Epoch 34/200\n",
            "100/100 [==============================] - 0s 86us/step - loss: 2509.8607\n",
            "Epoch 35/200\n",
            "100/100 [==============================] - 0s 97us/step - loss: 2457.2549\n",
            "Epoch 36/200\n",
            "100/100 [==============================] - 0s 92us/step - loss: 2403.2279\n",
            "Epoch 37/200\n",
            "100/100 [==============================] - 0s 85us/step - loss: 2350.7819\n",
            "Epoch 38/200\n",
            "100/100 [==============================] - 0s 81us/step - loss: 2294.0915\n",
            "Epoch 39/200\n",
            "100/100 [==============================] - 0s 83us/step - loss: 2236.9231\n",
            "Epoch 40/200\n",
            "100/100 [==============================] - 0s 87us/step - loss: 2179.7050\n",
            "Epoch 41/200\n",
            "100/100 [==============================] - 0s 88us/step - loss: 2123.0347\n",
            "Epoch 42/200\n",
            "100/100 [==============================] - 0s 102us/step - loss: 2061.6585\n",
            "Epoch 43/200\n",
            "100/100 [==============================] - 0s 88us/step - loss: 2002.7498\n",
            "Epoch 44/200\n",
            "100/100 [==============================] - 0s 86us/step - loss: 1939.8552\n",
            "Epoch 45/200\n",
            "100/100 [==============================] - 0s 84us/step - loss: 1877.1699\n",
            "Epoch 46/200\n",
            "100/100 [==============================] - 0s 85us/step - loss: 1817.1744\n",
            "Epoch 47/200\n",
            "100/100 [==============================] - 0s 71us/step - loss: 1754.7907\n",
            "Epoch 48/200\n",
            "100/100 [==============================] - 0s 85us/step - loss: 1691.8457\n",
            "Epoch 49/200\n",
            "100/100 [==============================] - 0s 86us/step - loss: 1629.3453\n",
            "Epoch 50/200\n",
            "100/100 [==============================] - 0s 81us/step - loss: 1570.0148\n",
            "Epoch 51/200\n",
            "100/100 [==============================] - 0s 78us/step - loss: 1508.7195\n",
            "Epoch 52/200\n",
            "100/100 [==============================] - 0s 95us/step - loss: 1449.9911\n",
            "Epoch 53/200\n",
            "100/100 [==============================] - 0s 79us/step - loss: 1393.7510\n",
            "Epoch 54/200\n",
            "100/100 [==============================] - 0s 75us/step - loss: 1333.4095\n",
            "Epoch 55/200\n",
            "100/100 [==============================] - 0s 93us/step - loss: 1275.9550\n",
            "Epoch 56/200\n",
            "100/100 [==============================] - 0s 80us/step - loss: 1215.9430\n",
            "Epoch 57/200\n",
            "100/100 [==============================] - 0s 75us/step - loss: 1159.1668\n",
            "Epoch 58/200\n",
            "100/100 [==============================] - 0s 82us/step - loss: 1104.3545\n",
            "Epoch 59/200\n",
            "100/100 [==============================] - 0s 82us/step - loss: 1049.4638\n",
            "Epoch 60/200\n",
            "100/100 [==============================] - 0s 78us/step - loss: 994.5144\n",
            "Epoch 61/200\n",
            "100/100 [==============================] - 0s 87us/step - loss: 938.1238\n",
            "Epoch 62/200\n",
            "100/100 [==============================] - 0s 76us/step - loss: 889.1594\n",
            "Epoch 63/200\n",
            "100/100 [==============================] - 0s 78us/step - loss: 837.3400\n",
            "Epoch 64/200\n",
            "100/100 [==============================] - 0s 79us/step - loss: 789.4381\n",
            "Epoch 65/200\n",
            "100/100 [==============================] - 0s 83us/step - loss: 740.0460\n",
            "Epoch 66/200\n",
            "100/100 [==============================] - 0s 123us/step - loss: 694.9922\n",
            "Epoch 67/200\n",
            "100/100 [==============================] - 0s 77us/step - loss: 647.7821\n",
            "Epoch 68/200\n",
            "100/100 [==============================] - 0s 77us/step - loss: 603.5763\n",
            "Epoch 69/200\n",
            "100/100 [==============================] - 0s 80us/step - loss: 562.7371\n",
            "Epoch 70/200\n",
            "100/100 [==============================] - 0s 84us/step - loss: 522.4221\n",
            "Epoch 71/200\n",
            "100/100 [==============================] - 0s 90us/step - loss: 481.7158\n",
            "Epoch 72/200\n",
            "100/100 [==============================] - 0s 91us/step - loss: 444.3604\n",
            "Epoch 73/200\n",
            "100/100 [==============================] - 0s 81us/step - loss: 407.0817\n",
            "Epoch 74/200\n",
            "100/100 [==============================] - 0s 90us/step - loss: 374.7816\n",
            "Epoch 75/200\n",
            "100/100 [==============================] - 0s 80us/step - loss: 342.4523\n",
            "Epoch 76/200\n",
            "100/100 [==============================] - 0s 77us/step - loss: 313.1478\n",
            "Epoch 77/200\n",
            "100/100 [==============================] - 0s 59us/step - loss: 284.9802\n",
            "Epoch 78/200\n",
            "100/100 [==============================] - 0s 55us/step - loss: 259.6252\n",
            "Epoch 79/200\n",
            "100/100 [==============================] - 0s 59us/step - loss: 237.3265\n",
            "Epoch 80/200\n",
            "100/100 [==============================] - 0s 58us/step - loss: 214.7213\n",
            "Epoch 81/200\n",
            "100/100 [==============================] - 0s 58us/step - loss: 195.4277\n",
            "Epoch 82/200\n",
            "100/100 [==============================] - 0s 56us/step - loss: 177.3361\n",
            "Epoch 83/200\n",
            "100/100 [==============================] - 0s 52us/step - loss: 159.6451\n",
            "Epoch 84/200\n",
            "100/100 [==============================] - 0s 60us/step - loss: 143.6729\n",
            "Epoch 85/200\n",
            "100/100 [==============================] - 0s 62us/step - loss: 129.0736\n",
            "Epoch 86/200\n",
            "100/100 [==============================] - 0s 58us/step - loss: 115.4097\n",
            "Epoch 87/200\n",
            "100/100 [==============================] - 0s 57us/step - loss: 103.4240\n",
            "Epoch 88/200\n",
            "100/100 [==============================] - 0s 61us/step - loss: 92.6996\n",
            "Epoch 89/200\n",
            "100/100 [==============================] - 0s 55us/step - loss: 83.5146\n",
            "Epoch 90/200\n",
            "100/100 [==============================] - 0s 62us/step - loss: 74.7011\n",
            "Epoch 91/200\n",
            "100/100 [==============================] - 0s 55us/step - loss: 67.5291\n",
            "Epoch 92/200\n",
            "100/100 [==============================] - 0s 55us/step - loss: 60.9939\n",
            "Epoch 93/200\n",
            "100/100 [==============================] - 0s 62us/step - loss: 55.2063\n",
            "Epoch 94/200\n",
            "100/100 [==============================] - 0s 57us/step - loss: 49.8938\n",
            "Epoch 95/200\n",
            "100/100 [==============================] - 0s 58us/step - loss: 44.9938\n",
            "Epoch 96/200\n",
            "100/100 [==============================] - 0s 80us/step - loss: 40.9181\n",
            "Epoch 97/200\n",
            "100/100 [==============================] - 0s 65us/step - loss: 37.4408\n",
            "Epoch 98/200\n",
            "100/100 [==============================] - 0s 58us/step - loss: 34.3385\n",
            "Epoch 99/200\n",
            "100/100 [==============================] - 0s 54us/step - loss: 31.9960\n",
            "Epoch 100/200\n",
            "100/100 [==============================] - 0s 52us/step - loss: 29.7093\n",
            "Epoch 101/200\n",
            "100/100 [==============================] - 0s 55us/step - loss: 27.9529\n",
            "Epoch 102/200\n",
            "100/100 [==============================] - 0s 59us/step - loss: 26.4370\n",
            "Epoch 103/200\n",
            "100/100 [==============================] - 0s 59us/step - loss: 25.0068\n",
            "Epoch 104/200\n",
            "100/100 [==============================] - 0s 55us/step - loss: 23.9106\n",
            "Epoch 105/200\n",
            "100/100 [==============================] - 0s 54us/step - loss: 22.9475\n",
            "Epoch 106/200\n",
            "100/100 [==============================] - 0s 52us/step - loss: 22.1598\n",
            "Epoch 107/200\n",
            "100/100 [==============================] - 0s 52us/step - loss: 21.5711\n",
            "Epoch 108/200\n",
            "100/100 [==============================] - 0s 59us/step - loss: 21.1098\n",
            "Epoch 109/200\n",
            "100/100 [==============================] - 0s 60us/step - loss: 20.7151\n",
            "Epoch 110/200\n",
            "100/100 [==============================] - 0s 56us/step - loss: 20.3704\n",
            "Epoch 111/200\n",
            "100/100 [==============================] - 0s 56us/step - loss: 20.1341\n",
            "Epoch 112/200\n",
            "100/100 [==============================] - 0s 65us/step - loss: 19.8757\n",
            "Epoch 113/200\n",
            "100/100 [==============================] - 0s 57us/step - loss: 19.7092\n",
            "Epoch 114/200\n",
            "100/100 [==============================] - 0s 60us/step - loss: 19.6009\n",
            "Epoch 115/200\n",
            "100/100 [==============================] - 0s 62us/step - loss: 19.5028\n",
            "Epoch 116/200\n",
            "100/100 [==============================] - 0s 56us/step - loss: 19.3986\n",
            "Epoch 117/200\n",
            "100/100 [==============================] - 0s 56us/step - loss: 19.3159\n",
            "Epoch 118/200\n",
            "100/100 [==============================] - 0s 60us/step - loss: 19.2435\n",
            "Epoch 119/200\n",
            "100/100 [==============================] - 0s 55us/step - loss: 19.1910\n",
            "Epoch 120/200\n",
            "100/100 [==============================] - 0s 56us/step - loss: 19.1369\n",
            "Epoch 121/200\n",
            "100/100 [==============================] - 0s 61us/step - loss: 19.0984\n",
            "Epoch 122/200\n",
            "100/100 [==============================] - 0s 52us/step - loss: 19.0789\n",
            "Epoch 123/200\n",
            "100/100 [==============================] - 0s 55us/step - loss: 19.0628\n",
            "Epoch 124/200\n",
            "100/100 [==============================] - 0s 57us/step - loss: 19.0498\n",
            "Epoch 125/200\n",
            "100/100 [==============================] - 0s 65us/step - loss: 19.0139\n",
            "Epoch 126/200\n",
            "100/100 [==============================] - 0s 58us/step - loss: 18.9991\n",
            "Epoch 127/200\n",
            "100/100 [==============================] - 0s 57us/step - loss: 18.9850\n",
            "Epoch 128/200\n",
            "100/100 [==============================] - 0s 63us/step - loss: 18.9760\n",
            "Epoch 129/200\n",
            "100/100 [==============================] - 0s 59us/step - loss: 18.9678\n",
            "Epoch 130/200\n",
            "100/100 [==============================] - 0s 55us/step - loss: 18.9705\n",
            "Epoch 131/200\n",
            "100/100 [==============================] - 0s 59us/step - loss: 18.9615\n",
            "Epoch 132/200\n",
            "100/100 [==============================] - 0s 60us/step - loss: 18.9584\n",
            "Epoch 133/200\n",
            "100/100 [==============================] - 0s 55us/step - loss: 18.9506\n",
            "Epoch 134/200\n",
            "100/100 [==============================] - 0s 62us/step - loss: 18.9571\n",
            "Epoch 135/200\n",
            "100/100 [==============================] - 0s 55us/step - loss: 18.9487\n",
            "Epoch 136/200\n",
            "100/100 [==============================] - 0s 54us/step - loss: 18.9496\n",
            "Epoch 137/200\n",
            "100/100 [==============================] - 0s 62us/step - loss: 18.9474\n",
            "Epoch 138/200\n",
            "100/100 [==============================] - 0s 55us/step - loss: 18.9425\n",
            "Epoch 139/200\n",
            "100/100 [==============================] - 0s 56us/step - loss: 18.9348\n",
            "Epoch 140/200\n",
            "100/100 [==============================] - 0s 59us/step - loss: 18.9368\n",
            "Epoch 141/200\n",
            "100/100 [==============================] - 0s 53us/step - loss: 18.9350\n",
            "Epoch 142/200\n",
            "100/100 [==============================] - 0s 54us/step - loss: 18.9343\n",
            "Epoch 143/200\n",
            "100/100 [==============================] - 0s 57us/step - loss: 18.9313\n",
            "Epoch 144/200\n",
            "100/100 [==============================] - 0s 55us/step - loss: 18.9394\n",
            "Epoch 145/200\n",
            "100/100 [==============================] - 0s 54us/step - loss: 18.9354\n",
            "Epoch 146/200\n",
            "100/100 [==============================] - 0s 58us/step - loss: 18.9384\n",
            "Epoch 147/200\n",
            "100/100 [==============================] - 0s 53us/step - loss: 18.9468\n",
            "Epoch 148/200\n",
            "100/100 [==============================] - 0s 56us/step - loss: 18.9339\n",
            "Epoch 149/200\n",
            "100/100 [==============================] - 0s 61us/step - loss: 18.9230\n",
            "Epoch 150/200\n",
            "100/100 [==============================] - 0s 55us/step - loss: 18.9271\n",
            "Epoch 151/200\n",
            "100/100 [==============================] - 0s 56us/step - loss: 18.9171\n",
            "Epoch 152/200\n",
            "100/100 [==============================] - 0s 70us/step - loss: 18.9173\n",
            "Epoch 153/200\n",
            "100/100 [==============================] - 0s 60us/step - loss: 18.9147\n",
            "Epoch 154/200\n",
            "100/100 [==============================] - 0s 60us/step - loss: 18.9155\n",
            "Epoch 155/200\n",
            "100/100 [==============================] - 0s 61us/step - loss: 18.9160\n",
            "Epoch 156/200\n",
            "100/100 [==============================] - 0s 61us/step - loss: 18.9105\n",
            "Epoch 157/200\n",
            "100/100 [==============================] - 0s 105us/step - loss: 18.9086\n",
            "Epoch 158/200\n",
            "100/100 [==============================] - 0s 70us/step - loss: 18.9093\n",
            "Epoch 159/200\n",
            "100/100 [==============================] - 0s 60us/step - loss: 18.9050\n",
            "Epoch 160/200\n",
            "100/100 [==============================] - 0s 61us/step - loss: 18.9046\n",
            "Epoch 161/200\n",
            "100/100 [==============================] - 0s 59us/step - loss: 18.9068\n",
            "Epoch 162/200\n",
            "100/100 [==============================] - 0s 62us/step - loss: 18.9162\n",
            "Epoch 163/200\n",
            "100/100 [==============================] - 0s 56us/step - loss: 18.9196\n",
            "Epoch 164/200\n",
            "100/100 [==============================] - 0s 60us/step - loss: 18.9217\n",
            "Epoch 165/200\n",
            "100/100 [==============================] - 0s 62us/step - loss: 18.9287\n",
            "Epoch 166/200\n",
            "100/100 [==============================] - 0s 63us/step - loss: 18.9218\n",
            "Epoch 167/200\n",
            "100/100 [==============================] - 0s 62us/step - loss: 18.9203\n",
            "Epoch 168/200\n",
            "100/100 [==============================] - 0s 63us/step - loss: 18.9117\n",
            "Epoch 169/200\n",
            "100/100 [==============================] - 0s 68us/step - loss: 18.9104\n",
            "Epoch 170/200\n",
            "100/100 [==============================] - 0s 62us/step - loss: 18.9211\n",
            "Epoch 171/200\n",
            "100/100 [==============================] - 0s 63us/step - loss: 18.9114\n",
            "Epoch 172/200\n",
            "100/100 [==============================] - 0s 59us/step - loss: 18.9090\n",
            "Epoch 173/200\n",
            "100/100 [==============================] - 0s 54us/step - loss: 18.9086\n",
            "Epoch 174/200\n",
            "100/100 [==============================] - 0s 57us/step - loss: 18.9000\n",
            "Epoch 175/200\n",
            "100/100 [==============================] - 0s 60us/step - loss: 18.8969\n",
            "Epoch 176/200\n",
            "100/100 [==============================] - 0s 62us/step - loss: 18.8954\n",
            "Epoch 177/200\n",
            "100/100 [==============================] - 0s 59us/step - loss: 18.8930\n",
            "Epoch 178/200\n",
            "100/100 [==============================] - 0s 59us/step - loss: 18.8966\n",
            "Epoch 179/200\n",
            "100/100 [==============================] - 0s 56us/step - loss: 18.8948\n",
            "Epoch 180/200\n",
            "100/100 [==============================] - 0s 58us/step - loss: 18.9062\n",
            "Epoch 181/200\n",
            "100/100 [==============================] - 0s 56us/step - loss: 18.9056\n",
            "Epoch 182/200\n",
            "100/100 [==============================] - 0s 59us/step - loss: 18.9122\n",
            "Epoch 183/200\n",
            "100/100 [==============================] - 0s 59us/step - loss: 18.9197\n",
            "Epoch 184/200\n",
            "100/100 [==============================] - 0s 57us/step - loss: 18.9153\n",
            "Epoch 185/200\n",
            "100/100 [==============================] - 0s 61us/step - loss: 18.9103\n",
            "Epoch 186/200\n",
            "100/100 [==============================] - 0s 69us/step - loss: 18.9006\n",
            "Epoch 187/200\n",
            "100/100 [==============================] - 0s 86us/step - loss: 18.9044\n",
            "Epoch 188/200\n",
            "100/100 [==============================] - 0s 82us/step - loss: 18.9053\n",
            "Epoch 189/200\n",
            "100/100 [==============================] - 0s 86us/step - loss: 18.8940\n",
            "Epoch 190/200\n",
            "100/100 [==============================] - 0s 82us/step - loss: 18.8851\n",
            "Epoch 191/200\n",
            "100/100 [==============================] - 0s 81us/step - loss: 18.8785\n",
            "Epoch 192/200\n",
            "100/100 [==============================] - 0s 81us/step - loss: 18.8707\n",
            "Epoch 193/200\n",
            "100/100 [==============================] - 0s 82us/step - loss: 18.8492\n",
            "Epoch 194/200\n",
            "100/100 [==============================] - 0s 92us/step - loss: 18.8549\n",
            "Epoch 195/200\n",
            "100/100 [==============================] - 0s 90us/step - loss: 18.8396\n",
            "Epoch 196/200\n",
            "100/100 [==============================] - 0s 92us/step - loss: 18.8383\n",
            "Epoch 197/200\n",
            "100/100 [==============================] - 0s 93us/step - loss: 18.8328\n",
            "Epoch 198/200\n",
            "100/100 [==============================] - 0s 82us/step - loss: 18.8536\n",
            "Epoch 199/200\n",
            "100/100 [==============================] - 0s 88us/step - loss: 18.8455\n",
            "Epoch 200/200\n",
            "100/100 [==============================] - 0s 81us/step - loss: 18.8485\n"
          ],
          "name": "stdout"
        },
        {
          "output_type": "execute_result",
          "data": {
            "text/plain": [
              "<keras.callbacks.History at 0x7f5030799b70>"
            ]
          },
          "metadata": {
            "tags": []
          },
          "execution_count": 45
        }
      ]
    },
    {
      "cell_type": "code",
      "metadata": {
        "id": "csEwxDo1H7Zi",
        "colab_type": "code",
        "colab": {
          "base_uri": "https://localhost:8080/",
          "height": 1000
        },
        "outputId": "c5ac4aef-2e36-4410-c6d3-785e3396cb55"
      },
      "source": [
        "# get the loss values\n",
        "loss = model.history.history['loss']\n",
        "loss"
      ],
      "execution_count": 46,
      "outputs": [
        {
          "output_type": "execute_result",
          "data": {
            "text/plain": [
              "[3959.58212890625,\n",
              " 3925.9080078125,\n",
              " 3890.634150390625,\n",
              " 3853.24111328125,\n",
              " 3817.94779296875,\n",
              " 3778.950859375,\n",
              " 3740.8216015625,\n",
              " 3701.913046875,\n",
              " 3661.26564453125,\n",
              " 3621.8654296875,\n",
              " 3581.97203125,\n",
              " 3541.732421875,\n",
              " 3502.19751953125,\n",
              " 3460.77408203125,\n",
              " 3420.377275390625,\n",
              " 3380.305546875,\n",
              " 3336.904716796875,\n",
              " 3294.40416015625,\n",
              " 3250.57955078125,\n",
              " 3205.92443359375,\n",
              " 3156.499892578125,\n",
              " 3110.82638671875,\n",
              " 3063.4154736328123,\n",
              " 3014.310205078125,\n",
              " 2964.9894140625,\n",
              " 2916.0842578125,\n",
              " 2863.46724609375,\n",
              " 2811.66001953125,\n",
              " 2762.18701171875,\n",
              " 2712.3799462890624,\n",
              " 2661.499384765625,\n",
              " 2611.521650390625,\n",
              " 2562.501896972656,\n",
              " 2509.86068359375,\n",
              " 2457.254912109375,\n",
              " 2403.2278515625,\n",
              " 2350.7818798828125,\n",
              " 2294.0915087890626,\n",
              " 2236.923056640625,\n",
              " 2179.70498046875,\n",
              " 2123.03470703125,\n",
              " 2061.658466796875,\n",
              " 2002.749814453125,\n",
              " 1939.8551513671875,\n",
              " 1877.1699072265626,\n",
              " 1817.174365234375,\n",
              " 1754.790673828125,\n",
              " 1691.845693359375,\n",
              " 1629.3452587890624,\n",
              " 1570.014755859375,\n",
              " 1508.7194946289062,\n",
              " 1449.991083984375,\n",
              " 1393.7510009765624,\n",
              " 1333.409521484375,\n",
              " 1275.955029296875,\n",
              " 1215.9429565429687,\n",
              " 1159.1667797851562,\n",
              " 1104.3545068359374,\n",
              " 1049.4637939453125,\n",
              " 994.51439453125,\n",
              " 938.1238061523437,\n",
              " 889.1594384765625,\n",
              " 837.339951171875,\n",
              " 789.4380639648438,\n",
              " 740.045986328125,\n",
              " 694.992236328125,\n",
              " 647.7820568847657,\n",
              " 603.576298828125,\n",
              " 562.737119140625,\n",
              " 522.4221435546875,\n",
              " 481.7158264160156,\n",
              " 444.3604162597656,\n",
              " 407.081748046875,\n",
              " 374.7816015625,\n",
              " 342.4522644042969,\n",
              " 313.14781005859373,\n",
              " 284.98021423339844,\n",
              " 259.6252075195313,\n",
              " 237.32648223876953,\n",
              " 214.72133361816407,\n",
              " 195.42767333984375,\n",
              " 177.33614349365234,\n",
              " 159.64509521484376,\n",
              " 143.67293029785156,\n",
              " 129.07355377197266,\n",
              " 115.40971374511719,\n",
              " 103.42395324707032,\n",
              " 92.69958679199219,\n",
              " 83.51457069396973,\n",
              " 74.70114379882813,\n",
              " 67.52909088134766,\n",
              " 60.993853149414065,\n",
              " 55.20634460449219,\n",
              " 49.893790283203124,\n",
              " 44.99379791259766,\n",
              " 40.91808036804199,\n",
              " 37.440803089141845,\n",
              " 34.338486175537106,\n",
              " 31.99601905822754,\n",
              " 29.709257888793946,\n",
              " 27.952854614257813,\n",
              " 26.43701889038086,\n",
              " 25.006837005615235,\n",
              " 23.910604858398436,\n",
              " 22.94753463745117,\n",
              " 22.159793014526368,\n",
              " 21.57109637260437,\n",
              " 21.109843139648437,\n",
              " 20.715135498046877,\n",
              " 20.3704052734375,\n",
              " 20.134137229919432,\n",
              " 19.875700149536133,\n",
              " 19.70918518066406,\n",
              " 19.60093994140625,\n",
              " 19.502802505493165,\n",
              " 19.398594818115235,\n",
              " 19.315937957763673,\n",
              " 19.2434680557251,\n",
              " 19.190981140136717,\n",
              " 19.136901321411134,\n",
              " 19.098377532958985,\n",
              " 19.078855667114258,\n",
              " 19.062761993408202,\n",
              " 19.0497721862793,\n",
              " 19.013920249938966,\n",
              " 18.999139709472658,\n",
              " 18.98499687194824,\n",
              " 18.97604919433594,\n",
              " 18.967801055908204,\n",
              " 18.97053674697876,\n",
              " 18.961462936401368,\n",
              " 18.95843765258789,\n",
              " 18.95057639360428,\n",
              " 18.957086486816408,\n",
              " 18.948716888427736,\n",
              " 18.94958824157715,\n",
              " 18.94736225128174,\n",
              " 18.942494411468505,\n",
              " 18.9347798538208,\n",
              " 18.93681640625,\n",
              " 18.935029907226564,\n",
              " 18.934278411865236,\n",
              " 18.93128959655762,\n",
              " 18.939376449584962,\n",
              " 18.935401763916015,\n",
              " 18.93839813232422,\n",
              " 18.946761169433593,\n",
              " 18.933885879516602,\n",
              " 18.923046112060547,\n",
              " 18.92709457397461,\n",
              " 18.917144622802734,\n",
              " 18.91734161376953,\n",
              " 18.91472930908203,\n",
              " 18.915491161346434,\n",
              " 18.916020927429198,\n",
              " 18.910503616333006,\n",
              " 18.908625411987305,\n",
              " 18.909287147521972,\n",
              " 18.905038242340087,\n",
              " 18.904626693725586,\n",
              " 18.90680953979492,\n",
              " 18.916235084533692,\n",
              " 18.919593200683593,\n",
              " 18.921693878173826,\n",
              " 18.92867973327637,\n",
              " 18.92184711456299,\n",
              " 18.92027229309082,\n",
              " 18.911749744415282,\n",
              " 18.910436058044432,\n",
              " 18.92109733581543,\n",
              " 18.911446228027344,\n",
              " 18.909018325805665,\n",
              " 18.908573150634766,\n",
              " 18.90002914428711,\n",
              " 18.89689437866211,\n",
              " 18.895397720336913,\n",
              " 18.893007926940918,\n",
              " 18.89663497924805,\n",
              " 18.894793701171874,\n",
              " 18.906158866882325,\n",
              " 18.905550994873046,\n",
              " 18.91224901199341,\n",
              " 18.919720001220703,\n",
              " 18.91534606933594,\n",
              " 18.910289611816406,\n",
              " 18.900601139068602,\n",
              " 18.904369354248047,\n",
              " 18.9053210067749,\n",
              " 18.893980712890624,\n",
              " 18.8850537109375,\n",
              " 18.878475227355956,\n",
              " 18.870666542053222,\n",
              " 18.849205751419067,\n",
              " 18.854878158569335,\n",
              " 18.839568786621093,\n",
              " 18.838330841064455,\n",
              " 18.83276481628418,\n",
              " 18.853590755462648,\n",
              " 18.845525436401367,\n",
              " 18.848481369018554]"
            ]
          },
          "metadata": {
            "tags": []
          },
          "execution_count": 46
        }
      ]
    },
    {
      "cell_type": "code",
      "metadata": {
        "id": "gxVfftyjJjrH",
        "colab_type": "code",
        "colab": {
          "base_uri": "https://localhost:8080/",
          "height": 286
        },
        "outputId": "d79deea7-58b5-422f-8910-b46868749c6e"
      },
      "source": [
        "# plot loss vs epoch\n",
        "epochs = range(len(loss))\n",
        "\n",
        "plt.plot(epochs, loss)\n"
      ],
      "execution_count": 47,
      "outputs": [
        {
          "output_type": "execute_result",
          "data": {
            "text/plain": [
              "[<matplotlib.lines.Line2D at 0x7f50301c4e80>]"
            ]
          },
          "metadata": {
            "tags": []
          },
          "execution_count": 47
        },
        {
          "output_type": "display_data",
          "data": {
            "image/png": "[encoded data removed]",
            "text/plain": [
              "<Figure size 432x288 with 1 Axes>"
            ]
          },
          "metadata": {
            "tags": []
          }
        }
      ]
    },
    {
      "cell_type": "code",
      "metadata": {
        "id": "j2FuyMheLymo",
        "colab_type": "code",
        "colab": {}
      },
      "source": [
        "# Make predictions\n",
        "x_for_predict = np.linspace(0, 50, 100)\n",
        "\n",
        "y_predict = model.predict(x_for_predict)"
      ],
      "execution_count": 0,
      "outputs": []
    },
    {
      "cell_type": "code",
      "metadata": {
        "id": "kk90kEe4RWXW",
        "colab_type": "code",
        "colab": {
          "base_uri": "https://localhost:8080/",
          "height": 286
        },
        "outputId": "03332496-927f-4a79-fc2b-1bcbd74c8303"
      },
      "source": [
        "# plot predictions\n",
        "plt.plot(x, y, '*')\n",
        "plt.plot(x_for_predict, y_predict, 'r')"
      ],
      "execution_count": 51,
      "outputs": [
        {
          "output_type": "execute_result",
          "data": {
            "text/plain": [
              "[<matplotlib.lines.Line2D at 0x7f50300cae80>]"
            ]
          },
          "metadata": {
            "tags": []
          },
          "execution_count": 51
        },
        {
          "output_type": "display_data",
          "data": {
            "image/png": "[encoded data removed]",
            "text/plain": [
              "<Figure size 432x288 with 1 Axes>"
            ]
          },
          "metadata": {
            "tags": []
          }
        }
      ]
    },
    {
      "cell_type": "code",
      "metadata": {
        "id": "i9RijR2hRsFu",
        "colab_type": "code",
        "colab": {}
      },
      "source": [
        "# evaluate error\n",
        "from sklearn.metrics import mean_squared_error"
      ],
      "execution_count": 0,
      "outputs": []
    },
    {
      "cell_type": "code",
      "metadata": {
        "id": "2hO55FHhSXyg",
        "colab_type": "code",
        "colab": {
          "base_uri": "https://localhost:8080/",
          "height": 34
        },
        "outputId": "fc9bac8d-9e71-4abd-b048-dcc1852909d9"
      },
      "source": [
        "mean_squared_error(y, y_predict)"
      ],
      "execution_count": 55,
      "outputs": [
        {
          "output_type": "execute_result",
          "data": {
            "text/plain": [
              "18.84823615564345"
            ]
          },
          "metadata": {
            "tags": []
          },
          "execution_count": 55
        }
      ]
    }
  ]
}