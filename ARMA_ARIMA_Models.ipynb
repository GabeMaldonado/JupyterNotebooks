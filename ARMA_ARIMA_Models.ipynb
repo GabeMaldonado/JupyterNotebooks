{
  "nbformat": 4,
  "nbformat_minor": 0,
  "metadata": {
    "colab": {
      "name": "ARMA_ARIMA_Models.ipynb",
      "version": "0.3.2",
      "provenance": [],
      "collapsed_sections": [],
      "toc_visible": true,
      "include_colab_link": true
    },
    "kernelspec": {
      "name": "python3",
      "display_name": "Python 3"
    }
  },
  "cells": [
    {
      "cell_type": "markdown",
      "metadata": {
        "id": "view-in-github",
        "colab_type": "text"
      },
      "source": [
        "<a href=\"https://colab.research.google.com/github/GabeMaldonado/JupyterNotebooks/blob/master/ARMA_ARIMA_Models.ipynb\" target=\"_parent\"><img src=\"https://colab.research.google.com/assets/colab-badge.svg\" alt=\"Open In Colab\"/></a>"
      ]
    },
    {
      "cell_type": "markdown",
      "metadata": {
        "id": "-qXYuo1Fkp-W",
        "colab_type": "text"
      },
      "source": [
        "# CREATING ARMA AND ARIMA MODELS WITH PYTHON"
      ]
    },
    {
      "cell_type": "code",
      "metadata": {
        "id": "K7xsaN2_k1M_",
        "colab_type": "code",
        "colab": {}
      },
      "source": [
        "import pandas as pd\n",
        "import numpy as np\n",
        "%matplotlib inline"
      ],
      "execution_count": 0,
      "outputs": []
    },
    {
      "cell_type": "code",
      "metadata": {
        "id": "pSLeXFMpk8Nk",
        "colab_type": "code",
        "colab": {}
      },
      "source": [
        "# ignore warnings\n",
        "\n",
        "import warnings \n",
        "warnings.filterwarnings(\"ignore\")"
      ],
      "execution_count": 0,
      "outputs": []
    },
    {
      "cell_type": "markdown",
      "metadata": {
        "id": "SMmvhA7slege",
        "colab_type": "text"
      },
      "source": [
        "Load forecasting tools"
      ]
    },
    {
      "cell_type": "code",
      "metadata": {
        "id": "uXa1WzG9laAd",
        "colab_type": "code",
        "colab": {}
      },
      "source": [
        "from statsmodels.tsa.arima_model import ARMA, ARIMA, ARMAResults"
      ],
      "execution_count": 0,
      "outputs": []
    },
    {
      "cell_type": "code",
      "metadata": {
        "id": "VSaEwDD2lv07",
        "colab_type": "code",
        "colab": {}
      },
      "source": [
        "from statsmodels.graphics.tsaplots import plot_acf, plot_pacf"
      ],
      "execution_count": 0,
      "outputs": []
    },
    {
      "cell_type": "code",
      "metadata": {
        "id": "Z7vzRYEf1a0W",
        "colab_type": "code",
        "colab": {
          "base_uri": "https://localhost:8080/",
          "height": 497
        },
        "outputId": "92cb3cee-cd8e-4b5d-bb72-33499a1618ec"
      },
      "source": [
        "pip install pmdarima\n"
      ],
      "execution_count": 6,
      "outputs": [
        {
          "output_type": "stream",
          "text": [
            "Collecting pmdarima\n",
            "\u001b[?25l  Downloading https://files.pythonhosted.org/packages/28/1d/1cf4dd83f3c129774343a642d4d42f9ad727d0d02f757893ea9c67514d78/pmdarima-1.2.1-cp36-cp36m-manylinux1_x86_64.whl (913kB)\n",
            "\u001b[K     |████████████████████████████████| 921kB 4.6MB/s \n",
            "\u001b[?25hRequirement already satisfied: Cython>=0.29 in /usr/local/lib/python3.6/dist-packages (from pmdarima) (0.29.10)\n",
            "Requirement already satisfied: numpy>=1.15 in /usr/local/lib/python3.6/dist-packages (from pmdarima) (1.16.4)\n",
            "Requirement already satisfied: six>=1.5 in /usr/local/lib/python3.6/dist-packages (from pmdarima) (1.12.0)\n",
            "Collecting scipy<1.3,>=1.2 (from pmdarima)\n",
            "\u001b[?25l  Downloading https://files.pythonhosted.org/packages/83/69/20c8f3b7efe362093dff891239551ff90d4c463b5f52676e2694fea09442/scipy-1.2.2-cp36-cp36m-manylinux1_x86_64.whl (24.8MB)\n",
            "\u001b[K     |████████████████████████████████| 24.8MB 1.2MB/s \n",
            "\u001b[?25hRequirement already satisfied: statsmodels>=0.9.0 in /usr/local/lib/python3.6/dist-packages (from pmdarima) (0.10.0)\n",
            "Requirement already satisfied: scikit-learn>=0.19 in /usr/local/lib/python3.6/dist-packages (from pmdarima) (0.21.2)\n",
            "Requirement already satisfied: pandas>=0.19 in /usr/local/lib/python3.6/dist-packages (from pmdarima) (0.24.2)\n",
            "Requirement already satisfied: joblib>=0.11 in /usr/local/lib/python3.6/dist-packages (from pmdarima) (0.13.2)\n",
            "Requirement already satisfied: patsy>=0.4.0 in /usr/local/lib/python3.6/dist-packages (from statsmodels>=0.9.0->pmdarima) (0.5.1)\n",
            "Requirement already satisfied: pytz>=2011k in /usr/local/lib/python3.6/dist-packages (from pandas>=0.19->pmdarima) (2018.9)\n",
            "Requirement already satisfied: python-dateutil>=2.5.0 in /usr/local/lib/python3.6/dist-packages (from pandas>=0.19->pmdarima) (2.5.3)\n",
            "\u001b[31mERROR: albumentations 0.1.12 has requirement imgaug<0.2.7,>=0.2.5, but you'll have imgaug 0.2.9 which is incompatible.\u001b[0m\n",
            "Installing collected packages: scipy, pmdarima\n",
            "  Found existing installation: scipy 1.3.0\n",
            "    Uninstalling scipy-1.3.0:\n",
            "      Successfully uninstalled scipy-1.3.0\n",
            "Successfully installed pmdarima-1.2.1 scipy-1.2.2\n"
          ],
          "name": "stdout"
        },
        {
          "output_type": "display_data",
          "data": {
            "application/vnd.colab-display-data+json": {
              "pip_warning": {
                "packages": [
                  "scipy"
                ]
              }
            }
          },
          "metadata": {
            "tags": []
          }
        }
      ]
    },
    {
      "cell_type": "code",
      "metadata": {
        "id": "gGGHxnRUnQ6t",
        "colab_type": "code",
        "colab": {}
      },
      "source": [
        "from pmdarima import auto_arima"
      ],
      "execution_count": 0,
      "outputs": []
    },
    {
      "cell_type": "markdown",
      "metadata": {
        "id": "K9B9NQHYnhzN",
        "colab_type": "text"
      },
      "source": [
        "Load data"
      ]
    },
    {
      "cell_type": "code",
      "metadata": {
        "id": "B-KXGa-inabn",
        "colab_type": "code",
        "colab": {}
      },
      "source": [
        "df1  = pd.read_csv('DailyTotalFemaleBirths.csv', index_col = \"Date\", parse_dates = True)\n",
        "df1.index.freq = 'D'"
      ],
      "execution_count": 0,
      "outputs": []
    },
    {
      "cell_type": "markdown",
      "metadata": {
        "id": "ULapbzJRotL8",
        "colab_type": "text"
      },
      "source": [
        "Grab the first four months of data."
      ]
    },
    {
      "cell_type": "code",
      "metadata": {
        "id": "trkarnsFoAYM",
        "colab_type": "code",
        "colab": {}
      },
      "source": [
        "df1 = df1[:120]"
      ],
      "execution_count": 0,
      "outputs": []
    },
    {
      "cell_type": "code",
      "metadata": {
        "id": "sCuopHthpBVZ",
        "colab_type": "code",
        "colab": {}
      },
      "source": [
        "# Read in the TradeInventories dataset\n",
        "\n",
        "df2 = pd.read_csv('TradeInventories.csv', index_col = 'Date', parse_dates = True)\n",
        "df2.index.freq = 'MS'"
      ],
      "execution_count": 0,
      "outputs": []
    },
    {
      "cell_type": "markdown",
      "metadata": {
        "id": "-U7iL7KurH16",
        "colab_type": "text"
      },
      "source": [
        "## Auto Regressive Moving Average (ARMA) Model"
      ]
    },
    {
      "cell_type": "code",
      "metadata": {
        "id": "jf_cLFzFpji4",
        "colab_type": "code",
        "colab": {
          "base_uri": "https://localhost:8080/",
          "height": 349
        },
        "outputId": "6adb5a51-59d1-4e8d-d55c-d842284a9d07"
      },
      "source": [
        "# Plot the data \n",
        "df1['Births'].plot(figsize = (12, 5));"
      ],
      "execution_count": 11,
      "outputs": [
        {
          "output_type": "display_data",
          "data": {
            "image/png": "[encoded data removed]",
            "text/plain": [
              "<Figure size 864x360 with 1 Axes>"
            ]
          },
          "metadata": {
            "tags": []
          }
        }
      ]
    },
    {
      "cell_type": "markdown",
      "metadata": {
        "id": "LrKfehpht3Ff",
        "colab_type": "text"
      },
      "source": [
        " Run ADF_TEST function which performs and augmente Dickey-Fuller test"
      ]
    },
    {
      "cell_type": "code",
      "metadata": {
        "id": "_St8c9s-sWKk",
        "colab_type": "code",
        "colab": {}
      },
      "source": [
        "\n",
        "\n",
        "from statsmodels.tsa.stattools import adfuller\n",
        "\n",
        "def adf_test(series,title=''):\n",
        "    \"\"\"\n",
        "    Pass in a time series and an optional title, returns an ADF report\n",
        "    \"\"\"\n",
        "    print(f'Augmented Dickey-Fuller Test: {title}')\n",
        "    result = adfuller(series.dropna(),autolag='AIC') # .dropna() handles differenced data\n",
        "    \n",
        "    labels = ['ADF test statistic','p-value','# lags used','# observations']\n",
        "    out = pd.Series(result[0:4],index=labels)\n",
        "\n",
        "    for key,val in result[4].items():\n",
        "        out[f'critical value ({key})']=val\n",
        "        \n",
        "    print(out.to_string())          # .to_string() removes the line \"dtype: float64\"\n",
        "    \n",
        "    if result[1] <= 0.05:\n",
        "        print(\"Strong evidence against the null hypothesis\")\n",
        "        print(\"Reject the null hypothesis\")\n",
        "        print(\"Data has no unit root and is stationary\")\n",
        "    else:\n",
        "        print(\"Weak evidence against the null hypothesis\")\n",
        "        print(\"Fail to reject the null hypothesis\")\n",
        "        print(\"Data has a unit root and is non-stationary\")"
      ],
      "execution_count": 0,
      "outputs": []
    },
    {
      "cell_type": "code",
      "metadata": {
        "id": "D8iU5IpWtd5F",
        "colab_type": "code",
        "colab": {
          "base_uri": "https://localhost:8080/",
          "height": 204
        },
        "outputId": "f6428fff-3eb5-403a-e1d7-083a4c93dda5"
      },
      "source": [
        "adf_test(df1['Births'])"
      ],
      "execution_count": 13,
      "outputs": [
        {
          "output_type": "stream",
          "text": [
            "Augmented Dickey-Fuller Test: \n",
            "ADF test statistic     -9.855384e+00\n",
            "p-value                 4.373545e-17\n",
            "# lags used             0.000000e+00\n",
            "# observations          1.190000e+02\n",
            "critical value (1%)    -3.486535e+00\n",
            "critical value (5%)    -2.886151e+00\n",
            "critical value (10%)   -2.579896e+00\n",
            "Strong evidence against the null hypothesis\n",
            "Reject the null hypothesis\n",
            "Data has no unit root and is stationary\n"
          ],
          "name": "stdout"
        }
      ]
    },
    {
      "cell_type": "markdown",
      "metadata": {
        "id": "vL2Vnu2-uA0p",
        "colab_type": "text"
      },
      "source": [
        "Perform auto ARIMA "
      ]
    },
    {
      "cell_type": "code",
      "metadata": {
        "id": "PRs2olMVtzQ6",
        "colab_type": "code",
        "colab": {
          "base_uri": "https://localhost:8080/",
          "height": 472
        },
        "outputId": "62751ab9-3e8f-4315-f91a-e7b3bf4c4378"
      },
      "source": [
        "auto_arima(df1['Births'], seasonal = False).summary()"
      ],
      "execution_count": 14,
      "outputs": [
        {
          "output_type": "stream",
          "text": [
            "/usr/local/lib/python3.6/dist-packages/statsmodels/base/model.py:492: HessianInversionWarning: Inverting hessian failed, no bse or cov_params available\n",
            "  'available', HessianInversionWarning)\n"
          ],
          "name": "stderr"
        },
        {
          "output_type": "execute_result",
          "data": {
            "text/html": [
              "<table class=\"simpletable\">\n",
              "<caption>ARMA Model Results</caption>\n",
              "<tr>\n",
              "  <th>Dep. Variable:</th>         <td>y</td>        <th>  No. Observations:  </th>    <td>120</td>  \n",
              "</tr>\n",
              "<tr>\n",
              "  <th>Model:</th>            <td>ARMA(2, 2)</td>    <th>  Log Likelihood     </th> <td>-405.370</td>\n",
              "</tr>\n",
              "<tr>\n",
              "  <th>Method:</th>             <td>css-mle</td>     <th>  S.D. of innovations</th>   <td>6.991</td> \n",
              "</tr>\n",
              "<tr>\n",
              "  <th>Date:</th>          <td>Wed, 10 Jul 2019</td> <th>  AIC                </th>  <td>822.741</td>\n",
              "</tr>\n",
              "<tr>\n",
              "  <th>Time:</th>              <td>01:10:09</td>     <th>  BIC                </th>  <td>839.466</td>\n",
              "</tr>\n",
              "<tr>\n",
              "  <th>Sample:</th>                <td>0</td>        <th>  HQIC               </th>  <td>829.533</td>\n",
              "</tr>\n",
              "<tr>\n",
              "  <th></th>                       <td> </td>        <th>                     </th>     <td> </td>   \n",
              "</tr>\n",
              "</table>\n",
              "<table class=\"simpletable\">\n",
              "<tr>\n",
              "     <td></td>        <th>coef</th>     <th>std err</th>      <th>z</th>      <th>P>|z|</th>  <th>[0.025</th>    <th>0.975]</th>  \n",
              "</tr>\n",
              "<tr>\n",
              "  <th>const</th>   <td>   39.8163</td> <td>    0.108</td> <td>  368.848</td> <td> 0.000</td> <td>   39.605</td> <td>   40.028</td>\n",
              "</tr>\n",
              "<tr>\n",
              "  <th>ar.L1.y</th> <td>    1.8569</td> <td>    0.081</td> <td>   22.935</td> <td> 0.000</td> <td>    1.698</td> <td>    2.016</td>\n",
              "</tr>\n",
              "<tr>\n",
              "  <th>ar.L2.y</th> <td>   -0.8814</td> <td>    0.073</td> <td>  -12.032</td> <td> 0.000</td> <td>   -1.025</td> <td>   -0.738</td>\n",
              "</tr>\n",
              "<tr>\n",
              "  <th>ma.L1.y</th> <td>   -1.8634</td> <td>    0.109</td> <td>  -17.126</td> <td> 0.000</td> <td>   -2.077</td> <td>   -1.650</td>\n",
              "</tr>\n",
              "<tr>\n",
              "  <th>ma.L2.y</th> <td>    0.8634</td> <td>    0.108</td> <td>    8.020</td> <td> 0.000</td> <td>    0.652</td> <td>    1.074</td>\n",
              "</tr>\n",
              "</table>\n",
              "<table class=\"simpletable\">\n",
              "<caption>Roots</caption>\n",
              "<tr>\n",
              "    <td></td>   <th>            Real</th>  <th>         Imaginary</th> <th>         Modulus</th>  <th>        Frequency</th>\n",
              "</tr>\n",
              "<tr>\n",
              "  <th>AR.1</th> <td>           1.0533</td> <td>          -0.1582j</td> <td>           1.0651</td> <td>          -0.0237</td>\n",
              "</tr>\n",
              "<tr>\n",
              "  <th>AR.2</th> <td>           1.0533</td> <td>          +0.1582j</td> <td>           1.0651</td> <td>           0.0237</td>\n",
              "</tr>\n",
              "<tr>\n",
              "  <th>MA.1</th> <td>           1.0000</td> <td>          +0.0000j</td> <td>           1.0000</td> <td>           0.0000</td>\n",
              "</tr>\n",
              "<tr>\n",
              "  <th>MA.2</th> <td>           1.1582</td> <td>          +0.0000j</td> <td>           1.1582</td> <td>           0.0000</td>\n",
              "</tr>\n",
              "</table>"
            ],
            "text/plain": [
              "<class 'statsmodels.iolib.summary.Summary'>\n",
              "\"\"\"\n",
              "                              ARMA Model Results                              \n",
              "==============================================================================\n",
              "Dep. Variable:                      y   No. Observations:                  120\n",
              "Model:                     ARMA(2, 2)   Log Likelihood                -405.370\n",
              "Method:                       css-mle   S.D. of innovations              6.991\n",
              "Date:                Wed, 10 Jul 2019   AIC                            822.741\n",
              "Time:                        01:10:09   BIC                            839.466\n",
              "Sample:                             0   HQIC                           829.533\n",
              "                                                                              \n",
              "==============================================================================\n",
              "                 coef    std err          z      P>|z|      [0.025      0.975]\n",
              "------------------------------------------------------------------------------\n",
              "const         39.8163      0.108    368.848      0.000      39.605      40.028\n",
              "ar.L1.y        1.8569      0.081     22.935      0.000       1.698       2.016\n",
              "ar.L2.y       -0.8814      0.073    -12.032      0.000      -1.025      -0.738\n",
              "ma.L1.y       -1.8634      0.109    -17.126      0.000      -2.077      -1.650\n",
              "ma.L2.y        0.8634      0.108      8.020      0.000       0.652       1.074\n",
              "                                    Roots                                    \n",
              "=============================================================================\n",
              "                  Real          Imaginary           Modulus         Frequency\n",
              "-----------------------------------------------------------------------------\n",
              "AR.1            1.0533           -0.1582j            1.0651           -0.0237\n",
              "AR.2            1.0533           +0.1582j            1.0651            0.0237\n",
              "MA.1            1.0000           +0.0000j            1.0000            0.0000\n",
              "MA.2            1.1582           +0.0000j            1.1582            0.0000\n",
              "-----------------------------------------------------------------------------\n",
              "\"\"\""
            ]
          },
          "metadata": {
            "tags": []
          },
          "execution_count": 14
        }
      ]
    },
    {
      "cell_type": "markdown",
      "metadata": {
        "id": "ZVXDclysu4M-",
        "colab_type": "text"
      },
      "source": [
        "The summary suggests an ARMA model of order 2. \n",
        "We need to split our data into a test and train sets. Since we are attempting to do a one month forecast, ~25% of our data needs to be used for the test set. "
      ]
    },
    {
      "cell_type": "code",
      "metadata": {
        "id": "1yDEfQmDuP7c",
        "colab_type": "code",
        "colab": {}
      },
      "source": [
        "# Create train and test sets\n",
        "\n",
        "train = df1.iloc[:90]\n",
        "test  = df1.iloc[90:]"
      ],
      "execution_count": 0,
      "outputs": []
    },
    {
      "cell_type": "code",
      "metadata": {
        "id": "vQtH6SzRwW-L",
        "colab_type": "code",
        "colab": {}
      },
      "source": [
        "# create model\n",
        "\n",
        "model = ARMA(train['Births'], order = (2,2))"
      ],
      "execution_count": 0,
      "outputs": []
    },
    {
      "cell_type": "code",
      "metadata": {
        "id": "0y4RqsuPwrWb",
        "colab_type": "code",
        "colab": {}
      },
      "source": [
        "# Fit the model\n",
        "\n",
        "results = model.fit()"
      ],
      "execution_count": 0,
      "outputs": []
    },
    {
      "cell_type": "code",
      "metadata": {
        "id": "GTiWDK_Qw1wd",
        "colab_type": "code",
        "colab": {
          "base_uri": "https://localhost:8080/",
          "height": 435
        },
        "outputId": "0a940f4f-6a94-4828-c7dc-952e9de7cec9"
      },
      "source": [
        "\n",
        "# Get model's summary\n",
        "\n",
        "results.summary()"
      ],
      "execution_count": 18,
      "outputs": [
        {
          "output_type": "execute_result",
          "data": {
            "text/html": [
              "<table class=\"simpletable\">\n",
              "<caption>ARMA Model Results</caption>\n",
              "<tr>\n",
              "  <th>Dep. Variable:</th>      <td>Births</td>      <th>  No. Observations:  </th>    <td>90</td>   \n",
              "</tr>\n",
              "<tr>\n",
              "  <th>Model:</th>            <td>ARMA(2, 2)</td>    <th>  Log Likelihood     </th> <td>-307.905</td>\n",
              "</tr>\n",
              "<tr>\n",
              "  <th>Method:</th>             <td>css-mle</td>     <th>  S.D. of innovations</th>   <td>7.405</td> \n",
              "</tr>\n",
              "<tr>\n",
              "  <th>Date:</th>          <td>Wed, 10 Jul 2019</td> <th>  AIC                </th>  <td>627.809</td>\n",
              "</tr>\n",
              "<tr>\n",
              "  <th>Time:</th>              <td>01:10:09</td>     <th>  BIC                </th>  <td>642.808</td>\n",
              "</tr>\n",
              "<tr>\n",
              "  <th>Sample:</th>           <td>01-01-1959</td>    <th>  HQIC               </th>  <td>633.858</td>\n",
              "</tr>\n",
              "<tr>\n",
              "  <th></th>                 <td>- 03-31-1959</td>   <th>                     </th>     <td> </td>   \n",
              "</tr>\n",
              "</table>\n",
              "<table class=\"simpletable\">\n",
              "<tr>\n",
              "        <td></td>          <th>coef</th>     <th>std err</th>      <th>z</th>      <th>P>|z|</th>  <th>[0.025</th>    <th>0.975]</th>  \n",
              "</tr>\n",
              "<tr>\n",
              "  <th>const</th>        <td>   39.7549</td> <td>    0.912</td> <td>   43.607</td> <td> 0.000</td> <td>   37.968</td> <td>   41.542</td>\n",
              "</tr>\n",
              "<tr>\n",
              "  <th>ar.L1.Births</th> <td>   -0.1850</td> <td>    1.087</td> <td>   -0.170</td> <td> 0.865</td> <td>   -2.315</td> <td>    1.945</td>\n",
              "</tr>\n",
              "<tr>\n",
              "  <th>ar.L2.Births</th> <td>    0.4352</td> <td>    0.644</td> <td>    0.675</td> <td> 0.501</td> <td>   -0.828</td> <td>    1.698</td>\n",
              "</tr>\n",
              "<tr>\n",
              "  <th>ma.L1.Births</th> <td>    0.2777</td> <td>    1.097</td> <td>    0.253</td> <td> 0.801</td> <td>   -1.872</td> <td>    2.427</td>\n",
              "</tr>\n",
              "<tr>\n",
              "  <th>ma.L2.Births</th> <td>   -0.3999</td> <td>    0.679</td> <td>   -0.589</td> <td> 0.557</td> <td>   -1.730</td> <td>    0.930</td>\n",
              "</tr>\n",
              "</table>\n",
              "<table class=\"simpletable\">\n",
              "<caption>Roots</caption>\n",
              "<tr>\n",
              "    <td></td>   <th>            Real</th>  <th>         Imaginary</th> <th>         Modulus</th>  <th>        Frequency</th>\n",
              "</tr>\n",
              "<tr>\n",
              "  <th>AR.1</th> <td>          -1.3181</td> <td>          +0.0000j</td> <td>           1.3181</td> <td>           0.5000</td>\n",
              "</tr>\n",
              "<tr>\n",
              "  <th>AR.2</th> <td>           1.7434</td> <td>          +0.0000j</td> <td>           1.7434</td> <td>           0.0000</td>\n",
              "</tr>\n",
              "<tr>\n",
              "  <th>MA.1</th> <td>          -1.2718</td> <td>          +0.0000j</td> <td>           1.2718</td> <td>           0.5000</td>\n",
              "</tr>\n",
              "<tr>\n",
              "  <th>MA.2</th> <td>           1.9662</td> <td>          +0.0000j</td> <td>           1.9662</td> <td>           0.0000</td>\n",
              "</tr>\n",
              "</table>"
            ],
            "text/plain": [
              "<class 'statsmodels.iolib.summary.Summary'>\n",
              "\"\"\"\n",
              "                              ARMA Model Results                              \n",
              "==============================================================================\n",
              "Dep. Variable:                 Births   No. Observations:                   90\n",
              "Model:                     ARMA(2, 2)   Log Likelihood                -307.905\n",
              "Method:                       css-mle   S.D. of innovations              7.405\n",
              "Date:                Wed, 10 Jul 2019   AIC                            627.809\n",
              "Time:                        01:10:09   BIC                            642.808\n",
              "Sample:                    01-01-1959   HQIC                           633.858\n",
              "                         - 03-31-1959                                         \n",
              "================================================================================\n",
              "                   coef    std err          z      P>|z|      [0.025      0.975]\n",
              "--------------------------------------------------------------------------------\n",
              "const           39.7549      0.912     43.607      0.000      37.968      41.542\n",
              "ar.L1.Births    -0.1850      1.087     -0.170      0.865      -2.315       1.945\n",
              "ar.L2.Births     0.4352      0.644      0.675      0.501      -0.828       1.698\n",
              "ma.L1.Births     0.2777      1.097      0.253      0.801      -1.872       2.427\n",
              "ma.L2.Births    -0.3999      0.679     -0.589      0.557      -1.730       0.930\n",
              "                                    Roots                                    \n",
              "=============================================================================\n",
              "                  Real          Imaginary           Modulus         Frequency\n",
              "-----------------------------------------------------------------------------\n",
              "AR.1           -1.3181           +0.0000j            1.3181            0.5000\n",
              "AR.2            1.7434           +0.0000j            1.7434            0.0000\n",
              "MA.1           -1.2718           +0.0000j            1.2718            0.5000\n",
              "MA.2            1.9662           +0.0000j            1.9662            0.0000\n",
              "-----------------------------------------------------------------------------\n",
              "\"\"\""
            ]
          },
          "metadata": {
            "tags": []
          },
          "execution_count": 18
        }
      ]
    },
    {
      "cell_type": "code",
      "metadata": {
        "id": "huT2kpYSw-p_",
        "colab_type": "code",
        "colab": {}
      },
      "source": [
        "# Forecast a month into the future\n",
        "\n",
        "start = len(train)\n",
        "end = len(train) + len(test) - 1"
      ],
      "execution_count": 0,
      "outputs": []
    },
    {
      "cell_type": "code",
      "metadata": {
        "id": "Fjt_aGcKxTIq",
        "colab_type": "code",
        "colab": {}
      },
      "source": [
        "# predict\n",
        "\n",
        "predictions = results.predict(start, end).rename('ARMA (2,2) Predictions')"
      ],
      "execution_count": 0,
      "outputs": []
    },
    {
      "cell_type": "code",
      "metadata": {
        "id": "io29Br4XxhnQ",
        "colab_type": "code",
        "colab": {
          "base_uri": "https://localhost:8080/",
          "height": 443
        },
        "outputId": "8b38b217-fa4a-4d3f-eb16-76f82d11ef1e"
      },
      "source": [
        "# Visualize Predictions\n",
        "\n",
        "test['Births'].plot(figsize = (12,6), legend = True);\n",
        "predictions.plot(legend = True)"
      ],
      "execution_count": 21,
      "outputs": [
        {
          "output_type": "execute_result",
          "data": {
            "text/plain": [
              "<matplotlib.axes._subplots.AxesSubplot at 0x7f9eed629390>"
            ]
          },
          "metadata": {
            "tags": []
          },
          "execution_count": 21
        },
        {
          "output_type": "display_data",
          "data": {
            "image/png": "[encoded data removed]",
            "text/plain": [
              "<Figure size 864x432 with 1 Axes>"
            ]
          },
          "metadata": {
            "tags": []
          }
        }
      ]
    },
    {
      "cell_type": "markdown",
      "metadata": {
        "id": "ZIMN6-qoy5mx",
        "colab_type": "text"
      },
      "source": [
        "The predicton looks linear but considering that the dataset showed no seasonality nor trend the predicton actually makes sense. Let's look at the mean of the test set and the mean of the predictions:\n"
      ]
    },
    {
      "cell_type": "code",
      "metadata": {
        "id": "8h812prQx1_h",
        "colab_type": "code",
        "colab": {
          "base_uri": "https://localhost:8080/",
          "height": 51
        },
        "outputId": "85f31e56-3319-4be0-a591-cff267547aa4"
      },
      "source": [
        "test.mean()"
      ],
      "execution_count": 22,
      "outputs": [
        {
          "output_type": "execute_result",
          "data": {
            "text/plain": [
              "Births    39.833333\n",
              "dtype: float64"
            ]
          },
          "metadata": {
            "tags": []
          },
          "execution_count": 22
        }
      ]
    },
    {
      "cell_type": "code",
      "metadata": {
        "id": "aVohveezzwvz",
        "colab_type": "code",
        "colab": {
          "base_uri": "https://localhost:8080/",
          "height": 34
        },
        "outputId": "8ceff651-75ab-4680-e8fb-783b86f0786e"
      },
      "source": [
        "predictions.mean()"
      ],
      "execution_count": 23,
      "outputs": [
        {
          "output_type": "execute_result",
          "data": {
            "text/plain": [
              "39.777434306528306"
            ]
          },
          "metadata": {
            "tags": []
          },
          "execution_count": 23
        }
      ]
    },
    {
      "cell_type": "markdown",
      "metadata": {
        "id": "HKsnxSxs0BMw",
        "colab_type": "text"
      },
      "source": [
        "As we can see, the model was not able to predict the noise in the data but it was able to predict the actual mean average for the next month worth of data. \n",
        "\n",
        "# ARIMA MODEL"
      ]
    },
    {
      "cell_type": "code",
      "metadata": {
        "id": "NhaSQyLUzzSz",
        "colab_type": "code",
        "colab": {
          "base_uri": "https://localhost:8080/",
          "height": 409
        },
        "outputId": "f7abf68b-f33c-4351-b95a-466a4bcb96db"
      },
      "source": [
        "# plot the df\n",
        "\n",
        "df2.plot(figsize = (12 , 6))"
      ],
      "execution_count": 24,
      "outputs": [
        {
          "output_type": "execute_result",
          "data": {
            "text/plain": [
              "<matplotlib.axes._subplots.AxesSubplot at 0x7f9eefed9c50>"
            ]
          },
          "metadata": {
            "tags": []
          },
          "execution_count": 24
        },
        {
          "output_type": "display_data",
          "data": {
            "image/png": "[encoded data removed]",
            "text/plain": [
              "<Figure size 864x432 with 1 Axes>"
            ]
          },
          "metadata": {
            "tags": []
          }
        }
      ]
    },
    {
      "cell_type": "code",
      "metadata": {
        "id": "lfhFeoLI6IO7",
        "colab_type": "code",
        "colab": {}
      },
      "source": [
        " # Run a ETS Decomposition\n",
        "  \n",
        "  from statsmodels.tsa.seasonal import seasonal_decompose\n",
        "  "
      ],
      "execution_count": 0,
      "outputs": []
    },
    {
      "cell_type": "code",
      "metadata": {
        "id": "nOc8l2wa62Oy",
        "colab_type": "code",
        "colab": {
          "base_uri": "https://localhost:8080/",
          "height": 297
        },
        "outputId": "c0c27029-1c22-4ae5-db41-5c25d77f697a"
      },
      "source": [
        "result =  seasonal_decompose(df2['Inventories'], model = 'add')\n",
        "result.plot();"
      ],
      "execution_count": 26,
      "outputs": [
        {
          "output_type": "display_data",
          "data": {
            "image/png": "[encoded data removed]",
            "text/plain": [
              "<Figure size 432x288 with 4 Axes>"
            ]
          },
          "metadata": {
            "tags": []
          }
        }
      ]
    },
    {
      "cell_type": "code",
      "metadata": {
        "id": "zfy0gnEO69jh",
        "colab_type": "code",
        "colab": {
          "base_uri": "https://localhost:8080/",
          "height": 334
        },
        "outputId": "28954c06-c4b9-4be6-def1-8802e0a57623"
      },
      "source": [
        "# auto arima model\n",
        "\n",
        "auto_arima(df2['Inventories'], seasonal = False).summary()"
      ],
      "execution_count": 27,
      "outputs": [
        {
          "output_type": "execute_result",
          "data": {
            "text/html": [
              "<table class=\"simpletable\">\n",
              "<caption>ARIMA Model Results</caption>\n",
              "<tr>\n",
              "  <th>Dep. Variable:</th>        <td>D.y</td>       <th>  No. Observations:  </th>    <td>263</td>   \n",
              "</tr>\n",
              "<tr>\n",
              "  <th>Model:</th>          <td>ARIMA(1, 1, 1)</td>  <th>  Log Likelihood     </th> <td>-2610.253</td>\n",
              "</tr>\n",
              "<tr>\n",
              "  <th>Method:</th>             <td>css-mle</td>     <th>  S.D. of innovations</th> <td>4938.259</td> \n",
              "</tr>\n",
              "<tr>\n",
              "  <th>Date:</th>          <td>Wed, 10 Jul 2019</td> <th>  AIC                </th> <td>5228.505</td> \n",
              "</tr>\n",
              "<tr>\n",
              "  <th>Time:</th>              <td>01:10:12</td>     <th>  BIC                </th> <td>5242.794</td> \n",
              "</tr>\n",
              "<tr>\n",
              "  <th>Sample:</th>                <td>1</td>        <th>  HQIC               </th> <td>5234.247</td> \n",
              "</tr>\n",
              "<tr>\n",
              "  <th></th>                       <td> </td>        <th>                     </th>     <td> </td>    \n",
              "</tr>\n",
              "</table>\n",
              "<table class=\"simpletable\">\n",
              "<tr>\n",
              "      <td></td>         <th>coef</th>     <th>std err</th>      <th>z</th>      <th>P>|z|</th>  <th>[0.025</th>    <th>0.975]</th>  \n",
              "</tr>\n",
              "<tr>\n",
              "  <th>const</th>     <td> 3463.1883</td> <td> 1313.147</td> <td>    2.637</td> <td> 0.009</td> <td>  889.468</td> <td> 6036.909</td>\n",
              "</tr>\n",
              "<tr>\n",
              "  <th>ar.L1.D.y</th> <td>    0.9037</td> <td>    0.039</td> <td>   23.414</td> <td> 0.000</td> <td>    0.828</td> <td>    0.979</td>\n",
              "</tr>\n",
              "<tr>\n",
              "  <th>ma.L1.D.y</th> <td>   -0.5732</td> <td>    0.076</td> <td>   -7.545</td> <td> 0.000</td> <td>   -0.722</td> <td>   -0.424</td>\n",
              "</tr>\n",
              "</table>\n",
              "<table class=\"simpletable\">\n",
              "<caption>Roots</caption>\n",
              "<tr>\n",
              "    <td></td>   <th>            Real</th>  <th>         Imaginary</th> <th>         Modulus</th>  <th>        Frequency</th>\n",
              "</tr>\n",
              "<tr>\n",
              "  <th>AR.1</th> <td>           1.1066</td> <td>          +0.0000j</td> <td>           1.1066</td> <td>           0.0000</td>\n",
              "</tr>\n",
              "<tr>\n",
              "  <th>MA.1</th> <td>           1.7447</td> <td>          +0.0000j</td> <td>           1.7447</td> <td>           0.0000</td>\n",
              "</tr>\n",
              "</table>"
            ],
            "text/plain": [
              "<class 'statsmodels.iolib.summary.Summary'>\n",
              "\"\"\"\n",
              "                             ARIMA Model Results                              \n",
              "==============================================================================\n",
              "Dep. Variable:                    D.y   No. Observations:                  263\n",
              "Model:                 ARIMA(1, 1, 1)   Log Likelihood               -2610.253\n",
              "Method:                       css-mle   S.D. of innovations           4938.259\n",
              "Date:                Wed, 10 Jul 2019   AIC                           5228.505\n",
              "Time:                        01:10:12   BIC                           5242.794\n",
              "Sample:                             1   HQIC                          5234.247\n",
              "                                                                              \n",
              "==============================================================================\n",
              "                 coef    std err          z      P>|z|      [0.025      0.975]\n",
              "------------------------------------------------------------------------------\n",
              "const       3463.1883   1313.147      2.637      0.009     889.468    6036.909\n",
              "ar.L1.D.y      0.9037      0.039     23.414      0.000       0.828       0.979\n",
              "ma.L1.D.y     -0.5732      0.076     -7.545      0.000      -0.722      -0.424\n",
              "                                    Roots                                    \n",
              "=============================================================================\n",
              "                  Real          Imaginary           Modulus         Frequency\n",
              "-----------------------------------------------------------------------------\n",
              "AR.1            1.1066           +0.0000j            1.1066            0.0000\n",
              "MA.1            1.7447           +0.0000j            1.7447            0.0000\n",
              "-----------------------------------------------------------------------------\n",
              "\"\"\""
            ]
          },
          "metadata": {
            "tags": []
          },
          "execution_count": 27
        }
      ]
    },
    {
      "cell_type": "code",
      "metadata": {
        "id": "m9JKZWCx77a_",
        "colab_type": "code",
        "colab": {}
      },
      "source": [
        "# get the difference order 1\n",
        "\n",
        "from statsmodels.tsa.statespace.tools import diff"
      ],
      "execution_count": 0,
      "outputs": []
    },
    {
      "cell_type": "code",
      "metadata": {
        "id": "l3nG2Lws8dlF",
        "colab_type": "code",
        "colab": {}
      },
      "source": [
        "df2['Diff_1'] = diff(df2['Inventories'], k_diff=1)"
      ],
      "execution_count": 0,
      "outputs": []
    },
    {
      "cell_type": "code",
      "metadata": {
        "id": "xb_Lia9P8o4O",
        "colab_type": "code",
        "colab": {
          "base_uri": "https://localhost:8080/",
          "height": 204
        },
        "outputId": "b27d717e-7e46-4dac-b81a-041e4100c366"
      },
      "source": [
        "# run augmente Dickey-Fuller test on diff_1\n",
        "\n",
        "adf_test(df2['Diff_1'])"
      ],
      "execution_count": 30,
      "outputs": [
        {
          "output_type": "stream",
          "text": [
            "Augmented Dickey-Fuller Test: \n",
            "ADF test statistic       -3.412249\n",
            "p-value                   0.010548\n",
            "# lags used               4.000000\n",
            "# observations          258.000000\n",
            "critical value (1%)      -3.455953\n",
            "critical value (5%)      -2.872809\n",
            "critical value (10%)     -2.572775\n",
            "Strong evidence against the null hypothesis\n",
            "Reject the null hypothesis\n",
            "Data has no unit root and is stationary\n"
          ],
          "name": "stdout"
        }
      ]
    },
    {
      "cell_type": "code",
      "metadata": {
        "id": "e1I_dujI80TE",
        "colab_type": "code",
        "colab": {
          "base_uri": "https://localhost:8080/",
          "height": 281
        },
        "outputId": "4c8a2780-6864-495d-df25-ca493cef9e64"
      },
      "source": [
        "# plot acf and pacf\n",
        "\n",
        "plot_acf(df2['Inventories'], lags = 40);"
      ],
      "execution_count": 31,
      "outputs": [
        {
          "output_type": "display_data",
          "data": {
            "image/png": "[encoded data removed]",
            "text/plain": [
              "<Figure size 432x288 with 1 Axes>"
            ]
          },
          "metadata": {
            "tags": []
          }
        }
      ]
    },
    {
      "cell_type": "code",
      "metadata": {
        "id": "lQYcljnt9DKL",
        "colab_type": "code",
        "colab": {
          "base_uri": "https://localhost:8080/",
          "height": 281
        },
        "outputId": "8951180f-d2b8-40c3-9d5f-892770721604"
      },
      "source": [
        "plot_pacf(df2['Inventories'], lags = 40);"
      ],
      "execution_count": 32,
      "outputs": [
        {
          "output_type": "display_data",
          "data": {
            "image/png": "[encoded data removed]",
            "text/plain": [
              "<Figure size 432x288 with 1 Axes>"
            ]
          },
          "metadata": {
            "tags": []
          }
        }
      ]
    },
    {
      "cell_type": "code",
      "metadata": {
        "id": "XE9LjE0O9KM4",
        "colab_type": "code",
        "colab": {
          "base_uri": "https://localhost:8080/",
          "height": 487
        },
        "outputId": "b6b3dee8-5960-4ed4-ba74-0b8214d7c042"
      },
      "source": [
        "stepwise_fit = auto_arima(df2['Inventories'], start_p=0, start_q=0, max_p=2, max_q=2,\n",
        "                         seasonal = False, trace = True)\n",
        "\n",
        "stepwise_fit.summary()"
      ],
      "execution_count": 33,
      "outputs": [
        {
          "output_type": "stream",
          "text": [
            "Fit ARIMA: order=(0, 1, 0); AIC=5348.037, BIC=5355.181, Fit time=0.006 seconds\n",
            "Fit ARIMA: order=(1, 1, 0); AIC=5250.883, BIC=5261.599, Fit time=0.085 seconds\n",
            "Fit ARIMA: order=(0, 1, 1); AIC=5283.095, BIC=5293.811, Fit time=0.072 seconds\n",
            "Fit ARIMA: order=(2, 1, 0); AIC=5240.553, BIC=5254.842, Fit time=0.086 seconds\n",
            "Fit ARIMA: order=(2, 1, 1); AIC=5229.527, BIC=5247.388, Fit time=0.287 seconds\n",
            "Fit ARIMA: order=(1, 1, 1); AIC=5228.505, BIC=5242.794, Fit time=0.123 seconds\n",
            "Fit ARIMA: order=(1, 1, 2); AIC=5229.325, BIC=5247.186, Fit time=0.098 seconds\n",
            "Fit ARIMA: order=(2, 1, 2); AIC=nan, BIC=nan, Fit time=nan seconds\n",
            "Total fit time: 0.785 seconds\n"
          ],
          "name": "stdout"
        },
        {
          "output_type": "execute_result",
          "data": {
            "text/html": [
              "<table class=\"simpletable\">\n",
              "<caption>ARIMA Model Results</caption>\n",
              "<tr>\n",
              "  <th>Dep. Variable:</th>        <td>D.y</td>       <th>  No. Observations:  </th>    <td>263</td>   \n",
              "</tr>\n",
              "<tr>\n",
              "  <th>Model:</th>          <td>ARIMA(1, 1, 1)</td>  <th>  Log Likelihood     </th> <td>-2610.253</td>\n",
              "</tr>\n",
              "<tr>\n",
              "  <th>Method:</th>             <td>css-mle</td>     <th>  S.D. of innovations</th> <td>4938.259</td> \n",
              "</tr>\n",
              "<tr>\n",
              "  <th>Date:</th>          <td>Wed, 10 Jul 2019</td> <th>  AIC                </th> <td>5228.505</td> \n",
              "</tr>\n",
              "<tr>\n",
              "  <th>Time:</th>              <td>01:10:14</td>     <th>  BIC                </th> <td>5242.794</td> \n",
              "</tr>\n",
              "<tr>\n",
              "  <th>Sample:</th>                <td>1</td>        <th>  HQIC               </th> <td>5234.247</td> \n",
              "</tr>\n",
              "<tr>\n",
              "  <th></th>                       <td> </td>        <th>                     </th>     <td> </td>    \n",
              "</tr>\n",
              "</table>\n",
              "<table class=\"simpletable\">\n",
              "<tr>\n",
              "      <td></td>         <th>coef</th>     <th>std err</th>      <th>z</th>      <th>P>|z|</th>  <th>[0.025</th>    <th>0.975]</th>  \n",
              "</tr>\n",
              "<tr>\n",
              "  <th>const</th>     <td> 3463.1883</td> <td> 1313.147</td> <td>    2.637</td> <td> 0.009</td> <td>  889.468</td> <td> 6036.909</td>\n",
              "</tr>\n",
              "<tr>\n",
              "  <th>ar.L1.D.y</th> <td>    0.9037</td> <td>    0.039</td> <td>   23.414</td> <td> 0.000</td> <td>    0.828</td> <td>    0.979</td>\n",
              "</tr>\n",
              "<tr>\n",
              "  <th>ma.L1.D.y</th> <td>   -0.5732</td> <td>    0.076</td> <td>   -7.545</td> <td> 0.000</td> <td>   -0.722</td> <td>   -0.424</td>\n",
              "</tr>\n",
              "</table>\n",
              "<table class=\"simpletable\">\n",
              "<caption>Roots</caption>\n",
              "<tr>\n",
              "    <td></td>   <th>            Real</th>  <th>         Imaginary</th> <th>         Modulus</th>  <th>        Frequency</th>\n",
              "</tr>\n",
              "<tr>\n",
              "  <th>AR.1</th> <td>           1.1066</td> <td>          +0.0000j</td> <td>           1.1066</td> <td>           0.0000</td>\n",
              "</tr>\n",
              "<tr>\n",
              "  <th>MA.1</th> <td>           1.7447</td> <td>          +0.0000j</td> <td>           1.7447</td> <td>           0.0000</td>\n",
              "</tr>\n",
              "</table>"
            ],
            "text/plain": [
              "<class 'statsmodels.iolib.summary.Summary'>\n",
              "\"\"\"\n",
              "                             ARIMA Model Results                              \n",
              "==============================================================================\n",
              "Dep. Variable:                    D.y   No. Observations:                  263\n",
              "Model:                 ARIMA(1, 1, 1)   Log Likelihood               -2610.253\n",
              "Method:                       css-mle   S.D. of innovations           4938.259\n",
              "Date:                Wed, 10 Jul 2019   AIC                           5228.505\n",
              "Time:                        01:10:14   BIC                           5242.794\n",
              "Sample:                             1   HQIC                          5234.247\n",
              "                                                                              \n",
              "==============================================================================\n",
              "                 coef    std err          z      P>|z|      [0.025      0.975]\n",
              "------------------------------------------------------------------------------\n",
              "const       3463.1883   1313.147      2.637      0.009     889.468    6036.909\n",
              "ar.L1.D.y      0.9037      0.039     23.414      0.000       0.828       0.979\n",
              "ma.L1.D.y     -0.5732      0.076     -7.545      0.000      -0.722      -0.424\n",
              "                                    Roots                                    \n",
              "=============================================================================\n",
              "                  Real          Imaginary           Modulus         Frequency\n",
              "-----------------------------------------------------------------------------\n",
              "AR.1            1.1066           +0.0000j            1.1066            0.0000\n",
              "MA.1            1.7447           +0.0000j            1.7447            0.0000\n",
              "-----------------------------------------------------------------------------\n",
              "\"\"\""
            ]
          },
          "metadata": {
            "tags": []
          },
          "execution_count": 33
        }
      ]
    },
    {
      "cell_type": "code",
      "metadata": {
        "id": "MvWIl-r5_DsH",
        "colab_type": "code",
        "colab": {
          "base_uri": "https://localhost:8080/",
          "height": 34
        },
        "outputId": "cc3c5202-0d6a-4b81-8593-b035d0a6d2e1"
      },
      "source": [
        "# Train Model\n",
        "# split data into train and test sets\n",
        "\n",
        "len(df2)"
      ],
      "execution_count": 34,
      "outputs": [
        {
          "output_type": "execute_result",
          "data": {
            "text/plain": [
              "264"
            ]
          },
          "metadata": {
            "tags": []
          },
          "execution_count": 34
        }
      ]
    },
    {
      "cell_type": "code",
      "metadata": {
        "id": "7U9SbrKa_w_g",
        "colab_type": "code",
        "colab": {}
      },
      "source": [
        "train = df2.iloc[:252]\n",
        "\n",
        "# grab last year worth of data for testing\n",
        "\n",
        "test = df2.iloc[252:]"
      ],
      "execution_count": 0,
      "outputs": []
    },
    {
      "cell_type": "code",
      "metadata": {
        "id": "RbpSXe6vAE2b",
        "colab_type": "code",
        "colab": {
          "base_uri": "https://localhost:8080/",
          "height": 351
        },
        "outputId": "066fb82b-87c3-47c8-f7b1-7d9b984043c8"
      },
      "source": [
        "# Create the ARIMA model\n",
        "\n",
        "model = ARIMA(train['Inventories'], order = (1,1,1))\n",
        "results = model.fit()\n",
        "results.summary()"
      ],
      "execution_count": 36,
      "outputs": [
        {
          "output_type": "execute_result",
          "data": {
            "text/html": [
              "<table class=\"simpletable\">\n",
              "<caption>ARIMA Model Results</caption>\n",
              "<tr>\n",
              "  <th>Dep. Variable:</th>   <td>D.Inventories</td>  <th>  No. Observations:  </th>    <td>251</td>   \n",
              "</tr>\n",
              "<tr>\n",
              "  <th>Model:</th>          <td>ARIMA(1, 1, 1)</td>  <th>  Log Likelihood     </th> <td>-2486.395</td>\n",
              "</tr>\n",
              "<tr>\n",
              "  <th>Method:</th>             <td>css-mle</td>     <th>  S.D. of innovations</th> <td>4845.028</td> \n",
              "</tr>\n",
              "<tr>\n",
              "  <th>Date:</th>          <td>Wed, 10 Jul 2019</td> <th>  AIC                </th> <td>4980.790</td> \n",
              "</tr>\n",
              "<tr>\n",
              "  <th>Time:</th>              <td>01:10:14</td>     <th>  BIC                </th> <td>4994.892</td> \n",
              "</tr>\n",
              "<tr>\n",
              "  <th>Sample:</th>           <td>02-01-1997</td>    <th>  HQIC               </th> <td>4986.465</td> \n",
              "</tr>\n",
              "<tr>\n",
              "  <th></th>                 <td>- 12-01-2017</td>   <th>                     </th>     <td> </td>    \n",
              "</tr>\n",
              "</table>\n",
              "<table class=\"simpletable\">\n",
              "<tr>\n",
              "           <td></td>              <th>coef</th>     <th>std err</th>      <th>z</th>      <th>P>|z|</th>  <th>[0.025</th>    <th>0.975]</th>  \n",
              "</tr>\n",
              "<tr>\n",
              "  <th>const</th>               <td> 3197.6171</td> <td> 1344.919</td> <td>    2.378</td> <td> 0.018</td> <td>  561.625</td> <td> 5833.610</td>\n",
              "</tr>\n",
              "<tr>\n",
              "  <th>ar.L1.D.Inventories</th> <td>    0.9026</td> <td>    0.039</td> <td>   23.013</td> <td> 0.000</td> <td>    0.826</td> <td>    0.979</td>\n",
              "</tr>\n",
              "<tr>\n",
              "  <th>ma.L1.D.Inventories</th> <td>   -0.5581</td> <td>    0.079</td> <td>   -7.049</td> <td> 0.000</td> <td>   -0.713</td> <td>   -0.403</td>\n",
              "</tr>\n",
              "</table>\n",
              "<table class=\"simpletable\">\n",
              "<caption>Roots</caption>\n",
              "<tr>\n",
              "    <td></td>   <th>            Real</th>  <th>         Imaginary</th> <th>         Modulus</th>  <th>        Frequency</th>\n",
              "</tr>\n",
              "<tr>\n",
              "  <th>AR.1</th> <td>           1.1080</td> <td>          +0.0000j</td> <td>           1.1080</td> <td>           0.0000</td>\n",
              "</tr>\n",
              "<tr>\n",
              "  <th>MA.1</th> <td>           1.7918</td> <td>          +0.0000j</td> <td>           1.7918</td> <td>           0.0000</td>\n",
              "</tr>\n",
              "</table>"
            ],
            "text/plain": [
              "<class 'statsmodels.iolib.summary.Summary'>\n",
              "\"\"\"\n",
              "                             ARIMA Model Results                              \n",
              "==============================================================================\n",
              "Dep. Variable:          D.Inventories   No. Observations:                  251\n",
              "Model:                 ARIMA(1, 1, 1)   Log Likelihood               -2486.395\n",
              "Method:                       css-mle   S.D. of innovations           4845.028\n",
              "Date:                Wed, 10 Jul 2019   AIC                           4980.790\n",
              "Time:                        01:10:14   BIC                           4994.892\n",
              "Sample:                    02-01-1997   HQIC                          4986.465\n",
              "                         - 12-01-2017                                         \n",
              "=======================================================================================\n",
              "                          coef    std err          z      P>|z|      [0.025      0.975]\n",
              "---------------------------------------------------------------------------------------\n",
              "const                3197.6171   1344.919      2.378      0.018     561.625    5833.610\n",
              "ar.L1.D.Inventories     0.9026      0.039     23.013      0.000       0.826       0.979\n",
              "ma.L1.D.Inventories    -0.5581      0.079     -7.049      0.000      -0.713      -0.403\n",
              "                                    Roots                                    \n",
              "=============================================================================\n",
              "                  Real          Imaginary           Modulus         Frequency\n",
              "-----------------------------------------------------------------------------\n",
              "AR.1            1.1080           +0.0000j            1.1080            0.0000\n",
              "MA.1            1.7918           +0.0000j            1.7918            0.0000\n",
              "-----------------------------------------------------------------------------\n",
              "\"\"\""
            ]
          },
          "metadata": {
            "tags": []
          },
          "execution_count": 36
        }
      ]
    },
    {
      "cell_type": "code",
      "metadata": {
        "id": "4UBcRZcmAYuA",
        "colab_type": "code",
        "colab": {}
      },
      "source": [
        "# Make predictions\n",
        "\n",
        "start = len(train)\n",
        "end = len(train) + len(test) -1\n",
        "\n",
        "predictions = results.predict(start=start, end=end, typ='levels').rename('ARIMA (1,1,1) Predictions')"
      ],
      "execution_count": 0,
      "outputs": []
    },
    {
      "cell_type": "code",
      "metadata": {
        "id": "-ZBYLiXZBbO0",
        "colab_type": "code",
        "colab": {
          "base_uri": "https://localhost:8080/",
          "height": 238
        },
        "outputId": "57e6a712-ab99-4a37-94f4-2d842784b1a2"
      },
      "source": [
        "predictions"
      ],
      "execution_count": 38,
      "outputs": [
        {
          "output_type": "execute_result",
          "data": {
            "text/plain": [
              "2018-01-01    2.107148e+06\n",
              "2018-02-01    2.110526e+06\n",
              "2018-03-01    2.113886e+06\n",
              "2018-04-01    2.117231e+06\n",
              "2018-05-01    2.120561e+06\n",
              "2018-06-01    2.123878e+06\n",
              "2018-07-01    2.127184e+06\n",
              "2018-08-01    2.130479e+06\n",
              "2018-09-01    2.133765e+06\n",
              "2018-10-01    2.137042e+06\n",
              "2018-11-01    2.140311e+06\n",
              "2018-12-01    2.143573e+06\n",
              "Freq: MS, Name: ARIMA (1,1,1) Predictions, dtype: float64"
            ]
          },
          "metadata": {
            "tags": []
          },
          "execution_count": 38
        }
      ]
    },
    {
      "cell_type": "code",
      "metadata": {
        "id": "MD8C2HQ3BcjT",
        "colab_type": "code",
        "colab": {
          "base_uri": "https://localhost:8080/",
          "height": 452
        },
        "outputId": "950be752-5715-4f4f-b475-05748e7a8f69"
      },
      "source": [
        "test"
      ],
      "execution_count": 39,
      "outputs": [
        {
          "output_type": "execute_result",
          "data": {
            "text/html": [
              "<div>\n",
              "<style scoped>\n",
              "    .dataframe tbody tr th:only-of-type {\n",
              "        vertical-align: middle;\n",
              "    }\n",
              "\n",
              "    .dataframe tbody tr th {\n",
              "        vertical-align: top;\n",
              "    }\n",
              "\n",
              "    .dataframe thead th {\n",
              "        text-align: right;\n",
              "    }\n",
              "</style>\n",
              "<table border=\"1\" class=\"dataframe\">\n",
              "  <thead>\n",
              "    <tr style=\"text-align: right;\">\n",
              "      <th></th>\n",
              "      <th>Inventories</th>\n",
              "      <th>Diff_1</th>\n",
              "    </tr>\n",
              "    <tr>\n",
              "      <th>Date</th>\n",
              "      <th></th>\n",
              "      <th></th>\n",
              "    </tr>\n",
              "  </thead>\n",
              "  <tbody>\n",
              "    <tr>\n",
              "      <th>2018-01-01</th>\n",
              "      <td>2110158</td>\n",
              "      <td>6407.0</td>\n",
              "    </tr>\n",
              "    <tr>\n",
              "      <th>2018-02-01</th>\n",
              "      <td>2118199</td>\n",
              "      <td>8041.0</td>\n",
              "    </tr>\n",
              "    <tr>\n",
              "      <th>2018-03-01</th>\n",
              "      <td>2112427</td>\n",
              "      <td>-5772.0</td>\n",
              "    </tr>\n",
              "    <tr>\n",
              "      <th>2018-04-01</th>\n",
              "      <td>2112276</td>\n",
              "      <td>-151.0</td>\n",
              "    </tr>\n",
              "    <tr>\n",
              "      <th>2018-05-01</th>\n",
              "      <td>2111835</td>\n",
              "      <td>-441.0</td>\n",
              "    </tr>\n",
              "    <tr>\n",
              "      <th>2018-06-01</th>\n",
              "      <td>2109298</td>\n",
              "      <td>-2537.0</td>\n",
              "    </tr>\n",
              "    <tr>\n",
              "      <th>2018-07-01</th>\n",
              "      <td>2119618</td>\n",
              "      <td>10320.0</td>\n",
              "    </tr>\n",
              "    <tr>\n",
              "      <th>2018-08-01</th>\n",
              "      <td>2127170</td>\n",
              "      <td>7552.0</td>\n",
              "    </tr>\n",
              "    <tr>\n",
              "      <th>2018-09-01</th>\n",
              "      <td>2134172</td>\n",
              "      <td>7002.0</td>\n",
              "    </tr>\n",
              "    <tr>\n",
              "      <th>2018-10-01</th>\n",
              "      <td>2144639</td>\n",
              "      <td>10467.0</td>\n",
              "    </tr>\n",
              "    <tr>\n",
              "      <th>2018-11-01</th>\n",
              "      <td>2143001</td>\n",
              "      <td>-1638.0</td>\n",
              "    </tr>\n",
              "    <tr>\n",
              "      <th>2018-12-01</th>\n",
              "      <td>2158115</td>\n",
              "      <td>15114.0</td>\n",
              "    </tr>\n",
              "  </tbody>\n",
              "</table>\n",
              "</div>"
            ],
            "text/plain": [
              "            Inventories   Diff_1\n",
              "Date                            \n",
              "2018-01-01      2110158   6407.0\n",
              "2018-02-01      2118199   8041.0\n",
              "2018-03-01      2112427  -5772.0\n",
              "2018-04-01      2112276   -151.0\n",
              "2018-05-01      2111835   -441.0\n",
              "2018-06-01      2109298  -2537.0\n",
              "2018-07-01      2119618  10320.0\n",
              "2018-08-01      2127170   7552.0\n",
              "2018-09-01      2134172   7002.0\n",
              "2018-10-01      2144639  10467.0\n",
              "2018-11-01      2143001  -1638.0\n",
              "2018-12-01      2158115  15114.0"
            ]
          },
          "metadata": {
            "tags": []
          },
          "execution_count": 39
        }
      ]
    },
    {
      "cell_type": "code",
      "metadata": {
        "id": "nazfamaDBi-H",
        "colab_type": "code",
        "colab": {
          "base_uri": "https://localhost:8080/",
          "height": 403
        },
        "outputId": "a9f93774-b44c-4dc9-b560-5d9d76d8ffb1"
      },
      "source": [
        "test['Inventories'].plot(legend = True, figsize = (12,6));\n",
        "predictions.plot(legend=True);"
      ],
      "execution_count": 40,
      "outputs": [
        {
          "output_type": "display_data",
          "data": {
            "image/png": "[encoded data removed]",
            "text/plain": [
              "<Figure size 864x432 with 1 Axes>"
            ]
          },
          "metadata": {
            "tags": []
          }
        }
      ]
    },
    {
      "cell_type": "code",
      "metadata": {
        "id": "-tiX15cNBuwg",
        "colab_type": "code",
        "colab": {}
      },
      "source": [
        "# Evaluate the model using rmse\n",
        "from statsmodels.tools.eval_measures import rmse"
      ],
      "execution_count": 0,
      "outputs": []
    },
    {
      "cell_type": "code",
      "metadata": {
        "id": "dKK02aslCC8g",
        "colab_type": "code",
        "colab": {
          "base_uri": "https://localhost:8080/",
          "height": 34
        },
        "outputId": "126d63d8-a6f8-4f6f-ec59-d7d624ebd289"
      },
      "source": [
        "error = rmse(test['Inventories'], predictions)\n",
        "error"
      ],
      "execution_count": 42,
      "outputs": [
        {
          "output_type": "execute_result",
          "data": {
            "text/plain": [
              "7789.561238050531"
            ]
          },
          "metadata": {
            "tags": []
          },
          "execution_count": 42
        }
      ]
    },
    {
      "cell_type": "code",
      "metadata": {
        "id": "zVzNrBTJCJUR",
        "colab_type": "code",
        "colab": {
          "base_uri": "https://localhost:8080/",
          "height": 34
        },
        "outputId": "f1b974e3-cb3f-481f-9a21-3131fc5b126c"
      },
      "source": [
        "test['Inventories'].mean()"
      ],
      "execution_count": 43,
      "outputs": [
        {
          "output_type": "execute_result",
          "data": {
            "text/plain": [
              "2125075.6666666665"
            ]
          },
          "metadata": {
            "tags": []
          },
          "execution_count": 43
        }
      ]
    },
    {
      "cell_type": "markdown",
      "metadata": {
        "id": "tqsI29gLCboV",
        "colab_type": "text"
      },
      "source": [
        "## Forecasting into Unknown Future"
      ]
    },
    {
      "cell_type": "code",
      "metadata": {
        "id": "IjkYmb7iCKsz",
        "colab_type": "code",
        "colab": {}
      },
      "source": [
        "model = ARIMA(df2['Inventories'], order = (1,1,1))"
      ],
      "execution_count": 0,
      "outputs": []
    },
    {
      "cell_type": "code",
      "metadata": {
        "id": "fq2RLgx8Clp-",
        "colab_type": "code",
        "colab": {}
      },
      "source": [
        "results = model.fit()"
      ],
      "execution_count": 0,
      "outputs": []
    },
    {
      "cell_type": "code",
      "metadata": {
        "id": "owBGoLPqCoBD",
        "colab_type": "code",
        "colab": {}
      },
      "source": [
        "forecast = results.predict(start = len(df2), end = len(df2)+11, typ = 'levels').rename('ARIMA (1,1,1) FORECAST')"
      ],
      "execution_count": 0,
      "outputs": []
    },
    {
      "cell_type": "code",
      "metadata": {
        "id": "Jg3E_TZoCy-K",
        "colab_type": "code",
        "colab": {
          "base_uri": "https://localhost:8080/",
          "height": 392
        },
        "outputId": "741a09c9-99b6-441e-d0bb-90bd09dd85b7"
      },
      "source": [
        "df2['Inventories'].plot(legend = True, figsize = (12, 6));\n",
        "forecast.plot(legend = True);"
      ],
      "execution_count": 47,
      "outputs": [
        {
          "output_type": "display_data",
          "data": {
            "image/png": "[encoded data removed]",
            "text/plain": [
              "<Figure size 864x432 with 1 Axes>"
            ]
          },
          "metadata": {
            "tags": []
          }
        }
      ]
    }
  ]
}