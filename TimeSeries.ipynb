{
  "nbformat": 4,
  "nbformat_minor": 0,
  "metadata": {
    "colab": {
      "name": "TimeSeries.ipynb",
      "version": "0.3.2",
      "provenance": [],
      "collapsed_sections": [],
      "toc_visible": true,
      "include_colab_link": true
    },
    "kernelspec": {
      "name": "python3",
      "display_name": "Python 3"
    }
  },
  "cells": [
    {
      "cell_type": "markdown",
      "metadata": {
        "id": "view-in-github",
        "colab_type": "text"
      },
      "source": [
        "<a href=\"https://colab.research.google.com/github/GabeMaldonado/JupyterNotebooks/blob/master/TimeSeries.ipynb\" target=\"_parent\"><img src=\"https://colab.research.google.com/assets/colab-badge.svg\" alt=\"Open In Colab\"/></a>"
      ]
    },
    {
      "cell_type": "code",
      "metadata": {
        "id": "bXxrcF858lRQ",
        "colab_type": "code",
        "colab": {}
      },
      "source": [
        "from datetime import datetime"
      ],
      "execution_count": 0,
      "outputs": []
    },
    {
      "cell_type": "code",
      "metadata": {
        "id": "xxcJiMoz9Dkd",
        "colab_type": "code",
        "colab": {}
      },
      "source": [
        "# datetime is python's build-in datatype\n",
        "my_year = 2020\n",
        "my_month = 1\n",
        "my_day = 2\n",
        "my_hour = 13\n",
        "my_min = 30\n",
        "my_sec = 15"
      ],
      "execution_count": 0,
      "outputs": []
    },
    {
      "cell_type": "code",
      "metadata": {
        "id": "knTBGWcD9Rmr",
        "colab_type": "code",
        "outputId": "edc27dd3-b332-451e-9120-cf7e63cc78c1",
        "colab": {
          "base_uri": "https://localhost:8080/",
          "height": 34
        }
      },
      "source": [
        "# crete a datetime object\n",
        "my_date = datetime(my_year, my_month, my_day)\n",
        "my_date"
      ],
      "execution_count": 26,
      "outputs": [
        {
          "output_type": "execute_result",
          "data": {
            "text/plain": [
              "datetime.datetime(2020, 1, 2, 0, 0)"
            ]
          },
          "metadata": {
            "tags": []
          },
          "execution_count": 26
        }
      ]
    },
    {
      "cell_type": "code",
      "metadata": {
        "id": "Pfl0uHCN-i_L",
        "colab_type": "code",
        "colab": {}
      },
      "source": [
        "# pass hour, min and sec\n",
        "my_date_time = datetime(my_year, my_month, my_day, my_hour, my_min, my_sec)"
      ],
      "execution_count": 0,
      "outputs": []
    },
    {
      "cell_type": "code",
      "metadata": {
        "id": "Xj8nN1Td-7ls",
        "colab_type": "code",
        "outputId": "4b1038f9-e0b9-48ac-ea6c-25d01dd630c9",
        "colab": {
          "base_uri": "https://localhost:8080/",
          "height": 34
        }
      },
      "source": [
        "my_date_time"
      ],
      "execution_count": 28,
      "outputs": [
        {
          "output_type": "execute_result",
          "data": {
            "text/plain": [
              "datetime.datetime(2020, 1, 2, 13, 30, 15)"
            ]
          },
          "metadata": {
            "tags": []
          },
          "execution_count": 28
        }
      ]
    },
    {
      "cell_type": "code",
      "metadata": {
        "id": "I6YPEcnQ-8wZ",
        "colab_type": "code",
        "outputId": "dece778b-274e-4345-fb02-9b10d7b462ef",
        "colab": {
          "base_uri": "https://localhost:8080/",
          "height": 34
        }
      },
      "source": [
        "# to get infor about the datetime obeject call .day, .month, etc.\n",
        "my_date_time.day"
      ],
      "execution_count": 29,
      "outputs": [
        {
          "output_type": "execute_result",
          "data": {
            "text/plain": [
              "2"
            ]
          },
          "metadata": {
            "tags": []
          },
          "execution_count": 29
        }
      ]
    },
    {
      "cell_type": "code",
      "metadata": {
        "id": "IoLPSGV9AcDc",
        "colab_type": "code",
        "outputId": "cdaa6808-82f2-40a4-eadd-215de21c2ead",
        "colab": {
          "base_uri": "https://localhost:8080/",
          "height": 34
        }
      },
      "source": [
        "my_date_time.hour"
      ],
      "execution_count": 30,
      "outputs": [
        {
          "output_type": "execute_result",
          "data": {
            "text/plain": [
              "13"
            ]
          },
          "metadata": {
            "tags": []
          },
          "execution_count": 30
        }
      ]
    },
    {
      "cell_type": "code",
      "metadata": {
        "id": "3BMi2ioJBiiE",
        "colab_type": "code",
        "outputId": "ed156686-ae7e-45c8-b503-f0514d75eb3e",
        "colab": {
          "base_uri": "https://localhost:8080/",
          "height": 34
        }
      },
      "source": [
        "type(my_date_time)"
      ],
      "execution_count": 31,
      "outputs": [
        {
          "output_type": "execute_result",
          "data": {
            "text/plain": [
              "datetime.datetime"
            ]
          },
          "metadata": {
            "tags": []
          },
          "execution_count": 31
        }
      ]
    },
    {
      "cell_type": "code",
      "metadata": {
        "id": "jySkmihKDTUX",
        "colab_type": "code",
        "colab": {}
      },
      "source": [
        "import pandas as pd \n",
        "import numpy as np\n",
        "import matplotlib.pyplot as plt"
      ],
      "execution_count": 0,
      "outputs": []
    },
    {
      "cell_type": "code",
      "metadata": {
        "id": "pyXeJdQlDWkv",
        "colab_type": "code",
        "outputId": "246eaa1f-f13c-4a0c-f32f-e3f6bfeaf1e8",
        "colab": {
          "base_uri": "https://localhost:8080/",
          "height": 34
        }
      },
      "source": [
        "np.array(['2020-03-15','2020-03-16', '2020-03-17'], dtype = 'datetime64')"
      ],
      "execution_count": 33,
      "outputs": [
        {
          "output_type": "execute_result",
          "data": {
            "text/plain": [
              "array(['2020-03-15', '2020-03-16', '2020-03-17'], dtype='datetime64[D]')"
            ]
          },
          "metadata": {
            "tags": []
          },
          "execution_count": 33
        }
      ]
    },
    {
      "cell_type": "code",
      "metadata": {
        "id": "1vpbGLZbD9Uk",
        "colab_type": "code",
        "outputId": "0f5cfa30-29e4-4759-cc65-030ac3efcebc",
        "colab": {
          "base_uri": "https://localhost:8080/",
          "height": 34
        }
      },
      "source": [
        "np.arange(0,10,2)"
      ],
      "execution_count": 34,
      "outputs": [
        {
          "output_type": "execute_result",
          "data": {
            "text/plain": [
              "array([0, 2, 4, 6, 8])"
            ]
          },
          "metadata": {
            "tags": []
          },
          "execution_count": 34
        }
      ]
    },
    {
      "cell_type": "code",
      "metadata": {
        "id": "H8x4GXHJI08q",
        "colab_type": "code",
        "outputId": "ccd0e9cf-73b3-4c3d-eb4d-b29dc5081e79",
        "colab": {
          "base_uri": "https://localhost:8080/",
          "height": 51
        }
      },
      "source": [
        "# we can pass similar code as above to get a range of dates\n",
        "# second parameter is the stepsize\n",
        "np.arange('2018-06-01', '2018-06-23', 5, dtype = 'datetime64[D]')"
      ],
      "execution_count": 35,
      "outputs": [
        {
          "output_type": "execute_result",
          "data": {
            "text/plain": [
              "array(['2018-06-01', '2018-06-06', '2018-06-11', '2018-06-16',\n",
              "       '2018-06-21'], dtype='datetime64[D]')"
            ]
          },
          "metadata": {
            "tags": []
          },
          "execution_count": 35
        }
      ]
    },
    {
      "cell_type": "code",
      "metadata": {
        "id": "vrbEqBWcMcks",
        "colab_type": "code",
        "outputId": "5139a126-9819-48e2-aa99-5ebe063ba36c",
        "colab": {
          "base_uri": "https://localhost:8080/",
          "height": 51
        }
      },
      "source": [
        "# lets pass years\n",
        "np.arange('1982', '2002',2, dtype = 'datetime64[Y]')"
      ],
      "execution_count": 36,
      "outputs": [
        {
          "output_type": "execute_result",
          "data": {
            "text/plain": [
              "array(['1982', '1984', '1986', '1988', '1990', '1992', '1994', '1996',\n",
              "       '1998', '2000'], dtype='datetime64[Y]')"
            ]
          },
          "metadata": {
            "tags": []
          },
          "execution_count": 36
        }
      ]
    },
    {
      "cell_type": "code",
      "metadata": {
        "id": "Ed3MhvNxANXM",
        "colab_type": "code",
        "outputId": "42788f24-3bd0-4dbb-ded0-3d45d04d948b",
        "colab": {
          "base_uri": "https://localhost:8080/",
          "height": 68
        }
      },
      "source": [
        "# Using pandasd to create date_ranges\n",
        "# args - START, #periods requested, frequence\n",
        "pd.date_range('2020-01-01', periods = 7, freq = 'D' )"
      ],
      "execution_count": 37,
      "outputs": [
        {
          "output_type": "execute_result",
          "data": {
            "text/plain": [
              "DatetimeIndex(['2020-01-01', '2020-01-02', '2020-01-03', '2020-01-04',\n",
              "               '2020-01-05', '2020-01-06', '2020-01-07'],\n",
              "              dtype='datetime64[ns]', freq='D')"
            ]
          },
          "metadata": {
            "tags": []
          },
          "execution_count": 37
        }
      ]
    },
    {
      "cell_type": "code",
      "metadata": {
        "id": "7B5Jl84QBV2R",
        "colab_type": "code",
        "outputId": "a4fd762f-9d81-4023-c7fb-d644a39b7dcf",
        "colab": {
          "base_uri": "https://localhost:8080/",
          "height": 68
        }
      },
      "source": [
        "# pandas can infer a date from a string\n",
        "pd.date_range('Jan 01 2020', periods = 7, freq = 'D')"
      ],
      "execution_count": 38,
      "outputs": [
        {
          "output_type": "execute_result",
          "data": {
            "text/plain": [
              "DatetimeIndex(['2020-01-01', '2020-01-02', '2020-01-03', '2020-01-04',\n",
              "               '2020-01-05', '2020-01-06', '2020-01-07'],\n",
              "              dtype='datetime64[ns]', freq='D')"
            ]
          },
          "metadata": {
            "tags": []
          },
          "execution_count": 38
        }
      ]
    },
    {
      "cell_type": "code",
      "metadata": {
        "id": "AL1SJGLaChvL",
        "colab_type": "code",
        "outputId": "96cdf931-26bc-477b-ae26-3275470105c2",
        "colab": {
          "base_uri": "https://localhost:8080/",
          "height": 34
        }
      },
      "source": [
        "# to convert to datetime\n",
        "pd.to_datetime(['1/2/2018', 'Jan 03 2018'])"
      ],
      "execution_count": 39,
      "outputs": [
        {
          "output_type": "execute_result",
          "data": {
            "text/plain": [
              "DatetimeIndex(['2018-01-02', '2018-01-03'], dtype='datetime64[ns]', freq=None)"
            ]
          },
          "metadata": {
            "tags": []
          },
          "execution_count": 39
        }
      ]
    },
    {
      "cell_type": "code",
      "metadata": {
        "id": "4s93a_WUDHAx",
        "colab_type": "code",
        "outputId": "8ad76f28-6b9a-4499-d48a-0a506200eb3f",
        "colab": {
          "base_uri": "https://localhost:8080/",
          "height": 34
        }
      },
      "source": [
        "# we can pass the format parameter for non-US dates\n",
        "pd.to_datetime(['02/01/2018', '03/01/2018'], format = '%d/%m/%Y')"
      ],
      "execution_count": 40,
      "outputs": [
        {
          "output_type": "execute_result",
          "data": {
            "text/plain": [
              "DatetimeIndex(['2018-01-02', '2018-01-03'], dtype='datetime64[ns]', freq=None)"
            ]
          },
          "metadata": {
            "tags": []
          },
          "execution_count": 40
        }
      ]
    },
    {
      "cell_type": "code",
      "metadata": {
        "id": "meKsHxOHD2o_",
        "colab_type": "code",
        "outputId": "b4f03dc4-8162-4843-f2ec-c77c44923d70",
        "colab": {
          "base_uri": "https://localhost:8080/",
          "height": 68
        }
      },
      "source": [
        "# creating a timeseries dataframe\n",
        "data = np.random.randn(3,2)\n",
        "cols = ['A', 'B']\n",
        "print (data)"
      ],
      "execution_count": 41,
      "outputs": [
        {
          "output_type": "stream",
          "text": [
            "[[-0.81486487  2.40774781]\n",
            " [-0.52694443  0.60208185]\n",
            " [-0.49582865  0.86129896]]\n"
          ],
          "name": "stdout"
        }
      ]
    },
    {
      "cell_type": "code",
      "metadata": {
        "id": "Pt_wutTzF-19",
        "colab_type": "code",
        "colab": {}
      },
      "source": [
        "idx = pd.date_range('2020-01-01', periods = 3, freq = 'D')\n",
        "df = pd.DataFrame(data, index = idx, columns = cols)"
      ],
      "execution_count": 0,
      "outputs": []
    },
    {
      "cell_type": "code",
      "metadata": {
        "id": "9tEafV78Grs8",
        "colab_type": "code",
        "outputId": "81cbd4a2-44bb-4bd6-a582-21120eee0dca",
        "colab": {
          "base_uri": "https://localhost:8080/",
          "height": 142
        }
      },
      "source": [
        "df"
      ],
      "execution_count": 43,
      "outputs": [
        {
          "output_type": "execute_result",
          "data": {
            "text/html": [
              "<div>\n",
              "<style scoped>\n",
              "    .dataframe tbody tr th:only-of-type {\n",
              "        vertical-align: middle;\n",
              "    }\n",
              "\n",
              "    .dataframe tbody tr th {\n",
              "        vertical-align: top;\n",
              "    }\n",
              "\n",
              "    .dataframe thead th {\n",
              "        text-align: right;\n",
              "    }\n",
              "</style>\n",
              "<table border=\"1\" class=\"dataframe\">\n",
              "  <thead>\n",
              "    <tr style=\"text-align: right;\">\n",
              "      <th></th>\n",
              "      <th>A</th>\n",
              "      <th>B</th>\n",
              "    </tr>\n",
              "  </thead>\n",
              "  <tbody>\n",
              "    <tr>\n",
              "      <th>2020-01-01</th>\n",
              "      <td>-0.814865</td>\n",
              "      <td>2.407748</td>\n",
              "    </tr>\n",
              "    <tr>\n",
              "      <th>2020-01-02</th>\n",
              "      <td>-0.526944</td>\n",
              "      <td>0.602082</td>\n",
              "    </tr>\n",
              "    <tr>\n",
              "      <th>2020-01-03</th>\n",
              "      <td>-0.495829</td>\n",
              "      <td>0.861299</td>\n",
              "    </tr>\n",
              "  </tbody>\n",
              "</table>\n",
              "</div>"
            ],
            "text/plain": [
              "                   A         B\n",
              "2020-01-01 -0.814865  2.407748\n",
              "2020-01-02 -0.526944  0.602082\n",
              "2020-01-03 -0.495829  0.861299"
            ]
          },
          "metadata": {
            "tags": []
          },
          "execution_count": 43
        }
      ]
    },
    {
      "cell_type": "code",
      "metadata": {
        "id": "lSt9fTv0G2kD",
        "colab_type": "code",
        "outputId": "d7916039-8208-4400-b422-c8bca38f6170",
        "colab": {
          "base_uri": "https://localhost:8080/",
          "height": 34
        }
      },
      "source": [
        "df.index"
      ],
      "execution_count": 44,
      "outputs": [
        {
          "output_type": "execute_result",
          "data": {
            "text/plain": [
              "DatetimeIndex(['2020-01-01', '2020-01-02', '2020-01-03'], dtype='datetime64[ns]', freq='D')"
            ]
          },
          "metadata": {
            "tags": []
          },
          "execution_count": 44
        }
      ]
    },
    {
      "cell_type": "code",
      "metadata": {
        "id": "ePEYYkC_G9Vh",
        "colab_type": "code",
        "outputId": "dae8949c-02e8-44c1-8fa0-127fe58e5123",
        "colab": {
          "base_uri": "https://localhost:8080/",
          "height": 34
        }
      },
      "source": [
        "df.index.max()"
      ],
      "execution_count": 45,
      "outputs": [
        {
          "output_type": "execute_result",
          "data": {
            "text/plain": [
              "Timestamp('2020-01-03 00:00:00')"
            ]
          },
          "metadata": {
            "tags": []
          },
          "execution_count": 45
        }
      ]
    },
    {
      "cell_type": "markdown",
      "metadata": {
        "id": "i0iLM6LBHvpF",
        "colab_type": "text"
      },
      "source": [
        "## Time Resampling\n",
        "Similar to a groupby operation with the difference that we are aggregating on time frequency\n",
        "For example--we can take daily data and resample into monthly data by taking an average or sum of the month'"
      ]
    },
    {
      "cell_type": "code",
      "metadata": {
        "id": "4I9Ldxh7HBGp",
        "colab_type": "code",
        "colab": {
          "base_uri": "https://localhost:8080/",
          "height": 204
        },
        "outputId": "ac93fd1d-d70a-4848-9ccb-2dbae87fcd7e"
      },
      "source": [
        "df = pd.read_csv('starbucks.csv')\n",
        "df.head()"
      ],
      "execution_count": 46,
      "outputs": [
        {
          "output_type": "execute_result",
          "data": {
            "text/html": [
              "<div>\n",
              "<style scoped>\n",
              "    .dataframe tbody tr th:only-of-type {\n",
              "        vertical-align: middle;\n",
              "    }\n",
              "\n",
              "    .dataframe tbody tr th {\n",
              "        vertical-align: top;\n",
              "    }\n",
              "\n",
              "    .dataframe thead th {\n",
              "        text-align: right;\n",
              "    }\n",
              "</style>\n",
              "<table border=\"1\" class=\"dataframe\">\n",
              "  <thead>\n",
              "    <tr style=\"text-align: right;\">\n",
              "      <th></th>\n",
              "      <th>Date</th>\n",
              "      <th>Close</th>\n",
              "      <th>Volume</th>\n",
              "    </tr>\n",
              "  </thead>\n",
              "  <tbody>\n",
              "    <tr>\n",
              "      <th>0</th>\n",
              "      <td>2015-01-02</td>\n",
              "      <td>38.0061</td>\n",
              "      <td>6906098</td>\n",
              "    </tr>\n",
              "    <tr>\n",
              "      <th>1</th>\n",
              "      <td>2015-01-05</td>\n",
              "      <td>37.2781</td>\n",
              "      <td>11623796</td>\n",
              "    </tr>\n",
              "    <tr>\n",
              "      <th>2</th>\n",
              "      <td>2015-01-06</td>\n",
              "      <td>36.9748</td>\n",
              "      <td>7664340</td>\n",
              "    </tr>\n",
              "    <tr>\n",
              "      <th>3</th>\n",
              "      <td>2015-01-07</td>\n",
              "      <td>37.8848</td>\n",
              "      <td>9732554</td>\n",
              "    </tr>\n",
              "    <tr>\n",
              "      <th>4</th>\n",
              "      <td>2015-01-08</td>\n",
              "      <td>38.4961</td>\n",
              "      <td>13170548</td>\n",
              "    </tr>\n",
              "  </tbody>\n",
              "</table>\n",
              "</div>"
            ],
            "text/plain": [
              "         Date    Close    Volume\n",
              "0  2015-01-02  38.0061   6906098\n",
              "1  2015-01-05  37.2781  11623796\n",
              "2  2015-01-06  36.9748   7664340\n",
              "3  2015-01-07  37.8848   9732554\n",
              "4  2015-01-08  38.4961  13170548"
            ]
          },
          "metadata": {
            "tags": []
          },
          "execution_count": 46
        }
      ]
    },
    {
      "cell_type": "markdown",
      "metadata": {
        "id": "tkb3rvlx9fEm",
        "colab_type": "text"
      },
      "source": [
        "We can chage the 'Date' column  to a timeseries and set it as the index "
      ]
    },
    {
      "cell_type": "code",
      "metadata": {
        "id": "LCfF1hqU9W7K",
        "colab_type": "code",
        "colab": {
          "base_uri": "https://localhost:8080/",
          "height": 235
        },
        "outputId": "4080798f-9d3a-4b86-c8c7-9c720b953bbe"
      },
      "source": [
        "df = pd.read_csv('starbucks.csv', index_col = 'Date', parse_dates = True)\n",
        "df.head()"
      ],
      "execution_count": 47,
      "outputs": [
        {
          "output_type": "execute_result",
          "data": {
            "text/html": [
              "<div>\n",
              "<style scoped>\n",
              "    .dataframe tbody tr th:only-of-type {\n",
              "        vertical-align: middle;\n",
              "    }\n",
              "\n",
              "    .dataframe tbody tr th {\n",
              "        vertical-align: top;\n",
              "    }\n",
              "\n",
              "    .dataframe thead th {\n",
              "        text-align: right;\n",
              "    }\n",
              "</style>\n",
              "<table border=\"1\" class=\"dataframe\">\n",
              "  <thead>\n",
              "    <tr style=\"text-align: right;\">\n",
              "      <th></th>\n",
              "      <th>Close</th>\n",
              "      <th>Volume</th>\n",
              "    </tr>\n",
              "    <tr>\n",
              "      <th>Date</th>\n",
              "      <th></th>\n",
              "      <th></th>\n",
              "    </tr>\n",
              "  </thead>\n",
              "  <tbody>\n",
              "    <tr>\n",
              "      <th>2015-01-02</th>\n",
              "      <td>38.0061</td>\n",
              "      <td>6906098</td>\n",
              "    </tr>\n",
              "    <tr>\n",
              "      <th>2015-01-05</th>\n",
              "      <td>37.2781</td>\n",
              "      <td>11623796</td>\n",
              "    </tr>\n",
              "    <tr>\n",
              "      <th>2015-01-06</th>\n",
              "      <td>36.9748</td>\n",
              "      <td>7664340</td>\n",
              "    </tr>\n",
              "    <tr>\n",
              "      <th>2015-01-07</th>\n",
              "      <td>37.8848</td>\n",
              "      <td>9732554</td>\n",
              "    </tr>\n",
              "    <tr>\n",
              "      <th>2015-01-08</th>\n",
              "      <td>38.4961</td>\n",
              "      <td>13170548</td>\n",
              "    </tr>\n",
              "  </tbody>\n",
              "</table>\n",
              "</div>"
            ],
            "text/plain": [
              "              Close    Volume\n",
              "Date                         \n",
              "2015-01-02  38.0061   6906098\n",
              "2015-01-05  37.2781  11623796\n",
              "2015-01-06  36.9748   7664340\n",
              "2015-01-07  37.8848   9732554\n",
              "2015-01-08  38.4961  13170548"
            ]
          },
          "metadata": {
            "tags": []
          },
          "execution_count": 47
        }
      ]
    },
    {
      "cell_type": "code",
      "metadata": {
        "id": "HkArY9sL9xTn",
        "colab_type": "code",
        "colab": {
          "base_uri": "https://localhost:8080/",
          "height": 153
        },
        "outputId": "ae6e3419-5e8a-42a1-aedb-d8d9718dc326"
      },
      "source": [
        "df.index"
      ],
      "execution_count": 48,
      "outputs": [
        {
          "output_type": "execute_result",
          "data": {
            "text/plain": [
              "DatetimeIndex(['2015-01-02', '2015-01-05', '2015-01-06', '2015-01-07',\n",
              "               '2015-01-08', '2015-01-09', '2015-01-12', '2015-01-13',\n",
              "               '2015-01-14', '2015-01-15',\n",
              "               ...\n",
              "               '2018-12-17', '2018-12-18', '2018-12-19', '2018-12-20',\n",
              "               '2018-12-21', '2018-12-24', '2018-12-26', '2018-12-27',\n",
              "               '2018-12-28', '2018-12-31'],\n",
              "              dtype='datetime64[ns]', name='Date', length=1006, freq=None)"
            ]
          },
          "metadata": {
            "tags": []
          },
          "execution_count": 48
        }
      ]
    },
    {
      "cell_type": "code",
      "metadata": {
        "id": "5Kw85EQL90O8",
        "colab_type": "code",
        "colab": {
          "base_uri": "https://localhost:8080/",
          "height": 204
        },
        "outputId": "261edd59-5044-4bbf-b853-f15b36bb4a8e"
      },
      "source": [
        "# Resampling - pass a rule and operations/functions (mean, min, max, std, etc)\n",
        "# daily to yearly 'A'\n",
        "df.resample(rule='A').mean()"
      ],
      "execution_count": 49,
      "outputs": [
        {
          "output_type": "execute_result",
          "data": {
            "text/html": [
              "<div>\n",
              "<style scoped>\n",
              "    .dataframe tbody tr th:only-of-type {\n",
              "        vertical-align: middle;\n",
              "    }\n",
              "\n",
              "    .dataframe tbody tr th {\n",
              "        vertical-align: top;\n",
              "    }\n",
              "\n",
              "    .dataframe thead th {\n",
              "        text-align: right;\n",
              "    }\n",
              "</style>\n",
              "<table border=\"1\" class=\"dataframe\">\n",
              "  <thead>\n",
              "    <tr style=\"text-align: right;\">\n",
              "      <th></th>\n",
              "      <th>Close</th>\n",
              "      <th>Volume</th>\n",
              "    </tr>\n",
              "    <tr>\n",
              "      <th>Date</th>\n",
              "      <th></th>\n",
              "      <th></th>\n",
              "    </tr>\n",
              "  </thead>\n",
              "  <tbody>\n",
              "    <tr>\n",
              "      <th>2015-12-31</th>\n",
              "      <td>50.078100</td>\n",
              "      <td>8.649190e+06</td>\n",
              "    </tr>\n",
              "    <tr>\n",
              "      <th>2016-12-31</th>\n",
              "      <td>53.891732</td>\n",
              "      <td>9.300633e+06</td>\n",
              "    </tr>\n",
              "    <tr>\n",
              "      <th>2017-12-31</th>\n",
              "      <td>55.457310</td>\n",
              "      <td>9.296078e+06</td>\n",
              "    </tr>\n",
              "    <tr>\n",
              "      <th>2018-12-31</th>\n",
              "      <td>56.870005</td>\n",
              "      <td>1.122883e+07</td>\n",
              "    </tr>\n",
              "  </tbody>\n",
              "</table>\n",
              "</div>"
            ],
            "text/plain": [
              "                Close        Volume\n",
              "Date                               \n",
              "2015-12-31  50.078100  8.649190e+06\n",
              "2016-12-31  53.891732  9.300633e+06\n",
              "2017-12-31  55.457310  9.296078e+06\n",
              "2018-12-31  56.870005  1.122883e+07"
            ]
          },
          "metadata": {
            "tags": []
          },
          "execution_count": 49
        }
      ]
    },
    {
      "cell_type": "code",
      "metadata": {
        "id": "645FnJ3f-qKl",
        "colab_type": "code",
        "colab": {}
      },
      "source": [
        "# We can create our own functions to resample data\n",
        "def first_day(entry):\n",
        "  if len(entry):\n",
        "    return entry[0]\n",
        "    "
      ],
      "execution_count": 0,
      "outputs": []
    },
    {
      "cell_type": "code",
      "metadata": {
        "id": "y1ovTaUw_MEe",
        "colab_type": "code",
        "colab": {
          "base_uri": "https://localhost:8080/",
          "height": 204
        },
        "outputId": "ccb4955c-d314-4071-f73b-180b24fabc5a"
      },
      "source": [
        "df.resample(rule = 'A').apply(first_day)"
      ],
      "execution_count": 51,
      "outputs": [
        {
          "output_type": "execute_result",
          "data": {
            "text/html": [
              "<div>\n",
              "<style scoped>\n",
              "    .dataframe tbody tr th:only-of-type {\n",
              "        vertical-align: middle;\n",
              "    }\n",
              "\n",
              "    .dataframe tbody tr th {\n",
              "        vertical-align: top;\n",
              "    }\n",
              "\n",
              "    .dataframe thead th {\n",
              "        text-align: right;\n",
              "    }\n",
              "</style>\n",
              "<table border=\"1\" class=\"dataframe\">\n",
              "  <thead>\n",
              "    <tr style=\"text-align: right;\">\n",
              "      <th></th>\n",
              "      <th>Close</th>\n",
              "      <th>Volume</th>\n",
              "    </tr>\n",
              "    <tr>\n",
              "      <th>Date</th>\n",
              "      <th></th>\n",
              "      <th></th>\n",
              "    </tr>\n",
              "  </thead>\n",
              "  <tbody>\n",
              "    <tr>\n",
              "      <th>2015-12-31</th>\n",
              "      <td>38.0061</td>\n",
              "      <td>6906098</td>\n",
              "    </tr>\n",
              "    <tr>\n",
              "      <th>2016-12-31</th>\n",
              "      <td>55.0780</td>\n",
              "      <td>13521544</td>\n",
              "    </tr>\n",
              "    <tr>\n",
              "      <th>2017-12-31</th>\n",
              "      <td>53.1100</td>\n",
              "      <td>7809307</td>\n",
              "    </tr>\n",
              "    <tr>\n",
              "      <th>2018-12-31</th>\n",
              "      <td>56.3243</td>\n",
              "      <td>7215978</td>\n",
              "    </tr>\n",
              "  </tbody>\n",
              "</table>\n",
              "</div>"
            ],
            "text/plain": [
              "              Close    Volume\n",
              "Date                         \n",
              "2015-12-31  38.0061   6906098\n",
              "2016-12-31  55.0780  13521544\n",
              "2017-12-31  53.1100   7809307\n",
              "2018-12-31  56.3243   7215978"
            ]
          },
          "metadata": {
            "tags": []
          },
          "execution_count": 51
        }
      ]
    },
    {
      "cell_type": "code",
      "metadata": {
        "id": "0WvRJosT_Rv4",
        "colab_type": "code",
        "colab": {
          "base_uri": "https://localhost:8080/",
          "height": 395
        },
        "outputId": "dee03d44-3a72-45c5-8baa-4949d1059ee2"
      },
      "source": [
        "# resampling the 'Close' column yearly and by the mean and plotting it\n",
        "%matplotlib inline\n",
        "df['Close'].resample(rule = 'A').mean().plot.bar()"
      ],
      "execution_count": 52,
      "outputs": [
        {
          "output_type": "execute_result",
          "data": {
            "text/plain": [
              "<matplotlib.axes._subplots.AxesSubplot at 0x7fd4727b1cc0>"
            ]
          },
          "metadata": {
            "tags": []
          },
          "execution_count": 52
        },
        {
          "output_type": "display_data",
          "data": {
            "image/png": "[encoded data removed]",
            "text/plain": [
              "<Figure size 432x288 with 1 Axes>"
            ]
          },
          "metadata": {
            "tags": []
          }
        }
      ]
    },
    {
      "cell_type": "code",
      "metadata": {
        "id": "Z0K6s50Q_sTv",
        "colab_type": "code",
        "colab": {
          "base_uri": "https://localhost:8080/",
          "height": 504
        },
        "outputId": "b4a4454e-ea7f-47c9-e782-6eea01b703a3"
      },
      "source": [
        "# resampling monthly, getting the max closing price and plotting it\n",
        "df['Close'].resample(rule = 'M').max().plot.bar(figsize = (16, 6))"
      ],
      "execution_count": 53,
      "outputs": [
        {
          "output_type": "execute_result",
          "data": {
            "text/plain": [
              "<matplotlib.axes._subplots.AxesSubplot at 0x7fd46fe7bf28>"
            ]
          },
          "metadata": {
            "tags": []
          },
          "execution_count": 53
        },
        {
          "output_type": "display_data",
          "data": {
            "image/png": "[encoded data removed]",
            "text/plain": [
              "<Figure size 1152x432 with 1 Axes>"
            ]
          },
          "metadata": {
            "tags": []
          }
        }
      ]
    },
    {
      "cell_type": "code",
      "metadata": {
        "id": "Ml9dOBXbAy0B",
        "colab_type": "code",
        "colab": {
          "base_uri": "https://localhost:8080/",
          "height": 235
        },
        "outputId": "42a37d25-ca10-408c-9201-a25fde2b9115"
      },
      "source": [
        "# Time Shifting\n",
        "df.tail()"
      ],
      "execution_count": 54,
      "outputs": [
        {
          "output_type": "execute_result",
          "data": {
            "text/html": [
              "<div>\n",
              "<style scoped>\n",
              "    .dataframe tbody tr th:only-of-type {\n",
              "        vertical-align: middle;\n",
              "    }\n",
              "\n",
              "    .dataframe tbody tr th {\n",
              "        vertical-align: top;\n",
              "    }\n",
              "\n",
              "    .dataframe thead th {\n",
              "        text-align: right;\n",
              "    }\n",
              "</style>\n",
              "<table border=\"1\" class=\"dataframe\">\n",
              "  <thead>\n",
              "    <tr style=\"text-align: right;\">\n",
              "      <th></th>\n",
              "      <th>Close</th>\n",
              "      <th>Volume</th>\n",
              "    </tr>\n",
              "    <tr>\n",
              "      <th>Date</th>\n",
              "      <th></th>\n",
              "      <th></th>\n",
              "    </tr>\n",
              "  </thead>\n",
              "  <tbody>\n",
              "    <tr>\n",
              "      <th>2018-12-24</th>\n",
              "      <td>60.56</td>\n",
              "      <td>6323252</td>\n",
              "    </tr>\n",
              "    <tr>\n",
              "      <th>2018-12-26</th>\n",
              "      <td>63.08</td>\n",
              "      <td>16646238</td>\n",
              "    </tr>\n",
              "    <tr>\n",
              "      <th>2018-12-27</th>\n",
              "      <td>63.20</td>\n",
              "      <td>11308081</td>\n",
              "    </tr>\n",
              "    <tr>\n",
              "      <th>2018-12-28</th>\n",
              "      <td>63.39</td>\n",
              "      <td>7712127</td>\n",
              "    </tr>\n",
              "    <tr>\n",
              "      <th>2018-12-31</th>\n",
              "      <td>64.40</td>\n",
              "      <td>7690183</td>\n",
              "    </tr>\n",
              "  </tbody>\n",
              "</table>\n",
              "</div>"
            ],
            "text/plain": [
              "            Close    Volume\n",
              "Date                       \n",
              "2018-12-24  60.56   6323252\n",
              "2018-12-26  63.08  16646238\n",
              "2018-12-27  63.20  11308081\n",
              "2018-12-28  63.39   7712127\n",
              "2018-12-31  64.40   7690183"
            ]
          },
          "metadata": {
            "tags": []
          },
          "execution_count": 54
        }
      ]
    },
    {
      "cell_type": "markdown",
      "metadata": {
        "id": "6WeZUMRUN-UR",
        "colab_type": "text"
      },
      "source": [
        "Lets shift the entire date index by a given number of rows without regard for time periods such as months or years.\n",
        "For instance, shift(1) will shift down the data by one place. As we shift the data down, the first data point will be a NaN and we will lose the last data point. Shifting by -1 would shift the data upwards. \n"
      ]
    },
    {
      "cell_type": "code",
      "metadata": {
        "id": "sn7v46R3BhuV",
        "colab_type": "code",
        "colab": {
          "base_uri": "https://localhost:8080/",
          "height": 1000
        },
        "outputId": "ae0d3d99-067a-4429-bcd5-c8b1f5ec53e8"
      },
      "source": [
        "# Lets shift the entire date index by a given number of rows without regard\n",
        "# for time periods such as months or years\n",
        "\n",
        "df.shift(1)\n"
      ],
      "execution_count": 55,
      "outputs": [
        {
          "output_type": "execute_result",
          "data": {
            "text/html": [
              "<div>\n",
              "<style scoped>\n",
              "    .dataframe tbody tr th:only-of-type {\n",
              "        vertical-align: middle;\n",
              "    }\n",
              "\n",
              "    .dataframe tbody tr th {\n",
              "        vertical-align: top;\n",
              "    }\n",
              "\n",
              "    .dataframe thead th {\n",
              "        text-align: right;\n",
              "    }\n",
              "</style>\n",
              "<table border=\"1\" class=\"dataframe\">\n",
              "  <thead>\n",
              "    <tr style=\"text-align: right;\">\n",
              "      <th></th>\n",
              "      <th>Close</th>\n",
              "      <th>Volume</th>\n",
              "    </tr>\n",
              "    <tr>\n",
              "      <th>Date</th>\n",
              "      <th></th>\n",
              "      <th></th>\n",
              "    </tr>\n",
              "  </thead>\n",
              "  <tbody>\n",
              "    <tr>\n",
              "      <th>2015-01-02</th>\n",
              "      <td>NaN</td>\n",
              "      <td>NaN</td>\n",
              "    </tr>\n",
              "    <tr>\n",
              "      <th>2015-01-05</th>\n",
              "      <td>38.0061</td>\n",
              "      <td>6906098.0</td>\n",
              "    </tr>\n",
              "    <tr>\n",
              "      <th>2015-01-06</th>\n",
              "      <td>37.2781</td>\n",
              "      <td>11623796.0</td>\n",
              "    </tr>\n",
              "    <tr>\n",
              "      <th>2015-01-07</th>\n",
              "      <td>36.9748</td>\n",
              "      <td>7664340.0</td>\n",
              "    </tr>\n",
              "    <tr>\n",
              "      <th>2015-01-08</th>\n",
              "      <td>37.8848</td>\n",
              "      <td>9732554.0</td>\n",
              "    </tr>\n",
              "    <tr>\n",
              "      <th>2015-01-09</th>\n",
              "      <td>38.4961</td>\n",
              "      <td>13170548.0</td>\n",
              "    </tr>\n",
              "    <tr>\n",
              "      <th>2015-01-12</th>\n",
              "      <td>37.2361</td>\n",
              "      <td>27556706.0</td>\n",
              "    </tr>\n",
              "    <tr>\n",
              "      <th>2015-01-13</th>\n",
              "      <td>37.4415</td>\n",
              "      <td>10021486.0</td>\n",
              "    </tr>\n",
              "    <tr>\n",
              "      <th>2015-01-14</th>\n",
              "      <td>37.7401</td>\n",
              "      <td>11040702.0</td>\n",
              "    </tr>\n",
              "    <tr>\n",
              "      <th>2015-01-15</th>\n",
              "      <td>37.5301</td>\n",
              "      <td>9295084.0</td>\n",
              "    </tr>\n",
              "    <tr>\n",
              "      <th>2015-01-16</th>\n",
              "      <td>37.1381</td>\n",
              "      <td>8126602.0</td>\n",
              "    </tr>\n",
              "    <tr>\n",
              "      <th>2015-01-20</th>\n",
              "      <td>37.6188</td>\n",
              "      <td>9015502.0</td>\n",
              "    </tr>\n",
              "    <tr>\n",
              "      <th>2015-01-21</th>\n",
              "      <td>37.9058</td>\n",
              "      <td>10738304.0</td>\n",
              "    </tr>\n",
              "    <tr>\n",
              "      <th>2015-01-22</th>\n",
              "      <td>37.9361</td>\n",
              "      <td>10844182.0</td>\n",
              "    </tr>\n",
              "    <tr>\n",
              "      <th>2015-01-23</th>\n",
              "      <td>38.6128</td>\n",
              "      <td>23913056.0</td>\n",
              "    </tr>\n",
              "    <tr>\n",
              "      <th>2015-01-26</th>\n",
              "      <td>41.1702</td>\n",
              "      <td>38107194.0</td>\n",
              "    </tr>\n",
              "    <tr>\n",
              "      <th>2015-01-27</th>\n",
              "      <td>41.1235</td>\n",
              "      <td>14098574.0</td>\n",
              "    </tr>\n",
              "    <tr>\n",
              "      <th>2015-01-28</th>\n",
              "      <td>41.2262</td>\n",
              "      <td>10995808.0</td>\n",
              "    </tr>\n",
              "    <tr>\n",
              "      <th>2015-01-29</th>\n",
              "      <td>40.8645</td>\n",
              "      <td>11963202.0</td>\n",
              "    </tr>\n",
              "    <tr>\n",
              "      <th>2015-01-30</th>\n",
              "      <td>41.5575</td>\n",
              "      <td>12475860.0</td>\n",
              "    </tr>\n",
              "    <tr>\n",
              "      <th>2015-02-02</th>\n",
              "      <td>40.8482</td>\n",
              "      <td>10070456.0</td>\n",
              "    </tr>\n",
              "    <tr>\n",
              "      <th>2015-02-03</th>\n",
              "      <td>41.0629</td>\n",
              "      <td>13638832.0</td>\n",
              "    </tr>\n",
              "    <tr>\n",
              "      <th>2015-02-04</th>\n",
              "      <td>41.4469</td>\n",
              "      <td>9252426.0</td>\n",
              "    </tr>\n",
              "    <tr>\n",
              "      <th>2015-02-05</th>\n",
              "      <td>41.5453</td>\n",
              "      <td>11496698.0</td>\n",
              "    </tr>\n",
              "    <tr>\n",
              "      <th>2015-02-06</th>\n",
              "      <td>41.9856</td>\n",
              "      <td>7598672.0</td>\n",
              "    </tr>\n",
              "    <tr>\n",
              "      <th>2015-02-09</th>\n",
              "      <td>41.6858</td>\n",
              "      <td>7835332.0</td>\n",
              "    </tr>\n",
              "    <tr>\n",
              "      <th>2015-02-10</th>\n",
              "      <td>41.6015</td>\n",
              "      <td>6911614.0</td>\n",
              "    </tr>\n",
              "    <tr>\n",
              "      <th>2015-02-11</th>\n",
              "      <td>42.7069</td>\n",
              "      <td>12469500.0</td>\n",
              "    </tr>\n",
              "    <tr>\n",
              "      <th>2015-02-12</th>\n",
              "      <td>42.5242</td>\n",
              "      <td>6466910.0</td>\n",
              "    </tr>\n",
              "    <tr>\n",
              "      <th>2015-02-13</th>\n",
              "      <td>43.0090</td>\n",
              "      <td>7197558.0</td>\n",
              "    </tr>\n",
              "    <tr>\n",
              "      <th>...</th>\n",
              "      <td>...</td>\n",
              "      <td>...</td>\n",
              "    </tr>\n",
              "    <tr>\n",
              "      <th>2018-11-15</th>\n",
              "      <td>67.0400</td>\n",
              "      <td>13350450.0</td>\n",
              "    </tr>\n",
              "    <tr>\n",
              "      <th>2018-11-16</th>\n",
              "      <td>67.6200</td>\n",
              "      <td>15246503.0</td>\n",
              "    </tr>\n",
              "    <tr>\n",
              "      <th>2018-11-19</th>\n",
              "      <td>68.1600</td>\n",
              "      <td>9287882.0</td>\n",
              "    </tr>\n",
              "    <tr>\n",
              "      <th>2018-11-20</th>\n",
              "      <td>67.9100</td>\n",
              "      <td>10855387.0</td>\n",
              "    </tr>\n",
              "    <tr>\n",
              "      <th>2018-11-21</th>\n",
              "      <td>67.1800</td>\n",
              "      <td>11208855.0</td>\n",
              "    </tr>\n",
              "    <tr>\n",
              "      <th>2018-11-23</th>\n",
              "      <td>66.7700</td>\n",
              "      <td>10978166.0</td>\n",
              "    </tr>\n",
              "    <tr>\n",
              "      <th>2018-11-26</th>\n",
              "      <td>65.7000</td>\n",
              "      <td>7779765.0</td>\n",
              "    </tr>\n",
              "    <tr>\n",
              "      <th>2018-11-27</th>\n",
              "      <td>65.6900</td>\n",
              "      <td>13066763.0</td>\n",
              "    </tr>\n",
              "    <tr>\n",
              "      <th>2018-11-28</th>\n",
              "      <td>66.0800</td>\n",
              "      <td>13169085.0</td>\n",
              "    </tr>\n",
              "    <tr>\n",
              "      <th>2018-11-29</th>\n",
              "      <td>66.8200</td>\n",
              "      <td>12867734.0</td>\n",
              "    </tr>\n",
              "    <tr>\n",
              "      <th>2018-11-30</th>\n",
              "      <td>66.8800</td>\n",
              "      <td>9605484.0</td>\n",
              "    </tr>\n",
              "    <tr>\n",
              "      <th>2018-12-03</th>\n",
              "      <td>66.7200</td>\n",
              "      <td>27309197.0</td>\n",
              "    </tr>\n",
              "    <tr>\n",
              "      <th>2018-12-04</th>\n",
              "      <td>67.5000</td>\n",
              "      <td>13834742.0</td>\n",
              "    </tr>\n",
              "    <tr>\n",
              "      <th>2018-12-06</th>\n",
              "      <td>66.6500</td>\n",
              "      <td>13555064.0</td>\n",
              "    </tr>\n",
              "    <tr>\n",
              "      <th>2018-12-07</th>\n",
              "      <td>66.5500</td>\n",
              "      <td>17222196.0</td>\n",
              "    </tr>\n",
              "    <tr>\n",
              "      <th>2018-12-10</th>\n",
              "      <td>65.4700</td>\n",
              "      <td>11057454.0</td>\n",
              "    </tr>\n",
              "    <tr>\n",
              "      <th>2018-12-11</th>\n",
              "      <td>65.4900</td>\n",
              "      <td>12148308.0</td>\n",
              "    </tr>\n",
              "    <tr>\n",
              "      <th>2018-12-12</th>\n",
              "      <td>65.9200</td>\n",
              "      <td>10903364.0</td>\n",
              "    </tr>\n",
              "    <tr>\n",
              "      <th>2018-12-13</th>\n",
              "      <td>66.1300</td>\n",
              "      <td>11116217.0</td>\n",
              "    </tr>\n",
              "    <tr>\n",
              "      <th>2018-12-14</th>\n",
              "      <td>66.9100</td>\n",
              "      <td>10016213.0</td>\n",
              "    </tr>\n",
              "    <tr>\n",
              "      <th>2018-12-17</th>\n",
              "      <td>65.3400</td>\n",
              "      <td>16834020.0</td>\n",
              "    </tr>\n",
              "    <tr>\n",
              "      <th>2018-12-18</th>\n",
              "      <td>64.4700</td>\n",
              "      <td>15143054.0</td>\n",
              "    </tr>\n",
              "    <tr>\n",
              "      <th>2018-12-19</th>\n",
              "      <td>64.9200</td>\n",
              "      <td>10523476.0</td>\n",
              "    </tr>\n",
              "    <tr>\n",
              "      <th>2018-12-20</th>\n",
              "      <td>64.0600</td>\n",
              "      <td>14390146.0</td>\n",
              "    </tr>\n",
              "    <tr>\n",
              "      <th>2018-12-21</th>\n",
              "      <td>62.1500</td>\n",
              "      <td>20264918.0</td>\n",
              "    </tr>\n",
              "    <tr>\n",
              "      <th>2018-12-24</th>\n",
              "      <td>61.3900</td>\n",
              "      <td>23524888.0</td>\n",
              "    </tr>\n",
              "    <tr>\n",
              "      <th>2018-12-26</th>\n",
              "      <td>60.5600</td>\n",
              "      <td>6323252.0</td>\n",
              "    </tr>\n",
              "    <tr>\n",
              "      <th>2018-12-27</th>\n",
              "      <td>63.0800</td>\n",
              "      <td>16646238.0</td>\n",
              "    </tr>\n",
              "    <tr>\n",
              "      <th>2018-12-28</th>\n",
              "      <td>63.2000</td>\n",
              "      <td>11308081.0</td>\n",
              "    </tr>\n",
              "    <tr>\n",
              "      <th>2018-12-31</th>\n",
              "      <td>63.3900</td>\n",
              "      <td>7712127.0</td>\n",
              "    </tr>\n",
              "  </tbody>\n",
              "</table>\n",
              "<p>1006 rows × 2 columns</p>\n",
              "</div>"
            ],
            "text/plain": [
              "              Close      Volume\n",
              "Date                           \n",
              "2015-01-02      NaN         NaN\n",
              "2015-01-05  38.0061   6906098.0\n",
              "2015-01-06  37.2781  11623796.0\n",
              "2015-01-07  36.9748   7664340.0\n",
              "2015-01-08  37.8848   9732554.0\n",
              "2015-01-09  38.4961  13170548.0\n",
              "2015-01-12  37.2361  27556706.0\n",
              "2015-01-13  37.4415  10021486.0\n",
              "2015-01-14  37.7401  11040702.0\n",
              "2015-01-15  37.5301   9295084.0\n",
              "2015-01-16  37.1381   8126602.0\n",
              "2015-01-20  37.6188   9015502.0\n",
              "2015-01-21  37.9058  10738304.0\n",
              "2015-01-22  37.9361  10844182.0\n",
              "2015-01-23  38.6128  23913056.0\n",
              "2015-01-26  41.1702  38107194.0\n",
              "2015-01-27  41.1235  14098574.0\n",
              "2015-01-28  41.2262  10995808.0\n",
              "2015-01-29  40.8645  11963202.0\n",
              "2015-01-30  41.5575  12475860.0\n",
              "2015-02-02  40.8482  10070456.0\n",
              "2015-02-03  41.0629  13638832.0\n",
              "2015-02-04  41.4469   9252426.0\n",
              "2015-02-05  41.5453  11496698.0\n",
              "2015-02-06  41.9856   7598672.0\n",
              "2015-02-09  41.6858   7835332.0\n",
              "2015-02-10  41.6015   6911614.0\n",
              "2015-02-11  42.7069  12469500.0\n",
              "2015-02-12  42.5242   6466910.0\n",
              "2015-02-13  43.0090   7197558.0\n",
              "...             ...         ...\n",
              "2018-11-15  67.0400  13350450.0\n",
              "2018-11-16  67.6200  15246503.0\n",
              "2018-11-19  68.1600   9287882.0\n",
              "2018-11-20  67.9100  10855387.0\n",
              "2018-11-21  67.1800  11208855.0\n",
              "2018-11-23  66.7700  10978166.0\n",
              "2018-11-26  65.7000   7779765.0\n",
              "2018-11-27  65.6900  13066763.0\n",
              "2018-11-28  66.0800  13169085.0\n",
              "2018-11-29  66.8200  12867734.0\n",
              "2018-11-30  66.8800   9605484.0\n",
              "2018-12-03  66.7200  27309197.0\n",
              "2018-12-04  67.5000  13834742.0\n",
              "2018-12-06  66.6500  13555064.0\n",
              "2018-12-07  66.5500  17222196.0\n",
              "2018-12-10  65.4700  11057454.0\n",
              "2018-12-11  65.4900  12148308.0\n",
              "2018-12-12  65.9200  10903364.0\n",
              "2018-12-13  66.1300  11116217.0\n",
              "2018-12-14  66.9100  10016213.0\n",
              "2018-12-17  65.3400  16834020.0\n",
              "2018-12-18  64.4700  15143054.0\n",
              "2018-12-19  64.9200  10523476.0\n",
              "2018-12-20  64.0600  14390146.0\n",
              "2018-12-21  62.1500  20264918.0\n",
              "2018-12-24  61.3900  23524888.0\n",
              "2018-12-26  60.5600   6323252.0\n",
              "2018-12-27  63.0800  16646238.0\n",
              "2018-12-28  63.2000  11308081.0\n",
              "2018-12-31  63.3900   7712127.0\n",
              "\n",
              "[1006 rows x 2 columns]"
            ]
          },
          "metadata": {
            "tags": []
          },
          "execution_count": 55
        }
      ]
    },
    {
      "cell_type": "code",
      "metadata": {
        "id": "D93rz8guNWI0",
        "colab_type": "code",
        "colab": {
          "base_uri": "https://localhost:8080/",
          "height": 347
        },
        "outputId": "689fd3cf-669d-4bf0-e4c5-11a9734a56ed"
      },
      "source": [
        "df['Close'].plot(figsize=(12,5))"
      ],
      "execution_count": 56,
      "outputs": [
        {
          "output_type": "execute_result",
          "data": {
            "text/plain": [
              "<matplotlib.axes._subplots.AxesSubplot at 0x7fd46fd435c0>"
            ]
          },
          "metadata": {
            "tags": []
          },
          "execution_count": 56
        },
        {
          "output_type": "display_data",
          "data": {
            "image/png": "[encoded data removed]",
            "text/plain": [
              "<Figure size 864x360 with 1 Axes>"
            ]
          },
          "metadata": {
            "tags": []
          }
        }
      ]
    },
    {
      "cell_type": "code",
      "metadata": {
        "id": "SiiXH87aQYmT",
        "colab_type": "code",
        "colab": {
          "base_uri": "https://localhost:8080/",
          "height": 1000
        },
        "outputId": "35969fd8-f139-464a-e6e0-a7b588c49d81"
      },
      "source": [
        "# Calculate rolling mean\n",
        "df.rolling(window = 7).mean()"
      ],
      "execution_count": 57,
      "outputs": [
        {
          "output_type": "execute_result",
          "data": {
            "text/html": [
              "<div>\n",
              "<style scoped>\n",
              "    .dataframe tbody tr th:only-of-type {\n",
              "        vertical-align: middle;\n",
              "    }\n",
              "\n",
              "    .dataframe tbody tr th {\n",
              "        vertical-align: top;\n",
              "    }\n",
              "\n",
              "    .dataframe thead th {\n",
              "        text-align: right;\n",
              "    }\n",
              "</style>\n",
              "<table border=\"1\" class=\"dataframe\">\n",
              "  <thead>\n",
              "    <tr style=\"text-align: right;\">\n",
              "      <th></th>\n",
              "      <th>Close</th>\n",
              "      <th>Volume</th>\n",
              "    </tr>\n",
              "    <tr>\n",
              "      <th>Date</th>\n",
              "      <th></th>\n",
              "      <th></th>\n",
              "    </tr>\n",
              "  </thead>\n",
              "  <tbody>\n",
              "    <tr>\n",
              "      <th>2015-01-02</th>\n",
              "      <td>NaN</td>\n",
              "      <td>NaN</td>\n",
              "    </tr>\n",
              "    <tr>\n",
              "      <th>2015-01-05</th>\n",
              "      <td>NaN</td>\n",
              "      <td>NaN</td>\n",
              "    </tr>\n",
              "    <tr>\n",
              "      <th>2015-01-06</th>\n",
              "      <td>NaN</td>\n",
              "      <td>NaN</td>\n",
              "    </tr>\n",
              "    <tr>\n",
              "      <th>2015-01-07</th>\n",
              "      <td>NaN</td>\n",
              "      <td>NaN</td>\n",
              "    </tr>\n",
              "    <tr>\n",
              "      <th>2015-01-08</th>\n",
              "      <td>NaN</td>\n",
              "      <td>NaN</td>\n",
              "    </tr>\n",
              "    <tr>\n",
              "      <th>2015-01-09</th>\n",
              "      <td>NaN</td>\n",
              "      <td>NaN</td>\n",
              "    </tr>\n",
              "    <tr>\n",
              "      <th>2015-01-12</th>\n",
              "      <td>37.616786</td>\n",
              "      <td>1.238222e+07</td>\n",
              "    </tr>\n",
              "    <tr>\n",
              "      <th>2015-01-13</th>\n",
              "      <td>37.578786</td>\n",
              "      <td>1.297288e+07</td>\n",
              "    </tr>\n",
              "    <tr>\n",
              "      <th>2015-01-14</th>\n",
              "      <td>37.614786</td>\n",
              "      <td>1.264020e+07</td>\n",
              "    </tr>\n",
              "    <tr>\n",
              "      <th>2015-01-15</th>\n",
              "      <td>37.638114</td>\n",
              "      <td>1.270624e+07</td>\n",
              "    </tr>\n",
              "    <tr>\n",
              "      <th>2015-01-16</th>\n",
              "      <td>37.600114</td>\n",
              "      <td>1.260380e+07</td>\n",
              "    </tr>\n",
              "    <tr>\n",
              "      <th>2015-01-20</th>\n",
              "      <td>37.515786</td>\n",
              "      <td>1.225634e+07</td>\n",
              "    </tr>\n",
              "    <tr>\n",
              "      <th>2015-01-21</th>\n",
              "      <td>37.615786</td>\n",
              "      <td>9.868837e+06</td>\n",
              "    </tr>\n",
              "    <tr>\n",
              "      <th>2015-01-22</th>\n",
              "      <td>37.783114</td>\n",
              "      <td>1.185335e+07</td>\n",
              "    </tr>\n",
              "    <tr>\n",
              "      <th>2015-01-23</th>\n",
              "      <td>38.273129</td>\n",
              "      <td>1.571999e+07</td>\n",
              "    </tr>\n",
              "    <tr>\n",
              "      <th>2015-01-26</th>\n",
              "      <td>38.786471</td>\n",
              "      <td>1.640620e+07</td>\n",
              "    </tr>\n",
              "    <tr>\n",
              "      <th>2015-01-27</th>\n",
              "      <td>39.370486</td>\n",
              "      <td>1.681609e+07</td>\n",
              "    </tr>\n",
              "    <tr>\n",
              "      <th>2015-01-28</th>\n",
              "      <td>39.834157</td>\n",
              "      <td>1.723719e+07</td>\n",
              "    </tr>\n",
              "    <tr>\n",
              "      <th>2015-01-29</th>\n",
              "      <td>40.355829</td>\n",
              "      <td>1.748541e+07</td>\n",
              "    </tr>\n",
              "    <tr>\n",
              "      <th>2015-01-30</th>\n",
              "      <td>40.771843</td>\n",
              "      <td>1.737488e+07</td>\n",
              "    </tr>\n",
              "    <tr>\n",
              "      <th>2015-02-02</th>\n",
              "      <td>41.121857</td>\n",
              "      <td>1.590713e+07</td>\n",
              "    </tr>\n",
              "    <tr>\n",
              "      <th>2015-02-03</th>\n",
              "      <td>41.161386</td>\n",
              "      <td>1.178502e+07</td>\n",
              "    </tr>\n",
              "    <tr>\n",
              "      <th>2015-02-04</th>\n",
              "      <td>41.221643</td>\n",
              "      <td>1.141333e+07</td>\n",
              "    </tr>\n",
              "    <tr>\n",
              "      <th>2015-02-05</th>\n",
              "      <td>41.330129</td>\n",
              "      <td>1.092802e+07</td>\n",
              "    </tr>\n",
              "    <tr>\n",
              "      <th>2015-02-06</th>\n",
              "      <td>41.447457</td>\n",
              "      <td>1.033833e+07</td>\n",
              "    </tr>\n",
              "    <tr>\n",
              "      <th>2015-02-09</th>\n",
              "      <td>41.453743</td>\n",
              "      <td>9.543433e+06</td>\n",
              "    </tr>\n",
              "    <tr>\n",
              "      <th>2015-02-10</th>\n",
              "      <td>41.719271</td>\n",
              "      <td>9.886153e+06</td>\n",
              "    </tr>\n",
              "    <tr>\n",
              "      <th>2015-02-11</th>\n",
              "      <td>41.928029</td>\n",
              "      <td>8.861593e+06</td>\n",
              "    </tr>\n",
              "    <tr>\n",
              "      <th>2015-02-12</th>\n",
              "      <td>42.151186</td>\n",
              "      <td>8.568041e+06</td>\n",
              "    </tr>\n",
              "    <tr>\n",
              "      <th>2015-02-13</th>\n",
              "      <td>42.343886</td>\n",
              "      <td>7.798444e+06</td>\n",
              "    </tr>\n",
              "    <tr>\n",
              "      <th>...</th>\n",
              "      <td>...</td>\n",
              "      <td>...</td>\n",
              "    </tr>\n",
              "    <tr>\n",
              "      <th>2018-11-15</th>\n",
              "      <td>67.662871</td>\n",
              "      <td>1.388678e+07</td>\n",
              "    </tr>\n",
              "    <tr>\n",
              "      <th>2018-11-16</th>\n",
              "      <td>67.714871</td>\n",
              "      <td>1.286148e+07</td>\n",
              "    </tr>\n",
              "    <tr>\n",
              "      <th>2018-11-19</th>\n",
              "      <td>67.651586</td>\n",
              "      <td>1.240058e+07</td>\n",
              "    </tr>\n",
              "    <tr>\n",
              "      <th>2018-11-20</th>\n",
              "      <td>67.501057</td>\n",
              "      <td>1.276796e+07</td>\n",
              "    </tr>\n",
              "    <tr>\n",
              "      <th>2018-11-21</th>\n",
              "      <td>67.390000</td>\n",
              "      <td>1.250917e+07</td>\n",
              "    </tr>\n",
              "    <tr>\n",
              "      <th>2018-11-23</th>\n",
              "      <td>67.197143</td>\n",
              "      <td>1.124386e+07</td>\n",
              "    </tr>\n",
              "    <tr>\n",
              "      <th>2018-11-26</th>\n",
              "      <td>67.004286</td>\n",
              "      <td>1.120333e+07</td>\n",
              "    </tr>\n",
              "    <tr>\n",
              "      <th>2018-11-27</th>\n",
              "      <td>66.784286</td>\n",
              "      <td>1.090656e+07</td>\n",
              "    </tr>\n",
              "    <tr>\n",
              "      <th>2018-11-28</th>\n",
              "      <td>66.592857</td>\n",
              "      <td>1.141796e+07</td>\n",
              "    </tr>\n",
              "    <tr>\n",
              "      <th>2018-11-29</th>\n",
              "      <td>66.445714</td>\n",
              "      <td>1.123941e+07</td>\n",
              "    </tr>\n",
              "    <tr>\n",
              "      <th>2018-11-30</th>\n",
              "      <td>66.380000</td>\n",
              "      <td>1.353946e+07</td>\n",
              "    </tr>\n",
              "    <tr>\n",
              "      <th>2018-12-03</th>\n",
              "      <td>66.484286</td>\n",
              "      <td>1.394754e+07</td>\n",
              "    </tr>\n",
              "    <tr>\n",
              "      <th>2018-12-04</th>\n",
              "      <td>66.620000</td>\n",
              "      <td>1.477258e+07</td>\n",
              "    </tr>\n",
              "    <tr>\n",
              "      <th>2018-12-06</th>\n",
              "      <td>66.742857</td>\n",
              "      <td>1.536621e+07</td>\n",
              "    </tr>\n",
              "    <tr>\n",
              "      <th>2018-12-07</th>\n",
              "      <td>66.655714</td>\n",
              "      <td>1.506455e+07</td>\n",
              "    </tr>\n",
              "    <tr>\n",
              "      <th>2018-12-10</th>\n",
              "      <td>66.465714</td>\n",
              "      <td>1.496178e+07</td>\n",
              "    </tr>\n",
              "    <tr>\n",
              "      <th>2018-12-11</th>\n",
              "      <td>66.328571</td>\n",
              "      <td>1.514719e+07</td>\n",
              "    </tr>\n",
              "    <tr>\n",
              "      <th>2018-12-12</th>\n",
              "      <td>66.244286</td>\n",
              "      <td>1.283391e+07</td>\n",
              "    </tr>\n",
              "    <tr>\n",
              "      <th>2018-12-13</th>\n",
              "      <td>66.160000</td>\n",
              "      <td>1.228840e+07</td>\n",
              "    </tr>\n",
              "    <tr>\n",
              "      <th>2018-12-14</th>\n",
              "      <td>65.972857</td>\n",
              "      <td>1.275682e+07</td>\n",
              "    </tr>\n",
              "    <tr>\n",
              "      <th>2018-12-17</th>\n",
              "      <td>65.675714</td>\n",
              "      <td>1.245980e+07</td>\n",
              "    </tr>\n",
              "    <tr>\n",
              "      <th>2018-12-18</th>\n",
              "      <td>65.597143</td>\n",
              "      <td>1.238352e+07</td>\n",
              "    </tr>\n",
              "    <tr>\n",
              "      <th>2018-12-19</th>\n",
              "      <td>65.392857</td>\n",
              "      <td>1.270378e+07</td>\n",
              "    </tr>\n",
              "    <tr>\n",
              "      <th>2018-12-20</th>\n",
              "      <td>64.854286</td>\n",
              "      <td>1.404115e+07</td>\n",
              "    </tr>\n",
              "    <tr>\n",
              "      <th>2018-12-21</th>\n",
              "      <td>64.177143</td>\n",
              "      <td>1.581382e+07</td>\n",
              "    </tr>\n",
              "    <tr>\n",
              "      <th>2018-12-24</th>\n",
              "      <td>63.270000</td>\n",
              "      <td>1.528625e+07</td>\n",
              "    </tr>\n",
              "    <tr>\n",
              "      <th>2018-12-26</th>\n",
              "      <td>62.947143</td>\n",
              "      <td>1.525942e+07</td>\n",
              "    </tr>\n",
              "    <tr>\n",
              "      <th>2018-12-27</th>\n",
              "      <td>62.765714</td>\n",
              "      <td>1.471157e+07</td>\n",
              "    </tr>\n",
              "    <tr>\n",
              "      <th>2018-12-28</th>\n",
              "      <td>62.547143</td>\n",
              "      <td>1.430995e+07</td>\n",
              "    </tr>\n",
              "    <tr>\n",
              "      <th>2018-12-31</th>\n",
              "      <td>62.595714</td>\n",
              "      <td>1.335281e+07</td>\n",
              "    </tr>\n",
              "  </tbody>\n",
              "</table>\n",
              "<p>1006 rows × 2 columns</p>\n",
              "</div>"
            ],
            "text/plain": [
              "                Close        Volume\n",
              "Date                               \n",
              "2015-01-02        NaN           NaN\n",
              "2015-01-05        NaN           NaN\n",
              "2015-01-06        NaN           NaN\n",
              "2015-01-07        NaN           NaN\n",
              "2015-01-08        NaN           NaN\n",
              "2015-01-09        NaN           NaN\n",
              "2015-01-12  37.616786  1.238222e+07\n",
              "2015-01-13  37.578786  1.297288e+07\n",
              "2015-01-14  37.614786  1.264020e+07\n",
              "2015-01-15  37.638114  1.270624e+07\n",
              "2015-01-16  37.600114  1.260380e+07\n",
              "2015-01-20  37.515786  1.225634e+07\n",
              "2015-01-21  37.615786  9.868837e+06\n",
              "2015-01-22  37.783114  1.185335e+07\n",
              "2015-01-23  38.273129  1.571999e+07\n",
              "2015-01-26  38.786471  1.640620e+07\n",
              "2015-01-27  39.370486  1.681609e+07\n",
              "2015-01-28  39.834157  1.723719e+07\n",
              "2015-01-29  40.355829  1.748541e+07\n",
              "2015-01-30  40.771843  1.737488e+07\n",
              "2015-02-02  41.121857  1.590713e+07\n",
              "2015-02-03  41.161386  1.178502e+07\n",
              "2015-02-04  41.221643  1.141333e+07\n",
              "2015-02-05  41.330129  1.092802e+07\n",
              "2015-02-06  41.447457  1.033833e+07\n",
              "2015-02-09  41.453743  9.543433e+06\n",
              "2015-02-10  41.719271  9.886153e+06\n",
              "2015-02-11  41.928029  8.861593e+06\n",
              "2015-02-12  42.151186  8.568041e+06\n",
              "2015-02-13  42.343886  7.798444e+06\n",
              "...               ...           ...\n",
              "2018-11-15  67.662871  1.388678e+07\n",
              "2018-11-16  67.714871  1.286148e+07\n",
              "2018-11-19  67.651586  1.240058e+07\n",
              "2018-11-20  67.501057  1.276796e+07\n",
              "2018-11-21  67.390000  1.250917e+07\n",
              "2018-11-23  67.197143  1.124386e+07\n",
              "2018-11-26  67.004286  1.120333e+07\n",
              "2018-11-27  66.784286  1.090656e+07\n",
              "2018-11-28  66.592857  1.141796e+07\n",
              "2018-11-29  66.445714  1.123941e+07\n",
              "2018-11-30  66.380000  1.353946e+07\n",
              "2018-12-03  66.484286  1.394754e+07\n",
              "2018-12-04  66.620000  1.477258e+07\n",
              "2018-12-06  66.742857  1.536621e+07\n",
              "2018-12-07  66.655714  1.506455e+07\n",
              "2018-12-10  66.465714  1.496178e+07\n",
              "2018-12-11  66.328571  1.514719e+07\n",
              "2018-12-12  66.244286  1.283391e+07\n",
              "2018-12-13  66.160000  1.228840e+07\n",
              "2018-12-14  65.972857  1.275682e+07\n",
              "2018-12-17  65.675714  1.245980e+07\n",
              "2018-12-18  65.597143  1.238352e+07\n",
              "2018-12-19  65.392857  1.270378e+07\n",
              "2018-12-20  64.854286  1.404115e+07\n",
              "2018-12-21  64.177143  1.581382e+07\n",
              "2018-12-24  63.270000  1.528625e+07\n",
              "2018-12-26  62.947143  1.525942e+07\n",
              "2018-12-27  62.765714  1.471157e+07\n",
              "2018-12-28  62.547143  1.430995e+07\n",
              "2018-12-31  62.595714  1.335281e+07\n",
              "\n",
              "[1006 rows x 2 columns]"
            ]
          },
          "metadata": {
            "tags": []
          },
          "execution_count": 57
        }
      ]
    },
    {
      "cell_type": "code",
      "metadata": {
        "id": "AaL2m2pcREka",
        "colab_type": "code",
        "colab": {
          "base_uri": "https://localhost:8080/",
          "height": 347
        },
        "outputId": "94a8d7a5-f66a-4496-9d49-c0ae5f9a8c1d"
      },
      "source": [
        "# plot the price and the rolling mean\n",
        "df['Close'].plot(figsize = (12,5))\n",
        "df.rolling(window = 30).mean()['Close'].plot()"
      ],
      "execution_count": 58,
      "outputs": [
        {
          "output_type": "execute_result",
          "data": {
            "text/plain": [
              "<matplotlib.axes._subplots.AxesSubplot at 0x7fd46fcd14e0>"
            ]
          },
          "metadata": {
            "tags": []
          },
          "execution_count": 58
        },
        {
          "output_type": "display_data",
          "data": {
            "image/png": "[encoded data removed]",
            "text/plain": [
              "<Figure size 864x360 with 1 Axes>"
            ]
          },
          "metadata": {
            "tags": []
          }
        }
      ]
    },
    {
      "cell_type": "code",
      "metadata": {
        "id": "5LaR2C1rRre3",
        "colab_type": "code",
        "colab": {}
      },
      "source": [
        "# create a new column using the rolling mean\n",
        "df['Close : 30 Day Mean'] = df['Close'].rolling(window = 30).mean()"
      ],
      "execution_count": 0,
      "outputs": []
    },
    {
      "cell_type": "code",
      "metadata": {
        "id": "ovFX85p8StPT",
        "colab_type": "code",
        "colab": {
          "base_uri": "https://localhost:8080/",
          "height": 235
        },
        "outputId": "e0256316-b9b6-4c7d-98ee-097146a53d57"
      },
      "source": [
        "df.tail()"
      ],
      "execution_count": 60,
      "outputs": [
        {
          "output_type": "execute_result",
          "data": {
            "text/html": [
              "<div>\n",
              "<style scoped>\n",
              "    .dataframe tbody tr th:only-of-type {\n",
              "        vertical-align: middle;\n",
              "    }\n",
              "\n",
              "    .dataframe tbody tr th {\n",
              "        vertical-align: top;\n",
              "    }\n",
              "\n",
              "    .dataframe thead th {\n",
              "        text-align: right;\n",
              "    }\n",
              "</style>\n",
              "<table border=\"1\" class=\"dataframe\">\n",
              "  <thead>\n",
              "    <tr style=\"text-align: right;\">\n",
              "      <th></th>\n",
              "      <th>Close</th>\n",
              "      <th>Volume</th>\n",
              "      <th>Close : 30 Day Mean</th>\n",
              "    </tr>\n",
              "    <tr>\n",
              "      <th>Date</th>\n",
              "      <th></th>\n",
              "      <th></th>\n",
              "      <th></th>\n",
              "    </tr>\n",
              "  </thead>\n",
              "  <tbody>\n",
              "    <tr>\n",
              "      <th>2018-12-24</th>\n",
              "      <td>60.56</td>\n",
              "      <td>6323252</td>\n",
              "      <td>65.963703</td>\n",
              "    </tr>\n",
              "    <tr>\n",
              "      <th>2018-12-26</th>\n",
              "      <td>63.08</td>\n",
              "      <td>16646238</td>\n",
              "      <td>65.791913</td>\n",
              "    </tr>\n",
              "    <tr>\n",
              "      <th>2018-12-27</th>\n",
              "      <td>63.20</td>\n",
              "      <td>11308081</td>\n",
              "      <td>65.647000</td>\n",
              "    </tr>\n",
              "    <tr>\n",
              "      <th>2018-12-28</th>\n",
              "      <td>63.39</td>\n",
              "      <td>7712127</td>\n",
              "      <td>65.525000</td>\n",
              "    </tr>\n",
              "    <tr>\n",
              "      <th>2018-12-31</th>\n",
              "      <td>64.40</td>\n",
              "      <td>7690183</td>\n",
              "      <td>65.437000</td>\n",
              "    </tr>\n",
              "  </tbody>\n",
              "</table>\n",
              "</div>"
            ],
            "text/plain": [
              "            Close    Volume  Close : 30 Day Mean\n",
              "Date                                            \n",
              "2018-12-24  60.56   6323252            65.963703\n",
              "2018-12-26  63.08  16646238            65.791913\n",
              "2018-12-27  63.20  11308081            65.647000\n",
              "2018-12-28  63.39   7712127            65.525000\n",
              "2018-12-31  64.40   7690183            65.437000"
            ]
          },
          "metadata": {
            "tags": []
          },
          "execution_count": 60
        }
      ]
    },
    {
      "cell_type": "code",
      "metadata": {
        "id": "xl-o8A_pSuqb",
        "colab_type": "code",
        "colab": {
          "base_uri": "https://localhost:8080/",
          "height": 347
        },
        "outputId": "bb429b69-1087-4574-cd8f-280a2d8a3204"
      },
      "source": [
        "df[['Close', 'Close : 30 Day Mean']].plot(figsize = (12,5))"
      ],
      "execution_count": 61,
      "outputs": [
        {
          "output_type": "execute_result",
          "data": {
            "text/plain": [
              "<matplotlib.axes._subplots.AxesSubplot at 0x7fd46fc481d0>"
            ]
          },
          "metadata": {
            "tags": []
          },
          "execution_count": 61
        },
        {
          "output_type": "display_data",
          "data": {
            "image/png": "[encoded data removed]",
            "text/plain": [
              "<Figure size 864x360 with 1 Axes>"
            ]
          },
          "metadata": {
            "tags": []
          }
        }
      ]
    },
    {
      "cell_type": "code",
      "metadata": {
        "id": "LMMozupgTNIV",
        "colab_type": "code",
        "colab": {
          "base_uri": "https://localhost:8080/",
          "height": 347
        },
        "outputId": "72216bc8-76e4-4d75-cd75-d050ecc0b22e"
      },
      "source": [
        "# Expanding\n",
        "df['Close'].expanding().mean().plot(figsize = (12,5))"
      ],
      "execution_count": 62,
      "outputs": [
        {
          "output_type": "execute_result",
          "data": {
            "text/plain": [
              "<matplotlib.axes._subplots.AxesSubplot at 0x7fd46fccdbe0>"
            ]
          },
          "metadata": {
            "tags": []
          },
          "execution_count": 62
        },
        {
          "output_type": "display_data",
          "data": {
            "image/png": "[encoded data removed]",
            "text/plain": [
              "<Figure size 864x360 with 1 Axes>"
            ]
          },
          "metadata": {
            "tags": []
          }
        }
      ]
    },
    {
      "cell_type": "markdown",
      "metadata": {
        "id": "l28tLdbRU-UE",
        "colab_type": "text"
      },
      "source": [
        "## Visualizing Times Series Data\n"
      ]
    },
    {
      "cell_type": "code",
      "metadata": {
        "id": "VKYsnnbvUwjc",
        "colab_type": "code",
        "colab": {
          "base_uri": "https://localhost:8080/",
          "height": 305
        },
        "outputId": "8c56e0fc-ed9b-4f1a-a1a4-706c4c563c61"
      },
      "source": [
        "df.plot()"
      ],
      "execution_count": 63,
      "outputs": [
        {
          "output_type": "execute_result",
          "data": {
            "text/plain": [
              "<matplotlib.axes._subplots.AxesSubplot at 0x7fd46fb9bdd8>"
            ]
          },
          "metadata": {
            "tags": []
          },
          "execution_count": 63
        },
        {
          "output_type": "display_data",
          "data": {
            "image/png": "[encoded data removed]",
            "text/plain": [
              "<Figure size 432x288 with 1 Axes>"
            ]
          },
          "metadata": {
            "tags": []
          }
        }
      ]
    },
    {
      "cell_type": "markdown",
      "metadata": {
        "id": "tQ_SsaAaVjpy",
        "colab_type": "text"
      },
      "source": [
        "Close and Clos 30 Day Mean appear to be a flat line, that is due to the scaling on the Y-axis."
      ]
    },
    {
      "cell_type": "code",
      "metadata": {
        "id": "qiV3ZgjoVg9-",
        "colab_type": "code",
        "colab": {
          "base_uri": "https://localhost:8080/",
          "height": 282
        },
        "outputId": "14c11f03-1d78-46fb-e920-4dac599a537d"
      },
      "source": [
        "# adding a ';' gets rid of the memory address for the plot\n",
        "df['Close'].plot();"
      ],
      "execution_count": 64,
      "outputs": [
        {
          "output_type": "display_data",
          "data": {
            "image/png": "[encoded data removed]",
            "text/plain": [
              "<Figure size 432x288 with 1 Axes>"
            ]
          },
          "metadata": {
            "tags": []
          }
        }
      ]
    },
    {
      "cell_type": "code",
      "metadata": {
        "id": "50r2f3ZjV9A0",
        "colab_type": "code",
        "colab": {
          "base_uri": "https://localhost:8080/",
          "height": 288
        },
        "outputId": "8944251f-2084-40a8-87df-6960e2bcddb8"
      },
      "source": [
        "df['Volume'].plot();"
      ],
      "execution_count": 65,
      "outputs": [
        {
          "output_type": "display_data",
          "data": {
            "image/png": "[encoded data removed]",
            "text/plain": [
              "<Figure size 432x288 with 1 Axes>"
            ]
          },
          "metadata": {
            "tags": []
          }
        }
      ]
    },
    {
      "cell_type": "code",
      "metadata": {
        "id": "oeYluVW0WPcA",
        "colab_type": "code",
        "colab": {}
      },
      "source": [
        "# Customizing the plot\n",
        "title = 'TITLE'\n",
        "ylabel = 'Y Label'\n",
        "xlabel = 'X Label'"
      ],
      "execution_count": 0,
      "outputs": []
    },
    {
      "cell_type": "code",
      "metadata": {
        "id": "3AHObEoIX0h6",
        "colab_type": "code",
        "colab": {
          "base_uri": "https://localhost:8080/",
          "height": 391
        },
        "outputId": "9a152317-6f50-4386-c636-7604c8bd3fd6"
      },
      "source": [
        "ax = df['Close'].plot(figsize = (12,6), title = title);\n",
        "ax.autoscale(axis = 'both', tight = True)\n",
        "ax.set(xlabel = xlabel, ylabel = ylabel);"
      ],
      "execution_count": 67,
      "outputs": [
        {
          "output_type": "display_data",
          "data": {
            "image/png": "[encoded data removed]",
            "text/plain": [
              "<Figure size 864x432 with 1 Axes>"
            ]
          },
          "metadata": {
            "tags": []
          }
        }
      ]
    },
    {
      "cell_type": "code",
      "metadata": {
        "id": "06KkSiEHYXB7",
        "colab_type": "code",
        "colab": {
          "base_uri": "https://localhost:8080/",
          "height": 379
        },
        "outputId": "f652ce2e-af7a-4136-ffa2-f9ae66fd5705"
      },
      "source": [
        "# Subsetting the df to plot\n",
        "df['Close']['2017-01-01': '2017-12-31'].plot(figsize = (12,6));"
      ],
      "execution_count": 68,
      "outputs": [
        {
          "output_type": "display_data",
          "data": {
            "image/png": "[encoded data removed]",
            "text/plain": [
              "<Figure size 864x432 with 1 Axes>"
            ]
          },
          "metadata": {
            "tags": []
          }
        }
      ]
    },
    {
      "cell_type": "markdown",
      "metadata": {
        "id": "u8fPkvTUamPS",
        "colab_type": "text"
      },
      "source": [
        "We cna also achieve the same using a xlimiter inside the .plot()"
      ]
    },
    {
      "cell_type": "code",
      "metadata": {
        "id": "v3xex3azaF4_",
        "colab_type": "code",
        "colab": {
          "base_uri": "https://localhost:8080/",
          "height": 379
        },
        "outputId": "236f760c-c011-43b2-855a-79822d271300"
      },
      "source": [
        "df['Close'].plot(figsize = (12,6), xlim = ['2017-01-01', '2017-12-31'], ylim = [40,65]);"
      ],
      "execution_count": 69,
      "outputs": [
        {
          "output_type": "display_data",
          "data": {
            "image/png": "[encoded data removed]",
            "text/plain": [
              "<Figure size 864x432 with 1 Axes>"
            ]
          },
          "metadata": {
            "tags": []
          }
        }
      ]
    },
    {
      "cell_type": "code",
      "metadata": {
        "id": "iyqpZS7VcO3r",
        "colab_type": "code",
        "colab": {
          "base_uri": "https://localhost:8080/",
          "height": 318
        },
        "outputId": "6eb14ace-5f1c-4b74-a0c8-7dd8b0ae1a69"
      },
      "source": [
        "# Improving Visualizations\n",
        "from matplotlib import dates\n",
        "ax = df['Close'].plot(xlim=['2017-01-01', '2017-03-01'],ylim=[50,60], figsize = (15,5));\n",
        "ax.set(xlabel = '')\n",
        "ax.xaxis.set_major_locator(dates.WeekdayLocator(byweekday=0)) #spreads the x-ticks' location one week apart\n",
        "ax.xaxis.set_major_formatter(dates.DateFormatter('%d')) # format the x-ticks\n",
        "\n",
        "# Modify minor axis\n",
        "ax.xaxis.set_minor_locator(dates.MonthLocator())\n",
        "ax.xaxis.set_minor_formatter(dates.DateFormatter('\\n\\n%b'))\n",
        "\n",
        "# Add gridlines\n",
        "ax.yaxis.grid(True)\n",
        "ax.xaxis.grid(True)"
      ],
      "execution_count": 84,
      "outputs": [
        {
          "output_type": "display_data",
          "data": {
            "image/png": "[encoded data removed]",
            "text/plain": [
              "<Figure size 1080x360 with 1 Axes>"
            ]
          },
          "metadata": {
            "tags": []
          }
        }
      ]
    },
    {
      "cell_type": "markdown",
      "metadata": {
        "id": "vkQJ7vroI5ap",
        "colab_type": "text"
      },
      "source": [
        "## Time Series Exercise\n",
        "Using the Value of Manufacturer' Shipments dataset to answer some questions."
      ]
    },
    {
      "cell_type": "code",
      "metadata": {
        "id": "qsqzheoVABpZ",
        "colab_type": "code",
        "colab": {
          "base_uri": "https://localhost:8080/",
          "height": 204
        },
        "outputId": "601b8788-5da6-4a7d-cc92-1159171c5c13"
      },
      "source": [
        "df1 = pd.read_csv('UMTMVS.csv')\n",
        "df1.head()"
      ],
      "execution_count": 85,
      "outputs": [
        {
          "output_type": "execute_result",
          "data": {
            "text/html": [
              "<div>\n",
              "<style scoped>\n",
              "    .dataframe tbody tr th:only-of-type {\n",
              "        vertical-align: middle;\n",
              "    }\n",
              "\n",
              "    .dataframe tbody tr th {\n",
              "        vertical-align: top;\n",
              "    }\n",
              "\n",
              "    .dataframe thead th {\n",
              "        text-align: right;\n",
              "    }\n",
              "</style>\n",
              "<table border=\"1\" class=\"dataframe\">\n",
              "  <thead>\n",
              "    <tr style=\"text-align: right;\">\n",
              "      <th></th>\n",
              "      <th>DATE</th>\n",
              "      <th>UMTMVS</th>\n",
              "    </tr>\n",
              "  </thead>\n",
              "  <tbody>\n",
              "    <tr>\n",
              "      <th>0</th>\n",
              "      <td>1992-01-01</td>\n",
              "      <td>209438.0</td>\n",
              "    </tr>\n",
              "    <tr>\n",
              "      <th>1</th>\n",
              "      <td>1992-02-01</td>\n",
              "      <td>232679.0</td>\n",
              "    </tr>\n",
              "    <tr>\n",
              "      <th>2</th>\n",
              "      <td>1992-03-01</td>\n",
              "      <td>249673.0</td>\n",
              "    </tr>\n",
              "    <tr>\n",
              "      <th>3</th>\n",
              "      <td>1992-04-01</td>\n",
              "      <td>239666.0</td>\n",
              "    </tr>\n",
              "    <tr>\n",
              "      <th>4</th>\n",
              "      <td>1992-05-01</td>\n",
              "      <td>243231.0</td>\n",
              "    </tr>\n",
              "  </tbody>\n",
              "</table>\n",
              "</div>"
            ],
            "text/plain": [
              "         DATE    UMTMVS\n",
              "0  1992-01-01  209438.0\n",
              "1  1992-02-01  232679.0\n",
              "2  1992-03-01  249673.0\n",
              "3  1992-04-01  239666.0\n",
              "4  1992-05-01  243231.0"
            ]
          },
          "metadata": {
            "tags": []
          },
          "execution_count": 85
        }
      ]
    },
    {
      "cell_type": "markdown",
      "metadata": {
        "id": "SBcd1Rs6JsFa",
        "colab_type": "text"
      },
      "source": [
        "Set the DATE column as the index of the df"
      ]
    },
    {
      "cell_type": "code",
      "metadata": {
        "id": "6zyv1UsvJfaT",
        "colab_type": "code",
        "colab": {
          "base_uri": "https://localhost:8080/",
          "height": 235
        },
        "outputId": "c58580cd-ce04-4395-c331-77eb06f84ce9"
      },
      "source": [
        "df1 = df1.set_index('DATE')\n",
        "df1.head()"
      ],
      "execution_count": 87,
      "outputs": [
        {
          "output_type": "execute_result",
          "data": {
            "text/html": [
              "<div>\n",
              "<style scoped>\n",
              "    .dataframe tbody tr th:only-of-type {\n",
              "        vertical-align: middle;\n",
              "    }\n",
              "\n",
              "    .dataframe tbody tr th {\n",
              "        vertical-align: top;\n",
              "    }\n",
              "\n",
              "    .dataframe thead th {\n",
              "        text-align: right;\n",
              "    }\n",
              "</style>\n",
              "<table border=\"1\" class=\"dataframe\">\n",
              "  <thead>\n",
              "    <tr style=\"text-align: right;\">\n",
              "      <th></th>\n",
              "      <th>UMTMVS</th>\n",
              "    </tr>\n",
              "    <tr>\n",
              "      <th>DATE</th>\n",
              "      <th></th>\n",
              "    </tr>\n",
              "  </thead>\n",
              "  <tbody>\n",
              "    <tr>\n",
              "      <th>1992-01-01</th>\n",
              "      <td>209438.0</td>\n",
              "    </tr>\n",
              "    <tr>\n",
              "      <th>1992-02-01</th>\n",
              "      <td>232679.0</td>\n",
              "    </tr>\n",
              "    <tr>\n",
              "      <th>1992-03-01</th>\n",
              "      <td>249673.0</td>\n",
              "    </tr>\n",
              "    <tr>\n",
              "      <th>1992-04-01</th>\n",
              "      <td>239666.0</td>\n",
              "    </tr>\n",
              "    <tr>\n",
              "      <th>1992-05-01</th>\n",
              "      <td>243231.0</td>\n",
              "    </tr>\n",
              "  </tbody>\n",
              "</table>\n",
              "</div>"
            ],
            "text/plain": [
              "              UMTMVS\n",
              "DATE                \n",
              "1992-01-01  209438.0\n",
              "1992-02-01  232679.0\n",
              "1992-03-01  249673.0\n",
              "1992-04-01  239666.0\n",
              "1992-05-01  243231.0"
            ]
          },
          "metadata": {
            "tags": []
          },
          "execution_count": 87
        }
      ]
    },
    {
      "cell_type": "markdown",
      "metadata": {
        "id": "S6zp5LFoJ6m2",
        "colab_type": "text"
      },
      "source": [
        "Check data type of the index"
      ]
    },
    {
      "cell_type": "code",
      "metadata": {
        "id": "Iew2fSOTJy2R",
        "colab_type": "code",
        "colab": {
          "base_uri": "https://localhost:8080/",
          "height": 119
        },
        "outputId": "38488c8a-76e2-4d1d-9d35-44fff33df522"
      },
      "source": [
        "df1.index"
      ],
      "execution_count": 89,
      "outputs": [
        {
          "output_type": "execute_result",
          "data": {
            "text/plain": [
              "Index(['1992-01-01', '1992-02-01', '1992-03-01', '1992-04-01', '1992-05-01',\n",
              "       '1992-06-01', '1992-07-01', '1992-08-01', '1992-09-01', '1992-10-01',\n",
              "       ...\n",
              "       '2018-04-01', '2018-05-01', '2018-06-01', '2018-07-01', '2018-08-01',\n",
              "       '2018-09-01', '2018-10-01', '2018-11-01', '2018-12-01', '2019-01-01'],\n",
              "      dtype='object', name='DATE', length=325)"
            ]
          },
          "metadata": {
            "tags": []
          },
          "execution_count": 89
        }
      ]
    },
    {
      "cell_type": "markdown",
      "metadata": {
        "id": "4TcHdYZ2J_EG",
        "colab_type": "text"
      },
      "source": [
        "Convert the index to a datetime index."
      ]
    },
    {
      "cell_type": "code",
      "metadata": {
        "id": "slq-GLGLKC5R",
        "colab_type": "code",
        "colab": {}
      },
      "source": [
        "df1.index = pd.to_datetime(df1.index)"
      ],
      "execution_count": 0,
      "outputs": []
    },
    {
      "cell_type": "code",
      "metadata": {
        "id": "v493LgqQK6Oc",
        "colab_type": "code",
        "colab": {
          "base_uri": "https://localhost:8080/",
          "height": 153
        },
        "outputId": "1a90e2b0-dd4f-4a96-9d69-c3540054a44b"
      },
      "source": [
        "df1.index"
      ],
      "execution_count": 93,
      "outputs": [
        {
          "output_type": "execute_result",
          "data": {
            "text/plain": [
              "DatetimeIndex(['1992-01-01', '1992-02-01', '1992-03-01', '1992-04-01',\n",
              "               '1992-05-01', '1992-06-01', '1992-07-01', '1992-08-01',\n",
              "               '1992-09-01', '1992-10-01',\n",
              "               ...\n",
              "               '2018-04-01', '2018-05-01', '2018-06-01', '2018-07-01',\n",
              "               '2018-08-01', '2018-09-01', '2018-10-01', '2018-11-01',\n",
              "               '2018-12-01', '2019-01-01'],\n",
              "              dtype='datetime64[ns]', name='DATE', length=325, freq=None)"
            ]
          },
          "metadata": {
            "tags": []
          },
          "execution_count": 93
        }
      ]
    },
    {
      "cell_type": "markdown",
      "metadata": {
        "id": "Paa8xRBWLcvp",
        "colab_type": "text"
      },
      "source": [
        "Create a simple plot for the data"
      ]
    },
    {
      "cell_type": "code",
      "metadata": {
        "id": "0dvg7YgTLL26",
        "colab_type": "code",
        "colab": {
          "base_uri": "https://localhost:8080/",
          "height": 354
        },
        "outputId": "fa035d19-ef25-437d-9881-d8cb67f05d01"
      },
      "source": [
        "df1.plot(figsize = (12, 5))"
      ],
      "execution_count": 94,
      "outputs": [
        {
          "output_type": "execute_result",
          "data": {
            "text/plain": [
              "<matplotlib.axes._subplots.AxesSubplot at 0x7fd46fa48ef0>"
            ]
          },
          "metadata": {
            "tags": []
          },
          "execution_count": 94
        },
        {
          "output_type": "display_data",
          "data": {
            "image/png": "[encoded data removed]",
            "text/plain": [
              "<Figure size 864x360 with 1 Axes>"
            ]
          },
          "metadata": {
            "tags": []
          }
        }
      ]
    },
    {
      "cell_type": "markdown",
      "metadata": {
        "id": "Uy99-4F8MIYp",
        "colab_type": "text"
      },
      "source": [
        "**Q1- What was the percentage increase in value from Jan 2009 to Jan 2019?**"
      ]
    },
    {
      "cell_type": "code",
      "metadata": {
        "id": "yCB9EP0YLhyy",
        "colab_type": "code",
        "colab": {
          "base_uri": "https://localhost:8080/",
          "height": 51
        },
        "outputId": "68e6fa49-be8c-4f1c-d4e6-873d761adf61"
      },
      "source": [
        "# first grab location of those data points\n",
        " 100 * (df1.loc['2019-01-01'] - df1.loc['2009-01-01']) / df1.loc['2009-01-01']"
      ],
      "execution_count": 95,
      "outputs": [
        {
          "output_type": "execute_result",
          "data": {
            "text/plain": [
              "UMTMVS    38.472149\n",
              "dtype: float64"
            ]
          },
          "metadata": {
            "tags": []
          },
          "execution_count": 95
        }
      ]
    },
    {
      "cell_type": "markdown",
      "metadata": {
        "id": "0VhrwZQ9OE4B",
        "colab_type": "text"
      },
      "source": [
        "**Q2- What was the percentage decrease from Jan 2008 to Jan 2009?**"
      ]
    },
    {
      "cell_type": "code",
      "metadata": {
        "id": "TINtiIzuM0S7",
        "colab_type": "code",
        "colab": {
          "base_uri": "https://localhost:8080/",
          "height": 51
        },
        "outputId": "94378dfa-2a8c-4aef-e4a7-1d539dbeb5af"
      },
      "source": [
        "100 * (df1.loc['2009-01-01'] - df1.loc['2008-01-01']) / df1.loc['2008-01-01']"
      ],
      "execution_count": 97,
      "outputs": [
        {
          "output_type": "execute_result",
          "data": {
            "text/plain": [
              "UMTMVS   -22.022775\n",
              "dtype: float64"
            ]
          },
          "metadata": {
            "tags": []
          },
          "execution_count": 97
        }
      ]
    },
    {
      "cell_type": "markdown",
      "metadata": {
        "id": "qQnFUFq7O9C4",
        "colab_type": "text"
      },
      "source": [
        "**Q3- What is the month with the least value after 2005?**"
      ]
    },
    {
      "cell_type": "code",
      "metadata": {
        "id": "ZXpfX5NwOv87",
        "colab_type": "code",
        "colab": {
          "base_uri": "https://localhost:8080/",
          "height": 51
        },
        "outputId": "434b626b-f15c-4b4a-a508-dc6b99ef54fd"
      },
      "source": [
        "# we can use idxmin to get the min value for this range\n",
        "df1.loc['2005-01-01':].idxmin()"
      ],
      "execution_count": 98,
      "outputs": [
        {
          "output_type": "execute_result",
          "data": {
            "text/plain": [
              "UMTMVS   2009-01-01\n",
              "dtype: datetime64[ns]"
            ]
          },
          "metadata": {
            "tags": []
          },
          "execution_count": 98
        }
      ]
    },
    {
      "cell_type": "markdown",
      "metadata": {
        "id": "eCbeY5uTP4BO",
        "colab_type": "text"
      },
      "source": [
        "**Q4- What six months have th ehighest value?**"
      ]
    },
    {
      "cell_type": "code",
      "metadata": {
        "id": "EqIOm_OIP2_N",
        "colab_type": "code",
        "colab": {
          "base_uri": "https://localhost:8080/",
          "height": 266
        },
        "outputId": "be29217d-c5dc-465b-e9db-7913196178fb"
      },
      "source": [
        "# use sort_values\n",
        "df1.sort_values(by = 'UMTMVS', ascending = False).head(6)"
      ],
      "execution_count": 99,
      "outputs": [
        {
          "output_type": "execute_result",
          "data": {
            "text/html": [
              "<div>\n",
              "<style scoped>\n",
              "    .dataframe tbody tr th:only-of-type {\n",
              "        vertical-align: middle;\n",
              "    }\n",
              "\n",
              "    .dataframe tbody tr th {\n",
              "        vertical-align: top;\n",
              "    }\n",
              "\n",
              "    .dataframe thead th {\n",
              "        text-align: right;\n",
              "    }\n",
              "</style>\n",
              "<table border=\"1\" class=\"dataframe\">\n",
              "  <thead>\n",
              "    <tr style=\"text-align: right;\">\n",
              "      <th></th>\n",
              "      <th>UMTMVS</th>\n",
              "    </tr>\n",
              "    <tr>\n",
              "      <th>DATE</th>\n",
              "      <th></th>\n",
              "    </tr>\n",
              "  </thead>\n",
              "  <tbody>\n",
              "    <tr>\n",
              "      <th>2018-08-01</th>\n",
              "      <td>529157.0</td>\n",
              "    </tr>\n",
              "    <tr>\n",
              "      <th>2018-10-01</th>\n",
              "      <td>527031.0</td>\n",
              "    </tr>\n",
              "    <tr>\n",
              "      <th>2018-06-01</th>\n",
              "      <td>525660.0</td>\n",
              "    </tr>\n",
              "    <tr>\n",
              "      <th>2018-03-01</th>\n",
              "      <td>518285.0</td>\n",
              "    </tr>\n",
              "    <tr>\n",
              "      <th>2018-09-01</th>\n",
              "      <td>516992.0</td>\n",
              "    </tr>\n",
              "    <tr>\n",
              "      <th>2014-06-01</th>\n",
              "      <td>516935.0</td>\n",
              "    </tr>\n",
              "  </tbody>\n",
              "</table>\n",
              "</div>"
            ],
            "text/plain": [
              "              UMTMVS\n",
              "DATE                \n",
              "2018-08-01  529157.0\n",
              "2018-10-01  527031.0\n",
              "2018-06-01  525660.0\n",
              "2018-03-01  518285.0\n",
              "2018-09-01  516992.0\n",
              "2014-06-01  516935.0"
            ]
          },
          "metadata": {
            "tags": []
          },
          "execution_count": 99
        }
      ]
    },
    {
      "cell_type": "markdown",
      "metadata": {
        "id": "w-wp9FbIRIQe",
        "colab_type": "text"
      },
      "source": [
        "**Q5- How many millions of dollars in value was lost in 2008? / What is the value difference between Jan 2008 and Jan 2009**"
      ]
    },
    {
      "cell_type": "code",
      "metadata": {
        "id": "NP37YVEvQ6f5",
        "colab_type": "code",
        "colab": {
          "base_uri": "https://localhost:8080/",
          "height": 51
        },
        "outputId": "29b6634c-038d-4bd2-edf5-073f6557b9ff"
      },
      "source": [
        "df1.loc['2008-01-01'] - df1.loc['2009-01-01']"
      ],
      "execution_count": 101,
      "outputs": [
        {
          "output_type": "execute_result",
          "data": {
            "text/plain": [
              "UMTMVS    95206.0\n",
              "dtype: float64"
            ]
          },
          "metadata": {
            "tags": []
          },
          "execution_count": 101
        }
      ]
    },
    {
      "cell_type": "markdown",
      "metadata": {
        "id": "Q1uxbfPqRqkp",
        "colab_type": "text"
      },
      "source": [
        "**Create a bar plot showing the average in millions of dollars per year**"
      ]
    },
    {
      "cell_type": "code",
      "metadata": {
        "id": "9Q9Ga-R2Rmcx",
        "colab_type": "code",
        "colab": {
          "base_uri": "https://localhost:8080/",
          "height": 504
        },
        "outputId": "08e307a4-1dcc-4291-c8fc-c86d3183eb89"
      },
      "source": [
        "# Since we have monthly data we need to resample by year 'Y' and then plot it\n",
        "df1.resample('Y').mean().plot.bar(figsize = (12,6))"
      ],
      "execution_count": 103,
      "outputs": [
        {
          "output_type": "execute_result",
          "data": {
            "text/plain": [
              "<matplotlib.axes._subplots.AxesSubplot at 0x7fd46e2421d0>"
            ]
          },
          "metadata": {
            "tags": []
          },
          "execution_count": 103
        },
        {
          "output_type": "display_data",
          "data": {
            "image/png": "[encoded data removed]",
            "text/plain": [
              "<Figure size 864x432 with 1 Axes>"
            ]
          },
          "metadata": {
            "tags": []
          }
        }
      ]
    },
    {
      "cell_type": "code",
      "metadata": {
        "id": "e4TVYJqOTGdy",
        "colab_type": "code",
        "colab": {}
      },
      "source": [
        ""
      ],
      "execution_count": 0,
      "outputs": []
    },
    {
      "cell_type": "markdown",
      "metadata": {
        "id": "EGIbVAINTWd_",
        "colab_type": "text"
      },
      "source": [
        "**What year had the biggest increase in mean value from the previous year's mena value?**"
      ]
    },
    {
      "cell_type": "code",
      "metadata": {
        "id": "tkAzr302TiSe",
        "colab_type": "code",
        "colab": {}
      },
      "source": [
        "# resample yearly\n",
        "yearly_data = df1.resample('Y').mean()"
      ],
      "execution_count": 0,
      "outputs": []
    },
    {
      "cell_type": "code",
      "metadata": {
        "id": "L_Tm71h6TqIw",
        "colab_type": "code",
        "colab": {}
      },
      "source": [
        "# shift the yearly data by one year\n",
        "yearly_data_shift = yearly_data.shift(1)"
      ],
      "execution_count": 0,
      "outputs": []
    },
    {
      "cell_type": "code",
      "metadata": {
        "id": "OK1vhVsLT43K",
        "colab_type": "code",
        "colab": {}
      },
      "source": [
        "change = yearly_data - yearly_data_shift"
      ],
      "execution_count": 0,
      "outputs": []
    },
    {
      "cell_type": "code",
      "metadata": {
        "id": "faISPpvvUDPA",
        "colab_type": "code",
        "colab": {
          "base_uri": "https://localhost:8080/",
          "height": 235
        },
        "outputId": "0c0fd089-88ae-4cfd-9085-23818294ad2e"
      },
      "source": [
        "change.head()"
      ],
      "execution_count": 108,
      "outputs": [
        {
          "output_type": "execute_result",
          "data": {
            "text/html": [
              "<div>\n",
              "<style scoped>\n",
              "    .dataframe tbody tr th:only-of-type {\n",
              "        vertical-align: middle;\n",
              "    }\n",
              "\n",
              "    .dataframe tbody tr th {\n",
              "        vertical-align: top;\n",
              "    }\n",
              "\n",
              "    .dataframe thead th {\n",
              "        text-align: right;\n",
              "    }\n",
              "</style>\n",
              "<table border=\"1\" class=\"dataframe\">\n",
              "  <thead>\n",
              "    <tr style=\"text-align: right;\">\n",
              "      <th></th>\n",
              "      <th>UMTMVS</th>\n",
              "    </tr>\n",
              "    <tr>\n",
              "      <th>DATE</th>\n",
              "      <th></th>\n",
              "    </tr>\n",
              "  </thead>\n",
              "  <tbody>\n",
              "    <tr>\n",
              "      <th>1992-12-31</th>\n",
              "      <td>NaN</td>\n",
              "    </tr>\n",
              "    <tr>\n",
              "      <th>1993-12-31</th>\n",
              "      <td>9706.083333</td>\n",
              "    </tr>\n",
              "    <tr>\n",
              "      <th>1994-12-31</th>\n",
              "      <td>18134.583333</td>\n",
              "    </tr>\n",
              "    <tr>\n",
              "      <th>1995-12-31</th>\n",
              "      <td>20130.416667</td>\n",
              "    </tr>\n",
              "    <tr>\n",
              "      <th>1996-12-31</th>\n",
              "      <td>9792.583333</td>\n",
              "    </tr>\n",
              "  </tbody>\n",
              "</table>\n",
              "</div>"
            ],
            "text/plain": [
              "                  UMTMVS\n",
              "DATE                    \n",
              "1992-12-31           NaN\n",
              "1993-12-31   9706.083333\n",
              "1994-12-31  18134.583333\n",
              "1995-12-31  20130.416667\n",
              "1996-12-31   9792.583333"
            ]
          },
          "metadata": {
            "tags": []
          },
          "execution_count": 108
        }
      ]
    },
    {
      "cell_type": "code",
      "metadata": {
        "id": "igmqJ2KTUGFM",
        "colab_type": "code",
        "colab": {
          "base_uri": "https://localhost:8080/",
          "height": 34
        },
        "outputId": "77e85082-1a3e-46f5-d279-89353d6da8f3"
      },
      "source": [
        "change['UMTMVS'].idxmax()"
      ],
      "execution_count": 110,
      "outputs": [
        {
          "output_type": "execute_result",
          "data": {
            "text/plain": [
              "Timestamp('2011-12-31 00:00:00', freq='A-DEC')"
            ]
          },
          "metadata": {
            "tags": []
          },
          "execution_count": 110
        }
      ]
    },
    {
      "cell_type": "markdown",
      "metadata": {
        "id": "U53cZnm-Ulin",
        "colab_type": "text"
      },
      "source": [
        "**Plot the yearly rolling mean on top of the original data.**"
      ]
    },
    {
      "cell_type": "code",
      "metadata": {
        "id": "qPKUGMfOUPF0",
        "colab_type": "code",
        "colab": {
          "base_uri": "https://localhost:8080/",
          "height": 354
        },
        "outputId": "3cbd7efa-572d-4f97-b6dc-21ffd4e78caa"
      },
      "source": [
        "df1['Yearly Mean'] = df1['UMTMVS'].rolling(window = 12).mean()\n",
        "df1.plot(figsize = (12,5))\n",
        "\n"
      ],
      "execution_count": 115,
      "outputs": [
        {
          "output_type": "execute_result",
          "data": {
            "text/plain": [
              "<matplotlib.axes._subplots.AxesSubplot at 0x7fd46ddfcc18>"
            ]
          },
          "metadata": {
            "tags": []
          },
          "execution_count": 115
        },
        {
          "output_type": "display_data",
          "data": {
            "image/png": "[encoded data removed]",
            "text/plain": [
              "<Figure size 864x360 with 1 Axes>"
            ]
          },
          "metadata": {
            "tags": []
          }
        }
      ]
    },
    {
      "cell_type": "markdown",
      "metadata": {
        "id": "flVaHVZzWnph",
        "colab_type": "text"
      },
      "source": [
        "**At some month in 2008 the value peaked for that year. How many months did it take to surpass that 2008 peak?**"
      ]
    },
    {
      "cell_type": "code",
      "metadata": {
        "id": "ueBwQ_e7UvJs",
        "colab_type": "code",
        "colab": {
          "base_uri": "https://localhost:8080/",
          "height": 235
        },
        "outputId": "9c6dbf3e-791c-423c-ad17-aa5d105dc814"
      },
      "source": [
        "df2 = pd.read_csv('UMTMVS.csv', index_col = 'DATE', parse_dates = True)\n",
        "df2.head()"
      ],
      "execution_count": 137,
      "outputs": [
        {
          "output_type": "execute_result",
          "data": {
            "text/html": [
              "<div>\n",
              "<style scoped>\n",
              "    .dataframe tbody tr th:only-of-type {\n",
              "        vertical-align: middle;\n",
              "    }\n",
              "\n",
              "    .dataframe tbody tr th {\n",
              "        vertical-align: top;\n",
              "    }\n",
              "\n",
              "    .dataframe thead th {\n",
              "        text-align: right;\n",
              "    }\n",
              "</style>\n",
              "<table border=\"1\" class=\"dataframe\">\n",
              "  <thead>\n",
              "    <tr style=\"text-align: right;\">\n",
              "      <th></th>\n",
              "      <th>UMTMVS</th>\n",
              "    </tr>\n",
              "    <tr>\n",
              "      <th>DATE</th>\n",
              "      <th></th>\n",
              "    </tr>\n",
              "  </thead>\n",
              "  <tbody>\n",
              "    <tr>\n",
              "      <th>1992-01-01</th>\n",
              "      <td>209438.0</td>\n",
              "    </tr>\n",
              "    <tr>\n",
              "      <th>1992-02-01</th>\n",
              "      <td>232679.0</td>\n",
              "    </tr>\n",
              "    <tr>\n",
              "      <th>1992-03-01</th>\n",
              "      <td>249673.0</td>\n",
              "    </tr>\n",
              "    <tr>\n",
              "      <th>1992-04-01</th>\n",
              "      <td>239666.0</td>\n",
              "    </tr>\n",
              "    <tr>\n",
              "      <th>1992-05-01</th>\n",
              "      <td>243231.0</td>\n",
              "    </tr>\n",
              "  </tbody>\n",
              "</table>\n",
              "</div>"
            ],
            "text/plain": [
              "              UMTMVS\n",
              "DATE                \n",
              "1992-01-01  209438.0\n",
              "1992-02-01  232679.0\n",
              "1992-03-01  249673.0\n",
              "1992-04-01  239666.0\n",
              "1992-05-01  243231.0"
            ]
          },
          "metadata": {
            "tags": []
          },
          "execution_count": 137
        }
      ]
    },
    {
      "cell_type": "code",
      "metadata": {
        "id": "ZeQy3IbNXS1h",
        "colab_type": "code",
        "colab": {}
      },
      "source": [
        "df2008 = df2.loc['2008-01-01':'2009-01-01']"
      ],
      "execution_count": 0,
      "outputs": []
    },
    {
      "cell_type": "code",
      "metadata": {
        "id": "1ddvGD7WXv5d",
        "colab_type": "code",
        "colab": {
          "base_uri": "https://localhost:8080/",
          "height": 235
        },
        "outputId": "5b17698a-bd4f-4df9-8deb-712f2b2b2b0a"
      },
      "source": [
        "df2008.head()"
      ],
      "execution_count": 139,
      "outputs": [
        {
          "output_type": "execute_result",
          "data": {
            "text/html": [
              "<div>\n",
              "<style scoped>\n",
              "    .dataframe tbody tr th:only-of-type {\n",
              "        vertical-align: middle;\n",
              "    }\n",
              "\n",
              "    .dataframe tbody tr th {\n",
              "        vertical-align: top;\n",
              "    }\n",
              "\n",
              "    .dataframe thead th {\n",
              "        text-align: right;\n",
              "    }\n",
              "</style>\n",
              "<table border=\"1\" class=\"dataframe\">\n",
              "  <thead>\n",
              "    <tr style=\"text-align: right;\">\n",
              "      <th></th>\n",
              "      <th>UMTMVS</th>\n",
              "    </tr>\n",
              "    <tr>\n",
              "      <th>DATE</th>\n",
              "      <th></th>\n",
              "    </tr>\n",
              "  </thead>\n",
              "  <tbody>\n",
              "    <tr>\n",
              "      <th>2008-01-01</th>\n",
              "      <td>432307.0</td>\n",
              "    </tr>\n",
              "    <tr>\n",
              "      <th>2008-02-01</th>\n",
              "      <td>442996.0</td>\n",
              "    </tr>\n",
              "    <tr>\n",
              "      <th>2008-03-01</th>\n",
              "      <td>474592.0</td>\n",
              "    </tr>\n",
              "    <tr>\n",
              "      <th>2008-04-01</th>\n",
              "      <td>475667.0</td>\n",
              "    </tr>\n",
              "    <tr>\n",
              "      <th>2008-05-01</th>\n",
              "      <td>490500.0</td>\n",
              "    </tr>\n",
              "  </tbody>\n",
              "</table>\n",
              "</div>"
            ],
            "text/plain": [
              "              UMTMVS\n",
              "DATE                \n",
              "2008-01-01  432307.0\n",
              "2008-02-01  442996.0\n",
              "2008-03-01  474592.0\n",
              "2008-04-01  475667.0\n",
              "2008-05-01  490500.0"
            ]
          },
          "metadata": {
            "tags": []
          },
          "execution_count": 139
        }
      ]
    },
    {
      "cell_type": "code",
      "metadata": {
        "id": "-s_RQYWgYQZt",
        "colab_type": "code",
        "colab": {
          "base_uri": "https://localhost:8080/",
          "height": 51
        },
        "outputId": "1c9efe33-4be0-42e6-c9a1-2da7542930f7"
      },
      "source": [
        "# find max value of 2008\n",
        "df2008.idxmax()"
      ],
      "execution_count": 140,
      "outputs": [
        {
          "output_type": "execute_result",
          "data": {
            "text/plain": [
              "UMTMVS   2008-06-01\n",
              "dtype: datetime64[ns]"
            ]
          },
          "metadata": {
            "tags": []
          },
          "execution_count": 140
        }
      ]
    },
    {
      "cell_type": "code",
      "metadata": {
        "id": "ifzj82shYavp",
        "colab_type": "code",
        "colab": {
          "base_uri": "https://localhost:8080/",
          "height": 51
        },
        "outputId": "1939aac9-ce3d-4ef7-f279-001d9290ce5a"
      },
      "source": [
        "df2008.max()"
      ],
      "execution_count": 141,
      "outputs": [
        {
          "output_type": "execute_result",
          "data": {
            "text/plain": [
              "UMTMVS    510081.0\n",
              "dtype: float64"
            ]
          },
          "metadata": {
            "tags": []
          },
          "execution_count": 141
        }
      ]
    },
    {
      "cell_type": "code",
      "metadata": {
        "id": "jbolWvT1Yipr",
        "colab_type": "code",
        "colab": {}
      },
      "source": [
        "df_post_peak = df2.loc['2008-06-01':]"
      ],
      "execution_count": 0,
      "outputs": []
    },
    {
      "cell_type": "code",
      "metadata": {
        "id": "y8iVDZboYyH5",
        "colab_type": "code",
        "colab": {
          "base_uri": "https://localhost:8080/",
          "height": 390
        },
        "outputId": "07cfa2dc-68fd-4c98-d5e4-47b019480a7d"
      },
      "source": [
        "df_post_peak[df_post_peak >= 510081.0].dropna()"
      ],
      "execution_count": 143,
      "outputs": [
        {
          "output_type": "execute_result",
          "data": {
            "text/html": [
              "<div>\n",
              "<style scoped>\n",
              "    .dataframe tbody tr th:only-of-type {\n",
              "        vertical-align: middle;\n",
              "    }\n",
              "\n",
              "    .dataframe tbody tr th {\n",
              "        vertical-align: top;\n",
              "    }\n",
              "\n",
              "    .dataframe thead th {\n",
              "        text-align: right;\n",
              "    }\n",
              "</style>\n",
              "<table border=\"1\" class=\"dataframe\">\n",
              "  <thead>\n",
              "    <tr style=\"text-align: right;\">\n",
              "      <th></th>\n",
              "      <th>UMTMVS</th>\n",
              "    </tr>\n",
              "    <tr>\n",
              "      <th>DATE</th>\n",
              "      <th></th>\n",
              "    </tr>\n",
              "  </thead>\n",
              "  <tbody>\n",
              "    <tr>\n",
              "      <th>2008-06-01</th>\n",
              "      <td>510081.0</td>\n",
              "    </tr>\n",
              "    <tr>\n",
              "      <th>2014-03-01</th>\n",
              "      <td>513700.0</td>\n",
              "    </tr>\n",
              "    <tr>\n",
              "      <th>2014-06-01</th>\n",
              "      <td>516935.0</td>\n",
              "    </tr>\n",
              "    <tr>\n",
              "      <th>2014-09-01</th>\n",
              "      <td>512988.0</td>\n",
              "    </tr>\n",
              "    <tr>\n",
              "      <th>2018-03-01</th>\n",
              "      <td>518285.0</td>\n",
              "    </tr>\n",
              "    <tr>\n",
              "      <th>2018-05-01</th>\n",
              "      <td>515105.0</td>\n",
              "    </tr>\n",
              "    <tr>\n",
              "      <th>2018-06-01</th>\n",
              "      <td>525660.0</td>\n",
              "    </tr>\n",
              "    <tr>\n",
              "      <th>2018-08-01</th>\n",
              "      <td>529157.0</td>\n",
              "    </tr>\n",
              "    <tr>\n",
              "      <th>2018-09-01</th>\n",
              "      <td>516992.0</td>\n",
              "    </tr>\n",
              "    <tr>\n",
              "      <th>2018-10-01</th>\n",
              "      <td>527031.0</td>\n",
              "    </tr>\n",
              "  </tbody>\n",
              "</table>\n",
              "</div>"
            ],
            "text/plain": [
              "              UMTMVS\n",
              "DATE                \n",
              "2008-06-01  510081.0\n",
              "2014-03-01  513700.0\n",
              "2014-06-01  516935.0\n",
              "2014-09-01  512988.0\n",
              "2018-03-01  518285.0\n",
              "2018-05-01  515105.0\n",
              "2018-06-01  525660.0\n",
              "2018-08-01  529157.0\n",
              "2018-09-01  516992.0\n",
              "2018-10-01  527031.0"
            ]
          },
          "metadata": {
            "tags": []
          },
          "execution_count": 143
        }
      ]
    },
    {
      "cell_type": "code",
      "metadata": {
        "id": "faRSeejCY5Cz",
        "colab_type": "code",
        "colab": {
          "base_uri": "https://localhost:8080/",
          "height": 34
        },
        "outputId": "d9cb5bfc-3bb5-45e8-919f-cbe7960fbef3"
      },
      "source": [
        "len(df2.loc['2008-06-01':'2014-03-01'])"
      ],
      "execution_count": 145,
      "outputs": [
        {
          "output_type": "execute_result",
          "data": {
            "text/plain": [
              "70"
            ]
          },
          "metadata": {
            "tags": []
          },
          "execution_count": 145
        }
      ]
    },
    {
      "cell_type": "code",
      "metadata": {
        "id": "OPWbkM-qa593",
        "colab_type": "code",
        "colab": {}
      },
      "source": [
        ""
      ],
      "execution_count": 0,
      "outputs": []
    }
  ]
}