{
  "nbformat": 4,
  "nbformat_minor": 0,
  "metadata": {
    "colab": {
      "name": "TimeSeries.ipynb",
      "provenance": [],
      "collapsed_sections": [],
      "toc_visible": true,
      "authorship_tag": "ABX9TyNyF/xeGroXReJh2NjGM/gh",
      "include_colab_link": true
    },
    "kernelspec": {
      "name": "python3",
      "display_name": "Python 3"
    }
  },
  "cells": [
    {
      "cell_type": "markdown",
      "metadata": {
        "id": "view-in-github",
        "colab_type": "text"
      },
      "source": [
        "<a href=\"https://colab.research.google.com/github/GabeMaldonado/JupyterNotebooks/blob/master/TimeSeries.ipynb\" target=\"_parent\"><img src=\"https://colab.research.google.com/assets/colab-badge.svg\" alt=\"Open In Colab\"/></a>"
      ]
    },
    {
      "cell_type": "markdown",
      "metadata": {
        "id": "jO1mbYcAixBx",
        "colab_type": "text"
      },
      "source": [
        "## Python/pandas for TimeSeries Data\n",
        "\n",
        "### Date & time series functionality\n",
        "\n",
        "*   At the core -- data types for date & time information\n",
        "    *   Objects for points in time periods\n",
        "    *   Attributes & methods reflect time-related details\n",
        "\n",
        "*   Sequences of Dates & Periods  \n",
        "    *   Series or DataFrame columns\n",
        "    *   Index: converts entire dataframe into TimeSeries\n",
        "\n",
        "*   Many series/dataframes methods rely on time information in the index to provide time-series functionality\n",
        "\n",
        "The basic building block is pandas `Timestamp`:"
      ]
    },
    {
      "cell_type": "code",
      "metadata": {
        "id": "tJ1gX7F-kILw",
        "colab_type": "code",
        "colab": {
          "base_uri": "https://localhost:8080/",
          "height": 88
        },
        "outputId": "98873954-407d-45ff-faf4-042c87704ec8"
      },
      "source": [
        "import pandas as pd\n",
        "import numpy as np\n",
        "import matplotlib.pyplot as plt\n",
        "import seaborn as sns\n",
        "from datetime import datetime\n",
        "\n",
        "# create a timestamp manually\n",
        "time_stamp = pd.Timestamp(datetime(2020, 1, 1))\n",
        "\n",
        "time_stamp"
      ],
      "execution_count": 52,
      "outputs": [
        {
          "output_type": "stream",
          "text": [
            "/usr/local/lib/python3.6/dist-packages/statsmodels/tools/_testing.py:19: FutureWarning: pandas.util.testing is deprecated. Use the functions in the public API at pandas.testing instead.\n",
            "  import pandas.util.testing as tm\n"
          ],
          "name": "stderr"
        },
        {
          "output_type": "execute_result",
          "data": {
            "text/plain": [
              "Timestamp('2020-01-01 00:00:00')"
            ]
          },
          "metadata": {
            "tags": []
          },
          "execution_count": 52
        }
      ]
    },
    {
      "cell_type": "code",
      "metadata": {
        "id": "xB6Bo49jk0ls",
        "colab_type": "code",
        "colab": {
          "base_uri": "https://localhost:8080/",
          "height": 34
        },
        "outputId": "6f484e85-f5ec-4345-ed3e-0b609c16679d"
      },
      "source": [
        "# we can also use a date string instead of a datetime object \n",
        "# to create the timestamp\n",
        "pd.Timestamp('2020-01-01')\n"
      ],
      "execution_count": 2,
      "outputs": [
        {
          "output_type": "execute_result",
          "data": {
            "text/plain": [
              "Timestamp('2020-01-01 00:00:00')"
            ]
          },
          "metadata": {
            "tags": []
          },
          "execution_count": 2
        }
      ]
    },
    {
      "cell_type": "markdown",
      "metadata": {
        "id": "_CEdmLTglKlT",
        "colab_type": "text"
      },
      "source": [
        "`pd.Timestamp` has different attributes so we can access different elements of the timestamp. For instance:"
      ]
    },
    {
      "cell_type": "code",
      "metadata": {
        "id": "7So2HjpllFLL",
        "colab_type": "code",
        "colab": {
          "base_uri": "https://localhost:8080/",
          "height": 34
        },
        "outputId": "cba2a3e7-8728-443d-ffb8-3e512be128a5"
      },
      "source": [
        "# to get the year\n",
        "time_stamp.year"
      ],
      "execution_count": 3,
      "outputs": [
        {
          "output_type": "execute_result",
          "data": {
            "text/plain": [
              "2020"
            ]
          },
          "metadata": {
            "tags": []
          },
          "execution_count": 3
        }
      ]
    },
    {
      "cell_type": "code",
      "metadata": {
        "id": "F773Z_oXlbbN",
        "colab_type": "code",
        "colab": {
          "base_uri": "https://localhost:8080/",
          "height": 35
        },
        "outputId": "1283fc72-2eee-4577-841b-c8819f13f147"
      },
      "source": [
        "# to get the week day\n",
        "time_stamp.day_name()\n"
      ],
      "execution_count": 12,
      "outputs": [
        {
          "output_type": "execute_result",
          "data": {
            "application/vnd.google.colaboratory.intrinsic+json": {
              "type": "string"
            },
            "text/plain": [
              "'Wednesday'"
            ]
          },
          "metadata": {
            "tags": []
          },
          "execution_count": 12
        }
      ]
    },
    {
      "cell_type": "markdown",
      "metadata": {
        "id": "-D_tDC8vqjCJ",
        "colab_type": "text"
      },
      "source": [
        "We can also access more attributes for `pd.Timestamp` such as:\n",
        "`.second`, `.minute`, `.hour`\n",
        "`.day`, `.month`, `.quarter`, `.year`\n",
        "`.weekday`, `.dayofweek`, `.weekofyear`, `.dayofyear`"
      ]
    },
    {
      "cell_type": "markdown",
      "metadata": {
        "id": "aQ0wFus3mSCC",
        "colab_type": "text"
      },
      "source": [
        "### Period & Frequency\n",
        "\n",
        "The period object has `freq` attribute to store frequency info:"
      ]
    },
    {
      "cell_type": "code",
      "metadata": {
        "id": "6Wv59j9TliSs",
        "colab_type": "code",
        "colab": {
          "base_uri": "https://localhost:8080/",
          "height": 34
        },
        "outputId": "cc06623d-daf7-4878-b5a6-49a696d86121"
      },
      "source": [
        "period = pd.Period('2020-01')\n",
        "period"
      ],
      "execution_count": 13,
      "outputs": [
        {
          "output_type": "execute_result",
          "data": {
            "text/plain": [
              "Period('2020-01', 'M')"
            ]
          },
          "metadata": {
            "tags": []
          },
          "execution_count": 13
        }
      ]
    },
    {
      "cell_type": "code",
      "metadata": {
        "id": "Z6e2EjbxmqH-",
        "colab_type": "code",
        "colab": {
          "base_uri": "https://localhost:8080/",
          "height": 34
        },
        "outputId": "1d4f732e-5a03-4f80-d03b-48b1d853b291"
      },
      "source": [
        "# change requency to daily 'D'\n",
        "period.asfreq('D')"
      ],
      "execution_count": 14,
      "outputs": [
        {
          "output_type": "execute_result",
          "data": {
            "text/plain": [
              "Period('2020-01-31', 'D')"
            ]
          },
          "metadata": {
            "tags": []
          },
          "execution_count": 14
        }
      ]
    },
    {
      "cell_type": "code",
      "metadata": {
        "id": "ahYN2XdDmxfm",
        "colab_type": "code",
        "colab": {
          "base_uri": "https://localhost:8080/",
          "height": 34
        },
        "outputId": "a3c90ac5-dcba-4b05-d7b0-ad1308602322"
      },
      "source": [
        "# we can do simply math with periods\n",
        "period + 2"
      ],
      "execution_count": 15,
      "outputs": [
        {
          "output_type": "execute_result",
          "data": {
            "text/plain": [
              "Period('2020-03', 'M')"
            ]
          },
          "metadata": {
            "tags": []
          },
          "execution_count": 15
        }
      ]
    },
    {
      "cell_type": "markdown",
      "metadata": {
        "id": "Pb-Sw-hTrJ88",
        "colab_type": "text"
      },
      "source": [
        "There are other frequencies that we can use besides month 'M' and day 'D'\n",
        "\n",
        "Hour   `H`\n",
        "\n",
        "Day    `D`\n",
        "\n",
        "Week   `W`\n",
        "\n",
        "Month  `M`\n",
        "\n",
        "Quarter `Q`\n",
        "\n",
        "Year  `A`\n",
        "\n",
        "Business Day `B`"
      ]
    },
    {
      "cell_type": "code",
      "metadata": {
        "id": "OJ7EmGM_nEWZ",
        "colab_type": "code",
        "colab": {
          "base_uri": "https://localhost:8080/",
          "height": 85
        },
        "outputId": "5016e6d2-73ac-4f69-e017-f716756713cb"
      },
      "source": [
        "# create a sequence of timestamps\n",
        "# 12 monthly timestamps\n",
        "\n",
        "index = pd.date_range(start='2019-01-01', periods=12, freq='M')\n",
        "index"
      ],
      "execution_count": 24,
      "outputs": [
        {
          "output_type": "execute_result",
          "data": {
            "text/plain": [
              "DatetimeIndex(['2019-01-31', '2019-02-28', '2019-03-31', '2019-04-30',\n",
              "               '2019-05-31', '2019-06-30', '2019-07-31', '2019-08-31',\n",
              "               '2019-09-30', '2019-10-31', '2019-11-30', '2019-12-31'],\n",
              "              dtype='datetime64[ns]', freq='M')"
            ]
          },
          "metadata": {
            "tags": []
          },
          "execution_count": 24
        }
      ]
    },
    {
      "cell_type": "markdown",
      "metadata": {
        "id": "aLWsfgG1olR9",
        "colab_type": "text"
      },
      "source": [
        "`DatetimeIndex` is a sequence of Timestamp objects with frequency info. \n",
        "We can convert a `DatatimeIndex` to a `Periodindex`"
      ]
    },
    {
      "cell_type": "code",
      "metadata": {
        "id": "Rgf2Ai85njCo",
        "colab_type": "code",
        "colab": {
          "base_uri": "https://localhost:8080/",
          "height": 34
        },
        "outputId": "a8c66ee0-c5fa-4851-9699-c6c8978071e6"
      },
      "source": [
        "index[0]"
      ],
      "execution_count": 25,
      "outputs": [
        {
          "output_type": "execute_result",
          "data": {
            "text/plain": [
              "Timestamp('2019-01-31 00:00:00', freq='M')"
            ]
          },
          "metadata": {
            "tags": []
          },
          "execution_count": 25
        }
      ]
    },
    {
      "cell_type": "code",
      "metadata": {
        "id": "9s_JwV6BpBeX",
        "colab_type": "code",
        "colab": {
          "base_uri": "https://localhost:8080/",
          "height": 68
        },
        "outputId": "0a4d4cec-79c6-45ad-a6a1-8629b919bea9"
      },
      "source": [
        "index.to_period()"
      ],
      "execution_count": 26,
      "outputs": [
        {
          "output_type": "execute_result",
          "data": {
            "text/plain": [
              "PeriodIndex(['2019-01', '2019-02', '2019-03', '2019-04', '2019-05', '2019-06',\n",
              "             '2019-07', '2019-08', '2019-09', '2019-10', '2019-11', '2019-12'],\n",
              "            dtype='period[M]', freq='M')"
            ]
          },
          "metadata": {
            "tags": []
          },
          "execution_count": 26
        }
      ]
    },
    {
      "cell_type": "markdown",
      "metadata": {
        "id": "9jI-rD5tpQuv",
        "colab_type": "text"
      },
      "source": [
        "Now that we have an `DatetimeIndex` we can use it to create a time-series dataframe. "
      ]
    },
    {
      "cell_type": "code",
      "metadata": {
        "id": "eURGah7spEj0",
        "colab_type": "code",
        "colab": {
          "base_uri": "https://localhost:8080/",
          "height": 359
        },
        "outputId": "29fed54c-1cf3-41a4-c7fa-63671007ebc5"
      },
      "source": [
        "data = np.random.random(size=(12,2))\n",
        "\n",
        "df = pd.DataFrame(data=data, index=index)\n",
        "\n",
        "df.head(10)\n"
      ],
      "execution_count": 34,
      "outputs": [
        {
          "output_type": "execute_result",
          "data": {
            "text/html": [
              "<div>\n",
              "<style scoped>\n",
              "    .dataframe tbody tr th:only-of-type {\n",
              "        vertical-align: middle;\n",
              "    }\n",
              "\n",
              "    .dataframe tbody tr th {\n",
              "        vertical-align: top;\n",
              "    }\n",
              "\n",
              "    .dataframe thead th {\n",
              "        text-align: right;\n",
              "    }\n",
              "</style>\n",
              "<table border=\"1\" class=\"dataframe\">\n",
              "  <thead>\n",
              "    <tr style=\"text-align: right;\">\n",
              "      <th></th>\n",
              "      <th>0</th>\n",
              "      <th>1</th>\n",
              "    </tr>\n",
              "  </thead>\n",
              "  <tbody>\n",
              "    <tr>\n",
              "      <th>2019-01-31</th>\n",
              "      <td>0.685220</td>\n",
              "      <td>0.456167</td>\n",
              "    </tr>\n",
              "    <tr>\n",
              "      <th>2019-02-28</th>\n",
              "      <td>0.809490</td>\n",
              "      <td>0.905552</td>\n",
              "    </tr>\n",
              "    <tr>\n",
              "      <th>2019-03-31</th>\n",
              "      <td>0.454890</td>\n",
              "      <td>0.683387</td>\n",
              "    </tr>\n",
              "    <tr>\n",
              "      <th>2019-04-30</th>\n",
              "      <td>0.860495</td>\n",
              "      <td>0.341041</td>\n",
              "    </tr>\n",
              "    <tr>\n",
              "      <th>2019-05-31</th>\n",
              "      <td>0.156462</td>\n",
              "      <td>0.030216</td>\n",
              "    </tr>\n",
              "    <tr>\n",
              "      <th>2019-06-30</th>\n",
              "      <td>0.885845</td>\n",
              "      <td>0.085404</td>\n",
              "    </tr>\n",
              "    <tr>\n",
              "      <th>2019-07-31</th>\n",
              "      <td>0.995309</td>\n",
              "      <td>0.719039</td>\n",
              "    </tr>\n",
              "    <tr>\n",
              "      <th>2019-08-31</th>\n",
              "      <td>0.417888</td>\n",
              "      <td>0.032380</td>\n",
              "    </tr>\n",
              "    <tr>\n",
              "      <th>2019-09-30</th>\n",
              "      <td>0.167757</td>\n",
              "      <td>0.773513</td>\n",
              "    </tr>\n",
              "    <tr>\n",
              "      <th>2019-10-31</th>\n",
              "      <td>0.631097</td>\n",
              "      <td>0.583592</td>\n",
              "    </tr>\n",
              "  </tbody>\n",
              "</table>\n",
              "</div>"
            ],
            "text/plain": [
              "                   0         1\n",
              "2019-01-31  0.685220  0.456167\n",
              "2019-02-28  0.809490  0.905552\n",
              "2019-03-31  0.454890  0.683387\n",
              "2019-04-30  0.860495  0.341041\n",
              "2019-05-31  0.156462  0.030216\n",
              "2019-06-30  0.885845  0.085404\n",
              "2019-07-31  0.995309  0.719039\n",
              "2019-08-31  0.417888  0.032380\n",
              "2019-09-30  0.167757  0.773513\n",
              "2019-10-31  0.631097  0.583592"
            ]
          },
          "metadata": {
            "tags": []
          },
          "execution_count": 34
        }
      ]
    },
    {
      "cell_type": "code",
      "metadata": {
        "id": "huwts8vOprLC",
        "colab_type": "code",
        "colab": {
          "base_uri": "https://localhost:8080/",
          "height": 187
        },
        "outputId": "65f2be3a-3876-4aa7-c0ef-4ac013b80f6b"
      },
      "source": [
        "df.info()"
      ],
      "execution_count": 35,
      "outputs": [
        {
          "output_type": "stream",
          "text": [
            "<class 'pandas.core.frame.DataFrame'>\n",
            "DatetimeIndex: 12 entries, 2019-01-31 to 2019-12-31\n",
            "Freq: M\n",
            "Data columns (total 2 columns):\n",
            " #   Column  Non-Null Count  Dtype  \n",
            "---  ------  --------------  -----  \n",
            " 0   0       12 non-null     float64\n",
            " 1   1       12 non-null     float64\n",
            "dtypes: float64(2)\n",
            "memory usage: 608.0 bytes\n"
          ],
          "name": "stdout"
        }
      ]
    },
    {
      "cell_type": "code",
      "metadata": {
        "id": "Lhf4emrqqSw7",
        "colab_type": "code",
        "colab": {
          "base_uri": "https://localhost:8080/",
          "height": 221
        },
        "outputId": "a02e4b71-3e2c-4e64-d1d8-0e10f162cbe5"
      },
      "source": [
        "# print the day of week and the day's name for the df above\n",
        "\n",
        "for day in index:\n",
        "  print(day.dayofweek, day.day_name())"
      ],
      "execution_count": 40,
      "outputs": [
        {
          "output_type": "stream",
          "text": [
            "3 Thursday\n",
            "3 Thursday\n",
            "6 Sunday\n",
            "1 Tuesday\n",
            "4 Friday\n",
            "6 Sunday\n",
            "2 Wednesday\n",
            "5 Saturday\n",
            "0 Monday\n",
            "3 Thursday\n",
            "5 Saturday\n",
            "1 Tuesday\n"
          ],
          "name": "stdout"
        }
      ]
    },
    {
      "cell_type": "markdown",
      "metadata": {
        "id": "9zch1Jdatt_u",
        "colab_type": "text"
      },
      "source": [
        "## Timeseries Transformations\n",
        "\n",
        "Basic timeseries transformations include:\n",
        "\n",
        "*   Parsing string dates and convert to `datetime64`\n",
        "\n",
        "*   Selecting & slicing for specific subperiods\n",
        "\n",
        "*   Setting & changing `DatetimeIndex` frequency:\n",
        "    *   Upsampling (creating more data) vs Downsampling (aggregating data)\n",
        "\n",
        "\n",
        "When we load a dataset (.csv file) that contains dates, most of the time these dates will be treated as `string objects`. To convert these strings to the correct datatype, pandas has the `pd.to_datetime()` function. This function parses the date string and converts it to `datetime64`.\n",
        "\n",
        "`df.date = pd.to_datetime(df.date)`\n",
        "\n",
        "Now that it is converted to the correct data type, we can set it as index:\n",
        "\n",
        "`df.set_index('date', inplace=True)`\n",
        "\n",
        "We now have a complete `timeseries` dataframe.\n",
        "\n",
        "**TIP:** When using `pd.read_csv` we can parse dates and set index in one step:\n",
        "\n",
        "`df = pd.read_csv(\"datasetname.csv\", parse_dates=['column_name_with_dates'], index_col='column_name_with_dates')`\n",
        "\n",
        "\n",
        "\n",
        "\n",
        "\n",
        "\n"
      ]
    },
    {
      "cell_type": "code",
      "metadata": {
        "id": "HpYpMWcAsuzb",
        "colab_type": "code",
        "colab": {
          "base_uri": "https://localhost:8080/",
          "height": 255
        },
        "outputId": "9dc2e1e5-aa7e-448b-d26c-eb46dfdc099a"
      },
      "source": [
        "df = pd.read_csv('/occupancy.csv')\n",
        "df.info()"
      ],
      "execution_count": 41,
      "outputs": [
        {
          "output_type": "stream",
          "text": [
            "<class 'pandas.core.frame.DataFrame'>\n",
            "RangeIndex: 8143 entries, 0 to 8142\n",
            "Data columns (total 7 columns):\n",
            " #   Column         Non-Null Count  Dtype  \n",
            "---  ------         --------------  -----  \n",
            " 0   date           8143 non-null   object \n",
            " 1   Temperature    8143 non-null   float64\n",
            " 2   Humidity       8143 non-null   float64\n",
            " 3   Light          8143 non-null   float64\n",
            " 4   CO2            8143 non-null   float64\n",
            " 5   HumidityRatio  8143 non-null   float64\n",
            " 6   Occupancy      8143 non-null   int64  \n",
            "dtypes: float64(5), int64(1), object(1)\n",
            "memory usage: 445.4+ KB\n"
          ],
          "name": "stdout"
        }
      ]
    },
    {
      "cell_type": "code",
      "metadata": {
        "id": "a4TMc_KsxD6G",
        "colab_type": "code",
        "colab": {
          "base_uri": "https://localhost:8080/",
          "height": 204
        },
        "outputId": "c4f0275f-a443-4247-c15b-51a06811373e"
      },
      "source": [
        "df.head()"
      ],
      "execution_count": 42,
      "outputs": [
        {
          "output_type": "execute_result",
          "data": {
            "text/html": [
              "<div>\n",
              "<style scoped>\n",
              "    .dataframe tbody tr th:only-of-type {\n",
              "        vertical-align: middle;\n",
              "    }\n",
              "\n",
              "    .dataframe tbody tr th {\n",
              "        vertical-align: top;\n",
              "    }\n",
              "\n",
              "    .dataframe thead th {\n",
              "        text-align: right;\n",
              "    }\n",
              "</style>\n",
              "<table border=\"1\" class=\"dataframe\">\n",
              "  <thead>\n",
              "    <tr style=\"text-align: right;\">\n",
              "      <th></th>\n",
              "      <th>date</th>\n",
              "      <th>Temperature</th>\n",
              "      <th>Humidity</th>\n",
              "      <th>Light</th>\n",
              "      <th>CO2</th>\n",
              "      <th>HumidityRatio</th>\n",
              "      <th>Occupancy</th>\n",
              "    </tr>\n",
              "  </thead>\n",
              "  <tbody>\n",
              "    <tr>\n",
              "      <th>0</th>\n",
              "      <td>2015-02-04 17:51:00</td>\n",
              "      <td>23.18</td>\n",
              "      <td>27.2720</td>\n",
              "      <td>426.0</td>\n",
              "      <td>721.25</td>\n",
              "      <td>0.004793</td>\n",
              "      <td>1</td>\n",
              "    </tr>\n",
              "    <tr>\n",
              "      <th>1</th>\n",
              "      <td>2015-02-04 17:51:59</td>\n",
              "      <td>23.15</td>\n",
              "      <td>27.2675</td>\n",
              "      <td>429.5</td>\n",
              "      <td>714.00</td>\n",
              "      <td>0.004783</td>\n",
              "      <td>1</td>\n",
              "    </tr>\n",
              "    <tr>\n",
              "      <th>2</th>\n",
              "      <td>2015-02-04 17:53:00</td>\n",
              "      <td>23.15</td>\n",
              "      <td>27.2450</td>\n",
              "      <td>426.0</td>\n",
              "      <td>713.50</td>\n",
              "      <td>0.004779</td>\n",
              "      <td>1</td>\n",
              "    </tr>\n",
              "    <tr>\n",
              "      <th>3</th>\n",
              "      <td>2015-02-04 17:54:00</td>\n",
              "      <td>23.15</td>\n",
              "      <td>27.2000</td>\n",
              "      <td>426.0</td>\n",
              "      <td>708.25</td>\n",
              "      <td>0.004772</td>\n",
              "      <td>1</td>\n",
              "    </tr>\n",
              "    <tr>\n",
              "      <th>4</th>\n",
              "      <td>2015-02-04 17:55:00</td>\n",
              "      <td>23.10</td>\n",
              "      <td>27.2000</td>\n",
              "      <td>426.0</td>\n",
              "      <td>704.50</td>\n",
              "      <td>0.004757</td>\n",
              "      <td>1</td>\n",
              "    </tr>\n",
              "  </tbody>\n",
              "</table>\n",
              "</div>"
            ],
            "text/plain": [
              "                  date  Temperature  Humidity  ...     CO2  HumidityRatio  Occupancy\n",
              "0  2015-02-04 17:51:00        23.18   27.2720  ...  721.25       0.004793          1\n",
              "1  2015-02-04 17:51:59        23.15   27.2675  ...  714.00       0.004783          1\n",
              "2  2015-02-04 17:53:00        23.15   27.2450  ...  713.50       0.004779          1\n",
              "3  2015-02-04 17:54:00        23.15   27.2000  ...  708.25       0.004772          1\n",
              "4  2015-02-04 17:55:00        23.10   27.2000  ...  704.50       0.004757          1\n",
              "\n",
              "[5 rows x 7 columns]"
            ]
          },
          "metadata": {
            "tags": []
          },
          "execution_count": 42
        }
      ]
    },
    {
      "cell_type": "code",
      "metadata": {
        "id": "WcI41jJOxGkZ",
        "colab_type": "code",
        "colab": {}
      },
      "source": [
        "df.date = pd.to_datetime(df.date)"
      ],
      "execution_count": 48,
      "outputs": []
    },
    {
      "cell_type": "code",
      "metadata": {
        "id": "oxUZu_HLxQ-A",
        "colab_type": "code",
        "colab": {
          "base_uri": "https://localhost:8080/",
          "height": 255
        },
        "outputId": "47531daf-00d9-4c72-9e97-bc492bf396c6"
      },
      "source": [
        "df.info()"
      ],
      "execution_count": 49,
      "outputs": [
        {
          "output_type": "stream",
          "text": [
            "<class 'pandas.core.frame.DataFrame'>\n",
            "RangeIndex: 8143 entries, 0 to 8142\n",
            "Data columns (total 7 columns):\n",
            " #   Column         Non-Null Count  Dtype         \n",
            "---  ------         --------------  -----         \n",
            " 0   date           8143 non-null   datetime64[ns]\n",
            " 1   Temperature    8143 non-null   float64       \n",
            " 2   Humidity       8143 non-null   float64       \n",
            " 3   Light          8143 non-null   float64       \n",
            " 4   CO2            8143 non-null   float64       \n",
            " 5   HumidityRatio  8143 non-null   float64       \n",
            " 6   Occupancy      8143 non-null   int64         \n",
            "dtypes: datetime64[ns](1), float64(5), int64(1)\n",
            "memory usage: 445.4 KB\n"
          ],
          "name": "stdout"
        }
      ]
    },
    {
      "cell_type": "code",
      "metadata": {
        "id": "ZWWpdaOtxYyU",
        "colab_type": "code",
        "colab": {}
      },
      "source": [
        "df.set_index('date', inplace=True)"
      ],
      "execution_count": 50,
      "outputs": []
    },
    {
      "cell_type": "code",
      "metadata": {
        "id": "3zCBsekJyEkl",
        "colab_type": "code",
        "colab": {
          "base_uri": "https://localhost:8080/",
          "height": 235
        },
        "outputId": "a0fdf165-7511-4c81-9475-860643773987"
      },
      "source": [
        "df.head()"
      ],
      "execution_count": 51,
      "outputs": [
        {
          "output_type": "execute_result",
          "data": {
            "text/html": [
              "<div>\n",
              "<style scoped>\n",
              "    .dataframe tbody tr th:only-of-type {\n",
              "        vertical-align: middle;\n",
              "    }\n",
              "\n",
              "    .dataframe tbody tr th {\n",
              "        vertical-align: top;\n",
              "    }\n",
              "\n",
              "    .dataframe thead th {\n",
              "        text-align: right;\n",
              "    }\n",
              "</style>\n",
              "<table border=\"1\" class=\"dataframe\">\n",
              "  <thead>\n",
              "    <tr style=\"text-align: right;\">\n",
              "      <th></th>\n",
              "      <th>Temperature</th>\n",
              "      <th>Humidity</th>\n",
              "      <th>Light</th>\n",
              "      <th>CO2</th>\n",
              "      <th>HumidityRatio</th>\n",
              "      <th>Occupancy</th>\n",
              "    </tr>\n",
              "    <tr>\n",
              "      <th>date</th>\n",
              "      <th></th>\n",
              "      <th></th>\n",
              "      <th></th>\n",
              "      <th></th>\n",
              "      <th></th>\n",
              "      <th></th>\n",
              "    </tr>\n",
              "  </thead>\n",
              "  <tbody>\n",
              "    <tr>\n",
              "      <th>2015-02-04 17:51:00</th>\n",
              "      <td>23.18</td>\n",
              "      <td>27.2720</td>\n",
              "      <td>426.0</td>\n",
              "      <td>721.25</td>\n",
              "      <td>0.004793</td>\n",
              "      <td>1</td>\n",
              "    </tr>\n",
              "    <tr>\n",
              "      <th>2015-02-04 17:51:59</th>\n",
              "      <td>23.15</td>\n",
              "      <td>27.2675</td>\n",
              "      <td>429.5</td>\n",
              "      <td>714.00</td>\n",
              "      <td>0.004783</td>\n",
              "      <td>1</td>\n",
              "    </tr>\n",
              "    <tr>\n",
              "      <th>2015-02-04 17:53:00</th>\n",
              "      <td>23.15</td>\n",
              "      <td>27.2450</td>\n",
              "      <td>426.0</td>\n",
              "      <td>713.50</td>\n",
              "      <td>0.004779</td>\n",
              "      <td>1</td>\n",
              "    </tr>\n",
              "    <tr>\n",
              "      <th>2015-02-04 17:54:00</th>\n",
              "      <td>23.15</td>\n",
              "      <td>27.2000</td>\n",
              "      <td>426.0</td>\n",
              "      <td>708.25</td>\n",
              "      <td>0.004772</td>\n",
              "      <td>1</td>\n",
              "    </tr>\n",
              "    <tr>\n",
              "      <th>2015-02-04 17:55:00</th>\n",
              "      <td>23.10</td>\n",
              "      <td>27.2000</td>\n",
              "      <td>426.0</td>\n",
              "      <td>704.50</td>\n",
              "      <td>0.004757</td>\n",
              "      <td>1</td>\n",
              "    </tr>\n",
              "  </tbody>\n",
              "</table>\n",
              "</div>"
            ],
            "text/plain": [
              "                     Temperature  Humidity  ...  HumidityRatio  Occupancy\n",
              "date                                        ...                          \n",
              "2015-02-04 17:51:00        23.18   27.2720  ...       0.004793          1\n",
              "2015-02-04 17:51:59        23.15   27.2675  ...       0.004783          1\n",
              "2015-02-04 17:53:00        23.15   27.2450  ...       0.004779          1\n",
              "2015-02-04 17:54:00        23.15   27.2000  ...       0.004772          1\n",
              "2015-02-04 17:55:00        23.10   27.2000  ...       0.004757          1\n",
              "\n",
              "[5 rows x 6 columns]"
            ]
          },
          "metadata": {
            "tags": []
          },
          "execution_count": 51
        }
      ]
    },
    {
      "cell_type": "code",
      "metadata": {
        "id": "vPW1tsQYyGeq",
        "colab_type": "code",
        "colab": {
          "base_uri": "https://localhost:8080/",
          "height": 729
        },
        "outputId": "6a10a9b5-9f95-440c-b6a7-e7e7097d49f6"
      },
      "source": [
        "# plot the df\n",
        "\n",
        "df.plot(title=\"Occupancy DF Plot\", subplots=True, figsize = (12,10))\n",
        "plt.tight_layout();\n",
        "plt.legend('best')\n",
        "plt.show();\n",
        "\n",
        "\n"
      ],
      "execution_count": 88,
      "outputs": [
        {
          "output_type": "display_data",
          "data": {
            "image/png": "[encoded data removed]",
            "text/plain": [
              "<Figure size 864x720 with 6 Axes>"
            ]
          },
          "metadata": {
            "tags": [],
            "needs_background": "light"
          }
        }
      ]
    },
    {
      "cell_type": "markdown",
      "metadata": {
        "id": "zn-WbYu0y6Hg",
        "colab_type": "text"
      },
      "source": [
        "## Partial String Indexing\n",
        "\n",
        "We can pass a string representing a period of time (year) to retrieve all the values for that particulay year:\n",
        "\n"
      ]
    },
    {
      "cell_type": "code",
      "metadata": {
        "id": "0mYjAXyEyfZ1",
        "colab_type": "code",
        "colab": {
          "base_uri": "https://localhost:8080/",
          "height": 238
        },
        "outputId": "228803b6-ccfa-4cc5-9750-6c009b36b237"
      },
      "source": [
        "df['2015'].info()"
      ],
      "execution_count": 56,
      "outputs": [
        {
          "output_type": "stream",
          "text": [
            "<class 'pandas.core.frame.DataFrame'>\n",
            "DatetimeIndex: 8143 entries, 2015-02-04 17:51:00 to 2015-02-10 09:33:00\n",
            "Data columns (total 6 columns):\n",
            " #   Column         Non-Null Count  Dtype  \n",
            "---  ------         --------------  -----  \n",
            " 0   Temperature    8143 non-null   float64\n",
            " 1   Humidity       8143 non-null   float64\n",
            " 2   Light          8143 non-null   float64\n",
            " 3   CO2            8143 non-null   float64\n",
            " 4   HumidityRatio  8143 non-null   float64\n",
            " 5   Occupancy      8143 non-null   int64  \n",
            "dtypes: float64(5), int64(1)\n",
            "memory usage: 445.3 KB\n"
          ],
          "name": "stdout"
        }
      ]
    },
    {
      "cell_type": "markdown",
      "metadata": {
        "id": "YMG8lcYozhUM",
        "colab_type": "text"
      },
      "source": [
        "We can also pass a 'slice' or a range of date that we want to retrieve data for:"
      ]
    },
    {
      "cell_type": "code",
      "metadata": {
        "id": "PXaeTzrDzZTZ",
        "colab_type": "code",
        "colab": {
          "base_uri": "https://localhost:8080/",
          "height": 238
        },
        "outputId": "444fb9ae-1704-41f5-e03f-dd56d8d92849"
      },
      "source": [
        "df['2015-2-5' : '2015-2-6'].info()"
      ],
      "execution_count": 60,
      "outputs": [
        {
          "output_type": "stream",
          "text": [
            "<class 'pandas.core.frame.DataFrame'>\n",
            "DatetimeIndex: 2880 entries, 2015-02-05 00:00:00 to 2015-02-06 23:58:59\n",
            "Data columns (total 6 columns):\n",
            " #   Column         Non-Null Count  Dtype  \n",
            "---  ------         --------------  -----  \n",
            " 0   Temperature    2880 non-null   float64\n",
            " 1   Humidity       2880 non-null   float64\n",
            " 2   Light          2880 non-null   float64\n",
            " 3   CO2            2880 non-null   float64\n",
            " 4   HumidityRatio  2880 non-null   float64\n",
            " 5   Occupancy      2880 non-null   int64  \n",
            "dtypes: float64(5), int64(1)\n",
            "memory usage: 157.5 KB\n"
          ],
          "name": "stdout"
        }
      ]
    },
    {
      "cell_type": "code",
      "metadata": {
        "id": "O53arlDTzvBA",
        "colab_type": "code",
        "colab": {
          "base_uri": "https://localhost:8080/",
          "height": 238
        },
        "outputId": "a7d2dcac-2b22-4812-c3b2-a75b65bc5d17"
      },
      "source": [
        "# retive data for a particular day\n",
        "df.loc['2015-2-5', 'CO2']"
      ],
      "execution_count": 66,
      "outputs": [
        {
          "output_type": "execute_result",
          "data": {
            "text/plain": [
              "date\n",
              "2015-02-05 00:00:00    456.500000\n",
              "2015-02-05 00:01:00    458.500000\n",
              "2015-02-05 00:02:00    459.666667\n",
              "2015-02-05 00:03:00    464.000000\n",
              "2015-02-05 00:04:00    465.000000\n",
              "                          ...    \n",
              "2015-02-05 23:55:00    439.500000\n",
              "2015-02-05 23:55:59    445.000000\n",
              "2015-02-05 23:57:00    442.500000\n",
              "2015-02-05 23:57:59    443.500000\n",
              "2015-02-05 23:58:59    444.000000\n",
              "Name: CO2, Length: 1440, dtype: float64"
            ]
          },
          "metadata": {
            "tags": []
          },
          "execution_count": 66
        }
      ]
    },
    {
      "cell_type": "code",
      "metadata": {
        "id": "rpquvHuD0dXk",
        "colab_type": "code",
        "colab": {
          "base_uri": "https://localhost:8080/",
          "height": 255
        },
        "outputId": "528631c6-8481-4fc5-e292-b6baa8190323"
      },
      "source": [
        "# change the frequency of the data to hourly\n",
        "df.asfreq('H').info()"
      ],
      "execution_count": 68,
      "outputs": [
        {
          "output_type": "stream",
          "text": [
            "<class 'pandas.core.frame.DataFrame'>\n",
            "DatetimeIndex: 136 entries, 2015-02-04 17:51:00 to 2015-02-10 08:51:00\n",
            "Freq: H\n",
            "Data columns (total 6 columns):\n",
            " #   Column         Non-Null Count  Dtype  \n",
            "---  ------         --------------  -----  \n",
            " 0   Temperature    136 non-null    float64\n",
            " 1   Humidity       136 non-null    float64\n",
            " 2   Light          136 non-null    float64\n",
            " 3   CO2            136 non-null    float64\n",
            " 4   HumidityRatio  136 non-null    float64\n",
            " 5   Occupancy      136 non-null    int64  \n",
            "dtypes: float64(5), int64(1)\n",
            "memory usage: 7.4 KB\n"
          ],
          "name": "stdout"
        }
      ]
    },
    {
      "cell_type": "code",
      "metadata": {
        "id": "ZVA_gA6A05Os",
        "colab_type": "code",
        "colab": {
          "base_uri": "https://localhost:8080/",
          "height": 579
        },
        "outputId": "e892262d-11b4-46e4-8eaf-64d7347028bf"
      },
      "source": [
        "df.asfreq('H').plot(subplots=True, figsize = (12,10));"
      ],
      "execution_count": 90,
      "outputs": [
        {
          "output_type": "display_data",
          "data": {
            "image/png": "[encoded data removed]",
            "text/plain": [
              "<Figure size 864x720 with 6 Axes>"
            ]
          },
          "metadata": {
            "tags": [],
            "needs_background": "light"
          }
        }
      ]
    },
    {
      "cell_type": "code",
      "metadata": {
        "id": "nhSoiIX81Csc",
        "colab_type": "code",
        "colab": {
          "base_uri": "https://localhost:8080/",
          "height": 669
        },
        "outputId": "18225681-df68-4fa3-c0c3-d802d1a40a45"
      },
      "source": [
        "# import library for toy datasets\n",
        "from vega_datasets import data as vds\n",
        "\n",
        "df_stocks = vds.stocks()\n",
        "df_stocks.head(5)"
      ],
      "execution_count": 45,
      "outputs": [
        {
          "output_type": "execute_result",
          "data": {
            "text/html": [
              "<div>\n",
              "<style scoped>\n",
              "    .dataframe tbody tr th:only-of-type {\n",
              "        vertical-align: middle;\n",
              "    }\n",
              "\n",
              "    .dataframe tbody tr th {\n",
              "        vertical-align: top;\n",
              "    }\n",
              "\n",
              "    .dataframe thead th {\n",
              "        text-align: right;\n",
              "    }\n",
              "</style>\n",
              "<table border=\"1\" class=\"dataframe\">\n",
              "  <thead>\n",
              "    <tr style=\"text-align: right;\">\n",
              "      <th></th>\n",
              "      <th>symbol</th>\n",
              "      <th>date</th>\n",
              "      <th>price</th>\n",
              "    </tr>\n",
              "  </thead>\n",
              "  <tbody>\n",
              "    <tr>\n",
              "      <th>0</th>\n",
              "      <td>MSFT</td>\n",
              "      <td>2000-01-01</td>\n",
              "      <td>39.81</td>\n",
              "    </tr>\n",
              "    <tr>\n",
              "      <th>1</th>\n",
              "      <td>MSFT</td>\n",
              "      <td>2000-02-01</td>\n",
              "      <td>36.35</td>\n",
              "    </tr>\n",
              "    <tr>\n",
              "      <th>2</th>\n",
              "      <td>MSFT</td>\n",
              "      <td>2000-03-01</td>\n",
              "      <td>43.22</td>\n",
              "    </tr>\n",
              "    <tr>\n",
              "      <th>3</th>\n",
              "      <td>MSFT</td>\n",
              "      <td>2000-04-01</td>\n",
              "      <td>28.37</td>\n",
              "    </tr>\n",
              "    <tr>\n",
              "      <th>4</th>\n",
              "      <td>MSFT</td>\n",
              "      <td>2000-05-01</td>\n",
              "      <td>25.45</td>\n",
              "    </tr>\n",
              "    <tr>\n",
              "      <th>5</th>\n",
              "      <td>MSFT</td>\n",
              "      <td>2000-06-01</td>\n",
              "      <td>32.54</td>\n",
              "    </tr>\n",
              "    <tr>\n",
              "      <th>6</th>\n",
              "      <td>MSFT</td>\n",
              "      <td>2000-07-01</td>\n",
              "      <td>28.40</td>\n",
              "    </tr>\n",
              "    <tr>\n",
              "      <th>7</th>\n",
              "      <td>MSFT</td>\n",
              "      <td>2000-08-01</td>\n",
              "      <td>28.40</td>\n",
              "    </tr>\n",
              "    <tr>\n",
              "      <th>8</th>\n",
              "      <td>MSFT</td>\n",
              "      <td>2000-09-01</td>\n",
              "      <td>24.53</td>\n",
              "    </tr>\n",
              "    <tr>\n",
              "      <th>9</th>\n",
              "      <td>MSFT</td>\n",
              "      <td>2000-10-01</td>\n",
              "      <td>28.02</td>\n",
              "    </tr>\n",
              "    <tr>\n",
              "      <th>10</th>\n",
              "      <td>MSFT</td>\n",
              "      <td>2000-11-01</td>\n",
              "      <td>23.34</td>\n",
              "    </tr>\n",
              "    <tr>\n",
              "      <th>11</th>\n",
              "      <td>MSFT</td>\n",
              "      <td>2000-12-01</td>\n",
              "      <td>17.65</td>\n",
              "    </tr>\n",
              "    <tr>\n",
              "      <th>12</th>\n",
              "      <td>MSFT</td>\n",
              "      <td>2001-01-01</td>\n",
              "      <td>24.84</td>\n",
              "    </tr>\n",
              "    <tr>\n",
              "      <th>13</th>\n",
              "      <td>MSFT</td>\n",
              "      <td>2001-02-01</td>\n",
              "      <td>24.00</td>\n",
              "    </tr>\n",
              "    <tr>\n",
              "      <th>14</th>\n",
              "      <td>MSFT</td>\n",
              "      <td>2001-03-01</td>\n",
              "      <td>22.25</td>\n",
              "    </tr>\n",
              "    <tr>\n",
              "      <th>15</th>\n",
              "      <td>MSFT</td>\n",
              "      <td>2001-04-01</td>\n",
              "      <td>27.56</td>\n",
              "    </tr>\n",
              "    <tr>\n",
              "      <th>16</th>\n",
              "      <td>MSFT</td>\n",
              "      <td>2001-05-01</td>\n",
              "      <td>28.14</td>\n",
              "    </tr>\n",
              "    <tr>\n",
              "      <th>17</th>\n",
              "      <td>MSFT</td>\n",
              "      <td>2001-06-01</td>\n",
              "      <td>29.70</td>\n",
              "    </tr>\n",
              "    <tr>\n",
              "      <th>18</th>\n",
              "      <td>MSFT</td>\n",
              "      <td>2001-07-01</td>\n",
              "      <td>26.93</td>\n",
              "    </tr>\n",
              "    <tr>\n",
              "      <th>19</th>\n",
              "      <td>MSFT</td>\n",
              "      <td>2001-08-01</td>\n",
              "      <td>23.21</td>\n",
              "    </tr>\n",
              "  </tbody>\n",
              "</table>\n",
              "</div>"
            ],
            "text/plain": [
              "   symbol       date  price\n",
              "0    MSFT 2000-01-01  39.81\n",
              "1    MSFT 2000-02-01  36.35\n",
              "2    MSFT 2000-03-01  43.22\n",
              "3    MSFT 2000-04-01  28.37\n",
              "4    MSFT 2000-05-01  25.45\n",
              "5    MSFT 2000-06-01  32.54\n",
              "6    MSFT 2000-07-01  28.40\n",
              "7    MSFT 2000-08-01  28.40\n",
              "8    MSFT 2000-09-01  24.53\n",
              "9    MSFT 2000-10-01  28.02\n",
              "10   MSFT 2000-11-01  23.34\n",
              "11   MSFT 2000-12-01  17.65\n",
              "12   MSFT 2001-01-01  24.84\n",
              "13   MSFT 2001-02-01  24.00\n",
              "14   MSFT 2001-03-01  22.25\n",
              "15   MSFT 2001-04-01  27.56\n",
              "16   MSFT 2001-05-01  28.14\n",
              "17   MSFT 2001-06-01  29.70\n",
              "18   MSFT 2001-07-01  26.93\n",
              "19   MSFT 2001-08-01  23.21"
            ]
          },
          "metadata": {
            "tags": []
          },
          "execution_count": 45
        }
      ]
    },
    {
      "cell_type": "code",
      "metadata": {
        "id": "dwj4YmTjXuv1",
        "colab_type": "code",
        "colab": {
          "base_uri": "https://localhost:8080/",
          "height": 204
        },
        "outputId": "2e2dc0cd-1da5-4b79-c64a-6e1a60dfc193"
      },
      "source": [
        "df_stocks.tail()"
      ],
      "execution_count": null,
      "outputs": [
        {
          "output_type": "execute_result",
          "data": {
            "text/html": [
              "<div>\n",
              "<style scoped>\n",
              "    .dataframe tbody tr th:only-of-type {\n",
              "        vertical-align: middle;\n",
              "    }\n",
              "\n",
              "    .dataframe tbody tr th {\n",
              "        vertical-align: top;\n",
              "    }\n",
              "\n",
              "    .dataframe thead th {\n",
              "        text-align: right;\n",
              "    }\n",
              "</style>\n",
              "<table border=\"1\" class=\"dataframe\">\n",
              "  <thead>\n",
              "    <tr style=\"text-align: right;\">\n",
              "      <th></th>\n",
              "      <th>symbol</th>\n",
              "      <th>date</th>\n",
              "      <th>price</th>\n",
              "    </tr>\n",
              "  </thead>\n",
              "  <tbody>\n",
              "    <tr>\n",
              "      <th>555</th>\n",
              "      <td>AAPL</td>\n",
              "      <td>2009-11-01</td>\n",
              "      <td>199.91</td>\n",
              "    </tr>\n",
              "    <tr>\n",
              "      <th>556</th>\n",
              "      <td>AAPL</td>\n",
              "      <td>2009-12-01</td>\n",
              "      <td>210.73</td>\n",
              "    </tr>\n",
              "    <tr>\n",
              "      <th>557</th>\n",
              "      <td>AAPL</td>\n",
              "      <td>2010-01-01</td>\n",
              "      <td>192.06</td>\n",
              "    </tr>\n",
              "    <tr>\n",
              "      <th>558</th>\n",
              "      <td>AAPL</td>\n",
              "      <td>2010-02-01</td>\n",
              "      <td>204.62</td>\n",
              "    </tr>\n",
              "    <tr>\n",
              "      <th>559</th>\n",
              "      <td>AAPL</td>\n",
              "      <td>2010-03-01</td>\n",
              "      <td>223.02</td>\n",
              "    </tr>\n",
              "  </tbody>\n",
              "</table>\n",
              "</div>"
            ],
            "text/plain": [
              "    symbol       date   price\n",
              "555   AAPL 2009-11-01  199.91\n",
              "556   AAPL 2009-12-01  210.73\n",
              "557   AAPL 2010-01-01  192.06\n",
              "558   AAPL 2010-02-01  204.62\n",
              "559   AAPL 2010-03-01  223.02"
            ]
          },
          "metadata": {
            "tags": []
          },
          "execution_count": 29
        }
      ]
    },
    {
      "cell_type": "code",
      "metadata": {
        "id": "gUCUnVFuY5og",
        "colab_type": "code",
        "colab": {
          "base_uri": "https://localhost:8080/",
          "height": 187
        },
        "outputId": "47d36a9f-5976-42db-db22-80b7b853dc53"
      },
      "source": [
        "df_stocks.info()"
      ],
      "execution_count": null,
      "outputs": [
        {
          "output_type": "stream",
          "text": [
            "<class 'pandas.core.frame.DataFrame'>\n",
            "RangeIndex: 560 entries, 0 to 559\n",
            "Data columns (total 3 columns):\n",
            " #   Column  Non-Null Count  Dtype         \n",
            "---  ------  --------------  -----         \n",
            " 0   symbol  560 non-null    object        \n",
            " 1   date    560 non-null    datetime64[ns]\n",
            " 2   price   560 non-null    float64       \n",
            "dtypes: datetime64[ns](1), float64(1), object(1)\n",
            "memory usage: 13.2+ KB\n"
          ],
          "name": "stdout"
        }
      ]
    },
    {
      "cell_type": "code",
      "metadata": {
        "id": "G0RO0x_AZQcB",
        "colab_type": "code",
        "colab": {
          "base_uri": "https://localhost:8080/",
          "height": 204
        },
        "outputId": "2ab1476d-3f2f-4398-dbb8-986942ef8e2f"
      },
      "source": [
        "# Create a new dataframe only for AAPL stock\n",
        "\n",
        "df_aapl = df_stocks.loc[(df_stocks['symbol'] == 'AAPL')]\n",
        "\n",
        "df_aapl.head()"
      ],
      "execution_count": null,
      "outputs": [
        {
          "output_type": "execute_result",
          "data": {
            "text/html": [
              "<div>\n",
              "<style scoped>\n",
              "    .dataframe tbody tr th:only-of-type {\n",
              "        vertical-align: middle;\n",
              "    }\n",
              "\n",
              "    .dataframe tbody tr th {\n",
              "        vertical-align: top;\n",
              "    }\n",
              "\n",
              "    .dataframe thead th {\n",
              "        text-align: right;\n",
              "    }\n",
              "</style>\n",
              "<table border=\"1\" class=\"dataframe\">\n",
              "  <thead>\n",
              "    <tr style=\"text-align: right;\">\n",
              "      <th></th>\n",
              "      <th>symbol</th>\n",
              "      <th>date</th>\n",
              "      <th>price</th>\n",
              "    </tr>\n",
              "  </thead>\n",
              "  <tbody>\n",
              "    <tr>\n",
              "      <th>437</th>\n",
              "      <td>AAPL</td>\n",
              "      <td>2000-01-01</td>\n",
              "      <td>25.94</td>\n",
              "    </tr>\n",
              "    <tr>\n",
              "      <th>438</th>\n",
              "      <td>AAPL</td>\n",
              "      <td>2000-02-01</td>\n",
              "      <td>28.66</td>\n",
              "    </tr>\n",
              "    <tr>\n",
              "      <th>439</th>\n",
              "      <td>AAPL</td>\n",
              "      <td>2000-03-01</td>\n",
              "      <td>33.95</td>\n",
              "    </tr>\n",
              "    <tr>\n",
              "      <th>440</th>\n",
              "      <td>AAPL</td>\n",
              "      <td>2000-04-01</td>\n",
              "      <td>31.01</td>\n",
              "    </tr>\n",
              "    <tr>\n",
              "      <th>441</th>\n",
              "      <td>AAPL</td>\n",
              "      <td>2000-05-01</td>\n",
              "      <td>21.00</td>\n",
              "    </tr>\n",
              "  </tbody>\n",
              "</table>\n",
              "</div>"
            ],
            "text/plain": [
              "    symbol       date  price\n",
              "437   AAPL 2000-01-01  25.94\n",
              "438   AAPL 2000-02-01  28.66\n",
              "439   AAPL 2000-03-01  33.95\n",
              "440   AAPL 2000-04-01  31.01\n",
              "441   AAPL 2000-05-01  21.00"
            ]
          },
          "metadata": {
            "tags": []
          },
          "execution_count": 31
        }
      ]
    },
    {
      "cell_type": "code",
      "metadata": {
        "id": "VsAKIvcqmQby",
        "colab_type": "code",
        "colab": {}
      },
      "source": [
        "# set date as index\n",
        "df_aapl.set_index('date', inplace=True)"
      ],
      "execution_count": null,
      "outputs": []
    },
    {
      "cell_type": "code",
      "metadata": {
        "id": "K6fQS3n0YYxM",
        "colab_type": "code",
        "colab": {}
      },
      "source": [
        "import pandas as pd\n",
        "import numpy as np\n",
        "import matplotlib.pyplot as plt\n",
        "import seaborn as sns"
      ],
      "execution_count": 17,
      "outputs": []
    },
    {
      "cell_type": "code",
      "metadata": {
        "id": "3mYJCZA6X_f2",
        "colab_type": "code",
        "colab": {
          "base_uri": "https://localhost:8080/",
          "height": 281
        },
        "outputId": "15df1936-7aec-4a96-a46e-7a58b25d35e3"
      },
      "source": [
        "# Create an empty dataframe for stock prices\n",
        "prices = pd.DataFrame()\n",
        "\n",
        "# Select data for each year and concatenate with prices\n",
        "for year in ['2007', '2008', '2009']:\n",
        "    price_per_year = df_aapl.loc[year, ['price']].reset_index(drop=True)\n",
        "    price_per_year.rename(columns={'price': year}, inplace=True)\n",
        "    prices = pd.concat([prices, price_per_year], axis=1)\n",
        "\n",
        "# Plot prices\n",
        "prices.plot(title=\"AAPL Stock for 2007 to 2009\")\n",
        "plt.show()"
      ],
      "execution_count": 39,
      "outputs": [
        {
          "output_type": "display_data",
          "data": {
            "image/png": "[encoded data removed]",
            "text/plain": [
              "<Figure size 432x288 with 1 Axes>"
            ]
          },
          "metadata": {
            "tags": [],
            "needs_background": "light"
          }
        }
      ]
    },
    {
      "cell_type": "markdown",
      "metadata": {
        "id": "-4ppmUHppX2J",
        "colab_type": "text"
      },
      "source": [
        "## Basic Timeseries Calculations\n",
        "\n",
        "Some of the basic calculations we can do with a timeseries dataset using `pandas` based on the `pd.DateTimeIndex`:\n",
        "*   Shit or lag values back or forward in time\n",
        "*   Get differences in values for a given time period\n",
        "*   Compute the percent change over any number of periods\n",
        "\n"
      ]
    },
    {
      "cell_type": "code",
      "metadata": {
        "id": "W69xpKDBpW_A",
        "colab_type": "code",
        "colab": {
          "base_uri": "https://localhost:8080/",
          "height": 187
        },
        "outputId": "a416f089-688c-47ee-c09e-f461b22e6c11"
      },
      "source": [
        "df_aapl.info()"
      ],
      "execution_count": 34,
      "outputs": [
        {
          "output_type": "stream",
          "text": [
            "<class 'pandas.core.frame.DataFrame'>\n",
            "Int64Index: 123 entries, 437 to 559\n",
            "Data columns (total 3 columns):\n",
            " #   Column  Non-Null Count  Dtype         \n",
            "---  ------  --------------  -----         \n",
            " 0   symbol  123 non-null    object        \n",
            " 1   date    123 non-null    datetime64[ns]\n",
            " 2   price   123 non-null    float64       \n",
            "dtypes: datetime64[ns](1), float64(1), object(1)\n",
            "memory usage: 3.8+ KB\n"
          ],
          "name": "stdout"
        }
      ]
    },
    {
      "cell_type": "markdown",
      "metadata": {
        "id": "uE8THtLmtl5T",
        "colab_type": "text"
      },
      "source": [
        "## Moving Data between past & future\n",
        "\n",
        "Shifting data is useful so they can be compared at different points in time. \n",
        "As the name indicates `.shift()` moves the data within the dataframe. \n",
        "`.shift()`:\n",
        "   *   defaults to `periods=1`\n",
        "   *   when the value passed to `periods` is positive the data will shift forward and when the value is negative `-1` the data will shift backwards/lag\n",
        "   *   1 period into future or past"
      ]
    },
    {
      "cell_type": "code",
      "metadata": {
        "id": "hMAvl1yTsc1F",
        "colab_type": "code",
        "colab": {
          "base_uri": "https://localhost:8080/",
          "height": 337
        },
        "outputId": "0aefe65d-d8d9-473b-e8bb-392dcf804089"
      },
      "source": [
        "df_aapl['shifted'] = df_aapl.price.shift()\n",
        "df_aapl.head()"
      ],
      "execution_count": 40,
      "outputs": [
        {
          "output_type": "stream",
          "text": [
            "/usr/local/lib/python3.6/dist-packages/ipykernel_launcher.py:1: SettingWithCopyWarning: \n",
            "A value is trying to be set on a copy of a slice from a DataFrame.\n",
            "Try using .loc[row_indexer,col_indexer] = value instead\n",
            "\n",
            "See the caveats in the documentation: https://pandas.pydata.org/pandas-docs/stable/user_guide/indexing.html#returning-a-view-versus-a-copy\n",
            "  \"\"\"Entry point for launching an IPython kernel.\n"
          ],
          "name": "stderr"
        },
        {
          "output_type": "execute_result",
          "data": {
            "text/html": [
              "<div>\n",
              "<style scoped>\n",
              "    .dataframe tbody tr th:only-of-type {\n",
              "        vertical-align: middle;\n",
              "    }\n",
              "\n",
              "    .dataframe tbody tr th {\n",
              "        vertical-align: top;\n",
              "    }\n",
              "\n",
              "    .dataframe thead th {\n",
              "        text-align: right;\n",
              "    }\n",
              "</style>\n",
              "<table border=\"1\" class=\"dataframe\">\n",
              "  <thead>\n",
              "    <tr style=\"text-align: right;\">\n",
              "      <th></th>\n",
              "      <th>symbol</th>\n",
              "      <th>price</th>\n",
              "      <th>shifted</th>\n",
              "    </tr>\n",
              "    <tr>\n",
              "      <th>date</th>\n",
              "      <th></th>\n",
              "      <th></th>\n",
              "      <th></th>\n",
              "    </tr>\n",
              "  </thead>\n",
              "  <tbody>\n",
              "    <tr>\n",
              "      <th>2000-01-01</th>\n",
              "      <td>AAPL</td>\n",
              "      <td>25.94</td>\n",
              "      <td>NaN</td>\n",
              "    </tr>\n",
              "    <tr>\n",
              "      <th>2000-02-01</th>\n",
              "      <td>AAPL</td>\n",
              "      <td>28.66</td>\n",
              "      <td>25.94</td>\n",
              "    </tr>\n",
              "    <tr>\n",
              "      <th>2000-03-01</th>\n",
              "      <td>AAPL</td>\n",
              "      <td>33.95</td>\n",
              "      <td>28.66</td>\n",
              "    </tr>\n",
              "    <tr>\n",
              "      <th>2000-04-01</th>\n",
              "      <td>AAPL</td>\n",
              "      <td>31.01</td>\n",
              "      <td>33.95</td>\n",
              "    </tr>\n",
              "    <tr>\n",
              "      <th>2000-05-01</th>\n",
              "      <td>AAPL</td>\n",
              "      <td>21.00</td>\n",
              "      <td>31.01</td>\n",
              "    </tr>\n",
              "  </tbody>\n",
              "</table>\n",
              "</div>"
            ],
            "text/plain": [
              "           symbol  price  shifted\n",
              "date                             \n",
              "2000-01-01   AAPL  25.94      NaN\n",
              "2000-02-01   AAPL  28.66    25.94\n",
              "2000-03-01   AAPL  33.95    28.66\n",
              "2000-04-01   AAPL  31.01    33.95\n",
              "2000-05-01   AAPL  21.00    31.01"
            ]
          },
          "metadata": {
            "tags": []
          },
          "execution_count": 40
        }
      ]
    },
    {
      "cell_type": "code",
      "metadata": {
        "id": "RDOxEri2uWB1",
        "colab_type": "code",
        "colab": {
          "base_uri": "https://localhost:8080/",
          "height": 337
        },
        "outputId": "d001a7e2-5b2d-40c2-f925-d5951e633bb4"
      },
      "source": [
        "df_aapl['lagged'] = df_aapl.price.shift(periods=-1)\n",
        "df_aapl.tail()"
      ],
      "execution_count": 43,
      "outputs": [
        {
          "output_type": "stream",
          "text": [
            "/usr/local/lib/python3.6/dist-packages/ipykernel_launcher.py:1: SettingWithCopyWarning: \n",
            "A value is trying to be set on a copy of a slice from a DataFrame.\n",
            "Try using .loc[row_indexer,col_indexer] = value instead\n",
            "\n",
            "See the caveats in the documentation: https://pandas.pydata.org/pandas-docs/stable/user_guide/indexing.html#returning-a-view-versus-a-copy\n",
            "  \"\"\"Entry point for launching an IPython kernel.\n"
          ],
          "name": "stderr"
        },
        {
          "output_type": "execute_result",
          "data": {
            "text/html": [
              "<div>\n",
              "<style scoped>\n",
              "    .dataframe tbody tr th:only-of-type {\n",
              "        vertical-align: middle;\n",
              "    }\n",
              "\n",
              "    .dataframe tbody tr th {\n",
              "        vertical-align: top;\n",
              "    }\n",
              "\n",
              "    .dataframe thead th {\n",
              "        text-align: right;\n",
              "    }\n",
              "</style>\n",
              "<table border=\"1\" class=\"dataframe\">\n",
              "  <thead>\n",
              "    <tr style=\"text-align: right;\">\n",
              "      <th></th>\n",
              "      <th>symbol</th>\n",
              "      <th>price</th>\n",
              "      <th>shifted</th>\n",
              "      <th>lagged</th>\n",
              "    </tr>\n",
              "    <tr>\n",
              "      <th>date</th>\n",
              "      <th></th>\n",
              "      <th></th>\n",
              "      <th></th>\n",
              "      <th></th>\n",
              "    </tr>\n",
              "  </thead>\n",
              "  <tbody>\n",
              "    <tr>\n",
              "      <th>2009-11-01</th>\n",
              "      <td>AAPL</td>\n",
              "      <td>199.91</td>\n",
              "      <td>188.50</td>\n",
              "      <td>210.73</td>\n",
              "    </tr>\n",
              "    <tr>\n",
              "      <th>2009-12-01</th>\n",
              "      <td>AAPL</td>\n",
              "      <td>210.73</td>\n",
              "      <td>199.91</td>\n",
              "      <td>192.06</td>\n",
              "    </tr>\n",
              "    <tr>\n",
              "      <th>2010-01-01</th>\n",
              "      <td>AAPL</td>\n",
              "      <td>192.06</td>\n",
              "      <td>210.73</td>\n",
              "      <td>204.62</td>\n",
              "    </tr>\n",
              "    <tr>\n",
              "      <th>2010-02-01</th>\n",
              "      <td>AAPL</td>\n",
              "      <td>204.62</td>\n",
              "      <td>192.06</td>\n",
              "      <td>223.02</td>\n",
              "    </tr>\n",
              "    <tr>\n",
              "      <th>2010-03-01</th>\n",
              "      <td>AAPL</td>\n",
              "      <td>223.02</td>\n",
              "      <td>204.62</td>\n",
              "      <td>NaN</td>\n",
              "    </tr>\n",
              "  </tbody>\n",
              "</table>\n",
              "</div>"
            ],
            "text/plain": [
              "           symbol   price  shifted  lagged\n",
              "date                                      \n",
              "2009-11-01   AAPL  199.91   188.50  210.73\n",
              "2009-12-01   AAPL  210.73   199.91  192.06\n",
              "2010-01-01   AAPL  192.06   210.73  204.62\n",
              "2010-02-01   AAPL  204.62   192.06  223.02\n",
              "2010-03-01   AAPL  223.02   204.62     NaN"
            ]
          },
          "metadata": {
            "tags": []
          },
          "execution_count": 43
        }
      ]
    },
    {
      "cell_type": "markdown",
      "metadata": {
        "id": "6rFBC34y29ce",
        "colab_type": "text"
      },
      "source": [
        "## Calculate one-period percent change\n",
        "\n",
        "We can use the shifted data we just created to calculate the change between periods which is also called the **financial return**\n",
        "The finacial return is calculated as follows:\n",
        "\n",
        "$$x_t / x_{t-1}$$\n"
      ]
    },
    {
      "cell_type": "code",
      "metadata": {
        "id": "1ZB5UmOZ17QH",
        "colab_type": "code",
        "colab": {
          "base_uri": "https://localhost:8080/",
          "height": 337
        },
        "outputId": "412d2d94-cb4c-4284-c8ae-40ec1668cd96"
      },
      "source": [
        "# create a new column and calculate the financial return\n",
        "df_aapl['change'] = df_aapl.price.div(df_aapl.shifted)\n",
        "df_aapl.head()"
      ],
      "execution_count": 45,
      "outputs": [
        {
          "output_type": "stream",
          "text": [
            "/usr/local/lib/python3.6/dist-packages/ipykernel_launcher.py:2: SettingWithCopyWarning: \n",
            "A value is trying to be set on a copy of a slice from a DataFrame.\n",
            "Try using .loc[row_indexer,col_indexer] = value instead\n",
            "\n",
            "See the caveats in the documentation: https://pandas.pydata.org/pandas-docs/stable/user_guide/indexing.html#returning-a-view-versus-a-copy\n",
            "  \n"
          ],
          "name": "stderr"
        },
        {
          "output_type": "execute_result",
          "data": {
            "text/html": [
              "<div>\n",
              "<style scoped>\n",
              "    .dataframe tbody tr th:only-of-type {\n",
              "        vertical-align: middle;\n",
              "    }\n",
              "\n",
              "    .dataframe tbody tr th {\n",
              "        vertical-align: top;\n",
              "    }\n",
              "\n",
              "    .dataframe thead th {\n",
              "        text-align: right;\n",
              "    }\n",
              "</style>\n",
              "<table border=\"1\" class=\"dataframe\">\n",
              "  <thead>\n",
              "    <tr style=\"text-align: right;\">\n",
              "      <th></th>\n",
              "      <th>symbol</th>\n",
              "      <th>price</th>\n",
              "      <th>shifted</th>\n",
              "      <th>lagged</th>\n",
              "      <th>change</th>\n",
              "    </tr>\n",
              "    <tr>\n",
              "      <th>date</th>\n",
              "      <th></th>\n",
              "      <th></th>\n",
              "      <th></th>\n",
              "      <th></th>\n",
              "      <th></th>\n",
              "    </tr>\n",
              "  </thead>\n",
              "  <tbody>\n",
              "    <tr>\n",
              "      <th>2000-01-01</th>\n",
              "      <td>AAPL</td>\n",
              "      <td>25.94</td>\n",
              "      <td>NaN</td>\n",
              "      <td>28.66</td>\n",
              "      <td>NaN</td>\n",
              "    </tr>\n",
              "    <tr>\n",
              "      <th>2000-02-01</th>\n",
              "      <td>AAPL</td>\n",
              "      <td>28.66</td>\n",
              "      <td>25.94</td>\n",
              "      <td>33.95</td>\n",
              "      <td>1.104857</td>\n",
              "    </tr>\n",
              "    <tr>\n",
              "      <th>2000-03-01</th>\n",
              "      <td>AAPL</td>\n",
              "      <td>33.95</td>\n",
              "      <td>28.66</td>\n",
              "      <td>31.01</td>\n",
              "      <td>1.184578</td>\n",
              "    </tr>\n",
              "    <tr>\n",
              "      <th>2000-04-01</th>\n",
              "      <td>AAPL</td>\n",
              "      <td>31.01</td>\n",
              "      <td>33.95</td>\n",
              "      <td>21.00</td>\n",
              "      <td>0.913402</td>\n",
              "    </tr>\n",
              "    <tr>\n",
              "      <th>2000-05-01</th>\n",
              "      <td>AAPL</td>\n",
              "      <td>21.00</td>\n",
              "      <td>31.01</td>\n",
              "      <td>26.19</td>\n",
              "      <td>0.677201</td>\n",
              "    </tr>\n",
              "  </tbody>\n",
              "</table>\n",
              "</div>"
            ],
            "text/plain": [
              "           symbol  price  shifted  lagged    change\n",
              "date                                               \n",
              "2000-01-01   AAPL  25.94      NaN   28.66       NaN\n",
              "2000-02-01   AAPL  28.66    25.94   33.95  1.104857\n",
              "2000-03-01   AAPL  33.95    28.66   31.01  1.184578\n",
              "2000-04-01   AAPL  31.01    33.95   21.00  0.913402\n",
              "2000-05-01   AAPL  21.00    31.01   26.19  0.677201"
            ]
          },
          "metadata": {
            "tags": []
          },
          "execution_count": 45
        }
      ]
    },
    {
      "cell_type": "markdown",
      "metadata": {
        "id": "gJuL0Vir4rOb",
        "colab_type": "text"
      },
      "source": [
        "## Calculating one-period percent change"
      ]
    },
    {
      "cell_type": "code",
      "metadata": {
        "id": "s7PE50Jc3vzE",
        "colab_type": "code",
        "colab": {
          "base_uri": "https://localhost:8080/",
          "height": 337
        },
        "outputId": "bdedc271-5b8c-4843-a31f-2109830aa9ba"
      },
      "source": [
        "# create a new column and calculate the result\n",
        "df_aapl['return'] = df_aapl.change.sub(1).mul(100)\n",
        "df_aapl.head()"
      ],
      "execution_count": 46,
      "outputs": [
        {
          "output_type": "stream",
          "text": [
            "/usr/local/lib/python3.6/dist-packages/ipykernel_launcher.py:2: SettingWithCopyWarning: \n",
            "A value is trying to be set on a copy of a slice from a DataFrame.\n",
            "Try using .loc[row_indexer,col_indexer] = value instead\n",
            "\n",
            "See the caveats in the documentation: https://pandas.pydata.org/pandas-docs/stable/user_guide/indexing.html#returning-a-view-versus-a-copy\n",
            "  \n"
          ],
          "name": "stderr"
        },
        {
          "output_type": "execute_result",
          "data": {
            "text/html": [
              "<div>\n",
              "<style scoped>\n",
              "    .dataframe tbody tr th:only-of-type {\n",
              "        vertical-align: middle;\n",
              "    }\n",
              "\n",
              "    .dataframe tbody tr th {\n",
              "        vertical-align: top;\n",
              "    }\n",
              "\n",
              "    .dataframe thead th {\n",
              "        text-align: right;\n",
              "    }\n",
              "</style>\n",
              "<table border=\"1\" class=\"dataframe\">\n",
              "  <thead>\n",
              "    <tr style=\"text-align: right;\">\n",
              "      <th></th>\n",
              "      <th>symbol</th>\n",
              "      <th>price</th>\n",
              "      <th>shifted</th>\n",
              "      <th>lagged</th>\n",
              "      <th>change</th>\n",
              "      <th>return</th>\n",
              "    </tr>\n",
              "    <tr>\n",
              "      <th>date</th>\n",
              "      <th></th>\n",
              "      <th></th>\n",
              "      <th></th>\n",
              "      <th></th>\n",
              "      <th></th>\n",
              "      <th></th>\n",
              "    </tr>\n",
              "  </thead>\n",
              "  <tbody>\n",
              "    <tr>\n",
              "      <th>2000-01-01</th>\n",
              "      <td>AAPL</td>\n",
              "      <td>25.94</td>\n",
              "      <td>NaN</td>\n",
              "      <td>28.66</td>\n",
              "      <td>NaN</td>\n",
              "      <td>NaN</td>\n",
              "    </tr>\n",
              "    <tr>\n",
              "      <th>2000-02-01</th>\n",
              "      <td>AAPL</td>\n",
              "      <td>28.66</td>\n",
              "      <td>25.94</td>\n",
              "      <td>33.95</td>\n",
              "      <td>1.104857</td>\n",
              "      <td>10.485736</td>\n",
              "    </tr>\n",
              "    <tr>\n",
              "      <th>2000-03-01</th>\n",
              "      <td>AAPL</td>\n",
              "      <td>33.95</td>\n",
              "      <td>28.66</td>\n",
              "      <td>31.01</td>\n",
              "      <td>1.184578</td>\n",
              "      <td>18.457781</td>\n",
              "    </tr>\n",
              "    <tr>\n",
              "      <th>2000-04-01</th>\n",
              "      <td>AAPL</td>\n",
              "      <td>31.01</td>\n",
              "      <td>33.95</td>\n",
              "      <td>21.00</td>\n",
              "      <td>0.913402</td>\n",
              "      <td>-8.659794</td>\n",
              "    </tr>\n",
              "    <tr>\n",
              "      <th>2000-05-01</th>\n",
              "      <td>AAPL</td>\n",
              "      <td>21.00</td>\n",
              "      <td>31.01</td>\n",
              "      <td>26.19</td>\n",
              "      <td>0.677201</td>\n",
              "      <td>-32.279910</td>\n",
              "    </tr>\n",
              "  </tbody>\n",
              "</table>\n",
              "</div>"
            ],
            "text/plain": [
              "           symbol  price  shifted  lagged    change     return\n",
              "date                                                          \n",
              "2000-01-01   AAPL  25.94      NaN   28.66       NaN        NaN\n",
              "2000-02-01   AAPL  28.66    25.94   33.95  1.104857  10.485736\n",
              "2000-03-01   AAPL  33.95    28.66   31.01  1.184578  18.457781\n",
              "2000-04-01   AAPL  31.01    33.95   21.00  0.913402  -8.659794\n",
              "2000-05-01   AAPL  21.00    31.01   26.19  0.677201 -32.279910"
            ]
          },
          "metadata": {
            "tags": []
          },
          "execution_count": 46
        }
      ]
    },
    {
      "cell_type": "markdown",
      "metadata": {
        "id": "yJZ0Wf8H5T3P",
        "colab_type": "text"
      },
      "source": [
        "## Built-in timeseries change\n",
        "`.diff()`\n",
        "\n",
        "*   This method is used to calculate the difference invalue for two adjacent periods. In finance, it is used to calculate the difference in close price since the last day the stocks were traded. \n",
        "\n",
        "$$x_t / x_{t-1}$$"
      ]
    },
    {
      "cell_type": "code",
      "metadata": {
        "id": "dQyOIkSn4-hk",
        "colab_type": "code",
        "colab": {
          "base_uri": "https://localhost:8080/",
          "height": 337
        },
        "outputId": "4b0c68b9-4e63-4fec-aaaf-9d150572c3bc"
      },
      "source": [
        "# create a new column and calculate the diff()\n",
        "\n",
        "df_aapl['diff'] = df_aapl.price.diff()\n",
        "df_aapl.head()"
      ],
      "execution_count": 48,
      "outputs": [
        {
          "output_type": "stream",
          "text": [
            "/usr/local/lib/python3.6/dist-packages/ipykernel_launcher.py:3: SettingWithCopyWarning: \n",
            "A value is trying to be set on a copy of a slice from a DataFrame.\n",
            "Try using .loc[row_indexer,col_indexer] = value instead\n",
            "\n",
            "See the caveats in the documentation: https://pandas.pydata.org/pandas-docs/stable/user_guide/indexing.html#returning-a-view-versus-a-copy\n",
            "  This is separate from the ipykernel package so we can avoid doing imports until\n"
          ],
          "name": "stderr"
        },
        {
          "output_type": "execute_result",
          "data": {
            "text/html": [
              "<div>\n",
              "<style scoped>\n",
              "    .dataframe tbody tr th:only-of-type {\n",
              "        vertical-align: middle;\n",
              "    }\n",
              "\n",
              "    .dataframe tbody tr th {\n",
              "        vertical-align: top;\n",
              "    }\n",
              "\n",
              "    .dataframe thead th {\n",
              "        text-align: right;\n",
              "    }\n",
              "</style>\n",
              "<table border=\"1\" class=\"dataframe\">\n",
              "  <thead>\n",
              "    <tr style=\"text-align: right;\">\n",
              "      <th></th>\n",
              "      <th>symbol</th>\n",
              "      <th>price</th>\n",
              "      <th>shifted</th>\n",
              "      <th>lagged</th>\n",
              "      <th>change</th>\n",
              "      <th>return</th>\n",
              "      <th>diff</th>\n",
              "    </tr>\n",
              "    <tr>\n",
              "      <th>date</th>\n",
              "      <th></th>\n",
              "      <th></th>\n",
              "      <th></th>\n",
              "      <th></th>\n",
              "      <th></th>\n",
              "      <th></th>\n",
              "      <th></th>\n",
              "    </tr>\n",
              "  </thead>\n",
              "  <tbody>\n",
              "    <tr>\n",
              "      <th>2000-01-01</th>\n",
              "      <td>AAPL</td>\n",
              "      <td>25.94</td>\n",
              "      <td>NaN</td>\n",
              "      <td>28.66</td>\n",
              "      <td>NaN</td>\n",
              "      <td>NaN</td>\n",
              "      <td>NaN</td>\n",
              "    </tr>\n",
              "    <tr>\n",
              "      <th>2000-02-01</th>\n",
              "      <td>AAPL</td>\n",
              "      <td>28.66</td>\n",
              "      <td>25.94</td>\n",
              "      <td>33.95</td>\n",
              "      <td>1.104857</td>\n",
              "      <td>10.485736</td>\n",
              "      <td>2.72</td>\n",
              "    </tr>\n",
              "    <tr>\n",
              "      <th>2000-03-01</th>\n",
              "      <td>AAPL</td>\n",
              "      <td>33.95</td>\n",
              "      <td>28.66</td>\n",
              "      <td>31.01</td>\n",
              "      <td>1.184578</td>\n",
              "      <td>18.457781</td>\n",
              "      <td>5.29</td>\n",
              "    </tr>\n",
              "    <tr>\n",
              "      <th>2000-04-01</th>\n",
              "      <td>AAPL</td>\n",
              "      <td>31.01</td>\n",
              "      <td>33.95</td>\n",
              "      <td>21.00</td>\n",
              "      <td>0.913402</td>\n",
              "      <td>-8.659794</td>\n",
              "      <td>-2.94</td>\n",
              "    </tr>\n",
              "    <tr>\n",
              "      <th>2000-05-01</th>\n",
              "      <td>AAPL</td>\n",
              "      <td>21.00</td>\n",
              "      <td>31.01</td>\n",
              "      <td>26.19</td>\n",
              "      <td>0.677201</td>\n",
              "      <td>-32.279910</td>\n",
              "      <td>-10.01</td>\n",
              "    </tr>\n",
              "  </tbody>\n",
              "</table>\n",
              "</div>"
            ],
            "text/plain": [
              "           symbol  price  shifted  lagged    change     return   diff\n",
              "date                                                                 \n",
              "2000-01-01   AAPL  25.94      NaN   28.66       NaN        NaN    NaN\n",
              "2000-02-01   AAPL  28.66    25.94   33.95  1.104857  10.485736   2.72\n",
              "2000-03-01   AAPL  33.95    28.66   31.01  1.184578  18.457781   5.29\n",
              "2000-04-01   AAPL  31.01    33.95   21.00  0.913402  -8.659794  -2.94\n",
              "2000-05-01   AAPL  21.00    31.01   26.19  0.677201 -32.279910 -10.01"
            ]
          },
          "metadata": {
            "tags": []
          },
          "execution_count": 48
        }
      ]
    },
    {
      "cell_type": "markdown",
      "metadata": {
        "id": "UrbzKZe76bi4",
        "colab_type": "text"
      },
      "source": [
        "## Calculating % change\n",
        "`.pct_change()`\n",
        "\n",
        "*   Calculates the percent change for two adjacent periods\n",
        "\n",
        "$$\\frac{x_t}{x_{t-1}}$$"
      ]
    },
    {
      "cell_type": "code",
      "metadata": {
        "id": "j3AccGFA6D6e",
        "colab_type": "code",
        "colab": {
          "base_uri": "https://localhost:8080/",
          "height": 337
        },
        "outputId": "ca455180-1f6c-416f-936b-50f589678283"
      },
      "source": [
        "# create a new column and calculate the percentage change\n",
        "\n",
        "df_aapl['pct_change'] = df_aapl.price.pct_change().mul(100)\n",
        "df_aapl.head()"
      ],
      "execution_count": 51,
      "outputs": [
        {
          "output_type": "stream",
          "text": [
            "/usr/local/lib/python3.6/dist-packages/ipykernel_launcher.py:3: SettingWithCopyWarning: \n",
            "A value is trying to be set on a copy of a slice from a DataFrame.\n",
            "Try using .loc[row_indexer,col_indexer] = value instead\n",
            "\n",
            "See the caveats in the documentation: https://pandas.pydata.org/pandas-docs/stable/user_guide/indexing.html#returning-a-view-versus-a-copy\n",
            "  This is separate from the ipykernel package so we can avoid doing imports until\n"
          ],
          "name": "stderr"
        },
        {
          "output_type": "execute_result",
          "data": {
            "text/html": [
              "<div>\n",
              "<style scoped>\n",
              "    .dataframe tbody tr th:only-of-type {\n",
              "        vertical-align: middle;\n",
              "    }\n",
              "\n",
              "    .dataframe tbody tr th {\n",
              "        vertical-align: top;\n",
              "    }\n",
              "\n",
              "    .dataframe thead th {\n",
              "        text-align: right;\n",
              "    }\n",
              "</style>\n",
              "<table border=\"1\" class=\"dataframe\">\n",
              "  <thead>\n",
              "    <tr style=\"text-align: right;\">\n",
              "      <th></th>\n",
              "      <th>symbol</th>\n",
              "      <th>price</th>\n",
              "      <th>shifted</th>\n",
              "      <th>lagged</th>\n",
              "      <th>change</th>\n",
              "      <th>return</th>\n",
              "      <th>diff</th>\n",
              "      <th>pct_change</th>\n",
              "    </tr>\n",
              "    <tr>\n",
              "      <th>date</th>\n",
              "      <th></th>\n",
              "      <th></th>\n",
              "      <th></th>\n",
              "      <th></th>\n",
              "      <th></th>\n",
              "      <th></th>\n",
              "      <th></th>\n",
              "      <th></th>\n",
              "    </tr>\n",
              "  </thead>\n",
              "  <tbody>\n",
              "    <tr>\n",
              "      <th>2000-01-01</th>\n",
              "      <td>AAPL</td>\n",
              "      <td>25.94</td>\n",
              "      <td>NaN</td>\n",
              "      <td>28.66</td>\n",
              "      <td>NaN</td>\n",
              "      <td>NaN</td>\n",
              "      <td>NaN</td>\n",
              "      <td>NaN</td>\n",
              "    </tr>\n",
              "    <tr>\n",
              "      <th>2000-02-01</th>\n",
              "      <td>AAPL</td>\n",
              "      <td>28.66</td>\n",
              "      <td>25.94</td>\n",
              "      <td>33.95</td>\n",
              "      <td>1.104857</td>\n",
              "      <td>10.485736</td>\n",
              "      <td>2.72</td>\n",
              "      <td>10.485736</td>\n",
              "    </tr>\n",
              "    <tr>\n",
              "      <th>2000-03-01</th>\n",
              "      <td>AAPL</td>\n",
              "      <td>33.95</td>\n",
              "      <td>28.66</td>\n",
              "      <td>31.01</td>\n",
              "      <td>1.184578</td>\n",
              "      <td>18.457781</td>\n",
              "      <td>5.29</td>\n",
              "      <td>18.457781</td>\n",
              "    </tr>\n",
              "    <tr>\n",
              "      <th>2000-04-01</th>\n",
              "      <td>AAPL</td>\n",
              "      <td>31.01</td>\n",
              "      <td>33.95</td>\n",
              "      <td>21.00</td>\n",
              "      <td>0.913402</td>\n",
              "      <td>-8.659794</td>\n",
              "      <td>-2.94</td>\n",
              "      <td>-8.659794</td>\n",
              "    </tr>\n",
              "    <tr>\n",
              "      <th>2000-05-01</th>\n",
              "      <td>AAPL</td>\n",
              "      <td>21.00</td>\n",
              "      <td>31.01</td>\n",
              "      <td>26.19</td>\n",
              "      <td>0.677201</td>\n",
              "      <td>-32.279910</td>\n",
              "      <td>-10.01</td>\n",
              "      <td>-32.279910</td>\n",
              "    </tr>\n",
              "  </tbody>\n",
              "</table>\n",
              "</div>"
            ],
            "text/plain": [
              "           symbol  price  shifted  ...     return   diff  pct_change\n",
              "date                               ...                              \n",
              "2000-01-01   AAPL  25.94      NaN  ...        NaN    NaN         NaN\n",
              "2000-02-01   AAPL  28.66    25.94  ...  10.485736   2.72   10.485736\n",
              "2000-03-01   AAPL  33.95    28.66  ...  18.457781   5.29   18.457781\n",
              "2000-04-01   AAPL  31.01    33.95  ...  -8.659794  -2.94   -8.659794\n",
              "2000-05-01   AAPL  21.00    31.01  ... -32.279910 -10.01  -32.279910\n",
              "\n",
              "[5 rows x 8 columns]"
            ]
          },
          "metadata": {
            "tags": []
          },
          "execution_count": 51
        }
      ]
    },
    {
      "cell_type": "markdown",
      "metadata": {
        "id": "wLXGrZHA7c2W",
        "colab_type": "text"
      },
      "source": [
        "## Exercise:\n",
        "\n",
        "Set the frequency of the data to business day and shift the AAPL stock price 90 days into past and future and plot the results. Ensure the df contains daily prices.\n",
        "\n",
        "```\n",
        "# set frequency to business days\n",
        "df_apple = df_aapl['price']\n",
        "# create lagged and shifted columns\n",
        "df_apple['lagged'] = df_apple.price.shift(periods=-90)\n",
        "df_apple['shifted'] = df_apple.price.shift(periods=90)\n",
        "# plot the price, lagged and shifted columns\n",
        "\n",
        "df_aapl[['price', 'lagged', 'shifted']].plot(title=\"Apple Stock Price Comparison 90 Days into Past and Future\")\n",
        "plt.show()\n",
        "```"
      ]
    },
    {
      "cell_type": "markdown",
      "metadata": {
        "id": "TpStD-x2Hjf0",
        "colab_type": "text"
      },
      "source": [
        "## Comparing Timeseries Growth Rate\n",
        "\n",
        "*  Timeseries data, stocks for instance, are hard to compare at different levels so they must be normalized so that the price series starts at 100.\n",
        "   *   This is done by dividing all prices by the first element in the series and multiplying by 100\n",
        "   *   As a result, the first value = 1 and each subsequent price now reflects the relative change to the initial price. All prices are relative to the starting point\n",
        "   *   Multiply the normalized series by 100 and now we get the relative change to the initial prince in percentage points. For instance, a price change from 100 to 130 represents a 30 percent point increase.\n",
        "\n",
        "Let's look at an example.   "
      ]
    },
    {
      "cell_type": "code",
      "metadata": {
        "id": "jFZQO3MZba2v",
        "colab_type": "code",
        "colab": {}
      },
      "source": [
        "import pandas as pd\n",
        "import pandas_datareader.data as web\n",
        "import numpy as np\n",
        "import matplotlib.pyplot as plt\n",
        "import seaborn as sns"
      ],
      "execution_count": 23,
      "outputs": []
    },
    {
      "cell_type": "markdown",
      "metadata": {
        "id": "QtwbKEOnieR8",
        "colab_type": "text"
      },
      "source": [
        "Create a data frame containing the price (Adj Close ) for Kodak ('KODK'), iRobot ('IRBT'), Amazon ('AMZN') and Google ('GOOG') using pandas datareader which imports data from the web."
      ]
    },
    {
      "cell_type": "code",
      "metadata": {
        "id": "HDRYM6n1fSD7",
        "colab_type": "code",
        "colab": {}
      },
      "source": [
        "all_data = {ticker : web.get_data_yahoo(ticker)\n",
        "            for ticker in ['KODK', 'IRBT', 'AMZN', 'GOOG']}\n",
        "price = pd.DataFrame({ticker : data['Adj Close']\n",
        "                      for ticker, data in all_data.items()})\n",
        "            \n"
      ],
      "execution_count": 36,
      "outputs": []
    },
    {
      "cell_type": "code",
      "metadata": {
        "id": "LatK8ETLhtlv",
        "colab_type": "code",
        "colab": {
          "base_uri": "https://localhost:8080/",
          "height": 235
        },
        "outputId": "004d6b71-a46a-48d9-c258-c5c66b73d677"
      },
      "source": [
        "price.head()"
      ],
      "execution_count": 37,
      "outputs": [
        {
          "output_type": "execute_result",
          "data": {
            "text/html": [
              "<div>\n",
              "<style scoped>\n",
              "    .dataframe tbody tr th:only-of-type {\n",
              "        vertical-align: middle;\n",
              "    }\n",
              "\n",
              "    .dataframe tbody tr th {\n",
              "        vertical-align: top;\n",
              "    }\n",
              "\n",
              "    .dataframe thead th {\n",
              "        text-align: right;\n",
              "    }\n",
              "</style>\n",
              "<table border=\"1\" class=\"dataframe\">\n",
              "  <thead>\n",
              "    <tr style=\"text-align: right;\">\n",
              "      <th></th>\n",
              "      <th>KODK</th>\n",
              "      <th>IRBT</th>\n",
              "      <th>AMZN</th>\n",
              "      <th>GOOG</th>\n",
              "    </tr>\n",
              "    <tr>\n",
              "      <th>Date</th>\n",
              "      <th></th>\n",
              "      <th></th>\n",
              "      <th></th>\n",
              "      <th></th>\n",
              "    </tr>\n",
              "  </thead>\n",
              "  <tbody>\n",
              "    <tr>\n",
              "      <th>2015-09-09</th>\n",
              "      <td>15.11</td>\n",
              "      <td>30.129999</td>\n",
              "      <td>516.890015</td>\n",
              "      <td>612.719971</td>\n",
              "    </tr>\n",
              "    <tr>\n",
              "      <th>2015-09-10</th>\n",
              "      <td>15.25</td>\n",
              "      <td>29.709999</td>\n",
              "      <td>522.239990</td>\n",
              "      <td>621.349976</td>\n",
              "    </tr>\n",
              "    <tr>\n",
              "      <th>2015-09-11</th>\n",
              "      <td>15.48</td>\n",
              "      <td>30.049999</td>\n",
              "      <td>529.440002</td>\n",
              "      <td>625.770020</td>\n",
              "    </tr>\n",
              "    <tr>\n",
              "      <th>2015-09-14</th>\n",
              "      <td>14.99</td>\n",
              "      <td>29.889999</td>\n",
              "      <td>521.380005</td>\n",
              "      <td>623.239990</td>\n",
              "    </tr>\n",
              "    <tr>\n",
              "      <th>2015-09-15</th>\n",
              "      <td>15.41</td>\n",
              "      <td>30.320000</td>\n",
              "      <td>522.369995</td>\n",
              "      <td>635.140015</td>\n",
              "    </tr>\n",
              "  </tbody>\n",
              "</table>\n",
              "</div>"
            ],
            "text/plain": [
              "             KODK       IRBT        AMZN        GOOG\n",
              "Date                                                \n",
              "2015-09-09  15.11  30.129999  516.890015  612.719971\n",
              "2015-09-10  15.25  29.709999  522.239990  621.349976\n",
              "2015-09-11  15.48  30.049999  529.440002  625.770020\n",
              "2015-09-14  14.99  29.889999  521.380005  623.239990\n",
              "2015-09-15  15.41  30.320000  522.369995  635.140015"
            ]
          },
          "metadata": {
            "tags": []
          },
          "execution_count": 37
        }
      ]
    },
    {
      "cell_type": "code",
      "metadata": {
        "id": "4DbX4hPBh1Bn",
        "colab_type": "code",
        "colab": {
          "base_uri": "https://localhost:8080/",
          "height": 204
        },
        "outputId": "a1faeabf-cc87-4f34-ac21-c4a737fb7d37"
      },
      "source": [
        "price.info()"
      ],
      "execution_count": 38,
      "outputs": [
        {
          "output_type": "stream",
          "text": [
            "<class 'pandas.core.frame.DataFrame'>\n",
            "DatetimeIndex: 1258 entries, 2015-09-09 to 2020-09-04\n",
            "Data columns (total 4 columns):\n",
            " #   Column  Non-Null Count  Dtype  \n",
            "---  ------  --------------  -----  \n",
            " 0   KODK    1258 non-null   float64\n",
            " 1   IRBT    1258 non-null   float64\n",
            " 2   AMZN    1258 non-null   float64\n",
            " 3   GOOG    1258 non-null   float64\n",
            "dtypes: float64(4)\n",
            "memory usage: 49.1 KB\n"
          ],
          "name": "stdout"
        }
      ]
    },
    {
      "cell_type": "code",
      "metadata": {
        "id": "zx1pFRpZiRH8",
        "colab_type": "code",
        "colab": {
          "base_uri": "https://localhost:8080/",
          "height": 102
        },
        "outputId": "fb5e44bf-414c-4e8f-a888-fbf94f802d61"
      },
      "source": [
        "# Select the first price for the stocks\n",
        "price.iloc[0]"
      ],
      "execution_count": 41,
      "outputs": [
        {
          "output_type": "execute_result",
          "data": {
            "text/plain": [
              "KODK     15.110000\n",
              "IRBT     30.129999\n",
              "AMZN    516.890015\n",
              "GOOG    612.719971\n",
              "Name: 2015-09-09 00:00:00, dtype: float64"
            ]
          },
          "metadata": {
            "tags": []
          },
          "execution_count": 41
        }
      ]
    },
    {
      "cell_type": "markdown",
      "metadata": {
        "id": "WZAcrenclN-f",
        "colab_type": "text"
      },
      "source": [
        "This returns a Series containing the first row of the dataframe which can now be used to normalized the data. \n"
      ]
    },
    {
      "cell_type": "code",
      "metadata": {
        "id": "6uggYFCvlbp3",
        "colab_type": "code",
        "colab": {
          "base_uri": "https://localhost:8080/",
          "height": 235
        },
        "outputId": "817cc6d9-e8d9-4e9f-c762-af4e590b4f03"
      },
      "source": [
        "normalized_df = price.div(price.iloc[0])\n",
        "normalized_df.head()"
      ],
      "execution_count": 42,
      "outputs": [
        {
          "output_type": "execute_result",
          "data": {
            "text/html": [
              "<div>\n",
              "<style scoped>\n",
              "    .dataframe tbody tr th:only-of-type {\n",
              "        vertical-align: middle;\n",
              "    }\n",
              "\n",
              "    .dataframe tbody tr th {\n",
              "        vertical-align: top;\n",
              "    }\n",
              "\n",
              "    .dataframe thead th {\n",
              "        text-align: right;\n",
              "    }\n",
              "</style>\n",
              "<table border=\"1\" class=\"dataframe\">\n",
              "  <thead>\n",
              "    <tr style=\"text-align: right;\">\n",
              "      <th></th>\n",
              "      <th>KODK</th>\n",
              "      <th>IRBT</th>\n",
              "      <th>AMZN</th>\n",
              "      <th>GOOG</th>\n",
              "    </tr>\n",
              "    <tr>\n",
              "      <th>Date</th>\n",
              "      <th></th>\n",
              "      <th></th>\n",
              "      <th></th>\n",
              "      <th></th>\n",
              "    </tr>\n",
              "  </thead>\n",
              "  <tbody>\n",
              "    <tr>\n",
              "      <th>2015-09-09</th>\n",
              "      <td>1.000000</td>\n",
              "      <td>1.000000</td>\n",
              "      <td>1.000000</td>\n",
              "      <td>1.000000</td>\n",
              "    </tr>\n",
              "    <tr>\n",
              "      <th>2015-09-10</th>\n",
              "      <td>1.009265</td>\n",
              "      <td>0.986060</td>\n",
              "      <td>1.010350</td>\n",
              "      <td>1.014085</td>\n",
              "    </tr>\n",
              "    <tr>\n",
              "      <th>2015-09-11</th>\n",
              "      <td>1.024487</td>\n",
              "      <td>0.997345</td>\n",
              "      <td>1.024280</td>\n",
              "      <td>1.021299</td>\n",
              "    </tr>\n",
              "    <tr>\n",
              "      <th>2015-09-14</th>\n",
              "      <td>0.992058</td>\n",
              "      <td>0.992035</td>\n",
              "      <td>1.008687</td>\n",
              "      <td>1.017169</td>\n",
              "    </tr>\n",
              "    <tr>\n",
              "      <th>2015-09-15</th>\n",
              "      <td>1.019854</td>\n",
              "      <td>1.006306</td>\n",
              "      <td>1.010602</td>\n",
              "      <td>1.036591</td>\n",
              "    </tr>\n",
              "  </tbody>\n",
              "</table>\n",
              "</div>"
            ],
            "text/plain": [
              "                KODK      IRBT      AMZN      GOOG\n",
              "Date                                              \n",
              "2015-09-09  1.000000  1.000000  1.000000  1.000000\n",
              "2015-09-10  1.009265  0.986060  1.010350  1.014085\n",
              "2015-09-11  1.024487  0.997345  1.024280  1.021299\n",
              "2015-09-14  0.992058  0.992035  1.008687  1.017169\n",
              "2015-09-15  1.019854  1.006306  1.010602  1.036591"
            ]
          },
          "metadata": {
            "tags": []
          },
          "execution_count": 42
        }
      ]
    },
    {
      "cell_type": "markdown",
      "metadata": {
        "id": "25YMbjTrlM4q",
        "colab_type": "text"
      },
      "source": [
        "We would need a benchmark to compare performance so we can import data from the web for SPDR S&P 500 ETF"
      ]
    },
    {
      "cell_type": "code",
      "metadata": {
        "id": "byEPGQgKmsyt",
        "colab_type": "code",
        "colab": {}
      },
      "source": [
        "bench = {ticker : web.get_data_yahoo(ticker)\n",
        "         for ticker in ['SPY']}\n",
        "bench_price = pd.DataFrame({ticker : data['Adj Close']\n",
        "                      for ticker, data in bench.items()})"
      ],
      "execution_count": 43,
      "outputs": []
    },
    {
      "cell_type": "code",
      "metadata": {
        "id": "ILeKzut0m805",
        "colab_type": "code",
        "colab": {
          "base_uri": "https://localhost:8080/",
          "height": 235
        },
        "outputId": "a40015e7-60d6-49ad-f35d-6d092b5de65f"
      },
      "source": [
        "bench_price.head()"
      ],
      "execution_count": 44,
      "outputs": [
        {
          "output_type": "execute_result",
          "data": {
            "text/html": [
              "<div>\n",
              "<style scoped>\n",
              "    .dataframe tbody tr th:only-of-type {\n",
              "        vertical-align: middle;\n",
              "    }\n",
              "\n",
              "    .dataframe tbody tr th {\n",
              "        vertical-align: top;\n",
              "    }\n",
              "\n",
              "    .dataframe thead th {\n",
              "        text-align: right;\n",
              "    }\n",
              "</style>\n",
              "<table border=\"1\" class=\"dataframe\">\n",
              "  <thead>\n",
              "    <tr style=\"text-align: right;\">\n",
              "      <th></th>\n",
              "      <th>SPY</th>\n",
              "    </tr>\n",
              "    <tr>\n",
              "      <th>Date</th>\n",
              "      <th></th>\n",
              "    </tr>\n",
              "  </thead>\n",
              "  <tbody>\n",
              "    <tr>\n",
              "      <th>2015-09-09</th>\n",
              "      <td>176.350250</td>\n",
              "    </tr>\n",
              "    <tr>\n",
              "      <th>2015-09-10</th>\n",
              "      <td>177.309891</td>\n",
              "    </tr>\n",
              "    <tr>\n",
              "      <th>2015-09-11</th>\n",
              "      <td>178.115662</td>\n",
              "    </tr>\n",
              "    <tr>\n",
              "      <th>2015-09-14</th>\n",
              "      <td>177.454758</td>\n",
              "    </tr>\n",
              "    <tr>\n",
              "      <th>2015-09-15</th>\n",
              "      <td>179.672806</td>\n",
              "    </tr>\n",
              "  </tbody>\n",
              "</table>\n",
              "</div>"
            ],
            "text/plain": [
              "                   SPY\n",
              "Date                  \n",
              "2015-09-09  176.350250\n",
              "2015-09-10  177.309891\n",
              "2015-09-11  178.115662\n",
              "2015-09-14  177.454758\n",
              "2015-09-15  179.672806"
            ]
          },
          "metadata": {
            "tags": []
          },
          "execution_count": 44
        }
      ]
    },
    {
      "cell_type": "code",
      "metadata": {
        "id": "N7tP5oWcm-02",
        "colab_type": "code",
        "colab": {
          "base_uri": "https://localhost:8080/",
          "height": 153
        },
        "outputId": "04fd6160-00fc-43b5-dca5-f2f46de1d0cb"
      },
      "source": [
        "bench_price.info()"
      ],
      "execution_count": 45,
      "outputs": [
        {
          "output_type": "stream",
          "text": [
            "<class 'pandas.core.frame.DataFrame'>\n",
            "DatetimeIndex: 1258 entries, 2015-09-09 to 2020-09-04\n",
            "Data columns (total 1 columns):\n",
            " #   Column  Non-Null Count  Dtype  \n",
            "---  ------  --------------  -----  \n",
            " 0   SPY     1258 non-null   float64\n",
            "dtypes: float64(1)\n",
            "memory usage: 19.7 KB\n"
          ],
          "name": "stdout"
        }
      ]
    },
    {
      "cell_type": "markdown",
      "metadata": {
        "id": "VxsEJFUMnI0w",
        "colab_type": "text"
      },
      "source": [
        "Now that we have the stock price and the benchmark data, we can combine them into a single dataframe using `pd.concat`"
      ]
    },
    {
      "cell_type": "code",
      "metadata": {
        "id": "MRA9dsFtnBl4",
        "colab_type": "code",
        "colab": {
          "base_uri": "https://localhost:8080/",
          "height": 173
        },
        "outputId": "6ce8746b-6821-459e-8b51-11f02f989e14"
      },
      "source": [
        "price_concat = pd.concat([price, bench_price], axis=1).dropna()\n",
        "price_concat.head(3)"
      ],
      "execution_count": 47,
      "outputs": [
        {
          "output_type": "execute_result",
          "data": {
            "text/html": [
              "<div>\n",
              "<style scoped>\n",
              "    .dataframe tbody tr th:only-of-type {\n",
              "        vertical-align: middle;\n",
              "    }\n",
              "\n",
              "    .dataframe tbody tr th {\n",
              "        vertical-align: top;\n",
              "    }\n",
              "\n",
              "    .dataframe thead th {\n",
              "        text-align: right;\n",
              "    }\n",
              "</style>\n",
              "<table border=\"1\" class=\"dataframe\">\n",
              "  <thead>\n",
              "    <tr style=\"text-align: right;\">\n",
              "      <th></th>\n",
              "      <th>KODK</th>\n",
              "      <th>IRBT</th>\n",
              "      <th>AMZN</th>\n",
              "      <th>GOOG</th>\n",
              "      <th>SPY</th>\n",
              "    </tr>\n",
              "    <tr>\n",
              "      <th>Date</th>\n",
              "      <th></th>\n",
              "      <th></th>\n",
              "      <th></th>\n",
              "      <th></th>\n",
              "      <th></th>\n",
              "    </tr>\n",
              "  </thead>\n",
              "  <tbody>\n",
              "    <tr>\n",
              "      <th>2015-09-09</th>\n",
              "      <td>15.11</td>\n",
              "      <td>30.129999</td>\n",
              "      <td>516.890015</td>\n",
              "      <td>612.719971</td>\n",
              "      <td>176.350250</td>\n",
              "    </tr>\n",
              "    <tr>\n",
              "      <th>2015-09-10</th>\n",
              "      <td>15.25</td>\n",
              "      <td>29.709999</td>\n",
              "      <td>522.239990</td>\n",
              "      <td>621.349976</td>\n",
              "      <td>177.309891</td>\n",
              "    </tr>\n",
              "    <tr>\n",
              "      <th>2015-09-11</th>\n",
              "      <td>15.48</td>\n",
              "      <td>30.049999</td>\n",
              "      <td>529.440002</td>\n",
              "      <td>625.770020</td>\n",
              "      <td>178.115662</td>\n",
              "    </tr>\n",
              "  </tbody>\n",
              "</table>\n",
              "</div>"
            ],
            "text/plain": [
              "             KODK       IRBT        AMZN        GOOG         SPY\n",
              "Date                                                            \n",
              "2015-09-09  15.11  30.129999  516.890015  612.719971  176.350250\n",
              "2015-09-10  15.25  29.709999  522.239990  621.349976  177.309891\n",
              "2015-09-11  15.48  30.049999  529.440002  625.770020  178.115662"
            ]
          },
          "metadata": {
            "tags": []
          },
          "execution_count": 47
        }
      ]
    },
    {
      "cell_type": "code",
      "metadata": {
        "id": "Edq2YIKDn4Kv",
        "colab_type": "code",
        "colab": {
          "base_uri": "https://localhost:8080/",
          "height": 221
        },
        "outputId": "5e0b880a-a34a-43ab-9aff-1879525e6662"
      },
      "source": [
        "price_concat.info()"
      ],
      "execution_count": 49,
      "outputs": [
        {
          "output_type": "stream",
          "text": [
            "<class 'pandas.core.frame.DataFrame'>\n",
            "DatetimeIndex: 1258 entries, 2015-09-09 to 2020-09-04\n",
            "Data columns (total 5 columns):\n",
            " #   Column  Non-Null Count  Dtype  \n",
            "---  ------  --------------  -----  \n",
            " 0   KODK    1258 non-null   float64\n",
            " 1   IRBT    1258 non-null   float64\n",
            " 2   AMZN    1258 non-null   float64\n",
            " 3   GOOG    1258 non-null   float64\n",
            " 4   SPY     1258 non-null   float64\n",
            "dtypes: float64(5)\n",
            "memory usage: 59.0 KB\n"
          ],
          "name": "stdout"
        }
      ]
    },
    {
      "cell_type": "markdown",
      "metadata": {
        "id": "cNRpvFX7oEjf",
        "colab_type": "text"
      },
      "source": [
        "We can use the concatenated dataframe to compare the prices against the benchmark. We first normalized the data and multuply by 100, plot the data and see of each stock performed against `SPY`"
      ]
    },
    {
      "cell_type": "code",
      "metadata": {
        "id": "_8ESmAwjn8Rv",
        "colab_type": "code",
        "colab": {
          "base_uri": "https://localhost:8080/",
          "height": 383
        },
        "outputId": "9d02440a-58ab-43d8-db4b-2c3ac179e789"
      },
      "source": [
        "normalized = price_concat.div(price_concat.iloc[0]).mul(100)\n",
        "normalized.plot(title=\"Stocks / SPY\",figsize = (8,6));"
      ],
      "execution_count": 53,
      "outputs": [
        {
          "output_type": "display_data",
          "data": {
            "image/png": "[encoded data removed]",
            "text/plain": [
              "<Figure size 576x432 with 1 Axes>"
            ]
          },
          "metadata": {
            "tags": [],
            "needs_background": "light"
          }
        }
      ]
    },
    {
      "cell_type": "markdown",
      "metadata": {
        "id": "jYKpdPtYpdG1",
        "colab_type": "text"
      },
      "source": [
        "To see the performance difference for each individual stock relative to the benchmark in percentage points, we can subtract the normalized `SPY` from the normalized stock prices. Use `.sub` with the keyword `axis=0` to align the Series index with the DataFrame index. This will make pandas subtract the Series from each column.\n",
        "Plot the data to see how each stock performed relative to the benchmark."
      ]
    },
    {
      "cell_type": "code",
      "metadata": {
        "id": "3tRFzRuRoyqY",
        "colab_type": "code",
        "colab": {
          "base_uri": "https://localhost:8080/",
          "height": 235
        },
        "outputId": "06a70ab2-b0b5-4a40-99ae-4d9e4dc2d71c"
      },
      "source": [
        "diff = normalized.sub(normalized['SPY'], axis=0)\n",
        "diff.head()"
      ],
      "execution_count": 56,
      "outputs": [
        {
          "output_type": "execute_result",
          "data": {
            "text/html": [
              "<div>\n",
              "<style scoped>\n",
              "    .dataframe tbody tr th:only-of-type {\n",
              "        vertical-align: middle;\n",
              "    }\n",
              "\n",
              "    .dataframe tbody tr th {\n",
              "        vertical-align: top;\n",
              "    }\n",
              "\n",
              "    .dataframe thead th {\n",
              "        text-align: right;\n",
              "    }\n",
              "</style>\n",
              "<table border=\"1\" class=\"dataframe\">\n",
              "  <thead>\n",
              "    <tr style=\"text-align: right;\">\n",
              "      <th></th>\n",
              "      <th>KODK</th>\n",
              "      <th>IRBT</th>\n",
              "      <th>AMZN</th>\n",
              "      <th>GOOG</th>\n",
              "      <th>SPY</th>\n",
              "    </tr>\n",
              "    <tr>\n",
              "      <th>Date</th>\n",
              "      <th></th>\n",
              "      <th></th>\n",
              "      <th></th>\n",
              "      <th></th>\n",
              "      <th></th>\n",
              "    </tr>\n",
              "  </thead>\n",
              "  <tbody>\n",
              "    <tr>\n",
              "      <th>2015-09-09</th>\n",
              "      <td>0.000000</td>\n",
              "      <td>0.000000</td>\n",
              "      <td>0.000000</td>\n",
              "      <td>0.000000</td>\n",
              "      <td>0.0</td>\n",
              "    </tr>\n",
              "    <tr>\n",
              "      <th>2015-09-10</th>\n",
              "      <td>0.382374</td>\n",
              "      <td>-1.938127</td>\n",
              "      <td>0.490864</td>\n",
              "      <td>0.864307</td>\n",
              "      <td>0.0</td>\n",
              "    </tr>\n",
              "    <tr>\n",
              "      <th>2015-09-11</th>\n",
              "      <td>1.447626</td>\n",
              "      <td>-1.266598</td>\n",
              "      <td>1.426898</td>\n",
              "      <td>1.128773</td>\n",
              "      <td>0.0</td>\n",
              "    </tr>\n",
              "    <tr>\n",
              "      <th>2015-09-14</th>\n",
              "      <td>-1.420490</td>\n",
              "      <td>-1.422862</td>\n",
              "      <td>0.242340</td>\n",
              "      <td>1.090623</td>\n",
              "      <td>0.0</td>\n",
              "    </tr>\n",
              "    <tr>\n",
              "      <th>2015-09-15</th>\n",
              "      <td>0.101375</td>\n",
              "      <td>-1.253464</td>\n",
              "      <td>-0.823883</td>\n",
              "      <td>1.775035</td>\n",
              "      <td>0.0</td>\n",
              "    </tr>\n",
              "  </tbody>\n",
              "</table>\n",
              "</div>"
            ],
            "text/plain": [
              "                KODK      IRBT      AMZN      GOOG  SPY\n",
              "Date                                                   \n",
              "2015-09-09  0.000000  0.000000  0.000000  0.000000  0.0\n",
              "2015-09-10  0.382374 -1.938127  0.490864  0.864307  0.0\n",
              "2015-09-11  1.447626 -1.266598  1.426898  1.128773  0.0\n",
              "2015-09-14 -1.420490 -1.422862  0.242340  1.090623  0.0\n",
              "2015-09-15  0.101375 -1.253464 -0.823883  1.775035  0.0"
            ]
          },
          "metadata": {
            "tags": []
          },
          "execution_count": 56
        }
      ]
    },
    {
      "cell_type": "code",
      "metadata": {
        "id": "m4h5UNOSp8Hb",
        "colab_type": "code",
        "colab": {
          "base_uri": "https://localhost:8080/",
          "height": 383
        },
        "outputId": "c6e6d089-9cec-43ee-bbe8-e89221d4d6de"
      },
      "source": [
        "diff[['KODK', 'IRBT', 'AMZN', 'GOOG']].plot(title=\"Stock performance / SPY\", figsize = (8,6));"
      ],
      "execution_count": 58,
      "outputs": [
        {
          "output_type": "display_data",
          "data": {
            "image/png": "[encoded data removed]",
            "text/plain": [
              "<Figure size 576x432 with 1 Axes>"
            ]
          },
          "metadata": {
            "tags": [],
            "needs_background": "light"
          }
        }
      ]
    },
    {
      "cell_type": "markdown",
      "metadata": {
        "id": "NyNy-ZDLFqzm",
        "colab_type": "text"
      },
      "source": [
        "## Changing Frequency - Resampling\n",
        "\n",
        "We can change the frequency in a `DateTimeIndex` using `as.freq()`. Keep in mind that chaging the frequency also changes the underlying data. \n",
        "When **unsampling**, converting the data to a higher frequency, we create new rows and need to tell pandas how to interpolate the missing data. \n",
        "When **downsampling** we reduce the number of rows  and need to tell pandas how to aggregate the existing data. \n",
        "\n",
        "We can use the following methods to manioulate our data:\n",
        "\n",
        "*   `.asfreq()`\n",
        "*   `.reindex()`\n",
        "*   `.resample()` + tranformation method\n",
        "\n",
        "Let's illustrate this concept by creating some ramdon quaterly data and changing resampling it. \n",
        "\n",
        "\n"
      ]
    },
    {
      "cell_type": "code",
      "metadata": {
        "id": "8-IOkdwJraRh",
        "colab_type": "code",
        "colab": {
          "base_uri": "https://localhost:8080/",
          "height": 102
        },
        "outputId": "30e57ad3-bd56-496e-eb39-4df11a4cf5e1"
      },
      "source": [
        "# Resample d\n",
        "\n",
        "dates = pd.date_range(start='2019', periods=4, freq='Q')\n",
        "data = range(1, 5)\n",
        "\n",
        "quaterly = pd.Series(data=data, index=dates)\n",
        "quaterly"
      ],
      "execution_count": 60,
      "outputs": [
        {
          "output_type": "execute_result",
          "data": {
            "text/plain": [
              "2019-03-31    1\n",
              "2019-06-30    2\n",
              "2019-09-30    3\n",
              "2019-12-31    4\n",
              "Freq: Q-DEC, dtype: int64"
            ]
          },
          "metadata": {
            "tags": []
          },
          "execution_count": 60
        }
      ]
    },
    {
      "cell_type": "code",
      "metadata": {
        "id": "BVSabmfKI6Qa",
        "colab_type": "code",
        "colab": {
          "base_uri": "https://localhost:8080/",
          "height": 204
        },
        "outputId": "9f101947-30ab-4b97-cb03-6ba94a218487"
      },
      "source": [
        "# change to monthly frequency\n",
        "\n",
        "monthly = quaterly.asfreq('M')\n",
        "monthly"
      ],
      "execution_count": 62,
      "outputs": [
        {
          "output_type": "execute_result",
          "data": {
            "text/plain": [
              "2019-03-31    1.0\n",
              "2019-04-30    NaN\n",
              "2019-05-31    NaN\n",
              "2019-06-30    2.0\n",
              "2019-07-31    NaN\n",
              "2019-08-31    NaN\n",
              "2019-09-30    3.0\n",
              "2019-10-31    NaN\n",
              "2019-11-30    NaN\n",
              "2019-12-31    4.0\n",
              "Freq: M, dtype: float64"
            ]
          },
          "metadata": {
            "tags": []
          },
          "execution_count": 62
        }
      ]
    },
    {
      "cell_type": "markdown",
      "metadata": {
        "id": "AIlBeZnNKXr1",
        "colab_type": "text"
      },
      "source": [
        "## Upsampling to fill in missing values\n",
        "\n",
        "We can convert a Series to DataFrame by applying the `to_frame()` method passing a column name as parameter"
      ]
    },
    {
      "cell_type": "code",
      "metadata": {
        "id": "FwmnMZH2KFYG",
        "colab_type": "code",
        "colab": {
          "base_uri": "https://localhost:8080/",
          "height": 359
        },
        "outputId": "9e710f67-b60f-4608-da6f-09ae375cb81c"
      },
      "source": [
        "monthly = monthly.to_frame('baselines')\n",
        "monthly"
      ],
      "execution_count": 63,
      "outputs": [
        {
          "output_type": "execute_result",
          "data": {
            "text/html": [
              "<div>\n",
              "<style scoped>\n",
              "    .dataframe tbody tr th:only-of-type {\n",
              "        vertical-align: middle;\n",
              "    }\n",
              "\n",
              "    .dataframe tbody tr th {\n",
              "        vertical-align: top;\n",
              "    }\n",
              "\n",
              "    .dataframe thead th {\n",
              "        text-align: right;\n",
              "    }\n",
              "</style>\n",
              "<table border=\"1\" class=\"dataframe\">\n",
              "  <thead>\n",
              "    <tr style=\"text-align: right;\">\n",
              "      <th></th>\n",
              "      <th>baselines</th>\n",
              "    </tr>\n",
              "  </thead>\n",
              "  <tbody>\n",
              "    <tr>\n",
              "      <th>2019-03-31</th>\n",
              "      <td>1.0</td>\n",
              "    </tr>\n",
              "    <tr>\n",
              "      <th>2019-04-30</th>\n",
              "      <td>NaN</td>\n",
              "    </tr>\n",
              "    <tr>\n",
              "      <th>2019-05-31</th>\n",
              "      <td>NaN</td>\n",
              "    </tr>\n",
              "    <tr>\n",
              "      <th>2019-06-30</th>\n",
              "      <td>2.0</td>\n",
              "    </tr>\n",
              "    <tr>\n",
              "      <th>2019-07-31</th>\n",
              "      <td>NaN</td>\n",
              "    </tr>\n",
              "    <tr>\n",
              "      <th>2019-08-31</th>\n",
              "      <td>NaN</td>\n",
              "    </tr>\n",
              "    <tr>\n",
              "      <th>2019-09-30</th>\n",
              "      <td>3.0</td>\n",
              "    </tr>\n",
              "    <tr>\n",
              "      <th>2019-10-31</th>\n",
              "      <td>NaN</td>\n",
              "    </tr>\n",
              "    <tr>\n",
              "      <th>2019-11-30</th>\n",
              "      <td>NaN</td>\n",
              "    </tr>\n",
              "    <tr>\n",
              "      <th>2019-12-31</th>\n",
              "      <td>4.0</td>\n",
              "    </tr>\n",
              "  </tbody>\n",
              "</table>\n",
              "</div>"
            ],
            "text/plain": [
              "            baselines\n",
              "2019-03-31        1.0\n",
              "2019-04-30        NaN\n",
              "2019-05-31        NaN\n",
              "2019-06-30        2.0\n",
              "2019-07-31        NaN\n",
              "2019-08-31        NaN\n",
              "2019-09-30        3.0\n",
              "2019-10-31        NaN\n",
              "2019-11-30        NaN\n",
              "2019-12-31        4.0"
            ]
          },
          "metadata": {
            "tags": []
          },
          "execution_count": 63
        }
      ]
    },
    {
      "cell_type": "markdown",
      "metadata": {
        "id": "m7U1SkzkK54q",
        "colab_type": "text"
      },
      "source": [
        "We can impute the missing values using the following methods:\n",
        "*   forward fill -- `method='ffill`\n",
        "*   back fill -- `method='bfill`\n",
        "*   fill with 0 -- `fill_value=0`\n"
      ]
    },
    {
      "cell_type": "code",
      "metadata": {
        "id": "HYcPdP9BKrXR",
        "colab_type": "code",
        "colab": {}
      },
      "source": [
        "monthly['ffill'] = quaterly.asfreq('M', method='ffill')\n",
        "monthly['bfill'] = quaterly.asfreq('M', method='bfill')\n",
        "monthly['value'] = quaterly.asfreq('M', fill_value=0)"
      ],
      "execution_count": 65,
      "outputs": []
    },
    {
      "cell_type": "code",
      "metadata": {
        "id": "7jtuCDlTL49q",
        "colab_type": "code",
        "colab": {
          "base_uri": "https://localhost:8080/",
          "height": 359
        },
        "outputId": "cd290ce4-74c8-447e-e0a4-dc1ee4354884"
      },
      "source": [
        "monthly"
      ],
      "execution_count": 66,
      "outputs": [
        {
          "output_type": "execute_result",
          "data": {
            "text/html": [
              "<div>\n",
              "<style scoped>\n",
              "    .dataframe tbody tr th:only-of-type {\n",
              "        vertical-align: middle;\n",
              "    }\n",
              "\n",
              "    .dataframe tbody tr th {\n",
              "        vertical-align: top;\n",
              "    }\n",
              "\n",
              "    .dataframe thead th {\n",
              "        text-align: right;\n",
              "    }\n",
              "</style>\n",
              "<table border=\"1\" class=\"dataframe\">\n",
              "  <thead>\n",
              "    <tr style=\"text-align: right;\">\n",
              "      <th></th>\n",
              "      <th>baselines</th>\n",
              "      <th>ffill</th>\n",
              "      <th>bfill</th>\n",
              "      <th>value</th>\n",
              "    </tr>\n",
              "  </thead>\n",
              "  <tbody>\n",
              "    <tr>\n",
              "      <th>2019-03-31</th>\n",
              "      <td>1.0</td>\n",
              "      <td>1</td>\n",
              "      <td>1</td>\n",
              "      <td>1</td>\n",
              "    </tr>\n",
              "    <tr>\n",
              "      <th>2019-04-30</th>\n",
              "      <td>NaN</td>\n",
              "      <td>1</td>\n",
              "      <td>2</td>\n",
              "      <td>0</td>\n",
              "    </tr>\n",
              "    <tr>\n",
              "      <th>2019-05-31</th>\n",
              "      <td>NaN</td>\n",
              "      <td>1</td>\n",
              "      <td>2</td>\n",
              "      <td>0</td>\n",
              "    </tr>\n",
              "    <tr>\n",
              "      <th>2019-06-30</th>\n",
              "      <td>2.0</td>\n",
              "      <td>2</td>\n",
              "      <td>2</td>\n",
              "      <td>2</td>\n",
              "    </tr>\n",
              "    <tr>\n",
              "      <th>2019-07-31</th>\n",
              "      <td>NaN</td>\n",
              "      <td>2</td>\n",
              "      <td>3</td>\n",
              "      <td>0</td>\n",
              "    </tr>\n",
              "    <tr>\n",
              "      <th>2019-08-31</th>\n",
              "      <td>NaN</td>\n",
              "      <td>2</td>\n",
              "      <td>3</td>\n",
              "      <td>0</td>\n",
              "    </tr>\n",
              "    <tr>\n",
              "      <th>2019-09-30</th>\n",
              "      <td>3.0</td>\n",
              "      <td>3</td>\n",
              "      <td>3</td>\n",
              "      <td>3</td>\n",
              "    </tr>\n",
              "    <tr>\n",
              "      <th>2019-10-31</th>\n",
              "      <td>NaN</td>\n",
              "      <td>3</td>\n",
              "      <td>4</td>\n",
              "      <td>0</td>\n",
              "    </tr>\n",
              "    <tr>\n",
              "      <th>2019-11-30</th>\n",
              "      <td>NaN</td>\n",
              "      <td>3</td>\n",
              "      <td>4</td>\n",
              "      <td>0</td>\n",
              "    </tr>\n",
              "    <tr>\n",
              "      <th>2019-12-31</th>\n",
              "      <td>4.0</td>\n",
              "      <td>4</td>\n",
              "      <td>4</td>\n",
              "      <td>4</td>\n",
              "    </tr>\n",
              "  </tbody>\n",
              "</table>\n",
              "</div>"
            ],
            "text/plain": [
              "            baselines  ffill  bfill  value\n",
              "2019-03-31        1.0      1      1      1\n",
              "2019-04-30        NaN      1      2      0\n",
              "2019-05-31        NaN      1      2      0\n",
              "2019-06-30        2.0      2      2      2\n",
              "2019-07-31        NaN      2      3      0\n",
              "2019-08-31        NaN      2      3      0\n",
              "2019-09-30        3.0      3      3      3\n",
              "2019-10-31        NaN      3      4      0\n",
              "2019-11-30        NaN      3      4      0\n",
              "2019-12-31        4.0      4      4      4"
            ]
          },
          "metadata": {
            "tags": []
          },
          "execution_count": 66
        }
      ]
    },
    {
      "cell_type": "markdown",
      "metadata": {
        "id": "RTShIwG9MRmR",
        "colab_type": "text"
      },
      "source": [
        "## Reindexing\n",
        "\n",
        "Let's say we want a monthly `DateTiemIndex` for a full year, we can use `.reindex()` In this case pandas aligns existing data with new monthly values and creates missing values elsewhere. and we can use the same filling methods we saw above the impute the missing data. \n"
      ]
    },
    {
      "cell_type": "code",
      "metadata": {
        "id": "gpKPFERBL8aT",
        "colab_type": "code",
        "colab": {}
      },
      "source": [
        "dates = pd.date_range(start='2019',\n",
        "                      periods=12,\n",
        "                      freq='M')"
      ],
      "execution_count": 68,
      "outputs": []
    },
    {
      "cell_type": "code",
      "metadata": {
        "id": "4o1-bpz2Mwy2",
        "colab_type": "code",
        "colab": {
          "base_uri": "https://localhost:8080/",
          "height": 238
        },
        "outputId": "066f5da5-b5f1-4f1c-9cf4-42bf01bb2cdf"
      },
      "source": [
        "quaterly.reindex(dates)"
      ],
      "execution_count": 69,
      "outputs": [
        {
          "output_type": "execute_result",
          "data": {
            "text/plain": [
              "2019-01-31    NaN\n",
              "2019-02-28    NaN\n",
              "2019-03-31    1.0\n",
              "2019-04-30    NaN\n",
              "2019-05-31    NaN\n",
              "2019-06-30    2.0\n",
              "2019-07-31    NaN\n",
              "2019-08-31    NaN\n",
              "2019-09-30    3.0\n",
              "2019-10-31    NaN\n",
              "2019-11-30    NaN\n",
              "2019-12-31    4.0\n",
              "Freq: M, dtype: float64"
            ]
          },
          "metadata": {
            "tags": []
          },
          "execution_count": 69
        }
      ]
    },
    {
      "cell_type": "code",
      "metadata": {
        "id": "Hf2MdmyhM8Zs",
        "colab_type": "code",
        "colab": {
          "base_uri": "https://localhost:8080/",
          "height": 238
        },
        "outputId": "7e4b341d-5caa-4b2e-99a3-73e5e02e5e31"
      },
      "source": [
        "quaterly.reindex(dates, method='bfill')\n"
      ],
      "execution_count": 72,
      "outputs": [
        {
          "output_type": "execute_result",
          "data": {
            "text/plain": [
              "2019-01-31    1\n",
              "2019-02-28    1\n",
              "2019-03-31    1\n",
              "2019-04-30    2\n",
              "2019-05-31    2\n",
              "2019-06-30    2\n",
              "2019-07-31    3\n",
              "2019-08-31    3\n",
              "2019-09-30    3\n",
              "2019-10-31    4\n",
              "2019-11-30    4\n",
              "2019-12-31    4\n",
              "Freq: M, dtype: int64"
            ]
          },
          "metadata": {
            "tags": []
          },
          "execution_count": 72
        }
      ]
    },
    {
      "cell_type": "code",
      "metadata": {
        "id": "lff_nyE2Q0xJ",
        "colab_type": "code",
        "colab": {
          "base_uri": "https://localhost:8080/",
          "height": 238
        },
        "outputId": "7bd96b7b-108a-499d-cff1-8750371cf44a"
      },
      "source": [
        "quaterly.reindex(dates, method='ffill')"
      ],
      "execution_count": 73,
      "outputs": [
        {
          "output_type": "execute_result",
          "data": {
            "text/plain": [
              "2019-01-31    NaN\n",
              "2019-02-28    NaN\n",
              "2019-03-31    1.0\n",
              "2019-04-30    1.0\n",
              "2019-05-31    1.0\n",
              "2019-06-30    2.0\n",
              "2019-07-31    2.0\n",
              "2019-08-31    2.0\n",
              "2019-09-30    3.0\n",
              "2019-10-31    3.0\n",
              "2019-11-30    3.0\n",
              "2019-12-31    4.0\n",
              "Freq: M, dtype: float64"
            ]
          },
          "metadata": {
            "tags": []
          },
          "execution_count": 73
        }
      ]
    },
    {
      "cell_type": "markdown",
      "metadata": {
        "id": "u7PwSfkAUZNo",
        "colab_type": "text"
      },
      "source": [
        "## Frequency Conversion & Transformation Methods\n",
        "\n",
        "Pandas' `.resample()` follows a logic similar to `.groupby()`. It groups data within resampling periods and applies one or several methods to each group. It takes the value created by this method and assigns a new date within the resampling period. The new date is determined by the `offset` and it can be located at `start`, `end`, and a custom location. \n",
        "\n",
        "Let's apply these concepts to the *Civilian Unemployment Rate* data for the US. \n",
        "\n",
        "I am going to use `QUANDL` to retrieve the unemployment data. \n",
        "You can `pip install` it in your system by running the command below on the terminal:"
      ]
    },
    {
      "cell_type": "code",
      "metadata": {
        "id": "d8bdONCCQ_jx",
        "colab_type": "code",
        "colab": {
          "base_uri": "https://localhost:8080/",
          "height": 326
        },
        "outputId": "696c256d-84ff-40a2-9c99-35cce48a8926"
      },
      "source": [
        "!pip3 install quandl\n"
      ],
      "execution_count": 74,
      "outputs": [
        {
          "output_type": "stream",
          "text": [
            "Collecting quandl\n",
            "  Downloading https://files.pythonhosted.org/packages/1b/29/185269dbd2e2698c8098b35c52ce73a2c52cf76163e709f9f7789d03ebbb/Quandl-3.5.2-py2.py3-none-any.whl\n",
            "Requirement already satisfied: requests>=2.7.0 in /usr/local/lib/python3.6/dist-packages (from quandl) (2.23.0)\n",
            "Requirement already satisfied: pandas>=0.14 in /usr/local/lib/python3.6/dist-packages (from quandl) (1.0.5)\n",
            "Requirement already satisfied: more-itertools in /usr/local/lib/python3.6/dist-packages (from quandl) (8.4.0)\n",
            "Requirement already satisfied: numpy>=1.8 in /usr/local/lib/python3.6/dist-packages (from quandl) (1.18.5)\n",
            "Requirement already satisfied: six in /usr/local/lib/python3.6/dist-packages (from quandl) (1.15.0)\n",
            "Collecting inflection>=0.3.1\n",
            "  Downloading https://files.pythonhosted.org/packages/59/91/aa6bde563e0085a02a435aa99b49ef75b0a4b062635e606dab23ce18d720/inflection-0.5.1-py2.py3-none-any.whl\n",
            "Requirement already satisfied: python-dateutil in /usr/local/lib/python3.6/dist-packages (from quandl) (2.8.1)\n",
            "Requirement already satisfied: certifi>=2017.4.17 in /usr/local/lib/python3.6/dist-packages (from requests>=2.7.0->quandl) (2020.6.20)\n",
            "Requirement already satisfied: idna<3,>=2.5 in /usr/local/lib/python3.6/dist-packages (from requests>=2.7.0->quandl) (2.10)\n",
            "Requirement already satisfied: chardet<4,>=3.0.2 in /usr/local/lib/python3.6/dist-packages (from requests>=2.7.0->quandl) (3.0.4)\n",
            "Requirement already satisfied: urllib3!=1.25.0,!=1.25.1,<1.26,>=1.21.1 in /usr/local/lib/python3.6/dist-packages (from requests>=2.7.0->quandl) (1.24.3)\n",
            "Requirement already satisfied: pytz>=2017.2 in /usr/local/lib/python3.6/dist-packages (from pandas>=0.14->quandl) (2018.9)\n",
            "Installing collected packages: inflection, quandl\n",
            "Successfully installed inflection-0.5.1 quandl-3.5.2\n"
          ],
          "name": "stdout"
        }
      ]
    },
    {
      "cell_type": "code",
      "metadata": {
        "id": "kR13aDu1Z34_",
        "colab_type": "code",
        "colab": {}
      },
      "source": [
        "import quandl"
      ],
      "execution_count": 75,
      "outputs": []
    },
    {
      "cell_type": "code",
      "metadata": {
        "id": "G2i7re8DaAwk",
        "colab_type": "code",
        "colab": {}
      },
      "source": [
        "# pass your API key and dataset name\n",
        "quandl.ApiConfig.api_key = \"Your API Key\"\n",
        "df_unemployment = quandl.get(\"FRED/UNRATE\")"
      ],
      "execution_count": 78,
      "outputs": []
    },
    {
      "cell_type": "code",
      "metadata": {
        "id": "JYaso5syaDB-",
        "colab_type": "code",
        "colab": {
          "base_uri": "https://localhost:8080/",
          "height": 235
        },
        "outputId": "faf38458-8bbd-40ac-b041-69b598029193"
      },
      "source": [
        "df_unemployment.tail()"
      ],
      "execution_count": 104,
      "outputs": [
        {
          "output_type": "execute_result",
          "data": {
            "text/html": [
              "<div>\n",
              "<style scoped>\n",
              "    .dataframe tbody tr th:only-of-type {\n",
              "        vertical-align: middle;\n",
              "    }\n",
              "\n",
              "    .dataframe tbody tr th {\n",
              "        vertical-align: top;\n",
              "    }\n",
              "\n",
              "    .dataframe thead th {\n",
              "        text-align: right;\n",
              "    }\n",
              "</style>\n",
              "<table border=\"1\" class=\"dataframe\">\n",
              "  <thead>\n",
              "    <tr style=\"text-align: right;\">\n",
              "      <th></th>\n",
              "      <th>Value</th>\n",
              "    </tr>\n",
              "    <tr>\n",
              "      <th>Date</th>\n",
              "      <th></th>\n",
              "    </tr>\n",
              "  </thead>\n",
              "  <tbody>\n",
              "    <tr>\n",
              "      <th>2020-04-01</th>\n",
              "      <td>14.7</td>\n",
              "    </tr>\n",
              "    <tr>\n",
              "      <th>2020-05-01</th>\n",
              "      <td>13.3</td>\n",
              "    </tr>\n",
              "    <tr>\n",
              "      <th>2020-06-01</th>\n",
              "      <td>11.1</td>\n",
              "    </tr>\n",
              "    <tr>\n",
              "      <th>2020-07-01</th>\n",
              "      <td>10.2</td>\n",
              "    </tr>\n",
              "    <tr>\n",
              "      <th>2020-08-01</th>\n",
              "      <td>8.4</td>\n",
              "    </tr>\n",
              "  </tbody>\n",
              "</table>\n",
              "</div>"
            ],
            "text/plain": [
              "            Value\n",
              "Date             \n",
              "2020-04-01   14.7\n",
              "2020-05-01   13.3\n",
              "2020-06-01   11.1\n",
              "2020-07-01   10.2\n",
              "2020-08-01    8.4"
            ]
          },
          "metadata": {
            "tags": []
          },
          "execution_count": 104
        }
      ]
    },
    {
      "cell_type": "code",
      "metadata": {
        "id": "p6jBCz2pcnvR",
        "colab_type": "code",
        "colab": {
          "base_uri": "https://localhost:8080/",
          "height": 404
        },
        "outputId": "e3f2db2d-3af7-4f2a-b364-df9d47ca6ab7"
      },
      "source": [
        "df_unemployment.plot(title=\"US Unemployment Rate\", figsize = (8,6));"
      ],
      "execution_count": 120,
      "outputs": [
        {
          "output_type": "display_data",
          "data": {
            "image/png": "[encoded data removed]",
            "text/plain": [
              "<Figure size 576x432 with 1 Axes>"
            ]
          },
          "metadata": {
            "tags": [],
            "needs_background": "light"
          }
        }
      ]
    },
    {
      "cell_type": "code",
      "metadata": {
        "id": "LSfQS2MJc6T6",
        "colab_type": "code",
        "colab": {
          "base_uri": "https://localhost:8080/",
          "height": 153
        },
        "outputId": "7e3e7520-c747-4817-a5a9-be0fb5c1a210"
      },
      "source": [
        "df_unemployment.info()"
      ],
      "execution_count": 106,
      "outputs": [
        {
          "output_type": "stream",
          "text": [
            "<class 'pandas.core.frame.DataFrame'>\n",
            "DatetimeIndex: 872 entries, 1948-01-01 to 2020-08-01\n",
            "Data columns (total 1 columns):\n",
            " #   Column  Non-Null Count  Dtype  \n",
            "---  ------  --------------  -----  \n",
            " 0   Value   872 non-null    float64\n",
            "dtypes: float64(1)\n",
            "memory usage: 53.6 KB\n"
          ],
          "name": "stdout"
        }
      ]
    },
    {
      "cell_type": "markdown",
      "metadata": {
        "id": "7goX39w1ge55",
        "colab_type": "text"
      },
      "source": [
        "As we can see, the dataset contains the unemployment rate for the US from 1948 to now (Aug 2020). It has a monthly frequency as each data point is entered at the beginning of each month. \n",
        "To make it more manageable, we will create a new data set that contains only the last 14 years. \n",
        "We would need to reindex these data to weekly values. Reindex will create `NanNs` that we have to impute."
      ]
    },
    {
      "cell_type": "code",
      "metadata": {
        "id": "BFOmu_sKdH4o",
        "colab_type": "code",
        "colab": {}
      },
      "source": [
        "df_unempl_14_years = df_unemployment['2006':]"
      ],
      "execution_count": 107,
      "outputs": []
    },
    {
      "cell_type": "code",
      "metadata": {
        "id": "t3iPARUzdeMT",
        "colab_type": "code",
        "colab": {
          "base_uri": "https://localhost:8080/",
          "height": 235
        },
        "outputId": "53eccac3-7974-4715-b629-5beb47a8b627"
      },
      "source": [
        "df_unempl_14_years.head()"
      ],
      "execution_count": 108,
      "outputs": [
        {
          "output_type": "execute_result",
          "data": {
            "text/html": [
              "<div>\n",
              "<style scoped>\n",
              "    .dataframe tbody tr th:only-of-type {\n",
              "        vertical-align: middle;\n",
              "    }\n",
              "\n",
              "    .dataframe tbody tr th {\n",
              "        vertical-align: top;\n",
              "    }\n",
              "\n",
              "    .dataframe thead th {\n",
              "        text-align: right;\n",
              "    }\n",
              "</style>\n",
              "<table border=\"1\" class=\"dataframe\">\n",
              "  <thead>\n",
              "    <tr style=\"text-align: right;\">\n",
              "      <th></th>\n",
              "      <th>Value</th>\n",
              "    </tr>\n",
              "    <tr>\n",
              "      <th>Date</th>\n",
              "      <th></th>\n",
              "    </tr>\n",
              "  </thead>\n",
              "  <tbody>\n",
              "    <tr>\n",
              "      <th>2006-01-01</th>\n",
              "      <td>4.7</td>\n",
              "    </tr>\n",
              "    <tr>\n",
              "      <th>2006-02-01</th>\n",
              "      <td>4.8</td>\n",
              "    </tr>\n",
              "    <tr>\n",
              "      <th>2006-03-01</th>\n",
              "      <td>4.7</td>\n",
              "    </tr>\n",
              "    <tr>\n",
              "      <th>2006-04-01</th>\n",
              "      <td>4.7</td>\n",
              "    </tr>\n",
              "    <tr>\n",
              "      <th>2006-05-01</th>\n",
              "      <td>4.6</td>\n",
              "    </tr>\n",
              "  </tbody>\n",
              "</table>\n",
              "</div>"
            ],
            "text/plain": [
              "            Value\n",
              "Date             \n",
              "2006-01-01    4.7\n",
              "2006-02-01    4.8\n",
              "2006-03-01    4.7\n",
              "2006-04-01    4.7\n",
              "2006-05-01    4.6"
            ]
          },
          "metadata": {
            "tags": []
          },
          "execution_count": 108
        }
      ]
    },
    {
      "cell_type": "code",
      "metadata": {
        "id": "N3HHUQg6di9T",
        "colab_type": "code",
        "colab": {
          "base_uri": "https://localhost:8080/",
          "height": 312
        },
        "outputId": "f6fc1c90-f214-4851-fd49-6de436324868"
      },
      "source": [
        "df_unempl_14_years.plot(title='US Unemployment LAst 14 Years')"
      ],
      "execution_count": 109,
      "outputs": [
        {
          "output_type": "execute_result",
          "data": {
            "text/plain": [
              "<matplotlib.axes._subplots.AxesSubplot at 0x7f036e3f05c0>"
            ]
          },
          "metadata": {
            "tags": []
          },
          "execution_count": 109
        },
        {
          "output_type": "display_data",
          "data": {
            "image/png": "[encoded data removed]",
            "text/plain": [
              "<Figure size 432x288 with 1 Axes>"
            ]
          },
          "metadata": {
            "tags": [],
            "needs_background": "light"
          }
        }
      ]
    },
    {
      "cell_type": "code",
      "metadata": {
        "id": "fvesBwlPdpob",
        "colab_type": "code",
        "colab": {}
      },
      "source": [
        "# Create weekly dates\n",
        "weekly_dates_un = pd.date_range(start=df_unempl_14_years.index.min(),\n",
        "                             end=df_unempl_14_years.index.max(),\n",
        "                             freq='W')\n"
      ],
      "execution_count": 101,
      "outputs": []
    },
    {
      "cell_type": "code",
      "metadata": {
        "id": "W-EnqvwXgTSL",
        "colab_type": "code",
        "colab": {
          "base_uri": "https://localhost:8080/",
          "height": 419
        },
        "outputId": "29429181-5ad3-4a73-a4a0-3a3a014cd427"
      },
      "source": [
        "# reindex from monthly to weekly data\n",
        "weekly_un= df_unempl_14_years.reindex(weekly_dates)\n",
        "weekly_un"
      ],
      "execution_count": 110,
      "outputs": [
        {
          "output_type": "execute_result",
          "data": {
            "text/html": [
              "<div>\n",
              "<style scoped>\n",
              "    .dataframe tbody tr th:only-of-type {\n",
              "        vertical-align: middle;\n",
              "    }\n",
              "\n",
              "    .dataframe tbody tr th {\n",
              "        vertical-align: top;\n",
              "    }\n",
              "\n",
              "    .dataframe thead th {\n",
              "        text-align: right;\n",
              "    }\n",
              "</style>\n",
              "<table border=\"1\" class=\"dataframe\">\n",
              "  <thead>\n",
              "    <tr style=\"text-align: right;\">\n",
              "      <th></th>\n",
              "      <th>Value</th>\n",
              "    </tr>\n",
              "  </thead>\n",
              "  <tbody>\n",
              "    <tr>\n",
              "      <th>2006-01-01</th>\n",
              "      <td>4.7</td>\n",
              "    </tr>\n",
              "    <tr>\n",
              "      <th>2006-01-08</th>\n",
              "      <td>NaN</td>\n",
              "    </tr>\n",
              "    <tr>\n",
              "      <th>2006-01-15</th>\n",
              "      <td>NaN</td>\n",
              "    </tr>\n",
              "    <tr>\n",
              "      <th>2006-01-22</th>\n",
              "      <td>NaN</td>\n",
              "    </tr>\n",
              "    <tr>\n",
              "      <th>2006-01-29</th>\n",
              "      <td>NaN</td>\n",
              "    </tr>\n",
              "    <tr>\n",
              "      <th>...</th>\n",
              "      <td>...</td>\n",
              "    </tr>\n",
              "    <tr>\n",
              "      <th>2020-06-28</th>\n",
              "      <td>NaN</td>\n",
              "    </tr>\n",
              "    <tr>\n",
              "      <th>2020-07-05</th>\n",
              "      <td>NaN</td>\n",
              "    </tr>\n",
              "    <tr>\n",
              "      <th>2020-07-12</th>\n",
              "      <td>NaN</td>\n",
              "    </tr>\n",
              "    <tr>\n",
              "      <th>2020-07-19</th>\n",
              "      <td>NaN</td>\n",
              "    </tr>\n",
              "    <tr>\n",
              "      <th>2020-07-26</th>\n",
              "      <td>NaN</td>\n",
              "    </tr>\n",
              "  </tbody>\n",
              "</table>\n",
              "<p>761 rows × 1 columns</p>\n",
              "</div>"
            ],
            "text/plain": [
              "            Value\n",
              "2006-01-01    4.7\n",
              "2006-01-08    NaN\n",
              "2006-01-15    NaN\n",
              "2006-01-22    NaN\n",
              "2006-01-29    NaN\n",
              "...           ...\n",
              "2020-06-28    NaN\n",
              "2020-07-05    NaN\n",
              "2020-07-12    NaN\n",
              "2020-07-19    NaN\n",
              "2020-07-26    NaN\n",
              "\n",
              "[761 rows x 1 columns]"
            ]
          },
          "metadata": {
            "tags": []
          },
          "execution_count": 110
        }
      ]
    },
    {
      "cell_type": "code",
      "metadata": {
        "id": "hmGsKwjGjFAk",
        "colab_type": "code",
        "colab": {
          "base_uri": "https://localhost:8080/",
          "height": 170
        },
        "outputId": "2c23f67a-f9ee-4b29-d1e9-def445e59b18"
      },
      "source": [
        "weekly_un.info()"
      ],
      "execution_count": 112,
      "outputs": [
        {
          "output_type": "stream",
          "text": [
            "<class 'pandas.core.frame.DataFrame'>\n",
            "DatetimeIndex: 761 entries, 2006-01-01 to 2020-07-26\n",
            "Freq: W-SUN\n",
            "Data columns (total 1 columns):\n",
            " #   Column  Non-Null Count  Dtype  \n",
            "---  ------  --------------  -----  \n",
            " 0   Value   27 non-null     float64\n",
            "dtypes: float64(1)\n",
            "memory usage: 11.9 KB\n"
          ],
          "name": "stdout"
        }
      ]
    },
    {
      "cell_type": "code",
      "metadata": {
        "id": "fNZJ-HAzhPrK",
        "colab_type": "code",
        "colab": {}
      },
      "source": [
        "# Create a new column and forward fill the data\n",
        "\n",
        "weekly_un['ffill'] = weekly_un.Value.ffill()\n",
        "weekly_un['interpolated'] = weekly_un.Value.interpolate()\n"
      ],
      "execution_count": 114,
      "outputs": []
    },
    {
      "cell_type": "code",
      "metadata": {
        "id": "EDmsMaT5hhY0",
        "colab_type": "code",
        "colab": {
          "base_uri": "https://localhost:8080/",
          "height": 374
        },
        "outputId": "a57cf436-caa7-4020-f8a0-a4879e7ae49d"
      },
      "source": [
        "# plot data\n",
        "weekly_un.plot(figsize = (8,6));"
      ],
      "execution_count": 121,
      "outputs": [
        {
          "output_type": "display_data",
          "data": {
            "image/png": "[encoded data removed]",
            "text/plain": [
              "<Figure size 576x432 with 1 Axes>"
            ]
          },
          "metadata": {
            "tags": [],
            "needs_background": "light"
          }
        }
      ]
    },
    {
      "cell_type": "markdown",
      "metadata": {
        "id": "mCriLCkmlGD4",
        "colab_type": "text"
      },
      "source": [
        "## Downsampling & Aggregating Methods\n",
        "\n",
        "We can define downsampling as reducing the frequency of out timeseries data. For instance, we can reduce hourly data to daily data and daily to monthly data. To achieve this, we need to determine how to summarize/aggregate the existing data -- the 24 hourly data points will become a single datapoint when downsampling from hourly to daily. \n",
        "The options to aggregate data include using the `mean`, `media` or `last value` and that choice would be determined by the context/need of our analysis. \n",
        "For this example, we can use the *CO2 Concentration* data set from vega which contains a monthly value starting on 1958."
      ]
    },
    {
      "cell_type": "code",
      "metadata": {
        "id": "R2fcIGKNjYRi",
        "colab_type": "code",
        "colab": {
          "base_uri": "https://localhost:8080/",
          "height": 204
        },
        "outputId": "8b670085-9156-494a-f17b-0d09a08994cd"
      },
      "source": [
        "# import library for toy datasets\n",
        "from vega_datasets import data as vds\n",
        "\n",
        "df_co2 = vds.co2_concentration()\n",
        "df_co2.head(5)"
      ],
      "execution_count": 132,
      "outputs": [
        {
          "output_type": "execute_result",
          "data": {
            "text/html": [
              "<div>\n",
              "<style scoped>\n",
              "    .dataframe tbody tr th:only-of-type {\n",
              "        vertical-align: middle;\n",
              "    }\n",
              "\n",
              "    .dataframe tbody tr th {\n",
              "        vertical-align: top;\n",
              "    }\n",
              "\n",
              "    .dataframe thead th {\n",
              "        text-align: right;\n",
              "    }\n",
              "</style>\n",
              "<table border=\"1\" class=\"dataframe\">\n",
              "  <thead>\n",
              "    <tr style=\"text-align: right;\">\n",
              "      <th></th>\n",
              "      <th>Date</th>\n",
              "      <th>CO2</th>\n",
              "      <th>adjusted CO2</th>\n",
              "    </tr>\n",
              "  </thead>\n",
              "  <tbody>\n",
              "    <tr>\n",
              "      <th>0</th>\n",
              "      <td>1958-03-01</td>\n",
              "      <td>315.70</td>\n",
              "      <td>314.44</td>\n",
              "    </tr>\n",
              "    <tr>\n",
              "      <th>1</th>\n",
              "      <td>1958-04-01</td>\n",
              "      <td>317.46</td>\n",
              "      <td>315.16</td>\n",
              "    </tr>\n",
              "    <tr>\n",
              "      <th>2</th>\n",
              "      <td>1958-05-01</td>\n",
              "      <td>317.51</td>\n",
              "      <td>314.71</td>\n",
              "    </tr>\n",
              "    <tr>\n",
              "      <th>3</th>\n",
              "      <td>1958-07-01</td>\n",
              "      <td>315.86</td>\n",
              "      <td>315.19</td>\n",
              "    </tr>\n",
              "    <tr>\n",
              "      <th>4</th>\n",
              "      <td>1958-08-01</td>\n",
              "      <td>314.93</td>\n",
              "      <td>316.19</td>\n",
              "    </tr>\n",
              "  </tbody>\n",
              "</table>\n",
              "</div>"
            ],
            "text/plain": [
              "         Date     CO2  adjusted CO2\n",
              "0  1958-03-01  315.70        314.44\n",
              "1  1958-04-01  317.46        315.16\n",
              "2  1958-05-01  317.51        314.71\n",
              "3  1958-07-01  315.86        315.19\n",
              "4  1958-08-01  314.93        316.19"
            ]
          },
          "metadata": {
            "tags": []
          },
          "execution_count": 132
        }
      ]
    },
    {
      "cell_type": "code",
      "metadata": {
        "id": "0zWXM9vMmyg1",
        "colab_type": "code",
        "colab": {
          "base_uri": "https://localhost:8080/",
          "height": 187
        },
        "outputId": "3e7b9e9e-20d2-41f7-f529-508b89aa4a01"
      },
      "source": [
        "df_co2.info()"
      ],
      "execution_count": 133,
      "outputs": [
        {
          "output_type": "stream",
          "text": [
            "<class 'pandas.core.frame.DataFrame'>\n",
            "RangeIndex: 741 entries, 0 to 740\n",
            "Data columns (total 3 columns):\n",
            " #   Column        Non-Null Count  Dtype  \n",
            "---  ------        --------------  -----  \n",
            " 0   Date          741 non-null    object \n",
            " 1   CO2           741 non-null    float64\n",
            " 2   adjusted CO2  741 non-null    float64\n",
            "dtypes: float64(2), object(1)\n",
            "memory usage: 17.5+ KB\n"
          ],
          "name": "stdout"
        }
      ]
    },
    {
      "cell_type": "markdown",
      "metadata": {
        "id": "mUmjyy71n8jO",
        "colab_type": "text"
      },
      "source": [
        "By getting the dataframe's info we can see that it is not a timeseries dataframe so we must convert the date object column to 'DateTimeIndex` and also set it as the index."
      ]
    },
    {
      "cell_type": "code",
      "metadata": {
        "id": "ktB3xz-cm7Aj",
        "colab_type": "code",
        "colab": {}
      },
      "source": [
        "df_co2.Date = pd.to_datetime(df_co2.Date)"
      ],
      "execution_count": 134,
      "outputs": []
    },
    {
      "cell_type": "code",
      "metadata": {
        "id": "DLH8sVTZnhb7",
        "colab_type": "code",
        "colab": {}
      },
      "source": [
        "# set date as index\n",
        "df_co2.set_index('Date', inplace=True)"
      ],
      "execution_count": 135,
      "outputs": []
    },
    {
      "cell_type": "code",
      "metadata": {
        "id": "Hmv1xwFDn2HO",
        "colab_type": "code",
        "colab": {
          "base_uri": "https://localhost:8080/",
          "height": 235
        },
        "outputId": "50db5fca-84ef-479c-9c81-f595817062d0"
      },
      "source": [
        "df_co2.head()"
      ],
      "execution_count": 136,
      "outputs": [
        {
          "output_type": "execute_result",
          "data": {
            "text/html": [
              "<div>\n",
              "<style scoped>\n",
              "    .dataframe tbody tr th:only-of-type {\n",
              "        vertical-align: middle;\n",
              "    }\n",
              "\n",
              "    .dataframe tbody tr th {\n",
              "        vertical-align: top;\n",
              "    }\n",
              "\n",
              "    .dataframe thead th {\n",
              "        text-align: right;\n",
              "    }\n",
              "</style>\n",
              "<table border=\"1\" class=\"dataframe\">\n",
              "  <thead>\n",
              "    <tr style=\"text-align: right;\">\n",
              "      <th></th>\n",
              "      <th>CO2</th>\n",
              "      <th>adjusted CO2</th>\n",
              "    </tr>\n",
              "    <tr>\n",
              "      <th>Date</th>\n",
              "      <th></th>\n",
              "      <th></th>\n",
              "    </tr>\n",
              "  </thead>\n",
              "  <tbody>\n",
              "    <tr>\n",
              "      <th>1958-03-01</th>\n",
              "      <td>315.70</td>\n",
              "      <td>314.44</td>\n",
              "    </tr>\n",
              "    <tr>\n",
              "      <th>1958-04-01</th>\n",
              "      <td>317.46</td>\n",
              "      <td>315.16</td>\n",
              "    </tr>\n",
              "    <tr>\n",
              "      <th>1958-05-01</th>\n",
              "      <td>317.51</td>\n",
              "      <td>314.71</td>\n",
              "    </tr>\n",
              "    <tr>\n",
              "      <th>1958-07-01</th>\n",
              "      <td>315.86</td>\n",
              "      <td>315.19</td>\n",
              "    </tr>\n",
              "    <tr>\n",
              "      <th>1958-08-01</th>\n",
              "      <td>314.93</td>\n",
              "      <td>316.19</td>\n",
              "    </tr>\n",
              "  </tbody>\n",
              "</table>\n",
              "</div>"
            ],
            "text/plain": [
              "               CO2  adjusted CO2\n",
              "Date                            \n",
              "1958-03-01  315.70        314.44\n",
              "1958-04-01  317.46        315.16\n",
              "1958-05-01  317.51        314.71\n",
              "1958-07-01  315.86        315.19\n",
              "1958-08-01  314.93        316.19"
            ]
          },
          "metadata": {
            "tags": []
          },
          "execution_count": 136
        }
      ]
    },
    {
      "cell_type": "code",
      "metadata": {
        "id": "ifTePsWWn4gD",
        "colab_type": "code",
        "colab": {
          "base_uri": "https://localhost:8080/",
          "height": 170
        },
        "outputId": "c0feabce-917c-46d1-d766-971c22fc4d98"
      },
      "source": [
        "df_co2.info()"
      ],
      "execution_count": 137,
      "outputs": [
        {
          "output_type": "stream",
          "text": [
            "<class 'pandas.core.frame.DataFrame'>\n",
            "DatetimeIndex: 741 entries, 1958-03-01 to 2020-04-01\n",
            "Data columns (total 2 columns):\n",
            " #   Column        Non-Null Count  Dtype  \n",
            "---  ------        --------------  -----  \n",
            " 0   CO2           741 non-null    float64\n",
            " 1   adjusted CO2  741 non-null    float64\n",
            "dtypes: float64(2)\n",
            "memory usage: 17.4 KB\n"
          ],
          "name": "stdout"
        }
      ]
    },
    {
      "cell_type": "code",
      "metadata": {
        "id": "iqA09uEmp6c9",
        "colab_type": "code",
        "colab": {
          "base_uri": "https://localhost:8080/",
          "height": 481
        },
        "outputId": "f3117d61-4f08-42e3-f430-11c5bd31970f"
      },
      "source": [
        "#plot data\n",
        "df_co2.plot(title='CO2 Concentration', figsize=(10,8));"
      ],
      "execution_count": 140,
      "outputs": [
        {
          "output_type": "display_data",
          "data": {
            "image/png": "[encoded data removed]",
            "text/plain": [
              "<Figure size 720x576 with 1 Axes>"
            ]
          },
          "metadata": {
            "tags": [],
            "needs_background": "light"
          }
        }
      ]
    },
    {
      "cell_type": "code",
      "metadata": {
        "id": "lVI4WyUwn66v",
        "colab_type": "code",
        "colab": {
          "base_uri": "https://localhost:8080/",
          "height": 235
        },
        "outputId": "816ea1c5-f042-4256-9aef-eb74123fc704"
      },
      "source": [
        "# Change frequency from monthly to yearly\n",
        "# and aggregate using the mean\n",
        "df_co2_yearly = df_co2.resample('Y').mean()\n",
        "\n",
        "# display head\n",
        "df_co2_yearly.head()"
      ],
      "execution_count": 144,
      "outputs": [
        {
          "output_type": "execute_result",
          "data": {
            "text/html": [
              "<div>\n",
              "<style scoped>\n",
              "    .dataframe tbody tr th:only-of-type {\n",
              "        vertical-align: middle;\n",
              "    }\n",
              "\n",
              "    .dataframe tbody tr th {\n",
              "        vertical-align: top;\n",
              "    }\n",
              "\n",
              "    .dataframe thead th {\n",
              "        text-align: right;\n",
              "    }\n",
              "</style>\n",
              "<table border=\"1\" class=\"dataframe\">\n",
              "  <thead>\n",
              "    <tr style=\"text-align: right;\">\n",
              "      <th></th>\n",
              "      <th>CO2</th>\n",
              "      <th>adjusted CO2</th>\n",
              "    </tr>\n",
              "    <tr>\n",
              "      <th>Date</th>\n",
              "      <th></th>\n",
              "      <th></th>\n",
              "    </tr>\n",
              "  </thead>\n",
              "  <tbody>\n",
              "    <tr>\n",
              "      <th>1958-12-31</th>\n",
              "      <td>315.333750</td>\n",
              "      <td>315.300000</td>\n",
              "    </tr>\n",
              "    <tr>\n",
              "      <th>1959-12-31</th>\n",
              "      <td>315.981667</td>\n",
              "      <td>315.977500</td>\n",
              "    </tr>\n",
              "    <tr>\n",
              "      <th>1960-12-31</th>\n",
              "      <td>316.909167</td>\n",
              "      <td>316.907500</td>\n",
              "    </tr>\n",
              "    <tr>\n",
              "      <th>1961-12-31</th>\n",
              "      <td>317.645000</td>\n",
              "      <td>317.638333</td>\n",
              "    </tr>\n",
              "    <tr>\n",
              "      <th>1962-12-31</th>\n",
              "      <td>318.454167</td>\n",
              "      <td>318.448333</td>\n",
              "    </tr>\n",
              "  </tbody>\n",
              "</table>\n",
              "</div>"
            ],
            "text/plain": [
              "                   CO2  adjusted CO2\n",
              "Date                                \n",
              "1958-12-31  315.333750    315.300000\n",
              "1959-12-31  315.981667    315.977500\n",
              "1960-12-31  316.909167    316.907500\n",
              "1961-12-31  317.645000    317.638333\n",
              "1962-12-31  318.454167    318.448333"
            ]
          },
          "metadata": {
            "tags": []
          },
          "execution_count": 144
        }
      ]
    },
    {
      "cell_type": "code",
      "metadata": {
        "id": "rjgo_9nzqbQu",
        "colab_type": "code",
        "colab": {
          "base_uri": "https://localhost:8080/",
          "height": 530
        },
        "outputId": "3b5a7234-0d19-415a-d2cf-7940b4fc572e"
      },
      "source": [
        "df_co2_yearly.plot(title=\"CO2 Yearly Average Concentrations\", figsize=(10,8))"
      ],
      "execution_count": 145,
      "outputs": [
        {
          "output_type": "execute_result",
          "data": {
            "text/plain": [
              "<matplotlib.axes._subplots.AxesSubplot at 0x7f036dca2208>"
            ]
          },
          "metadata": {
            "tags": []
          },
          "execution_count": 145
        },
        {
          "output_type": "display_data",
          "data": {
            "image/png": "[encoded data removed]",
            "text/plain": [
              "<Figure size 720x576 with 1 Axes>"
            ]
          },
          "metadata": {
            "tags": [],
            "needs_background": "light"
          }
        }
      ]
    },
    {
      "cell_type": "markdown",
      "metadata": {
        "id": "OcI7ODGiryLa",
        "colab_type": "text"
      },
      "source": [
        "We aggregated the data using the `.mean()` but we also have other options to do so. We can also apply multiple aggregations at once by using the `.agg` method and passing a list of aggregation functions such as `median` and `std`."
      ]
    },
    {
      "cell_type": "code",
      "metadata": {
        "id": "HUVf5SM-rQDA",
        "colab_type": "code",
        "colab": {
          "base_uri": "https://localhost:8080/",
          "height": 266
        },
        "outputId": "dcabb5cf-312c-4412-adc6-08122cffaed7"
      },
      "source": [
        "df_co2_yearly.resample('Y').agg(['mean', 'std']).head()"
      ],
      "execution_count": 147,
      "outputs": [
        {
          "output_type": "execute_result",
          "data": {
            "text/html": [
              "<div>\n",
              "<style scoped>\n",
              "    .dataframe tbody tr th:only-of-type {\n",
              "        vertical-align: middle;\n",
              "    }\n",
              "\n",
              "    .dataframe tbody tr th {\n",
              "        vertical-align: top;\n",
              "    }\n",
              "\n",
              "    .dataframe thead tr th {\n",
              "        text-align: left;\n",
              "    }\n",
              "\n",
              "    .dataframe thead tr:last-of-type th {\n",
              "        text-align: right;\n",
              "    }\n",
              "</style>\n",
              "<table border=\"1\" class=\"dataframe\">\n",
              "  <thead>\n",
              "    <tr>\n",
              "      <th></th>\n",
              "      <th colspan=\"2\" halign=\"left\">CO2</th>\n",
              "      <th colspan=\"2\" halign=\"left\">adjusted CO2</th>\n",
              "    </tr>\n",
              "    <tr>\n",
              "      <th></th>\n",
              "      <th>mean</th>\n",
              "      <th>std</th>\n",
              "      <th>mean</th>\n",
              "      <th>std</th>\n",
              "    </tr>\n",
              "    <tr>\n",
              "      <th>Date</th>\n",
              "      <th></th>\n",
              "      <th></th>\n",
              "      <th></th>\n",
              "      <th></th>\n",
              "    </tr>\n",
              "  </thead>\n",
              "  <tbody>\n",
              "    <tr>\n",
              "      <th>1958-12-31</th>\n",
              "      <td>315.333750</td>\n",
              "      <td>NaN</td>\n",
              "      <td>315.300000</td>\n",
              "      <td>NaN</td>\n",
              "    </tr>\n",
              "    <tr>\n",
              "      <th>1959-12-31</th>\n",
              "      <td>315.981667</td>\n",
              "      <td>NaN</td>\n",
              "      <td>315.977500</td>\n",
              "      <td>NaN</td>\n",
              "    </tr>\n",
              "    <tr>\n",
              "      <th>1960-12-31</th>\n",
              "      <td>316.909167</td>\n",
              "      <td>NaN</td>\n",
              "      <td>316.907500</td>\n",
              "      <td>NaN</td>\n",
              "    </tr>\n",
              "    <tr>\n",
              "      <th>1961-12-31</th>\n",
              "      <td>317.645000</td>\n",
              "      <td>NaN</td>\n",
              "      <td>317.638333</td>\n",
              "      <td>NaN</td>\n",
              "    </tr>\n",
              "    <tr>\n",
              "      <th>1962-12-31</th>\n",
              "      <td>318.454167</td>\n",
              "      <td>NaN</td>\n",
              "      <td>318.448333</td>\n",
              "      <td>NaN</td>\n",
              "    </tr>\n",
              "  </tbody>\n",
              "</table>\n",
              "</div>"
            ],
            "text/plain": [
              "                   CO2     adjusted CO2    \n",
              "                  mean std         mean std\n",
              "Date                                       \n",
              "1958-12-31  315.333750 NaN   315.300000 NaN\n",
              "1959-12-31  315.981667 NaN   315.977500 NaN\n",
              "1960-12-31  316.909167 NaN   316.907500 NaN\n",
              "1961-12-31  317.645000 NaN   317.638333 NaN\n",
              "1962-12-31  318.454167 NaN   318.448333 NaN"
            ]
          },
          "metadata": {
            "tags": []
          },
          "execution_count": 147
        }
      ]
    },
    {
      "cell_type": "code",
      "metadata": {
        "id": "uIFh4Y4_sX5g",
        "colab_type": "code",
        "colab": {
          "base_uri": "https://localhost:8080/",
          "height": 482
        },
        "outputId": "0981dd31-9173-439b-c2be-acc1814142f4"
      },
      "source": [
        "ax = df_co2[['CO2']].plot(figsize=(10, 8))\n",
        "yearly = df_co2[['CO2']].resample('Y').mean()\n",
        "yearly.add_suffix('_yearly').plot(ax=ax)"
      ],
      "execution_count": 157,
      "outputs": [
        {
          "output_type": "execute_result",
          "data": {
            "text/plain": [
              "<matplotlib.axes._subplots.AxesSubplot at 0x7f036d61ae80>"
            ]
          },
          "metadata": {
            "tags": []
          },
          "execution_count": 157
        },
        {
          "output_type": "display_data",
          "data": {
            "image/png": "[encoded data removed]",
            "text/plain": [
              "<Figure size 720x576 with 1 Axes>"
            ]
          },
          "metadata": {
            "tags": [],
            "needs_background": "light"
          }
        }
      ]
    },
    {
      "cell_type": "markdown",
      "metadata": {
        "id": "2CzlZ704xA5V",
        "colab_type": "text"
      },
      "source": [
        "We can revisit the `price` dataframe we created earlier to practice resampling, changing frequency and aggregating methods."
      ]
    },
    {
      "cell_type": "code",
      "metadata": {
        "id": "fH72G8KctRMw",
        "colab_type": "code",
        "colab": {
          "base_uri": "https://localhost:8080/",
          "height": 235
        },
        "outputId": "1569ef56-668f-4dfb-a1e7-335d7d3d2b9c"
      },
      "source": [
        "price.head()"
      ],
      "execution_count": 158,
      "outputs": [
        {
          "output_type": "execute_result",
          "data": {
            "text/html": [
              "<div>\n",
              "<style scoped>\n",
              "    .dataframe tbody tr th:only-of-type {\n",
              "        vertical-align: middle;\n",
              "    }\n",
              "\n",
              "    .dataframe tbody tr th {\n",
              "        vertical-align: top;\n",
              "    }\n",
              "\n",
              "    .dataframe thead th {\n",
              "        text-align: right;\n",
              "    }\n",
              "</style>\n",
              "<table border=\"1\" class=\"dataframe\">\n",
              "  <thead>\n",
              "    <tr style=\"text-align: right;\">\n",
              "      <th></th>\n",
              "      <th>KODK</th>\n",
              "      <th>IRBT</th>\n",
              "      <th>AMZN</th>\n",
              "      <th>GOOG</th>\n",
              "    </tr>\n",
              "    <tr>\n",
              "      <th>Date</th>\n",
              "      <th></th>\n",
              "      <th></th>\n",
              "      <th></th>\n",
              "      <th></th>\n",
              "    </tr>\n",
              "  </thead>\n",
              "  <tbody>\n",
              "    <tr>\n",
              "      <th>2015-09-09</th>\n",
              "      <td>15.11</td>\n",
              "      <td>30.129999</td>\n",
              "      <td>516.890015</td>\n",
              "      <td>612.719971</td>\n",
              "    </tr>\n",
              "    <tr>\n",
              "      <th>2015-09-10</th>\n",
              "      <td>15.25</td>\n",
              "      <td>29.709999</td>\n",
              "      <td>522.239990</td>\n",
              "      <td>621.349976</td>\n",
              "    </tr>\n",
              "    <tr>\n",
              "      <th>2015-09-11</th>\n",
              "      <td>15.48</td>\n",
              "      <td>30.049999</td>\n",
              "      <td>529.440002</td>\n",
              "      <td>625.770020</td>\n",
              "    </tr>\n",
              "    <tr>\n",
              "      <th>2015-09-14</th>\n",
              "      <td>14.99</td>\n",
              "      <td>29.889999</td>\n",
              "      <td>521.380005</td>\n",
              "      <td>623.239990</td>\n",
              "    </tr>\n",
              "    <tr>\n",
              "      <th>2015-09-15</th>\n",
              "      <td>15.41</td>\n",
              "      <td>30.320000</td>\n",
              "      <td>522.369995</td>\n",
              "      <td>635.140015</td>\n",
              "    </tr>\n",
              "  </tbody>\n",
              "</table>\n",
              "</div>"
            ],
            "text/plain": [
              "             KODK       IRBT        AMZN        GOOG\n",
              "Date                                                \n",
              "2015-09-09  15.11  30.129999  516.890015  612.719971\n",
              "2015-09-10  15.25  29.709999  522.239990  621.349976\n",
              "2015-09-11  15.48  30.049999  529.440002  625.770020\n",
              "2015-09-14  14.99  29.889999  521.380005  623.239990\n",
              "2015-09-15  15.41  30.320000  522.369995  635.140015"
            ]
          },
          "metadata": {
            "tags": []
          },
          "execution_count": 158
        }
      ]
    },
    {
      "cell_type": "code",
      "metadata": {
        "id": "5xUxTy0PxS_H",
        "colab_type": "code",
        "colab": {}
      },
      "source": [
        "# create monthly averages\n",
        "\n",
        "monthly_average = price.resample('M').mean()"
      ],
      "execution_count": 159,
      "outputs": []
    },
    {
      "cell_type": "code",
      "metadata": {
        "id": "Fslekm3Kxe5o",
        "colab_type": "code",
        "colab": {
          "base_uri": "https://localhost:8080/",
          "height": 235
        },
        "outputId": "94e5487f-35fe-479c-c2b5-12e36b18bfad"
      },
      "source": [
        "monthly_average.head()"
      ],
      "execution_count": 160,
      "outputs": [
        {
          "output_type": "execute_result",
          "data": {
            "text/html": [
              "<div>\n",
              "<style scoped>\n",
              "    .dataframe tbody tr th:only-of-type {\n",
              "        vertical-align: middle;\n",
              "    }\n",
              "\n",
              "    .dataframe tbody tr th {\n",
              "        vertical-align: top;\n",
              "    }\n",
              "\n",
              "    .dataframe thead th {\n",
              "        text-align: right;\n",
              "    }\n",
              "</style>\n",
              "<table border=\"1\" class=\"dataframe\">\n",
              "  <thead>\n",
              "    <tr style=\"text-align: right;\">\n",
              "      <th></th>\n",
              "      <th>KODK</th>\n",
              "      <th>IRBT</th>\n",
              "      <th>AMZN</th>\n",
              "      <th>GOOG</th>\n",
              "    </tr>\n",
              "    <tr>\n",
              "      <th>Date</th>\n",
              "      <th></th>\n",
              "      <th></th>\n",
              "      <th></th>\n",
              "      <th></th>\n",
              "    </tr>\n",
              "  </thead>\n",
              "  <tbody>\n",
              "    <tr>\n",
              "      <th>2015-09-30</th>\n",
              "      <td>15.405625</td>\n",
              "      <td>29.700625</td>\n",
              "      <td>525.732506</td>\n",
              "      <td>621.430618</td>\n",
              "    </tr>\n",
              "    <tr>\n",
              "      <th>2015-10-31</th>\n",
              "      <td>15.185909</td>\n",
              "      <td>30.333636</td>\n",
              "      <td>566.743181</td>\n",
              "      <td>663.592718</td>\n",
              "    </tr>\n",
              "    <tr>\n",
              "      <th>2015-11-30</th>\n",
              "      <td>13.173000</td>\n",
              "      <td>31.819500</td>\n",
              "      <td>657.695499</td>\n",
              "      <td>735.388498</td>\n",
              "    </tr>\n",
              "    <tr>\n",
              "      <th>2015-12-31</th>\n",
              "      <td>12.955454</td>\n",
              "      <td>34.823182</td>\n",
              "      <td>669.262279</td>\n",
              "      <td>755.354548</td>\n",
              "    </tr>\n",
              "    <tr>\n",
              "      <th>2016-01-31</th>\n",
              "      <td>9.513684</td>\n",
              "      <td>32.277369</td>\n",
              "      <td>601.061578</td>\n",
              "      <td>718.495792</td>\n",
              "    </tr>\n",
              "  </tbody>\n",
              "</table>\n",
              "</div>"
            ],
            "text/plain": [
              "                 KODK       IRBT        AMZN        GOOG\n",
              "Date                                                    \n",
              "2015-09-30  15.405625  29.700625  525.732506  621.430618\n",
              "2015-10-31  15.185909  30.333636  566.743181  663.592718\n",
              "2015-11-30  13.173000  31.819500  657.695499  735.388498\n",
              "2015-12-31  12.955454  34.823182  669.262279  755.354548\n",
              "2016-01-31   9.513684  32.277369  601.061578  718.495792"
            ]
          },
          "metadata": {
            "tags": []
          },
          "execution_count": 160
        }
      ]
    },
    {
      "cell_type": "code",
      "metadata": {
        "id": "co0deBjlxhgo",
        "colab_type": "code",
        "colab": {
          "base_uri": "https://localhost:8080/",
          "height": 523
        },
        "outputId": "998ffa1e-da38-41f1-daee-98d128f5e9b5"
      },
      "source": [
        "# plot data\n",
        "\n",
        "monthly_average.plot(title=\"Stocks Monthly Average\", subplots=True, figsize=(10,8));"
      ],
      "execution_count": 162,
      "outputs": [
        {
          "output_type": "display_data",
          "data": {
            "image/png": "[encoded data removed]",
            "text/plain": [
              "<Figure size 720x576 with 4 Axes>"
            ]
          },
          "metadata": {
            "tags": [],
            "needs_background": "light"
          }
        }
      ]
    },
    {
      "cell_type": "code",
      "metadata": {
        "id": "WQr-RlbExt7r",
        "colab_type": "code",
        "colab": {
          "base_uri": "https://localhost:8080/",
          "height": 482
        },
        "outputId": "61846a0b-a817-43dd-a6a3-57a7cdc3172e"
      },
      "source": [
        "ax = price.plot(figsize=(10, 8))\n",
        "m_avg = price.resample('M').mean()\n",
        "m_avg.add_suffix('_m_avg').plot(ax=ax)"
      ],
      "execution_count": 163,
      "outputs": [
        {
          "output_type": "execute_result",
          "data": {
            "text/plain": [
              "<matplotlib.axes._subplots.AxesSubplot at 0x7f036dcf3b70>"
            ]
          },
          "metadata": {
            "tags": []
          },
          "execution_count": 163
        },
        {
          "output_type": "display_data",
          "data": {
            "image/png": "[encoded data removed]",
            "text/plain": [
              "<Figure size 720x576 with 1 Axes>"
            ]
          },
          "metadata": {
            "tags": [],
            "needs_background": "light"
          }
        }
      ]
    },
    {
      "cell_type": "code",
      "metadata": {
        "id": "EzUFUuOsyDQW",
        "colab_type": "code",
        "colab": {}
      },
      "source": [
        "# calculate daily returns\n",
        "\n",
        "# convert df prices to a pd.Series() and calculate the pct_change\n",
        "\n",
        "daily_returns = price.squeeze().pct_change()\n"
      ],
      "execution_count": 165,
      "outputs": []
    },
    {
      "cell_type": "code",
      "metadata": {
        "id": "C38-BjIX21vj",
        "colab_type": "code",
        "colab": {}
      },
      "source": [
        "# Resample and calculate stats\n",
        "\n",
        "stats = daily_returns.resample('M').agg(['mean', 'median', 'std'])"
      ],
      "execution_count": 167,
      "outputs": []
    },
    {
      "cell_type": "code",
      "metadata": {
        "id": "tIRVeXzV3ErO",
        "colab_type": "code",
        "colab": {
          "base_uri": "https://localhost:8080/",
          "height": 530
        },
        "outputId": "35317477-c2d7-4b7d-de0b-bf6941722c94"
      },
      "source": [
        "# plot stats\n",
        "stats.plot(title=\"Stocks Stats\", figsize=(10,8))"
      ],
      "execution_count": 170,
      "outputs": [
        {
          "output_type": "execute_result",
          "data": {
            "text/plain": [
              "<matplotlib.axes._subplots.AxesSubplot at 0x7f036d1cf7f0>"
            ]
          },
          "metadata": {
            "tags": []
          },
          "execution_count": 170
        },
        {
          "output_type": "display_data",
          "data": {
            "image/png": "[encoded data removed]",
            "text/plain": [
              "<Figure size 720x576 with 1 Axes>"
            ]
          },
          "metadata": {
            "tags": [],
            "needs_background": "light"
          }
        }
      ]
    }
  ]
}