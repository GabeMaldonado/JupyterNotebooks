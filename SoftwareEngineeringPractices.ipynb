{
  "nbformat": 4,
  "nbformat_minor": 0,
  "metadata": {
    "colab": {
      "name": "SoftwareEngineeringPractices.ipynb",
      "provenance": [],
      "collapsed_sections": [],
      "authorship_tag": "ABX9TyN4bvL62jGxbPNqZ2DnI5/K",
      "include_colab_link": true
    },
    "kernelspec": {
      "name": "python3",
      "display_name": "Python 3"
    }
  },
  "cells": [
    {
      "cell_type": "markdown",
      "metadata": {
        "id": "view-in-github",
        "colab_type": "text"
      },
      "source": [
        "<a href=\"https://colab.research.google.com/github/GabeMaldonado/JupyterNotebooks/blob/master/SoftwareEngineeringPractices.ipynb\" target=\"_parent\"><img src=\"https://colab.research.google.com/assets/colab-badge.svg\" alt=\"Open In Colab\"/></a>"
      ]
    },
    {
      "cell_type": "markdown",
      "metadata": {
        "id": "xbmMJfVErq2o",
        "colab_type": "text"
      },
      "source": [
        "# Notes on Software Engineering Best Practices -- Udacity\n",
        "\n",
        "### Production Code\n",
        "Refers to software running on production servers that is handling live users and data. \n",
        "\n",
        "### Production Quality Code\n",
        "Refers to code that is efficient and reliable for production. Production code must be:\n",
        "*   Clean -- readable, simple and consice.\n",
        "*   Modular -- logically broken into functions and modules. \n",
        "*   Module -- a file. Modules allow code to be reused by encapsulating them into files that can be imported into other files.\n",
        "\n",
        "### Refactoring\n",
        "Restructuring code to improve internal structure without changing external functionality. \n",
        "\n",
        "Why refactor?\n",
        "\n",
        "*   Reduce workload in long run\n",
        "*   Easier to maintain code\n",
        "*   Resuse more of your code\n",
        "*   Become a better developer\n",
        "\n",
        "Example of bad code and an improvement:"
      ]
    },
    {
      "cell_type": "code",
      "metadata": {
        "id": "jrjIZPEKrlPO",
        "colab_type": "code",
        "colab": {
          "base_uri": "https://localhost:8080/",
          "height": 51
        },
        "outputId": "fbcc71d3-d087-4dac-b3a9-6a6c321c25d2"
      },
      "source": [
        "# Bad Code\n",
        "\n",
        "s = [88, 92, 78, 94, 87] # student test scores\n",
        "print(sum(s) / len(s)) # print mean of test scores\n",
        "\n",
        "s1 = [x ** 0.5 * 10 for x in s] # curve scores with square root method and store in new list\n",
        "print(sum(s1)/len(s1))"
      ],
      "execution_count": 1,
      "outputs": [
        {
          "output_type": "stream",
          "text": [
            "87.8\n",
            "93.65398840104324\n"
          ],
          "name": "stdout"
        }
      ]
    },
    {
      "cell_type": "code",
      "metadata": {
        "id": "S5efr0c8ue0W",
        "colab_type": "code",
        "colab": {
          "base_uri": "https://localhost:8080/",
          "height": 51
        },
        "outputId": "52bce007-9195-43c0-8194-fadb2d4c8bbc"
      },
      "source": [
        "# Refactored code\n",
        "import math\n",
        "import numpy as np\n",
        "\n",
        "test_scores = [88, 92, 78, 94, 87]\n",
        "print(np.mean(test_scores))\n",
        "\n",
        "curved_test_scores = [math.sqrt(score) *10 for score in test_scores]\n",
        "print(np.mean(curved_test_scores))"
      ],
      "execution_count": 3,
      "outputs": [
        {
          "output_type": "stream",
          "text": [
            "87.8\n",
            "93.65398840104324\n"
          ],
          "name": "stdout"
        }
      ]
    },
    {
      "cell_type": "markdown",
      "metadata": {
        "id": "_wa59J1xvKGx",
        "colab_type": "text"
      },
      "source": [
        "## Writing Clean Code\n",
        "\n",
        "### Meaningful Names\n",
        "\n",
        "*   Be descriptive and imply type. E.g. for booleans, we can start with `is_` or `has` to make it clear it is a condition. We can also use verbs for *functions* and nouns for *variables*.\n",
        "*   Be consistent but clearly differentiate -- e.g. `age_list` and `age` makes itreasier to differentiate between `ages` and `age`.\n",
        "*   Avoid abbreviations and single letters -- (Exception: counters and common math variables) Keep your audience in mind when making exceptions. For instance, data scientist will know know what a `df` is whereas for a different audience we would need to provide a more meaningful name: `dataframe`.\n",
        "*   Long names do not equal descriptive names -- be descriptive but with relevant information. We can give a function a descriptive name without having to include details about it implementation in the name. \n",
        "\n",
        "### Whitespace\n",
        "\n",
        "Use whitespace properly:\n",
        "\n",
        "*   Organize code with consisten indentation, the standard for python code is **4 spaces** for each indent. \n",
        "*   Separate sections with blank lines to keep code well-organized and readable\n",
        "*   Limit lines to ~79 characters which is a PEP 8 style guide. \n",
        "\n"
      ]
    },
    {
      "cell_type": "markdown",
      "metadata": {
        "id": "QVnrBGkKykU4",
        "colab_type": "text"
      },
      "source": [
        "## Writing Modular Code\n",
        "\n",
        "*   DRY (Don't Repeat Yourself) Principle. \n",
        "Modularization allows you to reuse parts of your code. Generalize and consolidate repeated code in fucntions or loops.\n",
        "\n",
        "*   Abstract out logic to improve readability. Abstracting out code into a function not only makes it less repetitive but also improves readability with descriptive function names. When absotracting, it is possible to over-engineer functions. Use best judgement. \n",
        "\n",
        "*   Minimize number of entities (functions, classes, modules). Breaking up the code into unnecessary functions and modules can have negative effects making it complicated to read and to follow the logic.\n",
        "\n",
        "*   Functions should do one thing only. Each function should tackle one problem. If it does multiple things it becomes more difficult to generalize and reuse. If the function name contains an \"and\" as in `mean_and_std` it is good practice to refactor it. \n",
        "\n",
        "*   Try using less than three arguments per function. This is not a hard rule as sometimes functions required multiple parameters but it is good practice to to keep the arguments as few as possible. \n"
      ]
    },
    {
      "cell_type": "code",
      "metadata": {
        "id": "PzQufGTAu6hU",
        "colab_type": "code",
        "colab": {
          "base_uri": "https://localhost:8080/",
          "height": 85
        },
        "outputId": "59e582ac-5da2-4f2a-e2f3-69f49ad1bb0e"
      },
      "source": [
        "# Example of code that can improved\n",
        "\n",
        "import math\n",
        "import numpy as np\n",
        "\n",
        "test_scores = [88, 92, 78, 94, 87]\n",
        "print(np.mean(test_scores))\n",
        "\n",
        "curved_5 = [score + 5 for score in test_scores]\n",
        "print(np.mean(curved_5))\n",
        "\n",
        "curved_10 = [score + 10 for score in test_scores]\n",
        "print(np.mean(curved_10))\n",
        "\n",
        "curved_sqrt = [math.sqrt(score) * 10 for score in test_scores]\n",
        "print(np.mean(curved_sqrt))"
      ],
      "execution_count": 5,
      "outputs": [
        {
          "output_type": "stream",
          "text": [
            "87.8\n",
            "92.8\n",
            "97.8\n",
            "93.65398840104324\n"
          ],
          "name": "stdout"
        }
      ]
    },
    {
      "cell_type": "code",
      "metadata": {
        "id": "iAXidw7_3Myr",
        "colab_type": "code",
        "colab": {
          "base_uri": "https://localhost:8080/",
          "height": 85
        },
        "outputId": "44e1f3ca-c8d2-4461-a60c-8cced5430a67"
      },
      "source": [
        "# Modular Code\n",
        "\n",
        "import math\n",
        "import numpy as np\n",
        "\n",
        "def flat_curve(arr, n):\n",
        "  return [i + n for i in arr]\n",
        "\n",
        "def square_root_curve(arr):\n",
        "  return [math.sqrt(i) * 10 for i in arr]\n",
        "\n",
        "test_scores = [88, 92, 78, 94, 87]\n",
        "curved_5 = flat_curve(test_scores, 5)\n",
        "curved_10 = flat_curve(test_scores, 10)\n",
        "curved_sqrt = square_root_curve(test_scores)\n",
        "\n",
        "for score_list in test_scores, curved_5, curved_10, curved_sqrt:\n",
        "  print(np.mean(score_list))"
      ],
      "execution_count": 8,
      "outputs": [
        {
          "output_type": "stream",
          "text": [
            "87.8\n",
            "92.8\n",
            "97.8\n",
            "93.65398840104324\n"
          ],
          "name": "stdout"
        }
      ]
    },
    {
      "cell_type": "markdown",
      "metadata": {
        "id": "z2jbVMDN58Vw",
        "colab_type": "text"
      },
      "source": [
        "## Excersice 1: Refactor -- Wine Quality Analysis\n",
        "\n",
        "In this excerise we will refactor code, that analyzes wine quality, by renaming the columns in the dataset, and calculating some statistics on how some features may be related to quality ratings. "
      ]
    },
    {
      "cell_type": "code",
      "metadata": {
        "id": "gDuLyN5j4Mh0",
        "colab_type": "code",
        "colab": {
          "base_uri": "https://localhost:8080/",
          "height": 258
        },
        "outputId": "acb1822d-e3ed-4dfb-d5e7-d9e44fe3bcfe"
      },
      "source": [
        "# Load Data\n",
        "\n",
        "import pandas as pd\n",
        "df = pd.read_csv(\"/content/winequality-red.csv\", sep=\";\")\n",
        "df.head()"
      ],
      "execution_count": 10,
      "outputs": [
        {
          "output_type": "execute_result",
          "data": {
            "text/html": [
              "<div>\n",
              "<style scoped>\n",
              "    .dataframe tbody tr th:only-of-type {\n",
              "        vertical-align: middle;\n",
              "    }\n",
              "\n",
              "    .dataframe tbody tr th {\n",
              "        vertical-align: top;\n",
              "    }\n",
              "\n",
              "    .dataframe thead th {\n",
              "        text-align: right;\n",
              "    }\n",
              "</style>\n",
              "<table border=\"1\" class=\"dataframe\">\n",
              "  <thead>\n",
              "    <tr style=\"text-align: right;\">\n",
              "      <th></th>\n",
              "      <th>fixed acidity</th>\n",
              "      <th>volatile acidity</th>\n",
              "      <th>citric acid</th>\n",
              "      <th>residual sugar</th>\n",
              "      <th>chlorides</th>\n",
              "      <th>free sulfur dioxide</th>\n",
              "      <th>total sulfur dioxide</th>\n",
              "      <th>density</th>\n",
              "      <th>pH</th>\n",
              "      <th>sulphates</th>\n",
              "      <th>alcohol</th>\n",
              "      <th>quality</th>\n",
              "    </tr>\n",
              "  </thead>\n",
              "  <tbody>\n",
              "    <tr>\n",
              "      <th>0</th>\n",
              "      <td>7.4</td>\n",
              "      <td>0.70</td>\n",
              "      <td>0.00</td>\n",
              "      <td>1.9</td>\n",
              "      <td>0.076</td>\n",
              "      <td>11.0</td>\n",
              "      <td>34.0</td>\n",
              "      <td>0.9978</td>\n",
              "      <td>3.51</td>\n",
              "      <td>0.56</td>\n",
              "      <td>9.4</td>\n",
              "      <td>5</td>\n",
              "    </tr>\n",
              "    <tr>\n",
              "      <th>1</th>\n",
              "      <td>7.8</td>\n",
              "      <td>0.88</td>\n",
              "      <td>0.00</td>\n",
              "      <td>2.6</td>\n",
              "      <td>0.098</td>\n",
              "      <td>25.0</td>\n",
              "      <td>67.0</td>\n",
              "      <td>0.9968</td>\n",
              "      <td>3.20</td>\n",
              "      <td>0.68</td>\n",
              "      <td>9.8</td>\n",
              "      <td>5</td>\n",
              "    </tr>\n",
              "    <tr>\n",
              "      <th>2</th>\n",
              "      <td>7.8</td>\n",
              "      <td>0.76</td>\n",
              "      <td>0.04</td>\n",
              "      <td>2.3</td>\n",
              "      <td>0.092</td>\n",
              "      <td>15.0</td>\n",
              "      <td>54.0</td>\n",
              "      <td>0.9970</td>\n",
              "      <td>3.26</td>\n",
              "      <td>0.65</td>\n",
              "      <td>9.8</td>\n",
              "      <td>5</td>\n",
              "    </tr>\n",
              "    <tr>\n",
              "      <th>3</th>\n",
              "      <td>11.2</td>\n",
              "      <td>0.28</td>\n",
              "      <td>0.56</td>\n",
              "      <td>1.9</td>\n",
              "      <td>0.075</td>\n",
              "      <td>17.0</td>\n",
              "      <td>60.0</td>\n",
              "      <td>0.9980</td>\n",
              "      <td>3.16</td>\n",
              "      <td>0.58</td>\n",
              "      <td>9.8</td>\n",
              "      <td>6</td>\n",
              "    </tr>\n",
              "    <tr>\n",
              "      <th>4</th>\n",
              "      <td>7.4</td>\n",
              "      <td>0.70</td>\n",
              "      <td>0.00</td>\n",
              "      <td>1.9</td>\n",
              "      <td>0.076</td>\n",
              "      <td>11.0</td>\n",
              "      <td>34.0</td>\n",
              "      <td>0.9978</td>\n",
              "      <td>3.51</td>\n",
              "      <td>0.56</td>\n",
              "      <td>9.4</td>\n",
              "      <td>5</td>\n",
              "    </tr>\n",
              "  </tbody>\n",
              "</table>\n",
              "</div>"
            ],
            "text/plain": [
              "   fixed acidity  volatile acidity  citric acid  ...  sulphates  alcohol  quality\n",
              "0            7.4              0.70         0.00  ...       0.56      9.4        5\n",
              "1            7.8              0.88         0.00  ...       0.68      9.8        5\n",
              "2            7.8              0.76         0.04  ...       0.65      9.8        5\n",
              "3           11.2              0.28         0.56  ...       0.58      9.8        6\n",
              "4            7.4              0.70         0.00  ...       0.56      9.4        5\n",
              "\n",
              "[5 rows x 12 columns]"
            ]
          },
          "metadata": {
            "tags": []
          },
          "execution_count": 10
        }
      ]
    },
    {
      "cell_type": "markdown",
      "metadata": {
        "id": "B64MdEH-64zu",
        "colab_type": "text"
      },
      "source": [
        "### Reanimg columns\n",
        "\n",
        "As we can see, the column names contain spaces, we need add an underscore to be able to reference them using *dot notation*"
      ]
    },
    {
      "cell_type": "code",
      "metadata": {
        "id": "BnxwBf0Z60yo",
        "colab_type": "code",
        "colab": {
          "base_uri": "https://localhost:8080/",
          "height": 224
        },
        "outputId": "4da985e7-39a1-4c85-b9ae-facb66ac1d2a"
      },
      "source": [
        "# one possible way to approach the problem:\n",
        "\n",
        "new_df = df.rename(columns={'fixed acidity': 'fixed_acidity',\n",
        "                             'volatile acidity': 'volatile_acidity',\n",
        "                             'citric acid': 'citric_acid',\n",
        "                             'residual sugar': 'residual_sugar',\n",
        "                             'free sulfur dioxide': 'free_sulfur_dioxide',\n",
        "                             'total sulfur dioxide': 'total_sulfur_dioxide'\n",
        "                            })\n",
        "new_df.head()"
      ],
      "execution_count": 12,
      "outputs": [
        {
          "output_type": "execute_result",
          "data": {
            "text/html": [
              "<div>\n",
              "<style scoped>\n",
              "    .dataframe tbody tr th:only-of-type {\n",
              "        vertical-align: middle;\n",
              "    }\n",
              "\n",
              "    .dataframe tbody tr th {\n",
              "        vertical-align: top;\n",
              "    }\n",
              "\n",
              "    .dataframe thead th {\n",
              "        text-align: right;\n",
              "    }\n",
              "</style>\n",
              "<table border=\"1\" class=\"dataframe\">\n",
              "  <thead>\n",
              "    <tr style=\"text-align: right;\">\n",
              "      <th></th>\n",
              "      <th>fixed_acidity</th>\n",
              "      <th>volatile_acidity</th>\n",
              "      <th>citric_acid</th>\n",
              "      <th>residual_sugar</th>\n",
              "      <th>chlorides</th>\n",
              "      <th>free_sulfur_dioxide</th>\n",
              "      <th>total_sulfur_dioxide</th>\n",
              "      <th>density</th>\n",
              "      <th>pH</th>\n",
              "      <th>sulphates</th>\n",
              "      <th>alcohol</th>\n",
              "      <th>quality</th>\n",
              "    </tr>\n",
              "  </thead>\n",
              "  <tbody>\n",
              "    <tr>\n",
              "      <th>0</th>\n",
              "      <td>7.4</td>\n",
              "      <td>0.70</td>\n",
              "      <td>0.00</td>\n",
              "      <td>1.9</td>\n",
              "      <td>0.076</td>\n",
              "      <td>11.0</td>\n",
              "      <td>34.0</td>\n",
              "      <td>0.9978</td>\n",
              "      <td>3.51</td>\n",
              "      <td>0.56</td>\n",
              "      <td>9.4</td>\n",
              "      <td>5</td>\n",
              "    </tr>\n",
              "    <tr>\n",
              "      <th>1</th>\n",
              "      <td>7.8</td>\n",
              "      <td>0.88</td>\n",
              "      <td>0.00</td>\n",
              "      <td>2.6</td>\n",
              "      <td>0.098</td>\n",
              "      <td>25.0</td>\n",
              "      <td>67.0</td>\n",
              "      <td>0.9968</td>\n",
              "      <td>3.20</td>\n",
              "      <td>0.68</td>\n",
              "      <td>9.8</td>\n",
              "      <td>5</td>\n",
              "    </tr>\n",
              "    <tr>\n",
              "      <th>2</th>\n",
              "      <td>7.8</td>\n",
              "      <td>0.76</td>\n",
              "      <td>0.04</td>\n",
              "      <td>2.3</td>\n",
              "      <td>0.092</td>\n",
              "      <td>15.0</td>\n",
              "      <td>54.0</td>\n",
              "      <td>0.9970</td>\n",
              "      <td>3.26</td>\n",
              "      <td>0.65</td>\n",
              "      <td>9.8</td>\n",
              "      <td>5</td>\n",
              "    </tr>\n",
              "    <tr>\n",
              "      <th>3</th>\n",
              "      <td>11.2</td>\n",
              "      <td>0.28</td>\n",
              "      <td>0.56</td>\n",
              "      <td>1.9</td>\n",
              "      <td>0.075</td>\n",
              "      <td>17.0</td>\n",
              "      <td>60.0</td>\n",
              "      <td>0.9980</td>\n",
              "      <td>3.16</td>\n",
              "      <td>0.58</td>\n",
              "      <td>9.8</td>\n",
              "      <td>6</td>\n",
              "    </tr>\n",
              "    <tr>\n",
              "      <th>4</th>\n",
              "      <td>7.4</td>\n",
              "      <td>0.70</td>\n",
              "      <td>0.00</td>\n",
              "      <td>1.9</td>\n",
              "      <td>0.076</td>\n",
              "      <td>11.0</td>\n",
              "      <td>34.0</td>\n",
              "      <td>0.9978</td>\n",
              "      <td>3.51</td>\n",
              "      <td>0.56</td>\n",
              "      <td>9.4</td>\n",
              "      <td>5</td>\n",
              "    </tr>\n",
              "  </tbody>\n",
              "</table>\n",
              "</div>"
            ],
            "text/plain": [
              "   fixed_acidity  volatile_acidity  citric_acid  ...  sulphates  alcohol  quality\n",
              "0            7.4              0.70         0.00  ...       0.56      9.4        5\n",
              "1            7.8              0.88         0.00  ...       0.68      9.8        5\n",
              "2            7.8              0.76         0.04  ...       0.65      9.8        5\n",
              "3           11.2              0.28         0.56  ...       0.58      9.8        6\n",
              "4            7.4              0.70         0.00  ...       0.56      9.4        5\n",
              "\n",
              "[5 rows x 12 columns]"
            ]
          },
          "metadata": {
            "tags": []
          },
          "execution_count": 12
        }
      ]
    },
    {
      "cell_type": "markdown",
      "metadata": {
        "id": "lZOLAxRm7V_x",
        "colab_type": "text"
      },
      "source": [
        "In the cell above, we updated the column names manually. It worked fine in this case but...doing it this way can be prone to errors and typos and it is also repetitive and a bit time consuming. A better and automated approach woudl be:"
      ]
    },
    {
      "cell_type": "code",
      "metadata": {
        "id": "sOxrgMvP7QBO",
        "colab_type": "code",
        "colab": {
          "base_uri": "https://localhost:8080/",
          "height": 224
        },
        "outputId": "3e8372d0-4120-4201-9ea0-84b38a9f5f9c"
      },
      "source": [
        "df.columns = [label.replace(' ', '_') for label in df.columns]\n",
        "df.head()"
      ],
      "execution_count": 13,
      "outputs": [
        {
          "output_type": "execute_result",
          "data": {
            "text/html": [
              "<div>\n",
              "<style scoped>\n",
              "    .dataframe tbody tr th:only-of-type {\n",
              "        vertical-align: middle;\n",
              "    }\n",
              "\n",
              "    .dataframe tbody tr th {\n",
              "        vertical-align: top;\n",
              "    }\n",
              "\n",
              "    .dataframe thead th {\n",
              "        text-align: right;\n",
              "    }\n",
              "</style>\n",
              "<table border=\"1\" class=\"dataframe\">\n",
              "  <thead>\n",
              "    <tr style=\"text-align: right;\">\n",
              "      <th></th>\n",
              "      <th>fixed_acidity</th>\n",
              "      <th>volatile_acidity</th>\n",
              "      <th>citric_acid</th>\n",
              "      <th>residual_sugar</th>\n",
              "      <th>chlorides</th>\n",
              "      <th>free_sulfur_dioxide</th>\n",
              "      <th>total_sulfur_dioxide</th>\n",
              "      <th>density</th>\n",
              "      <th>pH</th>\n",
              "      <th>sulphates</th>\n",
              "      <th>alcohol</th>\n",
              "      <th>quality</th>\n",
              "    </tr>\n",
              "  </thead>\n",
              "  <tbody>\n",
              "    <tr>\n",
              "      <th>0</th>\n",
              "      <td>7.4</td>\n",
              "      <td>0.70</td>\n",
              "      <td>0.00</td>\n",
              "      <td>1.9</td>\n",
              "      <td>0.076</td>\n",
              "      <td>11.0</td>\n",
              "      <td>34.0</td>\n",
              "      <td>0.9978</td>\n",
              "      <td>3.51</td>\n",
              "      <td>0.56</td>\n",
              "      <td>9.4</td>\n",
              "      <td>5</td>\n",
              "    </tr>\n",
              "    <tr>\n",
              "      <th>1</th>\n",
              "      <td>7.8</td>\n",
              "      <td>0.88</td>\n",
              "      <td>0.00</td>\n",
              "      <td>2.6</td>\n",
              "      <td>0.098</td>\n",
              "      <td>25.0</td>\n",
              "      <td>67.0</td>\n",
              "      <td>0.9968</td>\n",
              "      <td>3.20</td>\n",
              "      <td>0.68</td>\n",
              "      <td>9.8</td>\n",
              "      <td>5</td>\n",
              "    </tr>\n",
              "    <tr>\n",
              "      <th>2</th>\n",
              "      <td>7.8</td>\n",
              "      <td>0.76</td>\n",
              "      <td>0.04</td>\n",
              "      <td>2.3</td>\n",
              "      <td>0.092</td>\n",
              "      <td>15.0</td>\n",
              "      <td>54.0</td>\n",
              "      <td>0.9970</td>\n",
              "      <td>3.26</td>\n",
              "      <td>0.65</td>\n",
              "      <td>9.8</td>\n",
              "      <td>5</td>\n",
              "    </tr>\n",
              "    <tr>\n",
              "      <th>3</th>\n",
              "      <td>11.2</td>\n",
              "      <td>0.28</td>\n",
              "      <td>0.56</td>\n",
              "      <td>1.9</td>\n",
              "      <td>0.075</td>\n",
              "      <td>17.0</td>\n",
              "      <td>60.0</td>\n",
              "      <td>0.9980</td>\n",
              "      <td>3.16</td>\n",
              "      <td>0.58</td>\n",
              "      <td>9.8</td>\n",
              "      <td>6</td>\n",
              "    </tr>\n",
              "    <tr>\n",
              "      <th>4</th>\n",
              "      <td>7.4</td>\n",
              "      <td>0.70</td>\n",
              "      <td>0.00</td>\n",
              "      <td>1.9</td>\n",
              "      <td>0.076</td>\n",
              "      <td>11.0</td>\n",
              "      <td>34.0</td>\n",
              "      <td>0.9978</td>\n",
              "      <td>3.51</td>\n",
              "      <td>0.56</td>\n",
              "      <td>9.4</td>\n",
              "      <td>5</td>\n",
              "    </tr>\n",
              "  </tbody>\n",
              "</table>\n",
              "</div>"
            ],
            "text/plain": [
              "   fixed_acidity  volatile_acidity  citric_acid  ...  sulphates  alcohol  quality\n",
              "0            7.4              0.70         0.00  ...       0.56      9.4        5\n",
              "1            7.8              0.88         0.00  ...       0.68      9.8        5\n",
              "2            7.8              0.76         0.04  ...       0.65      9.8        5\n",
              "3           11.2              0.28         0.56  ...       0.58      9.8        6\n",
              "4            7.4              0.70         0.00  ...       0.56      9.4        5\n",
              "\n",
              "[5 rows x 12 columns]"
            ]
          },
          "metadata": {
            "tags": []
          },
          "execution_count": 13
        }
      ]
    },
    {
      "cell_type": "markdown",
      "metadata": {
        "id": "JwT2_jZt7-dm",
        "colab_type": "text"
      },
      "source": [
        "### Analyzing Features\n",
        "\n",
        "Now that the columns are properly renamed, we can look at different features of this dataframe and see how they relate to the quality of the wine. One simple way to this is by observing the mean quality rating for the top and bottom half of each feature:"
      ]
    },
    {
      "cell_type": "code",
      "metadata": {
        "id": "TmO6WzFm77MI",
        "colab_type": "code",
        "colab": {}
      },
      "source": [
        "def numeric_to_buckets(df, column_name):\n",
        "    median = df[column_name].median()\n",
        "    for i, val in enumerate(df[column_name]):\n",
        "        if val >= median:\n",
        "            df.loc[i, column_name] = 'high'\n",
        "        else:\n",
        "            df.loc[i, column_name] = 'low' "
      ],
      "execution_count": 0,
      "outputs": []
    },
    {
      "cell_type": "code",
      "metadata": {
        "id": "qLpjbbq49DRC",
        "colab_type": "code",
        "colab": {
          "base_uri": "https://localhost:8080/",
          "height": 952
        },
        "outputId": "3eac721c-9fe3-46ff-bbce-cc5c6295c311"
      },
      "source": [
        "for feature in df.columns[:-1]:\n",
        "    numeric_to_buckets(df, feature)\n",
        "    print(df.groupby(feature).quality.mean(), '\\n')"
      ],
      "execution_count": 15,
      "outputs": [
        {
          "output_type": "stream",
          "text": [
            "fixed_acidity\n",
            "high    5.726061\n",
            "low     5.540052\n",
            "Name: quality, dtype: float64 \n",
            "\n",
            "volatile_acidity\n",
            "high    5.392157\n",
            "low     5.890166\n",
            "Name: quality, dtype: float64 \n",
            "\n",
            "citric_acid\n",
            "high    5.822360\n",
            "low     5.447103\n",
            "Name: quality, dtype: float64 \n",
            "\n",
            "residual_sugar\n",
            "high    5.665880\n",
            "low     5.602394\n",
            "Name: quality, dtype: float64 \n",
            "\n",
            "chlorides\n",
            "high    5.507194\n",
            "low     5.776471\n",
            "Name: quality, dtype: float64 \n",
            "\n",
            "free_sulfur_dioxide\n",
            "high    5.595268\n",
            "low     5.677136\n",
            "Name: quality, dtype: float64 \n",
            "\n",
            "total_sulfur_dioxide\n",
            "high    5.522981\n",
            "low     5.750630\n",
            "Name: quality, dtype: float64 \n",
            "\n",
            "density\n",
            "high    5.540574\n",
            "low     5.731830\n",
            "Name: quality, dtype: float64 \n",
            "\n",
            "pH\n",
            "high    5.598039\n",
            "low     5.675607\n",
            "Name: quality, dtype: float64 \n",
            "\n",
            "sulphates\n",
            "high    5.898917\n",
            "low     5.351562\n",
            "Name: quality, dtype: float64 \n",
            "\n",
            "alcohol\n",
            "high    5.958904\n",
            "low     5.310302\n",
            "Name: quality, dtype: float64 \n",
            "\n"
          ],
          "name": "stdout"
        }
      ]
    },
    {
      "cell_type": "markdown",
      "metadata": {
        "id": "4Zmj4sj8-2EV",
        "colab_type": "text"
      },
      "source": [
        "## Efficient Code\n",
        "\n",
        "Refers to code that:\n",
        "\n",
        "*   Reduces run time\n",
        "*   Reduces space in memory\n",
        "\n",
        "Example of Code Optimization:\n",
        "Here's some example code that finds the common book ids in `books_published_last_two_years.txt` and `all_coding_books.txt` to obtain a list of recent coding books."
      ]
    },
    {
      "cell_type": "code",
      "metadata": {
        "id": "qAuG9JDB9Esb",
        "colab_type": "code",
        "colab": {}
      },
      "source": [
        "import time\n",
        "import pandas as pd\n",
        "import numpy as np"
      ],
      "execution_count": 0,
      "outputs": []
    },
    {
      "cell_type": "code",
      "metadata": {
        "id": "HPPwZK9FAWcd",
        "colab_type": "code",
        "colab": {}
      },
      "source": [
        "with open('books_published_last_two_years.txt') as f:\n",
        "    recent_books = f.read().split('\\n')\n",
        "    \n",
        "with open('all_coding_books.txt') as f:\n",
        "    coding_books = f.read().split('\\n')"
      ],
      "execution_count": 0,
      "outputs": []
    },
    {
      "cell_type": "code",
      "metadata": {
        "id": "wtVPWeIRAY_S",
        "colab_type": "code",
        "colab": {
          "base_uri": "https://localhost:8080/",
          "height": 51
        },
        "outputId": "37f5acef-9206-4d8f-89d2-ff3b815830dc"
      },
      "source": [
        "start = time.time()\n",
        "recent_coding_books = []\n",
        "\n",
        "for book in recent_books:\n",
        "    if book in coding_books:\n",
        "        recent_coding_books.append(book)\n",
        "\n",
        "print(len(recent_coding_books))\n",
        "print('Duration: {} seconds'.format(time.time() - start))"
      ],
      "execution_count": 18,
      "outputs": [
        {
          "output_type": "stream",
          "text": [
            "96\n",
            "Duration: 12.395647048950195 seconds\n"
          ],
          "name": "stdout"
        }
      ]
    },
    {
      "cell_type": "markdown",
      "metadata": {
        "id": "h_1Idp8uAmcM",
        "colab_type": "text"
      },
      "source": [
        "### Tip #1: Use vector operations over loops when possible\n",
        "\n",
        "Use numpy's `intersect1d` method to get the intersection of the `recent_books` and `coding_books` arrays."
      ]
    },
    {
      "cell_type": "code",
      "metadata": {
        "id": "V9dFmKWbAe-t",
        "colab_type": "code",
        "colab": {
          "base_uri": "https://localhost:8080/",
          "height": 51
        },
        "outputId": "fd46a641-c2db-4250-d605-fa0fcd274ee3"
      },
      "source": [
        "start = time.time()\n",
        "recent_coding_books = np.intersect1d(recent_books, coding_books)\n",
        "print(len(recent_coding_books))\n",
        "print('Duration: {} seconds'.format(time.time() - start))"
      ],
      "execution_count": 19,
      "outputs": [
        {
          "output_type": "stream",
          "text": [
            "96\n",
            "Duration: 0.041463375091552734 seconds\n"
          ],
          "name": "stdout"
        }
      ]
    },
    {
      "cell_type": "markdown",
      "metadata": {
        "id": "Knj76RSnAtKa",
        "colab_type": "text"
      },
      "source": [
        "### Tip #2: Know your data structures and which methods are faster\n",
        "Use the set's `intersection` method to get the common elements in `recent_books` and `coding_books`."
      ]
    },
    {
      "cell_type": "code",
      "metadata": {
        "id": "h-AcE1sWAoye",
        "colab_type": "code",
        "colab": {
          "base_uri": "https://localhost:8080/",
          "height": 51
        },
        "outputId": "5bf074ad-da5f-4902-a006-018501cc1add"
      },
      "source": [
        "start = time.time()\n",
        "recent_coding_books = set(recent_books).intersection(coding_books)\n",
        "print(len(recent_coding_books))\n",
        "print('Duration: {} seconds'.format(time.time() - start))"
      ],
      "execution_count": 20,
      "outputs": [
        {
          "output_type": "stream",
          "text": [
            "96\n",
            "Duration: 0.00864100456237793 seconds\n"
          ],
          "name": "stdout"
        }
      ]
    },
    {
      "cell_type": "markdown",
      "metadata": {
        "id": "zuoYCJdVBBdZ",
        "colab_type": "text"
      },
      "source": [
        "Using **sets** to compute the intersection is the most efficient way to solve this."
      ]
    },
    {
      "cell_type": "code",
      "metadata": {
        "id": "2bfwfBtyAyxN",
        "colab_type": "code",
        "colab": {}
      },
      "source": [
        ""
      ],
      "execution_count": 0,
      "outputs": []
    }
  ]
}