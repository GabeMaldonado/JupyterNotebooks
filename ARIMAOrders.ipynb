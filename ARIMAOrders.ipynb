{
  "nbformat": 4,
  "nbformat_minor": 0,
  "metadata": {
    "colab": {
      "name": "ARIMAOrders.ipynb",
      "version": "0.3.2",
      "provenance": [],
      "collapsed_sections": [],
      "include_colab_link": true
    },
    "kernelspec": {
      "name": "python3",
      "display_name": "Python 3"
    }
  },
  "cells": [
    {
      "cell_type": "markdown",
      "metadata": {
        "id": "view-in-github",
        "colab_type": "text"
      },
      "source": [
        "<a href=\"https://colab.research.google.com/github/GabeMaldonado/JupyterNotebooks/blob/master/ARIMAOrders.ipynb\" target=\"_parent\"><img src=\"https://colab.research.google.com/assets/colab-badge.svg\" alt=\"Open In Colab\"/></a>"
      ]
    },
    {
      "cell_type": "code",
      "metadata": {
        "id": "RXFV18q0bFo8",
        "colab_type": "code",
        "colab": {}
      },
      "source": [
        "import numpy as np\n",
        "import pandas as pd\n",
        "%matplotlib inline"
      ],
      "execution_count": 0,
      "outputs": []
    },
    {
      "cell_type": "code",
      "metadata": {
        "id": "slvfyUbpbb4S",
        "colab_type": "code",
        "colab": {}
      },
      "source": [
        "# Load non-stationary data\n",
        "df1 = pd.read_csv('airline_passengers.csv', index_col = 'Month', parse_dates = True)\n",
        "df1.index.fre = 'MS'"
      ],
      "execution_count": 0,
      "outputs": []
    },
    {
      "cell_type": "code",
      "metadata": {
        "id": "NK2uVzBecGYq",
        "colab_type": "code",
        "colab": {
          "base_uri": "https://localhost:8080/",
          "height": 235
        },
        "outputId": "f9d88a29-b73f-404e-8978-07ccecf89404"
      },
      "source": [
        "df1.head()"
      ],
      "execution_count": 3,
      "outputs": [
        {
          "output_type": "execute_result",
          "data": {
            "text/html": [
              "<div>\n",
              "<style scoped>\n",
              "    .dataframe tbody tr th:only-of-type {\n",
              "        vertical-align: middle;\n",
              "    }\n",
              "\n",
              "    .dataframe tbody tr th {\n",
              "        vertical-align: top;\n",
              "    }\n",
              "\n",
              "    .dataframe thead th {\n",
              "        text-align: right;\n",
              "    }\n",
              "</style>\n",
              "<table border=\"1\" class=\"dataframe\">\n",
              "  <thead>\n",
              "    <tr style=\"text-align: right;\">\n",
              "      <th></th>\n",
              "      <th>Thousands of Passengers</th>\n",
              "    </tr>\n",
              "    <tr>\n",
              "      <th>Month</th>\n",
              "      <th></th>\n",
              "    </tr>\n",
              "  </thead>\n",
              "  <tbody>\n",
              "    <tr>\n",
              "      <th>1949-01-01</th>\n",
              "      <td>112</td>\n",
              "    </tr>\n",
              "    <tr>\n",
              "      <th>1949-02-01</th>\n",
              "      <td>118</td>\n",
              "    </tr>\n",
              "    <tr>\n",
              "      <th>1949-03-01</th>\n",
              "      <td>132</td>\n",
              "    </tr>\n",
              "    <tr>\n",
              "      <th>1949-04-01</th>\n",
              "      <td>129</td>\n",
              "    </tr>\n",
              "    <tr>\n",
              "      <th>1949-05-01</th>\n",
              "      <td>121</td>\n",
              "    </tr>\n",
              "  </tbody>\n",
              "</table>\n",
              "</div>"
            ],
            "text/plain": [
              "            Thousands of Passengers\n",
              "Month                              \n",
              "1949-01-01                      112\n",
              "1949-02-01                      118\n",
              "1949-03-01                      132\n",
              "1949-04-01                      129\n",
              "1949-05-01                      121"
            ]
          },
          "metadata": {
            "tags": []
          },
          "execution_count": 3
        }
      ]
    },
    {
      "cell_type": "code",
      "metadata": {
        "id": "5zxE46j0cJab",
        "colab_type": "code",
        "colab": {}
      },
      "source": [
        "# Load stationary data\n",
        "df2  = pd.read_csv('DailyTotalFemaleBirths.csv', index_col = 'Date', parse_dates = True)\n",
        "df2.index.freq= 'D'\n"
      ],
      "execution_count": 0,
      "outputs": []
    },
    {
      "cell_type": "code",
      "metadata": {
        "id": "dXkWLQ5Mcl4x",
        "colab_type": "code",
        "colab": {
          "base_uri": "https://localhost:8080/",
          "height": 235
        },
        "outputId": "f0e8cd4b-3da0-496d-91bd-3fdc96e84387"
      },
      "source": [
        "df2.head()"
      ],
      "execution_count": 5,
      "outputs": [
        {
          "output_type": "execute_result",
          "data": {
            "text/html": [
              "<div>\n",
              "<style scoped>\n",
              "    .dataframe tbody tr th:only-of-type {\n",
              "        vertical-align: middle;\n",
              "    }\n",
              "\n",
              "    .dataframe tbody tr th {\n",
              "        vertical-align: top;\n",
              "    }\n",
              "\n",
              "    .dataframe thead th {\n",
              "        text-align: right;\n",
              "    }\n",
              "</style>\n",
              "<table border=\"1\" class=\"dataframe\">\n",
              "  <thead>\n",
              "    <tr style=\"text-align: right;\">\n",
              "      <th></th>\n",
              "      <th>Births</th>\n",
              "    </tr>\n",
              "    <tr>\n",
              "      <th>Date</th>\n",
              "      <th></th>\n",
              "    </tr>\n",
              "  </thead>\n",
              "  <tbody>\n",
              "    <tr>\n",
              "      <th>1959-01-01</th>\n",
              "      <td>35</td>\n",
              "    </tr>\n",
              "    <tr>\n",
              "      <th>1959-01-02</th>\n",
              "      <td>32</td>\n",
              "    </tr>\n",
              "    <tr>\n",
              "      <th>1959-01-03</th>\n",
              "      <td>30</td>\n",
              "    </tr>\n",
              "    <tr>\n",
              "      <th>1959-01-04</th>\n",
              "      <td>31</td>\n",
              "    </tr>\n",
              "    <tr>\n",
              "      <th>1959-01-05</th>\n",
              "      <td>44</td>\n",
              "    </tr>\n",
              "  </tbody>\n",
              "</table>\n",
              "</div>"
            ],
            "text/plain": [
              "            Births\n",
              "Date              \n",
              "1959-01-01      35\n",
              "1959-01-02      32\n",
              "1959-01-03      30\n",
              "1959-01-04      31\n",
              "1959-01-05      44"
            ]
          },
          "metadata": {
            "tags": []
          },
          "execution_count": 5
        }
      ]
    },
    {
      "cell_type": "code",
      "metadata": {
        "id": "WDI1l4rIdOQA",
        "colab_type": "code",
        "colab": {}
      },
      "source": [
        "# install PMDARIMA\n",
        "#pip install pmdarima"
      ],
      "execution_count": 0,
      "outputs": []
    },
    {
      "cell_type": "code",
      "metadata": {
        "id": "yPhLDamWcpgJ",
        "colab_type": "code",
        "colab": {}
      },
      "source": [
        "# Import auto arima function\n",
        "from pmdarima import auto_arima "
      ],
      "execution_count": 0,
      "outputs": []
    },
    {
      "cell_type": "code",
      "metadata": {
        "id": "MotDnCnhdIl3",
        "colab_type": "code",
        "colab": {}
      },
      "source": [
        "# ignore warnings\n",
        "import warnings\n",
        "warnings.filterwarnings('ignore')"
      ],
      "execution_count": 0,
      "outputs": []
    },
    {
      "cell_type": "code",
      "metadata": {
        "id": "e8cPSl4qeFzr",
        "colab_type": "code",
        "colab": {
          "base_uri": "https://localhost:8080/",
          "height": 153
        },
        "outputId": "30137814-1b63-4df7-92a2-85078f81b310"
      },
      "source": [
        "# create auto ARIMA function using stationary data\n",
        "\n",
        "stepwise_fit = auto_arima(df2['Births'], start_p = 0, start_q = 0, max_p = 6, max_q = 3, seasonal = False, trace = True) "
      ],
      "execution_count": 11,
      "outputs": [
        {
          "output_type": "stream",
          "text": [
            "Fit ARIMA: order=(0, 1, 0); AIC=2650.760, BIC=2658.555, Fit time=0.021 seconds\n",
            "Fit ARIMA: order=(1, 1, 0); AIC=2565.234, BIC=2576.925, Fit time=0.053 seconds\n",
            "Fit ARIMA: order=(0, 1, 1); AIC=2463.584, BIC=2475.275, Fit time=0.061 seconds\n",
            "Fit ARIMA: order=(1, 1, 1); AIC=2460.154, BIC=2475.742, Fit time=0.121 seconds\n",
            "Fit ARIMA: order=(1, 1, 2); AIC=2460.515, BIC=2480.001, Fit time=0.507 seconds\n",
            "Fit ARIMA: order=(2, 1, 2); AIC=2461.876, BIC=2485.259, Fit time=0.676 seconds\n",
            "Fit ARIMA: order=(2, 1, 1); AIC=2461.271, BIC=2480.757, Fit time=0.167 seconds\n",
            "Total fit time: 1.635 seconds\n"
          ],
          "name": "stdout"
        }
      ]
    },
    {
      "cell_type": "code",
      "metadata": {
        "id": "fzu0j7zHfiKY",
        "colab_type": "code",
        "colab": {
          "base_uri": "https://localhost:8080/",
          "height": 334
        },
        "outputId": "f70efe4c-89e7-4188-aa28-93c9b6828fba"
      },
      "source": [
        "# print out summary\n",
        "\n",
        "stepwise_fit.summary()"
      ],
      "execution_count": 12,
      "outputs": [
        {
          "output_type": "execute_result",
          "data": {
            "text/html": [
              "<table class=\"simpletable\">\n",
              "<caption>ARIMA Model Results</caption>\n",
              "<tr>\n",
              "  <th>Dep. Variable:</th>        <td>D.y</td>       <th>  No. Observations:  </th>    <td>364</td>   \n",
              "</tr>\n",
              "<tr>\n",
              "  <th>Model:</th>          <td>ARIMA(1, 1, 1)</td>  <th>  Log Likelihood     </th> <td>-1226.077</td>\n",
              "</tr>\n",
              "<tr>\n",
              "  <th>Method:</th>             <td>css-mle</td>     <th>  S.D. of innovations</th>   <td>7.000</td>  \n",
              "</tr>\n",
              "<tr>\n",
              "  <th>Date:</th>          <td>Tue, 09 Jul 2019</td> <th>  AIC                </th> <td>2460.154</td> \n",
              "</tr>\n",
              "<tr>\n",
              "  <th>Time:</th>              <td>02:10:41</td>     <th>  BIC                </th> <td>2475.742</td> \n",
              "</tr>\n",
              "<tr>\n",
              "  <th>Sample:</th>                <td>1</td>        <th>  HQIC               </th> <td>2466.350</td> \n",
              "</tr>\n",
              "<tr>\n",
              "  <th></th>                       <td> </td>        <th>                     </th>     <td> </td>    \n",
              "</tr>\n",
              "</table>\n",
              "<table class=\"simpletable\">\n",
              "<tr>\n",
              "      <td></td>         <th>coef</th>     <th>std err</th>      <th>z</th>      <th>P>|z|</th>  <th>[0.025</th>    <th>0.975]</th>  \n",
              "</tr>\n",
              "<tr>\n",
              "  <th>const</th>     <td>    0.0152</td> <td>    0.014</td> <td>    1.068</td> <td> 0.286</td> <td>   -0.013</td> <td>    0.043</td>\n",
              "</tr>\n",
              "<tr>\n",
              "  <th>ar.L1.D.y</th> <td>    0.1299</td> <td>    0.056</td> <td>    2.334</td> <td> 0.020</td> <td>    0.021</td> <td>    0.239</td>\n",
              "</tr>\n",
              "<tr>\n",
              "  <th>ma.L1.D.y</th> <td>   -0.9694</td> <td>    0.019</td> <td>  -51.415</td> <td> 0.000</td> <td>   -1.006</td> <td>   -0.932</td>\n",
              "</tr>\n",
              "</table>\n",
              "<table class=\"simpletable\">\n",
              "<caption>Roots</caption>\n",
              "<tr>\n",
              "    <td></td>   <th>            Real</th>  <th>         Imaginary</th> <th>         Modulus</th>  <th>        Frequency</th>\n",
              "</tr>\n",
              "<tr>\n",
              "  <th>AR.1</th> <td>           7.6996</td> <td>          +0.0000j</td> <td>           7.6996</td> <td>           0.0000</td>\n",
              "</tr>\n",
              "<tr>\n",
              "  <th>MA.1</th> <td>           1.0316</td> <td>          +0.0000j</td> <td>           1.0316</td> <td>           0.0000</td>\n",
              "</tr>\n",
              "</table>"
            ],
            "text/plain": [
              "<class 'statsmodels.iolib.summary.Summary'>\n",
              "\"\"\"\n",
              "                             ARIMA Model Results                              \n",
              "==============================================================================\n",
              "Dep. Variable:                    D.y   No. Observations:                  364\n",
              "Model:                 ARIMA(1, 1, 1)   Log Likelihood               -1226.077\n",
              "Method:                       css-mle   S.D. of innovations              7.000\n",
              "Date:                Tue, 09 Jul 2019   AIC                           2460.154\n",
              "Time:                        02:10:41   BIC                           2475.742\n",
              "Sample:                             1   HQIC                          2466.350\n",
              "                                                                              \n",
              "==============================================================================\n",
              "                 coef    std err          z      P>|z|      [0.025      0.975]\n",
              "------------------------------------------------------------------------------\n",
              "const          0.0152      0.014      1.068      0.286      -0.013       0.043\n",
              "ar.L1.D.y      0.1299      0.056      2.334      0.020       0.021       0.239\n",
              "ma.L1.D.y     -0.9694      0.019    -51.415      0.000      -1.006      -0.932\n",
              "                                    Roots                                    \n",
              "=============================================================================\n",
              "                  Real          Imaginary           Modulus         Frequency\n",
              "-----------------------------------------------------------------------------\n",
              "AR.1            7.6996           +0.0000j            7.6996            0.0000\n",
              "MA.1            1.0316           +0.0000j            1.0316            0.0000\n",
              "-----------------------------------------------------------------------------\n",
              "\"\"\""
            ]
          },
          "metadata": {
            "tags": []
          },
          "execution_count": 12
        }
      ]
    },
    {
      "cell_type": "code",
      "metadata": {
        "id": "E0fS-lvwf1A5",
        "colab_type": "code",
        "colab": {
          "base_uri": "https://localhost:8080/",
          "height": 340
        },
        "outputId": "b4155237-f4ef-49f7-c6ab-88e73a1e1231"
      },
      "source": [
        " # create auto ARIMA model with non-stationary data\n",
        "  stepwise_fit = auto_arima(df1['Thousands of Passengers'], start_p = 0, start_q = 0, max_p = 4, max_q = 4, \n",
        "                            seasonal = True, trace = True, m = 12 )"
      ],
      "execution_count": 13,
      "outputs": [
        {
          "output_type": "stream",
          "text": [
            "Fit ARIMA: order=(0, 1, 0) seasonal_order=(1, 1, 1, 12); AIC=1034.075, BIC=1045.576, Fit time=0.530 seconds\n",
            "Fit ARIMA: order=(0, 1, 0) seasonal_order=(0, 1, 0, 12); AIC=1033.479, BIC=1039.229, Fit time=0.019 seconds\n",
            "Fit ARIMA: order=(1, 1, 0) seasonal_order=(1, 1, 0, 12); AIC=1022.316, BIC=1033.817, Fit time=0.331 seconds\n",
            "Fit ARIMA: order=(0, 1, 1) seasonal_order=(0, 1, 1, 12); AIC=1022.904, BIC=1034.405, Fit time=0.385 seconds\n",
            "Fit ARIMA: order=(1, 1, 0) seasonal_order=(0, 1, 0, 12); AIC=1022.343, BIC=1030.968, Fit time=0.103 seconds\n",
            "Fit ARIMA: order=(1, 1, 0) seasonal_order=(2, 1, 0, 12); AIC=1021.137, BIC=1035.513, Fit time=1.152 seconds\n",
            "Fit ARIMA: order=(1, 1, 0) seasonal_order=(2, 1, 1, 12); AIC=1017.166, BIC=1034.417, Fit time=5.138 seconds\n",
            "Fit ARIMA: order=(0, 1, 0) seasonal_order=(2, 1, 1, 12); AIC=1033.843, BIC=1048.219, Fit time=4.661 seconds\n",
            "Fit ARIMA: order=(2, 1, 0) seasonal_order=(2, 1, 1, 12); AIC=1018.210, BIC=1038.336, Fit time=6.062 seconds\n",
            "Fit ARIMA: order=(1, 1, 1) seasonal_order=(2, 1, 1, 12); AIC=1017.790, BIC=1037.916, Fit time=5.427 seconds\n",
            "Fit ARIMA: order=(2, 1, 1) seasonal_order=(2, 1, 1, 12); AIC=1015.057, BIC=1038.058, Fit time=8.912 seconds\n",
            "Fit ARIMA: order=(2, 1, 1) seasonal_order=(1, 1, 1, 12); AIC=1017.778, BIC=1037.904, Fit time=2.880 seconds\n",
            "Fit ARIMA: order=(2, 1, 1) seasonal_order=(2, 1, 0, 12); AIC=1017.106, BIC=1037.233, Fit time=5.845 seconds\n",
            "Fit ARIMA: order=(2, 1, 1) seasonal_order=(2, 1, 2, 12); AIC=1020.999, BIC=1046.876, Fit time=9.417 seconds\n",
            "Fit ARIMA: order=(2, 1, 1) seasonal_order=(1, 1, 0, 12); AIC=1017.077, BIC=1034.328, Fit time=2.489 seconds\n",
            "Fit ARIMA: order=(3, 1, 1) seasonal_order=(2, 1, 1, 12); AIC=1018.270, BIC=1044.146, Fit time=8.334 seconds\n",
            "Fit ARIMA: order=(2, 1, 2) seasonal_order=(2, 1, 1, 12); AIC=1015.337, BIC=1041.213, Fit time=8.165 seconds\n",
            "Fit ARIMA: order=(3, 1, 2) seasonal_order=(2, 1, 1, 12); AIC=1019.166, BIC=1047.918, Fit time=8.677 seconds\n",
            "Total fit time: 78.570 seconds\n"
          ],
          "name": "stdout"
        }
      ]
    },
    {
      "cell_type": "code",
      "metadata": {
        "id": "_iUrkXQphxI-",
        "colab_type": "code",
        "colab": {
          "base_uri": "https://localhost:8080/",
          "height": 528
        },
        "outputId": "629e6bb0-d93d-486d-bb56-0f80ed385c1f"
      },
      "source": [
        "# gert summary\n",
        "\n",
        "stepwise_fit.summary()"
      ],
      "execution_count": 14,
      "outputs": [
        {
          "output_type": "execute_result",
          "data": {
            "text/html": [
              "<table class=\"simpletable\">\n",
              "<caption>Statespace Model Results</caption>\n",
              "<tr>\n",
              "  <th>Dep. Variable:</th>                  <td>y</td>               <th>  No. Observations:  </th>    <td>144</td>  \n",
              "</tr>\n",
              "<tr>\n",
              "  <th>Model:</th>           <td>SARIMAX(2, 1, 1)x(2, 1, 1, 12)</td> <th>  Log Likelihood     </th> <td>-499.528</td>\n",
              "</tr>\n",
              "<tr>\n",
              "  <th>Date:</th>                   <td>Tue, 09 Jul 2019</td>        <th>  AIC                </th> <td>1015.057</td>\n",
              "</tr>\n",
              "<tr>\n",
              "  <th>Time:</th>                       <td>02:21:01</td>            <th>  BIC                </th> <td>1038.058</td>\n",
              "</tr>\n",
              "<tr>\n",
              "  <th>Sample:</th>                         <td>0</td>               <th>  HQIC               </th> <td>1024.403</td>\n",
              "</tr>\n",
              "<tr>\n",
              "  <th></th>                             <td> - 144</td>             <th>                     </th>     <td> </td>   \n",
              "</tr>\n",
              "<tr>\n",
              "  <th>Covariance Type:</th>               <td>opg</td>              <th>                     </th>     <td> </td>   \n",
              "</tr>\n",
              "</table>\n",
              "<table class=\"simpletable\">\n",
              "<tr>\n",
              "      <td></td>         <th>coef</th>     <th>std err</th>      <th>z</th>      <th>P>|z|</th>  <th>[0.025</th>    <th>0.975]</th>  \n",
              "</tr>\n",
              "<tr>\n",
              "  <th>intercept</th> <td>    0.0003</td> <td>    0.018</td> <td>    0.019</td> <td> 0.985</td> <td>   -0.035</td> <td>    0.035</td>\n",
              "</tr>\n",
              "<tr>\n",
              "  <th>ar.L1</th>     <td>    0.5262</td> <td>    0.099</td> <td>    5.321</td> <td> 0.000</td> <td>    0.332</td> <td>    0.720</td>\n",
              "</tr>\n",
              "<tr>\n",
              "  <th>ar.L2</th>     <td>    0.2602</td> <td>    0.101</td> <td>    2.575</td> <td> 0.010</td> <td>    0.062</td> <td>    0.458</td>\n",
              "</tr>\n",
              "<tr>\n",
              "  <th>ma.L1</th>     <td>   -0.9745</td> <td>    0.062</td> <td>  -15.749</td> <td> 0.000</td> <td>   -1.096</td> <td>   -0.853</td>\n",
              "</tr>\n",
              "<tr>\n",
              "  <th>ar.S.L12</th>  <td>    0.7239</td> <td>    0.409</td> <td>    1.768</td> <td> 0.077</td> <td>   -0.079</td> <td>    1.526</td>\n",
              "</tr>\n",
              "<tr>\n",
              "  <th>ar.S.L24</th>  <td>    0.2677</td> <td>    0.129</td> <td>    2.079</td> <td> 0.038</td> <td>    0.015</td> <td>    0.520</td>\n",
              "</tr>\n",
              "<tr>\n",
              "  <th>ma.S.L12</th>  <td>   -0.9597</td> <td>    1.099</td> <td>   -0.873</td> <td> 0.382</td> <td>   -3.114</td> <td>    1.194</td>\n",
              "</tr>\n",
              "<tr>\n",
              "  <th>sigma2</th>    <td>  115.2618</td> <td>   70.774</td> <td>    1.629</td> <td> 0.103</td> <td>  -23.452</td> <td>  253.976</td>\n",
              "</tr>\n",
              "</table>\n",
              "<table class=\"simpletable\">\n",
              "<tr>\n",
              "  <th>Ljung-Box (Q):</th>          <td>51.71</td> <th>  Jarque-Bera (JB):  </th> <td>11.53</td>\n",
              "</tr>\n",
              "<tr>\n",
              "  <th>Prob(Q):</th>                <td>0.10</td>  <th>  Prob(JB):          </th> <td>0.00</td> \n",
              "</tr>\n",
              "<tr>\n",
              "  <th>Heteroskedasticity (H):</th> <td>2.72</td>  <th>  Skew:              </th> <td>0.01</td> \n",
              "</tr>\n",
              "<tr>\n",
              "  <th>Prob(H) (two-sided):</th>    <td>0.00</td>  <th>  Kurtosis:          </th> <td>4.45</td> \n",
              "</tr>\n",
              "</table><br/><br/>Warnings:<br/>[1] Covariance matrix calculated using the outer product of gradients (complex-step)."
            ],
            "text/plain": [
              "<class 'statsmodels.iolib.summary.Summary'>\n",
              "\"\"\"\n",
              "                                 Statespace Model Results                                 \n",
              "==========================================================================================\n",
              "Dep. Variable:                                  y   No. Observations:                  144\n",
              "Model:             SARIMAX(2, 1, 1)x(2, 1, 1, 12)   Log Likelihood                -499.528\n",
              "Date:                            Tue, 09 Jul 2019   AIC                           1015.057\n",
              "Time:                                    02:21:01   BIC                           1038.058\n",
              "Sample:                                         0   HQIC                          1024.403\n",
              "                                            - 144                                         \n",
              "Covariance Type:                              opg                                         \n",
              "==============================================================================\n",
              "                 coef    std err          z      P>|z|      [0.025      0.975]\n",
              "------------------------------------------------------------------------------\n",
              "intercept      0.0003      0.018      0.019      0.985      -0.035       0.035\n",
              "ar.L1          0.5262      0.099      5.321      0.000       0.332       0.720\n",
              "ar.L2          0.2602      0.101      2.575      0.010       0.062       0.458\n",
              "ma.L1         -0.9745      0.062    -15.749      0.000      -1.096      -0.853\n",
              "ar.S.L12       0.7239      0.409      1.768      0.077      -0.079       1.526\n",
              "ar.S.L24       0.2677      0.129      2.079      0.038       0.015       0.520\n",
              "ma.S.L12      -0.9597      1.099     -0.873      0.382      -3.114       1.194\n",
              "sigma2       115.2618     70.774      1.629      0.103     -23.452     253.976\n",
              "===================================================================================\n",
              "Ljung-Box (Q):                       51.71   Jarque-Bera (JB):                11.53\n",
              "Prob(Q):                              0.10   Prob(JB):                         0.00\n",
              "Heteroskedasticity (H):               2.72   Skew:                             0.01\n",
              "Prob(H) (two-sided):                  0.00   Kurtosis:                         4.45\n",
              "===================================================================================\n",
              "\n",
              "Warnings:\n",
              "[1] Covariance matrix calculated using the outer product of gradients (complex-step).\n",
              "\"\"\""
            ]
          },
          "metadata": {
            "tags": []
          },
          "execution_count": 14
        }
      ]
    }
  ]
}