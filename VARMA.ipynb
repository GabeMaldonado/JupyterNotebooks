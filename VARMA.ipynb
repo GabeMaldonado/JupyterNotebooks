{
  "nbformat": 4,
  "nbformat_minor": 0,
  "metadata": {
    "colab": {
      "name": "VARMA.ipynb",
      "version": "0.3.2",
      "provenance": [],
      "collapsed_sections": [],
      "toc_visible": true,
      "include_colab_link": true
    },
    "kernelspec": {
      "name": "python3",
      "display_name": "Python 3"
    }
  },
  "cells": [
    {
      "cell_type": "markdown",
      "metadata": {
        "id": "view-in-github",
        "colab_type": "text"
      },
      "source": [
        "<a href=\"https://colab.research.google.com/github/GabeMaldonado/JupyterNotebooks/blob/master/VARMA.ipynb\" target=\"_parent\"><img src=\"https://colab.research.google.com/assets/colab-badge.svg\" alt=\"Open In Colab\"/></a>"
      ]
    },
    {
      "cell_type": "markdown",
      "metadata": {
        "id": "eL3Jm9k4WY1G",
        "colab_type": "text"
      },
      "source": [
        "# VECTOR AUTOREGRESSION MOVING AVERAGE (VARMA)\n",
        "\n",
        "VARMA is basically a VAR model which adds a Moving Average component. "
      ]
    },
    {
      "cell_type": "code",
      "metadata": {
        "id": "q4EB3dzPWJDJ",
        "colab_type": "code",
        "colab": {}
      },
      "source": [
        "import pandas as pd\n",
        "import numpy as np\n",
        "%matplotlib inline"
      ],
      "execution_count": 0,
      "outputs": []
    },
    {
      "cell_type": "code",
      "metadata": {
        "id": "qVGIAjoQX-CS",
        "colab_type": "code",
        "colab": {
          "base_uri": "https://localhost:8080/",
          "height": 341
        },
        "outputId": "c3472986-c094-41fa-fc10-80e9c59c099f"
      },
      "source": [
        "pip install pmdarima"
      ],
      "execution_count": 7,
      "outputs": [
        {
          "output_type": "stream",
          "text": [
            "      Successfully uninstalled scipy-1.3.0\n",
            "Successfully installed pmdarima-1.2.1 scipy-1.2.2\n"
          ],
          "name": "stdout"
        },
        {
          "output_type": "display_data",
          "data": {
            "application/vnd.colab-display-data+json": {
              "pip_warning": {
                "packages": [
                  "scipy"
                ]
              }
            }
          },
          "metadata": {
            "tags": []
          }
        },
        {
          "output_type": "stream",
          "text": [
            "Requirement already satisfied: pmdarima in /usr/local/lib/python3.6/dist-packages (1.2.1)\n",
            "Requirement already satisfied: pandas>=0.19 in /usr/local/lib/python3.6/dist-packages (from pmdarima) (0.24.2)\n",
            "Requirement already satisfied: scipy<1.3,>=1.2 in /usr/local/lib/python3.6/dist-packages (from pmdarima) (1.2.2)\n",
            "Requirement already satisfied: Cython>=0.29 in /usr/local/lib/python3.6/dist-packages (from pmdarima) (0.29.12)\n",
            "Requirement already satisfied: joblib>=0.11 in /usr/local/lib/python3.6/dist-packages (from pmdarima) (0.13.2)\n",
            "Requirement already satisfied: six>=1.5 in /usr/local/lib/python3.6/dist-packages (from pmdarima) (1.12.0)\n",
            "Requirement already satisfied: statsmodels>=0.9.0 in /usr/local/lib/python3.6/dist-packages (from pmdarima) (0.10.0)\n",
            "Requirement already satisfied: numpy>=1.15 in /usr/local/lib/python3.6/dist-packages (from pmdarima) (1.16.4)\n",
            "Requirement already satisfied: scikit-learn>=0.19 in /usr/local/lib/python3.6/dist-packages (from pmdarima) (0.21.2)\n",
            "Requirement already satisfied: pytz>=2011k in /usr/local/lib/python3.6/dist-packages (from pandas>=0.19->pmdarima) (2018.9)\n",
            "Requirement already satisfied: python-dateutil>=2.5.0 in /usr/local/lib/python3.6/dist-packages (from pandas>=0.19->pmdarima) (2.5.3)\n",
            "Requirement already satisfied: patsy>=0.4.0 in /usr/local/lib/python3.6/dist-packages (from statsmodels>=0.9.0->pmdarima) (0.5.1)\n"
          ],
          "name": "stdout"
        }
      ]
    },
    {
      "cell_type": "code",
      "metadata": {
        "id": "XyoNYXqwXdPf",
        "colab_type": "code",
        "colab": {}
      },
      "source": [
        "# import stats models forecasting tools\n",
        "\n",
        "from statsmodels.tsa.statespace.varmax import VARMAX, VARMAXResults\n",
        "from statsmodels.tsa.stattools import adfuller\n",
        "from pmdarima import auto_arima\n",
        "from statsmodels.tools.eval_measures import rmse"
      ],
      "execution_count": 0,
      "outputs": []
    },
    {
      "cell_type": "code",
      "metadata": {
        "id": "HE_5bBjXX3o8",
        "colab_type": "code",
        "colab": {}
      },
      "source": [
        "# Ignore warnings\n",
        "import warnings\n",
        "warnings.filterwarnings(\"ignore\")"
      ],
      "execution_count": 0,
      "outputs": []
    },
    {
      "cell_type": "markdown",
      "metadata": {
        "id": "r_4z_B6SYegN",
        "colab_type": "text"
      },
      "source": [
        "##  Load Data and Perform EDA\n",
        "M2SLMoneyStock and PCEPersonalSpending dataframes."
      ]
    },
    {
      "cell_type": "code",
      "metadata": {
        "id": "lfIB85f1YZwu",
        "colab_type": "code",
        "colab": {}
      },
      "source": [
        "# Load Moneystock dataset\n",
        "\n",
        "df1 = pd.read_csv('M2SLMoneyStock.csv', index_col = 0, parse_dates = True)\n",
        "\n",
        "# Set frequency\n",
        "df1.index.freq = 'MS'"
      ],
      "execution_count": 0,
      "outputs": []
    },
    {
      "cell_type": "code",
      "metadata": {
        "id": "1Xtq_iQBYqBq",
        "colab_type": "code",
        "colab": {}
      },
      "source": [
        "# Load PCE dataset\n",
        "\n",
        "df2 = pd.read_csv('PCEPersonalSpending.csv', index_col = 0, parse_dates = True)\n",
        "\n",
        "# Set freqeuncy\n",
        "df2.index.freq = 'MS'"
      ],
      "execution_count": 0,
      "outputs": []
    },
    {
      "cell_type": "code",
      "metadata": {
        "id": "WtJ0k3JUY2iD",
        "colab_type": "code",
        "colab": {
          "base_uri": "https://localhost:8080/",
          "height": 235
        },
        "outputId": "726b498b-c7bb-493e-cd4d-31b4fc7ca660"
      },
      "source": [
        "# Display df's heads\n",
        "df1.head()"
      ],
      "execution_count": 12,
      "outputs": [
        {
          "output_type": "execute_result",
          "data": {
            "text/html": [
              "<div>\n",
              "<style scoped>\n",
              "    .dataframe tbody tr th:only-of-type {\n",
              "        vertical-align: middle;\n",
              "    }\n",
              "\n",
              "    .dataframe tbody tr th {\n",
              "        vertical-align: top;\n",
              "    }\n",
              "\n",
              "    .dataframe thead th {\n",
              "        text-align: right;\n",
              "    }\n",
              "</style>\n",
              "<table border=\"1\" class=\"dataframe\">\n",
              "  <thead>\n",
              "    <tr style=\"text-align: right;\">\n",
              "      <th></th>\n",
              "      <th>Money</th>\n",
              "    </tr>\n",
              "    <tr>\n",
              "      <th>Date</th>\n",
              "      <th></th>\n",
              "    </tr>\n",
              "  </thead>\n",
              "  <tbody>\n",
              "    <tr>\n",
              "      <th>1995-01-01</th>\n",
              "      <td>3492.4</td>\n",
              "    </tr>\n",
              "    <tr>\n",
              "      <th>1995-02-01</th>\n",
              "      <td>3489.9</td>\n",
              "    </tr>\n",
              "    <tr>\n",
              "      <th>1995-03-01</th>\n",
              "      <td>3491.1</td>\n",
              "    </tr>\n",
              "    <tr>\n",
              "      <th>1995-04-01</th>\n",
              "      <td>3499.2</td>\n",
              "    </tr>\n",
              "    <tr>\n",
              "      <th>1995-05-01</th>\n",
              "      <td>3524.2</td>\n",
              "    </tr>\n",
              "  </tbody>\n",
              "</table>\n",
              "</div>"
            ],
            "text/plain": [
              "             Money\n",
              "Date              \n",
              "1995-01-01  3492.4\n",
              "1995-02-01  3489.9\n",
              "1995-03-01  3491.1\n",
              "1995-04-01  3499.2\n",
              "1995-05-01  3524.2"
            ]
          },
          "metadata": {
            "tags": []
          },
          "execution_count": 12
        }
      ]
    },
    {
      "cell_type": "code",
      "metadata": {
        "id": "or-BMo_GZAWe",
        "colab_type": "code",
        "colab": {
          "base_uri": "https://localhost:8080/",
          "height": 235
        },
        "outputId": "5c93b34e-1961-42e7-af5a-1c2498c6dc26"
      },
      "source": [
        "df2.head()"
      ],
      "execution_count": 13,
      "outputs": [
        {
          "output_type": "execute_result",
          "data": {
            "text/html": [
              "<div>\n",
              "<style scoped>\n",
              "    .dataframe tbody tr th:only-of-type {\n",
              "        vertical-align: middle;\n",
              "    }\n",
              "\n",
              "    .dataframe tbody tr th {\n",
              "        vertical-align: top;\n",
              "    }\n",
              "\n",
              "    .dataframe thead th {\n",
              "        text-align: right;\n",
              "    }\n",
              "</style>\n",
              "<table border=\"1\" class=\"dataframe\">\n",
              "  <thead>\n",
              "    <tr style=\"text-align: right;\">\n",
              "      <th></th>\n",
              "      <th>Spending</th>\n",
              "    </tr>\n",
              "    <tr>\n",
              "      <th>Date</th>\n",
              "      <th></th>\n",
              "    </tr>\n",
              "  </thead>\n",
              "  <tbody>\n",
              "    <tr>\n",
              "      <th>1995-01-01</th>\n",
              "      <td>4851.2</td>\n",
              "    </tr>\n",
              "    <tr>\n",
              "      <th>1995-02-01</th>\n",
              "      <td>4850.8</td>\n",
              "    </tr>\n",
              "    <tr>\n",
              "      <th>1995-03-01</th>\n",
              "      <td>4885.4</td>\n",
              "    </tr>\n",
              "    <tr>\n",
              "      <th>1995-04-01</th>\n",
              "      <td>4890.2</td>\n",
              "    </tr>\n",
              "    <tr>\n",
              "      <th>1995-05-01</th>\n",
              "      <td>4933.1</td>\n",
              "    </tr>\n",
              "  </tbody>\n",
              "</table>\n",
              "</div>"
            ],
            "text/plain": [
              "            Spending\n",
              "Date                \n",
              "1995-01-01    4851.2\n",
              "1995-02-01    4850.8\n",
              "1995-03-01    4885.4\n",
              "1995-04-01    4890.2\n",
              "1995-05-01    4933.1"
            ]
          },
          "metadata": {
            "tags": []
          },
          "execution_count": 13
        }
      ]
    },
    {
      "cell_type": "code",
      "metadata": {
        "id": "KSdfU3k0ZDjb",
        "colab_type": "code",
        "colab": {
          "base_uri": "https://localhost:8080/",
          "height": 235
        },
        "outputId": "f06e8341-f262-4972-9fa4-420336e13256"
      },
      "source": [
        "# Combine both dataframes using join\n",
        "# assign it to a new df to make changes permanent\n",
        "\n",
        "df = df1.join(df2)\n",
        "df.head()"
      ],
      "execution_count": 14,
      "outputs": [
        {
          "output_type": "execute_result",
          "data": {
            "text/html": [
              "<div>\n",
              "<style scoped>\n",
              "    .dataframe tbody tr th:only-of-type {\n",
              "        vertical-align: middle;\n",
              "    }\n",
              "\n",
              "    .dataframe tbody tr th {\n",
              "        vertical-align: top;\n",
              "    }\n",
              "\n",
              "    .dataframe thead th {\n",
              "        text-align: right;\n",
              "    }\n",
              "</style>\n",
              "<table border=\"1\" class=\"dataframe\">\n",
              "  <thead>\n",
              "    <tr style=\"text-align: right;\">\n",
              "      <th></th>\n",
              "      <th>Money</th>\n",
              "      <th>Spending</th>\n",
              "    </tr>\n",
              "    <tr>\n",
              "      <th>Date</th>\n",
              "      <th></th>\n",
              "      <th></th>\n",
              "    </tr>\n",
              "  </thead>\n",
              "  <tbody>\n",
              "    <tr>\n",
              "      <th>1995-01-01</th>\n",
              "      <td>3492.4</td>\n",
              "      <td>4851.2</td>\n",
              "    </tr>\n",
              "    <tr>\n",
              "      <th>1995-02-01</th>\n",
              "      <td>3489.9</td>\n",
              "      <td>4850.8</td>\n",
              "    </tr>\n",
              "    <tr>\n",
              "      <th>1995-03-01</th>\n",
              "      <td>3491.1</td>\n",
              "      <td>4885.4</td>\n",
              "    </tr>\n",
              "    <tr>\n",
              "      <th>1995-04-01</th>\n",
              "      <td>3499.2</td>\n",
              "      <td>4890.2</td>\n",
              "    </tr>\n",
              "    <tr>\n",
              "      <th>1995-05-01</th>\n",
              "      <td>3524.2</td>\n",
              "      <td>4933.1</td>\n",
              "    </tr>\n",
              "  </tbody>\n",
              "</table>\n",
              "</div>"
            ],
            "text/plain": [
              "             Money  Spending\n",
              "Date                        \n",
              "1995-01-01  3492.4    4851.2\n",
              "1995-02-01  3489.9    4850.8\n",
              "1995-03-01  3491.1    4885.4\n",
              "1995-04-01  3499.2    4890.2\n",
              "1995-05-01  3524.2    4933.1"
            ]
          },
          "metadata": {
            "tags": []
          },
          "execution_count": 14
        }
      ]
    },
    {
      "cell_type": "code",
      "metadata": {
        "id": "oRaWwP0JZHTV",
        "colab_type": "code",
        "colab": {
          "base_uri": "https://localhost:8080/",
          "height": 297
        },
        "outputId": "9d841d98-dcd4-4377-e4b9-6f9a82ddf2b7"
      },
      "source": [
        "# Get data on df\n",
        "df.describe()"
      ],
      "execution_count": 15,
      "outputs": [
        {
          "output_type": "execute_result",
          "data": {
            "text/html": [
              "<div>\n",
              "<style scoped>\n",
              "    .dataframe tbody tr th:only-of-type {\n",
              "        vertical-align: middle;\n",
              "    }\n",
              "\n",
              "    .dataframe tbody tr th {\n",
              "        vertical-align: top;\n",
              "    }\n",
              "\n",
              "    .dataframe thead th {\n",
              "        text-align: right;\n",
              "    }\n",
              "</style>\n",
              "<table border=\"1\" class=\"dataframe\">\n",
              "  <thead>\n",
              "    <tr style=\"text-align: right;\">\n",
              "      <th></th>\n",
              "      <th>Money</th>\n",
              "      <th>Spending</th>\n",
              "    </tr>\n",
              "  </thead>\n",
              "  <tbody>\n",
              "    <tr>\n",
              "      <th>count</th>\n",
              "      <td>252.000000</td>\n",
              "      <td>252.000000</td>\n",
              "    </tr>\n",
              "    <tr>\n",
              "      <th>mean</th>\n",
              "      <td>6978.151190</td>\n",
              "      <td>8562.311905</td>\n",
              "    </tr>\n",
              "    <tr>\n",
              "      <th>std</th>\n",
              "      <td>2554.325115</td>\n",
              "      <td>2231.933352</td>\n",
              "    </tr>\n",
              "    <tr>\n",
              "      <th>min</th>\n",
              "      <td>3489.900000</td>\n",
              "      <td>4850.800000</td>\n",
              "    </tr>\n",
              "    <tr>\n",
              "      <th>25%</th>\n",
              "      <td>4732.875000</td>\n",
              "      <td>6682.125000</td>\n",
              "    </tr>\n",
              "    <tr>\n",
              "      <th>50%</th>\n",
              "      <td>6507.400000</td>\n",
              "      <td>8777.150000</td>\n",
              "    </tr>\n",
              "    <tr>\n",
              "      <th>75%</th>\n",
              "      <td>8699.700000</td>\n",
              "      <td>10262.925000</td>\n",
              "    </tr>\n",
              "    <tr>\n",
              "      <th>max</th>\n",
              "      <td>12335.900000</td>\n",
              "      <td>12469.100000</td>\n",
              "    </tr>\n",
              "  </tbody>\n",
              "</table>\n",
              "</div>"
            ],
            "text/plain": [
              "              Money      Spending\n",
              "count    252.000000    252.000000\n",
              "mean    6978.151190   8562.311905\n",
              "std     2554.325115   2231.933352\n",
              "min     3489.900000   4850.800000\n",
              "25%     4732.875000   6682.125000\n",
              "50%     6507.400000   8777.150000\n",
              "75%     8699.700000  10262.925000\n",
              "max    12335.900000  12469.100000"
            ]
          },
          "metadata": {
            "tags": []
          },
          "execution_count": 15
        }
      ]
    },
    {
      "cell_type": "code",
      "metadata": {
        "id": "OjP_cd-EZL4w",
        "colab_type": "code",
        "colab": {
          "base_uri": "https://localhost:8080/",
          "height": 153
        },
        "outputId": "5f7ae6f3-f845-4cb0-85ec-1c5f660ba84b"
      },
      "source": [
        "df.info()"
      ],
      "execution_count": 16,
      "outputs": [
        {
          "output_type": "stream",
          "text": [
            "<class 'pandas.core.frame.DataFrame'>\n",
            "DatetimeIndex: 252 entries, 1995-01-01 to 2015-12-01\n",
            "Freq: MS\n",
            "Data columns (total 2 columns):\n",
            "Money       252 non-null float64\n",
            "Spending    252 non-null float64\n",
            "dtypes: float64(2)\n",
            "memory usage: 15.9 KB\n"
          ],
          "name": "stdout"
        }
      ]
    },
    {
      "cell_type": "code",
      "metadata": {
        "id": "vwGGB4oYZPF7",
        "colab_type": "code",
        "colab": {
          "base_uri": "https://localhost:8080/",
          "height": 34
        },
        "outputId": "1904d54a-3a91-41d5-b6f8-16561d743ea6"
      },
      "source": [
        "df.shape"
      ],
      "execution_count": 17,
      "outputs": [
        {
          "output_type": "execute_result",
          "data": {
            "text/plain": [
              "(252, 2)"
            ]
          },
          "metadata": {
            "tags": []
          },
          "execution_count": 17
        }
      ]
    },
    {
      "cell_type": "code",
      "metadata": {
        "id": "H2dbq5duZSo8",
        "colab_type": "code",
        "colab": {
          "base_uri": "https://localhost:8080/",
          "height": 500
        },
        "outputId": "729b46c0-cd20-49cd-a2be-6c80977892ca"
      },
      "source": [
        "# Visualize Data\n",
        "\n",
        "df.plot(figsize = (12,8));"
      ],
      "execution_count": 18,
      "outputs": [
        {
          "output_type": "display_data",
          "data": {
            "image/png": "[encoded data removed]",
            "text/plain": [
              "<Figure size 864x576 with 1 Axes>"
            ]
          },
          "metadata": {
            "tags": []
          }
        }
      ]
    },
    {
      "cell_type": "markdown",
      "metadata": {
        "id": "7kxyq0UXZd7N",
        "colab_type": "text"
      },
      "source": [
        "### Test Data for Stationary and Perform Transformations"
      ]
    },
    {
      "cell_type": "code",
      "metadata": {
        "id": "Yf9I9kMxZWvY",
        "colab_type": "code",
        "colab": {}
      },
      "source": [
        "from statsmodels.tsa.stattools import adfuller\n",
        "\n",
        "def adf_test(series,title=''):\n",
        "    \"\"\"\n",
        "    Pass in a time series and an optional title, returns an ADF report\n",
        "    \"\"\"\n",
        "    print(f'Augmented Dickey-Fuller Test: {title}')\n",
        "    result = adfuller(series.dropna(),autolag='AIC') # .dropna() handles differenced data\n",
        "    \n",
        "    labels = ['ADF test statistic','p-value','# lags used','# observations']\n",
        "    out = pd.Series(result[0:4],index=labels)\n",
        "\n",
        "    for key,val in result[4].items():\n",
        "        out[f'critical value ({key})']=val\n",
        "        \n",
        "    print(out.to_string())          # .to_string() removes the line \"dtype: float64\"\n",
        "    \n",
        "    if result[1] <= 0.05:\n",
        "        print(\"Strong evidence against the null hypothesis\")\n",
        "        print(\"Reject the null hypothesis\")\n",
        "        print(\"Data has no unit root and is stationary\")\n",
        "    else:\n",
        "        print(\"Weak evidence against the null hypothesis\")\n",
        "        print(\"Fail to reject the null hypothesis\")\n",
        "        print(\"Data has a unit root and is non-stationary\")"
      ],
      "execution_count": 0,
      "outputs": []
    },
    {
      "cell_type": "code",
      "metadata": {
        "id": "wYSBnCpmZiQp",
        "colab_type": "code",
        "colab": {
          "base_uri": "https://localhost:8080/",
          "height": 204
        },
        "outputId": "54e7f40c-d249-464a-8469-312ece995225"
      },
      "source": [
        "# run adf on the 'Money' column of dataframe\n",
        "\n",
        "adf_test(df['Money'])"
      ],
      "execution_count": 20,
      "outputs": [
        {
          "output_type": "stream",
          "text": [
            "Augmented Dickey-Fuller Test: \n",
            "ADF test statistic        4.239022\n",
            "p-value                   1.000000\n",
            "# lags used               4.000000\n",
            "# observations          247.000000\n",
            "critical value (1%)      -3.457105\n",
            "critical value (5%)      -2.873314\n",
            "critical value (10%)     -2.573044\n",
            "Weak evidence against the null hypothesis\n",
            "Fail to reject the null hypothesis\n",
            "Data has a unit root and is non-stationary\n"
          ],
          "name": "stdout"
        }
      ]
    },
    {
      "cell_type": "code",
      "metadata": {
        "id": "Tgx7uoHPZnTz",
        "colab_type": "code",
        "colab": {
          "base_uri": "https://localhost:8080/",
          "height": 204
        },
        "outputId": "dd227e6f-a160-4136-d739-aa4b33ea2a25"
      },
      "source": [
        "# Run adf on the 'Spending' column of dataframe\n",
        "adf_test(df['Spending'])"
      ],
      "execution_count": 21,
      "outputs": [
        {
          "output_type": "stream",
          "text": [
            "Augmented Dickey-Fuller Test: \n",
            "ADF test statistic        0.149796\n",
            "p-value                   0.969301\n",
            "# lags used               3.000000\n",
            "# observations          248.000000\n",
            "critical value (1%)      -3.456996\n",
            "critical value (5%)      -2.873266\n",
            "critical value (10%)     -2.573019\n",
            "Weak evidence against the null hypothesis\n",
            "Fail to reject the null hypothesis\n",
            "Data has a unit root and is non-stationary\n"
          ],
          "name": "stdout"
        }
      ]
    },
    {
      "cell_type": "code",
      "metadata": {
        "id": "6-dI6n3-Zso5",
        "colab_type": "code",
        "colab": {
          "base_uri": "https://localhost:8080/",
          "height": 102
        },
        "outputId": "e329b0c0-3c09-4029-d9e6-eb2c8ff0f6eb"
      },
      "source": [
        "auto_arima(df['Money'], maxiter=1000)"
      ],
      "execution_count": 22,
      "outputs": [
        {
          "output_type": "execute_result",
          "data": {
            "text/plain": [
              "ARIMA(callback=None, disp=0, maxiter=1000, method=None, order=(1, 2, 2),\n",
              "      out_of_sample_size=0, scoring='mse', scoring_args={},\n",
              "      seasonal_order=(0, 0, 0, 1), solver='lbfgs', start_params=None,\n",
              "      suppress_warnings=False, transparams=True, trend=None,\n",
              "      with_intercept=True)"
            ]
          },
          "metadata": {
            "tags": []
          },
          "execution_count": 22
        }
      ]
    },
    {
      "cell_type": "code",
      "metadata": {
        "id": "ETLyXSdKaRav",
        "colab_type": "code",
        "colab": {
          "base_uri": "https://localhost:8080/",
          "height": 102
        },
        "outputId": "e250195b-a9a7-4d18-c905-8ae2a5a00d86"
      },
      "source": [
        "auto_arima(df['Spending'], maxiter=1000)"
      ],
      "execution_count": 23,
      "outputs": [
        {
          "output_type": "execute_result",
          "data": {
            "text/plain": [
              "ARIMA(callback=None, disp=0, maxiter=1000, method=None, order=(1, 1, 2),\n",
              "      out_of_sample_size=0, scoring='mse', scoring_args={},\n",
              "      seasonal_order=(0, 0, 0, 1), solver='lbfgs', start_params=None,\n",
              "      suppress_warnings=False, transparams=True, trend=None,\n",
              "      with_intercept=True)"
            ]
          },
          "metadata": {
            "tags": []
          },
          "execution_count": 23
        }
      ]
    },
    {
      "cell_type": "markdown",
      "metadata": {
        "id": "iCJR7jNYbP_R",
        "colab_type": "text"
      },
      "source": [
        "VARMA(1, 2) has been recommended. "
      ]
    },
    {
      "cell_type": "code",
      "metadata": {
        "id": "c0BxHKsXadtz",
        "colab_type": "code",
        "colab": {
          "base_uri": "https://localhost:8080/",
          "height": 235
        },
        "outputId": "b441ced8-c900-45bf-bcf5-a268982568c5"
      },
      "source": [
        "df_transformed = df.diff().diff()\n",
        "df_transformed = df_transformed.dropna()\n",
        "df_transformed.head()"
      ],
      "execution_count": 24,
      "outputs": [
        {
          "output_type": "execute_result",
          "data": {
            "text/html": [
              "<div>\n",
              "<style scoped>\n",
              "    .dataframe tbody tr th:only-of-type {\n",
              "        vertical-align: middle;\n",
              "    }\n",
              "\n",
              "    .dataframe tbody tr th {\n",
              "        vertical-align: top;\n",
              "    }\n",
              "\n",
              "    .dataframe thead th {\n",
              "        text-align: right;\n",
              "    }\n",
              "</style>\n",
              "<table border=\"1\" class=\"dataframe\">\n",
              "  <thead>\n",
              "    <tr style=\"text-align: right;\">\n",
              "      <th></th>\n",
              "      <th>Money</th>\n",
              "      <th>Spending</th>\n",
              "    </tr>\n",
              "    <tr>\n",
              "      <th>Date</th>\n",
              "      <th></th>\n",
              "      <th></th>\n",
              "    </tr>\n",
              "  </thead>\n",
              "  <tbody>\n",
              "    <tr>\n",
              "      <th>1995-03-01</th>\n",
              "      <td>3.7</td>\n",
              "      <td>35.0</td>\n",
              "    </tr>\n",
              "    <tr>\n",
              "      <th>1995-04-01</th>\n",
              "      <td>6.9</td>\n",
              "      <td>-29.8</td>\n",
              "    </tr>\n",
              "    <tr>\n",
              "      <th>1995-05-01</th>\n",
              "      <td>16.9</td>\n",
              "      <td>38.1</td>\n",
              "    </tr>\n",
              "    <tr>\n",
              "      <th>1995-06-01</th>\n",
              "      <td>-0.3</td>\n",
              "      <td>1.5</td>\n",
              "    </tr>\n",
              "    <tr>\n",
              "      <th>1995-07-01</th>\n",
              "      <td>-6.2</td>\n",
              "      <td>-51.7</td>\n",
              "    </tr>\n",
              "  </tbody>\n",
              "</table>\n",
              "</div>"
            ],
            "text/plain": [
              "            Money  Spending\n",
              "Date                       \n",
              "1995-03-01    3.7      35.0\n",
              "1995-04-01    6.9     -29.8\n",
              "1995-05-01   16.9      38.1\n",
              "1995-06-01   -0.3       1.5\n",
              "1995-07-01   -6.2     -51.7"
            ]
          },
          "metadata": {
            "tags": []
          },
          "execution_count": 24
        }
      ]
    },
    {
      "cell_type": "code",
      "metadata": {
        "id": "Ps3OiADSbzwC",
        "colab_type": "code",
        "colab": {
          "base_uri": "https://localhost:8080/",
          "height": 34
        },
        "outputId": "ad167e16-8e13-456b-d050-11dc3a6c09b5"
      },
      "source": [
        "len(df_transformed)"
      ],
      "execution_count": 25,
      "outputs": [
        {
          "output_type": "execute_result",
          "data": {
            "text/plain": [
              "250"
            ]
          },
          "metadata": {
            "tags": []
          },
          "execution_count": 25
        }
      ]
    },
    {
      "cell_type": "markdown",
      "metadata": {
        "id": "b2HvyHCgb8cm",
        "colab_type": "text"
      },
      "source": [
        "### Train-Test-Split\n",
        "As previous, we'd use 12 months.\n"
      ]
    },
    {
      "cell_type": "code",
      "metadata": {
        "id": "GpWHgSjxb7XC",
        "colab_type": "code",
        "colab": {}
      },
      "source": [
        "num_of_obs = 12\n",
        "train, test = df_transformed[:-num_of_obs], df_transformed[-num_of_obs:]"
      ],
      "execution_count": 0,
      "outputs": []
    },
    {
      "cell_type": "code",
      "metadata": {
        "id": "ny3eUlEucgeC",
        "colab_type": "code",
        "colab": {
          "base_uri": "https://localhost:8080/",
          "height": 51
        },
        "outputId": "b9292f3c-d623-4880-a42e-5ec312d7fdbd"
      },
      "source": [
        "print(train.shape)\n",
        "print(train.shape)"
      ],
      "execution_count": 27,
      "outputs": [
        {
          "output_type": "stream",
          "text": [
            "(238, 2)\n",
            "(238, 2)\n"
          ],
          "name": "stdout"
        }
      ]
    },
    {
      "cell_type": "markdown",
      "metadata": {
        "id": "Z07a3NrtcvlI",
        "colab_type": "text"
      },
      "source": [
        "### Fit VARMA(1,2) Model"
      ]
    },
    {
      "cell_type": "code",
      "metadata": {
        "id": "N9PoptDycl15",
        "colab_type": "code",
        "colab": {
          "base_uri": "https://localhost:8080/",
          "height": 835
        },
        "outputId": "2bc45293-9b3f-4097-eaff-9baf56b099b0"
      },
      "source": [
        "model = VARMAX(train, order=(1,2), trend='c')\n",
        "results = model.fit(maxiter = 1000, disp=False)\n",
        "results.summary()"
      ],
      "execution_count": 28,
      "outputs": [
        {
          "output_type": "execute_result",
          "data": {
            "text/html": [
              "<table class=\"simpletable\">\n",
              "<caption>Statespace Model Results</caption>\n",
              "<tr>\n",
              "  <th>Dep. Variable:</th>   <td>['Money', 'Spending']</td> <th>  No. Observations:  </th>    <td>238</td>   \n",
              "</tr>\n",
              "<tr>\n",
              "  <th>Model:</th>                <td>VARMA(1,2)</td>       <th>  Log Likelihood     </th> <td>-2286.309</td>\n",
              "</tr>\n",
              "<tr>\n",
              "  <th></th>                      <td>+ intercept</td>      <th>  AIC                </th> <td>4606.618</td> \n",
              "</tr>\n",
              "<tr>\n",
              "  <th>Date:</th>              <td>Sun, 21 Jul 2019</td>    <th>  BIC                </th> <td>4665.646</td> \n",
              "</tr>\n",
              "<tr>\n",
              "  <th>Time:</th>                  <td>15:26:32</td>        <th>  HQIC               </th> <td>4630.407</td> \n",
              "</tr>\n",
              "<tr>\n",
              "  <th>Sample:</th>               <td>03-01-1995</td>       <th>                     </th>     <td> </td>    \n",
              "</tr>\n",
              "<tr>\n",
              "  <th></th>                     <td>- 12-01-2014</td>      <th>                     </th>     <td> </td>    \n",
              "</tr>\n",
              "<tr>\n",
              "  <th>Covariance Type:</th>          <td>opg</td>          <th>                     </th>     <td> </td>    \n",
              "</tr>\n",
              "</table>\n",
              "<table class=\"simpletable\">\n",
              "<tr>\n",
              "  <th>Ljung-Box (Q):</th>          <td>68.08, 28.09</td> <th>  Jarque-Bera (JB):  </th> <td>566.68, 126.74</td>\n",
              "</tr>\n",
              "<tr>\n",
              "  <th>Prob(Q):</th>                 <td>0.00, 0.92</td>  <th>  Prob(JB):          </th>   <td>0.00, 0.00</td>  \n",
              "</tr>\n",
              "<tr>\n",
              "  <th>Heteroskedasticity (H):</th>  <td>5.68, 2.89</td>  <th>  Skew:              </th>   <td>1.36, -0.35</td> \n",
              "</tr>\n",
              "<tr>\n",
              "  <th>Prob(H) (two-sided):</th>     <td>0.00, 0.00</td>  <th>  Kurtosis:          </th>   <td>10.05, 6.51</td> \n",
              "</tr>\n",
              "</table>\n",
              "<table class=\"simpletable\">\n",
              "<caption>Results for equation Money</caption>\n",
              "<tr>\n",
              "         <td></td>           <th>coef</th>     <th>std err</th>      <th>z</th>      <th>P>|z|</th>  <th>[0.025</th>    <th>0.975]</th>  \n",
              "</tr>\n",
              "<tr>\n",
              "  <th>intercept</th>      <td>    0.1972</td> <td>    0.681</td> <td>    0.290</td> <td> 0.772</td> <td>   -1.137</td> <td>    1.532</td>\n",
              "</tr>\n",
              "<tr>\n",
              "  <th>L1.Money</th>       <td>   -0.9671</td> <td>    2.957</td> <td>   -0.327</td> <td> 0.744</td> <td>   -6.762</td> <td>    4.828</td>\n",
              "</tr>\n",
              "<tr>\n",
              "  <th>L1.Spending</th>    <td>    1.7808</td> <td>    5.096</td> <td>    0.349</td> <td> 0.727</td> <td>   -8.207</td> <td>   11.769</td>\n",
              "</tr>\n",
              "<tr>\n",
              "  <th>L1.e(Money)</th>    <td>    0.2006</td> <td>    2.946</td> <td>    0.068</td> <td> 0.946</td> <td>   -5.573</td> <td>    5.974</td>\n",
              "</tr>\n",
              "<tr>\n",
              "  <th>L1.e(Spending)</th> <td>   -1.9005</td> <td>    5.097</td> <td>   -0.373</td> <td> 0.709</td> <td>  -11.891</td> <td>    8.090</td>\n",
              "</tr>\n",
              "<tr>\n",
              "  <th>L2.e(Money)</th>    <td>   -1.2125</td> <td>    2.971</td> <td>   -0.408</td> <td> 0.683</td> <td>   -7.035</td> <td>    4.610</td>\n",
              "</tr>\n",
              "<tr>\n",
              "  <th>L2.e(Spending)</th> <td>    1.6790</td> <td>    4.511</td> <td>    0.372</td> <td> 0.710</td> <td>   -7.163</td> <td>   10.521</td>\n",
              "</tr>\n",
              "</table>\n",
              "<table class=\"simpletable\">\n",
              "<caption>Results for equation Spending</caption>\n",
              "<tr>\n",
              "         <td></td>           <th>coef</th>     <th>std err</th>      <th>z</th>      <th>P>|z|</th>  <th>[0.025</th>    <th>0.975]</th>  \n",
              "</tr>\n",
              "<tr>\n",
              "  <th>intercept</th>      <td>    0.0803</td> <td>    0.156</td> <td>    0.513</td> <td> 0.608</td> <td>   -0.226</td> <td>    0.387</td>\n",
              "</tr>\n",
              "<tr>\n",
              "  <th>L1.Money</th>       <td>   -0.2063</td> <td>    1.851</td> <td>   -0.111</td> <td> 0.911</td> <td>   -3.835</td> <td>    3.422</td>\n",
              "</tr>\n",
              "<tr>\n",
              "  <th>L1.Spending</th>    <td>    0.4881</td> <td>    3.023</td> <td>    0.161</td> <td> 0.872</td> <td>   -5.437</td> <td>    6.413</td>\n",
              "</tr>\n",
              "<tr>\n",
              "  <th>L1.e(Money)</th>    <td>    0.3267</td> <td>    1.906</td> <td>    0.171</td> <td> 0.864</td> <td>   -3.410</td> <td>    4.063</td>\n",
              "</tr>\n",
              "<tr>\n",
              "  <th>L1.e(Spending)</th> <td>   -1.4493</td> <td>    3.004</td> <td>   -0.482</td> <td> 0.629</td> <td>   -7.336</td> <td>    4.438</td>\n",
              "</tr>\n",
              "<tr>\n",
              "  <th>L2.e(Money)</th>    <td>   -0.3246</td> <td>    1.928</td> <td>   -0.168</td> <td> 0.866</td> <td>   -4.103</td> <td>    3.454</td>\n",
              "</tr>\n",
              "<tr>\n",
              "  <th>L2.e(Spending)</th> <td>    0.5054</td> <td>    2.642</td> <td>    0.191</td> <td> 0.848</td> <td>   -4.672</td> <td>    5.683</td>\n",
              "</tr>\n",
              "</table>\n",
              "<table class=\"simpletable\">\n",
              "<caption>Error covariance matrix</caption>\n",
              "<tr>\n",
              "             <td></td>                <th>coef</th>     <th>std err</th>      <th>z</th>      <th>P>|z|</th>  <th>[0.025</th>    <th>0.975]</th>  \n",
              "</tr>\n",
              "<tr>\n",
              "  <th>sqrt.var.Money</th>          <td>   25.5463</td> <td>    1.723</td> <td>   14.826</td> <td> 0.000</td> <td>   22.169</td> <td>   28.923</td>\n",
              "</tr>\n",
              "<tr>\n",
              "  <th>sqrt.cov.Money.Spending</th> <td>   -9.7312</td> <td>    1.889</td> <td>   -5.152</td> <td> 0.000</td> <td>  -13.433</td> <td>   -6.029</td>\n",
              "</tr>\n",
              "<tr>\n",
              "  <th>sqrt.var.Spending</th>       <td>   33.6015</td> <td>    1.245</td> <td>   26.982</td> <td> 0.000</td> <td>   31.161</td> <td>   36.042</td>\n",
              "</tr>\n",
              "</table><br/><br/>Warnings:<br/>[1] Covariance matrix calculated using the outer product of gradients (complex-step)."
            ],
            "text/plain": [
              "<class 'statsmodels.iolib.summary.Summary'>\n",
              "\"\"\"\n",
              "                             Statespace Model Results                            \n",
              "=================================================================================\n",
              "Dep. Variable:     ['Money', 'Spending']   No. Observations:                  238\n",
              "Model:                        VARMA(1,2)   Log Likelihood               -2286.309\n",
              "                             + intercept   AIC                           4606.618\n",
              "Date:                   Sun, 21 Jul 2019   BIC                           4665.646\n",
              "Time:                           15:26:32   HQIC                          4630.407\n",
              "Sample:                       03-01-1995                                         \n",
              "                            - 12-01-2014                                         \n",
              "Covariance Type:                     opg                                         \n",
              "===================================================================================\n",
              "Ljung-Box (Q):                68.08, 28.09   Jarque-Bera (JB):       566.68, 126.74\n",
              "Prob(Q):                        0.00, 0.92   Prob(JB):                   0.00, 0.00\n",
              "Heteroskedasticity (H):         5.68, 2.89   Skew:                      1.36, -0.35\n",
              "Prob(H) (two-sided):            0.00, 0.00   Kurtosis:                  10.05, 6.51\n",
              "                            Results for equation Money                            \n",
              "==================================================================================\n",
              "                     coef    std err          z      P>|z|      [0.025      0.975]\n",
              "----------------------------------------------------------------------------------\n",
              "intercept          0.1972      0.681      0.290      0.772      -1.137       1.532\n",
              "L1.Money          -0.9671      2.957     -0.327      0.744      -6.762       4.828\n",
              "L1.Spending        1.7808      5.096      0.349      0.727      -8.207      11.769\n",
              "L1.e(Money)        0.2006      2.946      0.068      0.946      -5.573       5.974\n",
              "L1.e(Spending)    -1.9005      5.097     -0.373      0.709     -11.891       8.090\n",
              "L2.e(Money)       -1.2125      2.971     -0.408      0.683      -7.035       4.610\n",
              "L2.e(Spending)     1.6790      4.511      0.372      0.710      -7.163      10.521\n",
              "                          Results for equation Spending                           \n",
              "==================================================================================\n",
              "                     coef    std err          z      P>|z|      [0.025      0.975]\n",
              "----------------------------------------------------------------------------------\n",
              "intercept          0.0803      0.156      0.513      0.608      -0.226       0.387\n",
              "L1.Money          -0.2063      1.851     -0.111      0.911      -3.835       3.422\n",
              "L1.Spending        0.4881      3.023      0.161      0.872      -5.437       6.413\n",
              "L1.e(Money)        0.3267      1.906      0.171      0.864      -3.410       4.063\n",
              "L1.e(Spending)    -1.4493      3.004     -0.482      0.629      -7.336       4.438\n",
              "L2.e(Money)       -0.3246      1.928     -0.168      0.866      -4.103       3.454\n",
              "L2.e(Spending)     0.5054      2.642      0.191      0.848      -4.672       5.683\n",
              "                                  Error covariance matrix                                  \n",
              "===========================================================================================\n",
              "                              coef    std err          z      P>|z|      [0.025      0.975]\n",
              "-------------------------------------------------------------------------------------------\n",
              "sqrt.var.Money             25.5463      1.723     14.826      0.000      22.169      28.923\n",
              "sqrt.cov.Money.Spending    -9.7312      1.889     -5.152      0.000     -13.433      -6.029\n",
              "sqrt.var.Spending          33.6015      1.245     26.982      0.000      31.161      36.042\n",
              "===========================================================================================\n",
              "\n",
              "Warnings:\n",
              "[1] Covariance matrix calculated using the outer product of gradients (complex-step).\n",
              "\"\"\""
            ]
          },
          "metadata": {
            "tags": []
          },
          "execution_count": 28
        }
      ]
    },
    {
      "cell_type": "markdown",
      "metadata": {
        "id": "0vXmYW_gdWvz",
        "colab_type": "text"
      },
      "source": [
        "### Forecast Next 12 Values\n",
        "It is much simpler to pass VARMAX.forecast() as it doesn not require thatr we pass the number of previous observations as in the VAR model."
      ]
    },
    {
      "cell_type": "code",
      "metadata": {
        "id": "4XQw1GqydGiN",
        "colab_type": "code",
        "colab": {
          "base_uri": "https://localhost:8080/",
          "height": 421
        },
        "outputId": "41956ced-73aa-4e96-e05d-203563060bfa"
      },
      "source": [
        "df_forecast = results.forecast(12)\n",
        "df_forecast"
      ],
      "execution_count": 29,
      "outputs": [
        {
          "output_type": "execute_result",
          "data": {
            "text/html": [
              "<div>\n",
              "<style scoped>\n",
              "    .dataframe tbody tr th:only-of-type {\n",
              "        vertical-align: middle;\n",
              "    }\n",
              "\n",
              "    .dataframe tbody tr th {\n",
              "        vertical-align: top;\n",
              "    }\n",
              "\n",
              "    .dataframe thead th {\n",
              "        text-align: right;\n",
              "    }\n",
              "</style>\n",
              "<table border=\"1\" class=\"dataframe\">\n",
              "  <thead>\n",
              "    <tr style=\"text-align: right;\">\n",
              "      <th></th>\n",
              "      <th>Money</th>\n",
              "      <th>Spending</th>\n",
              "    </tr>\n",
              "  </thead>\n",
              "  <tbody>\n",
              "    <tr>\n",
              "      <th>2015-01-01</th>\n",
              "      <td>-12.191798</td>\n",
              "      <td>37.365311</td>\n",
              "    </tr>\n",
              "    <tr>\n",
              "      <th>2015-02-01</th>\n",
              "      <td>-11.205112</td>\n",
              "      <td>-5.136945</td>\n",
              "    </tr>\n",
              "    <tr>\n",
              "      <th>2015-03-01</th>\n",
              "      <td>1.885681</td>\n",
              "      <td>-0.115447</td>\n",
              "    </tr>\n",
              "    <tr>\n",
              "      <th>2015-04-01</th>\n",
              "      <td>-1.831952</td>\n",
              "      <td>-0.365111</td>\n",
              "    </tr>\n",
              "    <tr>\n",
              "      <th>2015-05-01</th>\n",
              "      <td>1.318704</td>\n",
              "      <td>0.279979</td>\n",
              "    </tr>\n",
              "    <tr>\n",
              "      <th>2015-06-01</th>\n",
              "      <td>-0.579469</td>\n",
              "      <td>-0.055138</td>\n",
              "    </tr>\n",
              "    <tr>\n",
              "      <th>2015-07-01</th>\n",
              "      <td>0.659448</td>\n",
              "      <td>0.172887</td>\n",
              "    </tr>\n",
              "    <tr>\n",
              "      <th>2015-08-01</th>\n",
              "      <td>-0.132621</td>\n",
              "      <td>0.028596</td>\n",
              "    </tr>\n",
              "    <tr>\n",
              "      <th>2015-09-01</th>\n",
              "      <td>0.376422</td>\n",
              "      <td>0.121573</td>\n",
              "    </tr>\n",
              "    <tr>\n",
              "      <th>2015-10-01</th>\n",
              "      <td>0.049707</td>\n",
              "      <td>0.061938</td>\n",
              "    </tr>\n",
              "    <tr>\n",
              "      <th>2015-11-01</th>\n",
              "      <td>0.259471</td>\n",
              "      <td>0.100232</td>\n",
              "    </tr>\n",
              "    <tr>\n",
              "      <th>2015-12-01</th>\n",
              "      <td>0.124806</td>\n",
              "      <td>0.075649</td>\n",
              "    </tr>\n",
              "  </tbody>\n",
              "</table>\n",
              "</div>"
            ],
            "text/plain": [
              "                Money   Spending\n",
              "2015-01-01 -12.191798  37.365311\n",
              "2015-02-01 -11.205112  -5.136945\n",
              "2015-03-01   1.885681  -0.115447\n",
              "2015-04-01  -1.831952  -0.365111\n",
              "2015-05-01   1.318704   0.279979\n",
              "2015-06-01  -0.579469  -0.055138\n",
              "2015-07-01   0.659448   0.172887\n",
              "2015-08-01  -0.132621   0.028596\n",
              "2015-09-01   0.376422   0.121573\n",
              "2015-10-01   0.049707   0.061938\n",
              "2015-11-01   0.259471   0.100232\n",
              "2015-12-01   0.124806   0.075649"
            ]
          },
          "metadata": {
            "tags": []
          },
          "execution_count": 29
        }
      ]
    },
    {
      "cell_type": "markdown",
      "metadata": {
        "id": "_165asUxd3vb",
        "colab_type": "text"
      },
      "source": [
        "### Reversing Differences\n",
        "The forecasted values were obtained with second order differences. To effectively compare against the original data, we have to reverse the differences. To achieve this, we take the most recent value of the original seried and add it to a cummulative sum of forecasted values."
      ]
    },
    {
      "cell_type": "code",
      "metadata": {
        "id": "eSTzrK5_duVp",
        "colab_type": "code",
        "colab": {}
      },
      "source": [
        "# Add the most recent first difference from the training side of the original dataset to the forecast cumulative sum\n",
        "df_forecast['Money1d'] = (df['Money'].iloc[-num_of_obs-1]-df['Money'].iloc[-num_of_obs-2]) + df_forecast['Money'].cumsum()\n",
        "\n",
        "# Now build the forecast values from the first difference set\n",
        "df_forecast['MoneyForecast'] = df['Money'].iloc[-num_of_obs-1] + df_forecast['Money'].cumsum()"
      ],
      "execution_count": 0,
      "outputs": []
    },
    {
      "cell_type": "code",
      "metadata": {
        "id": "dfV8jL-Jd8_v",
        "colab_type": "code",
        "colab": {}
      },
      "source": [
        "# Add the most recent first difference from the training side of the original dataset to the forecast cumulative sum\n",
        "df_forecast['Spending1d'] = (df['Spending'].iloc[-num_of_obs-1]-df['Spending'].iloc[-num_of_obs-2]) + df_forecast['Spending'].cumsum()\n",
        "\n",
        "# Now build the forecast values from the first difference set\n",
        "df_forecast['SpendingForecast'] = df['Spending'].iloc[-num_of_obs-1] + df_forecast['Spending'].cumsum()"
      ],
      "execution_count": 0,
      "outputs": []
    },
    {
      "cell_type": "code",
      "metadata": {
        "id": "SH8r74zZeAMl",
        "colab_type": "code",
        "colab": {
          "base_uri": "https://localhost:8080/",
          "height": 421
        },
        "outputId": "20fd03d9-53c1-4743-ca6f-baf0467fe1b7"
      },
      "source": [
        "df_forecast"
      ],
      "execution_count": 32,
      "outputs": [
        {
          "output_type": "execute_result",
          "data": {
            "text/html": [
              "<div>\n",
              "<style scoped>\n",
              "    .dataframe tbody tr th:only-of-type {\n",
              "        vertical-align: middle;\n",
              "    }\n",
              "\n",
              "    .dataframe tbody tr th {\n",
              "        vertical-align: top;\n",
              "    }\n",
              "\n",
              "    .dataframe thead th {\n",
              "        text-align: right;\n",
              "    }\n",
              "</style>\n",
              "<table border=\"1\" class=\"dataframe\">\n",
              "  <thead>\n",
              "    <tr style=\"text-align: right;\">\n",
              "      <th></th>\n",
              "      <th>Money</th>\n",
              "      <th>Spending</th>\n",
              "      <th>Money1d</th>\n",
              "      <th>MoneyForecast</th>\n",
              "      <th>Spending1d</th>\n",
              "      <th>SpendingForecast</th>\n",
              "    </tr>\n",
              "  </thead>\n",
              "  <tbody>\n",
              "    <tr>\n",
              "      <th>2015-01-01</th>\n",
              "      <td>-12.191798</td>\n",
              "      <td>37.365311</td>\n",
              "      <td>66.408202</td>\n",
              "      <td>11657.908202</td>\n",
              "      <td>47.965311</td>\n",
              "      <td>12099.365311</td>\n",
              "    </tr>\n",
              "    <tr>\n",
              "      <th>2015-02-01</th>\n",
              "      <td>-11.205112</td>\n",
              "      <td>-5.136945</td>\n",
              "      <td>55.203090</td>\n",
              "      <td>11646.703090</td>\n",
              "      <td>42.828367</td>\n",
              "      <td>12094.228367</td>\n",
              "    </tr>\n",
              "    <tr>\n",
              "      <th>2015-03-01</th>\n",
              "      <td>1.885681</td>\n",
              "      <td>-0.115447</td>\n",
              "      <td>57.088771</td>\n",
              "      <td>11648.588771</td>\n",
              "      <td>42.712920</td>\n",
              "      <td>12094.112920</td>\n",
              "    </tr>\n",
              "    <tr>\n",
              "      <th>2015-04-01</th>\n",
              "      <td>-1.831952</td>\n",
              "      <td>-0.365111</td>\n",
              "      <td>55.256819</td>\n",
              "      <td>11646.756819</td>\n",
              "      <td>42.347809</td>\n",
              "      <td>12093.747809</td>\n",
              "    </tr>\n",
              "    <tr>\n",
              "      <th>2015-05-01</th>\n",
              "      <td>1.318704</td>\n",
              "      <td>0.279979</td>\n",
              "      <td>56.575523</td>\n",
              "      <td>11648.075523</td>\n",
              "      <td>42.627787</td>\n",
              "      <td>12094.027787</td>\n",
              "    </tr>\n",
              "    <tr>\n",
              "      <th>2015-06-01</th>\n",
              "      <td>-0.579469</td>\n",
              "      <td>-0.055138</td>\n",
              "      <td>55.996054</td>\n",
              "      <td>11647.496054</td>\n",
              "      <td>42.572649</td>\n",
              "      <td>12093.972649</td>\n",
              "    </tr>\n",
              "    <tr>\n",
              "      <th>2015-07-01</th>\n",
              "      <td>0.659448</td>\n",
              "      <td>0.172887</td>\n",
              "      <td>56.655502</td>\n",
              "      <td>11648.155502</td>\n",
              "      <td>42.745537</td>\n",
              "      <td>12094.145537</td>\n",
              "    </tr>\n",
              "    <tr>\n",
              "      <th>2015-08-01</th>\n",
              "      <td>-0.132621</td>\n",
              "      <td>0.028596</td>\n",
              "      <td>56.522880</td>\n",
              "      <td>11648.022880</td>\n",
              "      <td>42.774133</td>\n",
              "      <td>12094.174133</td>\n",
              "    </tr>\n",
              "    <tr>\n",
              "      <th>2015-09-01</th>\n",
              "      <td>0.376422</td>\n",
              "      <td>0.121573</td>\n",
              "      <td>56.899303</td>\n",
              "      <td>11648.399303</td>\n",
              "      <td>42.895706</td>\n",
              "      <td>12094.295706</td>\n",
              "    </tr>\n",
              "    <tr>\n",
              "      <th>2015-10-01</th>\n",
              "      <td>0.049707</td>\n",
              "      <td>0.061938</td>\n",
              "      <td>56.949010</td>\n",
              "      <td>11648.449010</td>\n",
              "      <td>42.957644</td>\n",
              "      <td>12094.357644</td>\n",
              "    </tr>\n",
              "    <tr>\n",
              "      <th>2015-11-01</th>\n",
              "      <td>0.259471</td>\n",
              "      <td>0.100232</td>\n",
              "      <td>57.208481</td>\n",
              "      <td>11648.708481</td>\n",
              "      <td>43.057877</td>\n",
              "      <td>12094.457877</td>\n",
              "    </tr>\n",
              "    <tr>\n",
              "      <th>2015-12-01</th>\n",
              "      <td>0.124806</td>\n",
              "      <td>0.075649</td>\n",
              "      <td>57.333287</td>\n",
              "      <td>11648.833287</td>\n",
              "      <td>43.133526</td>\n",
              "      <td>12094.533526</td>\n",
              "    </tr>\n",
              "  </tbody>\n",
              "</table>\n",
              "</div>"
            ],
            "text/plain": [
              "                Money   Spending  ...  Spending1d  SpendingForecast\n",
              "2015-01-01 -12.191798  37.365311  ...   47.965311      12099.365311\n",
              "2015-02-01 -11.205112  -5.136945  ...   42.828367      12094.228367\n",
              "2015-03-01   1.885681  -0.115447  ...   42.712920      12094.112920\n",
              "2015-04-01  -1.831952  -0.365111  ...   42.347809      12093.747809\n",
              "2015-05-01   1.318704   0.279979  ...   42.627787      12094.027787\n",
              "2015-06-01  -0.579469  -0.055138  ...   42.572649      12093.972649\n",
              "2015-07-01   0.659448   0.172887  ...   42.745537      12094.145537\n",
              "2015-08-01  -0.132621   0.028596  ...   42.774133      12094.174133\n",
              "2015-09-01   0.376422   0.121573  ...   42.895706      12094.295706\n",
              "2015-10-01   0.049707   0.061938  ...   42.957644      12094.357644\n",
              "2015-11-01   0.259471   0.100232  ...   43.057877      12094.457877\n",
              "2015-12-01   0.124806   0.075649  ...   43.133526      12094.533526\n",
              "\n",
              "[12 rows x 6 columns]"
            ]
          },
          "metadata": {
            "tags": []
          },
          "execution_count": 32
        }
      ]
    },
    {
      "cell_type": "code",
      "metadata": {
        "id": "3yVbD5qMea0x",
        "colab_type": "code",
        "colab": {
          "base_uri": "https://localhost:8080/",
          "height": 452
        },
        "outputId": "4542c4a5-8c89-4841-b275-44434a9259a2"
      },
      "source": [
        "pd.concat([df.iloc[-12:], df_forecast[['MoneyForecast', 'SpendingForecast']]], axis = 1)"
      ],
      "execution_count": 33,
      "outputs": [
        {
          "output_type": "execute_result",
          "data": {
            "text/html": [
              "<div>\n",
              "<style scoped>\n",
              "    .dataframe tbody tr th:only-of-type {\n",
              "        vertical-align: middle;\n",
              "    }\n",
              "\n",
              "    .dataframe tbody tr th {\n",
              "        vertical-align: top;\n",
              "    }\n",
              "\n",
              "    .dataframe thead th {\n",
              "        text-align: right;\n",
              "    }\n",
              "</style>\n",
              "<table border=\"1\" class=\"dataframe\">\n",
              "  <thead>\n",
              "    <tr style=\"text-align: right;\">\n",
              "      <th></th>\n",
              "      <th>Money</th>\n",
              "      <th>Spending</th>\n",
              "      <th>MoneyForecast</th>\n",
              "      <th>SpendingForecast</th>\n",
              "    </tr>\n",
              "    <tr>\n",
              "      <th>Date</th>\n",
              "      <th></th>\n",
              "      <th></th>\n",
              "      <th></th>\n",
              "      <th></th>\n",
              "    </tr>\n",
              "  </thead>\n",
              "  <tbody>\n",
              "    <tr>\n",
              "      <th>2015-01-01</th>\n",
              "      <td>11733.2</td>\n",
              "      <td>12046.0</td>\n",
              "      <td>11657.908202</td>\n",
              "      <td>12099.365311</td>\n",
              "    </tr>\n",
              "    <tr>\n",
              "      <th>2015-02-01</th>\n",
              "      <td>11852.4</td>\n",
              "      <td>12082.4</td>\n",
              "      <td>11646.703090</td>\n",
              "      <td>12094.228367</td>\n",
              "    </tr>\n",
              "    <tr>\n",
              "      <th>2015-03-01</th>\n",
              "      <td>11868.8</td>\n",
              "      <td>12158.3</td>\n",
              "      <td>11648.588771</td>\n",
              "      <td>12094.112920</td>\n",
              "    </tr>\n",
              "    <tr>\n",
              "      <th>2015-04-01</th>\n",
              "      <td>11916.1</td>\n",
              "      <td>12193.8</td>\n",
              "      <td>11646.756819</td>\n",
              "      <td>12093.747809</td>\n",
              "    </tr>\n",
              "    <tr>\n",
              "      <th>2015-05-01</th>\n",
              "      <td>11947.6</td>\n",
              "      <td>12268.1</td>\n",
              "      <td>11648.075523</td>\n",
              "      <td>12094.027787</td>\n",
              "    </tr>\n",
              "    <tr>\n",
              "      <th>2015-06-01</th>\n",
              "      <td>11993.1</td>\n",
              "      <td>12308.3</td>\n",
              "      <td>11647.496054</td>\n",
              "      <td>12093.972649</td>\n",
              "    </tr>\n",
              "    <tr>\n",
              "      <th>2015-07-01</th>\n",
              "      <td>12045.3</td>\n",
              "      <td>12355.4</td>\n",
              "      <td>11648.155502</td>\n",
              "      <td>12094.145537</td>\n",
              "    </tr>\n",
              "    <tr>\n",
              "      <th>2015-08-01</th>\n",
              "      <td>12096.8</td>\n",
              "      <td>12394.0</td>\n",
              "      <td>11648.022880</td>\n",
              "      <td>12094.174133</td>\n",
              "    </tr>\n",
              "    <tr>\n",
              "      <th>2015-09-01</th>\n",
              "      <td>12153.8</td>\n",
              "      <td>12392.8</td>\n",
              "      <td>11648.399303</td>\n",
              "      <td>12094.295706</td>\n",
              "    </tr>\n",
              "    <tr>\n",
              "      <th>2015-10-01</th>\n",
              "      <td>12187.7</td>\n",
              "      <td>12416.1</td>\n",
              "      <td>11648.449010</td>\n",
              "      <td>12094.357644</td>\n",
              "    </tr>\n",
              "    <tr>\n",
              "      <th>2015-11-01</th>\n",
              "      <td>12277.4</td>\n",
              "      <td>12450.1</td>\n",
              "      <td>11648.708481</td>\n",
              "      <td>12094.457877</td>\n",
              "    </tr>\n",
              "    <tr>\n",
              "      <th>2015-12-01</th>\n",
              "      <td>12335.9</td>\n",
              "      <td>12469.1</td>\n",
              "      <td>11648.833287</td>\n",
              "      <td>12094.533526</td>\n",
              "    </tr>\n",
              "  </tbody>\n",
              "</table>\n",
              "</div>"
            ],
            "text/plain": [
              "              Money  Spending  MoneyForecast  SpendingForecast\n",
              "Date                                                          \n",
              "2015-01-01  11733.2   12046.0   11657.908202      12099.365311\n",
              "2015-02-01  11852.4   12082.4   11646.703090      12094.228367\n",
              "2015-03-01  11868.8   12158.3   11648.588771      12094.112920\n",
              "2015-04-01  11916.1   12193.8   11646.756819      12093.747809\n",
              "2015-05-01  11947.6   12268.1   11648.075523      12094.027787\n",
              "2015-06-01  11993.1   12308.3   11647.496054      12093.972649\n",
              "2015-07-01  12045.3   12355.4   11648.155502      12094.145537\n",
              "2015-08-01  12096.8   12394.0   11648.022880      12094.174133\n",
              "2015-09-01  12153.8   12392.8   11648.399303      12094.295706\n",
              "2015-10-01  12187.7   12416.1   11648.449010      12094.357644\n",
              "2015-11-01  12277.4   12450.1   11648.708481      12094.457877\n",
              "2015-12-01  12335.9   12469.1   11648.833287      12094.533526"
            ]
          },
          "metadata": {
            "tags": []
          },
          "execution_count": 33
        }
      ]
    },
    {
      "cell_type": "markdown",
      "metadata": {
        "id": "_LwE0xHFe4EM",
        "colab_type": "text"
      },
      "source": [
        "### Visualize Results"
      ]
    },
    {
      "cell_type": "code",
      "metadata": {
        "id": "Lgi9eLPne6oa",
        "colab_type": "code",
        "colab": {
          "base_uri": "https://localhost:8080/",
          "height": 512
        },
        "outputId": "b164676f-e5b8-43f1-aff1-292638452064"
      },
      "source": [
        "df['Money'][-num_of_obs:].plot(figsize = (12, 8), legend = True).autoscale(axis = 'x', tight = True);\n",
        "df_forecast['MoneyForecast'].plot(legend = True);"
      ],
      "execution_count": 34,
      "outputs": [
        {
          "output_type": "display_data",
          "data": {
            "image/png": "[encoded data removed]",
            "text/plain": [
              "<Figure size 864x576 with 1 Axes>"
            ]
          },
          "metadata": {
            "tags": []
          }
        }
      ]
    },
    {
      "cell_type": "code",
      "metadata": {
        "id": "x35XxpBofQsz",
        "colab_type": "code",
        "colab": {
          "base_uri": "https://localhost:8080/",
          "height": 512
        },
        "outputId": "d21540c6-28dc-4a73-980c-93f59b6c7f75"
      },
      "source": [
        "df['Spending'][-num_of_obs:].plot(figsize = (12, 8), legend = True).autoscale(axis = 'x', tight = True);\n",
        "df_forecast['SpendingForecast'].plot(legend = True);"
      ],
      "execution_count": 35,
      "outputs": [
        {
          "output_type": "display_data",
          "data": {
            "image/png": "[encoded data removed]",
            "text/plain": [
              "<Figure size 864x576 with 1 Axes>"
            ]
          },
          "metadata": {
            "tags": []
          }
        }
      ]
    },
    {
      "cell_type": "markdown",
      "metadata": {
        "id": "y1VZO8dfgWVB",
        "colab_type": "text"
      },
      "source": [
        "### Evaluate the model\n",
        "\n",
        "&nbsp;&nbsp;&nbsp;&nbsp;$RMSE = \\sqrt{{\\frac 1 L} \\sum\\limits_{l=1}^L (y_{T+l} - \\hat y_{T+l})^2}$<br><br>\n",
        "where $T$ is the last observation period and $l$ is the lag."
      ]
    },
    {
      "cell_type": "code",
      "metadata": {
        "id": "5A9HZ2eygK34",
        "colab_type": "code",
        "colab": {
          "base_uri": "https://localhost:8080/",
          "height": 34
        },
        "outputId": "fed811e2-d5f5-4936-f33a-d7c2ab22f90f"
      },
      "source": [
        "RMSE1 = rmse(df['Money'][-num_of_obs:], df_forecast['MoneyForecast'])\n",
        "print(f'Money VAR(5) RMSE: {RMSE1:.3f}')"
      ],
      "execution_count": 36,
      "outputs": [
        {
          "output_type": "stream",
          "text": [
            "Money VAR(5) RMSE: 423.363\n"
          ],
          "name": "stdout"
        }
      ]
    },
    {
      "cell_type": "code",
      "metadata": {
        "id": "26Btr6V8gawS",
        "colab_type": "code",
        "colab": {
          "base_uri": "https://localhost:8080/",
          "height": 34
        },
        "outputId": "fabcaf33-c152-4e2a-ac5f-9dc344a8b9c9"
      },
      "source": [
        "RMSE2 = rmse(df['Spending'][-num_of_obs:], df_forecast['SpendingForecast'])\n",
        "print(f'Spending VAR(5) RMSE: {RMSE2:.3f}')"
      ],
      "execution_count": 37,
      "outputs": [
        {
          "output_type": "stream",
          "text": [
            "Spending VAR(5) RMSE: 243.398\n"
          ],
          "name": "stdout"
        }
      ]
    },
    {
      "cell_type": "markdown",
      "metadata": {
        "id": "GYYd6ng9g1fA",
        "colab_type": "text"
      },
      "source": [
        "Clearly these results are less accurate than our earlier VAR(5) model. Still, this tells us something!\n",
        "## Comparing these results to individual ARMA(1,2) models"
      ]
    },
    {
      "cell_type": "code",
      "metadata": {
        "id": "YmyJA8CsglZB",
        "colab_type": "code",
        "colab": {}
      },
      "source": [
        "from statsmodels.tsa.arima_model import ARMA,ARMAResults"
      ],
      "execution_count": 0,
      "outputs": []
    },
    {
      "cell_type": "code",
      "metadata": {
        "id": "Ko_uOXyBg8da",
        "colab_type": "code",
        "colab": {
          "base_uri": "https://localhost:8080/",
          "height": 393
        },
        "outputId": "f933c2e2-874b-4da3-9db4-99543fc448bf"
      },
      "source": [
        "# Money\n",
        "\n",
        "model = ARMA(train['Money'],order=(1,2))\n",
        "results = model.fit()\n",
        "results.summary()"
      ],
      "execution_count": 39,
      "outputs": [
        {
          "output_type": "execute_result",
          "data": {
            "text/html": [
              "<table class=\"simpletable\">\n",
              "<caption>ARMA Model Results</caption>\n",
              "<tr>\n",
              "  <th>Dep. Variable:</th>       <td>Money</td>      <th>  No. Observations:  </th>    <td>238</td>   \n",
              "</tr>\n",
              "<tr>\n",
              "  <th>Model:</th>            <td>ARMA(1, 2)</td>    <th>  Log Likelihood     </th> <td>-1117.710</td>\n",
              "</tr>\n",
              "<tr>\n",
              "  <th>Method:</th>             <td>css-mle</td>     <th>  S.D. of innovations</th>  <td>26.215</td>  \n",
              "</tr>\n",
              "<tr>\n",
              "  <th>Date:</th>          <td>Sun, 21 Jul 2019</td> <th>  AIC                </th> <td>2245.421</td> \n",
              "</tr>\n",
              "<tr>\n",
              "  <th>Time:</th>              <td>15:26:33</td>     <th>  BIC                </th> <td>2262.782</td> \n",
              "</tr>\n",
              "<tr>\n",
              "  <th>Sample:</th>           <td>03-01-1995</td>    <th>  HQIC               </th> <td>2252.418</td> \n",
              "</tr>\n",
              "<tr>\n",
              "  <th></th>                 <td>- 12-01-2014</td>   <th>                     </th>     <td> </td>    \n",
              "</tr>\n",
              "</table>\n",
              "<table class=\"simpletable\">\n",
              "<tr>\n",
              "       <td></td>          <th>coef</th>     <th>std err</th>      <th>z</th>      <th>P>|z|</th>  <th>[0.025</th>    <th>0.975]</th>  \n",
              "</tr>\n",
              "<tr>\n",
              "  <th>const</th>       <td>    0.1814</td> <td>    0.029</td> <td>    6.302</td> <td> 0.000</td> <td>    0.125</td> <td>    0.238</td>\n",
              "</tr>\n",
              "<tr>\n",
              "  <th>ar.L1.Money</th> <td>   -0.3569</td> <td>    0.293</td> <td>   -1.217</td> <td> 0.225</td> <td>   -0.931</td> <td>    0.218</td>\n",
              "</tr>\n",
              "<tr>\n",
              "  <th>ma.L1.Money</th> <td>   -0.4087</td> <td>    0.260</td> <td>   -1.572</td> <td> 0.117</td> <td>   -0.918</td> <td>    0.101</td>\n",
              "</tr>\n",
              "<tr>\n",
              "  <th>ma.L2.Money</th> <td>   -0.5912</td> <td>    0.260</td> <td>   -2.278</td> <td> 0.024</td> <td>   -1.100</td> <td>   -0.083</td>\n",
              "</tr>\n",
              "</table>\n",
              "<table class=\"simpletable\">\n",
              "<caption>Roots</caption>\n",
              "<tr>\n",
              "    <td></td>   <th>            Real</th>  <th>         Imaginary</th> <th>         Modulus</th>  <th>        Frequency</th>\n",
              "</tr>\n",
              "<tr>\n",
              "  <th>AR.1</th> <td>          -2.8023</td> <td>          +0.0000j</td> <td>           2.8023</td> <td>           0.5000</td>\n",
              "</tr>\n",
              "<tr>\n",
              "  <th>MA.1</th> <td>           1.0001</td> <td>          +0.0000j</td> <td>           1.0001</td> <td>           0.0000</td>\n",
              "</tr>\n",
              "<tr>\n",
              "  <th>MA.2</th> <td>          -1.6913</td> <td>          +0.0000j</td> <td>           1.6913</td> <td>           0.5000</td>\n",
              "</tr>\n",
              "</table>"
            ],
            "text/plain": [
              "<class 'statsmodels.iolib.summary.Summary'>\n",
              "\"\"\"\n",
              "                              ARMA Model Results                              \n",
              "==============================================================================\n",
              "Dep. Variable:                  Money   No. Observations:                  238\n",
              "Model:                     ARMA(1, 2)   Log Likelihood               -1117.710\n",
              "Method:                       css-mle   S.D. of innovations             26.215\n",
              "Date:                Sun, 21 Jul 2019   AIC                           2245.421\n",
              "Time:                        15:26:33   BIC                           2262.782\n",
              "Sample:                    03-01-1995   HQIC                          2252.418\n",
              "                         - 12-01-2014                                         \n",
              "===============================================================================\n",
              "                  coef    std err          z      P>|z|      [0.025      0.975]\n",
              "-------------------------------------------------------------------------------\n",
              "const           0.1814      0.029      6.302      0.000       0.125       0.238\n",
              "ar.L1.Money    -0.3569      0.293     -1.217      0.225      -0.931       0.218\n",
              "ma.L1.Money    -0.4087      0.260     -1.572      0.117      -0.918       0.101\n",
              "ma.L2.Money    -0.5912      0.260     -2.278      0.024      -1.100      -0.083\n",
              "                                    Roots                                    \n",
              "=============================================================================\n",
              "                  Real          Imaginary           Modulus         Frequency\n",
              "-----------------------------------------------------------------------------\n",
              "AR.1           -2.8023           +0.0000j            2.8023            0.5000\n",
              "MA.1            1.0001           +0.0000j            1.0001            0.0000\n",
              "MA.2           -1.6913           +0.0000j            1.6913            0.5000\n",
              "-----------------------------------------------------------------------------\n",
              "\"\"\""
            ]
          },
          "metadata": {
            "tags": []
          },
          "execution_count": 39
        }
      ]
    },
    {
      "cell_type": "code",
      "metadata": {
        "id": "y82YtdfDg_4e",
        "colab_type": "code",
        "colab": {}
      },
      "source": [
        "start=len(train)\n",
        "end=len(train)+len(test)-1\n",
        "z1 = results.predict(start=start, end=end).rename('Money')\n",
        "z1 = pd.DataFrame(z1)"
      ],
      "execution_count": 0,
      "outputs": []
    },
    {
      "cell_type": "code",
      "metadata": {
        "id": "5KmumGaShIrI",
        "colab_type": "code",
        "colab": {
          "base_uri": "https://localhost:8080/",
          "height": 421
        },
        "outputId": "b5753310-7f0b-401a-f06a-fcc79431ac62"
      },
      "source": [
        "z1"
      ],
      "execution_count": 41,
      "outputs": [
        {
          "output_type": "execute_result",
          "data": {
            "text/html": [
              "<div>\n",
              "<style scoped>\n",
              "    .dataframe tbody tr th:only-of-type {\n",
              "        vertical-align: middle;\n",
              "    }\n",
              "\n",
              "    .dataframe tbody tr th {\n",
              "        vertical-align: top;\n",
              "    }\n",
              "\n",
              "    .dataframe thead th {\n",
              "        text-align: right;\n",
              "    }\n",
              "</style>\n",
              "<table border=\"1\" class=\"dataframe\">\n",
              "  <thead>\n",
              "    <tr style=\"text-align: right;\">\n",
              "      <th></th>\n",
              "      <th>Money</th>\n",
              "    </tr>\n",
              "  </thead>\n",
              "  <tbody>\n",
              "    <tr>\n",
              "      <th>2015-01-01</th>\n",
              "      <td>-14.498594</td>\n",
              "    </tr>\n",
              "    <tr>\n",
              "      <th>2015-02-01</th>\n",
              "      <td>-10.946732</td>\n",
              "    </tr>\n",
              "    <tr>\n",
              "      <th>2015-03-01</th>\n",
              "      <td>4.152525</td>\n",
              "    </tr>\n",
              "    <tr>\n",
              "      <th>2015-04-01</th>\n",
              "      <td>-1.235720</td>\n",
              "    </tr>\n",
              "    <tr>\n",
              "      <th>2015-05-01</th>\n",
              "      <td>0.687102</td>\n",
              "    </tr>\n",
              "    <tr>\n",
              "      <th>2015-06-01</th>\n",
              "      <td>0.000933</td>\n",
              "    </tr>\n",
              "    <tr>\n",
              "      <th>2015-07-01</th>\n",
              "      <td>0.245796</td>\n",
              "    </tr>\n",
              "    <tr>\n",
              "      <th>2015-08-01</th>\n",
              "      <td>0.158415</td>\n",
              "    </tr>\n",
              "    <tr>\n",
              "      <th>2015-09-01</th>\n",
              "      <td>0.189597</td>\n",
              "    </tr>\n",
              "    <tr>\n",
              "      <th>2015-10-01</th>\n",
              "      <td>0.178470</td>\n",
              "    </tr>\n",
              "    <tr>\n",
              "      <th>2015-11-01</th>\n",
              "      <td>0.182441</td>\n",
              "    </tr>\n",
              "    <tr>\n",
              "      <th>2015-12-01</th>\n",
              "      <td>0.181024</td>\n",
              "    </tr>\n",
              "  </tbody>\n",
              "</table>\n",
              "</div>"
            ],
            "text/plain": [
              "                Money\n",
              "2015-01-01 -14.498594\n",
              "2015-02-01 -10.946732\n",
              "2015-03-01   4.152525\n",
              "2015-04-01  -1.235720\n",
              "2015-05-01   0.687102\n",
              "2015-06-01   0.000933\n",
              "2015-07-01   0.245796\n",
              "2015-08-01   0.158415\n",
              "2015-09-01   0.189597\n",
              "2015-10-01   0.178470\n",
              "2015-11-01   0.182441\n",
              "2015-12-01   0.181024"
            ]
          },
          "metadata": {
            "tags": []
          },
          "execution_count": 41
        }
      ]
    },
    {
      "cell_type": "markdown",
      "metadata": {
        "id": "CLjDFZwdJ7-4",
        "colab_type": "text"
      },
      "source": [
        "### Reverse Differences, Evaluate Forecast\n"
      ]
    },
    {
      "cell_type": "code",
      "metadata": {
        "id": "ZYilK2WshK3s",
        "colab_type": "code",
        "colab": {}
      },
      "source": [
        "# Add the most recent first difference from the training set to the forecast cumulative sum\n",
        "z1['Money1d'] = (df['Money'].iloc[-num_of_obs-1]-df['Money'].iloc[-num_of_obs-2]) + z1['Money'].cumsum()\n",
        "\n",
        "# Now build the forecast values from the first difference set\n",
        "z1['MoneyForecast'] = df['Money'].iloc[-num_of_obs-1] + z1['Money1d'].cumsum()"
      ],
      "execution_count": 0,
      "outputs": []
    },
    {
      "cell_type": "code",
      "metadata": {
        "id": "y8I7eb6jKGWM",
        "colab_type": "code",
        "colab": {
          "base_uri": "https://localhost:8080/",
          "height": 421
        },
        "outputId": "e19c992e-c911-4ee2-c61c-1404f8b6f9ad"
      },
      "source": [
        "z1"
      ],
      "execution_count": 44,
      "outputs": [
        {
          "output_type": "execute_result",
          "data": {
            "text/html": [
              "<div>\n",
              "<style scoped>\n",
              "    .dataframe tbody tr th:only-of-type {\n",
              "        vertical-align: middle;\n",
              "    }\n",
              "\n",
              "    .dataframe tbody tr th {\n",
              "        vertical-align: top;\n",
              "    }\n",
              "\n",
              "    .dataframe thead th {\n",
              "        text-align: right;\n",
              "    }\n",
              "</style>\n",
              "<table border=\"1\" class=\"dataframe\">\n",
              "  <thead>\n",
              "    <tr style=\"text-align: right;\">\n",
              "      <th></th>\n",
              "      <th>Money</th>\n",
              "      <th>Money1d</th>\n",
              "      <th>MoneyForecast</th>\n",
              "    </tr>\n",
              "  </thead>\n",
              "  <tbody>\n",
              "    <tr>\n",
              "      <th>2015-01-01</th>\n",
              "      <td>-14.498594</td>\n",
              "      <td>64.101406</td>\n",
              "      <td>11734.201406</td>\n",
              "    </tr>\n",
              "    <tr>\n",
              "      <th>2015-02-01</th>\n",
              "      <td>-10.946732</td>\n",
              "      <td>53.154674</td>\n",
              "      <td>11787.356080</td>\n",
              "    </tr>\n",
              "    <tr>\n",
              "      <th>2015-03-01</th>\n",
              "      <td>4.152525</td>\n",
              "      <td>57.307199</td>\n",
              "      <td>11844.663279</td>\n",
              "    </tr>\n",
              "    <tr>\n",
              "      <th>2015-04-01</th>\n",
              "      <td>-1.235720</td>\n",
              "      <td>56.071478</td>\n",
              "      <td>11900.734757</td>\n",
              "    </tr>\n",
              "    <tr>\n",
              "      <th>2015-05-01</th>\n",
              "      <td>0.687102</td>\n",
              "      <td>56.758580</td>\n",
              "      <td>11957.493338</td>\n",
              "    </tr>\n",
              "    <tr>\n",
              "      <th>2015-06-01</th>\n",
              "      <td>0.000933</td>\n",
              "      <td>56.759513</td>\n",
              "      <td>12014.252851</td>\n",
              "    </tr>\n",
              "    <tr>\n",
              "      <th>2015-07-01</th>\n",
              "      <td>0.245796</td>\n",
              "      <td>57.005309</td>\n",
              "      <td>12071.258160</td>\n",
              "    </tr>\n",
              "    <tr>\n",
              "      <th>2015-08-01</th>\n",
              "      <td>0.158415</td>\n",
              "      <td>57.163724</td>\n",
              "      <td>12128.421884</td>\n",
              "    </tr>\n",
              "    <tr>\n",
              "      <th>2015-09-01</th>\n",
              "      <td>0.189597</td>\n",
              "      <td>57.353322</td>\n",
              "      <td>12185.775206</td>\n",
              "    </tr>\n",
              "    <tr>\n",
              "      <th>2015-10-01</th>\n",
              "      <td>0.178470</td>\n",
              "      <td>57.531792</td>\n",
              "      <td>12243.306998</td>\n",
              "    </tr>\n",
              "    <tr>\n",
              "      <th>2015-11-01</th>\n",
              "      <td>0.182441</td>\n",
              "      <td>57.714233</td>\n",
              "      <td>12301.021231</td>\n",
              "    </tr>\n",
              "    <tr>\n",
              "      <th>2015-12-01</th>\n",
              "      <td>0.181024</td>\n",
              "      <td>57.895257</td>\n",
              "      <td>12358.916487</td>\n",
              "    </tr>\n",
              "  </tbody>\n",
              "</table>\n",
              "</div>"
            ],
            "text/plain": [
              "                Money    Money1d  MoneyForecast\n",
              "2015-01-01 -14.498594  64.101406   11734.201406\n",
              "2015-02-01 -10.946732  53.154674   11787.356080\n",
              "2015-03-01   4.152525  57.307199   11844.663279\n",
              "2015-04-01  -1.235720  56.071478   11900.734757\n",
              "2015-05-01   0.687102  56.758580   11957.493338\n",
              "2015-06-01   0.000933  56.759513   12014.252851\n",
              "2015-07-01   0.245796  57.005309   12071.258160\n",
              "2015-08-01   0.158415  57.163724   12128.421884\n",
              "2015-09-01   0.189597  57.353322   12185.775206\n",
              "2015-10-01   0.178470  57.531792   12243.306998\n",
              "2015-11-01   0.182441  57.714233   12301.021231\n",
              "2015-12-01   0.181024  57.895257   12358.916487"
            ]
          },
          "metadata": {
            "tags": []
          },
          "execution_count": 44
        }
      ]
    },
    {
      "cell_type": "code",
      "metadata": {
        "id": "zjZnfk8HKtc9",
        "colab_type": "code",
        "colab": {
          "base_uri": "https://localhost:8080/",
          "height": 51
        },
        "outputId": "485dfb73-5925-4933-cc5c-e0a087e14bc9"
      },
      "source": [
        "RMSE3 = rmse(df['Money'][-num_of_obs:], z1['MoneyForecast'])\n",
        "\n",
        "print(f'Money VARMA(1,2) RMSE: {RMSE1:.3f}')\n",
        "print(f'Money  ARMA(1,2) RMSE: {RMSE3:.3f}')"
      ],
      "execution_count": 46,
      "outputs": [
        {
          "output_type": "stream",
          "text": [
            "Money VARMA(1,2) RMSE: 423.363\n",
            "Money  ARMA(1,2) RMSE: 32.238\n"
          ],
          "name": "stdout"
        }
      ]
    },
    {
      "cell_type": "markdown",
      "metadata": {
        "id": "G_PgtXDOK4rO",
        "colab_type": "text"
      },
      "source": [
        "### Personal Spending"
      ]
    },
    {
      "cell_type": "code",
      "metadata": {
        "id": "3h-gtjqQKx1b",
        "colab_type": "code",
        "colab": {
          "base_uri": "https://localhost:8080/",
          "height": 393
        },
        "outputId": "f0b44544-a666-46bd-f2f8-0deb0ff48aa3"
      },
      "source": [
        "model = ARMA(train['Spending'],order=(1,2))\n",
        "results = model.fit()\n",
        "results.summary()"
      ],
      "execution_count": 47,
      "outputs": [
        {
          "output_type": "execute_result",
          "data": {
            "text/html": [
              "<table class=\"simpletable\">\n",
              "<caption>ARMA Model Results</caption>\n",
              "<tr>\n",
              "  <th>Dep. Variable:</th>     <td>Spending</td>     <th>  No. Observations:  </th>    <td>238</td>   \n",
              "</tr>\n",
              "<tr>\n",
              "  <th>Model:</th>            <td>ARMA(1, 2)</td>    <th>  Log Likelihood     </th> <td>-1182.411</td>\n",
              "</tr>\n",
              "<tr>\n",
              "  <th>Method:</th>             <td>css-mle</td>     <th>  S.D. of innovations</th>  <td>34.661</td>  \n",
              "</tr>\n",
              "<tr>\n",
              "  <th>Date:</th>          <td>Sun, 21 Jul 2019</td> <th>  AIC                </th> <td>2374.823</td> \n",
              "</tr>\n",
              "<tr>\n",
              "  <th>Time:</th>              <td>15:34:43</td>     <th>  BIC                </th> <td>2392.184</td> \n",
              "</tr>\n",
              "<tr>\n",
              "  <th>Sample:</th>           <td>03-01-1995</td>    <th>  HQIC               </th> <td>2381.820</td> \n",
              "</tr>\n",
              "<tr>\n",
              "  <th></th>                 <td>- 12-01-2014</td>   <th>                     </th>     <td> </td>    \n",
              "</tr>\n",
              "</table>\n",
              "<table class=\"simpletable\">\n",
              "<tr>\n",
              "         <td></td>           <th>coef</th>     <th>std err</th>      <th>z</th>      <th>P>|z|</th>  <th>[0.025</th>    <th>0.975]</th>  \n",
              "</tr>\n",
              "<tr>\n",
              "  <th>const</th>          <td>    0.0856</td> <td>    0.245</td> <td>    0.350</td> <td> 0.727</td> <td>   -0.394</td> <td>    0.565</td>\n",
              "</tr>\n",
              "<tr>\n",
              "  <th>ar.L1.Spending</th> <td>   -0.3403</td> <td>    0.511</td> <td>   -0.666</td> <td> 0.506</td> <td>   -1.342</td> <td>    0.661</td>\n",
              "</tr>\n",
              "<tr>\n",
              "  <th>ma.L1.Spending</th> <td>   -0.6451</td> <td>    0.521</td> <td>   -1.237</td> <td> 0.217</td> <td>   -1.667</td> <td>    0.377</td>\n",
              "</tr>\n",
              "<tr>\n",
              "  <th>ma.L2.Spending</th> <td>   -0.2139</td> <td>    0.485</td> <td>   -0.441</td> <td> 0.660</td> <td>   -1.165</td> <td>    0.737</td>\n",
              "</tr>\n",
              "</table>\n",
              "<table class=\"simpletable\">\n",
              "<caption>Roots</caption>\n",
              "<tr>\n",
              "    <td></td>   <th>            Real</th>  <th>         Imaginary</th> <th>         Modulus</th>  <th>        Frequency</th>\n",
              "</tr>\n",
              "<tr>\n",
              "  <th>AR.1</th> <td>          -2.9388</td> <td>          +0.0000j</td> <td>           2.9388</td> <td>           0.5000</td>\n",
              "</tr>\n",
              "<tr>\n",
              "  <th>MA.1</th> <td>           1.1281</td> <td>          +0.0000j</td> <td>           1.1281</td> <td>           0.0000</td>\n",
              "</tr>\n",
              "<tr>\n",
              "  <th>MA.2</th> <td>          -4.1440</td> <td>          +0.0000j</td> <td>           4.1440</td> <td>           0.5000</td>\n",
              "</tr>\n",
              "</table>"
            ],
            "text/plain": [
              "<class 'statsmodels.iolib.summary.Summary'>\n",
              "\"\"\"\n",
              "                              ARMA Model Results                              \n",
              "==============================================================================\n",
              "Dep. Variable:               Spending   No. Observations:                  238\n",
              "Model:                     ARMA(1, 2)   Log Likelihood               -1182.411\n",
              "Method:                       css-mle   S.D. of innovations             34.661\n",
              "Date:                Sun, 21 Jul 2019   AIC                           2374.823\n",
              "Time:                        15:34:43   BIC                           2392.184\n",
              "Sample:                    03-01-1995   HQIC                          2381.820\n",
              "                         - 12-01-2014                                         \n",
              "==================================================================================\n",
              "                     coef    std err          z      P>|z|      [0.025      0.975]\n",
              "----------------------------------------------------------------------------------\n",
              "const              0.0856      0.245      0.350      0.727      -0.394       0.565\n",
              "ar.L1.Spending    -0.3403      0.511     -0.666      0.506      -1.342       0.661\n",
              "ma.L1.Spending    -0.6451      0.521     -1.237      0.217      -1.667       0.377\n",
              "ma.L2.Spending    -0.2139      0.485     -0.441      0.660      -1.165       0.737\n",
              "                                    Roots                                    \n",
              "=============================================================================\n",
              "                  Real          Imaginary           Modulus         Frequency\n",
              "-----------------------------------------------------------------------------\n",
              "AR.1           -2.9388           +0.0000j            2.9388            0.5000\n",
              "MA.1            1.1281           +0.0000j            1.1281            0.0000\n",
              "MA.2           -4.1440           +0.0000j            4.1440            0.5000\n",
              "-----------------------------------------------------------------------------\n",
              "\"\"\""
            ]
          },
          "metadata": {
            "tags": []
          },
          "execution_count": 47
        }
      ]
    },
    {
      "cell_type": "code",
      "metadata": {
        "id": "mjEHYyX_K7uv",
        "colab_type": "code",
        "colab": {
          "base_uri": "https://localhost:8080/",
          "height": 421
        },
        "outputId": "753c6aad-0d75-4644-817e-dbe5eb8eb8dd"
      },
      "source": [
        "start=len(train)\n",
        "end=len(train)+len(test)-1\n",
        "z2 = results.predict(start=start, end=end).rename('Spending')\n",
        "z2 = pd.DataFrame(z2)\n",
        "z2"
      ],
      "execution_count": 48,
      "outputs": [
        {
          "output_type": "execute_result",
          "data": {
            "text/html": [
              "<div>\n",
              "<style scoped>\n",
              "    .dataframe tbody tr th:only-of-type {\n",
              "        vertical-align: middle;\n",
              "    }\n",
              "\n",
              "    .dataframe tbody tr th {\n",
              "        vertical-align: top;\n",
              "    }\n",
              "\n",
              "    .dataframe thead th {\n",
              "        text-align: right;\n",
              "    }\n",
              "</style>\n",
              "<table border=\"1\" class=\"dataframe\">\n",
              "  <thead>\n",
              "    <tr style=\"text-align: right;\">\n",
              "      <th></th>\n",
              "      <th>Spending</th>\n",
              "    </tr>\n",
              "  </thead>\n",
              "  <tbody>\n",
              "    <tr>\n",
              "      <th>2015-01-01</th>\n",
              "      <td>33.555877</td>\n",
              "    </tr>\n",
              "    <tr>\n",
              "      <th>2015-02-01</th>\n",
              "      <td>-3.338288</td>\n",
              "    </tr>\n",
              "    <tr>\n",
              "      <th>2015-03-01</th>\n",
              "      <td>1.250691</td>\n",
              "    </tr>\n",
              "    <tr>\n",
              "      <th>2015-04-01</th>\n",
              "      <td>-0.310820</td>\n",
              "    </tr>\n",
              "    <tr>\n",
              "      <th>2015-05-01</th>\n",
              "      <td>0.220522</td>\n",
              "    </tr>\n",
              "    <tr>\n",
              "      <th>2015-06-01</th>\n",
              "      <td>0.039720</td>\n",
              "    </tr>\n",
              "    <tr>\n",
              "      <th>2015-07-01</th>\n",
              "      <td>0.101242</td>\n",
              "    </tr>\n",
              "    <tr>\n",
              "      <th>2015-08-01</th>\n",
              "      <td>0.080308</td>\n",
              "    </tr>\n",
              "    <tr>\n",
              "      <th>2015-09-01</th>\n",
              "      <td>0.087431</td>\n",
              "    </tr>\n",
              "    <tr>\n",
              "      <th>2015-10-01</th>\n",
              "      <td>0.085007</td>\n",
              "    </tr>\n",
              "    <tr>\n",
              "      <th>2015-11-01</th>\n",
              "      <td>0.085832</td>\n",
              "    </tr>\n",
              "    <tr>\n",
              "      <th>2015-12-01</th>\n",
              "      <td>0.085552</td>\n",
              "    </tr>\n",
              "  </tbody>\n",
              "</table>\n",
              "</div>"
            ],
            "text/plain": [
              "             Spending\n",
              "2015-01-01  33.555877\n",
              "2015-02-01  -3.338288\n",
              "2015-03-01   1.250691\n",
              "2015-04-01  -0.310820\n",
              "2015-05-01   0.220522\n",
              "2015-06-01   0.039720\n",
              "2015-07-01   0.101242\n",
              "2015-08-01   0.080308\n",
              "2015-09-01   0.087431\n",
              "2015-10-01   0.085007\n",
              "2015-11-01   0.085832\n",
              "2015-12-01   0.085552"
            ]
          },
          "metadata": {
            "tags": []
          },
          "execution_count": 48
        }
      ]
    },
    {
      "cell_type": "markdown",
      "metadata": {
        "id": "yPcJqh8nLX-0",
        "colab_type": "text"
      },
      "source": [
        "### Reverse Differences, Evaluate Forecast"
      ]
    },
    {
      "cell_type": "code",
      "metadata": {
        "id": "dAxu_oNyK_Br",
        "colab_type": "code",
        "colab": {}
      },
      "source": [
        "# Add the most recent first difference from the training set to the forecast cumulative sum\n",
        "z2['Spending1d'] = (df['Spending'].iloc[-num_of_obs-1]-df['Spending'].iloc[-num_of_obs-2]) + z2['Spending'].cumsum()\n",
        "\n",
        "# Now build the forecast values from the first difference set\n",
        "z2['SpendingForecast'] = df['Spending'].iloc[-num_of_obs-1] + z2['Spending1d'].cumsum()"
      ],
      "execution_count": 0,
      "outputs": []
    },
    {
      "cell_type": "code",
      "metadata": {
        "id": "9FUl2q5FLa7P",
        "colab_type": "code",
        "colab": {
          "base_uri": "https://localhost:8080/",
          "height": 421
        },
        "outputId": "06314444-4acc-4b81-9386-1d1db4f50dbb"
      },
      "source": [
        "z2"
      ],
      "execution_count": 51,
      "outputs": [
        {
          "output_type": "execute_result",
          "data": {
            "text/html": [
              "<div>\n",
              "<style scoped>\n",
              "    .dataframe tbody tr th:only-of-type {\n",
              "        vertical-align: middle;\n",
              "    }\n",
              "\n",
              "    .dataframe tbody tr th {\n",
              "        vertical-align: top;\n",
              "    }\n",
              "\n",
              "    .dataframe thead th {\n",
              "        text-align: right;\n",
              "    }\n",
              "</style>\n",
              "<table border=\"1\" class=\"dataframe\">\n",
              "  <thead>\n",
              "    <tr style=\"text-align: right;\">\n",
              "      <th></th>\n",
              "      <th>Spending</th>\n",
              "      <th>Spending1d</th>\n",
              "      <th>SpendingForecast</th>\n",
              "    </tr>\n",
              "  </thead>\n",
              "  <tbody>\n",
              "    <tr>\n",
              "      <th>2015-01-01</th>\n",
              "      <td>33.555877</td>\n",
              "      <td>44.155877</td>\n",
              "      <td>12106.155877</td>\n",
              "    </tr>\n",
              "    <tr>\n",
              "      <th>2015-02-01</th>\n",
              "      <td>-3.338288</td>\n",
              "      <td>40.817589</td>\n",
              "      <td>12146.973466</td>\n",
              "    </tr>\n",
              "    <tr>\n",
              "      <th>2015-03-01</th>\n",
              "      <td>1.250691</td>\n",
              "      <td>42.068280</td>\n",
              "      <td>12189.041745</td>\n",
              "    </tr>\n",
              "    <tr>\n",
              "      <th>2015-04-01</th>\n",
              "      <td>-0.310820</td>\n",
              "      <td>41.757460</td>\n",
              "      <td>12230.799206</td>\n",
              "    </tr>\n",
              "    <tr>\n",
              "      <th>2015-05-01</th>\n",
              "      <td>0.220522</td>\n",
              "      <td>41.977982</td>\n",
              "      <td>12272.777188</td>\n",
              "    </tr>\n",
              "    <tr>\n",
              "      <th>2015-06-01</th>\n",
              "      <td>0.039720</td>\n",
              "      <td>42.017702</td>\n",
              "      <td>12314.794890</td>\n",
              "    </tr>\n",
              "    <tr>\n",
              "      <th>2015-07-01</th>\n",
              "      <td>0.101242</td>\n",
              "      <td>42.118945</td>\n",
              "      <td>12356.913835</td>\n",
              "    </tr>\n",
              "    <tr>\n",
              "      <th>2015-08-01</th>\n",
              "      <td>0.080308</td>\n",
              "      <td>42.199253</td>\n",
              "      <td>12399.113088</td>\n",
              "    </tr>\n",
              "    <tr>\n",
              "      <th>2015-09-01</th>\n",
              "      <td>0.087431</td>\n",
              "      <td>42.286684</td>\n",
              "      <td>12441.399772</td>\n",
              "    </tr>\n",
              "    <tr>\n",
              "      <th>2015-10-01</th>\n",
              "      <td>0.085007</td>\n",
              "      <td>42.371692</td>\n",
              "      <td>12483.771463</td>\n",
              "    </tr>\n",
              "    <tr>\n",
              "      <th>2015-11-01</th>\n",
              "      <td>0.085832</td>\n",
              "      <td>42.457524</td>\n",
              "      <td>12526.228987</td>\n",
              "    </tr>\n",
              "    <tr>\n",
              "      <th>2015-12-01</th>\n",
              "      <td>0.085552</td>\n",
              "      <td>42.543075</td>\n",
              "      <td>12568.772063</td>\n",
              "    </tr>\n",
              "  </tbody>\n",
              "</table>\n",
              "</div>"
            ],
            "text/plain": [
              "             Spending  Spending1d  SpendingForecast\n",
              "2015-01-01  33.555877   44.155877      12106.155877\n",
              "2015-02-01  -3.338288   40.817589      12146.973466\n",
              "2015-03-01   1.250691   42.068280      12189.041745\n",
              "2015-04-01  -0.310820   41.757460      12230.799206\n",
              "2015-05-01   0.220522   41.977982      12272.777188\n",
              "2015-06-01   0.039720   42.017702      12314.794890\n",
              "2015-07-01   0.101242   42.118945      12356.913835\n",
              "2015-08-01   0.080308   42.199253      12399.113088\n",
              "2015-09-01   0.087431   42.286684      12441.399772\n",
              "2015-10-01   0.085007   42.371692      12483.771463\n",
              "2015-11-01   0.085832   42.457524      12526.228987\n",
              "2015-12-01   0.085552   42.543075      12568.772063"
            ]
          },
          "metadata": {
            "tags": []
          },
          "execution_count": 51
        }
      ]
    },
    {
      "cell_type": "code",
      "metadata": {
        "id": "2tju6kLKLqbv",
        "colab_type": "code",
        "colab": {
          "base_uri": "https://localhost:8080/",
          "height": 51
        },
        "outputId": "80c303e2-3416-4f9e-a129-75f6b7ba1f00"
      },
      "source": [
        "RMSE4 = rmse(df['Money'][-num_of_obs:], z1['MoneyForecast'])\n",
        "\n",
        "print(f'Money VARMA(1,2) RMSE: {RMSE1:.3f}')\n",
        "print(f'Money  ARMA(1,2) RMSE: {RMSE3:.3f}')"
      ],
      "execution_count": 52,
      "outputs": [
        {
          "output_type": "stream",
          "text": [
            "Money VARMA(1,2) RMSE: 423.363\n",
            "Money  ARMA(1,2) RMSE: 32.238\n"
          ],
          "name": "stdout"
        }
      ]
    }
  ]
}