{
  "nbformat": 4,
  "nbformat_minor": 0,
  "metadata": {
    "colab": {
      "name": "cdQA.ipynb",
      "version": "0.3.2",
      "provenance": [],
      "collapsed_sections": [],
      "include_colab_link": true
    },
    "kernelspec": {
      "name": "python3",
      "display_name": "Python 3"
    },
    "accelerator": "GPU"
  },
  "cells": [
    {
      "cell_type": "markdown",
      "metadata": {
        "id": "view-in-github",
        "colab_type": "text"
      },
      "source": [
        "<a href=\"https://colab.research.google.com/github/GabeMaldonado/JupyterNotebooks/blob/master/cdQA.ipynb\" target=\"_parent\"><img src=\"https://colab.research.google.com/assets/colab-badge.svg\" alt=\"Open In Colab\"/></a>"
      ]
    },
    {
      "cell_type": "code",
      "metadata": {
        "id": "OOZzZZodwtWe",
        "colab_type": "code",
        "colab": {
          "base_uri": "https://localhost:8080/",
          "height": 952
        },
        "outputId": "2b972972-613b-401e-ff27-c82cdaba75ad"
      },
      "source": [
        "# install cdQa\n",
        "pip install cdqa"
      ],
      "execution_count": 6,
      "outputs": [
        {
          "output_type": "stream",
          "text": [
            "Collecting cdqa\n",
            "\u001b[?25l  Downloading https://files.pythonhosted.org/packages/76/18/dd0c3133c2e818e4e7a9d8b22d3ee861f2b92d538bbc6ce349efe7aecb94/cdqa-1.0.6.tar.gz (46kB)\n",
            "\r\u001b[K     |███████                         | 10kB 16.5MB/s eta 0:00:01\r\u001b[K     |██████████████                  | 20kB 4.7MB/s eta 0:00:01\r\u001b[K     |█████████████████████▏          | 30kB 6.6MB/s eta 0:00:01\r\u001b[K     |████████████████████████████▏   | 40kB 4.3MB/s eta 0:00:01\r\u001b[K     |████████████████████████████████| 51kB 4.6MB/s \n",
            "\u001b[?25hRequirement already satisfied: Flask in /usr/local/lib/python3.6/dist-packages (from cdqa) (1.1.1)\n",
            "Collecting flask_cors (from cdqa)\n",
            "  Downloading https://files.pythonhosted.org/packages/78/38/e68b11daa5d613e3a91e4bf3da76c94ac9ee0d9cd515af9c1ab80d36f709/Flask_Cors-3.0.8-py2.py3-none-any.whl\n",
            "Requirement already satisfied: joblib in /usr/local/lib/python3.6/dist-packages (from cdqa) (0.13.2)\n",
            "Requirement already satisfied: pandas in /usr/local/lib/python3.6/dist-packages (from cdqa) (0.24.2)\n",
            "Requirement already satisfied: prettytable in /usr/local/lib/python3.6/dist-packages (from cdqa) (0.7.2)\n",
            "Collecting pytorch_pretrained_bert (from cdqa)\n",
            "\u001b[?25l  Downloading https://files.pythonhosted.org/packages/d7/e0/c08d5553b89973d9a240605b9c12404bcf8227590de62bae27acbcfe076b/pytorch_pretrained_bert-0.6.2-py3-none-any.whl (123kB)\n",
            "\u001b[K     |████████████████████████████████| 133kB 18.4MB/s \n",
            "\u001b[?25hRequirement already satisfied: scikit_learn in /usr/local/lib/python3.6/dist-packages (from cdqa) (0.21.2)\n",
            "Collecting tika (from cdqa)\n",
            "  Downloading https://files.pythonhosted.org/packages/10/75/b566e446ffcf292f10c8d84c15a3d91615fe3d7ca8072a17c949d4e84b66/tika-1.19.tar.gz\n",
            "Requirement already satisfied: tqdm in /usr/local/lib/python3.6/dist-packages (from cdqa) (4.28.1)\n",
            "Collecting wget (from cdqa)\n",
            "  Downloading https://files.pythonhosted.org/packages/47/6a/62e288da7bcda82b935ff0c6cfe542970f04e29c756b0e147251b2fb251f/wget-3.2.zip\n",
            "Requirement already satisfied: itsdangerous>=0.24 in /usr/local/lib/python3.6/dist-packages (from Flask->cdqa) (1.1.0)\n",
            "Requirement already satisfied: Werkzeug>=0.15 in /usr/local/lib/python3.6/dist-packages (from Flask->cdqa) (0.15.5)\n",
            "Requirement already satisfied: Jinja2>=2.10.1 in /usr/local/lib/python3.6/dist-packages (from Flask->cdqa) (2.10.1)\n",
            "Requirement already satisfied: click>=5.1 in /usr/local/lib/python3.6/dist-packages (from Flask->cdqa) (7.0)\n",
            "Requirement already satisfied: Six in /usr/local/lib/python3.6/dist-packages (from flask_cors->cdqa) (1.12.0)\n",
            "Requirement already satisfied: pytz>=2011k in /usr/local/lib/python3.6/dist-packages (from pandas->cdqa) (2018.9)\n",
            "Requirement already satisfied: python-dateutil>=2.5.0 in /usr/local/lib/python3.6/dist-packages (from pandas->cdqa) (2.5.3)\n",
            "Requirement already satisfied: numpy>=1.12.0 in /usr/local/lib/python3.6/dist-packages (from pandas->cdqa) (1.16.4)\n",
            "Requirement already satisfied: requests in /usr/local/lib/python3.6/dist-packages (from pytorch_pretrained_bert->cdqa) (2.21.0)\n",
            "Collecting regex (from pytorch_pretrained_bert->cdqa)\n",
            "\u001b[?25l  Downloading https://files.pythonhosted.org/packages/6f/4e/1b178c38c9a1a184288f72065a65ca01f3154df43c6ad898624149b8b4e0/regex-2019.06.08.tar.gz (651kB)\n",
            "\u001b[K     |████████████████████████████████| 655kB 40.1MB/s \n",
            "\u001b[?25hRequirement already satisfied: torch>=0.4.1 in /usr/local/lib/python3.6/dist-packages (from pytorch_pretrained_bert->cdqa) (1.1.0)\n",
            "Requirement already satisfied: boto3 in /usr/local/lib/python3.6/dist-packages (from pytorch_pretrained_bert->cdqa) (1.9.189)\n",
            "Requirement already satisfied: scipy>=0.17.0 in /usr/local/lib/python3.6/dist-packages (from scikit_learn->cdqa) (1.3.0)\n",
            "Requirement already satisfied: setuptools in /usr/local/lib/python3.6/dist-packages (from tika->cdqa) (41.0.1)\n",
            "Requirement already satisfied: MarkupSafe>=0.23 in /usr/local/lib/python3.6/dist-packages (from Jinja2>=2.10.1->Flask->cdqa) (1.1.1)\n",
            "Requirement already satisfied: certifi>=2017.4.17 in /usr/local/lib/python3.6/dist-packages (from requests->pytorch_pretrained_bert->cdqa) (2019.6.16)\n",
            "Requirement already satisfied: urllib3<1.25,>=1.21.1 in /usr/local/lib/python3.6/dist-packages (from requests->pytorch_pretrained_bert->cdqa) (1.24.3)\n",
            "Requirement already satisfied: idna<2.9,>=2.5 in /usr/local/lib/python3.6/dist-packages (from requests->pytorch_pretrained_bert->cdqa) (2.8)\n",
            "Requirement already satisfied: chardet<3.1.0,>=3.0.2 in /usr/local/lib/python3.6/dist-packages (from requests->pytorch_pretrained_bert->cdqa) (3.0.4)\n",
            "Requirement already satisfied: jmespath<1.0.0,>=0.7.1 in /usr/local/lib/python3.6/dist-packages (from boto3->pytorch_pretrained_bert->cdqa) (0.9.4)\n",
            "Requirement already satisfied: s3transfer<0.3.0,>=0.2.0 in /usr/local/lib/python3.6/dist-packages (from boto3->pytorch_pretrained_bert->cdqa) (0.2.1)\n",
            "Requirement already satisfied: botocore<1.13.0,>=1.12.189 in /usr/local/lib/python3.6/dist-packages (from boto3->pytorch_pretrained_bert->cdqa) (1.12.189)\n",
            "Requirement already satisfied: docutils>=0.10 in /usr/local/lib/python3.6/dist-packages (from botocore<1.13.0,>=1.12.189->boto3->pytorch_pretrained_bert->cdqa) (0.14)\n",
            "Building wheels for collected packages: cdqa, tika, wget, regex\n",
            "  Building wheel for cdqa (setup.py) ... \u001b[?25l\u001b[?25hdone\n",
            "  Stored in directory: /root/.cache/pip/wheels/80/ef/b4/6b5d67b6baee6ece696e72b4092ca7f0b3aaeec2e084f61bf2\n",
            "  Building wheel for tika (setup.py) ... \u001b[?25l\u001b[?25hdone\n",
            "  Stored in directory: /root/.cache/pip/wheels/b4/db/8a/3a3f0c0725448eaa92703e3dda71e29dc13a119ff6c1036848\n",
            "  Building wheel for wget (setup.py) ... \u001b[?25l\u001b[?25hdone\n",
            "  Stored in directory: /root/.cache/pip/wheels/40/15/30/7d8f7cea2902b4db79e3fea550d7d7b85ecb27ef992b618f3f\n",
            "  Building wheel for regex (setup.py) ... \u001b[?25l\u001b[?25hdone\n",
            "  Stored in directory: /root/.cache/pip/wheels/35/e4/80/abf3b33ba89cf65cd262af8a22a5a999cc28fbfabea6b38473\n",
            "Successfully built cdqa tika wget regex\n",
            "Installing collected packages: flask-cors, regex, pytorch-pretrained-bert, tika, wget, cdqa\n",
            "Successfully installed cdqa-1.0.6 flask-cors-3.0.8 pytorch-pretrained-bert-0.6.2 regex-2019.6.8 tika-1.19 wget-3.2\n"
          ],
          "name": "stdout"
        }
      ]
    },
    {
      "cell_type": "code",
      "metadata": {
        "id": "Qd7yCqKAw5iJ",
        "colab_type": "code",
        "colab": {
          "base_uri": "https://localhost:8080/",
          "height": 51
        },
        "outputId": "fbf34453-2cfb-4246-db64-8b1fe04e2853"
      },
      "source": [
        "import pandas as pd\n",
        "from ast import literal_eval\n",
        "\n",
        "from cdqa.utils.filters import filter_paragraphs\n",
        "from cdqa.utils.download import download_model, download_bnpp_data\n",
        "from cdqa.pipeline.cdqa_sklearn import QAPipeline\n"
      ],
      "execution_count": 7,
      "outputs": [
        {
          "output_type": "stream",
          "text": [
            "/usr/local/lib/python3.6/dist-packages/tqdm/autonotebook/__init__.py:14: TqdmExperimentalWarning: Using `tqdm.autonotebook.tqdm` in notebook mode. Use `tqdm.tqdm` instead to force console mode (e.g. in jupyter console)\n",
            "  \" (e.g. in jupyter console)\", TqdmExperimentalWarning)\n"
          ],
          "name": "stderr"
        }
      ]
    },
    {
      "cell_type": "code",
      "metadata": {
        "id": "Fx0jAReMxdo1",
        "colab_type": "code",
        "colab": {
          "base_uri": "https://localhost:8080/",
          "height": 119
        },
        "outputId": "99833a6c-fdd6-4cbb-c024-d65da95a6c02"
      },
      "source": [
        "# Download Data and Models\n",
        "\n",
        "download_bnpp_data(dir='./data/bnpp_newsroom_v1.1/')\n",
        "download_model(model='bert-squad_1.1', dir='./models')"
      ],
      "execution_count": 11,
      "outputs": [
        {
          "output_type": "stream",
          "text": [
            "\n",
            "Downloading BNP data...\n",
            "bnpp_newsroom-v1.1.csv already downloaded\n",
            "\n",
            "Downloading trained model...\n",
            "bert_qa_vCPU-sklearn.joblib already downloaded\n"
          ],
          "name": "stdout"
        }
      ]
    },
    {
      "cell_type": "code",
      "metadata": {
        "id": "UIuyul7DxyG3",
        "colab_type": "code",
        "colab": {
          "base_uri": "https://localhost:8080/",
          "height": 204
        },
        "outputId": "7c177a69-5b56-4c62-c9de-5aa40ec13842"
      },
      "source": [
        "# Load and filter data / preprocess docs\n",
        "\n",
        "df = pd.read_csv('data/bnpp_newsroom_v1.1/bnpp_newsroom-v1.1.csv', converters={'paragraphs': literal_eval})\n",
        "df = filter_paragraphs(df)\n",
        "df.head()"
      ],
      "execution_count": 12,
      "outputs": [
        {
          "output_type": "execute_result",
          "data": {
            "text/html": [
              "<div>\n",
              "<style scoped>\n",
              "    .dataframe tbody tr th:only-of-type {\n",
              "        vertical-align: middle;\n",
              "    }\n",
              "\n",
              "    .dataframe tbody tr th {\n",
              "        vertical-align: top;\n",
              "    }\n",
              "\n",
              "    .dataframe thead th {\n",
              "        text-align: right;\n",
              "    }\n",
              "</style>\n",
              "<table border=\"1\" class=\"dataframe\">\n",
              "  <thead>\n",
              "    <tr style=\"text-align: right;\">\n",
              "      <th></th>\n",
              "      <th>date</th>\n",
              "      <th>title</th>\n",
              "      <th>category</th>\n",
              "      <th>link</th>\n",
              "      <th>abstract</th>\n",
              "      <th>paragraphs</th>\n",
              "    </tr>\n",
              "  </thead>\n",
              "  <tbody>\n",
              "    <tr>\n",
              "      <th>0</th>\n",
              "      <td>13.05.2019</td>\n",
              "      <td>The banking jobs : Assistant Vice President – ...</td>\n",
              "      <td>Careers</td>\n",
              "      <td>https://group.bnpparibas/en/news/banking-jobs-...</td>\n",
              "      <td>Within the Group’s Corporate and Institutional...</td>\n",
              "      <td>[I manage a team in charge of designing and im...</td>\n",
              "    </tr>\n",
              "    <tr>\n",
              "      <th>1</th>\n",
              "      <td>13.05.2019</td>\n",
              "      <td>BNP Paribas at #VivaTech : discover the progra...</td>\n",
              "      <td>Innovation</td>\n",
              "      <td>https://group.bnpparibas/en/news/bnp-paribas-v...</td>\n",
              "      <td>From Thursday 16 to Saturday 18 May 2019, join...</td>\n",
              "      <td>[With François Hollande, Chairman of French fo...</td>\n",
              "    </tr>\n",
              "    <tr>\n",
              "      <th>2</th>\n",
              "      <td>13.05.2019</td>\n",
              "      <td>\"The bank with an IT budget of more than EUR6 ...</td>\n",
              "      <td>Group</td>\n",
              "      <td>https://group.bnpparibas/en/news/the-bank-budg...</td>\n",
              "      <td>Interview with Jean-Laurent Bonnafé, Director ...</td>\n",
              "      <td>[We did the groundwork between 2012 and 2016, ...</td>\n",
              "    </tr>\n",
              "    <tr>\n",
              "      <th>3</th>\n",
              "      <td>10.05.2019</td>\n",
              "      <td>BNP Paribas at #VivaTech : discover the progra...</td>\n",
              "      <td>Innovation</td>\n",
              "      <td>https://group.bnpparibas/en/news/bnp-paribas-v...</td>\n",
              "      <td>From Thursday 16 to Saturday 18 May 2019, join...</td>\n",
              "      <td>[As part of the ‘United Tech of Europe’ theme,...</td>\n",
              "    </tr>\n",
              "    <tr>\n",
              "      <th>4</th>\n",
              "      <td>10.05.2019</td>\n",
              "      <td>When Artificial Intelligence participates in r...</td>\n",
              "      <td>Careers</td>\n",
              "      <td>https://group.bnpparibas/en/news/artificial-in...</td>\n",
              "      <td>As the competition to attract talent intensifi...</td>\n",
              "      <td>[Online recruitment is already the norm. Accor...</td>\n",
              "    </tr>\n",
              "  </tbody>\n",
              "</table>\n",
              "</div>"
            ],
            "text/plain": [
              "         date  ...                                         paragraphs\n",
              "0  13.05.2019  ...  [I manage a team in charge of designing and im...\n",
              "1  13.05.2019  ...  [With François Hollande, Chairman of French fo...\n",
              "2  13.05.2019  ...  [We did the groundwork between 2012 and 2016, ...\n",
              "3  10.05.2019  ...  [As part of the ‘United Tech of Europe’ theme,...\n",
              "4  10.05.2019  ...  [Online recruitment is already the norm. Accor...\n",
              "\n",
              "[5 rows x 6 columns]"
            ]
          },
          "metadata": {
            "tags": []
          },
          "execution_count": 12
        }
      ]
    },
    {
      "cell_type": "code",
      "metadata": {
        "id": "D52zJp3k5mrb",
        "colab_type": "code",
        "colab": {
          "base_uri": "https://localhost:8080/",
          "height": 204
        },
        "outputId": "c4bb6b3e-e2cb-4180-e3fd-fd54ece633bd"
      },
      "source": [
        "df.tail()"
      ],
      "execution_count": 22,
      "outputs": [
        {
          "output_type": "execute_result",
          "data": {
            "text/html": [
              "<div>\n",
              "<style scoped>\n",
              "    .dataframe tbody tr th:only-of-type {\n",
              "        vertical-align: middle;\n",
              "    }\n",
              "\n",
              "    .dataframe tbody tr th {\n",
              "        vertical-align: top;\n",
              "    }\n",
              "\n",
              "    .dataframe thead th {\n",
              "        text-align: right;\n",
              "    }\n",
              "</style>\n",
              "<table border=\"1\" class=\"dataframe\">\n",
              "  <thead>\n",
              "    <tr style=\"text-align: right;\">\n",
              "      <th></th>\n",
              "      <th>date</th>\n",
              "      <th>title</th>\n",
              "      <th>category</th>\n",
              "      <th>link</th>\n",
              "      <th>abstract</th>\n",
              "      <th>paragraphs</th>\n",
              "      <th>content</th>\n",
              "    </tr>\n",
              "  </thead>\n",
              "  <tbody>\n",
              "    <tr>\n",
              "      <th>1322</th>\n",
              "      <td>05.04.2002</td>\n",
              "      <td>BNP Paribas title sponsor of the Davis Cup</td>\n",
              "      <td>Press release</td>\n",
              "      <td>https://group.bnpparibas/en/press-release/bnp-...</td>\n",
              "      <td>NaN</td>\n",
              "      <td>[BNP Paribas, one of the leading European bank...</td>\n",
              "      <td>BNP Paribas, one of the leading European banks...</td>\n",
              "    </tr>\n",
              "    <tr>\n",
              "      <th>1323</th>\n",
              "      <td>05.04.2002</td>\n",
              "      <td>BNP Paribas and the French Tennis Federation r...</td>\n",
              "      <td>Press release</td>\n",
              "      <td>https://group.bnpparibas/en/press-release/bnp-...</td>\n",
              "      <td>NaN</td>\n",
              "      <td>[BNP Paribas is also continuing its rewarding ...</td>\n",
              "      <td>BNP Paribas is also continuing its rewarding r...</td>\n",
              "    </tr>\n",
              "    <tr>\n",
              "      <th>1324</th>\n",
              "      <td>08.02.2002</td>\n",
              "      <td>BNP Paribas takes over as Title Sponsor</td>\n",
              "      <td>Press release</td>\n",
              "      <td>https://group.bnpparibas/en/press-release/bnp-...</td>\n",
              "      <td>NaN</td>\n",
              "      <td>[BNP Paribas, one of the leading European bank...</td>\n",
              "      <td>BNP Paribas, one of the leading European banks...</td>\n",
              "    </tr>\n",
              "    <tr>\n",
              "      <th>1325</th>\n",
              "      <td>17.11.2001</td>\n",
              "      <td>BNP Paribas brings its \"euro angels\" to Paris ...</td>\n",
              "      <td>Press release</td>\n",
              "      <td>https://group.bnpparibas/en/press-release/bnp-...</td>\n",
              "      <td>NaN</td>\n",
              "      <td>[The introduction of the euro will be a histor...</td>\n",
              "      <td>The introduction of the euro will be a histori...</td>\n",
              "    </tr>\n",
              "    <tr>\n",
              "      <th>1326</th>\n",
              "      <td>28.05.2001</td>\n",
              "      <td>BNP Paribas, a leading sponsor of tennis, unve...</td>\n",
              "      <td>Press release</td>\n",
              "      <td>https://group.bnpparibas/en/press-release/bnp-...</td>\n",
              "      <td>NaN</td>\n",
              "      <td>[For close to 28 years, BNP, and now BNP Parib...</td>\n",
              "      <td>For close to 28 years, BNP, and now BNP Pariba...</td>\n",
              "    </tr>\n",
              "  </tbody>\n",
              "</table>\n",
              "</div>"
            ],
            "text/plain": [
              "            date  ...                                            content\n",
              "1322  05.04.2002  ...  BNP Paribas, one of the leading European banks...\n",
              "1323  05.04.2002  ...  BNP Paribas is also continuing its rewarding r...\n",
              "1324  08.02.2002  ...  BNP Paribas, one of the leading European banks...\n",
              "1325  17.11.2001  ...  The introduction of the euro will be a histori...\n",
              "1326  28.05.2001  ...  For close to 28 years, BNP, and now BNP Pariba...\n",
              "\n",
              "[5 rows x 7 columns]"
            ]
          },
          "metadata": {
            "tags": []
          },
          "execution_count": 22
        }
      ]
    },
    {
      "cell_type": "code",
      "metadata": {
        "id": "muwI-ly3yYoz",
        "colab_type": "code",
        "colab": {}
      },
      "source": [
        "# Load QAPipeline with CPU versoin of BERT Reader pretrained on SQUAD 1.1\n",
        "cdqa_pipeline = QAPipeline(reader='models/bert_qa_vCPU-sklearn.joblib')"
      ],
      "execution_count": 0,
      "outputs": []
    },
    {
      "cell_type": "code",
      "metadata": {
        "id": "ReLrXHUIyu6-",
        "colab_type": "code",
        "colab": {
          "base_uri": "https://localhost:8080/",
          "height": 170
        },
        "outputId": "e31d41e1-2a1a-41d3-866f-340080066292"
      },
      "source": [
        "# Fit the retriever to the list of documents in the dataframe\n",
        "\n",
        "cdqa_pipeline.fit(X = df)"
      ],
      "execution_count": 16,
      "outputs": [
        {
          "output_type": "execute_result",
          "data": {
            "text/plain": [
              "QAPipeline(reader=BertQA(bert_model='bert-base-uncased', do_lower_case=True,\n",
              "                         fp16=False, gradient_accumulation_steps=1,\n",
              "                         learning_rate=3e-05, local_rank=-1, loss_scale=0,\n",
              "                         max_answer_length=30, n_best_size=20, no_cuda=False,\n",
              "                         null_score_diff_threshold=0.0, num_train_epochs=2,\n",
              "                         output_dir='models', predict_batch_size=8, seed=42,\n",
              "                         server_ip='', server_port='', train_batch_size=8,\n",
              "                         verbose_logging=False, version_2_with_negative=False,\n",
              "                         warmup_proportion=0.1))"
            ]
          },
          "metadata": {
            "tags": []
          },
          "execution_count": 16
        }
      ]
    },
    {
      "cell_type": "code",
      "metadata": {
        "id": "cFgcYb3Gy98A",
        "colab_type": "code",
        "colab": {
          "base_uri": "https://localhost:8080/",
          "height": 51
        },
        "outputId": "40dd790e-6f5b-4e2a-83f1-3142854749e3"
      },
      "source": [
        "# Send a question to the pipeline and get prediction\n",
        "query = 'When was the Excellence Program of BNP Paribas created'\n",
        "prediction = cdqa_pipeline.predict(X = query)"
      ],
      "execution_count": 17,
      "outputs": [
        {
          "output_type": "stream",
          "text": [
            "3it [00:00, 809.09it/s]\n",
            "100%|██████████| 231508/231508 [00:00<00:00, 934276.38B/s]\n"
          ],
          "name": "stderr"
        }
      ]
    },
    {
      "cell_type": "code",
      "metadata": {
        "id": "5SRKW7XzzW7s",
        "colab_type": "code",
        "colab": {
          "base_uri": "https://localhost:8080/",
          "height": 173
        },
        "outputId": "6dd7d714-092b-454d-b70f-c6bcb5ce929a"
      },
      "source": [
        "print('query: {}\\n'.format(query))\n",
        "print('answer:{}\\n'.format(prediction[0]))\n",
        "print('title: {}\\n'.format(prediction[1]))\n",
        "print('paragraph: {}\\n'.format(prediction[2]))"
      ],
      "execution_count": 18,
      "outputs": [
        {
          "output_type": "stream",
          "text": [
            "query: When was the Excellence Program of BNP Paribas created\n",
            "\n",
            "answer:January 2016\n",
            "\n",
            "title: BNP Paribas’ commitment to universities and schools\n",
            "\n",
            "paragraph: Since January 2016, BNP Paribas has offered an Excellence Program targeting new Master’s level graduates (BAC+5) who show high potential. The aid program lasts 18 months and comprises three assignments of six months each. It serves as a strong career accelerator that enables participants to access high-level management positions at a faster rate. The program allows participants to discover the BNP Paribas Group and its various entities in France and abroad, build an internal and external network by working on different assignments and receive personalized assistance from a mentor and coaching firm at every step along the way.\n",
            "\n"
          ],
          "name": "stdout"
        }
      ]
    },
    {
      "cell_type": "code",
      "metadata": {
        "id": "jkL47g5az1-T",
        "colab_type": "code",
        "colab": {
          "base_uri": "https://localhost:8080/",
          "height": 190
        },
        "outputId": "8a34f921-47d9-4c20-a378-68a3c1323d19"
      },
      "source": [
        "# Question # 2\n",
        "query2 = 'What is the Excellence Program of BNP Paribas'\n",
        "prediction = cdqa_pipeline.predict(X = query2)\n",
        "print('query2: {}\\n'.format(query2))\n",
        "print('answer:{}\\n'.format(prediction[0]))\n",
        "print('title: {}\\n'.format(prediction[1]))\n",
        "print('paragraph: {}\\n'.format(prediction[2]))"
      ],
      "execution_count": 19,
      "outputs": [
        {
          "output_type": "stream",
          "text": [
            "3it [00:00, 1213.40it/s]\n"
          ],
          "name": "stderr"
        },
        {
          "output_type": "stream",
          "text": [
            "query2: What is the Excellence Program of BNP Paribas\n",
            "\n",
            "answer:academic partnerships\n",
            "\n",
            "title: BNP Paribas’ commitment to universities and schools\n",
            "\n",
            "paragraph: This large-scale project will further expand in coming years, notably internationally. Gilles Deschanel, in charge of academic partnerships at BNP Paribas CIB, observes that “this partnership aims to become one of the leading research bodies in this immensely disruptive technology. It will also play a role in transforming the financial sector through publications and major events like VivaTech.”\n",
            "\n"
          ],
          "name": "stdout"
        }
      ]
    },
    {
      "cell_type": "code",
      "metadata": {
        "id": "OkeBr8Wo4EKU",
        "colab_type": "code",
        "colab": {
          "base_uri": "https://localhost:8080/",
          "height": 190
        },
        "cellView": "both",
        "outputId": "9dfba195-ca27-459b-c2d6-b23b8d4d0997"
      },
      "source": [
        "#@title\n",
        "# Question # 3\n",
        "query3 = 'How long is the aid program?'\n",
        "prediction = cdqa_pipeline.predict(X = query3)\n",
        "print('query3 {}\\n'.format(query3))\n",
        "print('answer:{}\\n'.format(prediction[0]))\n",
        "print('title: {}\\n'.format(prediction[1]))\n",
        "print('paragraph: {}\\n'.format(prediction[2]))"
      ],
      "execution_count": 25,
      "outputs": [
        {
          "output_type": "stream",
          "text": [
            "3it [00:00, 1596.82it/s]\n"
          ],
          "name": "stderr"
        },
        {
          "output_type": "stream",
          "text": [
            "query3 How long is the aid program?\n",
            "\n",
            "answer:18 months\n",
            "\n",
            "title: BNP Paribas’ commitment to universities and schools\n",
            "\n",
            "paragraph: Since January 2016, BNP Paribas has offered an Excellence Program targeting new Master’s level graduates (BAC+5) who show high potential. The aid program lasts 18 months and comprises three assignments of six months each. It serves as a strong career accelerator that enables participants to access high-level management positions at a faster rate. The program allows participants to discover the BNP Paribas Group and its various entities in France and abroad, build an internal and external network by working on different assignments and receive personalized assistance from a mentor and coaching firm at every step along the way.\n",
            "\n"
          ],
          "name": "stdout"
        }
      ]
    }
  ]
}