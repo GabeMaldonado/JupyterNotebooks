{
  "nbformat": 4,
  "nbformat_minor": 0,
  "metadata": {
    "kernelspec": {
      "display_name": "Python 3",
      "language": "python",
      "name": "python3"
    },
    "language_info": {
      "codemirror_mode": {
        "name": "ipython",
        "version": 3
      },
      "file_extension": ".py",
      "mimetype": "text/x-python",
      "name": "python",
      "nbconvert_exporter": "python",
      "pygments_lexer": "ipython3",
      "version": "3.8.5"
    },
    "colab": {
      "name": "nominals.ipynb",
      "provenance": [],
      "collapsed_sections": [],
      "toc_visible": true,
      "include_colab_link": true
    }
  },
  "cells": [
    {
      "cell_type": "markdown",
      "metadata": {
        "id": "view-in-github",
        "colab_type": "text"
      },
      "source": [
        "<a href=\"https://colab.research.google.com/github/GabeMaldonado/JupyterNotebooks/blob/master/nominals.ipynb\" target=\"_parent\"><img src=\"https://colab.research.google.com/assets/colab-badge.svg\" alt=\"Open In Colab\"/></a>"
      ]
    },
    {
      "cell_type": "code",
      "metadata": {
        "id": "-Gj9f8xs3f9J"
      },
      "source": [
        "%matplotlib inline"
      ],
      "execution_count": 1,
      "outputs": []
    },
    {
      "cell_type": "code",
      "metadata": {
        "id": "diZFhhLb3f9L"
      },
      "source": [
        "import numpy as np\n",
        "import pandas as pd\n",
        "from scipy import stats\n",
        "import matplotlib as mpl\n",
        "import matplotlib.pyplot as plt\n",
        "import seaborn as sns\n"
      ],
      "execution_count": 2,
      "outputs": []
    },
    {
      "cell_type": "markdown",
      "metadata": {
        "id": "ibRxTdrj3f9L"
      },
      "source": [
        "## Load data"
      ]
    },
    {
      "cell_type": "code",
      "metadata": {
        "colab": {
          "base_uri": "https://localhost:8080/",
          "height": 390
        },
        "id": "N-zEwKXC3f9L",
        "outputId": "47b98709-14ec-4380-fa26-00ac9fca72d4"
      },
      "source": [
        "df = pd.read_csv('/social-media.csv',\n",
        "                 index_col=0,\n",
        "                 usecols=['id', 'gender', 'pref_service'])\n",
        "\n",
        "# Set correct data types.\n",
        "df['gender'] = df['gender'].astype('category')\n",
        "df['pref_service'] = df['pref_service'].astype('category')\n",
        "df.sample(10).sort_values('id')"
      ],
      "execution_count": 5,
      "outputs": [
        {
          "output_type": "execute_result",
          "data": {
            "text/html": [
              "<div>\n",
              "<style scoped>\n",
              "    .dataframe tbody tr th:only-of-type {\n",
              "        vertical-align: middle;\n",
              "    }\n",
              "\n",
              "    .dataframe tbody tr th {\n",
              "        vertical-align: top;\n",
              "    }\n",
              "\n",
              "    .dataframe thead th {\n",
              "        text-align: right;\n",
              "    }\n",
              "</style>\n",
              "<table border=\"1\" class=\"dataframe\">\n",
              "  <thead>\n",
              "    <tr style=\"text-align: right;\">\n",
              "      <th></th>\n",
              "      <th>gender</th>\n",
              "      <th>pref_service</th>\n",
              "    </tr>\n",
              "    <tr>\n",
              "      <th>id</th>\n",
              "      <th></th>\n",
              "      <th></th>\n",
              "    </tr>\n",
              "  </thead>\n",
              "  <tbody>\n",
              "    <tr>\n",
              "      <th>4</th>\n",
              "      <td>female</td>\n",
              "      <td>Facebook</td>\n",
              "    </tr>\n",
              "    <tr>\n",
              "      <th>7</th>\n",
              "      <td>female</td>\n",
              "      <td>Facebook</td>\n",
              "    </tr>\n",
              "    <tr>\n",
              "      <th>10</th>\n",
              "      <td>female</td>\n",
              "      <td>Facebook</td>\n",
              "    </tr>\n",
              "    <tr>\n",
              "      <th>19</th>\n",
              "      <td>female</td>\n",
              "      <td>Instagram</td>\n",
              "    </tr>\n",
              "    <tr>\n",
              "      <th>34</th>\n",
              "      <td>female</td>\n",
              "      <td>Twitter</td>\n",
              "    </tr>\n",
              "    <tr>\n",
              "      <th>49</th>\n",
              "      <td>male</td>\n",
              "      <td>Facebook</td>\n",
              "    </tr>\n",
              "    <tr>\n",
              "      <th>57</th>\n",
              "      <td>male</td>\n",
              "      <td>Facebook</td>\n",
              "    </tr>\n",
              "    <tr>\n",
              "      <th>58</th>\n",
              "      <td>male</td>\n",
              "      <td>Instagram</td>\n",
              "    </tr>\n",
              "    <tr>\n",
              "      <th>59</th>\n",
              "      <td>male</td>\n",
              "      <td>Instagram</td>\n",
              "    </tr>\n",
              "    <tr>\n",
              "      <th>81</th>\n",
              "      <td>male</td>\n",
              "      <td>Twitter</td>\n",
              "    </tr>\n",
              "  </tbody>\n",
              "</table>\n",
              "</div>"
            ],
            "text/plain": [
              "    gender pref_service\n",
              "id                     \n",
              "4   female     Facebook\n",
              "7   female     Facebook\n",
              "10  female     Facebook\n",
              "19  female    Instagram\n",
              "34  female      Twitter\n",
              "49    male     Facebook\n",
              "57    male     Facebook\n",
              "58    male    Instagram\n",
              "59    male    Instagram\n",
              "81    male      Twitter"
            ]
          },
          "metadata": {
            "tags": []
          },
          "execution_count": 5
        }
      ]
    },
    {
      "cell_type": "markdown",
      "metadata": {
        "id": "q1VOEQG73f9M"
      },
      "source": [
        "## Basic crosstab"
      ]
    },
    {
      "cell_type": "code",
      "metadata": {
        "colab": {
          "base_uri": "https://localhost:8080/",
          "height": 235
        },
        "id": "gPVLHhKh3f9M",
        "outputId": "a53183c1-4a8e-4db3-f01c-ff526c1f3a49"
      },
      "source": [
        "pd.crosstab(df['pref_service'], df['gender'])"
      ],
      "execution_count": 6,
      "outputs": [
        {
          "output_type": "execute_result",
          "data": {
            "text/html": [
              "<div>\n",
              "<style scoped>\n",
              "    .dataframe tbody tr th:only-of-type {\n",
              "        vertical-align: middle;\n",
              "    }\n",
              "\n",
              "    .dataframe tbody tr th {\n",
              "        vertical-align: top;\n",
              "    }\n",
              "\n",
              "    .dataframe thead th {\n",
              "        text-align: right;\n",
              "    }\n",
              "</style>\n",
              "<table border=\"1\" class=\"dataframe\">\n",
              "  <thead>\n",
              "    <tr style=\"text-align: right;\">\n",
              "      <th>gender</th>\n",
              "      <th>female</th>\n",
              "      <th>male</th>\n",
              "      <th>nonbinary</th>\n",
              "      <th>prefer not to say</th>\n",
              "    </tr>\n",
              "    <tr>\n",
              "      <th>pref_service</th>\n",
              "      <th></th>\n",
              "      <th></th>\n",
              "      <th></th>\n",
              "      <th></th>\n",
              "    </tr>\n",
              "  </thead>\n",
              "  <tbody>\n",
              "    <tr>\n",
              "      <th>Facebook</th>\n",
              "      <td>11</td>\n",
              "      <td>13</td>\n",
              "      <td>0</td>\n",
              "      <td>0</td>\n",
              "    </tr>\n",
              "    <tr>\n",
              "      <th>Instagram</th>\n",
              "      <td>15</td>\n",
              "      <td>11</td>\n",
              "      <td>0</td>\n",
              "      <td>0</td>\n",
              "    </tr>\n",
              "    <tr>\n",
              "      <th>Mastodon</th>\n",
              "      <td>6</td>\n",
              "      <td>3</td>\n",
              "      <td>1</td>\n",
              "      <td>0</td>\n",
              "    </tr>\n",
              "    <tr>\n",
              "      <th>Other</th>\n",
              "      <td>3</td>\n",
              "      <td>4</td>\n",
              "      <td>1</td>\n",
              "      <td>0</td>\n",
              "    </tr>\n",
              "    <tr>\n",
              "      <th>Twitter</th>\n",
              "      <td>10</td>\n",
              "      <td>17</td>\n",
              "      <td>0</td>\n",
              "      <td>1</td>\n",
              "    </tr>\n",
              "  </tbody>\n",
              "</table>\n",
              "</div>"
            ],
            "text/plain": [
              "gender        female  male  nonbinary  prefer not to say\n",
              "pref_service                                            \n",
              "Facebook          11    13          0                  0\n",
              "Instagram         15    11          0                  0\n",
              "Mastodon           6     3          1                  0\n",
              "Other              3     4          1                  0\n",
              "Twitter           10    17          0                  1"
            ]
          },
          "metadata": {
            "tags": []
          },
          "execution_count": 6
        }
      ]
    },
    {
      "cell_type": "markdown",
      "metadata": {
        "id": "gqVYBBgV3f9N"
      },
      "source": [
        "## Basic crosstab with margins"
      ]
    },
    {
      "cell_type": "code",
      "metadata": {
        "colab": {
          "base_uri": "https://localhost:8080/",
          "height": 266
        },
        "id": "h_Rx0j4J3f9N",
        "outputId": "226b66ce-8f92-40b1-9ab4-d8e70afbd6f5"
      },
      "source": [
        "pd.crosstab(df['pref_service'], df['gender'], margins=True)"
      ],
      "execution_count": 7,
      "outputs": [
        {
          "output_type": "execute_result",
          "data": {
            "text/html": [
              "<div>\n",
              "<style scoped>\n",
              "    .dataframe tbody tr th:only-of-type {\n",
              "        vertical-align: middle;\n",
              "    }\n",
              "\n",
              "    .dataframe tbody tr th {\n",
              "        vertical-align: top;\n",
              "    }\n",
              "\n",
              "    .dataframe thead th {\n",
              "        text-align: right;\n",
              "    }\n",
              "</style>\n",
              "<table border=\"1\" class=\"dataframe\">\n",
              "  <thead>\n",
              "    <tr style=\"text-align: right;\">\n",
              "      <th>gender</th>\n",
              "      <th>female</th>\n",
              "      <th>male</th>\n",
              "      <th>nonbinary</th>\n",
              "      <th>prefer not to say</th>\n",
              "      <th>All</th>\n",
              "    </tr>\n",
              "    <tr>\n",
              "      <th>pref_service</th>\n",
              "      <th></th>\n",
              "      <th></th>\n",
              "      <th></th>\n",
              "      <th></th>\n",
              "      <th></th>\n",
              "    </tr>\n",
              "  </thead>\n",
              "  <tbody>\n",
              "    <tr>\n",
              "      <th>Facebook</th>\n",
              "      <td>11</td>\n",
              "      <td>13</td>\n",
              "      <td>0</td>\n",
              "      <td>0</td>\n",
              "      <td>24</td>\n",
              "    </tr>\n",
              "    <tr>\n",
              "      <th>Instagram</th>\n",
              "      <td>15</td>\n",
              "      <td>11</td>\n",
              "      <td>0</td>\n",
              "      <td>0</td>\n",
              "      <td>26</td>\n",
              "    </tr>\n",
              "    <tr>\n",
              "      <th>Mastodon</th>\n",
              "      <td>6</td>\n",
              "      <td>3</td>\n",
              "      <td>1</td>\n",
              "      <td>0</td>\n",
              "      <td>10</td>\n",
              "    </tr>\n",
              "    <tr>\n",
              "      <th>Other</th>\n",
              "      <td>3</td>\n",
              "      <td>4</td>\n",
              "      <td>1</td>\n",
              "      <td>0</td>\n",
              "      <td>8</td>\n",
              "    </tr>\n",
              "    <tr>\n",
              "      <th>Twitter</th>\n",
              "      <td>10</td>\n",
              "      <td>17</td>\n",
              "      <td>0</td>\n",
              "      <td>1</td>\n",
              "      <td>28</td>\n",
              "    </tr>\n",
              "    <tr>\n",
              "      <th>All</th>\n",
              "      <td>45</td>\n",
              "      <td>48</td>\n",
              "      <td>2</td>\n",
              "      <td>1</td>\n",
              "      <td>96</td>\n",
              "    </tr>\n",
              "  </tbody>\n",
              "</table>\n",
              "</div>"
            ],
            "text/plain": [
              "gender        female  male  nonbinary  prefer not to say  All\n",
              "pref_service                                                 \n",
              "Facebook          11    13          0                  0   24\n",
              "Instagram         15    11          0                  0   26\n",
              "Mastodon           6     3          1                  0   10\n",
              "Other              3     4          1                  0    8\n",
              "Twitter           10    17          0                  1   28\n",
              "All               45    48          2                  1   96"
            ]
          },
          "metadata": {
            "tags": []
          },
          "execution_count": 7
        }
      ]
    },
    {
      "cell_type": "markdown",
      "metadata": {
        "id": "Cv_Z9ZOi3f9N"
      },
      "source": [
        "## Grouped bar chart"
      ]
    },
    {
      "cell_type": "code",
      "metadata": {
        "colab": {
          "base_uri": "https://localhost:8080/",
          "height": 295
        },
        "id": "-KNKCSV73f9N",
        "outputId": "41c63a99-8fe2-4590-b922-21fe0cbd22ec"
      },
      "source": [
        "# Remove all 'prefer not to say' responses.\n",
        "df = df.loc[df['gender'] != 'prefer not to say']\n",
        "# Generate cross tabulation.\n",
        "table = pd.crosstab(df['pref_service'], df['gender'], margins=True)\n",
        "# Remove the All row, we don’t need it.\n",
        "table.drop('All', axis='rows', inplace=True)\n",
        "# Sort by the All column.\n",
        "table = table.sort_values(by='All', ascending=False)\n",
        "# Remove the All column before plotting.\n",
        "table.drop('All', axis='columns', inplace=True)\n",
        "\n",
        "ax = table.plot.barh()\n",
        "ax.invert_yaxis()\n",
        "ax.set_title('Preferrered social media service by gender')\n",
        "ax.set_xlabel('frequency')\n",
        "ax.set_ylabel('social media')\n",
        "plt.show()"
      ],
      "execution_count": 8,
      "outputs": [
        {
          "output_type": "display_data",
          "data": {
            "image/png": "[encoded data removed]",
            "text/plain": [
              "<Figure size 432x288 with 1 Axes>"
            ]
          },
          "metadata": {
            "tags": [],
            "needs_background": "light"
          }
        }
      ]
    },
    {
      "cell_type": "markdown",
      "metadata": {
        "id": "YoqqzRro3f9O"
      },
      "source": [
        "## Stacked bar chart"
      ]
    },
    {
      "cell_type": "code",
      "metadata": {
        "colab": {
          "base_uri": "https://localhost:8080/",
          "height": 295
        },
        "id": "Y_EyN2vu3f9O",
        "outputId": "35e338e4-47c4-4e51-b093-825f645c9b28"
      },
      "source": [
        "# Remove all 'prefer not to say' responses.\n",
        "df = df.loc[df['gender'] != 'prefer not to say']\n",
        "# Generate cross tabulation.\n",
        "table = pd.crosstab(df['pref_service'], df['gender'], margins=True)\n",
        "# Remove the All row, we don’t need it.\n",
        "table.drop('All', axis='rows', inplace=True)\n",
        "# Sort by the All column.\n",
        "table = table.sort_values(by='All', ascending=False)\n",
        "# Remove the All column before plotting.\n",
        "table.drop('All', axis='columns', inplace=True)\n",
        "\n",
        "ax = table.plot.barh(stacked=True)\n",
        "ax.invert_yaxis()\n",
        "ax.set_title('Preferrered social media service by gender')\n",
        "ax.set_xlabel('frequency')\n",
        "ax.set_ylabel('platform')\n",
        "plt.show()"
      ],
      "execution_count": 9,
      "outputs": [
        {
          "output_type": "display_data",
          "data": {
            "image/png": "[encoded data removed]",
            "text/plain": [
              "<Figure size 432x288 with 1 Axes>"
            ]
          },
          "metadata": {
            "tags": [],
            "needs_background": "light"
          }
        }
      ]
    },
    {
      "cell_type": "markdown",
      "metadata": {
        "id": "egTZ-IJv3f9O"
      },
      "source": [
        "## Normalised stack bar chart"
      ]
    },
    {
      "cell_type": "code",
      "metadata": {
        "colab": {
          "base_uri": "https://localhost:8080/",
          "height": 295
        },
        "id": "MjsU4b_d3f9O",
        "outputId": "7044f3e8-5914-4aaa-87c4-dd4b6fa954e6"
      },
      "source": [
        "# Remove all 'prefer not to say' responses.\n",
        "df = df.loc[df['gender'] != 'prefer not to say']\n",
        "# Generate normalised cross tabulation.\n",
        "table = pd.crosstab(df['pref_service'], df['gender'], normalize='index')\n",
        "# Sort by female responses and convert to percentage.\n",
        "table = table.sort_values(by='female', ascending=False) * 100\n",
        "\n",
        "ax = table.plot.barh(stacked=True)\n",
        "ax.invert_yaxis()\n",
        "ax.axvline(50, color='grey', linestyle='dashed', linewidth=1)\n",
        "ax.set_title('Preferrered social media service by gender')\n",
        "ax.set_xlabel('percent')\n",
        "ax.set_ylabel('social media')\n",
        "# Place legent outside plot axes.\n",
        "ax.legend(bbox_to_anchor=(1.0, 1.0))\n",
        "plt.show()"
      ],
      "execution_count": 35,
      "outputs": [
        {
          "output_type": "display_data",
          "data": {
            "image/png": "[encoded data removed]",
            "text/plain": [
              "<Figure size 432x288 with 1 Axes>"
            ]
          },
          "metadata": {
            "tags": [],
            "needs_background": "light"
          }
        }
      ]
    },
    {
      "cell_type": "markdown",
      "metadata": {
        "id": "1YFHECRe3f9O"
      },
      "source": [
        "## Heat map"
      ]
    },
    {
      "cell_type": "code",
      "metadata": {
        "id": "9Q-SprKu3f9P"
      },
      "source": [
        "# Remove all 'prefer not to say' responses.\n",
        "df = df.loc[df['gender'] != 'prefer not to say']\n",
        "# Generate normalised cross tabulation.\n",
        "table = pd.crosstab(df['pref_service'], df['gender'])\n",
        "# Sort by female responses.\n",
        "table = table.sort_values(by='female', ascending=False)\n",
        "\n"
      ],
      "execution_count": 36,
      "outputs": []
    },
    {
      "cell_type": "code",
      "metadata": {
        "colab": {
          "base_uri": "https://localhost:8080/"
        },
        "id": "M2zvNJtc8YEq",
        "outputId": "a708b8e9-eb8f-491c-ba80-5a7a08d03be2"
      },
      "source": [
        "table1 = np.array(table)\n",
        "table1"
      ],
      "execution_count": 43,
      "outputs": [
        {
          "output_type": "execute_result",
          "data": {
            "text/plain": [
              "array([[15, 11,  0],\n",
              "       [11, 13,  0],\n",
              "       [10, 17,  0],\n",
              "       [ 6,  3,  1],\n",
              "       [ 3,  4,  1]])"
            ]
          },
          "metadata": {
            "tags": []
          },
          "execution_count": 43
        }
      ]
    },
    {
      "cell_type": "code",
      "metadata": {
        "colab": {
          "base_uri": "https://localhost:8080/",
          "height": 295
        },
        "id": "dAZfvnTM3f9P",
        "outputId": "d95b80f0-1143-4737-b6bd-892cdae3834f"
      },
      "source": [
        "ax = sns.heatmap(table1, annot=True)\n",
        "ax.set_title('Preferrered social media service by gender')\n",
        "ax.set_xlabel('gender')\n",
        "ax.set_ylabel('social media')\n",
        "plt.show()"
      ],
      "execution_count": 45,
      "outputs": [
        {
          "output_type": "display_data",
          "data": {
            "image/png": "[encoded data removed]",
            "text/plain": [
              "<Figure size 432x288 with 2 Axes>"
            ]
          },
          "metadata": {
            "tags": [],
            "needs_background": "light"
          }
        }
      ]
    },
    {
      "cell_type": "code",
      "metadata": {
        "id": "MXjT35wR5yza"
      },
      "source": [
        ""
      ],
      "execution_count": null,
      "outputs": []
    }
  ]
}