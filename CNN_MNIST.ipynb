{
  "nbformat": 4,
  "nbformat_minor": 0,
  "metadata": {
    "colab": {
      "name": "CNN_MNIST.ipynb",
      "provenance": [],
      "collapsed_sections": [],
      "authorship_tag": "ABX9TyNE/JlffM/WWzOuuBGdnKI8",
      "include_colab_link": true
    },
    "kernelspec": {
      "name": "python3",
      "display_name": "Python 3"
    }
  },
  "cells": [
    {
      "cell_type": "markdown",
      "metadata": {
        "id": "view-in-github",
        "colab_type": "text"
      },
      "source": [
        "<a href=\"https://colab.research.google.com/github/GabeMaldonado/JupyterNotebooks/blob/master/CNN_MNIST.ipynb\" target=\"_parent\"><img src=\"https://colab.research.google.com/assets/colab-badge.svg\" alt=\"Open In Colab\"/></a>"
      ]
    },
    {
      "cell_type": "markdown",
      "metadata": {
        "id": "vAikrIgKH7Iq"
      },
      "source": [
        "## Convolutional Neural Network -- MNIST"
      ]
    },
    {
      "cell_type": "code",
      "metadata": {
        "id": "0iuXeicNH5-V"
      },
      "source": [
        "import tensorflow as tf\n",
        "def train_mnist_conv():\n",
        "    # Please write your code only where you are indicated.\n",
        "    # please do not remove # model fitting inline comments.\n",
        "\n",
        "    # YOUR CODE SHOULD START HERE\n",
        "    class myCallback(tf.keras.callbacks.Callback):\n",
        "        def on_epoch_end(self, epoch, logs={}):\n",
        "            if(logs.get('accuracy') > 0.998):\n",
        "                print(\"\\nReached 99.8% accuracy so cancelling training!\")\n",
        "                self.model.stop_training = True\n",
        "\n",
        "    callbacks = myCallback()\n",
        "\n",
        "    \n",
        "    mnist = tf.keras.datasets.mnist\n",
        "    (x_train, y_train),(x_test, y_test) = mnist.load_data()\n",
        "\n",
        "    x_train = x_train.reshape(60000, 28, 28, 1)    \n",
        "    x_train = x_train/ 255.0\n",
        "    x_test = x_test.reshape(10000, 28, 28, 1)    \n",
        "    x_test = x_test/255.0\n",
        "    \n",
        "    \n",
        "    model = tf.keras.models.Sequential([\n",
        "        tf.keras.layers.Conv2D(64, (3,3), activation='relu', input_shape=(28, 28, 1)),\n",
        "        tf.keras.layers.MaxPooling2D(2, 2),\n",
        "        tf.keras.layers.Conv2D(64, (3,3), activation='relu'),\n",
        "        tf.keras.layers.MaxPooling2D(2,2),\n",
        "        tf.keras.layers.Flatten(),\n",
        "        tf.keras.layers.Dense(128, activation='relu'),\n",
        "        tf.keras.layers.Dense(10, activation='softmax')])\n",
        "\n",
        "    model.compile(optimizer='adam',\n",
        "                  loss='sparse_categorical_crossentropy',\n",
        "                  metrics=['accuracy'])\n",
        "    model.summary()\n",
        "    # model fitting\n",
        "    history = model.fit(# YOUR CODE SHOULD START HERE\n",
        "        x_train, y_train, epochs=20, callbacks=[callbacks]\n",
        "              # YOUR CODE SHOULD END HERE\n",
        "    )\n",
        "    # model fitting\n",
        "    classifications = model.predict(x_test)\n",
        "\n",
        "    print(classifications[1])\n",
        "\n",
        "    print(y_test[1])\n",
        "   \n",
        "    return history.epoch, history.history['accuracy'][-1]"
      ],
      "execution_count": 3,
      "outputs": []
    },
    {
      "cell_type": "code",
      "metadata": {
        "id": "wk4WSa9FIwVT",
        "outputId": "f9b6d0bb-21ee-4407-9785-af2404450ca3",
        "colab": {
          "base_uri": "https://localhost:8080/"
        }
      },
      "source": [
        "_, _ = train_mnist_conv()"
      ],
      "execution_count": 4,
      "outputs": [
        {
          "output_type": "stream",
          "text": [
            "Model: \"sequential_1\"\n",
            "_________________________________________________________________\n",
            "Layer (type)                 Output Shape              Param #   \n",
            "=================================================================\n",
            "conv2d_2 (Conv2D)            (None, 26, 26, 64)        640       \n",
            "_________________________________________________________________\n",
            "max_pooling2d_2 (MaxPooling2 (None, 13, 13, 64)        0         \n",
            "_________________________________________________________________\n",
            "conv2d_3 (Conv2D)            (None, 11, 11, 64)        36928     \n",
            "_________________________________________________________________\n",
            "max_pooling2d_3 (MaxPooling2 (None, 5, 5, 64)          0         \n",
            "_________________________________________________________________\n",
            "flatten_1 (Flatten)          (None, 1600)              0         \n",
            "_________________________________________________________________\n",
            "dense_2 (Dense)              (None, 128)               204928    \n",
            "_________________________________________________________________\n",
            "dense_3 (Dense)              (None, 10)                1290      \n",
            "=================================================================\n",
            "Total params: 243,786\n",
            "Trainable params: 243,786\n",
            "Non-trainable params: 0\n",
            "_________________________________________________________________\n",
            "Epoch 1/20\n",
            "1875/1875 [==============================] - 81s 43ms/step - loss: 0.1196 - accuracy: 0.9636\n",
            "Epoch 2/20\n",
            "1875/1875 [==============================] - 81s 43ms/step - loss: 0.0407 - accuracy: 0.9875\n",
            "Epoch 3/20\n",
            "1875/1875 [==============================] - 81s 43ms/step - loss: 0.0281 - accuracy: 0.9912\n",
            "Epoch 4/20\n",
            "1875/1875 [==============================] - 80s 43ms/step - loss: 0.0189 - accuracy: 0.9940\n",
            "Epoch 5/20\n",
            "1875/1875 [==============================] - 80s 43ms/step - loss: 0.0154 - accuracy: 0.9951\n",
            "Epoch 6/20\n",
            "1875/1875 [==============================] - 80s 43ms/step - loss: 0.0120 - accuracy: 0.9961\n",
            "Epoch 7/20\n",
            "1875/1875 [==============================] - 80s 43ms/step - loss: 0.0093 - accuracy: 0.9973\n",
            "Epoch 8/20\n",
            "1875/1875 [==============================] - 80s 42ms/step - loss: 0.0077 - accuracy: 0.9975\n",
            "Epoch 9/20\n",
            "1875/1875 [==============================] - 80s 43ms/step - loss: 0.0070 - accuracy: 0.9979\n",
            "Epoch 10/20\n",
            "1875/1875 [==============================] - ETA: 0s - loss: 0.0056 - accuracy: 0.9982\n",
            "Reached 99.8% accuracy so cancelling training!\n",
            "1875/1875 [==============================] - 80s 43ms/step - loss: 0.0056 - accuracy: 0.9982\n",
            "[1.92161413e-12 1.24694044e-09 1.00000000e+00 5.48284923e-17\n",
            " 1.56909685e-12 1.19214072e-23 3.78550880e-12 3.68335001e-13\n",
            " 1.09022425e-16 8.82942333e-14]\n",
            "2\n"
          ],
          "name": "stdout"
        }
      ]
    },
    {
      "cell_type": "code",
      "metadata": {
        "id": "7OKSsR2LJF2Q"
      },
      "source": [
        ""
      ],
      "execution_count": null,
      "outputs": []
    }
  ]
}