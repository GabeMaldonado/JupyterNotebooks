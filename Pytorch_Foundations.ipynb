{
  "nbformat": 4,
  "nbformat_minor": 0,
  "metadata": {
    "colab": {
      "name": "Pytorch_Foundations.ipynb",
      "provenance": [],
      "collapsed_sections": [],
      "authorship_tag": "ABX9TyNVFoP9EKNrfQuLqc8RJ3CE",
      "include_colab_link": true
    },
    "kernelspec": {
      "name": "python3",
      "display_name": "Python 3"
    },
    "accelerator": "GPU"
  },
  "cells": [
    {
      "cell_type": "markdown",
      "metadata": {
        "id": "view-in-github",
        "colab_type": "text"
      },
      "source": [
        "<a href=\"https://colab.research.google.com/github/GabeMaldonado/JupyterNotebooks/blob/master/Pytorch_Foundations.ipynb\" target=\"_parent\"><img src=\"https://colab.research.google.com/assets/colab-badge.svg\" alt=\"Open In Colab\"/></a>"
      ]
    },
    {
      "cell_type": "markdown",
      "metadata": {
        "id": "sAzxJdcVhV_t",
        "colab_type": "text"
      },
      "source": [
        "# Notes on Pytorch Foundations\n",
        "\n",
        "## Tensor\n",
        " Tensor is the central unit of data in Pytorch. It consists of a set of primitive values shaped into an **n-dimensional**  array. Every tensor has a number of dimensions and the number of elements in each dimension gives us the shape of the tensor. \n",
        "\n",
        " *   **Scalar** is a 0-Dimensional tensor (0-D)\n",
        " *   **Vector** is a 1-D tensor, e.g. [2, 4, 6, 8, 10]\n",
        " *   **Matrix** is a 2-D tensor, e.g. [ [1, 3, 5], [2, 4, 6] ]  \n",
        " *   **N-Dimensional** matrices are N-D tensor, e.g. [ [ [1 ,2], [3, 4], [5, 6], [ [7, 8], [9, 10], [11, 12] ] ]\n",
        "\n",
        " Pytorch Tensors are similar to numpy arrays but they have been architectured to make optimal use of GPUs for massive parallel computations. \n",
        "\n"
      ]
    },
    {
      "cell_type": "markdown",
      "metadata": {
        "id": "74YckQ-NhYLt",
        "colab_type": "text"
      },
      "source": [
        ""
      ]
    },
    {
      "cell_type": "code",
      "metadata": {
        "id": "MsScHbmCkbAg",
        "colab_type": "code",
        "colab": {
          "base_uri": "https://localhost:8080/",
          "height": 102
        },
        "outputId": "8fba044a-0e28-47c2-fa48-eadb832c8608"
      },
      "source": [
        "# Install pytorch\n",
        "\n",
        "!pip3 install torch torchvision"
      ],
      "execution_count": 1,
      "outputs": [
        {
          "output_type": "stream",
          "text": [
            "Requirement already satisfied: torch in /usr/local/lib/python3.6/dist-packages (1.4.0)\n",
            "Requirement already satisfied: torchvision in /usr/local/lib/python3.6/dist-packages (0.5.0)\n",
            "Requirement already satisfied: numpy in /usr/local/lib/python3.6/dist-packages (from torchvision) (1.18.2)\n",
            "Requirement already satisfied: six in /usr/local/lib/python3.6/dist-packages (from torchvision) (1.12.0)\n",
            "Requirement already satisfied: pillow>=4.1.1 in /usr/local/lib/python3.6/dist-packages (from torchvision) (7.0.0)\n"
          ],
          "name": "stdout"
        }
      ]
    },
    {
      "cell_type": "code",
      "metadata": {
        "id": "aMiFq0A8X1NB",
        "colab_type": "code",
        "colab": {
          "base_uri": "https://localhost:8080/",
          "height": 34
        },
        "outputId": "490009a3-e5f0-4b6a-9c33-cb312bfda6c4"
      },
      "source": [
        "import torch\n",
        "\n",
        "# Check pytorch version\n",
        "print(torch.__version__)\n",
        "\n"
      ],
      "execution_count": 2,
      "outputs": [
        {
          "output_type": "stream",
          "text": [
            "1.4.0\n"
          ],
          "name": "stdout"
        }
      ]
    },
    {
      "cell_type": "code",
      "metadata": {
        "id": "S87cYJ6PkqC1",
        "colab_type": "code",
        "colab": {
          "base_uri": "https://localhost:8080/",
          "height": 34
        },
        "outputId": "43123974-7160-4ef3-e824-5e9556e27498"
      },
      "source": [
        "# check default pytorch datatype\n",
        "\n",
        "torch.get_default_dtype()"
      ],
      "execution_count": 3,
      "outputs": [
        {
          "output_type": "execute_result",
          "data": {
            "text/plain": [
              "torch.float32"
            ]
          },
          "metadata": {
            "tags": []
          },
          "execution_count": 3
        }
      ]
    },
    {
      "cell_type": "markdown",
      "metadata": {
        "id": "IYW8uHbhk8QY",
        "colab_type": "text"
      },
      "source": [
        "We can see that the default d-type is ```float32``` however, we can change the default to other datatypes as long as they are floating-points. Pytorch will not accept int as the default d-type.\n",
        "\n",
        "[Check docs for more info](https://pytorch.org/docs/stable/tensors.html)"
      ]
    },
    {
      "cell_type": "code",
      "metadata": {
        "id": "t__KbiTak13P",
        "colab_type": "code",
        "colab": {
          "base_uri": "https://localhost:8080/",
          "height": 34
        },
        "outputId": "fe9f693b-bca5-4a3d-f3df-44426f00484d"
      },
      "source": [
        "# chage default d-type\n",
        "\n",
        "torch.set_default_dtype(torch.float32)\n",
        "torch.get_default_dtype()"
      ],
      "execution_count": 4,
      "outputs": [
        {
          "output_type": "execute_result",
          "data": {
            "text/plain": [
              "torch.float32"
            ]
          },
          "metadata": {
            "tags": []
          },
          "execution_count": 4
        }
      ]
    },
    {
      "cell_type": "code",
      "metadata": {
        "id": "xDbpC_6rlOPE",
        "colab_type": "code",
        "colab": {
          "base_uri": "https://localhost:8080/",
          "height": 51
        },
        "outputId": "bcaec835-946c-4c3f-b851-b27a49cc11ea"
      },
      "source": [
        "# Create a Pytorch Tensor\n",
        "\n",
        "tensor_array = torch.Tensor([[1, 2, 3], [4, 5, 6]])\n",
        "tensor_array"
      ],
      "execution_count": 5,
      "outputs": [
        {
          "output_type": "execute_result",
          "data": {
            "text/plain": [
              "tensor([[1., 2., 3.],\n",
              "        [4., 5., 6.]])"
            ]
          },
          "metadata": {
            "tags": []
          },
          "execution_count": 5
        }
      ]
    },
    {
      "cell_type": "code",
      "metadata": {
        "id": "KSHNDIf3mo8q",
        "colab_type": "code",
        "colab": {
          "base_uri": "https://localhost:8080/",
          "height": 34
        },
        "outputId": "bd4e53e7-7f28-44ec-bf60-07804fe4665d"
      },
      "source": [
        "torch.is_tensor(tensor_array)"
      ],
      "execution_count": 6,
      "outputs": [
        {
          "output_type": "execute_result",
          "data": {
            "text/plain": [
              "True"
            ]
          },
          "metadata": {
            "tags": []
          },
          "execution_count": 6
        }
      ]
    },
    {
      "cell_type": "code",
      "metadata": {
        "id": "AW-bkuwGm1nX",
        "colab_type": "code",
        "colab": {
          "base_uri": "https://localhost:8080/",
          "height": 34
        },
        "outputId": "ffc712f0-73bd-4cce-abea-26b77957f9d7"
      },
      "source": [
        "# Check the number of elements in the tensor\n",
        "# numel would print the number of elements regarding of the tensor's shape\n",
        " \n",
        "torch.numel(tensor_array)"
      ],
      "execution_count": 7,
      "outputs": [
        {
          "output_type": "execute_result",
          "data": {
            "text/plain": [
              "6"
            ]
          },
          "metadata": {
            "tags": []
          },
          "execution_count": 7
        }
      ]
    },
    {
      "cell_type": "code",
      "metadata": {
        "id": "3meRFxuXnLyF",
        "colab_type": "code",
        "colab": {}
      },
      "source": [
        "tensor_uninitialized = torch.Tensor(2,2)\n"
      ],
      "execution_count": 0,
      "outputs": []
    },
    {
      "cell_type": "code",
      "metadata": {
        "id": "mOTCABtznvOF",
        "colab_type": "code",
        "colab": {
          "base_uri": "https://localhost:8080/",
          "height": 51
        },
        "outputId": "3ceb8afd-328e-483b-e01e-5f0c2c864dd1"
      },
      "source": [
        "tensor_uninitialized"
      ],
      "execution_count": 9,
      "outputs": [
        {
          "output_type": "execute_result",
          "data": {
            "text/plain": [
              "tensor([[3.5377e-35, 0.0000e+00],\n",
              "        [8.4078e-45, 0.0000e+00]])"
            ]
          },
          "metadata": {
            "tags": []
          },
          "execution_count": 9
        }
      ]
    },
    {
      "cell_type": "markdown",
      "metadata": {
        "id": "wYu-yfw-nx1Q",
        "colab_type": "text"
      },
      "source": [
        "The two lines of code above show that when we run ```torch.Tensor(2, 2)``` we create a 2X2 tensor that has not initial values. Pytorch creates the tensor and allocates memory for future values that will be passed to the tensor. The numbers we see are memory addresses. \n",
        "However, if we run ```torch.rand(2, 2)``` we are creating a 2X2 tensor that it is initialized with random values:"
      ]
    },
    {
      "cell_type": "code",
      "metadata": {
        "id": "PxMRRGrlnwOT",
        "colab_type": "code",
        "colab": {}
      },
      "source": [
        "tensor_initialized = torch.rand(2, 2)"
      ],
      "execution_count": 0,
      "outputs": []
    },
    {
      "cell_type": "code",
      "metadata": {
        "id": "2cvcae8Zot0T",
        "colab_type": "code",
        "colab": {
          "base_uri": "https://localhost:8080/",
          "height": 51
        },
        "outputId": "9357c8a1-12a5-4cd6-8ae2-3c469577997f"
      },
      "source": [
        "tensor_initialized"
      ],
      "execution_count": 11,
      "outputs": [
        {
          "output_type": "execute_result",
          "data": {
            "text/plain": [
              "tensor([[0.5521, 0.3260],\n",
              "        [0.2627, 0.0585]])"
            ]
          },
          "metadata": {
            "tags": []
          },
          "execution_count": 11
        }
      ]
    },
    {
      "cell_type": "code",
      "metadata": {
        "id": "rj0W4lIyouv7",
        "colab_type": "code",
        "colab": {}
      },
      "source": [
        "# Create a tensor of a particular type (int)\n",
        "\n",
        "tensor_init = torch.Tensor([5, 3]).type(torch.IntTensor)"
      ],
      "execution_count": 0,
      "outputs": []
    },
    {
      "cell_type": "code",
      "metadata": {
        "id": "2KWNgbmPpERX",
        "colab_type": "code",
        "colab": {
          "base_uri": "https://localhost:8080/",
          "height": 34
        },
        "outputId": "974519ce-7585-4d8e-ab60-8d9aa0cedcde"
      },
      "source": [
        "tensor_init"
      ],
      "execution_count": 13,
      "outputs": [
        {
          "output_type": "execute_result",
          "data": {
            "text/plain": [
              "tensor([5, 3], dtype=torch.int32)"
            ]
          },
          "metadata": {
            "tags": []
          },
          "execution_count": 13
        }
      ]
    },
    {
      "cell_type": "code",
      "metadata": {
        "id": "O621Ps02pFY6",
        "colab_type": "code",
        "colab": {
          "base_uri": "https://localhost:8080/",
          "height": 34
        },
        "outputId": "4adff206-9e9b-4b26-87cb-b2c7a23ade7c"
      },
      "source": [
        "# Create a tensor of int16 d-type\n",
        "\n",
        "tensor_short = torch.ShortTensor([1, 2, 3])\n",
        "tensor_short"
      ],
      "execution_count": 14,
      "outputs": [
        {
          "output_type": "execute_result",
          "data": {
            "text/plain": [
              "tensor([1, 2, 3], dtype=torch.int16)"
            ]
          },
          "metadata": {
            "tags": []
          },
          "execution_count": 14
        }
      ]
    },
    {
      "cell_type": "code",
      "metadata": {
        "id": "2T6UFAJ2pmcA",
        "colab_type": "code",
        "colab": {
          "base_uri": "https://localhost:8080/",
          "height": 34
        },
        "outputId": "d7e04f0f-fd19-4ddb-a625-5db1f5f08c39"
      },
      "source": [
        "# Create a tensor of half float d-type\n",
        "\n",
        "tensor_float = torch.tensor([1, 2, 3]).type(torch.half)\n",
        "tensor_float"
      ],
      "execution_count": 15,
      "outputs": [
        {
          "output_type": "execute_result",
          "data": {
            "text/plain": [
              "tensor([1., 2., 3.], dtype=torch.float16)"
            ]
          },
          "metadata": {
            "tags": []
          },
          "execution_count": 15
        }
      ]
    },
    {
      "cell_type": "code",
      "metadata": {
        "id": "8qi2geO3p9Uw",
        "colab_type": "code",
        "colab": {}
      },
      "source": [
        "# Create a tensor and fill it with a default value\n",
        "\n",
        "tensor_fill = torch.full((2, 4), fill_value=10)"
      ],
      "execution_count": 0,
      "outputs": []
    },
    {
      "cell_type": "code",
      "metadata": {
        "id": "bR0mesS3qRAY",
        "colab_type": "code",
        "colab": {
          "base_uri": "https://localhost:8080/",
          "height": 51
        },
        "outputId": "8bf0c40d-1935-4d8a-aaef-7aa3a1a35df8"
      },
      "source": [
        "tensor_fill"
      ],
      "execution_count": 17,
      "outputs": [
        {
          "output_type": "execute_result",
          "data": {
            "text/plain": [
              "tensor([[10., 10., 10., 10.],\n",
              "        [10., 10., 10., 10.]])"
            ]
          },
          "metadata": {
            "tags": []
          },
          "execution_count": 17
        }
      ]
    },
    {
      "cell_type": "code",
      "metadata": {
        "id": "NwKt3l7pqSjv",
        "colab_type": "code",
        "colab": {}
      },
      "source": [
        "# Create a tensor filled with ones\n",
        "\n",
        "tensor_of_ones = torch.ones([2, 4], dtype=torch.int32)\n"
      ],
      "execution_count": 0,
      "outputs": []
    },
    {
      "cell_type": "code",
      "metadata": {
        "id": "wKKAvrtpqlsh",
        "colab_type": "code",
        "colab": {
          "base_uri": "https://localhost:8080/",
          "height": 51
        },
        "outputId": "1221fb47-56b3-41fb-bef8-b229eb9f6a6e"
      },
      "source": [
        "tensor_of_ones"
      ],
      "execution_count": 19,
      "outputs": [
        {
          "output_type": "execute_result",
          "data": {
            "text/plain": [
              "tensor([[1, 1, 1, 1],\n",
              "        [1, 1, 1, 1]], dtype=torch.int32)"
            ]
          },
          "metadata": {
            "tags": []
          },
          "execution_count": 19
        }
      ]
    },
    {
      "cell_type": "code",
      "metadata": {
        "id": "OJ9D316OquFG",
        "colab_type": "code",
        "colab": {
          "base_uri": "https://localhost:8080/",
          "height": 51
        },
        "outputId": "28222684-435d-41c4-8d60-80ec87bf5e0e"
      },
      "source": [
        "# Create a tensor of zeros by passing the already created tensor of ones\n",
        "\n",
        "tensor_of_zeros = torch.zeros_like(tensor_of_ones)\n",
        "tensor_of_zeros"
      ],
      "execution_count": 20,
      "outputs": [
        {
          "output_type": "execute_result",
          "data": {
            "text/plain": [
              "tensor([[0, 0, 0, 0],\n",
              "        [0, 0, 0, 0]], dtype=torch.int32)"
            ]
          },
          "metadata": {
            "tags": []
          },
          "execution_count": 20
        }
      ]
    },
    {
      "cell_type": "code",
      "metadata": {
        "id": "8WC1MTnorJyB",
        "colab_type": "code",
        "colab": {
          "base_uri": "https://localhost:8080/",
          "height": 102
        },
        "outputId": "2db9f585-6b24-4eba-abd4-4a969c10de52"
      },
      "source": [
        "# Create a 2-D matrix filled with ones diagonally\n",
        "\n",
        "tensor_eye = torch.eye(5)\n",
        "tensor_eye"
      ],
      "execution_count": 21,
      "outputs": [
        {
          "output_type": "execute_result",
          "data": {
            "text/plain": [
              "tensor([[1., 0., 0., 0., 0.],\n",
              "        [0., 1., 0., 0., 0.],\n",
              "        [0., 0., 1., 0., 0.],\n",
              "        [0., 0., 0., 1., 0.],\n",
              "        [0., 0., 0., 0., 1.]])"
            ]
          },
          "metadata": {
            "tags": []
          },
          "execution_count": 21
        }
      ]
    },
    {
      "cell_type": "code",
      "metadata": {
        "id": "2aKszyefrj-8",
        "colab_type": "code",
        "colab": {
          "base_uri": "https://localhost:8080/",
          "height": 102
        },
        "outputId": "c182ef3c-790d-4195-ba5a-9336c67ad391"
      },
      "source": [
        "# Get the indices of the non-zero values on the tensor above\n",
        "\n",
        "non_zero = torch.nonzero(tensor_eye)\n",
        "non_zero"
      ],
      "execution_count": 22,
      "outputs": [
        {
          "output_type": "execute_result",
          "data": {
            "text/plain": [
              "tensor([[0, 0],\n",
              "        [1, 1],\n",
              "        [2, 2],\n",
              "        [3, 3],\n",
              "        [4, 4]])"
            ]
          },
          "metadata": {
            "tags": []
          },
          "execution_count": 22
        }
      ]
    },
    {
      "cell_type": "markdown",
      "metadata": {
        "id": "DrWuATuwsv5f",
        "colab_type": "text"
      },
      "source": [
        "## Operations on Tensors"
      ]
    },
    {
      "cell_type": "code",
      "metadata": {
        "id": "qE9nQLNVr5q3",
        "colab_type": "code",
        "colab": {
          "base_uri": "https://localhost:8080/",
          "height": 51
        },
        "outputId": "c65fbd08-6eb1-417f-c021-b942038d808e"
      },
      "source": [
        "# Create a 2X3 tensor with random values\n",
        "\n",
        "initial_tensor = torch.rand(2, 3)\n",
        "initial_tensor"
      ],
      "execution_count": 23,
      "outputs": [
        {
          "output_type": "execute_result",
          "data": {
            "text/plain": [
              "tensor([[0.8851, 0.7137, 0.2390],\n",
              "        [0.0549, 0.0529, 0.1606]])"
            ]
          },
          "metadata": {
            "tags": []
          },
          "execution_count": 23
        }
      ]
    },
    {
      "cell_type": "code",
      "metadata": {
        "id": "XhoStT3Hs9q9",
        "colab_type": "code",
        "colab": {
          "base_uri": "https://localhost:8080/",
          "height": 51
        },
        "outputId": "aa787bbb-9073-412a-bb7e-b029a3a3c1fc"
      },
      "source": [
        "# Perform an inplace fill (_) operation\n",
        "# \n",
        "initial_tensor.fill_(10)\n",
        "initial_tensor"
      ],
      "execution_count": 24,
      "outputs": [
        {
          "output_type": "execute_result",
          "data": {
            "text/plain": [
              "tensor([[10., 10., 10.],\n",
              "        [10., 10., 10.]])"
            ]
          },
          "metadata": {
            "tags": []
          },
          "execution_count": 24
        }
      ]
    },
    {
      "cell_type": "code",
      "metadata": {
        "id": "I8PX75r1tXur",
        "colab_type": "code",
        "colab": {
          "base_uri": "https://localhost:8080/",
          "height": 51
        },
        "outputId": "c00544d7-821c-41f1-aad4-a38908884282"
      },
      "source": [
        "# Add a value to the tensor\n",
        "\n",
        "new_tensor = initial_tensor.add(5)\n",
        "new_tensor"
      ],
      "execution_count": 25,
      "outputs": [
        {
          "output_type": "execute_result",
          "data": {
            "text/plain": [
              "tensor([[15., 15., 15.],\n",
              "        [15., 15., 15.]])"
            ]
          },
          "metadata": {
            "tags": []
          },
          "execution_count": 25
        }
      ]
    },
    {
      "cell_type": "code",
      "metadata": {
        "id": "tKZekio7trit",
        "colab_type": "code",
        "colab": {
          "base_uri": "https://localhost:8080/",
          "height": 51
        },
        "outputId": "1b692ae2-4b4d-417d-ae6b-4c76a51e2e59"
      },
      "source": [
        "# Perform a inplace square root on the new tensor\n",
        "\n",
        "new_tensor.sqrt_()\n",
        "new_tensor"
      ],
      "execution_count": 26,
      "outputs": [
        {
          "output_type": "execute_result",
          "data": {
            "text/plain": [
              "tensor([[3.8730, 3.8730, 3.8730],\n",
              "        [3.8730, 3.8730, 3.8730]])"
            ]
          },
          "metadata": {
            "tags": []
          },
          "execution_count": 26
        }
      ]
    },
    {
      "cell_type": "code",
      "metadata": {
        "id": "KjNtlQa9t9Em",
        "colab_type": "code",
        "colab": {
          "base_uri": "https://localhost:8080/",
          "height": 51
        },
        "outputId": "a417f057-db73-405e-c24c-7b709fc42054"
      },
      "source": [
        "# Create a torch containing evenly spaced numbers from 1 - 12\n",
        "\n",
        "x = torch.linspace(start=0.1, end=10.0, steps=15)\n",
        "x"
      ],
      "execution_count": 27,
      "outputs": [
        {
          "output_type": "execute_result",
          "data": {
            "text/plain": [
              "tensor([ 0.1000,  0.8071,  1.5143,  2.2214,  2.9286,  3.6357,  4.3429,  5.0500,\n",
              "         5.7571,  6.4643,  7.1714,  7.8786,  8.5857,  9.2929, 10.0000])"
            ]
          },
          "metadata": {
            "tags": []
          },
          "execution_count": 27
        }
      ]
    },
    {
      "cell_type": "code",
      "metadata": {
        "id": "fEcSyj94PqWk",
        "colab_type": "code",
        "colab": {
          "base_uri": "https://localhost:8080/",
          "height": 34
        },
        "outputId": "ad7edacf-5680-4148-fc67-7af2a3ca5971"
      },
      "source": [
        "x.size()"
      ],
      "execution_count": 28,
      "outputs": [
        {
          "output_type": "execute_result",
          "data": {
            "text/plain": [
              "torch.Size([15])"
            ]
          },
          "metadata": {
            "tags": []
          },
          "execution_count": 28
        }
      ]
    },
    {
      "cell_type": "code",
      "metadata": {
        "id": "zO0_4J0VPwpp",
        "colab_type": "code",
        "colab": {
          "base_uri": "https://localhost:8080/",
          "height": 68
        },
        "outputId": "5ea6e6c6-212e-4a0e-e05a-ce347ac44527"
      },
      "source": [
        "# Chunck x into 3 separate parts\n",
        "\n",
        "tensor_chunk = torch.chunk(x, 3, 0)\n",
        "tensor_chunk"
      ],
      "execution_count": 29,
      "outputs": [
        {
          "output_type": "execute_result",
          "data": {
            "text/plain": [
              "(tensor([0.1000, 0.8071, 1.5143, 2.2214, 2.9286]),\n",
              " tensor([3.6357, 4.3429, 5.0500, 5.7571, 6.4643]),\n",
              " tensor([ 7.1714,  7.8786,  8.5857,  9.2929, 10.0000]))"
            ]
          },
          "metadata": {
            "tags": []
          },
          "execution_count": 29
        }
      ]
    },
    {
      "cell_type": "code",
      "metadata": {
        "id": "4XQTxcWYQ64a",
        "colab_type": "code",
        "colab": {
          "base_uri": "https://localhost:8080/",
          "height": 51
        },
        "outputId": "a1f05ee4-cd86-4976-f69e-da549589fd8a"
      },
      "source": [
        "# Concatenate tensors\n",
        "\n",
        "tensor1 = tensor_chunk[0]\n",
        "tensor2 = tensor_chunk[1]\n",
        "tensor3 = torch.tensor([3.0, 4.0, 5.0])\n",
        "\n",
        "torch.cat((tensor1, tensor2, tensor3), 0)"
      ],
      "execution_count": 30,
      "outputs": [
        {
          "output_type": "execute_result",
          "data": {
            "text/plain": [
              "tensor([0.1000, 0.8071, 1.5143, 2.2214, 2.9286, 3.6357, 4.3429, 5.0500, 5.7571,\n",
              "        6.4643, 3.0000, 4.0000, 5.0000])"
            ]
          },
          "metadata": {
            "tags": []
          },
          "execution_count": 30
        }
      ]
    },
    {
      "cell_type": "code",
      "metadata": {
        "id": "ZCq6N8kdRvGX",
        "colab_type": "code",
        "colab": {
          "base_uri": "https://localhost:8080/",
          "height": 68
        },
        "outputId": "4cee84a4-b9d5-4ffc-9f64-c47805e38fd9"
      },
      "source": [
        "# Create a 3X3 tensor with radon numbers\n",
        "\n",
        "random_tensor = torch.rand(3,3)\n",
        "random_tensor"
      ],
      "execution_count": 31,
      "outputs": [
        {
          "output_type": "execute_result",
          "data": {
            "text/plain": [
              "tensor([[0.1804, 0.6054, 0.6588],\n",
              "        [0.4810, 0.1374, 0.9261],\n",
              "        [0.1096, 0.2100, 0.1969]])"
            ]
          },
          "metadata": {
            "tags": []
          },
          "execution_count": 31
        }
      ]
    },
    {
      "cell_type": "code",
      "metadata": {
        "id": "vWoVeIwrSNY4",
        "colab_type": "code",
        "colab": {
          "base_uri": "https://localhost:8080/",
          "height": 34
        },
        "outputId": "f055d48e-5a3e-43ea-d213-9d5d06064fc7"
      },
      "source": [
        "# Get values from the tensor by index\n",
        "\n",
        "random_tensor[0, 1]"
      ],
      "execution_count": 32,
      "outputs": [
        {
          "output_type": "execute_result",
          "data": {
            "text/plain": [
              "tensor(0.6054)"
            ]
          },
          "metadata": {
            "tags": []
          },
          "execution_count": 32
        }
      ]
    },
    {
      "cell_type": "code",
      "metadata": {
        "id": "9CVxSA7MSbBE",
        "colab_type": "code",
        "colab": {
          "base_uri": "https://localhost:8080/",
          "height": 51
        },
        "outputId": "1cf59d36-7671-4c7e-95fb-5931946839ac"
      },
      "source": [
        "# Slice the tensor\n",
        "random_tensor[1:, 1:]"
      ],
      "execution_count": 33,
      "outputs": [
        {
          "output_type": "execute_result",
          "data": {
            "text/plain": [
              "tensor([[0.1374, 0.9261],\n",
              "        [0.2100, 0.1969]])"
            ]
          },
          "metadata": {
            "tags": []
          },
          "execution_count": 33
        }
      ]
    },
    {
      "cell_type": "code",
      "metadata": {
        "id": "FlJMJcVqSitF",
        "colab_type": "code",
        "colab": {
          "base_uri": "https://localhost:8080/",
          "height": 34
        },
        "outputId": "c0a13636-8b09-41b3-ee9e-65fd022e89c5"
      },
      "source": [
        "# Get size of tensor\n",
        "\n",
        "random_tensor.size()"
      ],
      "execution_count": 34,
      "outputs": [
        {
          "output_type": "execute_result",
          "data": {
            "text/plain": [
              "torch.Size([3, 3])"
            ]
          },
          "metadata": {
            "tags": []
          },
          "execution_count": 34
        }
      ]
    },
    {
      "cell_type": "code",
      "metadata": {
        "id": "-klWRzd6SsUB",
        "colab_type": "code",
        "colab": {
          "base_uri": "https://localhost:8080/",
          "height": 34
        },
        "outputId": "ce6c6c3e-698f-43a6-bffe-4b76c4c1159f"
      },
      "source": [
        "# View the tensor as a 1-D tensor with 9 elements (3*3)\n",
        "\n",
        "resized_tensor = random_tensor.view(9)\n",
        "resized_tensor"
      ],
      "execution_count": 35,
      "outputs": [
        {
          "output_type": "execute_result",
          "data": {
            "text/plain": [
              "tensor([0.1804, 0.6054, 0.6588, 0.4810, 0.1374, 0.9261, 0.1096, 0.2100, 0.1969])"
            ]
          },
          "metadata": {
            "tags": []
          },
          "execution_count": 35
        }
      ]
    },
    {
      "cell_type": "code",
      "metadata": {
        "id": "-kCtDBKoTC9X",
        "colab_type": "code",
        "colab": {
          "base_uri": "https://localhost:8080/",
          "height": 51
        },
        "outputId": "0c1cb501-c18d-45fd-f671-acbcebae5fd8"
      },
      "source": [
        "# note * resized tensor and original tensor have the same memory address so \n",
        "# a change to the original tensor would be reflected in the copy tensor\n",
        "\n",
        "random_tensor[2,2] = 10.0\n",
        "resized_tensor"
      ],
      "execution_count": 36,
      "outputs": [
        {
          "output_type": "execute_result",
          "data": {
            "text/plain": [
              "tensor([ 0.1804,  0.6054,  0.6588,  0.4810,  0.1374,  0.9261,  0.1096,  0.2100,\n",
              "        10.0000])"
            ]
          },
          "metadata": {
            "tags": []
          },
          "execution_count": 36
        }
      ]
    },
    {
      "cell_type": "code",
      "metadata": {
        "id": "DvoBZkqYTnt4",
        "colab_type": "code",
        "colab": {
          "base_uri": "https://localhost:8080/",
          "height": 68
        },
        "outputId": "a95af2e9-3bd9-4258-f025-5a4f8f259f40"
      },
      "source": [
        "random_tensor"
      ],
      "execution_count": 37,
      "outputs": [
        {
          "output_type": "execute_result",
          "data": {
            "text/plain": [
              "tensor([[ 0.1804,  0.6054,  0.6588],\n",
              "        [ 0.4810,  0.1374,  0.9261],\n",
              "        [ 0.1096,  0.2100, 10.0000]])"
            ]
          },
          "metadata": {
            "tags": []
          },
          "execution_count": 37
        }
      ]
    },
    {
      "cell_type": "code",
      "metadata": {
        "id": "kZDEJs1bTsx8",
        "colab_type": "code",
        "colab": {
          "base_uri": "https://localhost:8080/",
          "height": 34
        },
        "outputId": "5721e4ab-6dda-44a2-a97c-4453cc30eb19"
      },
      "source": [
        "random_tensor.shape"
      ],
      "execution_count": 38,
      "outputs": [
        {
          "output_type": "execute_result",
          "data": {
            "text/plain": [
              "torch.Size([3, 3])"
            ]
          },
          "metadata": {
            "tags": []
          },
          "execution_count": 38
        }
      ]
    },
    {
      "cell_type": "code",
      "metadata": {
        "id": "6BFXyYxwTvw3",
        "colab_type": "code",
        "colab": {
          "base_uri": "https://localhost:8080/",
          "height": 204
        },
        "outputId": "17b9963b-f6a2-4a77-ded2-5277288f456e"
      },
      "source": [
        "# Change shape of a tensor by squeezing and unsqueezing\n",
        "\n",
        "tensor_unsqueeze = torch.unsqueeze(random_tensor, 2)\n",
        "tensor_unsqueeze"
      ],
      "execution_count": 39,
      "outputs": [
        {
          "output_type": "execute_result",
          "data": {
            "text/plain": [
              "tensor([[[ 0.1804],\n",
              "         [ 0.6054],\n",
              "         [ 0.6588]],\n",
              "\n",
              "        [[ 0.4810],\n",
              "         [ 0.1374],\n",
              "         [ 0.9261]],\n",
              "\n",
              "        [[ 0.1096],\n",
              "         [ 0.2100],\n",
              "         [10.0000]]])"
            ]
          },
          "metadata": {
            "tags": []
          },
          "execution_count": 39
        }
      ]
    },
    {
      "cell_type": "code",
      "metadata": {
        "id": "Xw1Yd79WUHAt",
        "colab_type": "code",
        "colab": {
          "base_uri": "https://localhost:8080/",
          "height": 34
        },
        "outputId": "87461657-eb4d-47d0-d7d7-bacfec24f5a5"
      },
      "source": [
        "tensor_unsqueeze.shape"
      ],
      "execution_count": 40,
      "outputs": [
        {
          "output_type": "execute_result",
          "data": {
            "text/plain": [
              "torch.Size([3, 3, 1])"
            ]
          },
          "metadata": {
            "tags": []
          },
          "execution_count": 40
        }
      ]
    },
    {
      "cell_type": "code",
      "metadata": {
        "id": "-qel80kyURys",
        "colab_type": "code",
        "colab": {
          "base_uri": "https://localhost:8080/",
          "height": 51
        },
        "outputId": "34e9c483-833a-4b42-c19f-796e1c22239e"
      },
      "source": [
        "initial_tensor"
      ],
      "execution_count": 41,
      "outputs": [
        {
          "output_type": "execute_result",
          "data": {
            "text/plain": [
              "tensor([[10., 10., 10.],\n",
              "        [10., 10., 10.]])"
            ]
          },
          "metadata": {
            "tags": []
          },
          "execution_count": 41
        }
      ]
    },
    {
      "cell_type": "code",
      "metadata": {
        "id": "HGT8Bk3BUXAn",
        "colab_type": "code",
        "colab": {
          "base_uri": "https://localhost:8080/",
          "height": 68
        },
        "outputId": "0634708b-a4d4-4d19-c0eb-58a5bd5676b9"
      },
      "source": [
        "# Transpose tensor\n",
        "\n",
        "tensor_transpose = torch.transpose(initial_tensor, 0, 1)\n",
        "tensor_transpose"
      ],
      "execution_count": 42,
      "outputs": [
        {
          "output_type": "execute_result",
          "data": {
            "text/plain": [
              "tensor([[10., 10.],\n",
              "        [10., 10.],\n",
              "        [10., 10.]])"
            ]
          },
          "metadata": {
            "tags": []
          },
          "execution_count": 42
        }
      ]
    },
    {
      "cell_type": "code",
      "metadata": {
        "id": "pJazKDFfUhhl",
        "colab_type": "code",
        "colab": {
          "base_uri": "https://localhost:8080/",
          "height": 68
        },
        "outputId": "ef546c8b-cc17-49b9-e9ad-1fd0b0cb6c52"
      },
      "source": [
        "# Sort values in tensor\n",
        "\n",
        "sorted_tensor, sorted_indices = torch.sort(random_tensor)\n",
        "sorted_tensor"
      ],
      "execution_count": 43,
      "outputs": [
        {
          "output_type": "execute_result",
          "data": {
            "text/plain": [
              "tensor([[ 0.1804,  0.6054,  0.6588],\n",
              "        [ 0.1374,  0.4810,  0.9261],\n",
              "        [ 0.1096,  0.2100, 10.0000]])"
            ]
          },
          "metadata": {
            "tags": []
          },
          "execution_count": 43
        }
      ]
    },
    {
      "cell_type": "code",
      "metadata": {
        "id": "jIX0GWF3U620",
        "colab_type": "code",
        "colab": {
          "base_uri": "https://localhost:8080/",
          "height": 68
        },
        "outputId": "281b8287-b92b-4909-f2bc-e9d672e7b203"
      },
      "source": [
        "sorted_indices"
      ],
      "execution_count": 44,
      "outputs": [
        {
          "output_type": "execute_result",
          "data": {
            "text/plain": [
              "tensor([[0, 1, 2],\n",
              "        [1, 0, 2],\n",
              "        [0, 1, 2]])"
            ]
          },
          "metadata": {
            "tags": []
          },
          "execution_count": 44
        }
      ]
    },
    {
      "cell_type": "code",
      "metadata": {
        "id": "bKbBb6_UVCFj",
        "colab_type": "code",
        "colab": {
          "base_uri": "https://localhost:8080/",
          "height": 34
        },
        "outputId": "5d6f54bf-496b-4275-97c9-8d21b1ca82de"
      },
      "source": [
        "# Create a 1-D float tensor \n",
        "\n",
        "tensor_float = torch.FloatTensor([-1.1, -2.2, 3.3])\n",
        "tensor_float"
      ],
      "execution_count": 45,
      "outputs": [
        {
          "output_type": "execute_result",
          "data": {
            "text/plain": [
              "tensor([-1.1000, -2.2000,  3.3000])"
            ]
          },
          "metadata": {
            "tags": []
          },
          "execution_count": 45
        }
      ]
    },
    {
      "cell_type": "code",
      "metadata": {
        "id": "t8cbahzDVe-Q",
        "colab_type": "code",
        "colab": {
          "base_uri": "https://localhost:8080/",
          "height": 34
        },
        "outputId": "fbb3f5fb-d849-410c-cd93-b879485a1b67"
      },
      "source": [
        "# Get the absolute values of the tensor\n",
        "\n",
        "tensor_abs = torch.abs(tensor_float)\n",
        "tensor_abs"
      ],
      "execution_count": 46,
      "outputs": [
        {
          "output_type": "execute_result",
          "data": {
            "text/plain": [
              "tensor([1.1000, 2.2000, 3.3000])"
            ]
          },
          "metadata": {
            "tags": []
          },
          "execution_count": 46
        }
      ]
    },
    {
      "cell_type": "code",
      "metadata": {
        "id": "xFB2YtQ7Vus6",
        "colab_type": "code",
        "colab": {}
      },
      "source": [
        "# Create two tensors with random values\n",
        "\n",
        "rand1 = torch.abs(torch.rand(2, 3))\n",
        "rand2 = torch.abs(torch.rand(2, 3))"
      ],
      "execution_count": 0,
      "outputs": []
    },
    {
      "cell_type": "code",
      "metadata": {
        "id": "Y55xG1alWeAl",
        "colab_type": "code",
        "colab": {
          "base_uri": "https://localhost:8080/",
          "height": 51
        },
        "outputId": "eed2197a-953e-4dc5-c205-c937cbb34036"
      },
      "source": [
        "rand1"
      ],
      "execution_count": 48,
      "outputs": [
        {
          "output_type": "execute_result",
          "data": {
            "text/plain": [
              "tensor([[0.6688, 0.2732, 0.6260],\n",
              "        [0.7696, 0.1880, 0.3173]])"
            ]
          },
          "metadata": {
            "tags": []
          },
          "execution_count": 48
        }
      ]
    },
    {
      "cell_type": "code",
      "metadata": {
        "id": "jtFbgacRWga7",
        "colab_type": "code",
        "colab": {
          "base_uri": "https://localhost:8080/",
          "height": 51
        },
        "outputId": "62ac7c91-1862-4e96-e09a-ce990d037ac9"
      },
      "source": [
        "rand2"
      ],
      "execution_count": 49,
      "outputs": [
        {
          "output_type": "execute_result",
          "data": {
            "text/plain": [
              "tensor([[0.1969, 0.4801, 0.5976],\n",
              "        [0.5697, 0.6583, 0.8709]])"
            ]
          },
          "metadata": {
            "tags": []
          },
          "execution_count": 49
        }
      ]
    },
    {
      "cell_type": "code",
      "metadata": {
        "id": "Zmj7N3WYWhMC",
        "colab_type": "code",
        "colab": {
          "base_uri": "https://localhost:8080/",
          "height": 51
        },
        "outputId": "5dc284ba-84e6-42fb-b079-406f2552f690"
      },
      "source": [
        "# Add the two tensors\n",
        "\n",
        "add1 = rand1 + rand2\n",
        "add1"
      ],
      "execution_count": 50,
      "outputs": [
        {
          "output_type": "execute_result",
          "data": {
            "text/plain": [
              "tensor([[0.8656, 0.7533, 1.2237],\n",
              "        [1.3393, 0.8463, 1.1881]])"
            ]
          },
          "metadata": {
            "tags": []
          },
          "execution_count": 50
        }
      ]
    },
    {
      "cell_type": "code",
      "metadata": {
        "id": "UG2KCgfZWmqM",
        "colab_type": "code",
        "colab": {
          "base_uri": "https://localhost:8080/",
          "height": 51
        },
        "outputId": "284f4ae9-d438-4f79-9f7d-6fee160b4d84"
      },
      "source": [
        "# Create another tensor with + and - values\n",
        "\n",
        "tensor = torch.Tensor([[-1, -2, -3], [1, 2, 3]])\n",
        "tensor"
      ],
      "execution_count": 51,
      "outputs": [
        {
          "output_type": "execute_result",
          "data": {
            "text/plain": [
              "tensor([[-1., -2., -3.],\n",
              "        [ 1.,  2.,  3.]])"
            ]
          },
          "metadata": {
            "tags": []
          },
          "execution_count": 51
        }
      ]
    },
    {
      "cell_type": "code",
      "metadata": {
        "id": "njal80pGXIGu",
        "colab_type": "code",
        "colab": {
          "base_uri": "https://localhost:8080/",
          "height": 51
        },
        "outputId": "1975caca-10c5-4467-a091-73b941a4f577"
      },
      "source": [
        "# Perform tensor-wise division\n",
        "tensor_div = torch.div(tensor, tensor + 0.3)\n",
        "tensor_div"
      ],
      "execution_count": 52,
      "outputs": [
        {
          "output_type": "execute_result",
          "data": {
            "text/plain": [
              "tensor([[1.4286, 1.1765, 1.1111],\n",
              "        [0.7692, 0.8696, 0.9091]])"
            ]
          },
          "metadata": {
            "tags": []
          },
          "execution_count": 52
        }
      ]
    },
    {
      "cell_type": "code",
      "metadata": {
        "id": "vOEJl2UvXR1q",
        "colab_type": "code",
        "colab": {
          "base_uri": "https://localhost:8080/",
          "height": 51
        },
        "outputId": "e4955bb8-fd60-4b15-8593-6d2b77ca8061"
      },
      "source": [
        "# Clamp tensor to certain min and max values\n",
        "\n",
        "tensor_clamp = torch.clamp(tensor, min=-0.2, max=2)\n",
        "tensor_clamp"
      ],
      "execution_count": 53,
      "outputs": [
        {
          "output_type": "execute_result",
          "data": {
            "text/plain": [
              "tensor([[-0.2000, -0.2000, -0.2000],\n",
              "        [ 1.0000,  2.0000,  2.0000]])"
            ]
          },
          "metadata": {
            "tags": []
          },
          "execution_count": 53
        }
      ]
    },
    {
      "cell_type": "code",
      "metadata": {
        "id": "-bdoZ11cmQRF",
        "colab_type": "code",
        "colab": {}
      },
      "source": [
        "# Create two new tensors\n",
        "\n",
        "t1 = torch.Tensor([1, 2])\n",
        "t2 = torch.Tensor([10, 20])"
      ],
      "execution_count": 0,
      "outputs": []
    },
    {
      "cell_type": "code",
      "metadata": {
        "id": "0q3BM6oHmpFl",
        "colab_type": "code",
        "colab": {
          "base_uri": "https://localhost:8080/",
          "height": 34
        },
        "outputId": "70d5d1aa-0034-4e3b-db1f-597b7ef66fa9"
      },
      "source": [
        "# Perform matrix multiplication on the two tensors above\n",
        "# using dot product\n",
        "\n",
        "dot_product = torch.dot(t1, t2)\n",
        "dot_product"
      ],
      "execution_count": 55,
      "outputs": [
        {
          "output_type": "execute_result",
          "data": {
            "text/plain": [
              "tensor(50.)"
            ]
          },
          "metadata": {
            "tags": []
          },
          "execution_count": 55
        }
      ]
    },
    {
      "cell_type": "code",
      "metadata": {
        "id": "DhTx5jo2m-EL",
        "colab_type": "code",
        "colab": {}
      },
      "source": [
        "# Create a matrix and a vector\n",
        "\n",
        "matrix = torch.Tensor([[1, 2, 3],\n",
        "                       [4, 5, 6]])\n",
        "\n",
        "vector = torch.Tensor([0, 1, 2])"
      ],
      "execution_count": 0,
      "outputs": []
    },
    {
      "cell_type": "code",
      "metadata": {
        "id": "fd5MRvjVnYKA",
        "colab_type": "code",
        "colab": {
          "base_uri": "https://localhost:8080/",
          "height": 34
        },
        "outputId": "13e6ff77-f1c3-415f-c317-c2fe90c96289"
      },
      "source": [
        "# In Pytorch we can also multiply a matrix and a vector\n",
        "\n",
        "matrix_vector = torch.mv(matrix, vector)\n",
        "matrix_vector"
      ],
      "execution_count": 57,
      "outputs": [
        {
          "output_type": "execute_result",
          "data": {
            "text/plain": [
              "tensor([ 8., 17.])"
            ]
          },
          "metadata": {
            "tags": []
          },
          "execution_count": 57
        }
      ]
    },
    {
      "cell_type": "code",
      "metadata": {
        "id": "ph-frDEBnlhX",
        "colab_type": "code",
        "colab": {}
      },
      "source": [
        "# Create another matrix\n",
        "\n",
        "matrix_2 = torch.Tensor([[10, 30],\n",
        "                         [20, 0],\n",
        "                         [0, 50]])"
      ],
      "execution_count": 0,
      "outputs": []
    },
    {
      "cell_type": "code",
      "metadata": {
        "id": "336lrpAon6Tj",
        "colab_type": "code",
        "colab": {
          "base_uri": "https://localhost:8080/",
          "height": 51
        },
        "outputId": "45214a8d-5d0f-48ca-9dde-ccb7fd2a3cbe"
      },
      "source": [
        "# Perform matrix multiuplication (mm)\n",
        "\n",
        "matrix_mul = torch.mm(matrix, matrix_2)\n",
        "matrix_mul"
      ],
      "execution_count": 59,
      "outputs": [
        {
          "output_type": "execute_result",
          "data": {
            "text/plain": [
              "tensor([[ 50., 180.],\n",
              "        [140., 420.]])"
            ]
          },
          "metadata": {
            "tags": []
          },
          "execution_count": 59
        }
      ]
    },
    {
      "cell_type": "code",
      "metadata": {
        "id": "BcXGA266oEZJ",
        "colab_type": "code",
        "colab": {
          "base_uri": "https://localhost:8080/",
          "height": 34
        },
        "outputId": "7566c28b-7e76-4291-c68e-aa79faa2c5c4"
      },
      "source": [
        "# Get the index of the max value across a particular dimension\n",
        "\n",
        "torch.argmax(matrix_mul, dim=1)"
      ],
      "execution_count": 60,
      "outputs": [
        {
          "output_type": "execute_result",
          "data": {
            "text/plain": [
              "tensor([1, 1])"
            ]
          },
          "metadata": {
            "tags": []
          },
          "execution_count": 60
        }
      ]
    },
    {
      "cell_type": "code",
      "metadata": {
        "id": "MhLkCEoMoV1z",
        "colab_type": "code",
        "colab": {
          "base_uri": "https://localhost:8080/",
          "height": 34
        },
        "outputId": "0a2a7389-0f29-4a19-abc4-87a07fcad095"
      },
      "source": [
        "matrix_mul[1,1]"
      ],
      "execution_count": 61,
      "outputs": [
        {
          "output_type": "execute_result",
          "data": {
            "text/plain": [
              "tensor(420.)"
            ]
          },
          "metadata": {
            "tags": []
          },
          "execution_count": 61
        }
      ]
    },
    {
      "cell_type": "code",
      "metadata": {
        "id": "ZleTbTzdokwV",
        "colab_type": "code",
        "colab": {
          "base_uri": "https://localhost:8080/",
          "height": 34
        },
        "outputId": "23bee738-d18b-4e28-81d0-39075ec67722"
      },
      "source": [
        "# Get the index of the min value\n",
        "\n",
        "torch.argmin(matrix_mul, dim=1)"
      ],
      "execution_count": 62,
      "outputs": [
        {
          "output_type": "execute_result",
          "data": {
            "text/plain": [
              "tensor([0, 0])"
            ]
          },
          "metadata": {
            "tags": []
          },
          "execution_count": 62
        }
      ]
    },
    {
      "cell_type": "code",
      "metadata": {
        "id": "0fSbRPpHosxH",
        "colab_type": "code",
        "colab": {
          "base_uri": "https://localhost:8080/",
          "height": 34
        },
        "outputId": "d4b36f1c-e28a-4e5c-ca2e-01c6054d2227"
      },
      "source": [
        "matrix_mul[0,0]"
      ],
      "execution_count": 63,
      "outputs": [
        {
          "output_type": "execute_result",
          "data": {
            "text/plain": [
              "tensor(50.)"
            ]
          },
          "metadata": {
            "tags": []
          },
          "execution_count": 63
        }
      ]
    },
    {
      "cell_type": "markdown",
      "metadata": {
        "id": "Kiav57CRpGaf",
        "colab_type": "text"
      },
      "source": [
        "## Conversions between Pytorch and Numpy "
      ]
    },
    {
      "cell_type": "code",
      "metadata": {
        "id": "SZCO25lpo-61",
        "colab_type": "code",
        "colab": {}
      },
      "source": [
        "import numpy as np"
      ],
      "execution_count": 0,
      "outputs": []
    },
    {
      "cell_type": "code",
      "metadata": {
        "id": "8sCEDfHRpT9Q",
        "colab_type": "code",
        "colab": {
          "base_uri": "https://localhost:8080/",
          "height": 85
        },
        "outputId": "076433ce-8985-4c20-c0fe-04afb498783a"
      },
      "source": [
        "# Create a new tensor with random values\n",
        "\n",
        "tensor = torch.rand(4, 3)\n",
        "tensor"
      ],
      "execution_count": 65,
      "outputs": [
        {
          "output_type": "execute_result",
          "data": {
            "text/plain": [
              "tensor([[0.4104, 0.4827, 0.5824],\n",
              "        [0.5948, 0.8272, 0.8067],\n",
              "        [0.2073, 0.0654, 0.7156],\n",
              "        [0.2299, 0.3968, 0.7596]])"
            ]
          },
          "metadata": {
            "tags": []
          },
          "execution_count": 65
        }
      ]
    },
    {
      "cell_type": "code",
      "metadata": {
        "id": "dca9lkVfphoU",
        "colab_type": "code",
        "colab": {
          "base_uri": "https://localhost:8080/",
          "height": 34
        },
        "outputId": "45e92075-da08-4c70-d346-77e3b2e5ba01"
      },
      "source": [
        "# check type\n",
        "\n",
        "type(tensor)\n",
        "\n"
      ],
      "execution_count": 66,
      "outputs": [
        {
          "output_type": "execute_result",
          "data": {
            "text/plain": [
              "torch.Tensor"
            ]
          },
          "metadata": {
            "tags": []
          },
          "execution_count": 66
        }
      ]
    },
    {
      "cell_type": "code",
      "metadata": {
        "id": "Few_vjywptmB",
        "colab_type": "code",
        "colab": {
          "base_uri": "https://localhost:8080/",
          "height": 85
        },
        "outputId": "061de08c-dfa8-472b-faeb-87b321fc8150"
      },
      "source": [
        "# Convert tensor to a numpy array\n",
        "\n",
        "numpy_from_tensor = tensor.numpy()\n",
        "numpy_from_tensor"
      ],
      "execution_count": 67,
      "outputs": [
        {
          "output_type": "execute_result",
          "data": {
            "text/plain": [
              "array([[0.4104271 , 0.48272985, 0.58242667],\n",
              "       [0.59482265, 0.82721066, 0.80672765],\n",
              "       [0.2073437 , 0.06537104, 0.71558857],\n",
              "       [0.22989696, 0.3968014 , 0.7596284 ]], dtype=float32)"
            ]
          },
          "metadata": {
            "tags": []
          },
          "execution_count": 67
        }
      ]
    },
    {
      "cell_type": "code",
      "metadata": {
        "id": "2bdtqoM9p-vu",
        "colab_type": "code",
        "colab": {
          "base_uri": "https://localhost:8080/",
          "height": 34
        },
        "outputId": "3378ec87-4c77-4e04-dc9d-5fec65928656"
      },
      "source": [
        "# check type\n",
        "\n",
        "type(numpy_from_tensor)"
      ],
      "execution_count": 68,
      "outputs": [
        {
          "output_type": "execute_result",
          "data": {
            "text/plain": [
              "numpy.ndarray"
            ]
          },
          "metadata": {
            "tags": []
          },
          "execution_count": 68
        }
      ]
    },
    {
      "cell_type": "code",
      "metadata": {
        "id": "HfpHr-jNqKJm",
        "colab_type": "code",
        "colab": {
          "base_uri": "https://localhost:8080/",
          "height": 34
        },
        "outputId": "0c5b345e-f107-4889-f004-b3c98496a455"
      },
      "source": [
        "# check if it is a tensor\n",
        "\n",
        "torch.is_tensor(tensor)"
      ],
      "execution_count": 69,
      "outputs": [
        {
          "output_type": "execute_result",
          "data": {
            "text/plain": [
              "True"
            ]
          },
          "metadata": {
            "tags": []
          },
          "execution_count": 69
        }
      ]
    },
    {
      "cell_type": "code",
      "metadata": {
        "id": "p-YpZKDDqURX",
        "colab_type": "code",
        "colab": {
          "base_uri": "https://localhost:8080/",
          "height": 34
        },
        "outputId": "683ae95b-8481-4600-f9f2-7b253755a341"
      },
      "source": [
        "# try same but with the np array\n",
        "\n",
        "torch.is_tensor(numpy_from_tensor)"
      ],
      "execution_count": 70,
      "outputs": [
        {
          "output_type": "execute_result",
          "data": {
            "text/plain": [
              "False"
            ]
          },
          "metadata": {
            "tags": []
          },
          "execution_count": 70
        }
      ]
    },
    {
      "cell_type": "markdown",
      "metadata": {
        "id": "Q9M6ihwcqjRo",
        "colab_type": "text"
      },
      "source": [
        "The Pytorch tensor and the numpy array share the same memory address so the changes made to one would be reflected on the other."
      ]
    },
    {
      "cell_type": "code",
      "metadata": {
        "id": "jtg1kRhfqbxP",
        "colab_type": "code",
        "colab": {
          "base_uri": "https://localhost:8080/",
          "height": 85
        },
        "outputId": "42c241e3-e2bc-41f1-beef-524bc32d7676"
      },
      "source": [
        "numpy_from_tensor[0, 0] = 100.0\n",
        "\n",
        "numpy_from_tensor"
      ],
      "execution_count": 71,
      "outputs": [
        {
          "output_type": "execute_result",
          "data": {
            "text/plain": [
              "array([[1.0000000e+02, 4.8272985e-01, 5.8242667e-01],\n",
              "       [5.9482265e-01, 8.2721066e-01, 8.0672765e-01],\n",
              "       [2.0734370e-01, 6.5371037e-02, 7.1558857e-01],\n",
              "       [2.2989696e-01, 3.9680141e-01, 7.5962842e-01]], dtype=float32)"
            ]
          },
          "metadata": {
            "tags": []
          },
          "execution_count": 71
        }
      ]
    },
    {
      "cell_type": "code",
      "metadata": {
        "id": "IuWxPEzjq9q1",
        "colab_type": "code",
        "colab": {
          "base_uri": "https://localhost:8080/",
          "height": 85
        },
        "outputId": "a199145a-c419-4760-981c-a7cea671b05a"
      },
      "source": [
        "tensor"
      ],
      "execution_count": 72,
      "outputs": [
        {
          "output_type": "execute_result",
          "data": {
            "text/plain": [
              "tensor([[1.0000e+02, 4.8273e-01, 5.8243e-01],\n",
              "        [5.9482e-01, 8.2721e-01, 8.0673e-01],\n",
              "        [2.0734e-01, 6.5371e-02, 7.1559e-01],\n",
              "        [2.2990e-01, 3.9680e-01, 7.5963e-01]])"
            ]
          },
          "metadata": {
            "tags": []
          },
          "execution_count": 72
        }
      ]
    },
    {
      "cell_type": "code",
      "metadata": {
        "id": "UEzn6j25rIVx",
        "colab_type": "code",
        "colab": {
          "base_uri": "https://localhost:8080/",
          "height": 68
        },
        "outputId": "af19e8e3-05b1-4790-a923-aee30764f3f3"
      },
      "source": [
        "# Instantiate a numpy array\n",
        "\n",
        "numpy_arr = np.array([[1.0, 2.0, 3.0],\n",
        "                      [10.0, 20.0, 30.0,],\n",
        "                      [100.0, 200.0, 300.0]])\n",
        "numpy_arr"
      ],
      "execution_count": 73,
      "outputs": [
        {
          "output_type": "execute_result",
          "data": {
            "text/plain": [
              "array([[  1.,   2.,   3.],\n",
              "       [ 10.,  20.,  30.],\n",
              "       [100., 200., 300.]])"
            ]
          },
          "metadata": {
            "tags": []
          },
          "execution_count": 73
        }
      ]
    },
    {
      "cell_type": "code",
      "metadata": {
        "id": "JNFTpXjMrdWy",
        "colab_type": "code",
        "colab": {
          "base_uri": "https://localhost:8080/",
          "height": 68
        },
        "outputId": "9171022e-8864-4a70-98dd-0625b0dc3fc8"
      },
      "source": [
        "# Convert the np array to a tensor\n",
        "\n",
        "tensor_from_np = torch.from_numpy(numpy_arr)\n",
        "tensor_from_np"
      ],
      "execution_count": 74,
      "outputs": [
        {
          "output_type": "execute_result",
          "data": {
            "text/plain": [
              "tensor([[  1.,   2.,   3.],\n",
              "        [ 10.,  20.,  30.],\n",
              "        [100., 200., 300.]], dtype=torch.float64)"
            ]
          },
          "metadata": {
            "tags": []
          },
          "execution_count": 74
        }
      ]
    },
    {
      "cell_type": "code",
      "metadata": {
        "id": "mtSVbQEZrqbS",
        "colab_type": "code",
        "colab": {
          "base_uri": "https://localhost:8080/",
          "height": 34
        },
        "outputId": "54fbd7fd-f711-45b2-ab9c-4099ddc542fa"
      },
      "source": [
        "# Check type\n",
        "\n",
        "type(tensor_from_np)"
      ],
      "execution_count": 75,
      "outputs": [
        {
          "output_type": "execute_result",
          "data": {
            "text/plain": [
              "torch.Tensor"
            ]
          },
          "metadata": {
            "tags": []
          },
          "execution_count": 75
        }
      ]
    },
    {
      "cell_type": "code",
      "metadata": {
        "id": "KdLgdhZxr-Fz",
        "colab_type": "code",
        "colab": {
          "base_uri": "https://localhost:8080/",
          "height": 34
        },
        "outputId": "d5b07987-2977-4e2b-9bd0-1038c7e39e5f"
      },
      "source": [
        "torch.is_tensor(tensor_from_np)"
      ],
      "execution_count": 76,
      "outputs": [
        {
          "output_type": "execute_result",
          "data": {
            "text/plain": [
              "True"
            ]
          },
          "metadata": {
            "tags": []
          },
          "execution_count": 76
        }
      ]
    },
    {
      "cell_type": "code",
      "metadata": {
        "id": "EcvarTbdsCuc",
        "colab_type": "code",
        "colab": {
          "base_uri": "https://localhost:8080/",
          "height": 68
        },
        "outputId": "d585fd34-b526-479e-c7ea-cf5b3e234a27"
      },
      "source": [
        "# Change values in the tensor\n",
        "\n",
        "tensor_from_np[0] = 1\n",
        "tensor_from_np"
      ],
      "execution_count": 77,
      "outputs": [
        {
          "output_type": "execute_result",
          "data": {
            "text/plain": [
              "tensor([[  1.,   1.,   1.],\n",
              "        [ 10.,  20.,  30.],\n",
              "        [100., 200., 300.]], dtype=torch.float64)"
            ]
          },
          "metadata": {
            "tags": []
          },
          "execution_count": 77
        }
      ]
    },
    {
      "cell_type": "code",
      "metadata": {
        "id": "QBDCkTzjsPxh",
        "colab_type": "code",
        "colab": {
          "base_uri": "https://localhost:8080/",
          "height": 68
        },
        "outputId": "664a3a0b-c0e1-4303-f5f2-e33bea114d0b"
      },
      "source": [
        "numpy_arr"
      ],
      "execution_count": 78,
      "outputs": [
        {
          "output_type": "execute_result",
          "data": {
            "text/plain": [
              "array([[  1.,   1.,   1.],\n",
              "       [ 10.,  20.,  30.],\n",
              "       [100., 200., 300.]])"
            ]
          },
          "metadata": {
            "tags": []
          },
          "execution_count": 78
        }
      ]
    },
    {
      "cell_type": "code",
      "metadata": {
        "id": "QOkyo9H-sS8N",
        "colab_type": "code",
        "colab": {
          "base_uri": "https://localhost:8080/",
          "height": 34
        },
        "outputId": "810c0900-7f1d-480c-b7f4-5f18d34fc818"
      },
      "source": [
        "# Create a new np array\n",
        "\n",
        "numpy_arr_1 = np.array([4, 8])\n",
        "numpy_arr_1"
      ],
      "execution_count": 79,
      "outputs": [
        {
          "output_type": "execute_result",
          "data": {
            "text/plain": [
              "array([4, 8])"
            ]
          },
          "metadata": {
            "tags": []
          },
          "execution_count": 79
        }
      ]
    },
    {
      "cell_type": "code",
      "metadata": {
        "id": "XBgtrx-3s2rU",
        "colab_type": "code",
        "colab": {
          "base_uri": "https://localhost:8080/",
          "height": 34
        },
        "outputId": "3648d910-55f7-4b96-c5d6-b782669cf845"
      },
      "source": [
        "# Create a copy using '.as_tensor'\n",
        "\n",
        "tensor_from_array1 = torch.as_tensor(numpy_arr_1)\n",
        "tensor_from_array1"
      ],
      "execution_count": 80,
      "outputs": [
        {
          "output_type": "execute_result",
          "data": {
            "text/plain": [
              "tensor([4, 8])"
            ]
          },
          "metadata": {
            "tags": []
          },
          "execution_count": 80
        }
      ]
    },
    {
      "cell_type": "code",
      "metadata": {
        "id": "gHzj6rAXtLl2",
        "colab_type": "code",
        "colab": {
          "base_uri": "https://localhost:8080/",
          "height": 34
        },
        "outputId": "d9911645-abd4-4a7f-fbb7-1c332bc9b357"
      },
      "source": [
        "# change values\n",
        "\n",
        "numpy_arr_1[1] = 5\n",
        "numpy_arr_1"
      ],
      "execution_count": 81,
      "outputs": [
        {
          "output_type": "execute_result",
          "data": {
            "text/plain": [
              "array([4, 5])"
            ]
          },
          "metadata": {
            "tags": []
          },
          "execution_count": 81
        }
      ]
    },
    {
      "cell_type": "code",
      "metadata": {
        "id": "L4afJQKftm-8",
        "colab_type": "code",
        "colab": {
          "base_uri": "https://localhost:8080/",
          "height": 34
        },
        "outputId": "18742250-5404-4204-eb61-ee24c355f82a"
      },
      "source": [
        "tensor_from_array1"
      ],
      "execution_count": 82,
      "outputs": [
        {
          "output_type": "execute_result",
          "data": {
            "text/plain": [
              "tensor([4, 5])"
            ]
          },
          "metadata": {
            "tags": []
          },
          "execution_count": 82
        }
      ]
    },
    {
      "cell_type": "markdown",
      "metadata": {
        "id": "7ccQCMLQuPvU",
        "colab_type": "text"
      },
      "source": [
        "### CUDA Semantics"
      ]
    },
    {
      "cell_type": "code",
      "metadata": {
        "id": "5UaY1_0wtpv-",
        "colab_type": "code",
        "colab": {
          "base_uri": "https://localhost:8080/",
          "height": 34
        },
        "outputId": "5669a84f-4912-49c6-b076-8eb4304b5da2"
      },
      "source": [
        "# check to see if CUDA is available\n",
        "\n",
        "torch.cuda.is_available()"
      ],
      "execution_count": 83,
      "outputs": [
        {
          "output_type": "execute_result",
          "data": {
            "text/plain": [
              "True"
            ]
          },
          "metadata": {
            "tags": []
          },
          "execution_count": 83
        }
      ]
    },
    {
      "cell_type": "code",
      "metadata": {
        "id": "50O5Y8ytwmnc",
        "colab_type": "code",
        "colab": {}
      },
      "source": [
        "# Initialize CUDA state for Pytorch\n",
        "\n",
        "torch.cuda.init()"
      ],
      "execution_count": 0,
      "outputs": []
    },
    {
      "cell_type": "code",
      "metadata": {
        "id": "535dtCwWw3dE",
        "colab_type": "code",
        "colab": {
          "base_uri": "https://localhost:8080/",
          "height": 34
        },
        "outputId": "7a3e639d-1ac2-4708-f072-eabdbd80c74f"
      },
      "source": [
        "# check for CUDA active device\n",
        "# it returns the index of the device\n",
        "\n",
        "torch.cuda.current_device()"
      ],
      "execution_count": 85,
      "outputs": [
        {
          "output_type": "execute_result",
          "data": {
            "text/plain": [
              "0"
            ]
          },
          "metadata": {
            "tags": []
          },
          "execution_count": 85
        }
      ]
    },
    {
      "cell_type": "code",
      "metadata": {
        "id": "JLyHQ4tXxQjq",
        "colab_type": "code",
        "colab": {
          "base_uri": "https://localhost:8080/",
          "height": 34
        },
        "outputId": "6d260c9b-b176-4164-c042-b445dd9458f7"
      },
      "source": [
        "# check for number of devices\n",
        "\n",
        "torch.cuda.device_count()"
      ],
      "execution_count": 86,
      "outputs": [
        {
          "output_type": "execute_result",
          "data": {
            "text/plain": [
              "1"
            ]
          },
          "metadata": {
            "tags": []
          },
          "execution_count": 86
        }
      ]
    },
    {
      "cell_type": "code",
      "metadata": {
        "id": "hVxi3gX4zEyy",
        "colab_type": "code",
        "colab": {
          "base_uri": "https://localhost:8080/",
          "height": 34
        },
        "outputId": "fbbda2a5-91df-4a0d-a16b-ea7b461477c9"
      },
      "source": [
        "# create a reference to the current cuda device\n",
        "# going forward we can use this reference \n",
        "\n",
        "cuda = torch.device('cuda')\n",
        "cuda"
      ],
      "execution_count": 87,
      "outputs": [
        {
          "output_type": "execute_result",
          "data": {
            "text/plain": [
              "device(type='cuda')"
            ]
          },
          "metadata": {
            "tags": []
          },
          "execution_count": 87
        }
      ]
    },
    {
      "cell_type": "markdown",
      "metadata": {
        "id": "pVE1TWLxycSz",
        "colab_type": "text"
      },
      "source": [
        "By default, tensors are created in the CPU. To create a tensor in the GPU we must explicitly do so by passing ```device=cuda``` as an argument:\n"
      ]
    },
    {
      "cell_type": "code",
      "metadata": {
        "id": "1nZ2Sjp7xcVL",
        "colab_type": "code",
        "colab": {
          "base_uri": "https://localhost:8080/",
          "height": 34
        },
        "outputId": "705ca707-92b2-444c-ce89-68e8c0a3cb09"
      },
      "source": [
        "tensor_gpu = torch.tensor([10., 20.], device=cuda)\n",
        "tensor_gpu"
      ],
      "execution_count": 88,
      "outputs": [
        {
          "output_type": "execute_result",
          "data": {
            "text/plain": [
              "tensor([10., 20.], device='cuda:0')"
            ]
          },
          "metadata": {
            "tags": []
          },
          "execution_count": 88
        }
      ]
    },
    {
      "cell_type": "code",
      "metadata": {
        "id": "Uud9uXWqy4kJ",
        "colab_type": "code",
        "colab": {
          "base_uri": "https://localhost:8080/",
          "height": 34
        },
        "outputId": "ed201781-2ce8-41e5-ec41-315c55f96dfb"
      },
      "source": [
        "# check memory allocation in cuda\n",
        "\n",
        "torch.cuda.memory_allocated()"
      ],
      "execution_count": 89,
      "outputs": [
        {
          "output_type": "execute_result",
          "data": {
            "text/plain": [
              "512"
            ]
          },
          "metadata": {
            "tags": []
          },
          "execution_count": 89
        }
      ]
    },
    {
      "cell_type": "code",
      "metadata": {
        "id": "GxkiuHtG0wHI",
        "colab_type": "code",
        "colab": {
          "base_uri": "https://localhost:8080/",
          "height": 34
        },
        "outputId": "3d53cb48-16c6-426a-f32b-54d92abb9dc1"
      },
      "source": [
        "# check memory cached\n",
        "\n",
        "torch.cuda.memory_cached()"
      ],
      "execution_count": 90,
      "outputs": [
        {
          "output_type": "execute_result",
          "data": {
            "text/plain": [
              "2097152"
            ]
          },
          "metadata": {
            "tags": []
          },
          "execution_count": 90
        }
      ]
    },
    {
      "cell_type": "code",
      "metadata": {
        "id": "j5e0Fwom084w",
        "colab_type": "code",
        "colab": {}
      },
      "source": [
        "# to free-up the cache\n",
        "\n",
        "torch.cuda.empty_cache()"
      ],
      "execution_count": 0,
      "outputs": []
    },
    {
      "cell_type": "code",
      "metadata": {
        "id": "Ksv6gVLY1Imx",
        "colab_type": "code",
        "colab": {
          "base_uri": "https://localhost:8080/",
          "height": 34
        },
        "outputId": "23cf352e-1a34-4c56-f41a-9c047d555560"
      },
      "source": [
        "# check cache again although the value would be the same as \n",
        "# we don't have any unused memory in the cache\n",
        "\n",
        "torch.cuda.memory_cached()"
      ],
      "execution_count": 92,
      "outputs": [
        {
          "output_type": "execute_result",
          "data": {
            "text/plain": [
              "2097152"
            ]
          },
          "metadata": {
            "tags": []
          },
          "execution_count": 92
        }
      ]
    },
    {
      "cell_type": "markdown",
      "metadata": {
        "id": "kuEi0DZjUCAZ",
        "colab_type": "text"
      },
      "source": [
        "### Working with Gradients\n",
        "\n",
        "**Weights** and **biases** of individual neurons are determined during the training process. \n",
        "\n",
        "Regression-- the simplest neural network. It tries to best-fit a line that passes through the data. \n",
        "  *   ```y = Wx + b```\n",
        "  *   Minimize the sum of squares of the distance of the points from the regression line.\n",
        "\n",
        "The actual training of a neural network happens via Gradient Descent Optimization. \n",
        "\n",
        "MSE = Mean Square Error of Loss. A metric to be minimized during training of regression model. \n",
        "\n",
        "Loss = ```ypredicted``` - ```yactual```\n",
        "\n",
        "Where ```ypredicted``` is, given x, model outputs predicted value of y and ```yactual``` is the actual label, available in the training data. \n",
        "\n",
        "There are three ways to calculate gradients: \n",
        "\n",
        "1.   Symbolic Differentiation -- Conceptually simple but hard to implement\n",
        "\n",
        "2.   Numeric Differentiation -- Easy to implement but won't scale\n",
        "\n",
        "3.   Automatic Differentiation -- Conceptually difficult but easy to implement. \n",
        "\n",
        "Pytorch and Tensorflow rely on automatic differentiation. \n",
        "\n",
        "In Pytorch, the package used to calculate gradients for bacpropagation is **Autograd**\n",
        "\n",
        "- Optimizer uses the error function and tweaks the model parameters to minimize error. \n",
        "\n",
        "- Backward pass: updates parameter values. \n",
        "\n",
        "- Backpropagation is implemented using a technique called reverse auto-differentiation. \n",
        "\n",
        "- Gradient -- vector of partial derivatives -- these gradients apply to specific time t. \n",
        "\n",
        "- ```Parameters (t+1) = Parameters (t) - learning_rate X Gradient(t)\n",
        "\n",
        "- For next time step: update parameter values. Move each parameter value in the direction of reducing gradient.\n",
        "\n",
        "- **Learning rate** is the size of the step  in the direction of the reducing gradient. If we want to take small steps to converge to what's the min value of loss, keep the LR samll and vice versa. Keep in mind that using a small LR the model would take long to train and converge to the lowest loss value. \n",
        "\n",
        "## Automatic Differentiation\n",
        "\n",
        "Reverse-mode auto-differentiation\n",
        "\n",
        "- Used in Pytorch and TF\n",
        "\n",
        "- Two passes in each training step\n",
        "\n",
        "   -   Forward step: Calculate loss\n",
        "   -   Backward step: Update parameter values\n",
        "\n",
        "Automatic Differentiation:\n",
        "\n",
        "-   Relies on a mathematical trick\n",
        "\n",
        "-   Based on Taylor's Series Expansion\n",
        "\n",
        "-   Allows fast approximation of gradients\n",
        "\n",
        "-   It can be performed in two modes: Reverse and Forward mode\n",
        "   \n",
        "    - Forward-mode is similar to numeric differentiation. It requires one pass per parameter and will not scale to complex networks. \n",
        "\n",
        "\n",
        "### Implementing Autograd in Pytorch\n",
        "\n"
      ]
    },
    {
      "cell_type": "code",
      "metadata": {
        "id": "RTXh-LYAUBeT",
        "colab_type": "code",
        "colab": {
          "base_uri": "https://localhost:8080/",
          "height": 51
        },
        "outputId": "631826ed-8228-4923-80f3-8f5dbd3e3a33"
      },
      "source": [
        "# Create two 2X3 tensors\n",
        "\n",
        "tensor_1 = torch.Tensor([[1, 2, 3],\n",
        "                         [4, 5, 6]])\n",
        "\n",
        "tensor_1"
      ],
      "execution_count": 93,
      "outputs": [
        {
          "output_type": "execute_result",
          "data": {
            "text/plain": [
              "tensor([[1., 2., 3.],\n",
              "        [4., 5., 6.]])"
            ]
          },
          "metadata": {
            "tags": []
          },
          "execution_count": 93
        }
      ]
    },
    {
      "cell_type": "code",
      "metadata": {
        "id": "319AC6uN1O0G",
        "colab_type": "code",
        "colab": {
          "base_uri": "https://localhost:8080/",
          "height": 51
        },
        "outputId": "9a37924b-7d68-4475-d065-39adc7c8e9f4"
      },
      "source": [
        "tensor_2 = torch.Tensor([[7, 8, 9],\n",
        "                         [10, 11, 12]])\n",
        "tensor_2"
      ],
      "execution_count": 94,
      "outputs": [
        {
          "output_type": "execute_result",
          "data": {
            "text/plain": [
              "tensor([[ 7.,  8.,  9.],\n",
              "        [10., 11., 12.]])"
            ]
          },
          "metadata": {
            "tags": []
          },
          "execution_count": 94
        }
      ]
    },
    {
      "cell_type": "code",
      "metadata": {
        "id": "wXhmpTZqRDhq",
        "colab_type": "code",
        "colab": {
          "base_uri": "https://localhost:8080/",
          "height": 34
        },
        "outputId": "b7548692-f68a-4401-9c1f-19c2fb609e1b"
      },
      "source": [
        "# Every tensor created in Pytorch has the ```requires_grad``` property\n",
        "\n",
        "tensor_1.requires_grad"
      ],
      "execution_count": 95,
      "outputs": [
        {
          "output_type": "execute_result",
          "data": {
            "text/plain": [
              "False"
            ]
          },
          "metadata": {
            "tags": []
          },
          "execution_count": 95
        }
      ]
    },
    {
      "cell_type": "markdown",
      "metadata": {
        "id": "Np5u7DKPRZyc",
        "colab_type": "text"
      },
      "source": [
        "When ```requires_grad``` = True, it tracks computations for a tensor in the forward phase and will calculate gradients for this tensor in the backward phase.\n",
        "The default value is False"
      ]
    },
    {
      "cell_type": "code",
      "metadata": {
        "id": "-rmw0NFHR3ug",
        "colab_type": "code",
        "colab": {
          "base_uri": "https://localhost:8080/",
          "height": 34
        },
        "outputId": "a1d8a7c0-d6fb-49dc-c83e-c72140617e1d"
      },
      "source": [
        "tensor_2.requires_grad"
      ],
      "execution_count": 96,
      "outputs": [
        {
          "output_type": "execute_result",
          "data": {
            "text/plain": [
              "False"
            ]
          },
          "metadata": {
            "tags": []
          },
          "execution_count": 96
        }
      ]
    },
    {
      "cell_type": "code",
      "metadata": {
        "id": "jzQD2wAfR6G6",
        "colab_type": "code",
        "colab": {
          "base_uri": "https://localhost:8080/",
          "height": 51
        },
        "outputId": "4b5db85d-3cce-44bf-97ee-891d9c7f58b7"
      },
      "source": [
        "# To enable tracking on the tensor:\n",
        "\n",
        "tensor_1.requires_grad_()"
      ],
      "execution_count": 97,
      "outputs": [
        {
          "output_type": "execute_result",
          "data": {
            "text/plain": [
              "tensor([[1., 2., 3.],\n",
              "        [4., 5., 6.]], requires_grad=True)"
            ]
          },
          "metadata": {
            "tags": []
          },
          "execution_count": 97
        }
      ]
    },
    {
      "cell_type": "code",
      "metadata": {
        "id": "sB-VNlAMSLJg",
        "colab_type": "code",
        "colab": {
          "base_uri": "https://localhost:8080/",
          "height": 34
        },
        "outputId": "9eca6922-e755-4271-b441-96e6ede3b973"
      },
      "source": [
        "# Check property again\n",
        "\n",
        "tensor_1.requires_grad"
      ],
      "execution_count": 98,
      "outputs": [
        {
          "output_type": "execute_result",
          "data": {
            "text/plain": [
              "True"
            ]
          },
          "metadata": {
            "tags": []
          },
          "execution_count": 98
        }
      ]
    },
    {
      "cell_type": "markdown",
      "metadata": {
        "id": "gPlASj7WSdNs",
        "colab_type": "text"
      },
      "source": [
        "Gradients calculated using Automatic Differentiation with respect to any tensor is present in the graph matric associated with that tensor. "
      ]
    },
    {
      "cell_type": "code",
      "metadata": {
        "id": "ET_gkcaVSV8v",
        "colab_type": "code",
        "colab": {
          "base_uri": "https://localhost:8080/",
          "height": 34
        },
        "outputId": "2328fdc3-dabf-4227-f9c9-e43ca63791b5"
      },
      "source": [
        "print(tensor_1.grad)"
      ],
      "execution_count": 99,
      "outputs": [
        {
          "output_type": "stream",
          "text": [
            "None\n"
          ],
          "name": "stdout"
        }
      ]
    },
    {
      "cell_type": "markdown",
      "metadata": {
        "id": "RT5hF9_rS8u8",
        "colab_type": "text"
      },
      "source": [
        "It returned None because no gradients have been calculated. This is still part of a computation graph but no forward or backward passes have been made yet. \n",
        "We have created a tensor but haven't used it to perform any calcualtions. \n",
        "\n",
        "The computation graph in Pytorch is made up of tensors and functions, where tensors can be the nodes and fucntions are the transformations performed along the edges. \n",
        "Every tensor has a function that is used to create that function:"
      ]
    },
    {
      "cell_type": "code",
      "metadata": {
        "id": "tJDnZY_VS7t7",
        "colab_type": "code",
        "colab": {
          "base_uri": "https://localhost:8080/",
          "height": 34
        },
        "outputId": "bce5e165-0ec8-4c8f-cd39-1436a1691786"
      },
      "source": [
        "print(tensor_1.grad_fn)"
      ],
      "execution_count": 100,
      "outputs": [
        {
          "output_type": "stream",
          "text": [
            "None\n"
          ],
          "name": "stdout"
        }
      ]
    },
    {
      "cell_type": "code",
      "metadata": {
        "id": "_lRgM-l1UHD6",
        "colab_type": "code",
        "colab": {}
      },
      "source": [
        "# Set up a graph by performing a calculation on the tensors\n",
        "\n",
        "output_tensor = tensor_1 * tensor_2"
      ],
      "execution_count": 0,
      "outputs": []
    },
    {
      "cell_type": "markdown",
      "metadata": {
        "id": "HrRa5D-0UsYt",
        "colab_type": "text"
      },
      "source": [
        "The output tensor will inherit the ```requires_graph``` property that was given to tensor_1. "
      ]
    },
    {
      "cell_type": "code",
      "metadata": {
        "id": "Trb_J5RLUWpC",
        "colab_type": "code",
        "colab": {
          "base_uri": "https://localhost:8080/",
          "height": 34
        },
        "outputId": "dacb0ff0-f7c6-48d6-a7c9-bc9c028114d1"
      },
      "source": [
        "print(output_tensor.requires_grad)"
      ],
      "execution_count": 102,
      "outputs": [
        {
          "output_type": "stream",
          "text": [
            "True\n"
          ],
          "name": "stdout"
        }
      ]
    },
    {
      "cell_type": "code",
      "metadata": {
        "id": "eP4IrR_8VLDz",
        "colab_type": "code",
        "colab": {
          "base_uri": "https://localhost:8080/",
          "height": 34
        },
        "outputId": "a0f8f238-dd67-4d2d-c447-b1124c64ef5f"
      },
      "source": [
        "print(output_tensor.grad)"
      ],
      "execution_count": 103,
      "outputs": [
        {
          "output_type": "stream",
          "text": [
            "None\n"
          ],
          "name": "stdout"
        }
      ]
    },
    {
      "cell_type": "markdown",
      "metadata": {
        "id": "u8y3MRDEVVmJ",
        "colab_type": "text"
      },
      "source": [
        "Still no gradients as we haven't made any backwards pass yet. \n",
        "But it will have a grad function because we used an specific multiplication operation (see ```MulBackward0``` below) to create this output tensor. User-created tensors have no corresponding function. "
      ]
    },
    {
      "cell_type": "code",
      "metadata": {
        "id": "P5gzNNJPVRZj",
        "colab_type": "code",
        "colab": {
          "base_uri": "https://localhost:8080/",
          "height": 34
        },
        "outputId": "8aba222a-f3d7-4c1e-967b-6e087b42df5f"
      },
      "source": [
        "print(output_tensor.grad_fn)"
      ],
      "execution_count": 104,
      "outputs": [
        {
          "output_type": "stream",
          "text": [
            "<MulBackward0 object at 0x7f53399177b8>\n"
          ],
          "name": "stdout"
        }
      ]
    },
    {
      "cell_type": "code",
      "metadata": {
        "id": "Fl7W0_Q5WAz6",
        "colab_type": "code",
        "colab": {
          "base_uri": "https://localhost:8080/",
          "height": 34
        },
        "outputId": "e4e3be65-7c66-4f60-b416-29f828ace4b0"
      },
      "source": [
        "# Create another output tensor with a different operation\n",
        "\n",
        "output_tensor_1 = (tensor_1 * tensor_2).mean()\n",
        "print(output_tensor_1.grad_fn)"
      ],
      "execution_count": 105,
      "outputs": [
        {
          "output_type": "stream",
          "text": [
            "<MeanBackward0 object at 0x7f5339917588>\n"
          ],
          "name": "stdout"
        }
      ]
    },
    {
      "cell_type": "markdown",
      "metadata": {
        "id": "ySUq5qscW2NA",
        "colab_type": "text"
      },
      "source": [
        "Notice that the function displayed now is ```MeanBackward0``` even though we also used a multiplication function to create this output tensor. The ```grad_fn``` references the loss function used to create this tensor, in this case the **mean**."
      ]
    },
    {
      "cell_type": "code",
      "metadata": {
        "id": "1f4cnRz-WqTn",
        "colab_type": "code",
        "colab": {
          "base_uri": "https://localhost:8080/",
          "height": 34
        },
        "outputId": "29ebfda0-3c57-4299-f79d-38a6b7059a85"
      },
      "source": [
        "print(tensor_1.grad)"
      ],
      "execution_count": 106,
      "outputs": [
        {
          "output_type": "stream",
          "text": [
            "None\n"
          ],
          "name": "stdout"
        }
      ]
    },
    {
      "cell_type": "markdown",
      "metadata": {
        "id": "hPLDFLydXcZh",
        "colab_type": "text"
      },
      "source": [
        "Although we used ```tensor_1``` for several operations, it still does not have gradients. This is because we have't perform a backward pass used to calculate gradients. Gradient calculation (a vector of partial derivatives) will only be calculated when we pass the ```backward``` function to an output. \n"
      ]
    },
    {
      "cell_type": "code",
      "metadata": {
        "id": "6pP28QvrXaYX",
        "colab_type": "code",
        "colab": {}
      },
      "source": [
        "output_tensor_1.backward()"
      ],
      "execution_count": 0,
      "outputs": []
    },
    {
      "cell_type": "code",
      "metadata": {
        "id": "0Re5HGt7YDI6",
        "colab_type": "code",
        "colab": {
          "base_uri": "https://localhost:8080/",
          "height": 51
        },
        "outputId": "259be777-9e67-43ab-e087-f36e41f6d9f0"
      },
      "source": [
        "print(tensor_1.grad)"
      ],
      "execution_count": 108,
      "outputs": [
        {
          "output_type": "stream",
          "text": [
            "tensor([[1.1667, 1.3333, 1.5000],\n",
            "        [1.6667, 1.8333, 2.0000]])\n"
          ],
          "name": "stdout"
        }
      ]
    },
    {
      "cell_type": "markdown",
      "metadata": {
        "id": "xem1A82zZWBt",
        "colab_type": "text"
      },
      "source": [
        "Since the gradients are the partial derivatives for the parameters in tensor_1 its shape will exactly match the shape of the tensor:\n"
      ]
    },
    {
      "cell_type": "code",
      "metadata": {
        "id": "yW1fTcGbYVuQ",
        "colab_type": "code",
        "colab": {
          "base_uri": "https://localhost:8080/",
          "height": 34
        },
        "outputId": "b66e0f52-90b3-4a51-f4db-65e3bc454001"
      },
      "source": [
        "tensor_1.grad.shape, tensor_1.shape"
      ],
      "execution_count": 109,
      "outputs": [
        {
          "output_type": "execute_result",
          "data": {
            "text/plain": [
              "(torch.Size([2, 3]), torch.Size([2, 3]))"
            ]
          },
          "metadata": {
            "tags": []
          },
          "execution_count": 109
        }
      ]
    },
    {
      "cell_type": "markdown",
      "metadata": {
        "id": "mCTJ7MPUaN-s",
        "colab_type": "text"
      },
      "source": [
        "A tensor will inherit its properties to the output tensor, as seen above, if we do not want Pytorch to track the history of the tensors we can use ```torch.no_grad```"
      ]
    },
    {
      "cell_type": "code",
      "metadata": {
        "id": "f_6gtOumZqYK",
        "colab_type": "code",
        "colab": {
          "base_uri": "https://localhost:8080/",
          "height": 102
        },
        "outputId": "d9623b84-95d9-49e7-d56f-c5e06d347b75"
      },
      "source": [
        "with torch.no_grad():\n",
        "\n",
        "  new_tensor = tensor_1 * 3\n",
        "  print('new_tensor = ', new_tensor)\n",
        "\n",
        "  print('requires_grad for tensor = ', tensor_1.requires_grad)\n",
        "\n",
        "  print('requires_grad for tensor = ', tensor_2.requires_grad)\n",
        "\n",
        "  print('requires_grad for tensor = ', new_tensor.requires_grad)"
      ],
      "execution_count": 110,
      "outputs": [
        {
          "output_type": "stream",
          "text": [
            "new_tensor =  tensor([[ 3.,  6.,  9.],\n",
            "        [12., 15., 18.]])\n",
            "requires_grad for tensor =  True\n",
            "requires_grad for tensor =  False\n",
            "requires_grad for tensor =  False\n"
          ],
          "name": "stdout"
        }
      ]
    },
    {
      "cell_type": "markdown",
      "metadata": {
        "id": "rjsY6k_XbVTW",
        "colab_type": "text"
      },
      "source": [
        "Here we can see that the ```new_tensor``` did not inherit the properties of  ```tensor_1``` even though it was used to create the output tensor because it was created inside the ```torch.no_grad``` code block. \n",
        "\n"
      ]
    },
    {
      "cell_type": "code",
      "metadata": {
        "id": "feOJzW6HbM8e",
        "colab_type": "code",
        "colab": {}
      },
      "source": [
        "# Create a function that multiplies any number by 2\n",
        "\n",
        "def calculate(t):\n",
        "  return t * 2"
      ],
      "execution_count": 0,
      "outputs": []
    },
    {
      "cell_type": "code",
      "metadata": {
        "id": "lyqL_yvWiwW7",
        "colab_type": "code",
        "colab": {}
      },
      "source": [
        "# Create same function but add the no_grad decorator\n",
        "\n",
        "@torch.no_grad()\n",
        "def calculate_no_grad(t):\n",
        "  return t * 2"
      ],
      "execution_count": 0,
      "outputs": []
    },
    {
      "cell_type": "markdown",
      "metadata": {
        "id": "JTAZ7JoojDNF",
        "colab_type": "text"
      },
      "source": [
        "Both functions perform the same operation but for the second function, gradients will no be enabled, history tracking will not be turn-on even if the tensor has its grad property set to True."
      ]
    },
    {
      "cell_type": "code",
      "metadata": {
        "id": "24c2zjsEi-MP",
        "colab_type": "code",
        "colab": {
          "base_uri": "https://localhost:8080/",
          "height": 51
        },
        "outputId": "97ce8ea1-78c1-4dca-97c7-b50743c2562f"
      },
      "source": [
        "# Let's test the 1st function passing tensor_1\n",
        "\n",
        "result_tensor = calculate(tensor_1)\n",
        "\n",
        "result_tensor"
      ],
      "execution_count": 113,
      "outputs": [
        {
          "output_type": "execute_result",
          "data": {
            "text/plain": [
              "tensor([[ 2.,  4.,  6.],\n",
              "        [ 8., 10., 12.]], grad_fn=<MulBackward0>)"
            ]
          },
          "metadata": {
            "tags": []
          },
          "execution_count": 113
        }
      ]
    },
    {
      "cell_type": "code",
      "metadata": {
        "id": "6lfkXqnOkJz6",
        "colab_type": "code",
        "colab": {
          "base_uri": "https://localhost:8080/",
          "height": 51
        },
        "outputId": "c7388198-f416-4ad7-f227-300004b931a6"
      },
      "source": [
        "# Test 2nd function\n",
        "\n",
        "result_tensor_no_grad = calculate_no_grad(tensor_1)\n",
        "\n",
        "result_tensor_no_grad"
      ],
      "execution_count": 114,
      "outputs": [
        {
          "output_type": "execute_result",
          "data": {
            "text/plain": [
              "tensor([[ 2.,  4.,  6.],\n",
              "        [ 8., 10., 12.]])"
            ]
          },
          "metadata": {
            "tags": []
          },
          "execution_count": 114
        }
      ]
    },
    {
      "cell_type": "code",
      "metadata": {
        "id": "5mQK0GcEkagw",
        "colab_type": "code",
        "colab": {
          "base_uri": "https://localhost:8080/",
          "height": 34
        },
        "outputId": "0a9145f3-cb8d-464c-be8c-aeee6601fea4"
      },
      "source": [
        "result_tensor_no_grad.requires_grad"
      ],
      "execution_count": 115,
      "outputs": [
        {
          "output_type": "execute_result",
          "data": {
            "text/plain": [
              "False"
            ]
          },
          "metadata": {
            "tags": []
          },
          "execution_count": 115
        }
      ]
    },
    {
      "cell_type": "markdown",
      "metadata": {
        "id": "wrPExz9akyrt",
        "colab_type": "text"
      },
      "source": [
        "History tracking can be explicitly enabled even if the code is executed inside a ```torch.no_grad()``` code block. "
      ]
    },
    {
      "cell_type": "code",
      "metadata": {
        "id": "iCN7M0VZkrZM",
        "colab_type": "code",
        "colab": {
          "base_uri": "https://localhost:8080/",
          "height": 85
        },
        "outputId": "b982c0b6-0557-4c90-ffb8-0d1532badb7d"
      },
      "source": [
        "with torch.no_grad():\n",
        "\n",
        "  new_tensor_no_grad = tensor_1 * 3\n",
        "  print('new_tensor_no_grad = ', new_tensor_no_grad)\n",
        "\n",
        "  # Explicitly enable grad\n",
        "  with torch.enable_grad():\n",
        "    new_tensor_grad = tensor_1 * 3\n",
        "    print('new_tensor_grad = ', new_tensor_grad)\n"
      ],
      "execution_count": 116,
      "outputs": [
        {
          "output_type": "stream",
          "text": [
            "new_tensor_no_grad =  tensor([[ 3.,  6.,  9.],\n",
            "        [12., 15., 18.]])\n",
            "new_tensor_grad =  tensor([[ 3.,  6.,  9.],\n",
            "        [12., 15., 18.]], grad_fn=<MulBackward0>)\n"
          ],
          "name": "stdout"
        }
      ]
    },
    {
      "cell_type": "markdown",
      "metadata": {
        "id": "j2XyyKw-m6kV",
        "colab_type": "text"
      },
      "source": [
        "Also, the value for ```requires_grad``` can be defined when creating a new tensor:\n"
      ]
    },
    {
      "cell_type": "code",
      "metadata": {
        "id": "SOjElGZTlliz",
        "colab_type": "code",
        "colab": {
          "base_uri": "https://localhost:8080/",
          "height": 51
        },
        "outputId": "85a82147-7f8f-4719-aaff-81c7c4d2d536"
      },
      "source": [
        "tensor_1_1 = torch.tensor([[1.0, 2.0],\n",
        "                           [3.0, 4.0]], requires_grad=True)\n",
        "\n",
        "tensor_1_1"
      ],
      "execution_count": 117,
      "outputs": [
        {
          "output_type": "execute_result",
          "data": {
            "text/plain": [
              "tensor([[1., 2.],\n",
              "        [3., 4.]], requires_grad=True)"
            ]
          },
          "metadata": {
            "tags": []
          },
          "execution_count": 117
        }
      ]
    },
    {
      "cell_type": "code",
      "metadata": {
        "id": "Lwe9BOhLnRAQ",
        "colab_type": "code",
        "colab": {}
      },
      "source": [
        ""
      ],
      "execution_count": 0,
      "outputs": []
    },
    {
      "cell_type": "markdown",
      "metadata": {
        "id": "xH95yUOEnhqy",
        "colab_type": "text"
      },
      "source": [
        "If I create a new tensor ```tensor_1_2```  by default-- the ```requires_grad``` parameter will be set to False."
      ]
    },
    {
      "cell_type": "code",
      "metadata": {
        "id": "WR5_jiB3n1vF",
        "colab_type": "code",
        "colab": {
          "base_uri": "https://localhost:8080/",
          "height": 51
        },
        "outputId": "5162cc5f-0f46-485c-f366-72fb47a6ca8e"
      },
      "source": [
        "tensor_1_2 = torch.tensor([[3.0, 4.0 ], \n",
        "                           [5, 6]])\n",
        "\n",
        "tensor_1_2"
      ],
      "execution_count": 118,
      "outputs": [
        {
          "output_type": "execute_result",
          "data": {
            "text/plain": [
              "tensor([[3., 4.],\n",
              "        [5., 6.]])"
            ]
          },
          "metadata": {
            "tags": []
          },
          "execution_count": 118
        }
      ]
    },
    {
      "cell_type": "code",
      "metadata": {
        "id": "lpbrM0bNoT_F",
        "colab_type": "code",
        "colab": {
          "base_uri": "https://localhost:8080/",
          "height": 51
        },
        "outputId": "acd9cd98-10a8-4ce6-dede-62bd95ae55a8"
      },
      "source": [
        "# Update tensor_1_2 to True\n",
        "\n",
        "tensor_1_2.requires_grad_()"
      ],
      "execution_count": 119,
      "outputs": [
        {
          "output_type": "execute_result",
          "data": {
            "text/plain": [
              "tensor([[3., 4.],\n",
              "        [5., 6.]], requires_grad=True)"
            ]
          },
          "metadata": {
            "tags": []
          },
          "execution_count": 119
        }
      ]
    },
    {
      "cell_type": "code",
      "metadata": {
        "id": "IZNBLt0Doj_9",
        "colab_type": "code",
        "colab": {
          "base_uri": "https://localhost:8080/",
          "height": 34
        },
        "outputId": "472198a0-4d6c-4ec4-f1d7-6a2bfc759723"
      },
      "source": [
        "# Perform a simple calculation that'd perform the forward pass\n",
        "\n",
        "final_tensor = (tensor_1_1 + tensor_1_2).mean()\n",
        "\n",
        "final_tensor"
      ],
      "execution_count": 120,
      "outputs": [
        {
          "output_type": "execute_result",
          "data": {
            "text/plain": [
              "tensor(7., grad_fn=<MeanBackward0>)"
            ]
          },
          "metadata": {
            "tags": []
          },
          "execution_count": 120
        }
      ]
    },
    {
      "cell_type": "code",
      "metadata": {
        "id": "ahsc3rD6o4Bh",
        "colab_type": "code",
        "colab": {
          "base_uri": "https://localhost:8080/",
          "height": 34
        },
        "outputId": "15f4ace3-a0c1-45df-d553-c4d1243e3c51"
      },
      "source": [
        "# Check ```requires_grad``` property for the final tensor\n",
        "\n",
        "final_tensor.requires_grad"
      ],
      "execution_count": 121,
      "outputs": [
        {
          "output_type": "execute_result",
          "data": {
            "text/plain": [
              "True"
            ]
          },
          "metadata": {
            "tags": []
          },
          "execution_count": 121
        }
      ]
    },
    {
      "cell_type": "markdown",
      "metadata": {
        "id": "TRdjDuxypiqU",
        "colab_type": "text"
      },
      "source": [
        "There are no gradients for the two input tensors as we only perform the forward pass on the computation graph"
      ]
    },
    {
      "cell_type": "code",
      "metadata": {
        "id": "tG4ep5r4pHIe",
        "colab_type": "code",
        "colab": {
          "base_uri": "https://localhost:8080/",
          "height": 34
        },
        "outputId": "ed6a8856-6d1b-4cf4-c267-357dea8f7459"
      },
      "source": [
        "print(tensor_1_1.grad)"
      ],
      "execution_count": 122,
      "outputs": [
        {
          "output_type": "stream",
          "text": [
            "None\n"
          ],
          "name": "stdout"
        }
      ]
    },
    {
      "cell_type": "code",
      "metadata": {
        "id": "9HqyfVq2ppR9",
        "colab_type": "code",
        "colab": {
          "base_uri": "https://localhost:8080/",
          "height": 34
        },
        "outputId": "27fd5f26-3176-48fb-9b4e-a376b68bd9ed"
      },
      "source": [
        "print(tensor_1_2.grad)"
      ],
      "execution_count": 123,
      "outputs": [
        {
          "output_type": "stream",
          "text": [
            "None\n"
          ],
          "name": "stdout"
        }
      ]
    },
    {
      "cell_type": "markdown",
      "metadata": {
        "id": "yxKHeXATpw7C",
        "colab_type": "text"
      },
      "source": [
        "Since we have history tracking enabled for these two input tensors in this computation, we can call ```.backward()``` to calculate the gradients. "
      ]
    },
    {
      "cell_type": "code",
      "metadata": {
        "id": "NwTJpYDqpr_R",
        "colab_type": "code",
        "colab": {}
      },
      "source": [
        "final_tensor.backward()"
      ],
      "execution_count": 0,
      "outputs": []
    },
    {
      "cell_type": "code",
      "metadata": {
        "id": "I1nOPBeoqQBo",
        "colab_type": "code",
        "colab": {
          "base_uri": "https://localhost:8080/",
          "height": 51
        },
        "outputId": "5b9b8b4a-c810-4c84-dc2d-3b456da977cd"
      },
      "source": [
        "print(tensor_1_1.grad)"
      ],
      "execution_count": 125,
      "outputs": [
        {
          "output_type": "stream",
          "text": [
            "tensor([[0.2500, 0.2500],\n",
            "        [0.2500, 0.2500]])\n"
          ],
          "name": "stdout"
        }
      ]
    },
    {
      "cell_type": "code",
      "metadata": {
        "id": "bu7FV5j9qTPF",
        "colab_type": "code",
        "colab": {
          "base_uri": "https://localhost:8080/",
          "height": 51
        },
        "outputId": "89bafa1a-504c-444c-9b39-27f37b31ae45"
      },
      "source": [
        "print(tensor_1_2)"
      ],
      "execution_count": 126,
      "outputs": [
        {
          "output_type": "stream",
          "text": [
            "tensor([[3., 4.],\n",
            "        [5., 6.]], requires_grad=True)\n"
          ],
          "name": "stdout"
        }
      ]
    },
    {
      "cell_type": "code",
      "metadata": {
        "id": "e2CwC4udqW7F",
        "colab_type": "code",
        "colab": {}
      },
      "source": [
        ""
      ],
      "execution_count": 0,
      "outputs": []
    },
    {
      "cell_type": "markdown",
      "metadata": {
        "id": "KNZpXOnsqpdW",
        "colab_type": "text"
      },
      "source": [
        "Tensors involved in a computation are part of a larger computational graph. If we want to retreive a tensor that is detached of the current computation we can call ```.detach()```. This detach tensor will always have ```requires_grad=False```"
      ]
    },
    {
      "cell_type": "code",
      "metadata": {
        "id": "NdBeNUirrBOh",
        "colab_type": "code",
        "colab": {
          "base_uri": "https://localhost:8080/",
          "height": 51
        },
        "outputId": "0a71ad0d-5191-4236-cb8b-aef5a75b7a49"
      },
      "source": [
        "detached_tensor = tensor_1_1.detach()\n",
        "detached_tensor"
      ],
      "execution_count": 127,
      "outputs": [
        {
          "output_type": "execute_result",
          "data": {
            "text/plain": [
              "tensor([[1., 2.],\n",
              "        [3., 4.]])"
            ]
          },
          "metadata": {
            "tags": []
          },
          "execution_count": 127
        }
      ]
    },
    {
      "cell_type": "code",
      "metadata": {
        "id": "g9S9qM0grImB",
        "colab_type": "code",
        "colab": {
          "base_uri": "https://localhost:8080/",
          "height": 51
        },
        "outputId": "a1e8f5c1-56da-4341-e5ee-83be538b533e"
      },
      "source": [
        "tensor_1_1"
      ],
      "execution_count": 128,
      "outputs": [
        {
          "output_type": "execute_result",
          "data": {
            "text/plain": [
              "tensor([[1., 2.],\n",
              "        [3., 4.]], requires_grad=True)"
            ]
          },
          "metadata": {
            "tags": []
          },
          "execution_count": 128
        }
      ]
    },
    {
      "cell_type": "code",
      "metadata": {
        "id": "2PnsEy3yrNqD",
        "colab_type": "code",
        "colab": {}
      },
      "source": [
        "# Use the detach and the original tensor in a computation\n",
        "\n",
        "mean_tensor = (tensor_1_1 + detached_tensor).mean()\n",
        "\n",
        "mean_tensor.backward()"
      ],
      "execution_count": 0,
      "outputs": []
    },
    {
      "cell_type": "code",
      "metadata": {
        "id": "AfYjq6acrbch",
        "colab_type": "code",
        "colab": {
          "base_uri": "https://localhost:8080/",
          "height": 51
        },
        "outputId": "e35f092a-07ee-469f-e278-8cf0d6c6c8d1"
      },
      "source": [
        "tensor_1_1.grad"
      ],
      "execution_count": 130,
      "outputs": [
        {
          "output_type": "execute_result",
          "data": {
            "text/plain": [
              "tensor([[0.5000, 0.5000],\n",
              "        [0.5000, 0.5000]])"
            ]
          },
          "metadata": {
            "tags": []
          },
          "execution_count": 130
        }
      ]
    },
    {
      "cell_type": "code",
      "metadata": {
        "id": "v8SuGE_NrpbI",
        "colab_type": "code",
        "colab": {
          "base_uri": "https://localhost:8080/",
          "height": 34
        },
        "outputId": "1a700be3-aafe-4aa3-beb2-f47b00ba8398"
      },
      "source": [
        "print(detached_tensor.grad)"
      ],
      "execution_count": 131,
      "outputs": [
        {
          "output_type": "stream",
          "text": [
            "None\n"
          ],
          "name": "stdout"
        }
      ]
    },
    {
      "cell_type": "code",
      "metadata": {
        "id": "vtc8BCV_rrEm",
        "colab_type": "code",
        "colab": {}
      },
      "source": [
        ""
      ],
      "execution_count": 0,
      "outputs": []
    },
    {
      "cell_type": "markdown",
      "metadata": {
        "id": "GTtvaKygr1v0",
        "colab_type": "text"
      },
      "source": [
        "## Autograd with Variables\n",
        "\n",
        "Variables are no longer needed to work with autograd and to store gradients, those parameters are now part of the tensor itself. \n",
        "However the **Variable** API still exists in Pytorch and can be used by:\n"
      ]
    },
    {
      "cell_type": "code",
      "metadata": {
        "id": "W5JSCzuusS68",
        "colab_type": "code",
        "colab": {}
      },
      "source": [
        "from torch.autograd import Variable"
      ],
      "execution_count": 0,
      "outputs": []
    },
    {
      "cell_type": "code",
      "metadata": {
        "id": "s-sJ6d1LsXO4",
        "colab_type": "code",
        "colab": {
          "base_uri": "https://localhost:8080/",
          "height": 34
        },
        "outputId": "715133ae-48cf-4a81-cb41-a5e7a499c255"
      },
      "source": [
        "# Instantiate a variable\n",
        "\n",
        "var = Variable(torch.FloatTensor([9]))\n",
        "var"
      ],
      "execution_count": 133,
      "outputs": [
        {
          "output_type": "execute_result",
          "data": {
            "text/plain": [
              "tensor([9.])"
            ]
          },
          "metadata": {
            "tags": []
          },
          "execution_count": 133
        }
      ]
    },
    {
      "cell_type": "markdown",
      "metadata": {
        "id": "8EnKcgU6svX_",
        "colab_type": "text"
      },
      "source": [
        "All the attributes of a tensor we saw above, are the same for the variable that holds the tensor."
      ]
    },
    {
      "cell_type": "code",
      "metadata": {
        "id": "06cxv_fksgNq",
        "colab_type": "code",
        "colab": {
          "base_uri": "https://localhost:8080/",
          "height": 34
        },
        "outputId": "c569e6a1-23f3-463b-b18f-86f155890a6b"
      },
      "source": [
        "# Update the requires_grad property\n",
        "\n",
        "var.requires_grad_()"
      ],
      "execution_count": 134,
      "outputs": [
        {
          "output_type": "execute_result",
          "data": {
            "text/plain": [
              "tensor([9.], requires_grad=True)"
            ]
          },
          "metadata": {
            "tags": []
          },
          "execution_count": 134
        }
      ]
    },
    {
      "cell_type": "code",
      "metadata": {
        "id": "642WLZoRs9cl",
        "colab_type": "code",
        "colab": {}
      },
      "source": [
        "w1 = Variable(torch.FloatTensor([3]), requires_grad=True)\n",
        "w2 = Variable(torch.FloatTensor([7]), requires_grad=True)\n"
      ],
      "execution_count": 0,
      "outputs": []
    },
    {
      "cell_type": "code",
      "metadata": {
        "id": "2hnnUBjgteSE",
        "colab_type": "code",
        "colab": {
          "base_uri": "https://localhost:8080/",
          "height": 34
        },
        "outputId": "54821f66-7242-4839-9114-8eadc7ccf6a8"
      },
      "source": [
        "w1"
      ],
      "execution_count": 136,
      "outputs": [
        {
          "output_type": "execute_result",
          "data": {
            "text/plain": [
              "tensor([3.], requires_grad=True)"
            ]
          },
          "metadata": {
            "tags": []
          },
          "execution_count": 136
        }
      ]
    },
    {
      "cell_type": "code",
      "metadata": {
        "id": "tCkYz_UPthR1",
        "colab_type": "code",
        "colab": {
          "base_uri": "https://localhost:8080/",
          "height": 34
        },
        "outputId": "d5076dd1-7b5f-4d50-a3aa-f925da280e59"
      },
      "source": [
        "w2"
      ],
      "execution_count": 137,
      "outputs": [
        {
          "output_type": "execute_result",
          "data": {
            "text/plain": [
              "tensor([7.], requires_grad=True)"
            ]
          },
          "metadata": {
            "tags": []
          },
          "execution_count": 137
        }
      ]
    },
    {
      "cell_type": "code",
      "metadata": {
        "id": "OUbhWOIMtiIg",
        "colab_type": "code",
        "colab": {
          "base_uri": "https://localhost:8080/",
          "height": 34
        },
        "outputId": "9723a9bb-e8ab-4c09-a3db-5e291910d32c"
      },
      "source": [
        "result_var = var * w1\n",
        "result_var"
      ],
      "execution_count": 138,
      "outputs": [
        {
          "output_type": "execute_result",
          "data": {
            "text/plain": [
              "tensor([27.], grad_fn=<MulBackward0>)"
            ]
          },
          "metadata": {
            "tags": []
          },
          "execution_count": 138
        }
      ]
    },
    {
      "cell_type": "code",
      "metadata": {
        "id": "_zIWy0v6tonA",
        "colab_type": "code",
        "colab": {}
      },
      "source": [
        "result_var.backward()"
      ],
      "execution_count": 0,
      "outputs": []
    },
    {
      "cell_type": "code",
      "metadata": {
        "id": "1Tvs_AhhtxVO",
        "colab_type": "code",
        "colab": {
          "base_uri": "https://localhost:8080/",
          "height": 34
        },
        "outputId": "ddb7a429-4e85-4ad6-e794-e14c2d132eed"
      },
      "source": [
        "w1.grad"
      ],
      "execution_count": 140,
      "outputs": [
        {
          "output_type": "execute_result",
          "data": {
            "text/plain": [
              "tensor([9.])"
            ]
          },
          "metadata": {
            "tags": []
          },
          "execution_count": 140
        }
      ]
    },
    {
      "cell_type": "code",
      "metadata": {
        "id": "CZs4c9rJtz8C",
        "colab_type": "code",
        "colab": {
          "base_uri": "https://localhost:8080/",
          "height": 34
        },
        "outputId": "4c459b03-fab9-4ab5-8d6b-645eeb542ce4"
      },
      "source": [
        "print(w2.grad)"
      ],
      "execution_count": 141,
      "outputs": [
        {
          "output_type": "stream",
          "text": [
            "None\n"
          ],
          "name": "stdout"
        }
      ]
    },
    {
      "cell_type": "code",
      "metadata": {
        "id": "qrPrDC97t4j3",
        "colab_type": "code",
        "colab": {
          "base_uri": "https://localhost:8080/",
          "height": 34
        },
        "outputId": "fd24c7b4-57da-41bd-9f5a-7f58795b2dc7"
      },
      "source": [
        "var.grad"
      ],
      "execution_count": 142,
      "outputs": [
        {
          "output_type": "execute_result",
          "data": {
            "text/plain": [
              "tensor([3.])"
            ]
          },
          "metadata": {
            "tags": []
          },
          "execution_count": 142
        }
      ]
    },
    {
      "cell_type": "markdown",
      "metadata": {
        "id": "OvPeh_Nrg-9r",
        "colab_type": "text"
      },
      "source": [
        "## Building a Linear Model with Autograd\n",
        "\n"
      ]
    },
    {
      "cell_type": "code",
      "metadata": {
        "id": "EU15VSXut5v9",
        "colab_type": "code",
        "colab": {}
      },
      "source": [
        "import numpy as np\n",
        "import matplotlib.pyplot as plt\n",
        "%matplotlib inline"
      ],
      "execution_count": 0,
      "outputs": []
    },
    {
      "cell_type": "code",
      "metadata": {
        "id": "lvznYpkShVhu",
        "colab_type": "code",
        "colab": {}
      },
      "source": [
        "# Create a toy data set\n",
        "\n",
        "x_train = np.array([[4.7], [2.4], [7.5], [7.1], [4.3], [7.816],\n",
        "                    [8.9], [5.2], [8.59], [2.1], [8],\n",
        "                    [10], [4.5],[6], [4]],\n",
        "                   dtype = np.float32)\n",
        "\n",
        "y_train = np.array([[2.6], [1.6], [3.09], [2.4], [2.4], [3.357],\n",
        "                    [2.6], [1.96], [3.53], [1.76], [3.2],\n",
        "                    [3.5], [1.6], [2.5], [2.2]],\n",
        "                   dtype = np.float32)"
      ],
      "execution_count": 0,
      "outputs": []
    },
    {
      "cell_type": "code",
      "metadata": {
        "id": "QSXkdb6Xiksz",
        "colab_type": "code",
        "colab": {
          "base_uri": "https://localhost:8080/",
          "height": 500
        },
        "outputId": "f7abe472-b9b3-42cf-b5d9-4427e60203bd"
      },
      "source": [
        "# Visualize the realtionship between these data\n",
        "\n",
        "plt.figure(figsize=(12, 8))\n",
        "\n",
        "plt.scatter(x_train, y_train, label='Original data', s=250, c='b')\n",
        "\n",
        "plt.legend()\n"
      ],
      "execution_count": 145,
      "outputs": [
        {
          "output_type": "execute_result",
          "data": {
            "text/plain": [
              "<matplotlib.legend.Legend at 0x7f53302cb780>"
            ]
          },
          "metadata": {
            "tags": []
          },
          "execution_count": 145
        },
        {
          "output_type": "display_data",
          "data": {
            "image/png": "[encoded data removed]",
            "text/plain": [
              "<Figure size 864x576 with 1 Axes>"
            ]
          },
          "metadata": {
            "tags": [],
            "needs_background": "light"
          }
        }
      ]
    },
    {
      "cell_type": "code",
      "metadata": {
        "id": "85Q89Ke7shdF",
        "colab_type": "code",
        "colab": {
          "base_uri": "https://localhost:8080/",
          "height": 272
        },
        "outputId": "8fb25bb0-aa9f-46c9-a25f-c257004acd9c"
      },
      "source": [
        "x_train"
      ],
      "execution_count": 146,
      "outputs": [
        {
          "output_type": "execute_result",
          "data": {
            "text/plain": [
              "array([[ 4.7  ],\n",
              "       [ 2.4  ],\n",
              "       [ 7.5  ],\n",
              "       [ 7.1  ],\n",
              "       [ 4.3  ],\n",
              "       [ 7.816],\n",
              "       [ 8.9  ],\n",
              "       [ 5.2  ],\n",
              "       [ 8.59 ],\n",
              "       [ 2.1  ],\n",
              "       [ 8.   ],\n",
              "       [10.   ],\n",
              "       [ 4.5  ],\n",
              "       [ 6.   ],\n",
              "       [ 4.   ]], dtype=float32)"
            ]
          },
          "metadata": {
            "tags": []
          },
          "execution_count": 146
        }
      ]
    },
    {
      "cell_type": "code",
      "metadata": {
        "id": "lhzYfarzsonF",
        "colab_type": "code",
        "colab": {
          "base_uri": "https://localhost:8080/",
          "height": 272
        },
        "outputId": "dff849fd-e4b9-437c-c288-19c21b255c58"
      },
      "source": [
        "y_train"
      ],
      "execution_count": 147,
      "outputs": [
        {
          "output_type": "execute_result",
          "data": {
            "text/plain": [
              "array([[2.6  ],\n",
              "       [1.6  ],\n",
              "       [3.09 ],\n",
              "       [2.4  ],\n",
              "       [2.4  ],\n",
              "       [3.357],\n",
              "       [2.6  ],\n",
              "       [1.96 ],\n",
              "       [3.53 ],\n",
              "       [1.76 ],\n",
              "       [3.2  ],\n",
              "       [3.5  ],\n",
              "       [1.6  ],\n",
              "       [2.5  ],\n",
              "       [2.2  ]], dtype=float32)"
            ]
          },
          "metadata": {
            "tags": []
          },
          "execution_count": 147
        }
      ]
    },
    {
      "cell_type": "code",
      "metadata": {
        "id": "VODWsLd_jjsh",
        "colab_type": "code",
        "colab": {
          "base_uri": "https://localhost:8080/",
          "height": 51
        },
        "outputId": "03c9cd83-fd86-43e5-a671-47751a5d7ae2"
      },
      "source": [
        "# Convert x and y to tensors\n",
        "\n",
        "X_train = torch.from_numpy(x_train)\n",
        "Y_train = torch.from_numpy(y_train)\n",
        "\n",
        "print('requires_grad for X_train: ', X_train.requires_grad)\n",
        "print('requires_grad for Y_train: ', Y_train.requires_grad)"
      ],
      "execution_count": 148,
      "outputs": [
        {
          "output_type": "stream",
          "text": [
            "requires_grad for X_train:  False\n",
            "requires_grad for Y_train:  False\n"
          ],
          "name": "stdout"
        }
      ]
    },
    {
      "cell_type": "code",
      "metadata": {
        "id": "0Eo0Ku9qtNW_",
        "colab_type": "code",
        "colab": {
          "base_uri": "https://localhost:8080/",
          "height": 272
        },
        "outputId": "6fc68e86-ae10-40f4-8309-e69e1c5392a5"
      },
      "source": [
        "X_train"
      ],
      "execution_count": 149,
      "outputs": [
        {
          "output_type": "execute_result",
          "data": {
            "text/plain": [
              "tensor([[ 4.7000],\n",
              "        [ 2.4000],\n",
              "        [ 7.5000],\n",
              "        [ 7.1000],\n",
              "        [ 4.3000],\n",
              "        [ 7.8160],\n",
              "        [ 8.9000],\n",
              "        [ 5.2000],\n",
              "        [ 8.5900],\n",
              "        [ 2.1000],\n",
              "        [ 8.0000],\n",
              "        [10.0000],\n",
              "        [ 4.5000],\n",
              "        [ 6.0000],\n",
              "        [ 4.0000]])"
            ]
          },
          "metadata": {
            "tags": []
          },
          "execution_count": 149
        }
      ]
    },
    {
      "cell_type": "code",
      "metadata": {
        "id": "JucQKrbftVyy",
        "colab_type": "code",
        "colab": {
          "base_uri": "https://localhost:8080/",
          "height": 272
        },
        "outputId": "23fd8c86-3071-4fd0-f1f6-2c28d5632ae6"
      },
      "source": [
        "Y_train"
      ],
      "execution_count": 150,
      "outputs": [
        {
          "output_type": "execute_result",
          "data": {
            "text/plain": [
              "tensor([[2.6000],\n",
              "        [1.6000],\n",
              "        [3.0900],\n",
              "        [2.4000],\n",
              "        [2.4000],\n",
              "        [3.3570],\n",
              "        [2.6000],\n",
              "        [1.9600],\n",
              "        [3.5300],\n",
              "        [1.7600],\n",
              "        [3.2000],\n",
              "        [3.5000],\n",
              "        [1.6000],\n",
              "        [2.5000],\n",
              "        [2.2000]])"
            ]
          },
          "metadata": {
            "tags": []
          },
          "execution_count": 150
        }
      ]
    },
    {
      "cell_type": "markdown",
      "metadata": {
        "id": "-HqThiJ2kgXH",
        "colab_type": "text"
      },
      "source": [
        "By default, requires_grad is not enabled. \n",
        "\n",
        "Declare variables to pass as the neural network parameters."
      ]
    },
    {
      "cell_type": "code",
      "metadata": {
        "id": "JhGF-Z8ZkQF4",
        "colab_type": "code",
        "colab": {}
      },
      "source": [
        "input_size = 1\n",
        "hidden_size = 1\n",
        "output_size = 1"
      ],
      "execution_count": 0,
      "outputs": []
    },
    {
      "cell_type": "code",
      "metadata": {
        "id": "Jnf2t5tzkx1T",
        "colab_type": "code",
        "colab": {
          "base_uri": "https://localhost:8080/",
          "height": 34
        },
        "outputId": "ea2175a5-da0d-4b59-f8a1-6afcef19c993"
      },
      "source": [
        "# Construct the neural network manually\n",
        "# w1 contains the weights for the input to the nn\n",
        "\n",
        "w1 = torch.rand(input_size,\n",
        "                hidden_size,\n",
        "                \n",
        "                requires_grad=True)\n",
        "\n",
        "w1.shape"
      ],
      "execution_count": 152,
      "outputs": [
        {
          "output_type": "execute_result",
          "data": {
            "text/plain": [
              "torch.Size([1, 1])"
            ]
          },
          "metadata": {
            "tags": []
          },
          "execution_count": 152
        }
      ]
    },
    {
      "cell_type": "code",
      "metadata": {
        "id": "iKBLerjvwkLw",
        "colab_type": "code",
        "colab": {
          "base_uri": "https://localhost:8080/",
          "height": 34
        },
        "outputId": "af87897c-c05f-4c97-e6f5-f287c14381bd"
      },
      "source": [
        "w1.type()"
      ],
      "execution_count": 153,
      "outputs": [
        {
          "output_type": "execute_result",
          "data": {
            "text/plain": [
              "'torch.FloatTensor'"
            ]
          },
          "metadata": {
            "tags": []
          },
          "execution_count": 153
        }
      ]
    },
    {
      "cell_type": "code",
      "metadata": {
        "id": "8tzYIFhRlDCl",
        "colab_type": "code",
        "colab": {
          "base_uri": "https://localhost:8080/",
          "height": 34
        },
        "outputId": "dd1d4acc-6a57-4840-eea7-98e6e7f844aa"
      },
      "source": [
        "# w2 contains the weights from the hidden layer to the final output\n",
        "\n",
        "w2 = torch.rand(hidden_size,\n",
        "                output_size,\n",
        "                \n",
        "                requires_grad=True)\n",
        "\n",
        "w2.shape"
      ],
      "execution_count": 154,
      "outputs": [
        {
          "output_type": "execute_result",
          "data": {
            "text/plain": [
              "torch.Size([1, 1])"
            ]
          },
          "metadata": {
            "tags": []
          },
          "execution_count": 154
        }
      ]
    },
    {
      "cell_type": "code",
      "metadata": {
        "id": "uVNOLzuVu6lo",
        "colab_type": "code",
        "colab": {
          "base_uri": "https://localhost:8080/",
          "height": 34
        },
        "outputId": "e3c16210-4983-4f67-fd6d-55d2b1a32270"
      },
      "source": [
        "w2.type()\n",
        "#w2.astype(float32)\n",
        "\n",
        "#w2.set_default_dtype(torch.float64)\n",
        "#torch.get_default_dtype()"
      ],
      "execution_count": 155,
      "outputs": [
        {
          "output_type": "execute_result",
          "data": {
            "text/plain": [
              "'torch.FloatTensor'"
            ]
          },
          "metadata": {
            "tags": []
          },
          "execution_count": 155
        }
      ]
    },
    {
      "cell_type": "code",
      "metadata": {
        "id": "Tn7lxr9UliHM",
        "colab_type": "code",
        "colab": {}
      },
      "source": [
        "# define learning_rate hyperparameter\n",
        "\n",
        "learning_rate = 1e-6"
      ],
      "execution_count": 0,
      "outputs": []
    },
    {
      "cell_type": "markdown",
      "metadata": {
        "id": "ilFWcGDIl_6P",
        "colab_type": "text"
      },
      "source": [
        "The ```learning_rate``` determines that step that the model parameters take towards the optimum. When tweaking the model parameters using gradients in the backward pass we multiply the gradients by the ```learning_rate``` to determine by how much to tweak the model.\n",
        "\n",
        "### Set up training for the NN."
      ]
    },
    {
      "cell_type": "code",
      "metadata": {
        "id": "C6lDn-i4mt7F",
        "colab_type": "code",
        "colab": {}
      },
      "source": [
        "for iter in range(1, 10):\n",
        "\n",
        "  y_pred = X_train.mm(w1).mm(w2)\n",
        "  loss = (y_pred - Y_train).pow(2).sum()\n",
        "\n",
        "  if iter % 50 == 0:\n",
        "    print(iter, loss.item())\n",
        "\n",
        "  loss.backward()\n",
        "\n",
        "  with torch.no_grad():\n",
        "    w1 -= learning_rate * w1.grad\n",
        "    w2 -= learning_rate * w2.grad\n",
        "    w1.grad.zero_()\n",
        "    w2.grad.zero_()"
      ],
      "execution_count": 0,
      "outputs": []
    },
    {
      "cell_type": "code",
      "metadata": {
        "id": "rFC8KqaSoIwN",
        "colab_type": "code",
        "colab": {
          "base_uri": "https://localhost:8080/",
          "height": 51
        },
        "outputId": "8caf219d-76a4-4303-a2ab-1c4d69194999"
      },
      "source": [
        "print('w1: ', w1) \n",
        "print('w2: ', w2)"
      ],
      "execution_count": 158,
      "outputs": [
        {
          "output_type": "stream",
          "text": [
            "w1:  tensor([[0.8791]], requires_grad=True)\n",
            "w2:  tensor([[0.5836]], requires_grad=True)\n"
          ],
          "name": "stdout"
        }
      ]
    },
    {
      "cell_type": "code",
      "metadata": {
        "id": "81mS4JWdyHWZ",
        "colab_type": "code",
        "colab": {
          "base_uri": "https://localhost:8080/",
          "height": 272
        },
        "outputId": "6a9ee4d9-901d-4628-b0ef-e6699d1d2696"
      },
      "source": [
        "# Perform predictions\n",
        "x_train_tensor = torch.from_numpy(x_train)\n",
        "x_train_tensor"
      ],
      "execution_count": 159,
      "outputs": [
        {
          "output_type": "execute_result",
          "data": {
            "text/plain": [
              "tensor([[ 4.7000],\n",
              "        [ 2.4000],\n",
              "        [ 7.5000],\n",
              "        [ 7.1000],\n",
              "        [ 4.3000],\n",
              "        [ 7.8160],\n",
              "        [ 8.9000],\n",
              "        [ 5.2000],\n",
              "        [ 8.5900],\n",
              "        [ 2.1000],\n",
              "        [ 8.0000],\n",
              "        [10.0000],\n",
              "        [ 4.5000],\n",
              "        [ 6.0000],\n",
              "        [ 4.0000]])"
            ]
          },
          "metadata": {
            "tags": []
          },
          "execution_count": 159
        }
      ]
    },
    {
      "cell_type": "code",
      "metadata": {
        "id": "NSUiSYRHyYG-",
        "colab_type": "code",
        "colab": {
          "base_uri": "https://localhost:8080/",
          "height": 272
        },
        "outputId": "858f665a-903a-48da-ef80-3cf72ae73569"
      },
      "source": [
        "predicted_in_tensor = x_train_tensor.mm(w1).mm(w2)\n",
        "predicted_in_tensor"
      ],
      "execution_count": 160,
      "outputs": [
        {
          "output_type": "execute_result",
          "data": {
            "text/plain": [
              "tensor([[2.4114],\n",
              "        [1.2313],\n",
              "        [3.8479],\n",
              "        [3.6427],\n",
              "        [2.2061],\n",
              "        [4.0100],\n",
              "        [4.5662],\n",
              "        [2.6679],\n",
              "        [4.4072],\n",
              "        [1.0774],\n",
              "        [4.1045],\n",
              "        [5.1306],\n",
              "        [2.3088],\n",
              "        [3.0783],\n",
              "        [2.0522]], grad_fn=<MmBackward>)"
            ]
          },
          "metadata": {
            "tags": []
          },
          "execution_count": 160
        }
      ]
    },
    {
      "cell_type": "code",
      "metadata": {
        "id": "smAc14ylyosJ",
        "colab_type": "code",
        "colab": {
          "base_uri": "https://localhost:8080/",
          "height": 272
        },
        "outputId": "7341f1d1-9c6b-4e8f-c298-27b0d2cda9c7"
      },
      "source": [
        "# convert predictions to numpy for visualization\n",
        "predicted = predicted_in_tensor.detach().numpy()\n",
        "predicted"
      ],
      "execution_count": 161,
      "outputs": [
        {
          "output_type": "execute_result",
          "data": {
            "text/plain": [
              "array([[2.4113653],\n",
              "       [1.2313355],\n",
              "       [3.8479235],\n",
              "       [3.642701 ],\n",
              "       [2.206143 ],\n",
              "       [4.0100493],\n",
              "       [4.566202 ],\n",
              "       [2.6678934],\n",
              "       [4.407155 ],\n",
              "       [1.0774186],\n",
              "       [4.1044517],\n",
              "       [5.1305647],\n",
              "       [2.308754 ],\n",
              "       [3.0783389],\n",
              "       [2.0522258]], dtype=float32)"
            ]
          },
          "metadata": {
            "tags": []
          },
          "execution_count": 161
        }
      ]
    },
    {
      "cell_type": "code",
      "metadata": {
        "id": "Tb7oBNtSy-m4",
        "colab_type": "code",
        "colab": {
          "base_uri": "https://localhost:8080/",
          "height": 500
        },
        "outputId": "484598d1-0dfc-452c-d2f6-f684ab3510ac"
      },
      "source": [
        "# visualize predictions\n",
        "\n",
        "plt.figure(figsize=(12, 8))\n",
        "\n",
        "plt.scatter(x_train, y_train, label = 'Original data', s=250, c='r')\n",
        "\n",
        "plt.plot(x_train, predicted, label = 'Fitted line')\n",
        "\n",
        "plt.legend()"
      ],
      "execution_count": 162,
      "outputs": [
        {
          "output_type": "execute_result",
          "data": {
            "text/plain": [
              "<matplotlib.legend.Legend at 0x7f53075b73c8>"
            ]
          },
          "metadata": {
            "tags": []
          },
          "execution_count": 162
        },
        {
          "output_type": "display_data",
          "data": {
            "image/png": "[encoded data removed]",
            "text/plain": [
              "<Figure size 864x576 with 1 Axes>"
            ]
          },
          "metadata": {
            "tags": [],
            "needs_background": "light"
          }
        }
      ]
    },
    {
      "cell_type": "code",
      "metadata": {
        "id": "H-cwXeQbzelb",
        "colab_type": "code",
        "colab": {}
      },
      "source": [
        ""
      ],
      "execution_count": 0,
      "outputs": []
    },
    {
      "cell_type": "markdown",
      "metadata": {
        "id": "7TGUfsrVzuaP",
        "colab_type": "text"
      },
      "source": [
        "The regression line is not very accurate and that could be because we did not train the model for more epochs. \n",
        "We can increase to 10000 and retrain. "
      ]
    },
    {
      "cell_type": "code",
      "metadata": {
        "id": "vZte3KeF0Fu4",
        "colab_type": "code",
        "colab": {
          "base_uri": "https://localhost:8080/",
          "height": 1000
        },
        "outputId": "8d5cbcc4-fa15-4c4f-f85f-2f6cd4708cd5"
      },
      "source": [
        "for iter in range(1, 10000):\n",
        "\n",
        "  y_pred = X_train.mm(w1).mm(w2)\n",
        "  loss = (y_pred - Y_train).pow(2).sum()\n",
        "\n",
        "  if iter % 50 == 0:\n",
        "    print(iter, loss.item())\n",
        "\n",
        "  loss.backward()\n",
        "\n",
        "  with torch.no_grad():\n",
        "    w1 -= learning_rate * w1.grad\n",
        "    w2 -= learning_rate * w2.grad\n",
        "    w1.grad.zero_()\n",
        "    w2.grad.zero_()"
      ],
      "execution_count": 163,
      "outputs": [
        {
          "output_type": "stream",
          "text": [
            "50 11.5851411819458\n",
            "100 10.613763809204102\n",
            "150 9.777522087097168\n",
            "200 9.055935859680176\n",
            "250 8.431899070739746\n",
            "300 7.891162395477295\n",
            "350 7.421699523925781\n",
            "400 7.013408660888672\n",
            "450 6.6577534675598145\n",
            "500 6.347528457641602\n",
            "550 6.076501369476318\n",
            "600 5.839432716369629\n",
            "650 5.631824970245361\n",
            "700 5.4498090744018555\n",
            "750 5.290050029754639\n",
            "800 5.149720191955566\n",
            "850 5.026336193084717\n",
            "900 4.917755126953125\n",
            "950 4.82213830947876\n",
            "1000 4.737853527069092\n",
            "1050 4.66351842880249\n",
            "1100 4.597914218902588\n",
            "1150 4.539984226226807\n",
            "1200 4.488796234130859\n",
            "1250 4.443539619445801\n",
            "1300 4.403513431549072\n",
            "1350 4.368096351623535\n",
            "1400 4.336742877960205\n",
            "1450 4.3089752197265625\n",
            "1500 4.284371376037598\n",
            "1550 4.262565612792969\n",
            "1600 4.243230819702148\n",
            "1650 4.226083755493164\n",
            "1700 4.210870265960693\n",
            "1750 4.197370529174805\n",
            "1800 4.185386657714844\n",
            "1850 4.17474365234375\n",
            "1900 4.165295124053955\n",
            "1950 4.156900882720947\n",
            "2000 4.149441719055176\n",
            "2050 4.1428141593933105\n",
            "2100 4.136923789978027\n",
            "2150 4.131687164306641\n",
            "2200 4.127030849456787\n",
            "2250 4.122889995574951\n",
            "2300 4.11920690536499\n",
            "2350 4.115930557250977\n",
            "2400 4.113016605377197\n",
            "2450 4.110424041748047\n",
            "2500 4.108116149902344\n",
            "2550 4.106062889099121\n",
            "2600 4.10423469543457\n",
            "2650 4.1026082038879395\n",
            "2700 4.101159572601318\n",
            "2750 4.099870204925537\n",
            "2800 4.098722457885742\n",
            "2850 4.097699165344238\n",
            "2900 4.096789360046387\n",
            "2950 4.095978736877441\n",
            "3000 4.095256805419922\n",
            "3050 4.094613552093506\n",
            "3100 4.0940399169921875\n",
            "3150 4.09352970123291\n",
            "3200 4.093075275421143\n",
            "3250 4.092670917510986\n",
            "3300 4.092309951782227\n",
            "3350 4.091989040374756\n",
            "3400 4.091702938079834\n",
            "3450 4.091447830200195\n",
            "3500 4.091220378875732\n",
            "3550 4.091017723083496\n",
            "3600 4.090837001800537\n",
            "3650 4.090677261352539\n",
            "3700 4.090532302856445\n",
            "3750 4.090404987335205\n",
            "3800 4.0902910232543945\n",
            "3850 4.090189456939697\n",
            "3900 4.0900983810424805\n",
            "3950 4.090018272399902\n",
            "4000 4.08994722366333\n",
            "4050 4.089881896972656\n",
            "4100 4.089824676513672\n",
            "4150 4.0897746086120605\n",
            "4200 4.0897297859191895\n",
            "4250 4.089688777923584\n",
            "4300 4.0896525382995605\n",
            "4350 4.089620590209961\n",
            "4400 4.089592933654785\n",
            "4450 4.089566707611084\n",
            "4500 4.089544296264648\n",
            "4550 4.089523792266846\n",
            "4600 4.089505672454834\n",
            "4650 4.089489459991455\n",
            "4700 4.089475154876709\n",
            "4750 4.0894622802734375\n",
            "4800 4.089451313018799\n",
            "4850 4.08944034576416\n",
            "4900 4.0894317626953125\n",
            "4950 4.089423656463623\n",
            "5000 4.08941650390625\n",
            "5050 4.089410781860352\n",
            "5100 4.089404106140137\n",
            "5150 4.0893988609313965\n",
            "5200 4.089394569396973\n",
            "5250 4.089390754699707\n",
            "5300 4.0893874168396\n",
            "5350 4.08938455581665\n",
            "5400 4.089381694793701\n",
            "5450 4.089378356933594\n",
            "5500 4.089375972747803\n",
            "5550 4.08937406539917\n",
            "5600 4.089372158050537\n",
            "5650 4.089371204376221\n",
            "5700 4.089369297027588\n",
            "5750 4.089367866516113\n",
            "5800 4.089366436004639\n",
            "5850 4.0893659591674805\n",
            "5900 4.089365005493164\n",
            "5950 4.089364528656006\n",
            "6000 4.0893635749816895\n",
            "6050 4.089362621307373\n",
            "6100 4.089361667633057\n",
            "6150 4.089361667633057\n",
            "6200 4.089361190795898\n",
            "6250 4.089360237121582\n",
            "6300 4.089360237121582\n",
            "6350 4.089359760284424\n",
            "6400 4.089358806610107\n",
            "6450 4.089359283447266\n",
            "6500 4.089358806610107\n",
            "6550 4.089359283447266\n",
            "6600 4.089359283447266\n",
            "6650 4.089358806610107\n",
            "6700 4.089358806610107\n",
            "6750 4.089358806610107\n",
            "6800 4.089358806610107\n",
            "6850 4.089358806610107\n",
            "6900 4.089359283447266\n",
            "6950 4.089358806610107\n",
            "7000 4.089359283447266\n",
            "7050 4.089358329772949\n",
            "7100 4.089358329772949\n",
            "7150 4.089358806610107\n",
            "7200 4.089358329772949\n",
            "7250 4.089357852935791\n",
            "7300 4.089358329772949\n",
            "7350 4.089357852935791\n",
            "7400 4.089358329772949\n",
            "7450 4.089358329772949\n",
            "7500 4.089357852935791\n",
            "7550 4.089358329772949\n",
            "7600 4.089358329772949\n",
            "7650 4.089357852935791\n",
            "7700 4.089357852935791\n",
            "7750 4.089358329772949\n",
            "7800 4.089357852935791\n",
            "7850 4.089358329772949\n",
            "7900 4.089358329772949\n",
            "7950 4.089358329772949\n",
            "8000 4.089358329772949\n",
            "8050 4.089358329772949\n",
            "8100 4.089358329772949\n",
            "8150 4.089358329772949\n",
            "8200 4.089358329772949\n",
            "8250 4.089358329772949\n",
            "8300 4.089358329772949\n",
            "8350 4.089358329772949\n",
            "8400 4.089358329772949\n",
            "8450 4.089358329772949\n",
            "8500 4.089358329772949\n",
            "8550 4.089358329772949\n",
            "8600 4.089358329772949\n",
            "8650 4.089358329772949\n",
            "8700 4.089358329772949\n",
            "8750 4.089358329772949\n",
            "8800 4.089358329772949\n",
            "8850 4.089358329772949\n",
            "8900 4.089358329772949\n",
            "8950 4.089358329772949\n",
            "9000 4.089358329772949\n",
            "9050 4.089358329772949\n",
            "9100 4.089358329772949\n",
            "9150 4.089358329772949\n",
            "9200 4.089358329772949\n",
            "9250 4.089358329772949\n",
            "9300 4.089358329772949\n",
            "9350 4.089358329772949\n",
            "9400 4.089358329772949\n",
            "9450 4.089358329772949\n",
            "9500 4.089358329772949\n",
            "9550 4.089358329772949\n",
            "9600 4.089358329772949\n",
            "9650 4.089358329772949\n",
            "9700 4.089358329772949\n",
            "9750 4.089358329772949\n",
            "9800 4.089358329772949\n",
            "9850 4.089358329772949\n",
            "9900 4.089358329772949\n",
            "9950 4.089358329772949\n"
          ],
          "name": "stdout"
        }
      ]
    },
    {
      "cell_type": "code",
      "metadata": {
        "id": "DlBq4m2m0Mi_",
        "colab_type": "code",
        "colab": {
          "base_uri": "https://localhost:8080/",
          "height": 51
        },
        "outputId": "3082bcf1-fe1c-483d-9dd7-f457914df6bb"
      },
      "source": [
        "print('w1: ', w1) \n",
        "print('w2: ', w2)"
      ],
      "execution_count": 164,
      "outputs": [
        {
          "output_type": "stream",
          "text": [
            "w1:  tensor([[0.8172]], requires_grad=True)\n",
            "w2:  tensor([[0.4854]], requires_grad=True)\n"
          ],
          "name": "stdout"
        }
      ]
    },
    {
      "cell_type": "code",
      "metadata": {
        "id": "zjsfdRqZ0SCx",
        "colab_type": "code",
        "colab": {
          "base_uri": "https://localhost:8080/",
          "height": 272
        },
        "outputId": "6c5ab3b1-7cda-4b0d-eac0-4ad7eb93a70b"
      },
      "source": [
        "# Perform predictions\n",
        "x_train_tensor = torch.from_numpy(x_train)\n",
        "x_train_tensor"
      ],
      "execution_count": 165,
      "outputs": [
        {
          "output_type": "execute_result",
          "data": {
            "text/plain": [
              "tensor([[ 4.7000],\n",
              "        [ 2.4000],\n",
              "        [ 7.5000],\n",
              "        [ 7.1000],\n",
              "        [ 4.3000],\n",
              "        [ 7.8160],\n",
              "        [ 8.9000],\n",
              "        [ 5.2000],\n",
              "        [ 8.5900],\n",
              "        [ 2.1000],\n",
              "        [ 8.0000],\n",
              "        [10.0000],\n",
              "        [ 4.5000],\n",
              "        [ 6.0000],\n",
              "        [ 4.0000]])"
            ]
          },
          "metadata": {
            "tags": []
          },
          "execution_count": 165
        }
      ]
    },
    {
      "cell_type": "code",
      "metadata": {
        "id": "JmDTpTN90WCL",
        "colab_type": "code",
        "colab": {
          "base_uri": "https://localhost:8080/",
          "height": 272
        },
        "outputId": "9b3822fe-bea5-4655-fcd3-a39d5110a798"
      },
      "source": [
        "predicted_in_tensor = x_train_tensor.mm(w1).mm(w2)\n",
        "predicted_in_tensor"
      ],
      "execution_count": 166,
      "outputs": [
        {
          "output_type": "execute_result",
          "data": {
            "text/plain": [
              "tensor([[1.8643],\n",
              "        [0.9520],\n",
              "        [2.9749],\n",
              "        [2.8163],\n",
              "        [1.7056],\n",
              "        [3.1003],\n",
              "        [3.5302],\n",
              "        [2.0626],\n",
              "        [3.4073],\n",
              "        [0.8330],\n",
              "        [3.1733],\n",
              "        [3.9666],\n",
              "        [1.7850],\n",
              "        [2.3799],\n",
              "        [1.5866]], grad_fn=<MmBackward>)"
            ]
          },
          "metadata": {
            "tags": []
          },
          "execution_count": 166
        }
      ]
    },
    {
      "cell_type": "code",
      "metadata": {
        "id": "PoRWW8Qx0bQz",
        "colab_type": "code",
        "colab": {
          "base_uri": "https://localhost:8080/",
          "height": 272
        },
        "outputId": "7feaee9f-4888-47b1-8994-5d517cbb96ff"
      },
      "source": [
        "# convert predictions to numpy for visualization\n",
        "predicted = predicted_in_tensor.detach().numpy()\n",
        "predicted"
      ],
      "execution_count": 167,
      "outputs": [
        {
          "output_type": "execute_result",
          "data": {
            "text/plain": [
              "array([[1.8642881],\n",
              "       [0.951977 ],\n",
              "       [2.974928 ],\n",
              "       [2.816265 ],\n",
              "       [1.7056254],\n",
              "       [3.1002717],\n",
              "       [3.530248 ],\n",
              "       [2.0626168],\n",
              "       [3.4072843],\n",
              "       [0.8329798],\n",
              "       [3.1732564],\n",
              "       [3.9665709],\n",
              "       [1.7849568],\n",
              "       [2.3799422],\n",
              "       [1.5866282]], dtype=float32)"
            ]
          },
          "metadata": {
            "tags": []
          },
          "execution_count": 167
        }
      ]
    },
    {
      "cell_type": "code",
      "metadata": {
        "id": "5_gBzgqv0e3e",
        "colab_type": "code",
        "colab": {
          "base_uri": "https://localhost:8080/",
          "height": 500
        },
        "outputId": "56db841e-fdfa-47dd-8930-1e10d89935e8"
      },
      "source": [
        "# visualize predictions\n",
        "\n",
        "plt.figure(figsize=(12, 8))\n",
        "\n",
        "plt.scatter(x_train, y_train, label = 'Original data', s=250, c='r')\n",
        "\n",
        "plt.plot(x_train, predicted, label = 'Fitted line')\n",
        "\n",
        "plt.legend()"
      ],
      "execution_count": 168,
      "outputs": [
        {
          "output_type": "execute_result",
          "data": {
            "text/plain": [
              "<matplotlib.legend.Legend at 0x7f53074bf390>"
            ]
          },
          "metadata": {
            "tags": []
          },
          "execution_count": 168
        },
        {
          "output_type": "display_data",
          "data": {
            "image/png": "[encoded data removed]",
            "text/plain": [
              "<Figure size 864x576 with 1 Axes>"
            ]
          },
          "metadata": {
            "tags": [],
            "needs_background": "light"
          }
        }
      ]
    },
    {
      "cell_type": "markdown",
      "metadata": {
        "id": "VaeYxyohgFxT",
        "colab_type": "text"
      },
      "source": [
        "### Computational Graphs\n",
        "\n",
        "Pytorch computation graphs are dynamic. The graph is defined as it is executed. \n",
        "\n",
        "### Approaches in Computational Graphs\n",
        "\n",
        "*   Static -- Tensorflow, symbolic programming of NNs\n",
        "*   Dynamic -- Pytorch, imperative programming of NNs\n",
        "\n",
        "### Contrasting Symbolic and Imperative Programming\n",
        "\n",
        "**Symbolic**\n",
        "\n",
        "*   First defined operations then execute\n",
        "*   Define functions abstractily, no actual computation takes place\n",
        "*   Computation explicitly compiled before evaluation\n",
        "*   e.g. Java, C++\n",
        "\n",
        "In a NN approach:\n",
        "\n",
        "*   First defined computation then run code\n",
        "*   Computation first defined using placeholders, not real data\n",
        "*   Computation explicitly compiled before evaluation   \n",
        "*   Results in a static computation graph\n",
        "\n",
        "Tensorflow: *Define then Run*\n",
        "\n",
        "*   Explicit compile step\n",
        "*   Compilation converts the graph into executable format\n",
        "*   Harder to program and debug\n",
        "*   Less flexible -- harder to experiment\n",
        "*   More restricted, computation graph only shows final results\n",
        "*   More efficient -- easier to optimize\n",
        "\n",
        "**Imperative**\n",
        "\n",
        "*   Execution performed as operations are being defined\n",
        "*   Code actually executed as the function is defined\n",
        "*   No explicit compilation step before evaluation\n",
        "*   e.g. Python\n",
        "\n",
        "In a NN approach:\n",
        "\n",
        "*   Computations are run as they are defined\n",
        "*   Computations are directly performed on real tensors\n",
        "*   No explicit compilation step before evaluation \n",
        "*   Results in a dynamic computation graph\n",
        "\n",
        "Pytorch *Define by Run*\n",
        "\n",
        "*   No explicit compile step\n",
        "*   Graph already in executable format\n",
        "*   Easier writing and debugging\n",
        "*   More flexible, easier to experiment\n",
        "*   Less restricted, intermediate results visible to users\n",
        "*   Less efficient -- harder to optimize\n",
        "\n",
        "\n",
        "\n",
        "\n",
        "\n",
        "\n",
        "\n",
        "\n",
        "\n",
        "\n",
        "\n",
        "\n",
        "\n",
        "\n",
        "\n",
        "\n",
        "\n"
      ]
    },
    {
      "cell_type": "code",
      "metadata": {
        "id": "0iRUYj_Y0jym",
        "colab_type": "code",
        "colab": {}
      },
      "source": [
        ""
      ],
      "execution_count": 0,
      "outputs": []
    }
  ]
}