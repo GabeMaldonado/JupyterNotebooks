{
  "nbformat": 4,
  "nbformat_minor": 0,
  "metadata": {
    "colab": {
      "name": "Prophet_Evaluation_Metrics.ipynb",
      "version": "0.3.2",
      "provenance": [],
      "collapsed_sections": [],
      "include_colab_link": true
    },
    "kernelspec": {
      "name": "python3",
      "display_name": "Python 3"
    }
  },
  "cells": [
    {
      "cell_type": "markdown",
      "metadata": {
        "id": "view-in-github",
        "colab_type": "text"
      },
      "source": [
        "<a href=\"https://colab.research.google.com/github/GabeMaldonado/JupyterNotebooks/blob/master/Prophet_Evaluation_Metrics.ipynb\" target=\"_parent\"><img src=\"https://colab.research.google.com/assets/colab-badge.svg\" alt=\"Open In Colab\"/></a>"
      ]
    },
    {
      "cell_type": "code",
      "metadata": {
        "id": "uSS_VdW6tHsF",
        "colab_type": "code",
        "colab": {}
      },
      "source": [
        "import pandas as pd\n",
        "from fbprophet import Prophet\n",
        "%matplotlib inline"
      ],
      "execution_count": 0,
      "outputs": []
    },
    {
      "cell_type": "markdown",
      "metadata": {
        "id": "qWgxx9E-uc9t",
        "colab_type": "text"
      },
      "source": [
        " ## Load Data\n",
        " \n",
        " Analize Miles_Traveled dataset."
      ]
    },
    {
      "cell_type": "code",
      "metadata": {
        "id": "m13Z4HdEujyy",
        "colab_type": "code",
        "colab": {}
      },
      "source": [
        "df = pd.read_csv('Miles_Traveled.csv')"
      ],
      "execution_count": 0,
      "outputs": []
    },
    {
      "cell_type": "code",
      "metadata": {
        "id": "_byYNG9nuyGN",
        "colab_type": "code",
        "colab": {
          "base_uri": "https://localhost:8080/",
          "height": 204
        },
        "outputId": "944fd7cb-ff3c-4ef9-cc17-66e628baad64"
      },
      "source": [
        "df.head()"
      ],
      "execution_count": 19,
      "outputs": [
        {
          "output_type": "execute_result",
          "data": {
            "text/html": [
              "<div>\n",
              "<style scoped>\n",
              "    .dataframe tbody tr th:only-of-type {\n",
              "        vertical-align: middle;\n",
              "    }\n",
              "\n",
              "    .dataframe tbody tr th {\n",
              "        vertical-align: top;\n",
              "    }\n",
              "\n",
              "    .dataframe thead th {\n",
              "        text-align: right;\n",
              "    }\n",
              "</style>\n",
              "<table border=\"1\" class=\"dataframe\">\n",
              "  <thead>\n",
              "    <tr style=\"text-align: right;\">\n",
              "      <th></th>\n",
              "      <th>DATE</th>\n",
              "      <th>TRFVOLUSM227NFWA</th>\n",
              "    </tr>\n",
              "  </thead>\n",
              "  <tbody>\n",
              "    <tr>\n",
              "      <th>0</th>\n",
              "      <td>1970-01-01</td>\n",
              "      <td>80173.0</td>\n",
              "    </tr>\n",
              "    <tr>\n",
              "      <th>1</th>\n",
              "      <td>1970-02-01</td>\n",
              "      <td>77442.0</td>\n",
              "    </tr>\n",
              "    <tr>\n",
              "      <th>2</th>\n",
              "      <td>1970-03-01</td>\n",
              "      <td>90223.0</td>\n",
              "    </tr>\n",
              "    <tr>\n",
              "      <th>3</th>\n",
              "      <td>1970-04-01</td>\n",
              "      <td>89956.0</td>\n",
              "    </tr>\n",
              "    <tr>\n",
              "      <th>4</th>\n",
              "      <td>1970-05-01</td>\n",
              "      <td>97972.0</td>\n",
              "    </tr>\n",
              "  </tbody>\n",
              "</table>\n",
              "</div>"
            ],
            "text/plain": [
              "         DATE  TRFVOLUSM227NFWA\n",
              "0  1970-01-01           80173.0\n",
              "1  1970-02-01           77442.0\n",
              "2  1970-03-01           90223.0\n",
              "3  1970-04-01           89956.0\n",
              "4  1970-05-01           97972.0"
            ]
          },
          "metadata": {
            "tags": []
          },
          "execution_count": 19
        }
      ]
    },
    {
      "cell_type": "code",
      "metadata": {
        "id": "fnRCFU0_uy8_",
        "colab_type": "code",
        "colab": {
          "base_uri": "https://localhost:8080/",
          "height": 136
        },
        "outputId": "20d0148a-1d81-4bee-b370-2fd6da102a73"
      },
      "source": [
        "df.info()"
      ],
      "execution_count": 20,
      "outputs": [
        {
          "output_type": "stream",
          "text": [
            "<class 'pandas.core.frame.DataFrame'>\n",
            "RangeIndex: 588 entries, 0 to 587\n",
            "Data columns (total 2 columns):\n",
            "DATE                588 non-null object\n",
            "TRFVOLUSM227NFWA    588 non-null float64\n",
            "dtypes: float64(1), object(1)\n",
            "memory usage: 9.3+ KB\n"
          ],
          "name": "stdout"
        }
      ]
    },
    {
      "cell_type": "code",
      "metadata": {
        "id": "pbxLCcMNu0IS",
        "colab_type": "code",
        "colab": {
          "base_uri": "https://localhost:8080/",
          "height": 297
        },
        "outputId": "92bac5a6-0026-4211-9222-fc4c2c625485"
      },
      "source": [
        "df.describe()"
      ],
      "execution_count": 21,
      "outputs": [
        {
          "output_type": "execute_result",
          "data": {
            "text/html": [
              "<div>\n",
              "<style scoped>\n",
              "    .dataframe tbody tr th:only-of-type {\n",
              "        vertical-align: middle;\n",
              "    }\n",
              "\n",
              "    .dataframe tbody tr th {\n",
              "        vertical-align: top;\n",
              "    }\n",
              "\n",
              "    .dataframe thead th {\n",
              "        text-align: right;\n",
              "    }\n",
              "</style>\n",
              "<table border=\"1\" class=\"dataframe\">\n",
              "  <thead>\n",
              "    <tr style=\"text-align: right;\">\n",
              "      <th></th>\n",
              "      <th>TRFVOLUSM227NFWA</th>\n",
              "    </tr>\n",
              "  </thead>\n",
              "  <tbody>\n",
              "    <tr>\n",
              "      <th>count</th>\n",
              "      <td>588.000000</td>\n",
              "    </tr>\n",
              "    <tr>\n",
              "      <th>mean</th>\n",
              "      <td>190420.380952</td>\n",
              "    </tr>\n",
              "    <tr>\n",
              "      <th>std</th>\n",
              "      <td>57795.538934</td>\n",
              "    </tr>\n",
              "    <tr>\n",
              "      <th>min</th>\n",
              "      <td>77442.000000</td>\n",
              "    </tr>\n",
              "    <tr>\n",
              "      <th>25%</th>\n",
              "      <td>133579.000000</td>\n",
              "    </tr>\n",
              "    <tr>\n",
              "      <th>50%</th>\n",
              "      <td>196797.500000</td>\n",
              "    </tr>\n",
              "    <tr>\n",
              "      <th>75%</th>\n",
              "      <td>243211.500000</td>\n",
              "    </tr>\n",
              "    <tr>\n",
              "      <th>max</th>\n",
              "      <td>288145.000000</td>\n",
              "    </tr>\n",
              "  </tbody>\n",
              "</table>\n",
              "</div>"
            ],
            "text/plain": [
              "       TRFVOLUSM227NFWA\n",
              "count        588.000000\n",
              "mean      190420.380952\n",
              "std        57795.538934\n",
              "min        77442.000000\n",
              "25%       133579.000000\n",
              "50%       196797.500000\n",
              "75%       243211.500000\n",
              "max       288145.000000"
            ]
          },
          "metadata": {
            "tags": []
          },
          "execution_count": 21
        }
      ]
    },
    {
      "cell_type": "markdown",
      "metadata": {
        "id": "FpC4m8txu-8F",
        "colab_type": "text"
      },
      "source": [
        "Change columns names to Prophet specs and change the data column to a timeseries object."
      ]
    },
    {
      "cell_type": "code",
      "metadata": {
        "id": "4Ku8ZVnSu3TM",
        "colab_type": "code",
        "colab": {
          "base_uri": "https://localhost:8080/",
          "height": 204
        },
        "outputId": "83b304dc-6b32-4460-a134-f97db792451c"
      },
      "source": [
        "df.columns = ['ds', 'y']\n",
        "df['ds'] = pd.to_datetime(df['ds'])\n",
        "df.head()"
      ],
      "execution_count": 22,
      "outputs": [
        {
          "output_type": "execute_result",
          "data": {
            "text/html": [
              "<div>\n",
              "<style scoped>\n",
              "    .dataframe tbody tr th:only-of-type {\n",
              "        vertical-align: middle;\n",
              "    }\n",
              "\n",
              "    .dataframe tbody tr th {\n",
              "        vertical-align: top;\n",
              "    }\n",
              "\n",
              "    .dataframe thead th {\n",
              "        text-align: right;\n",
              "    }\n",
              "</style>\n",
              "<table border=\"1\" class=\"dataframe\">\n",
              "  <thead>\n",
              "    <tr style=\"text-align: right;\">\n",
              "      <th></th>\n",
              "      <th>ds</th>\n",
              "      <th>y</th>\n",
              "    </tr>\n",
              "  </thead>\n",
              "  <tbody>\n",
              "    <tr>\n",
              "      <th>0</th>\n",
              "      <td>1970-01-01</td>\n",
              "      <td>80173.0</td>\n",
              "    </tr>\n",
              "    <tr>\n",
              "      <th>1</th>\n",
              "      <td>1970-02-01</td>\n",
              "      <td>77442.0</td>\n",
              "    </tr>\n",
              "    <tr>\n",
              "      <th>2</th>\n",
              "      <td>1970-03-01</td>\n",
              "      <td>90223.0</td>\n",
              "    </tr>\n",
              "    <tr>\n",
              "      <th>3</th>\n",
              "      <td>1970-04-01</td>\n",
              "      <td>89956.0</td>\n",
              "    </tr>\n",
              "    <tr>\n",
              "      <th>4</th>\n",
              "      <td>1970-05-01</td>\n",
              "      <td>97972.0</td>\n",
              "    </tr>\n",
              "  </tbody>\n",
              "</table>\n",
              "</div>"
            ],
            "text/plain": [
              "          ds        y\n",
              "0 1970-01-01  80173.0\n",
              "1 1970-02-01  77442.0\n",
              "2 1970-03-01  90223.0\n",
              "3 1970-04-01  89956.0\n",
              "4 1970-05-01  97972.0"
            ]
          },
          "metadata": {
            "tags": []
          },
          "execution_count": 22
        }
      ]
    },
    {
      "cell_type": "code",
      "metadata": {
        "id": "eJTsZpUovLTS",
        "colab_type": "code",
        "colab": {
          "base_uri": "https://localhost:8080/",
          "height": 136
        },
        "outputId": "53de0fc6-97f9-4bd4-ff53-d87b3b29821a"
      },
      "source": [
        "df.info()"
      ],
      "execution_count": 23,
      "outputs": [
        {
          "output_type": "stream",
          "text": [
            "<class 'pandas.core.frame.DataFrame'>\n",
            "RangeIndex: 588 entries, 0 to 587\n",
            "Data columns (total 2 columns):\n",
            "ds    588 non-null datetime64[ns]\n",
            "y     588 non-null float64\n",
            "dtypes: datetime64[ns](1), float64(1)\n",
            "memory usage: 9.3 KB\n"
          ],
          "name": "stdout"
        }
      ]
    },
    {
      "cell_type": "markdown",
      "metadata": {
        "id": "UfxRQlFTv-HW",
        "colab_type": "text"
      },
      "source": [
        "## Visualize Data"
      ]
    },
    {
      "cell_type": "code",
      "metadata": {
        "id": "NnTu5nK4vgnD",
        "colab_type": "code",
        "colab": {
          "base_uri": "https://localhost:8080/",
          "height": 500
        },
        "outputId": "7a52767b-990b-4347-a4ff-a7a3261c4d92"
      },
      "source": [
        "pd.plotting.register_matplotlib_converters()\n",
        "df.plot(x='ds', y='y', figsize = (12,8));"
      ],
      "execution_count": 27,
      "outputs": [
        {
          "output_type": "display_data",
          "data": {
            "image/png": "[encoded data removed]",
            "text/plain": [
              "<Figure size 864x576 with 1 Axes>"
            ]
          },
          "metadata": {
            "tags": []
          }
        }
      ]
    },
    {
      "cell_type": "markdown",
      "metadata": {
        "id": "XPrfUilyzfa2",
        "colab_type": "text"
      },
      "source": [
        "## Run Prophet on Test set and run Evaluations."
      ]
    },
    {
      "cell_type": "code",
      "metadata": {
        "id": "wdlahR3HwGUZ",
        "colab_type": "code",
        "colab": {
          "base_uri": "https://localhost:8080/",
          "height": 34
        },
        "outputId": "38429bf7-c4a8-4eb4-8165-3255e7fe585d"
      },
      "source": [
        "len(df)"
      ],
      "execution_count": 28,
      "outputs": [
        {
          "output_type": "execute_result",
          "data": {
            "text/plain": [
              "588"
            ]
          },
          "metadata": {
            "tags": []
          },
          "execution_count": 28
        }
      ]
    },
    {
      "cell_type": "code",
      "metadata": {
        "id": "k1RlbZqk0HIl",
        "colab_type": "code",
        "colab": {}
      },
      "source": [
        "# Create training set\n",
        "\n",
        "train = df.iloc[:len(df)-12]\n",
        "test = df.iloc[len(df)-12:]"
      ],
      "execution_count": 0,
      "outputs": []
    },
    {
      "cell_type": "code",
      "metadata": {
        "id": "r1-53nlp0odI",
        "colab_type": "code",
        "colab": {
          "base_uri": "https://localhost:8080/",
          "height": 51
        },
        "outputId": "60c0ae08-1b8d-4875-ba68-cb7ab1055ec5"
      },
      "source": [
        "# Create Prophet instance\n",
        "\n",
        "m = Prophet()\n",
        "\n",
        "# fit model\n",
        "\n",
        "m.fit(train)\n",
        "\n",
        "# create a placeholder for future predictions\n",
        "\n",
        "future = m.make_future_dataframe(periods=12, freq='MS')\n",
        "\n",
        "# get forecast on future df\n",
        "\n",
        "forecast = m.predict(future)"
      ],
      "execution_count": 35,
      "outputs": [
        {
          "output_type": "stream",
          "text": [
            "INFO:fbprophet:Disabling weekly seasonality. Run prophet with weekly_seasonality=True to override this.\n",
            "INFO:fbprophet:Disabling daily seasonality. Run prophet with daily_seasonality=True to override this.\n"
          ],
          "name": "stderr"
        }
      ]
    },
    {
      "cell_type": "code",
      "metadata": {
        "id": "S9nZdORK10NC",
        "colab_type": "code",
        "colab": {
          "base_uri": "https://localhost:8080/",
          "height": 309
        },
        "outputId": "738dd184-a955-49aa-f997-ba78dab4cbb9"
      },
      "source": [
        "# print forecast tail\n",
        "\n",
        "forecast.tail()"
      ],
      "execution_count": 36,
      "outputs": [
        {
          "output_type": "execute_result",
          "data": {
            "text/html": [
              "<div>\n",
              "<style scoped>\n",
              "    .dataframe tbody tr th:only-of-type {\n",
              "        vertical-align: middle;\n",
              "    }\n",
              "\n",
              "    .dataframe tbody tr th {\n",
              "        vertical-align: top;\n",
              "    }\n",
              "\n",
              "    .dataframe thead th {\n",
              "        text-align: right;\n",
              "    }\n",
              "</style>\n",
              "<table border=\"1\" class=\"dataframe\">\n",
              "  <thead>\n",
              "    <tr style=\"text-align: right;\">\n",
              "      <th></th>\n",
              "      <th>ds</th>\n",
              "      <th>trend</th>\n",
              "      <th>yhat_lower</th>\n",
              "      <th>yhat_upper</th>\n",
              "      <th>trend_lower</th>\n",
              "      <th>trend_upper</th>\n",
              "      <th>additive_terms</th>\n",
              "      <th>additive_terms_lower</th>\n",
              "      <th>additive_terms_upper</th>\n",
              "      <th>yearly</th>\n",
              "      <th>yearly_lower</th>\n",
              "      <th>yearly_upper</th>\n",
              "      <th>multiplicative_terms</th>\n",
              "      <th>multiplicative_terms_lower</th>\n",
              "      <th>multiplicative_terms_upper</th>\n",
              "      <th>yhat</th>\n",
              "    </tr>\n",
              "  </thead>\n",
              "  <tbody>\n",
              "    <tr>\n",
              "      <th>583</th>\n",
              "      <td>2018-08-01</td>\n",
              "      <td>263410.800604</td>\n",
              "      <td>273946.550023</td>\n",
              "      <td>285503.932507</td>\n",
              "      <td>263343.077564</td>\n",
              "      <td>263477.133709</td>\n",
              "      <td>16448.013049</td>\n",
              "      <td>16448.013049</td>\n",
              "      <td>16448.013049</td>\n",
              "      <td>16448.013049</td>\n",
              "      <td>16448.013049</td>\n",
              "      <td>16448.013049</td>\n",
              "      <td>0.0</td>\n",
              "      <td>0.0</td>\n",
              "      <td>0.0</td>\n",
              "      <td>279858.813654</td>\n",
              "    </tr>\n",
              "    <tr>\n",
              "      <th>584</th>\n",
              "      <td>2018-09-01</td>\n",
              "      <td>263552.915940</td>\n",
              "      <td>256365.077279</td>\n",
              "      <td>267835.455188</td>\n",
              "      <td>263447.397126</td>\n",
              "      <td>263648.573373</td>\n",
              "      <td>-1670.418537</td>\n",
              "      <td>-1670.418537</td>\n",
              "      <td>-1670.418537</td>\n",
              "      <td>-1670.418537</td>\n",
              "      <td>-1670.418537</td>\n",
              "      <td>-1670.418537</td>\n",
              "      <td>0.0</td>\n",
              "      <td>0.0</td>\n",
              "      <td>0.0</td>\n",
              "      <td>261882.497404</td>\n",
              "    </tr>\n",
              "    <tr>\n",
              "      <th>585</th>\n",
              "      <td>2018-10-01</td>\n",
              "      <td>263690.446911</td>\n",
              "      <td>262760.269741</td>\n",
              "      <td>274866.907060</td>\n",
              "      <td>263542.899517</td>\n",
              "      <td>263810.852602</td>\n",
              "      <td>5305.505873</td>\n",
              "      <td>5305.505873</td>\n",
              "      <td>5305.505873</td>\n",
              "      <td>5305.505873</td>\n",
              "      <td>5305.505873</td>\n",
              "      <td>5305.505873</td>\n",
              "      <td>0.0</td>\n",
              "      <td>0.0</td>\n",
              "      <td>0.0</td>\n",
              "      <td>268995.952784</td>\n",
              "    </tr>\n",
              "    <tr>\n",
              "      <th>586</th>\n",
              "      <td>2018-11-01</td>\n",
              "      <td>263832.562247</td>\n",
              "      <td>249921.672602</td>\n",
              "      <td>261436.555424</td>\n",
              "      <td>263658.943503</td>\n",
              "      <td>263978.577730</td>\n",
              "      <td>-8208.986942</td>\n",
              "      <td>-8208.986942</td>\n",
              "      <td>-8208.986942</td>\n",
              "      <td>-8208.986942</td>\n",
              "      <td>-8208.986942</td>\n",
              "      <td>-8208.986942</td>\n",
              "      <td>0.0</td>\n",
              "      <td>0.0</td>\n",
              "      <td>0.0</td>\n",
              "      <td>255623.575305</td>\n",
              "    </tr>\n",
              "    <tr>\n",
              "      <th>587</th>\n",
              "      <td>2018-12-01</td>\n",
              "      <td>263970.093217</td>\n",
              "      <td>251560.897604</td>\n",
              "      <td>263186.227119</td>\n",
              "      <td>263746.322784</td>\n",
              "      <td>264156.491737</td>\n",
              "      <td>-6922.716937</td>\n",
              "      <td>-6922.716937</td>\n",
              "      <td>-6922.716937</td>\n",
              "      <td>-6922.716937</td>\n",
              "      <td>-6922.716937</td>\n",
              "      <td>-6922.716937</td>\n",
              "      <td>0.0</td>\n",
              "      <td>0.0</td>\n",
              "      <td>0.0</td>\n",
              "      <td>257047.376280</td>\n",
              "    </tr>\n",
              "  </tbody>\n",
              "</table>\n",
              "</div>"
            ],
            "text/plain": [
              "            ds          trend  ...  multiplicative_terms_upper           yhat\n",
              "583 2018-08-01  263410.800604  ...                         0.0  279858.813654\n",
              "584 2018-09-01  263552.915940  ...                         0.0  261882.497404\n",
              "585 2018-10-01  263690.446911  ...                         0.0  268995.952784\n",
              "586 2018-11-01  263832.562247  ...                         0.0  255623.575305\n",
              "587 2018-12-01  263970.093217  ...                         0.0  257047.376280\n",
              "\n",
              "[5 rows x 16 columns]"
            ]
          },
          "metadata": {
            "tags": []
          },
          "execution_count": 36
        }
      ]
    },
    {
      "cell_type": "markdown",
      "metadata": {
        "id": "6euWd3s92F0p",
        "colab_type": "text"
      },
      "source": [
        "## Plot Predicted Values over True Values"
      ]
    },
    {
      "cell_type": "code",
      "metadata": {
        "id": "pYKhXEAx1_9L",
        "colab_type": "code",
        "colab": {
          "base_uri": "https://localhost:8080/",
          "height": 500
        },
        "outputId": "c85c1ec3-5930-43b0-e268-10e7db9d7843"
      },
      "source": [
        "ax = forecast.plot(x='ds', y='yhat', label='Predictions', legend=True, figsize=(12,8))\n",
        "test.plot(x='ds', y='y', label='True Test Data', legend=True, ax=ax);   #ax connects the two graphs to same axis."
      ],
      "execution_count": 44,
      "outputs": [
        {
          "output_type": "display_data",
          "data": {
            "image/png": "[encoded data removed]",
            "text/plain": [
              "<Figure size 864x576 with 1 Axes>"
            ]
          },
          "metadata": {
            "tags": []
          }
        }
      ]
    },
    {
      "cell_type": "code",
      "metadata": {
        "id": "0-DEYsDf2ct7",
        "colab_type": "code",
        "colab": {
          "base_uri": "https://localhost:8080/",
          "height": 512
        },
        "outputId": "90c1d133-dbfa-47f6-9a33-21ebaa4734f0"
      },
      "source": [
        "# Zoom into the forecast\n",
        "ax = forecast.plot(x='ds', y='yhat', label='Predictions', legend=True, figsize=(12,8))\n",
        "test.plot(x='ds', y='y', label='True Test Data', legend=True, ax=ax, xlim=('2018-01-01', '2019-01-01')); "
      ],
      "execution_count": 45,
      "outputs": [
        {
          "output_type": "display_data",
          "data": {
            "image/png": "[encoded data removed]",
            "text/plain": [
              "<Figure size 864x576 with 1 Axes>"
            ]
          },
          "metadata": {
            "tags": []
          }
        }
      ]
    },
    {
      "cell_type": "markdown",
      "metadata": {
        "id": "5X40HfQC3ujM",
        "colab_type": "text"
      },
      "source": [
        "## Evaluate Predictions Using Statsmodels Root Mean Squared Error (MSE)"
      ]
    },
    {
      "cell_type": "code",
      "metadata": {
        "id": "9imUzEgl3opq",
        "colab_type": "code",
        "colab": {}
      },
      "source": [
        "from statsmodels.tools.eval_measures import rmse"
      ],
      "execution_count": 0,
      "outputs": []
    },
    {
      "cell_type": "code",
      "metadata": {
        "id": "9yxwTaDL38HV",
        "colab_type": "code",
        "colab": {
          "base_uri": "https://localhost:8080/",
          "height": 238
        },
        "outputId": "7b9b1d25-5f30-4c8f-c274-61446a305e05"
      },
      "source": [
        "# get predictions\n",
        "\n",
        "predictions = forecast.iloc[-12:]['yhat']\n",
        "predictions"
      ],
      "execution_count": 49,
      "outputs": [
        {
          "output_type": "execute_result",
          "data": {
            "text/plain": [
              "576    243850.453937\n",
              "577    235480.588794\n",
              "578    262683.274392\n",
              "579    262886.236399\n",
              "580    272609.522601\n",
              "581    272862.615300\n",
              "582    279321.841101\n",
              "583    279858.813654\n",
              "584    261882.497404\n",
              "585    268995.952784\n",
              "586    255623.575305\n",
              "587    257047.376280\n",
              "Name: yhat, dtype: float64"
            ]
          },
          "metadata": {
            "tags": []
          },
          "execution_count": 49
        }
      ]
    },
    {
      "cell_type": "code",
      "metadata": {
        "id": "N2RVPne24HKd",
        "colab_type": "code",
        "colab": {
          "base_uri": "https://localhost:8080/",
          "height": 238
        },
        "outputId": "d035827e-6158-49b2-a22f-0d871e3d028f"
      },
      "source": [
        "# compare to test set\n",
        "test['y']"
      ],
      "execution_count": 50,
      "outputs": [
        {
          "output_type": "execute_result",
          "data": {
            "text/plain": [
              "576    245695.0\n",
              "577    226660.0\n",
              "578    268480.0\n",
              "579    272475.0\n",
              "580    286164.0\n",
              "581    280877.0\n",
              "582    288145.0\n",
              "583    286608.0\n",
              "584    260595.0\n",
              "585    282174.0\n",
              "586    258590.0\n",
              "587    268413.0\n",
              "Name: y, dtype: float64"
            ]
          },
          "metadata": {
            "tags": []
          },
          "execution_count": 50
        }
      ]
    },
    {
      "cell_type": "code",
      "metadata": {
        "id": "EZj0gZFZ4WKO",
        "colab_type": "code",
        "colab": {
          "base_uri": "https://localhost:8080/",
          "height": 34
        },
        "outputId": "9162af1d-a0c8-4615-f970-1c4e77ba0859"
      },
      "source": [
        "# calculate rmse\n",
        "\n",
        "rmse(predictions, test['y'])"
      ],
      "execution_count": 53,
      "outputs": [
        {
          "output_type": "execute_result",
          "data": {
            "text/plain": [
              "8618.783155559411"
            ]
          },
          "metadata": {
            "tags": []
          },
          "execution_count": 53
        }
      ]
    },
    {
      "cell_type": "code",
      "metadata": {
        "id": "rRiDTQgn4czt",
        "colab_type": "code",
        "colab": {
          "base_uri": "https://localhost:8080/",
          "height": 51
        },
        "outputId": "d07ed77c-5cb4-4718-ba65-c802bd12b256"
      },
      "source": [
        "test.mean()"
      ],
      "execution_count": 54,
      "outputs": [
        {
          "output_type": "execute_result",
          "data": {
            "text/plain": [
              "y    268739.666667\n",
              "dtype: float64"
            ]
          },
          "metadata": {
            "tags": []
          },
          "execution_count": 54
        }
      ]
    },
    {
      "cell_type": "markdown",
      "metadata": {
        "id": "YKQK4uRR4tPW",
        "colab_type": "text"
      },
      "source": [
        ""
      ]
    },
    {
      "cell_type": "markdown",
      "metadata": {
        "id": "V2JHmDFW5Kir",
        "colab_type": "text"
      },
      "source": [
        "## Evaluate Predictions Using Prophet's Evaluation Tools\n",
        "\n",
        "Prophet has it own evaluations tools that allows us to perform *cross-validation* in different sections of the dataset instead of the last section as we saw above. \n",
        "When performing cross-validation, there are 3 things that need to be defined:\n",
        "\n",
        "\n",
        "*   Initial training period\n",
        "*   Period lenght to perform validation\n",
        "*   Horizon of prediction\n",
        "\n"
      ]
    },
    {
      "cell_type": "code",
      "metadata": {
        "id": "tTM0m4mR4kc_",
        "colab_type": "code",
        "colab": {}
      },
      "source": [
        "## import prophet eval tools\n",
        "\n",
        "from fbprophet.diagnostics import cross_validation, performance_metrics\n",
        "from fbprophet.plot import plot_cross_validation_metric"
      ],
      "execution_count": 0,
      "outputs": []
    },
    {
      "cell_type": "code",
      "metadata": {
        "id": "SHCWf4A35rve",
        "colab_type": "code",
        "colab": {
          "base_uri": "https://localhost:8080/",
          "height": 34
        },
        "outputId": "3fa3f643-3ff8-43b1-a32d-8f8bcbff255c"
      },
      "source": [
        "# Define:\n",
        "\n",
        "# Initial -- period is 5 years\n",
        "\n",
        "initial = 5 * 365\n",
        "initial = str(initial) + ' days'\n",
        "initial"
      ],
      "execution_count": 56,
      "outputs": [
        {
          "output_type": "execute_result",
          "data": {
            "text/plain": [
              "'1825 days'"
            ]
          },
          "metadata": {
            "tags": []
          },
          "execution_count": 56
        }
      ]
    },
    {
      "cell_type": "code",
      "metadata": {
        "id": "z-izbfwq605M",
        "colab_type": "code",
        "colab": {
          "base_uri": "https://localhost:8080/",
          "height": 34
        },
        "outputId": "fb4e6d19-7e46-4ad5-f70c-6555bfbe22c4"
      },
      "source": [
        "# Define:\n",
        "\n",
        "# Period\n",
        "\n",
        "period = 5 * 365\n",
        "period = str(period) + ' days'\n",
        "period"
      ],
      "execution_count": 57,
      "outputs": [
        {
          "output_type": "execute_result",
          "data": {
            "text/plain": [
              "'1825 days'"
            ]
          },
          "metadata": {
            "tags": []
          },
          "execution_count": 57
        }
      ]
    },
    {
      "cell_type": "code",
      "metadata": {
        "id": "-t8C1DAA7EaY",
        "colab_type": "code",
        "colab": {}
      },
      "source": [
        "# Define:\n",
        "\n",
        "# Horizon -- one year ahead\n",
        "\n",
        "horizon = 365\n",
        "horizon = str(horizon) + ' days'\n"
      ],
      "execution_count": 0,
      "outputs": []
    },
    {
      "cell_type": "code",
      "metadata": {
        "id": "h-yFrcp67S9r",
        "colab_type": "code",
        "colab": {
          "base_uri": "https://localhost:8080/",
          "height": 34
        },
        "outputId": "f48502a9-a23c-4cea-d569-5b4c5651d587"
      },
      "source": [
        "# perform cross-validation -- args: model, initial, period, horizon\n",
        "\n",
        "df_cv = cross_validation(m, initial=initial, period=period, horizon=horizon)"
      ],
      "execution_count": 59,
      "outputs": [
        {
          "output_type": "stream",
          "text": [
            "INFO:fbprophet:Making 9 forecasts with cutoffs between 1976-12-11 00:00:00 and 2016-12-01 00:00:00\n"
          ],
          "name": "stderr"
        }
      ]
    },
    {
      "cell_type": "code",
      "metadata": {
        "id": "9MoNCONz7iwL",
        "colab_type": "code",
        "colab": {
          "base_uri": "https://localhost:8080/",
          "height": 204
        },
        "outputId": "9df609cb-1634-48b6-8248-a8686899c19a"
      },
      "source": [
        "df_cv.head()"
      ],
      "execution_count": 60,
      "outputs": [
        {
          "output_type": "execute_result",
          "data": {
            "text/html": [
              "<div>\n",
              "<style scoped>\n",
              "    .dataframe tbody tr th:only-of-type {\n",
              "        vertical-align: middle;\n",
              "    }\n",
              "\n",
              "    .dataframe tbody tr th {\n",
              "        vertical-align: top;\n",
              "    }\n",
              "\n",
              "    .dataframe thead th {\n",
              "        text-align: right;\n",
              "    }\n",
              "</style>\n",
              "<table border=\"1\" class=\"dataframe\">\n",
              "  <thead>\n",
              "    <tr style=\"text-align: right;\">\n",
              "      <th></th>\n",
              "      <th>ds</th>\n",
              "      <th>yhat</th>\n",
              "      <th>yhat_lower</th>\n",
              "      <th>yhat_upper</th>\n",
              "      <th>y</th>\n",
              "      <th>cutoff</th>\n",
              "    </tr>\n",
              "  </thead>\n",
              "  <tbody>\n",
              "    <tr>\n",
              "      <th>0</th>\n",
              "      <td>1977-01-01</td>\n",
              "      <td>108479.087306</td>\n",
              "      <td>106990.603148</td>\n",
              "      <td>109837.430105</td>\n",
              "      <td>102445.0</td>\n",
              "      <td>1976-12-11</td>\n",
              "    </tr>\n",
              "    <tr>\n",
              "      <th>1</th>\n",
              "      <td>1977-02-01</td>\n",
              "      <td>102996.111502</td>\n",
              "      <td>101607.192966</td>\n",
              "      <td>104416.448231</td>\n",
              "      <td>102416.0</td>\n",
              "      <td>1976-12-11</td>\n",
              "    </tr>\n",
              "    <tr>\n",
              "      <th>2</th>\n",
              "      <td>1977-03-01</td>\n",
              "      <td>118973.317944</td>\n",
              "      <td>117460.910009</td>\n",
              "      <td>120468.316343</td>\n",
              "      <td>119960.0</td>\n",
              "      <td>1976-12-11</td>\n",
              "    </tr>\n",
              "    <tr>\n",
              "      <th>3</th>\n",
              "      <td>1977-04-01</td>\n",
              "      <td>120612.923539</td>\n",
              "      <td>119182.220594</td>\n",
              "      <td>122067.307008</td>\n",
              "      <td>121513.0</td>\n",
              "      <td>1976-12-11</td>\n",
              "    </tr>\n",
              "    <tr>\n",
              "      <th>4</th>\n",
              "      <td>1977-05-01</td>\n",
              "      <td>127883.031663</td>\n",
              "      <td>126442.196287</td>\n",
              "      <td>129351.375440</td>\n",
              "      <td>128884.0</td>\n",
              "      <td>1976-12-11</td>\n",
              "    </tr>\n",
              "  </tbody>\n",
              "</table>\n",
              "</div>"
            ],
            "text/plain": [
              "          ds           yhat     yhat_lower     yhat_upper         y     cutoff\n",
              "0 1977-01-01  108479.087306  106990.603148  109837.430105  102445.0 1976-12-11\n",
              "1 1977-02-01  102996.111502  101607.192966  104416.448231  102416.0 1976-12-11\n",
              "2 1977-03-01  118973.317944  117460.910009  120468.316343  119960.0 1976-12-11\n",
              "3 1977-04-01  120612.923539  119182.220594  122067.307008  121513.0 1976-12-11\n",
              "4 1977-05-01  127883.031663  126442.196287  129351.375440  128884.0 1976-12-11"
            ]
          },
          "metadata": {
            "tags": []
          },
          "execution_count": 60
        }
      ]
    },
    {
      "cell_type": "code",
      "metadata": {
        "id": "oqG63pb87waT",
        "colab_type": "code",
        "colab": {
          "base_uri": "https://localhost:8080/",
          "height": 1000
        },
        "outputId": "dd487cdf-83a9-4ebb-b5b6-e7ed02ff565c"
      },
      "source": [
        "# Get data from cv\n",
        "# mae --> mean absolute error\n",
        "#mape --> mean absolute percent error\n",
        "\n",
        "performance_metrics(df_cv)"
      ],
      "execution_count": 61,
      "outputs": [
        {
          "output_type": "execute_result",
          "data": {
            "text/html": [
              "<div>\n",
              "<style scoped>\n",
              "    .dataframe tbody tr th:only-of-type {\n",
              "        vertical-align: middle;\n",
              "    }\n",
              "\n",
              "    .dataframe tbody tr th {\n",
              "        vertical-align: top;\n",
              "    }\n",
              "\n",
              "    .dataframe thead th {\n",
              "        text-align: right;\n",
              "    }\n",
              "</style>\n",
              "<table border=\"1\" class=\"dataframe\">\n",
              "  <thead>\n",
              "    <tr style=\"text-align: right;\">\n",
              "      <th></th>\n",
              "      <th>horizon</th>\n",
              "      <th>mse</th>\n",
              "      <th>rmse</th>\n",
              "      <th>mae</th>\n",
              "      <th>mape</th>\n",
              "      <th>coverage</th>\n",
              "    </tr>\n",
              "  </thead>\n",
              "  <tbody>\n",
              "    <tr>\n",
              "      <th>0</th>\n",
              "      <td>52 days</td>\n",
              "      <td>2.402227e+07</td>\n",
              "      <td>4901.251892</td>\n",
              "      <td>4506.384371</td>\n",
              "      <td>0.027631</td>\n",
              "      <td>0.4</td>\n",
              "    </tr>\n",
              "    <tr>\n",
              "      <th>1</th>\n",
              "      <td>53 days</td>\n",
              "      <td>2.150811e+07</td>\n",
              "      <td>4637.683407</td>\n",
              "      <td>4238.662732</td>\n",
              "      <td>0.024863</td>\n",
              "      <td>0.4</td>\n",
              "    </tr>\n",
              "    <tr>\n",
              "      <th>2</th>\n",
              "      <td>54 days</td>\n",
              "      <td>1.807689e+07</td>\n",
              "      <td>4251.692535</td>\n",
              "      <td>3708.943275</td>\n",
              "      <td>0.019933</td>\n",
              "      <td>0.5</td>\n",
              "    </tr>\n",
              "    <tr>\n",
              "      <th>3</th>\n",
              "      <td>55 days</td>\n",
              "      <td>2.298205e+07</td>\n",
              "      <td>4793.960154</td>\n",
              "      <td>4236.275244</td>\n",
              "      <td>0.023042</td>\n",
              "      <td>0.4</td>\n",
              "    </tr>\n",
              "    <tr>\n",
              "      <th>4</th>\n",
              "      <td>57 days</td>\n",
              "      <td>2.078937e+07</td>\n",
              "      <td>4559.535784</td>\n",
              "      <td>3972.087270</td>\n",
              "      <td>0.021317</td>\n",
              "      <td>0.5</td>\n",
              "    </tr>\n",
              "    <tr>\n",
              "      <th>5</th>\n",
              "      <td>58 days</td>\n",
              "      <td>2.306545e+07</td>\n",
              "      <td>4802.649969</td>\n",
              "      <td>4248.916338</td>\n",
              "      <td>0.022521</td>\n",
              "      <td>0.4</td>\n",
              "    </tr>\n",
              "    <tr>\n",
              "      <th>6</th>\n",
              "      <td>59 days</td>\n",
              "      <td>3.794246e+07</td>\n",
              "      <td>6159.745363</td>\n",
              "      <td>5069.232548</td>\n",
              "      <td>0.026221</td>\n",
              "      <td>0.4</td>\n",
              "    </tr>\n",
              "    <tr>\n",
              "      <th>7</th>\n",
              "      <td>60 days</td>\n",
              "      <td>3.875108e+07</td>\n",
              "      <td>6225.036249</td>\n",
              "      <td>5136.940670</td>\n",
              "      <td>0.026702</td>\n",
              "      <td>0.4</td>\n",
              "    </tr>\n",
              "    <tr>\n",
              "      <th>8</th>\n",
              "      <td>62 days</td>\n",
              "      <td>3.722136e+07</td>\n",
              "      <td>6100.930821</td>\n",
              "      <td>4941.278113</td>\n",
              "      <td>0.025845</td>\n",
              "      <td>0.4</td>\n",
              "    </tr>\n",
              "    <tr>\n",
              "      <th>9</th>\n",
              "      <td>80 days</td>\n",
              "      <td>3.260728e+07</td>\n",
              "      <td>5710.278221</td>\n",
              "      <td>4353.547479</td>\n",
              "      <td>0.023861</td>\n",
              "      <td>0.5</td>\n",
              "    </tr>\n",
              "    <tr>\n",
              "      <th>10</th>\n",
              "      <td>81 days</td>\n",
              "      <td>3.285223e+07</td>\n",
              "      <td>5731.686347</td>\n",
              "      <td>4462.450667</td>\n",
              "      <td>0.024597</td>\n",
              "      <td>0.5</td>\n",
              "    </tr>\n",
              "    <tr>\n",
              "      <th>11</th>\n",
              "      <td>82 days</td>\n",
              "      <td>3.281764e+07</td>\n",
              "      <td>5728.668498</td>\n",
              "      <td>4457.259054</td>\n",
              "      <td>0.023572</td>\n",
              "      <td>0.6</td>\n",
              "    </tr>\n",
              "    <tr>\n",
              "      <th>12</th>\n",
              "      <td>84 days</td>\n",
              "      <td>3.390813e+07</td>\n",
              "      <td>5823.069158</td>\n",
              "      <td>4733.704727</td>\n",
              "      <td>0.024963</td>\n",
              "      <td>0.6</td>\n",
              "    </tr>\n",
              "    <tr>\n",
              "      <th>13</th>\n",
              "      <td>85 days</td>\n",
              "      <td>2.998379e+07</td>\n",
              "      <td>5475.745696</td>\n",
              "      <td>4377.309899</td>\n",
              "      <td>0.022171</td>\n",
              "      <td>0.7</td>\n",
              "    </tr>\n",
              "    <tr>\n",
              "      <th>14</th>\n",
              "      <td>86 days</td>\n",
              "      <td>2.918944e+07</td>\n",
              "      <td>5402.725633</td>\n",
              "      <td>4118.776449</td>\n",
              "      <td>0.020737</td>\n",
              "      <td>0.7</td>\n",
              "    </tr>\n",
              "    <tr>\n",
              "      <th>15</th>\n",
              "      <td>87 days</td>\n",
              "      <td>2.788883e+07</td>\n",
              "      <td>5280.987591</td>\n",
              "      <td>3983.875446</td>\n",
              "      <td>0.019695</td>\n",
              "      <td>0.8</td>\n",
              "    </tr>\n",
              "    <tr>\n",
              "      <th>16</th>\n",
              "      <td>89 days</td>\n",
              "      <td>1.453884e+07</td>\n",
              "      <td>3812.982510</td>\n",
              "      <td>3298.866149</td>\n",
              "      <td>0.016154</td>\n",
              "      <td>0.8</td>\n",
              "    </tr>\n",
              "    <tr>\n",
              "      <th>17</th>\n",
              "      <td>90 days</td>\n",
              "      <td>2.084092e+07</td>\n",
              "      <td>4565.185871</td>\n",
              "      <td>3681.957136</td>\n",
              "      <td>0.017056</td>\n",
              "      <td>0.8</td>\n",
              "    </tr>\n",
              "    <tr>\n",
              "      <th>18</th>\n",
              "      <td>111 days</td>\n",
              "      <td>2.006300e+07</td>\n",
              "      <td>4479.173895</td>\n",
              "      <td>3478.888509</td>\n",
              "      <td>0.016505</td>\n",
              "      <td>0.8</td>\n",
              "    </tr>\n",
              "    <tr>\n",
              "      <th>19</th>\n",
              "      <td>112 days</td>\n",
              "      <td>2.060786e+07</td>\n",
              "      <td>4539.588179</td>\n",
              "      <td>3633.640152</td>\n",
              "      <td>0.017634</td>\n",
              "      <td>0.8</td>\n",
              "    </tr>\n",
              "    <tr>\n",
              "      <th>20</th>\n",
              "      <td>113 days</td>\n",
              "      <td>2.237650e+07</td>\n",
              "      <td>4730.380639</td>\n",
              "      <td>3919.190632</td>\n",
              "      <td>0.019163</td>\n",
              "      <td>0.7</td>\n",
              "    </tr>\n",
              "    <tr>\n",
              "      <th>21</th>\n",
              "      <td>115 days</td>\n",
              "      <td>2.180882e+07</td>\n",
              "      <td>4669.991853</td>\n",
              "      <td>3817.735659</td>\n",
              "      <td>0.018297</td>\n",
              "      <td>0.7</td>\n",
              "    </tr>\n",
              "    <tr>\n",
              "      <th>22</th>\n",
              "      <td>116 days</td>\n",
              "      <td>2.112879e+07</td>\n",
              "      <td>4596.606343</td>\n",
              "      <td>3693.295346</td>\n",
              "      <td>0.017470</td>\n",
              "      <td>0.7</td>\n",
              "    </tr>\n",
              "    <tr>\n",
              "      <th>23</th>\n",
              "      <td>117 days</td>\n",
              "      <td>1.974488e+07</td>\n",
              "      <td>4443.520604</td>\n",
              "      <td>3337.159852</td>\n",
              "      <td>0.015782</td>\n",
              "      <td>0.7</td>\n",
              "    </tr>\n",
              "    <tr>\n",
              "      <th>24</th>\n",
              "      <td>118 days</td>\n",
              "      <td>2.098299e+07</td>\n",
              "      <td>4580.718952</td>\n",
              "      <td>3665.511183</td>\n",
              "      <td>0.017075</td>\n",
              "      <td>0.7</td>\n",
              "    </tr>\n",
              "    <tr>\n",
              "      <th>25</th>\n",
              "      <td>120 days</td>\n",
              "      <td>1.929732e+07</td>\n",
              "      <td>4392.870982</td>\n",
              "      <td>3308.657741</td>\n",
              "      <td>0.015710</td>\n",
              "      <td>0.7</td>\n",
              "    </tr>\n",
              "    <tr>\n",
              "      <th>26</th>\n",
              "      <td>121 days</td>\n",
              "      <td>4.005074e+07</td>\n",
              "      <td>6328.565250</td>\n",
              "      <td>4249.836052</td>\n",
              "      <td>0.019007</td>\n",
              "      <td>0.7</td>\n",
              "    </tr>\n",
              "    <tr>\n",
              "      <th>27</th>\n",
              "      <td>141 days</td>\n",
              "      <td>2.986741e+07</td>\n",
              "      <td>5465.108854</td>\n",
              "      <td>3335.856109</td>\n",
              "      <td>0.015991</td>\n",
              "      <td>0.8</td>\n",
              "    </tr>\n",
              "    <tr>\n",
              "      <th>28</th>\n",
              "      <td>142 days</td>\n",
              "      <td>3.348058e+07</td>\n",
              "      <td>5786.240648</td>\n",
              "      <td>3853.646111</td>\n",
              "      <td>0.019583</td>\n",
              "      <td>0.7</td>\n",
              "    </tr>\n",
              "    <tr>\n",
              "      <th>29</th>\n",
              "      <td>143 days</td>\n",
              "      <td>3.436861e+07</td>\n",
              "      <td>5862.474577</td>\n",
              "      <td>3991.409535</td>\n",
              "      <td>0.019963</td>\n",
              "      <td>0.6</td>\n",
              "    </tr>\n",
              "    <tr>\n",
              "      <th>...</th>\n",
              "      <td>...</td>\n",
              "      <td>...</td>\n",
              "      <td>...</td>\n",
              "      <td>...</td>\n",
              "      <td>...</td>\n",
              "      <td>...</td>\n",
              "    </tr>\n",
              "    <tr>\n",
              "      <th>69</th>\n",
              "      <td>271 days</td>\n",
              "      <td>3.940425e+07</td>\n",
              "      <td>6277.280588</td>\n",
              "      <td>4952.925812</td>\n",
              "      <td>0.023246</td>\n",
              "      <td>0.4</td>\n",
              "    </tr>\n",
              "    <tr>\n",
              "      <th>70</th>\n",
              "      <td>273 days</td>\n",
              "      <td>4.762939e+07</td>\n",
              "      <td>6901.404877</td>\n",
              "      <td>5510.902256</td>\n",
              "      <td>0.025811</td>\n",
              "      <td>0.4</td>\n",
              "    </tr>\n",
              "    <tr>\n",
              "      <th>71</th>\n",
              "      <td>274 days</td>\n",
              "      <td>5.215876e+07</td>\n",
              "      <td>7222.102079</td>\n",
              "      <td>6036.799827</td>\n",
              "      <td>0.027817</td>\n",
              "      <td>0.3</td>\n",
              "    </tr>\n",
              "    <tr>\n",
              "      <th>72</th>\n",
              "      <td>294 days</td>\n",
              "      <td>4.300135e+07</td>\n",
              "      <td>6557.541692</td>\n",
              "      <td>5087.841083</td>\n",
              "      <td>0.024501</td>\n",
              "      <td>0.4</td>\n",
              "    </tr>\n",
              "    <tr>\n",
              "      <th>73</th>\n",
              "      <td>295 days</td>\n",
              "      <td>4.779605e+07</td>\n",
              "      <td>6913.468723</td>\n",
              "      <td>5677.222656</td>\n",
              "      <td>0.028653</td>\n",
              "      <td>0.3</td>\n",
              "    </tr>\n",
              "    <tr>\n",
              "      <th>74</th>\n",
              "      <td>296 days</td>\n",
              "      <td>4.445228e+07</td>\n",
              "      <td>6667.254544</td>\n",
              "      <td>5359.639092</td>\n",
              "      <td>0.025830</td>\n",
              "      <td>0.3</td>\n",
              "    </tr>\n",
              "    <tr>\n",
              "      <th>75</th>\n",
              "      <td>298 days</td>\n",
              "      <td>4.284148e+07</td>\n",
              "      <td>6545.340220</td>\n",
              "      <td>4996.540611</td>\n",
              "      <td>0.023579</td>\n",
              "      <td>0.4</td>\n",
              "    </tr>\n",
              "    <tr>\n",
              "      <th>76</th>\n",
              "      <td>299 days</td>\n",
              "      <td>4.492137e+07</td>\n",
              "      <td>6702.340811</td>\n",
              "      <td>5343.691988</td>\n",
              "      <td>0.025058</td>\n",
              "      <td>0.3</td>\n",
              "    </tr>\n",
              "    <tr>\n",
              "      <th>77</th>\n",
              "      <td>300 days</td>\n",
              "      <td>4.491255e+07</td>\n",
              "      <td>6701.682253</td>\n",
              "      <td>5334.940901</td>\n",
              "      <td>0.024989</td>\n",
              "      <td>0.3</td>\n",
              "    </tr>\n",
              "    <tr>\n",
              "      <th>78</th>\n",
              "      <td>301 days</td>\n",
              "      <td>4.029280e+07</td>\n",
              "      <td>6347.660786</td>\n",
              "      <td>4861.651539</td>\n",
              "      <td>0.022849</td>\n",
              "      <td>0.4</td>\n",
              "    </tr>\n",
              "    <tr>\n",
              "      <th>79</th>\n",
              "      <td>303 days</td>\n",
              "      <td>2.450723e+07</td>\n",
              "      <td>4950.477945</td>\n",
              "      <td>3736.409294</td>\n",
              "      <td>0.018257</td>\n",
              "      <td>0.5</td>\n",
              "    </tr>\n",
              "    <tr>\n",
              "      <th>80</th>\n",
              "      <td>304 days</td>\n",
              "      <td>4.007715e+07</td>\n",
              "      <td>6330.651308</td>\n",
              "      <td>4329.508835</td>\n",
              "      <td>0.019772</td>\n",
              "      <td>0.5</td>\n",
              "    </tr>\n",
              "    <tr>\n",
              "      <th>81</th>\n",
              "      <td>325 days</td>\n",
              "      <td>3.542847e+07</td>\n",
              "      <td>5952.181744</td>\n",
              "      <td>3763.155215</td>\n",
              "      <td>0.018206</td>\n",
              "      <td>0.6</td>\n",
              "    </tr>\n",
              "    <tr>\n",
              "      <th>82</th>\n",
              "      <td>326 days</td>\n",
              "      <td>3.675447e+07</td>\n",
              "      <td>6062.546374</td>\n",
              "      <td>4119.368273</td>\n",
              "      <td>0.021009</td>\n",
              "      <td>0.5</td>\n",
              "    </tr>\n",
              "    <tr>\n",
              "      <th>83</th>\n",
              "      <td>327 days</td>\n",
              "      <td>3.206591e+07</td>\n",
              "      <td>5662.677267</td>\n",
              "      <td>3570.147529</td>\n",
              "      <td>0.016933</td>\n",
              "      <td>0.6</td>\n",
              "    </tr>\n",
              "    <tr>\n",
              "      <th>84</th>\n",
              "      <td>329 days</td>\n",
              "      <td>3.766847e+07</td>\n",
              "      <td>6137.464499</td>\n",
              "      <td>4036.418932</td>\n",
              "      <td>0.019430</td>\n",
              "      <td>0.6</td>\n",
              "    </tr>\n",
              "    <tr>\n",
              "      <th>85</th>\n",
              "      <td>330 days</td>\n",
              "      <td>3.854161e+07</td>\n",
              "      <td>6208.188825</td>\n",
              "      <td>4294.374211</td>\n",
              "      <td>0.020697</td>\n",
              "      <td>0.6</td>\n",
              "    </tr>\n",
              "    <tr>\n",
              "      <th>86</th>\n",
              "      <td>331 days</td>\n",
              "      <td>3.727481e+07</td>\n",
              "      <td>6105.310294</td>\n",
              "      <td>4132.975253</td>\n",
              "      <td>0.019910</td>\n",
              "      <td>0.7</td>\n",
              "    </tr>\n",
              "    <tr>\n",
              "      <th>87</th>\n",
              "      <td>332 days</td>\n",
              "      <td>4.115499e+07</td>\n",
              "      <td>6415.215244</td>\n",
              "      <td>4711.526108</td>\n",
              "      <td>0.022264</td>\n",
              "      <td>0.6</td>\n",
              "    </tr>\n",
              "    <tr>\n",
              "      <th>88</th>\n",
              "      <td>334 days</td>\n",
              "      <td>4.087113e+07</td>\n",
              "      <td>6393.053559</td>\n",
              "      <td>4646.719134</td>\n",
              "      <td>0.022078</td>\n",
              "      <td>0.6</td>\n",
              "    </tr>\n",
              "    <tr>\n",
              "      <th>89</th>\n",
              "      <td>335 days</td>\n",
              "      <td>4.742068e+07</td>\n",
              "      <td>6886.267502</td>\n",
              "      <td>5329.021094</td>\n",
              "      <td>0.024717</td>\n",
              "      <td>0.5</td>\n",
              "    </tr>\n",
              "    <tr>\n",
              "      <th>90</th>\n",
              "      <td>355 days</td>\n",
              "      <td>2.233198e+07</td>\n",
              "      <td>4725.672310</td>\n",
              "      <td>4003.530744</td>\n",
              "      <td>0.021388</td>\n",
              "      <td>0.5</td>\n",
              "    </tr>\n",
              "    <tr>\n",
              "      <th>91</th>\n",
              "      <td>356 days</td>\n",
              "      <td>2.398709e+07</td>\n",
              "      <td>4897.661254</td>\n",
              "      <td>4302.563236</td>\n",
              "      <td>0.023667</td>\n",
              "      <td>0.4</td>\n",
              "    </tr>\n",
              "    <tr>\n",
              "      <th>92</th>\n",
              "      <td>357 days</td>\n",
              "      <td>2.302278e+07</td>\n",
              "      <td>4798.206369</td>\n",
              "      <td>4128.684970</td>\n",
              "      <td>0.022024</td>\n",
              "      <td>0.5</td>\n",
              "    </tr>\n",
              "    <tr>\n",
              "      <th>93</th>\n",
              "      <td>359 days</td>\n",
              "      <td>2.486947e+07</td>\n",
              "      <td>4986.930376</td>\n",
              "      <td>4432.355223</td>\n",
              "      <td>0.023565</td>\n",
              "      <td>0.4</td>\n",
              "    </tr>\n",
              "    <tr>\n",
              "      <th>94</th>\n",
              "      <td>360 days</td>\n",
              "      <td>1.814608e+07</td>\n",
              "      <td>4259.821515</td>\n",
              "      <td>3750.359483</td>\n",
              "      <td>0.019596</td>\n",
              "      <td>0.5</td>\n",
              "    </tr>\n",
              "    <tr>\n",
              "      <th>95</th>\n",
              "      <td>361 days</td>\n",
              "      <td>1.726110e+07</td>\n",
              "      <td>4154.647536</td>\n",
              "      <td>3473.037339</td>\n",
              "      <td>0.018212</td>\n",
              "      <td>0.5</td>\n",
              "    </tr>\n",
              "    <tr>\n",
              "      <th>96</th>\n",
              "      <td>362 days</td>\n",
              "      <td>3.173990e+07</td>\n",
              "      <td>5633.817508</td>\n",
              "      <td>4404.300729</td>\n",
              "      <td>0.022034</td>\n",
              "      <td>0.4</td>\n",
              "    </tr>\n",
              "    <tr>\n",
              "      <th>97</th>\n",
              "      <td>364 days</td>\n",
              "      <td>2.986513e+07</td>\n",
              "      <td>5464.900040</td>\n",
              "      <td>4229.869860</td>\n",
              "      <td>0.021378</td>\n",
              "      <td>0.5</td>\n",
              "    </tr>\n",
              "    <tr>\n",
              "      <th>98</th>\n",
              "      <td>365 days</td>\n",
              "      <td>5.443147e+07</td>\n",
              "      <td>7377.768377</td>\n",
              "      <td>5621.707803</td>\n",
              "      <td>0.026524</td>\n",
              "      <td>0.4</td>\n",
              "    </tr>\n",
              "  </tbody>\n",
              "</table>\n",
              "<p>99 rows × 6 columns</p>\n",
              "</div>"
            ],
            "text/plain": [
              "    horizon           mse         rmse          mae      mape  coverage\n",
              "0   52 days  2.402227e+07  4901.251892  4506.384371  0.027631       0.4\n",
              "1   53 days  2.150811e+07  4637.683407  4238.662732  0.024863       0.4\n",
              "2   54 days  1.807689e+07  4251.692535  3708.943275  0.019933       0.5\n",
              "3   55 days  2.298205e+07  4793.960154  4236.275244  0.023042       0.4\n",
              "4   57 days  2.078937e+07  4559.535784  3972.087270  0.021317       0.5\n",
              "5   58 days  2.306545e+07  4802.649969  4248.916338  0.022521       0.4\n",
              "6   59 days  3.794246e+07  6159.745363  5069.232548  0.026221       0.4\n",
              "7   60 days  3.875108e+07  6225.036249  5136.940670  0.026702       0.4\n",
              "8   62 days  3.722136e+07  6100.930821  4941.278113  0.025845       0.4\n",
              "9   80 days  3.260728e+07  5710.278221  4353.547479  0.023861       0.5\n",
              "10  81 days  3.285223e+07  5731.686347  4462.450667  0.024597       0.5\n",
              "11  82 days  3.281764e+07  5728.668498  4457.259054  0.023572       0.6\n",
              "12  84 days  3.390813e+07  5823.069158  4733.704727  0.024963       0.6\n",
              "13  85 days  2.998379e+07  5475.745696  4377.309899  0.022171       0.7\n",
              "14  86 days  2.918944e+07  5402.725633  4118.776449  0.020737       0.7\n",
              "15  87 days  2.788883e+07  5280.987591  3983.875446  0.019695       0.8\n",
              "16  89 days  1.453884e+07  3812.982510  3298.866149  0.016154       0.8\n",
              "17  90 days  2.084092e+07  4565.185871  3681.957136  0.017056       0.8\n",
              "18 111 days  2.006300e+07  4479.173895  3478.888509  0.016505       0.8\n",
              "19 112 days  2.060786e+07  4539.588179  3633.640152  0.017634       0.8\n",
              "20 113 days  2.237650e+07  4730.380639  3919.190632  0.019163       0.7\n",
              "21 115 days  2.180882e+07  4669.991853  3817.735659  0.018297       0.7\n",
              "22 116 days  2.112879e+07  4596.606343  3693.295346  0.017470       0.7\n",
              "23 117 days  1.974488e+07  4443.520604  3337.159852  0.015782       0.7\n",
              "24 118 days  2.098299e+07  4580.718952  3665.511183  0.017075       0.7\n",
              "25 120 days  1.929732e+07  4392.870982  3308.657741  0.015710       0.7\n",
              "26 121 days  4.005074e+07  6328.565250  4249.836052  0.019007       0.7\n",
              "27 141 days  2.986741e+07  5465.108854  3335.856109  0.015991       0.8\n",
              "28 142 days  3.348058e+07  5786.240648  3853.646111  0.019583       0.7\n",
              "29 143 days  3.436861e+07  5862.474577  3991.409535  0.019963       0.6\n",
              "..      ...           ...          ...          ...       ...       ...\n",
              "69 271 days  3.940425e+07  6277.280588  4952.925812  0.023246       0.4\n",
              "70 273 days  4.762939e+07  6901.404877  5510.902256  0.025811       0.4\n",
              "71 274 days  5.215876e+07  7222.102079  6036.799827  0.027817       0.3\n",
              "72 294 days  4.300135e+07  6557.541692  5087.841083  0.024501       0.4\n",
              "73 295 days  4.779605e+07  6913.468723  5677.222656  0.028653       0.3\n",
              "74 296 days  4.445228e+07  6667.254544  5359.639092  0.025830       0.3\n",
              "75 298 days  4.284148e+07  6545.340220  4996.540611  0.023579       0.4\n",
              "76 299 days  4.492137e+07  6702.340811  5343.691988  0.025058       0.3\n",
              "77 300 days  4.491255e+07  6701.682253  5334.940901  0.024989       0.3\n",
              "78 301 days  4.029280e+07  6347.660786  4861.651539  0.022849       0.4\n",
              "79 303 days  2.450723e+07  4950.477945  3736.409294  0.018257       0.5\n",
              "80 304 days  4.007715e+07  6330.651308  4329.508835  0.019772       0.5\n",
              "81 325 days  3.542847e+07  5952.181744  3763.155215  0.018206       0.6\n",
              "82 326 days  3.675447e+07  6062.546374  4119.368273  0.021009       0.5\n",
              "83 327 days  3.206591e+07  5662.677267  3570.147529  0.016933       0.6\n",
              "84 329 days  3.766847e+07  6137.464499  4036.418932  0.019430       0.6\n",
              "85 330 days  3.854161e+07  6208.188825  4294.374211  0.020697       0.6\n",
              "86 331 days  3.727481e+07  6105.310294  4132.975253  0.019910       0.7\n",
              "87 332 days  4.115499e+07  6415.215244  4711.526108  0.022264       0.6\n",
              "88 334 days  4.087113e+07  6393.053559  4646.719134  0.022078       0.6\n",
              "89 335 days  4.742068e+07  6886.267502  5329.021094  0.024717       0.5\n",
              "90 355 days  2.233198e+07  4725.672310  4003.530744  0.021388       0.5\n",
              "91 356 days  2.398709e+07  4897.661254  4302.563236  0.023667       0.4\n",
              "92 357 days  2.302278e+07  4798.206369  4128.684970  0.022024       0.5\n",
              "93 359 days  2.486947e+07  4986.930376  4432.355223  0.023565       0.4\n",
              "94 360 days  1.814608e+07  4259.821515  3750.359483  0.019596       0.5\n",
              "95 361 days  1.726110e+07  4154.647536  3473.037339  0.018212       0.5\n",
              "96 362 days  3.173990e+07  5633.817508  4404.300729  0.022034       0.4\n",
              "97 364 days  2.986513e+07  5464.900040  4229.869860  0.021378       0.5\n",
              "98 365 days  5.443147e+07  7377.768377  5621.707803  0.026524       0.4\n",
              "\n",
              "[99 rows x 6 columns]"
            ]
          },
          "metadata": {
            "tags": []
          },
          "execution_count": 61
        }
      ]
    },
    {
      "cell_type": "markdown",
      "metadata": {
        "id": "_ZU998pX8ZE0",
        "colab_type": "text"
      },
      "source": [
        "## Plot  Cross Validation Metrics"
      ]
    },
    {
      "cell_type": "code",
      "metadata": {
        "id": "6S-VVRJM8C7d",
        "colab_type": "code",
        "colab": {
          "base_uri": "https://localhost:8080/",
          "height": 392
        },
        "outputId": "45538c39-b810-4479-9211-6ff8590b3d8c"
      },
      "source": [
        "# plot rmse\n",
        "plot_cross_validation_metric(df_cv, metric='rmse');"
      ],
      "execution_count": 64,
      "outputs": [
        {
          "output_type": "display_data",
          "data": {
            "image/png": "[encoded data removed]",
            "text/plain": [
              "<Figure size 720x432 with 1 Axes>"
            ]
          },
          "metadata": {
            "tags": []
          }
        }
      ]
    },
    {
      "cell_type": "code",
      "metadata": {
        "id": "ZRLeW2o781Jy",
        "colab_type": "code",
        "colab": {
          "base_uri": "https://localhost:8080/",
          "height": 392
        },
        "outputId": "0b815e0f-2cee-4039-c717-189713e07892"
      },
      "source": [
        "# plot mape\n",
        "plot_cross_validation_metric(df_cv, metric='mape');"
      ],
      "execution_count": 65,
      "outputs": [
        {
          "output_type": "display_data",
          "data": {
            "image/png": "[encoded data removed]",
            "text/plain": [
              "<Figure size 720x432 with 1 Axes>"
            ]
          },
          "metadata": {
            "tags": []
          }
        }
      ]
    }
  ]
}