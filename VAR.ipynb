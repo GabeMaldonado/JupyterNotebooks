{
  "nbformat": 4,
  "nbformat_minor": 0,
  "metadata": {
    "colab": {
      "name": "VAR.ipynb",
      "version": "0.3.2",
      "provenance": [],
      "collapsed_sections": [],
      "toc_visible": true,
      "include_colab_link": true
    },
    "kernelspec": {
      "name": "python3",
      "display_name": "Python 3"
    }
  },
  "cells": [
    {
      "cell_type": "markdown",
      "metadata": {
        "id": "view-in-github",
        "colab_type": "text"
      },
      "source": [
        "<a href=\"https://colab.research.google.com/github/GabeMaldonado/JupyterNotebooks/blob/master/VAR.ipynb\" target=\"_parent\"><img src=\"https://colab.research.google.com/assets/colab-badge.svg\" alt=\"Open In Colab\"/></a>"
      ]
    },
    {
      "cell_type": "markdown",
      "metadata": {
        "id": "Llud_K22ZSQs",
        "colab_type": "text"
      },
      "source": [
        "# VECTOR AUTOREGRESSION MODELS (VAR)\n",
        "\n",
        "We can use VAR models to work with two time series  in order to determine they correlate and/or have any effect on one another."
      ]
    },
    {
      "cell_type": "code",
      "metadata": {
        "id": "AFulYoXPZWcJ",
        "colab_type": "code",
        "colab": {}
      },
      "source": [
        "import pandas as pd\n",
        "import numpy as np\n",
        "%matplotlib inline"
      ],
      "execution_count": 0,
      "outputs": []
    },
    {
      "cell_type": "code",
      "metadata": {
        "id": "2H_mmDh7kaA4",
        "colab_type": "code",
        "colab": {}
      },
      "source": [
        "# import stats models forecasting tools\n",
        "\n",
        "from statsmodels.tsa.api import VAR\n",
        "from statsmodels.tsa.stattools import adfuller\n",
        "from statsmodels.tools.eval_measures import rmse"
      ],
      "execution_count": 0,
      "outputs": []
    },
    {
      "cell_type": "code",
      "metadata": {
        "id": "r-4yVSmLmVtI",
        "colab_type": "code",
        "colab": {}
      },
      "source": [
        "# Ignore warnings\n",
        "import warnings\n",
        "warnings.filterwarnings(\"ignore\")"
      ],
      "execution_count": 0,
      "outputs": []
    },
    {
      "cell_type": "markdown",
      "metadata": {
        "id": "S1sFolX1nc-d",
        "colab_type": "text"
      },
      "source": [
        "## # Load Data and Perform EDA\n",
        "M2SLMoneyStock and PCEPersonalSpending dataframes."
      ]
    },
    {
      "cell_type": "code",
      "metadata": {
        "id": "WGeFz8MFm-_e",
        "colab_type": "code",
        "colab": {}
      },
      "source": [
        "# Load Moneystock dataset\n",
        "\n",
        "df1 = pd.read_csv('M2SLMoneyStock.csv', index_col = 0, parse_dates = True)\n",
        "\n",
        "# Set frequency\n",
        "df1.index.freq = 'MS'"
      ],
      "execution_count": 0,
      "outputs": []
    },
    {
      "cell_type": "code",
      "metadata": {
        "id": "WURP82qmt8U-",
        "colab_type": "code",
        "colab": {}
      },
      "source": [
        "# Load PCE dataset\n",
        "\n",
        "df2 = pd.read_csv('PCEPersonalSpending.csv', index_col = 0, parse_dates = True)\n",
        "\n",
        "# Set freqeuncy\n",
        "df2.index.freq = 'MS'"
      ],
      "execution_count": 0,
      "outputs": []
    },
    {
      "cell_type": "code",
      "metadata": {
        "id": "Pr52OUeAvVHt",
        "colab_type": "code",
        "colab": {
          "base_uri": "https://localhost:8080/",
          "height": 235
        },
        "outputId": "5aae498c-7f0b-4cd4-f8ac-071d9acd344f"
      },
      "source": [
        "# Display df's heads\n",
        "df1.head()"
      ],
      "execution_count": 6,
      "outputs": [
        {
          "output_type": "execute_result",
          "data": {
            "text/html": [
              "<div>\n",
              "<style scoped>\n",
              "    .dataframe tbody tr th:only-of-type {\n",
              "        vertical-align: middle;\n",
              "    }\n",
              "\n",
              "    .dataframe tbody tr th {\n",
              "        vertical-align: top;\n",
              "    }\n",
              "\n",
              "    .dataframe thead th {\n",
              "        text-align: right;\n",
              "    }\n",
              "</style>\n",
              "<table border=\"1\" class=\"dataframe\">\n",
              "  <thead>\n",
              "    <tr style=\"text-align: right;\">\n",
              "      <th></th>\n",
              "      <th>Money</th>\n",
              "    </tr>\n",
              "    <tr>\n",
              "      <th>Date</th>\n",
              "      <th></th>\n",
              "    </tr>\n",
              "  </thead>\n",
              "  <tbody>\n",
              "    <tr>\n",
              "      <th>1995-01-01</th>\n",
              "      <td>3492.4</td>\n",
              "    </tr>\n",
              "    <tr>\n",
              "      <th>1995-02-01</th>\n",
              "      <td>3489.9</td>\n",
              "    </tr>\n",
              "    <tr>\n",
              "      <th>1995-03-01</th>\n",
              "      <td>3491.1</td>\n",
              "    </tr>\n",
              "    <tr>\n",
              "      <th>1995-04-01</th>\n",
              "      <td>3499.2</td>\n",
              "    </tr>\n",
              "    <tr>\n",
              "      <th>1995-05-01</th>\n",
              "      <td>3524.2</td>\n",
              "    </tr>\n",
              "  </tbody>\n",
              "</table>\n",
              "</div>"
            ],
            "text/plain": [
              "             Money\n",
              "Date              \n",
              "1995-01-01  3492.4\n",
              "1995-02-01  3489.9\n",
              "1995-03-01  3491.1\n",
              "1995-04-01  3499.2\n",
              "1995-05-01  3524.2"
            ]
          },
          "metadata": {
            "tags": []
          },
          "execution_count": 6
        }
      ]
    },
    {
      "cell_type": "code",
      "metadata": {
        "id": "Zaa5Sc1ivpWf",
        "colab_type": "code",
        "colab": {
          "base_uri": "https://localhost:8080/",
          "height": 235
        },
        "outputId": "fcfe1141-1a49-4c09-8971-66aa1d0d80f2"
      },
      "source": [
        "df2.head()"
      ],
      "execution_count": 7,
      "outputs": [
        {
          "output_type": "execute_result",
          "data": {
            "text/html": [
              "<div>\n",
              "<style scoped>\n",
              "    .dataframe tbody tr th:only-of-type {\n",
              "        vertical-align: middle;\n",
              "    }\n",
              "\n",
              "    .dataframe tbody tr th {\n",
              "        vertical-align: top;\n",
              "    }\n",
              "\n",
              "    .dataframe thead th {\n",
              "        text-align: right;\n",
              "    }\n",
              "</style>\n",
              "<table border=\"1\" class=\"dataframe\">\n",
              "  <thead>\n",
              "    <tr style=\"text-align: right;\">\n",
              "      <th></th>\n",
              "      <th>Spending</th>\n",
              "    </tr>\n",
              "    <tr>\n",
              "      <th>Date</th>\n",
              "      <th></th>\n",
              "    </tr>\n",
              "  </thead>\n",
              "  <tbody>\n",
              "    <tr>\n",
              "      <th>1995-01-01</th>\n",
              "      <td>4851.2</td>\n",
              "    </tr>\n",
              "    <tr>\n",
              "      <th>1995-02-01</th>\n",
              "      <td>4850.8</td>\n",
              "    </tr>\n",
              "    <tr>\n",
              "      <th>1995-03-01</th>\n",
              "      <td>4885.4</td>\n",
              "    </tr>\n",
              "    <tr>\n",
              "      <th>1995-04-01</th>\n",
              "      <td>4890.2</td>\n",
              "    </tr>\n",
              "    <tr>\n",
              "      <th>1995-05-01</th>\n",
              "      <td>4933.1</td>\n",
              "    </tr>\n",
              "  </tbody>\n",
              "</table>\n",
              "</div>"
            ],
            "text/plain": [
              "            Spending\n",
              "Date                \n",
              "1995-01-01    4851.2\n",
              "1995-02-01    4850.8\n",
              "1995-03-01    4885.4\n",
              "1995-04-01    4890.2\n",
              "1995-05-01    4933.1"
            ]
          },
          "metadata": {
            "tags": []
          },
          "execution_count": 7
        }
      ]
    },
    {
      "cell_type": "code",
      "metadata": {
        "id": "5HB9bEDjvqjr",
        "colab_type": "code",
        "colab": {
          "base_uri": "https://localhost:8080/",
          "height": 235
        },
        "outputId": "55580ce8-51e5-4af4-c4b9-97f44790ba12"
      },
      "source": [
        "# Combine both dataframes using join\n",
        "# assign it to a new df to make changes permanent\n",
        "\n",
        "df = df1.join(df2)\n",
        "df.head()"
      ],
      "execution_count": 8,
      "outputs": [
        {
          "output_type": "execute_result",
          "data": {
            "text/html": [
              "<div>\n",
              "<style scoped>\n",
              "    .dataframe tbody tr th:only-of-type {\n",
              "        vertical-align: middle;\n",
              "    }\n",
              "\n",
              "    .dataframe tbody tr th {\n",
              "        vertical-align: top;\n",
              "    }\n",
              "\n",
              "    .dataframe thead th {\n",
              "        text-align: right;\n",
              "    }\n",
              "</style>\n",
              "<table border=\"1\" class=\"dataframe\">\n",
              "  <thead>\n",
              "    <tr style=\"text-align: right;\">\n",
              "      <th></th>\n",
              "      <th>Money</th>\n",
              "      <th>Spending</th>\n",
              "    </tr>\n",
              "    <tr>\n",
              "      <th>Date</th>\n",
              "      <th></th>\n",
              "      <th></th>\n",
              "    </tr>\n",
              "  </thead>\n",
              "  <tbody>\n",
              "    <tr>\n",
              "      <th>1995-01-01</th>\n",
              "      <td>3492.4</td>\n",
              "      <td>4851.2</td>\n",
              "    </tr>\n",
              "    <tr>\n",
              "      <th>1995-02-01</th>\n",
              "      <td>3489.9</td>\n",
              "      <td>4850.8</td>\n",
              "    </tr>\n",
              "    <tr>\n",
              "      <th>1995-03-01</th>\n",
              "      <td>3491.1</td>\n",
              "      <td>4885.4</td>\n",
              "    </tr>\n",
              "    <tr>\n",
              "      <th>1995-04-01</th>\n",
              "      <td>3499.2</td>\n",
              "      <td>4890.2</td>\n",
              "    </tr>\n",
              "    <tr>\n",
              "      <th>1995-05-01</th>\n",
              "      <td>3524.2</td>\n",
              "      <td>4933.1</td>\n",
              "    </tr>\n",
              "  </tbody>\n",
              "</table>\n",
              "</div>"
            ],
            "text/plain": [
              "             Money  Spending\n",
              "Date                        \n",
              "1995-01-01  3492.4    4851.2\n",
              "1995-02-01  3489.9    4850.8\n",
              "1995-03-01  3491.1    4885.4\n",
              "1995-04-01  3499.2    4890.2\n",
              "1995-05-01  3524.2    4933.1"
            ]
          },
          "metadata": {
            "tags": []
          },
          "execution_count": 8
        }
      ]
    },
    {
      "cell_type": "code",
      "metadata": {
        "id": "JNrEq-85wdWk",
        "colab_type": "code",
        "colab": {
          "base_uri": "https://localhost:8080/",
          "height": 297
        },
        "outputId": "d766c125-0bc3-414b-9e07-6fc1dcd9ad12"
      },
      "source": [
        "# Get data on df\n",
        "df.describe()"
      ],
      "execution_count": 9,
      "outputs": [
        {
          "output_type": "execute_result",
          "data": {
            "text/html": [
              "<div>\n",
              "<style scoped>\n",
              "    .dataframe tbody tr th:only-of-type {\n",
              "        vertical-align: middle;\n",
              "    }\n",
              "\n",
              "    .dataframe tbody tr th {\n",
              "        vertical-align: top;\n",
              "    }\n",
              "\n",
              "    .dataframe thead th {\n",
              "        text-align: right;\n",
              "    }\n",
              "</style>\n",
              "<table border=\"1\" class=\"dataframe\">\n",
              "  <thead>\n",
              "    <tr style=\"text-align: right;\">\n",
              "      <th></th>\n",
              "      <th>Money</th>\n",
              "      <th>Spending</th>\n",
              "    </tr>\n",
              "  </thead>\n",
              "  <tbody>\n",
              "    <tr>\n",
              "      <th>count</th>\n",
              "      <td>252.000000</td>\n",
              "      <td>252.000000</td>\n",
              "    </tr>\n",
              "    <tr>\n",
              "      <th>mean</th>\n",
              "      <td>6978.151190</td>\n",
              "      <td>8562.311905</td>\n",
              "    </tr>\n",
              "    <tr>\n",
              "      <th>std</th>\n",
              "      <td>2554.325115</td>\n",
              "      <td>2231.933352</td>\n",
              "    </tr>\n",
              "    <tr>\n",
              "      <th>min</th>\n",
              "      <td>3489.900000</td>\n",
              "      <td>4850.800000</td>\n",
              "    </tr>\n",
              "    <tr>\n",
              "      <th>25%</th>\n",
              "      <td>4732.875000</td>\n",
              "      <td>6682.125000</td>\n",
              "    </tr>\n",
              "    <tr>\n",
              "      <th>50%</th>\n",
              "      <td>6507.400000</td>\n",
              "      <td>8777.150000</td>\n",
              "    </tr>\n",
              "    <tr>\n",
              "      <th>75%</th>\n",
              "      <td>8699.700000</td>\n",
              "      <td>10262.925000</td>\n",
              "    </tr>\n",
              "    <tr>\n",
              "      <th>max</th>\n",
              "      <td>12335.900000</td>\n",
              "      <td>12469.100000</td>\n",
              "    </tr>\n",
              "  </tbody>\n",
              "</table>\n",
              "</div>"
            ],
            "text/plain": [
              "              Money      Spending\n",
              "count    252.000000    252.000000\n",
              "mean    6978.151190   8562.311905\n",
              "std     2554.325115   2231.933352\n",
              "min     3489.900000   4850.800000\n",
              "25%     4732.875000   6682.125000\n",
              "50%     6507.400000   8777.150000\n",
              "75%     8699.700000  10262.925000\n",
              "max    12335.900000  12469.100000"
            ]
          },
          "metadata": {
            "tags": []
          },
          "execution_count": 9
        }
      ]
    },
    {
      "cell_type": "code",
      "metadata": {
        "id": "amkufXkVwmAS",
        "colab_type": "code",
        "colab": {
          "base_uri": "https://localhost:8080/",
          "height": 153
        },
        "outputId": "107061b8-62b4-485f-d21b-f5c8970e48fe"
      },
      "source": [
        "df.info()"
      ],
      "execution_count": 10,
      "outputs": [
        {
          "output_type": "stream",
          "text": [
            "<class 'pandas.core.frame.DataFrame'>\n",
            "DatetimeIndex: 252 entries, 1995-01-01 to 2015-12-01\n",
            "Freq: MS\n",
            "Data columns (total 2 columns):\n",
            "Money       252 non-null float64\n",
            "Spending    252 non-null float64\n",
            "dtypes: float64(2)\n",
            "memory usage: 15.9 KB\n"
          ],
          "name": "stdout"
        }
      ]
    },
    {
      "cell_type": "code",
      "metadata": {
        "id": "ZvVDwdE2wn7G",
        "colab_type": "code",
        "colab": {
          "base_uri": "https://localhost:8080/",
          "height": 34
        },
        "outputId": "a9849c93-5139-484d-ada7-e65d626f10b7"
      },
      "source": [
        "df.shape"
      ],
      "execution_count": 11,
      "outputs": [
        {
          "output_type": "execute_result",
          "data": {
            "text/plain": [
              "(252, 2)"
            ]
          },
          "metadata": {
            "tags": []
          },
          "execution_count": 11
        }
      ]
    },
    {
      "cell_type": "code",
      "metadata": {
        "id": "BqFKWzs-wqN6",
        "colab_type": "code",
        "colab": {
          "base_uri": "https://localhost:8080/",
          "height": 500
        },
        "outputId": "7afafd18-6e2d-441b-8901-5ff72fa51574"
      },
      "source": [
        "# Visualize Data\n",
        "\n",
        "df.plot(figsize = (12,8));"
      ],
      "execution_count": 12,
      "outputs": [
        {
          "output_type": "display_data",
          "data": {
            "image/png": "[encoded data removed]",
            "text/plain": [
              "<Figure size 864x576 with 1 Axes>"
            ]
          },
          "metadata": {
            "tags": []
          }
        }
      ]
    },
    {
      "cell_type": "markdown",
      "metadata": {
        "id": "hsp01f59xeCN",
        "colab_type": "text"
      },
      "source": [
        "### Test Data for Stationary and Perform Transformations"
      ]
    },
    {
      "cell_type": "code",
      "metadata": {
        "id": "vT6j63fjxQdR",
        "colab_type": "code",
        "colab": {}
      },
      "source": [
        "from statsmodels.tsa.stattools import adfuller\n",
        "\n",
        "def adf_test(series,title=''):\n",
        "    \"\"\"\n",
        "    Pass in a time series and an optional title, returns an ADF report\n",
        "    \"\"\"\n",
        "    print(f'Augmented Dickey-Fuller Test: {title}')\n",
        "    result = adfuller(series.dropna(),autolag='AIC') # .dropna() handles differenced data\n",
        "    \n",
        "    labels = ['ADF test statistic','p-value','# lags used','# observations']\n",
        "    out = pd.Series(result[0:4],index=labels)\n",
        "\n",
        "    for key,val in result[4].items():\n",
        "        out[f'critical value ({key})']=val\n",
        "        \n",
        "    print(out.to_string())          # .to_string() removes the line \"dtype: float64\"\n",
        "    \n",
        "    if result[1] <= 0.05:\n",
        "        print(\"Strong evidence against the null hypothesis\")\n",
        "        print(\"Reject the null hypothesis\")\n",
        "        print(\"Data has no unit root and is stationary\")\n",
        "    else:\n",
        "        print(\"Weak evidence against the null hypothesis\")\n",
        "        print(\"Fail to reject the null hypothesis\")\n",
        "        print(\"Data has a unit root and is non-stationary\")"
      ],
      "execution_count": 0,
      "outputs": []
    },
    {
      "cell_type": "code",
      "metadata": {
        "id": "85hLOAmYyQ-A",
        "colab_type": "code",
        "colab": {
          "base_uri": "https://localhost:8080/",
          "height": 204
        },
        "outputId": "6ea66291-011a-42ea-91fe-6a53da6c5341"
      },
      "source": [
        "# run adf on the 'Money' column of dataframe\n",
        "\n",
        "adf_test(df['Money'])"
      ],
      "execution_count": 14,
      "outputs": [
        {
          "output_type": "stream",
          "text": [
            "Augmented Dickey-Fuller Test: \n",
            "ADF test statistic        4.239022\n",
            "p-value                   1.000000\n",
            "# lags used               4.000000\n",
            "# observations          247.000000\n",
            "critical value (1%)      -3.457105\n",
            "critical value (5%)      -2.873314\n",
            "critical value (10%)     -2.573044\n",
            "Weak evidence against the null hypothesis\n",
            "Fail to reject the null hypothesis\n",
            "Data has a unit root and is non-stationary\n"
          ],
          "name": "stdout"
        }
      ]
    },
    {
      "cell_type": "code",
      "metadata": {
        "id": "hj2vEPjByY7j",
        "colab_type": "code",
        "colab": {
          "base_uri": "https://localhost:8080/",
          "height": 204
        },
        "outputId": "be80b314-a531-4d9a-8b61-6ebd91c8a930"
      },
      "source": [
        "# Run adf on the 'Spending' column of dataframe\n",
        "adf_test(df['Spending'])"
      ],
      "execution_count": 15,
      "outputs": [
        {
          "output_type": "stream",
          "text": [
            "Augmented Dickey-Fuller Test: \n",
            "ADF test statistic        0.149796\n",
            "p-value                   0.969301\n",
            "# lags used               3.000000\n",
            "# observations          248.000000\n",
            "critical value (1%)      -3.456996\n",
            "critical value (5%)      -2.873266\n",
            "critical value (10%)     -2.573019\n",
            "Weak evidence against the null hypothesis\n",
            "Fail to reject the null hypothesis\n",
            "Data has a unit root and is non-stationary\n"
          ],
          "name": "stdout"
        }
      ]
    },
    {
      "cell_type": "code",
      "metadata": {
        "id": "lNCUgBQJyp9u",
        "colab_type": "code",
        "colab": {}
      },
      "source": [
        "# Transform data by running a first order differece and creating a new df (df_transform) \n",
        "\n",
        "df_transform = df.diff()"
      ],
      "execution_count": 0,
      "outputs": []
    },
    {
      "cell_type": "code",
      "metadata": {
        "id": "_FMRS-6SzVE3",
        "colab_type": "code",
        "colab": {
          "base_uri": "https://localhost:8080/",
          "height": 235
        },
        "outputId": "aa7e1c9a-3848-4ec1-a213-6f59ffc14b60"
      },
      "source": [
        "df_transform.head()"
      ],
      "execution_count": 17,
      "outputs": [
        {
          "output_type": "execute_result",
          "data": {
            "text/html": [
              "<div>\n",
              "<style scoped>\n",
              "    .dataframe tbody tr th:only-of-type {\n",
              "        vertical-align: middle;\n",
              "    }\n",
              "\n",
              "    .dataframe tbody tr th {\n",
              "        vertical-align: top;\n",
              "    }\n",
              "\n",
              "    .dataframe thead th {\n",
              "        text-align: right;\n",
              "    }\n",
              "</style>\n",
              "<table border=\"1\" class=\"dataframe\">\n",
              "  <thead>\n",
              "    <tr style=\"text-align: right;\">\n",
              "      <th></th>\n",
              "      <th>Money</th>\n",
              "      <th>Spending</th>\n",
              "    </tr>\n",
              "    <tr>\n",
              "      <th>Date</th>\n",
              "      <th></th>\n",
              "      <th></th>\n",
              "    </tr>\n",
              "  </thead>\n",
              "  <tbody>\n",
              "    <tr>\n",
              "      <th>1995-01-01</th>\n",
              "      <td>NaN</td>\n",
              "      <td>NaN</td>\n",
              "    </tr>\n",
              "    <tr>\n",
              "      <th>1995-02-01</th>\n",
              "      <td>-2.5</td>\n",
              "      <td>-0.4</td>\n",
              "    </tr>\n",
              "    <tr>\n",
              "      <th>1995-03-01</th>\n",
              "      <td>1.2</td>\n",
              "      <td>34.6</td>\n",
              "    </tr>\n",
              "    <tr>\n",
              "      <th>1995-04-01</th>\n",
              "      <td>8.1</td>\n",
              "      <td>4.8</td>\n",
              "    </tr>\n",
              "    <tr>\n",
              "      <th>1995-05-01</th>\n",
              "      <td>25.0</td>\n",
              "      <td>42.9</td>\n",
              "    </tr>\n",
              "  </tbody>\n",
              "</table>\n",
              "</div>"
            ],
            "text/plain": [
              "            Money  Spending\n",
              "Date                       \n",
              "1995-01-01    NaN       NaN\n",
              "1995-02-01   -2.5      -0.4\n",
              "1995-03-01    1.2      34.6\n",
              "1995-04-01    8.1       4.8\n",
              "1995-05-01   25.0      42.9"
            ]
          },
          "metadata": {
            "tags": []
          },
          "execution_count": 17
        }
      ]
    },
    {
      "cell_type": "markdown",
      "metadata": {
        "id": "CmnY_RCTzePh",
        "colab_type": "text"
      },
      "source": [
        "Run the adf_test on the transform data to check for stationary."
      ]
    },
    {
      "cell_type": "code",
      "metadata": {
        "id": "k0PgCfbVzWxe",
        "colab_type": "code",
        "colab": {
          "base_uri": "https://localhost:8080/",
          "height": 204
        },
        "outputId": "ad958855-7863-4909-a69e-d9cf3b35bde4"
      },
      "source": [
        "# run adf test on 'Money' column\n",
        "adf_test(df_transform['Money'])"
      ],
      "execution_count": 18,
      "outputs": [
        {
          "output_type": "stream",
          "text": [
            "Augmented Dickey-Fuller Test: \n",
            "ADF test statistic       -2.057404\n",
            "p-value                   0.261984\n",
            "# lags used              15.000000\n",
            "# observations          235.000000\n",
            "critical value (1%)      -3.458487\n",
            "critical value (5%)      -2.873919\n",
            "critical value (10%)     -2.573367\n",
            "Weak evidence against the null hypothesis\n",
            "Fail to reject the null hypothesis\n",
            "Data has a unit root and is non-stationary\n"
          ],
          "name": "stdout"
        }
      ]
    },
    {
      "cell_type": "code",
      "metadata": {
        "id": "jzKoNuRDzt9L",
        "colab_type": "code",
        "colab": {
          "base_uri": "https://localhost:8080/",
          "height": 204
        },
        "outputId": "0bf435db-cede-4101-abb4-c4bd252ccd4f"
      },
      "source": [
        "# run adf_test on 'Spending' column\n",
        "adf_test(df_transform['Spending'])"
      ],
      "execution_count": 19,
      "outputs": [
        {
          "output_type": "stream",
          "text": [
            "Augmented Dickey-Fuller Test: \n",
            "ADF test statistic     -7.226974e+00\n",
            "p-value                 2.041027e-10\n",
            "# lags used             2.000000e+00\n",
            "# observations          2.480000e+02\n",
            "critical value (1%)    -3.456996e+00\n",
            "critical value (5%)    -2.873266e+00\n",
            "critical value (10%)   -2.573019e+00\n",
            "Strong evidence against the null hypothesis\n",
            "Reject the null hypothesis\n",
            "Data has no unit root and is stationary\n"
          ],
          "name": "stdout"
        }
      ]
    },
    {
      "cell_type": "markdown",
      "metadata": {
        "id": "ujFSgSIa0TDH",
        "colab_type": "text"
      },
      "source": [
        "The 'Money' column is still non-stationary so we would have to transform it again. When we transform we sacrifice the first row so we can do a 'dropna' to take care of that."
      ]
    },
    {
      "cell_type": "code",
      "metadata": {
        "id": "050CCxd7z8co",
        "colab_type": "code",
        "colab": {}
      },
      "source": [
        "df_transform = df_transform.diff().dropna()"
      ],
      "execution_count": 0,
      "outputs": []
    },
    {
      "cell_type": "code",
      "metadata": {
        "id": "uTZYDFni1BWo",
        "colab_type": "code",
        "colab": {
          "base_uri": "https://localhost:8080/",
          "height": 235
        },
        "outputId": "b961de8e-b04c-4d1b-f48d-fb36c0dc8058"
      },
      "source": [
        "df_transform.head()"
      ],
      "execution_count": 21,
      "outputs": [
        {
          "output_type": "execute_result",
          "data": {
            "text/html": [
              "<div>\n",
              "<style scoped>\n",
              "    .dataframe tbody tr th:only-of-type {\n",
              "        vertical-align: middle;\n",
              "    }\n",
              "\n",
              "    .dataframe tbody tr th {\n",
              "        vertical-align: top;\n",
              "    }\n",
              "\n",
              "    .dataframe thead th {\n",
              "        text-align: right;\n",
              "    }\n",
              "</style>\n",
              "<table border=\"1\" class=\"dataframe\">\n",
              "  <thead>\n",
              "    <tr style=\"text-align: right;\">\n",
              "      <th></th>\n",
              "      <th>Money</th>\n",
              "      <th>Spending</th>\n",
              "    </tr>\n",
              "    <tr>\n",
              "      <th>Date</th>\n",
              "      <th></th>\n",
              "      <th></th>\n",
              "    </tr>\n",
              "  </thead>\n",
              "  <tbody>\n",
              "    <tr>\n",
              "      <th>1995-03-01</th>\n",
              "      <td>3.7</td>\n",
              "      <td>35.0</td>\n",
              "    </tr>\n",
              "    <tr>\n",
              "      <th>1995-04-01</th>\n",
              "      <td>6.9</td>\n",
              "      <td>-29.8</td>\n",
              "    </tr>\n",
              "    <tr>\n",
              "      <th>1995-05-01</th>\n",
              "      <td>16.9</td>\n",
              "      <td>38.1</td>\n",
              "    </tr>\n",
              "    <tr>\n",
              "      <th>1995-06-01</th>\n",
              "      <td>-0.3</td>\n",
              "      <td>1.5</td>\n",
              "    </tr>\n",
              "    <tr>\n",
              "      <th>1995-07-01</th>\n",
              "      <td>-6.2</td>\n",
              "      <td>-51.7</td>\n",
              "    </tr>\n",
              "  </tbody>\n",
              "</table>\n",
              "</div>"
            ],
            "text/plain": [
              "            Money  Spending\n",
              "Date                       \n",
              "1995-03-01    3.7      35.0\n",
              "1995-04-01    6.9     -29.8\n",
              "1995-05-01   16.9      38.1\n",
              "1995-06-01   -0.3       1.5\n",
              "1995-07-01   -6.2     -51.7"
            ]
          },
          "metadata": {
            "tags": []
          },
          "execution_count": 21
        }
      ]
    },
    {
      "cell_type": "code",
      "metadata": {
        "id": "a6cmpXZt1C5z",
        "colab_type": "code",
        "colab": {
          "base_uri": "https://localhost:8080/",
          "height": 204
        },
        "outputId": "d3956eb0-b637-4272-d894-bbae4e476ab3"
      },
      "source": [
        "# check stationary for 'Money'\n",
        "adf_test(df_transform['Money'])"
      ],
      "execution_count": 22,
      "outputs": [
        {
          "output_type": "stream",
          "text": [
            "Augmented Dickey-Fuller Test: \n",
            "ADF test statistic     -7.077471e+00\n",
            "p-value                 4.760675e-10\n",
            "# lags used             1.400000e+01\n",
            "# observations          2.350000e+02\n",
            "critical value (1%)    -3.458487e+00\n",
            "critical value (5%)    -2.873919e+00\n",
            "critical value (10%)   -2.573367e+00\n",
            "Strong evidence against the null hypothesis\n",
            "Reject the null hypothesis\n",
            "Data has no unit root and is stationary\n"
          ],
          "name": "stdout"
        }
      ]
    },
    {
      "cell_type": "code",
      "metadata": {
        "id": "Ue4UtEu-1OV-",
        "colab_type": "code",
        "colab": {
          "base_uri": "https://localhost:8080/",
          "height": 204
        },
        "outputId": "87734a2d-92ed-4394-fc8e-135b1d89169b"
      },
      "source": [
        "adf_test(df_transform['Spending'])"
      ],
      "execution_count": 23,
      "outputs": [
        {
          "output_type": "stream",
          "text": [
            "Augmented Dickey-Fuller Test: \n",
            "ADF test statistic     -8.760145e+00\n",
            "p-value                 2.687900e-14\n",
            "# lags used             8.000000e+00\n",
            "# observations          2.410000e+02\n",
            "critical value (1%)    -3.457779e+00\n",
            "critical value (5%)    -2.873609e+00\n",
            "critical value (10%)   -2.573202e+00\n",
            "Strong evidence against the null hypothesis\n",
            "Reject the null hypothesis\n",
            "Data has no unit root and is stationary\n"
          ],
          "name": "stdout"
        }
      ]
    },
    {
      "cell_type": "markdown",
      "metadata": {
        "id": "Ea0dlIbJ1cXr",
        "colab_type": "text"
      },
      "source": [
        "### Train Test Split\n",
        "Now that both columns are stationary, we can perform a train, test, split -- using 12 months as a test set so we can later forecast a year into the future. "
      ]
    },
    {
      "cell_type": "code",
      "metadata": {
        "id": "7T_cI1Ux1Xuf",
        "colab_type": "code",
        "colab": {}
      },
      "source": [
        "# Define number of observations\n",
        "\n",
        "num_of_obs = 12"
      ],
      "execution_count": 0,
      "outputs": []
    },
    {
      "cell_type": "code",
      "metadata": {
        "id": "LfsTO8Y12YNz",
        "colab_type": "code",
        "colab": {}
      },
      "source": [
        "train = df_transform[:-num_of_obs]"
      ],
      "execution_count": 0,
      "outputs": []
    },
    {
      "cell_type": "code",
      "metadata": {
        "id": "oZcXFwYz2jRj",
        "colab_type": "code",
        "colab": {}
      },
      "source": [
        "test = df_transform[-num_of_obs:]"
      ],
      "execution_count": 0,
      "outputs": []
    },
    {
      "cell_type": "markdown",
      "metadata": {
        "id": "vDEgjgDCjbkK",
        "colab_type": "text"
      },
      "source": [
        "### Perform A Gridsearch for Order p AR of VAR Model\n",
        "We need to choose the order for the vector auto-regression model. \n",
        "Normally we would run Autoarima to get the orders but it doesn't work for Vector Auto Regression."
      ]
    },
    {
      "cell_type": "code",
      "metadata": {
        "id": "kKQeCc453SwU",
        "colab_type": "code",
        "colab": {
          "base_uri": "https://localhost:8080/",
          "height": 493
        },
        "outputId": "15c76f97-b49d-429c-ce21-9e6d3a956636"
      },
      "source": [
        "# Find order of p\n",
        "\n",
        "model = VAR(train)\n",
        "\n",
        "for p in [1, 2, 3, 4, 5, 6, 7]: #range(8)\n",
        "  results = model.fit(p)\n",
        "  print(f'ORDER {p}')\n",
        "  print(f'AIC : {results.aic}')\n",
        "  print('\\n')"
      ],
      "execution_count": 28,
      "outputs": [
        {
          "output_type": "stream",
          "text": [
            "ORDER 1\n",
            "AIC : 14.178610495220896\n",
            "\n",
            "\n",
            "ORDER 2\n",
            "AIC : 13.955189367163705\n",
            "\n",
            "\n",
            "ORDER 3\n",
            "AIC : 13.849518291541038\n",
            "\n",
            "\n",
            "ORDER 4\n",
            "AIC : 13.827950574458281\n",
            "\n",
            "\n",
            "ORDER 5\n",
            "AIC : 13.78730034460964\n",
            "\n",
            "\n",
            "ORDER 6\n",
            "AIC : 13.799076756885809\n",
            "\n",
            "\n",
            "ORDER 7\n",
            "AIC : 13.797638727913972\n",
            "\n",
            "\n"
          ],
          "name": "stdout"
        }
      ]
    },
    {
      "cell_type": "code",
      "metadata": {
        "id": "5aj5um19oCMH",
        "colab_type": "code",
        "colab": {}
      },
      "source": [
        "# fit VAR with lowest AIC, 5 in the case above\n",
        "results = model.fit(5)"
      ],
      "execution_count": 0,
      "outputs": []
    },
    {
      "cell_type": "code",
      "metadata": {
        "id": "P3INRMlAorfY",
        "colab_type": "code",
        "colab": {
          "base_uri": "https://localhost:8080/",
          "height": 884
        },
        "outputId": "615b28aa-8e3d-4b34-a5c0-94ad1e5a3ff3"
      },
      "source": [
        "results.summary()"
      ],
      "execution_count": 31,
      "outputs": [
        {
          "output_type": "execute_result",
          "data": {
            "text/plain": [
              "  Summary of Regression Results   \n",
              "==================================\n",
              "Model:                         VAR\n",
              "Method:                        OLS\n",
              "Date:           Sat, 20, Jul, 2019\n",
              "Time:                     13:47:17\n",
              "--------------------------------------------------------------------\n",
              "No. of Equations:         2.00000    BIC:                    14.1131\n",
              "Nobs:                     233.000    HQIC:                   13.9187\n",
              "Log likelihood:          -2245.45    FPE:                    972321.\n",
              "AIC:                      13.7873    Det(Omega_mle):         886628.\n",
              "--------------------------------------------------------------------\n",
              "Results for equation Money\n",
              "==============================================================================\n",
              "                 coefficient       std. error           t-stat            prob\n",
              "------------------------------------------------------------------------------\n",
              "const               0.516683         1.782238            0.290           0.772\n",
              "L1.Money           -0.646232         0.068177           -9.479           0.000\n",
              "L1.Spending        -0.107411         0.051388           -2.090           0.037\n",
              "L2.Money           -0.497482         0.077749           -6.399           0.000\n",
              "L2.Spending        -0.192202         0.068613           -2.801           0.005\n",
              "L3.Money           -0.234442         0.081004           -2.894           0.004\n",
              "L3.Spending        -0.178099         0.074288           -2.397           0.017\n",
              "L4.Money           -0.295531         0.075294           -3.925           0.000\n",
              "L4.Spending        -0.035564         0.069664           -0.511           0.610\n",
              "L5.Money           -0.162399         0.066700           -2.435           0.015\n",
              "L5.Spending        -0.058449         0.051357           -1.138           0.255\n",
              "==============================================================================\n",
              "\n",
              "Results for equation Spending\n",
              "==============================================================================\n",
              "                 coefficient       std. error           t-stat            prob\n",
              "------------------------------------------------------------------------------\n",
              "const               0.203469         2.355446            0.086           0.931\n",
              "L1.Money            0.188105         0.090104            2.088           0.037\n",
              "L1.Spending        -0.878970         0.067916          -12.942           0.000\n",
              "L2.Money            0.053017         0.102755            0.516           0.606\n",
              "L2.Spending        -0.625313         0.090681           -6.896           0.000\n",
              "L3.Money           -0.022172         0.107057           -0.207           0.836\n",
              "L3.Spending        -0.389041         0.098180           -3.963           0.000\n",
              "L4.Money           -0.170456         0.099510           -1.713           0.087\n",
              "L4.Spending        -0.245435         0.092069           -2.666           0.008\n",
              "L5.Money           -0.083165         0.088153           -0.943           0.345\n",
              "L5.Spending        -0.181699         0.067874           -2.677           0.007\n",
              "==============================================================================\n",
              "\n",
              "Correlation matrix of residuals\n",
              "               Money  Spending\n",
              "Money       1.000000 -0.267934\n",
              "Spending   -0.267934  1.000000\n",
              "\n"
            ]
          },
          "metadata": {
            "tags": []
          },
          "execution_count": 31
        }
      ]
    },
    {
      "cell_type": "markdown",
      "metadata": {
        "id": "QVzwOEKI5HSD",
        "colab_type": "text"
      },
      "source": [
        "## Forecasting a Month into the Future\n",
        "\n",
        "The .foreast option requires the parameters (y, steps) where *steps* is the number of steps ahead (12 in this case) using values *y* . 'Y' needs to be a numpy array of (p x k) where *p* is the actual lag order (L1, L2...) and *k* is the number of time series variables (two in this case for 'Money' & 'Spending') so *y* needs to be a 5x2 numpy array. To get *y* we need to grab 5 lagged values right before the test starts."
      ]
    },
    {
      "cell_type": "code",
      "metadata": {
        "id": "o5nChayeos9z",
        "colab_type": "code",
        "colab": {
          "base_uri": "https://localhost:8080/",
          "height": 34
        },
        "outputId": "be212c16-7644-4eeb-bb87-e47ad2fd6af3"
      },
      "source": [
        "# Grab 5 values from train set and create a lagged_values np array\n",
        "\n",
        "train.values.shape"
      ],
      "execution_count": 32,
      "outputs": [
        {
          "output_type": "execute_result",
          "data": {
            "text/plain": [
              "(238, 2)"
            ]
          },
          "metadata": {
            "tags": []
          },
          "execution_count": 32
        }
      ]
    },
    {
      "cell_type": "code",
      "metadata": {
        "id": "z_aH7VTAC7Tm",
        "colab_type": "code",
        "colab": {}
      },
      "source": [
        "lagged_values = train.values[-5:]"
      ],
      "execution_count": 0,
      "outputs": []
    },
    {
      "cell_type": "code",
      "metadata": {
        "id": "NAnzDaD7DE_L",
        "colab_type": "code",
        "colab": {
          "base_uri": "https://localhost:8080/",
          "height": 34
        },
        "outputId": "9d1b8f3e-35d7-452f-f453-c7f80e964888"
      },
      "source": [
        "train.values[-5:].shape"
      ],
      "execution_count": 34,
      "outputs": [
        {
          "output_type": "execute_result",
          "data": {
            "text/plain": [
              "(5, 2)"
            ]
          },
          "metadata": {
            "tags": []
          },
          "execution_count": 34
        }
      ]
    },
    {
      "cell_type": "code",
      "metadata": {
        "id": "NN-Hx_Y3DHia",
        "colab_type": "code",
        "colab": {}
      },
      "source": [
        "# .forecast(y, steps) and asing to z\n",
        "\n",
        "z = results.forecast(y = lagged_values, steps = 12)"
      ],
      "execution_count": 0,
      "outputs": []
    },
    {
      "cell_type": "code",
      "metadata": {
        "id": "a6FtIdx3D853",
        "colab_type": "code",
        "colab": {
          "base_uri": "https://localhost:8080/",
          "height": 85
        },
        "outputId": "cc8ad910-a2cb-429c-8478-f8f994e643dc"
      },
      "source": [
        "# Convert z into a dataframe\n",
        "# create datetime index\n",
        "\n",
        "index = pd.date_range('2015-01-01', periods = 12, freq = 'MS')\n",
        "index"
      ],
      "execution_count": 39,
      "outputs": [
        {
          "output_type": "execute_result",
          "data": {
            "text/plain": [
              "DatetimeIndex(['2015-01-01', '2015-02-01', '2015-03-01', '2015-04-01',\n",
              "               '2015-05-01', '2015-06-01', '2015-07-01', '2015-08-01',\n",
              "               '2015-09-01', '2015-10-01', '2015-11-01', '2015-12-01'],\n",
              "              dtype='datetime64[ns]', freq='MS')"
            ]
          },
          "metadata": {
            "tags": []
          },
          "execution_count": 39
        }
      ]
    },
    {
      "cell_type": "code",
      "metadata": {
        "id": "QLk4K8sdEd0U",
        "colab_type": "code",
        "colab": {}
      },
      "source": [
        "# create dataframe\n",
        "\n",
        "df_forecast = pd.DataFrame(data = z, index = index, columns = ['Money_2d', 'Spending_2d'])"
      ],
      "execution_count": 0,
      "outputs": []
    },
    {
      "cell_type": "code",
      "metadata": {
        "id": "Zafsj0BGFA9k",
        "colab_type": "code",
        "colab": {
          "base_uri": "https://localhost:8080/",
          "height": 204
        },
        "outputId": "0cd006fd-8b00-4b9a-8679-9b642c6da4bc"
      },
      "source": [
        "df_forecast.head()"
      ],
      "execution_count": 49,
      "outputs": [
        {
          "output_type": "execute_result",
          "data": {
            "text/html": [
              "<div>\n",
              "<style scoped>\n",
              "    .dataframe tbody tr th:only-of-type {\n",
              "        vertical-align: middle;\n",
              "    }\n",
              "\n",
              "    .dataframe tbody tr th {\n",
              "        vertical-align: top;\n",
              "    }\n",
              "\n",
              "    .dataframe thead th {\n",
              "        text-align: right;\n",
              "    }\n",
              "</style>\n",
              "<table border=\"1\" class=\"dataframe\">\n",
              "  <thead>\n",
              "    <tr style=\"text-align: right;\">\n",
              "      <th></th>\n",
              "      <th>Money_2d</th>\n",
              "      <th>Spending_2d</th>\n",
              "    </tr>\n",
              "  </thead>\n",
              "  <tbody>\n",
              "    <tr>\n",
              "      <th>2015-01-01</th>\n",
              "      <td>-16.995276</td>\n",
              "      <td>36.149820</td>\n",
              "    </tr>\n",
              "    <tr>\n",
              "      <th>2015-02-01</th>\n",
              "      <td>-3.174038</td>\n",
              "      <td>-11.450298</td>\n",
              "    </tr>\n",
              "    <tr>\n",
              "      <th>2015-03-01</th>\n",
              "      <td>-0.377725</td>\n",
              "      <td>-6.684969</td>\n",
              "    </tr>\n",
              "    <tr>\n",
              "      <th>2015-04-01</th>\n",
              "      <td>-2.602233</td>\n",
              "      <td>5.479458</td>\n",
              "    </tr>\n",
              "    <tr>\n",
              "      <th>2015-05-01</th>\n",
              "      <td>4.228557</td>\n",
              "      <td>-2.443365</td>\n",
              "    </tr>\n",
              "  </tbody>\n",
              "</table>\n",
              "</div>"
            ],
            "text/plain": [
              "             Money_2d  Spending_2d\n",
              "2015-01-01 -16.995276    36.149820\n",
              "2015-02-01  -3.174038   -11.450298\n",
              "2015-03-01  -0.377725    -6.684969\n",
              "2015-04-01  -2.602233     5.479458\n",
              "2015-05-01   4.228557    -2.443365"
            ]
          },
          "metadata": {
            "tags": []
          },
          "execution_count": 49
        }
      ]
    },
    {
      "cell_type": "markdown",
      "metadata": {
        "id": "sBKPc9S0Ft7N",
        "colab_type": "text"
      },
      "source": [
        "### Reversing Differences\n",
        "\n",
        "The forecasted values were obtained with second order differences. To effectively compare against the original data, we have to reverse the differences. To achieve this, we take the most recent value of the original seried and add it to a cummulative sum of forecasted values. "
      ]
    },
    {
      "cell_type": "code",
      "metadata": {
        "id": "zR7TFpHUFC80",
        "colab_type": "code",
        "colab": {}
      },
      "source": [
        "# Add the most recent first difference from the training side of the original dataset to the forecast cumulative sum\n",
        "df_forecast['Money1d'] = (df['Money'].iloc[-num_of_obs-1]-df['Money'].iloc[-num_of_obs-2]) + df_forecast['Money_2d'].cumsum()\n",
        "\n",
        "# Now build the forecast values from the first difference set\n",
        "df_forecast['MoneyForecast'] = df['Money'].iloc[-num_of_obs-1] + df_forecast['Money1d'].cumsum()"
      ],
      "execution_count": 0,
      "outputs": []
    },
    {
      "cell_type": "code",
      "metadata": {
        "id": "5HSWCraWHKGk",
        "colab_type": "code",
        "colab": {}
      },
      "source": [
        "# Add the most recent first difference from the training side of the original dataset to the forecast cumulative sum\n",
        "df_forecast['Spending1d'] = (df['Spending'].iloc[-num_of_obs-1]-df['Spending'].iloc[-num_of_obs-2]) + df_forecast['Spending_2d'].cumsum()\n",
        "\n",
        "# Now build the forecast values from the first difference set\n",
        "df_forecast['SpendingForecast'] = df['Spending'].iloc[-num_of_obs-1] + df_forecast['Spending1d'].cumsum()"
      ],
      "execution_count": 0,
      "outputs": []
    },
    {
      "cell_type": "code",
      "metadata": {
        "id": "Kx5fdbSiP2Kv",
        "colab_type": "code",
        "colab": {
          "base_uri": "https://localhost:8080/",
          "height": 204
        },
        "outputId": "a016c840-6354-413f-817a-c0ec0b8da37d"
      },
      "source": [
        "df_forecast.head()"
      ],
      "execution_count": 53,
      "outputs": [
        {
          "output_type": "execute_result",
          "data": {
            "text/html": [
              "<div>\n",
              "<style scoped>\n",
              "    .dataframe tbody tr th:only-of-type {\n",
              "        vertical-align: middle;\n",
              "    }\n",
              "\n",
              "    .dataframe tbody tr th {\n",
              "        vertical-align: top;\n",
              "    }\n",
              "\n",
              "    .dataframe thead th {\n",
              "        text-align: right;\n",
              "    }\n",
              "</style>\n",
              "<table border=\"1\" class=\"dataframe\">\n",
              "  <thead>\n",
              "    <tr style=\"text-align: right;\">\n",
              "      <th></th>\n",
              "      <th>Money_2d</th>\n",
              "      <th>Spending_2d</th>\n",
              "      <th>Money1d</th>\n",
              "      <th>MoneyForecast</th>\n",
              "      <th>Spending1d</th>\n",
              "      <th>SpendingForecast</th>\n",
              "    </tr>\n",
              "  </thead>\n",
              "  <tbody>\n",
              "    <tr>\n",
              "      <th>2015-01-01</th>\n",
              "      <td>-16.995276</td>\n",
              "      <td>36.149820</td>\n",
              "      <td>61.604724</td>\n",
              "      <td>11731.704724</td>\n",
              "      <td>46.749820</td>\n",
              "      <td>12108.749820</td>\n",
              "    </tr>\n",
              "    <tr>\n",
              "      <th>2015-02-01</th>\n",
              "      <td>-3.174038</td>\n",
              "      <td>-11.450298</td>\n",
              "      <td>58.430686</td>\n",
              "      <td>11790.135410</td>\n",
              "      <td>35.299522</td>\n",
              "      <td>12144.049342</td>\n",
              "    </tr>\n",
              "    <tr>\n",
              "      <th>2015-03-01</th>\n",
              "      <td>-0.377725</td>\n",
              "      <td>-6.684969</td>\n",
              "      <td>58.052961</td>\n",
              "      <td>11848.188371</td>\n",
              "      <td>28.614552</td>\n",
              "      <td>12172.663894</td>\n",
              "    </tr>\n",
              "    <tr>\n",
              "      <th>2015-04-01</th>\n",
              "      <td>-2.602233</td>\n",
              "      <td>5.479458</td>\n",
              "      <td>55.450728</td>\n",
              "      <td>11903.639099</td>\n",
              "      <td>34.094010</td>\n",
              "      <td>12206.757904</td>\n",
              "    </tr>\n",
              "    <tr>\n",
              "      <th>2015-05-01</th>\n",
              "      <td>4.228557</td>\n",
              "      <td>-2.443365</td>\n",
              "      <td>59.679285</td>\n",
              "      <td>11963.318384</td>\n",
              "      <td>31.650645</td>\n",
              "      <td>12238.408549</td>\n",
              "    </tr>\n",
              "  </tbody>\n",
              "</table>\n",
              "</div>"
            ],
            "text/plain": [
              "             Money_2d  Spending_2d  ...  Spending1d  SpendingForecast\n",
              "2015-01-01 -16.995276    36.149820  ...   46.749820      12108.749820\n",
              "2015-02-01  -3.174038   -11.450298  ...   35.299522      12144.049342\n",
              "2015-03-01  -0.377725    -6.684969  ...   28.614552      12172.663894\n",
              "2015-04-01  -2.602233     5.479458  ...   34.094010      12206.757904\n",
              "2015-05-01   4.228557    -2.443365  ...   31.650645      12238.408549\n",
              "\n",
              "[5 rows x 6 columns]"
            ]
          },
          "metadata": {
            "tags": []
          },
          "execution_count": 53
        }
      ]
    },
    {
      "cell_type": "markdown",
      "metadata": {
        "id": "LZYcThGHQ3Sc",
        "colab_type": "text"
      },
      "source": [
        "### Visualizing Predictions\n",
        "\n",
        "Plot forecasted values for Money and Spending against the true values in the test set."
      ]
    },
    {
      "cell_type": "code",
      "metadata": {
        "id": "BpTqPyBJQXcB",
        "colab_type": "code",
        "colab": {
          "base_uri": "https://localhost:8080/",
          "height": 512
        },
        "outputId": "ae2db2b1-6008-489c-b9e2-64b99729a35f"
      },
      "source": [
        "# grab test data from original dataframe\n",
        "test_range = df[-num_of_obs:]\n",
        "test_range.plot(figsize = (12,8));"
      ],
      "execution_count": 55,
      "outputs": [
        {
          "output_type": "display_data",
          "data": {
            "image/png": "[encoded data removed]",
            "text/plain": [
              "<Figure size 864x576 with 1 Axes>"
            ]
          },
          "metadata": {
            "tags": []
          }
        }
      ]
    },
    {
      "cell_type": "code",
      "metadata": {
        "id": "i3mthdDjRq57",
        "colab_type": "code",
        "colab": {
          "base_uri": "https://localhost:8080/",
          "height": 68
        },
        "outputId": "c7fe3386-0c18-49c7-a158-c2cec3541fec"
      },
      "source": [
        "# get forecasted columns to plot\n",
        "df_forecast.columns"
      ],
      "execution_count": 56,
      "outputs": [
        {
          "output_type": "execute_result",
          "data": {
            "text/plain": [
              "Index(['Money_2d', 'Spending_2d', 'Money1d', 'MoneyForecast', 'Spending1d',\n",
              "       'SpendingForecast'],\n",
              "      dtype='object')"
            ]
          },
          "metadata": {
            "tags": []
          },
          "execution_count": 56
        }
      ]
    },
    {
      "cell_type": "code",
      "metadata": {
        "id": "XTMQ-pDHR71f",
        "colab_type": "code",
        "colab": {
          "base_uri": "https://localhost:8080/",
          "height": 498
        },
        "outputId": "b0b1f6f6-7395-4693-c907-798183bf37d2"
      },
      "source": [
        "# grab columns of interest nad plot\n",
        "df_forecast[['MoneyForecast', 'SpendingForecast']].plot(figsize = (12,8));"
      ],
      "execution_count": 57,
      "outputs": [
        {
          "output_type": "display_data",
          "data": {
            "image/png": "[encoded data removed]",
            "text/plain": [
              "<Figure size 864x576 with 1 Axes>"
            ]
          },
          "metadata": {
            "tags": []
          }
        }
      ]
    },
    {
      "cell_type": "code",
      "metadata": {
        "id": "13GgUlCVSN8p",
        "colab_type": "code",
        "colab": {
          "base_uri": "https://localhost:8080/",
          "height": 529
        },
        "outputId": "a4a77ca4-456a-4583-df29-fa9485fbd403"
      },
      "source": [
        "# Plot the variables against each other\n",
        "# Plot 'Money'\n",
        "test_range['Money'].plot(figsize = (12, 8), legend = True)\n",
        "df_forecast['MoneyForecast'].plot(legend = True)"
      ],
      "execution_count": 58,
      "outputs": [
        {
          "output_type": "execute_result",
          "data": {
            "text/plain": [
              "<matplotlib.axes._subplots.AxesSubplot at 0x7f612491fcc0>"
            ]
          },
          "metadata": {
            "tags": []
          },
          "execution_count": 58
        },
        {
          "output_type": "display_data",
          "data": {
            "image/png": "[encoded data removed]",
            "text/plain": [
              "<Figure size 864x576 with 1 Axes>"
            ]
          },
          "metadata": {
            "tags": []
          }
        }
      ]
    },
    {
      "cell_type": "code",
      "metadata": {
        "id": "gkhdjdmmS7hS",
        "colab_type": "code",
        "colab": {
          "base_uri": "https://localhost:8080/",
          "height": 529
        },
        "outputId": "9c08add8-6f12-487b-dfb8-c9dee321d8aa"
      },
      "source": [
        "# Plot the variables against each other\n",
        "# Plot 'Spending'\n",
        "test_range['Spending'].plot(figsize = (12, 8), legend = True)\n",
        "df_forecast['SpendingForecast'].plot(legend = True)"
      ],
      "execution_count": 59,
      "outputs": [
        {
          "output_type": "execute_result",
          "data": {
            "text/plain": [
              "<matplotlib.axes._subplots.AxesSubplot at 0x7f6124899128>"
            ]
          },
          "metadata": {
            "tags": []
          },
          "execution_count": 59
        },
        {
          "output_type": "display_data",
          "data": {
            "image/png": "[encoded data removed]",
            "text/plain": [
              "<Figure size 864x576 with 1 Axes>"
            ]
          },
          "metadata": {
            "tags": []
          }
        }
      ]
    },
    {
      "cell_type": "markdown",
      "metadata": {
        "id": "HrHsKMzzToYv",
        "colab_type": "text"
      },
      "source": [
        "### Evaluate Model\n",
        "\n",
        "Use RMSE to evaluate model"
      ]
    },
    {
      "cell_type": "code",
      "metadata": {
        "id": "J1pFT1f8TZDE",
        "colab_type": "code",
        "colab": {
          "base_uri": "https://localhost:8080/",
          "height": 34
        },
        "outputId": "4fdaf542-c38d-4c7b-e3fd-ab457c7c5801"
      },
      "source": [
        "# evaluate money\n",
        "rmse(test_range['Money'], df_forecast['MoneyForecast'])"
      ],
      "execution_count": 60,
      "outputs": [
        {
          "output_type": "execute_result",
          "data": {
            "text/plain": [
              "43.71049653558893"
            ]
          },
          "metadata": {
            "tags": []
          },
          "execution_count": 60
        }
      ]
    },
    {
      "cell_type": "code",
      "metadata": {
        "id": "_QtENSF_T5jo",
        "colab_type": "code",
        "colab": {
          "base_uri": "https://localhost:8080/",
          "height": 34
        },
        "outputId": "1010a090-0e90-4ba0-ca8b-b7564bf43c65"
      },
      "source": [
        "# evaluate spending\n",
        "rmse(test_range['Spending'], df_forecast['SpendingForecast'])"
      ],
      "execution_count": 62,
      "outputs": [
        {
          "output_type": "execute_result",
          "data": {
            "text/plain": [
              "37.001175169408285"
            ]
          },
          "metadata": {
            "tags": []
          },
          "execution_count": 62
        }
      ]
    }
  ]
}