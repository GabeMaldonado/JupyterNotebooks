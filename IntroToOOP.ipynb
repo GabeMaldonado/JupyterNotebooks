{
  "nbformat": 4,
  "nbformat_minor": 0,
  "metadata": {
    "colab": {
      "name": "IntroToOOP.ipynb",
      "provenance": [],
      "collapsed_sections": [],
      "authorship_tag": "ABX9TyOv34q33xYQ5SDIlVJrXVYx",
      "include_colab_link": true
    },
    "kernelspec": {
      "name": "python3",
      "display_name": "Python 3"
    }
  },
  "cells": [
    {
      "cell_type": "markdown",
      "metadata": {
        "id": "view-in-github",
        "colab_type": "text"
      },
      "source": [
        "<a href=\"https://colab.research.google.com/github/GabeMaldonado/JupyterNotebooks/blob/master/IntroToOOP.ipynb\" target=\"_parent\"><img src=\"https://colab.research.google.com/assets/colab-badge.svg\" alt=\"Open In Colab\"/></a>"
      ]
    },
    {
      "cell_type": "markdown",
      "metadata": {
        "id": "eU4NtvSiwPmZ",
        "colab_type": "text"
      },
      "source": [
        "# Notes on Intro to Object Oriented Programing - Udacity\n",
        "\n",
        "Objects are defined by characteristic and actions. In programming terms Objects have **atributes** and **methods**\n",
        "\n",
        "###Object-Oriented Programming (OOP) Vocabulary\n",
        "*  class - a blueprint consisting of methods and attributes\n",
        "*  object - an instance of a class. It can help to think of objects as something in the real world like a yellow pencil, a small dog, a blue shirt, etc. However, as you'll see later in the lesson, objects can be more abstract.\n",
        "*  attribute - a descriptor or characteristic. Examples would be color, length, size, etc. These attributes can take on specific values like blue, 3 inches, large, etc.\n",
        "*  method - an action that a class or object could take\n",
        "*  OOP - a commonly used abbreviation for object-oriented programming\n",
        "*  encapsulation - one of the fundamental ideas behind object-oriented programming is called encapsulation: you can combine functions and data all into a single entity. In object-oriented programming, this single entity is called a class. Encapsulation allows you to hide implementation details much like how the scikit-learn package hides the implementation of machine learning algorithms."
      ]
    },
    {
      "cell_type": "code",
      "metadata": {
        "id": "HLtyshmrwLlb",
        "colab_type": "code",
        "colab": {}
      },
      "source": [
        ""
      ],
      "execution_count": 0,
      "outputs": []
    }
  ]
}