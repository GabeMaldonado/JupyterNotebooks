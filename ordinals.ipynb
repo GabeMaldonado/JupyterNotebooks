{
  "nbformat": 4,
  "nbformat_minor": 0,
  "metadata": {
    "kernelspec": {
      "display_name": "Python 3",
      "language": "python",
      "name": "python3"
    },
    "language_info": {
      "codemirror_mode": {
        "name": "ipython",
        "version": 3
      },
      "file_extension": ".py",
      "mimetype": "text/x-python",
      "name": "python",
      "nbconvert_exporter": "python",
      "pygments_lexer": "ipython3",
      "version": "3.8.5"
    },
    "colab": {
      "name": "ordinals.ipynb",
      "provenance": [],
      "collapsed_sections": [],
      "include_colab_link": true
    }
  },
  "cells": [
    {
      "cell_type": "markdown",
      "metadata": {
        "id": "view-in-github",
        "colab_type": "text"
      },
      "source": [
        "<a href=\"https://colab.research.google.com/github/GabeMaldonado/JupyterNotebooks/blob/master/ordinals.ipynb\" target=\"_parent\"><img src=\"https://colab.research.google.com/assets/colab-badge.svg\" alt=\"Open In Colab\"/></a>"
      ]
    },
    {
      "cell_type": "code",
      "metadata": {
        "id": "vvO0ph6kiPta"
      },
      "source": [
        "%matplotlib inline"
      ],
      "execution_count": 1,
      "outputs": []
    },
    {
      "cell_type": "code",
      "metadata": {
        "id": "TV2kHfRgiPtb"
      },
      "source": [
        "import numpy as np\n",
        "import pandas as pd\n",
        "from scipy import stats\n",
        "import matplotlib as mpl\n",
        "import matplotlib.pyplot as plt\n",
        "import seaborn as sns\n"
      ],
      "execution_count": 2,
      "outputs": []
    },
    {
      "cell_type": "markdown",
      "metadata": {
        "id": "StP-hyfQiPtb"
      },
      "source": [
        "## Data"
      ]
    },
    {
      "cell_type": "code",
      "metadata": {
        "colab": {
          "base_uri": "https://localhost:8080/",
          "height": 204
        },
        "id": "ul4pM-nciPtc",
        "outputId": "67092165-d7d3-4e50-c021-7a4a064c87dc"
      },
      "source": [
        "# Each questions is represented by a separate column.\n",
        "df = pd.read_csv('/content/generosity.csv')\n",
        "df.head()"
      ],
      "execution_count": 4,
      "outputs": [
        {
          "output_type": "execute_result",
          "data": {
            "text/html": [
              "<div>\n",
              "<style scoped>\n",
              "    .dataframe tbody tr th:only-of-type {\n",
              "        vertical-align: middle;\n",
              "    }\n",
              "\n",
              "    .dataframe tbody tr th {\n",
              "        vertical-align: top;\n",
              "    }\n",
              "\n",
              "    .dataframe thead th {\n",
              "        text-align: right;\n",
              "    }\n",
              "</style>\n",
              "<table border=\"1\" class=\"dataframe\">\n",
              "  <thead>\n",
              "    <tr style=\"text-align: right;\">\n",
              "      <th></th>\n",
              "      <th>experience</th>\n",
              "      <th>faith</th>\n",
              "      <th>cause</th>\n",
              "      <th>values</th>\n",
              "    </tr>\n",
              "  </thead>\n",
              "  <tbody>\n",
              "    <tr>\n",
              "      <th>0</th>\n",
              "      <td>not at all</td>\n",
              "      <td>not at all</td>\n",
              "      <td>not at all</td>\n",
              "      <td>not at all</td>\n",
              "    </tr>\n",
              "    <tr>\n",
              "      <th>1</th>\n",
              "      <td>not at all</td>\n",
              "      <td>not at all</td>\n",
              "      <td>not at all</td>\n",
              "      <td>not at all</td>\n",
              "    </tr>\n",
              "    <tr>\n",
              "      <th>2</th>\n",
              "      <td>not at all</td>\n",
              "      <td>not at all</td>\n",
              "      <td>not at all</td>\n",
              "      <td>not at all</td>\n",
              "    </tr>\n",
              "    <tr>\n",
              "      <th>3</th>\n",
              "      <td>not at all</td>\n",
              "      <td>not at all</td>\n",
              "      <td>not at all</td>\n",
              "      <td>a little</td>\n",
              "    </tr>\n",
              "    <tr>\n",
              "      <th>4</th>\n",
              "      <td>not at all</td>\n",
              "      <td>not at all</td>\n",
              "      <td>not at all</td>\n",
              "      <td>a little</td>\n",
              "    </tr>\n",
              "  </tbody>\n",
              "</table>\n",
              "</div>"
            ],
            "text/plain": [
              "   experience       faith       cause      values\n",
              "0  not at all  not at all  not at all  not at all\n",
              "1  not at all  not at all  not at all  not at all\n",
              "2  not at all  not at all  not at all  not at all\n",
              "3  not at all  not at all  not at all    a little\n",
              "4  not at all  not at all  not at all    a little"
            ]
          },
          "metadata": {
            "tags": []
          },
          "execution_count": 4
        }
      ]
    },
    {
      "cell_type": "markdown",
      "metadata": {
        "id": "-lYoYI_9iPtc"
      },
      "source": [
        "## Preprocessing"
      ]
    },
    {
      "cell_type": "code",
      "metadata": {
        "colab": {
          "base_uri": "https://localhost:8080/",
          "height": 359
        },
        "id": "mC3ZvVUIiPtd",
        "outputId": "c421e92b-0da3-4c2b-b91e-a7f26aec5b8a"
      },
      "source": [
        "# Melt all columns into a single variable.\n",
        "df = df.melt(var_name='motivation', value_name='rating')\n",
        "# Set dtypes.\n",
        "df['motivation'] = df['motivation'].astype('category')\n",
        "rating_levels = ['not at all', 'a little', 'neutral', 'strongly', 'very strongly']\n",
        "df['rating'] = df['rating'].astype(\n",
        "    pd.CategoricalDtype(categories=rating_levels, ordered=True))\n",
        "df.head(10)"
      ],
      "execution_count": 5,
      "outputs": [
        {
          "output_type": "execute_result",
          "data": {
            "text/html": [
              "<div>\n",
              "<style scoped>\n",
              "    .dataframe tbody tr th:only-of-type {\n",
              "        vertical-align: middle;\n",
              "    }\n",
              "\n",
              "    .dataframe tbody tr th {\n",
              "        vertical-align: top;\n",
              "    }\n",
              "\n",
              "    .dataframe thead th {\n",
              "        text-align: right;\n",
              "    }\n",
              "</style>\n",
              "<table border=\"1\" class=\"dataframe\">\n",
              "  <thead>\n",
              "    <tr style=\"text-align: right;\">\n",
              "      <th></th>\n",
              "      <th>motivation</th>\n",
              "      <th>rating</th>\n",
              "    </tr>\n",
              "  </thead>\n",
              "  <tbody>\n",
              "    <tr>\n",
              "      <th>0</th>\n",
              "      <td>experience</td>\n",
              "      <td>not at all</td>\n",
              "    </tr>\n",
              "    <tr>\n",
              "      <th>1</th>\n",
              "      <td>experience</td>\n",
              "      <td>not at all</td>\n",
              "    </tr>\n",
              "    <tr>\n",
              "      <th>2</th>\n",
              "      <td>experience</td>\n",
              "      <td>not at all</td>\n",
              "    </tr>\n",
              "    <tr>\n",
              "      <th>3</th>\n",
              "      <td>experience</td>\n",
              "      <td>not at all</td>\n",
              "    </tr>\n",
              "    <tr>\n",
              "      <th>4</th>\n",
              "      <td>experience</td>\n",
              "      <td>not at all</td>\n",
              "    </tr>\n",
              "    <tr>\n",
              "      <th>5</th>\n",
              "      <td>experience</td>\n",
              "      <td>not at all</td>\n",
              "    </tr>\n",
              "    <tr>\n",
              "      <th>6</th>\n",
              "      <td>experience</td>\n",
              "      <td>not at all</td>\n",
              "    </tr>\n",
              "    <tr>\n",
              "      <th>7</th>\n",
              "      <td>experience</td>\n",
              "      <td>not at all</td>\n",
              "    </tr>\n",
              "    <tr>\n",
              "      <th>8</th>\n",
              "      <td>experience</td>\n",
              "      <td>a little</td>\n",
              "    </tr>\n",
              "    <tr>\n",
              "      <th>9</th>\n",
              "      <td>experience</td>\n",
              "      <td>a little</td>\n",
              "    </tr>\n",
              "  </tbody>\n",
              "</table>\n",
              "</div>"
            ],
            "text/plain": [
              "   motivation      rating\n",
              "0  experience  not at all\n",
              "1  experience  not at all\n",
              "2  experience  not at all\n",
              "3  experience  not at all\n",
              "4  experience  not at all\n",
              "5  experience  not at all\n",
              "6  experience  not at all\n",
              "7  experience  not at all\n",
              "8  experience    a little\n",
              "9  experience    a little"
            ]
          },
          "metadata": {
            "tags": []
          },
          "execution_count": 5
        }
      ]
    },
    {
      "cell_type": "markdown",
      "metadata": {
        "id": "uP8DRDmKiPtd"
      },
      "source": [
        "## Tabulate"
      ]
    },
    {
      "cell_type": "code",
      "metadata": {
        "colab": {
          "base_uri": "https://localhost:8080/",
          "height": 204
        },
        "id": "wZcQ26r5iPtd",
        "outputId": "6dcb0ba4-29d3-41f4-8eb7-886f1d90821f"
      },
      "source": [
        "# Create a normalised table (sum to 100% across rows).\n",
        "table = pd.crosstab(df['motivation'], df['rating'],\n",
        "                    normalize='index') * 100\n",
        "# Sort by highest value.\n",
        "table.sort_values(by='very strongly', inplace=True)\n",
        "table.round(2)"
      ],
      "execution_count": 6,
      "outputs": [
        {
          "output_type": "execute_result",
          "data": {
            "text/html": [
              "<div>\n",
              "<style scoped>\n",
              "    .dataframe tbody tr th:only-of-type {\n",
              "        vertical-align: middle;\n",
              "    }\n",
              "\n",
              "    .dataframe tbody tr th {\n",
              "        vertical-align: top;\n",
              "    }\n",
              "\n",
              "    .dataframe thead th {\n",
              "        text-align: right;\n",
              "    }\n",
              "</style>\n",
              "<table border=\"1\" class=\"dataframe\">\n",
              "  <thead>\n",
              "    <tr style=\"text-align: right;\">\n",
              "      <th>rating</th>\n",
              "      <th>not at all</th>\n",
              "      <th>a little</th>\n",
              "      <th>neutral</th>\n",
              "      <th>strongly</th>\n",
              "      <th>very strongly</th>\n",
              "    </tr>\n",
              "    <tr>\n",
              "      <th>motivation</th>\n",
              "      <th></th>\n",
              "      <th></th>\n",
              "      <th></th>\n",
              "      <th></th>\n",
              "      <th></th>\n",
              "    </tr>\n",
              "  </thead>\n",
              "  <tbody>\n",
              "    <tr>\n",
              "      <th>faith</th>\n",
              "      <td>45.95</td>\n",
              "      <td>21.62</td>\n",
              "      <td>18.92</td>\n",
              "      <td>8.11</td>\n",
              "      <td>5.41</td>\n",
              "    </tr>\n",
              "    <tr>\n",
              "      <th>experience</th>\n",
              "      <td>21.62</td>\n",
              "      <td>32.43</td>\n",
              "      <td>18.92</td>\n",
              "      <td>18.92</td>\n",
              "      <td>8.11</td>\n",
              "    </tr>\n",
              "    <tr>\n",
              "      <th>cause</th>\n",
              "      <td>16.22</td>\n",
              "      <td>18.92</td>\n",
              "      <td>21.62</td>\n",
              "      <td>24.32</td>\n",
              "      <td>18.92</td>\n",
              "    </tr>\n",
              "    <tr>\n",
              "      <th>values</th>\n",
              "      <td>8.11</td>\n",
              "      <td>18.92</td>\n",
              "      <td>21.62</td>\n",
              "      <td>24.32</td>\n",
              "      <td>27.03</td>\n",
              "    </tr>\n",
              "  </tbody>\n",
              "</table>\n",
              "</div>"
            ],
            "text/plain": [
              "rating      not at all  a little  neutral  strongly  very strongly\n",
              "motivation                                                        \n",
              "faith            45.95     21.62    18.92      8.11           5.41\n",
              "experience       21.62     32.43    18.92     18.92           8.11\n",
              "cause            16.22     18.92    21.62     24.32          18.92\n",
              "values            8.11     18.92    21.62     24.32          27.03"
            ]
          },
          "metadata": {
            "tags": []
          },
          "execution_count": 6
        }
      ]
    },
    {
      "cell_type": "code",
      "metadata": {
        "colab": {
          "base_uri": "https://localhost:8080/",
          "height": 295
        },
        "id": "-E9UHayqiPtd",
        "outputId": "f2ae133e-39bd-402e-81c7-67386329fa81"
      },
      "source": [
        "ax = table.plot.barh(stacked=True)\n",
        "\n",
        "# Manually draw legend: reverse order of labels and plot outside axes.\n",
        "handles, labels = ax.get_legend_handles_labels()\n",
        "ax.legend(reversed(handles), reversed(labels), bbox_to_anchor=(1.0, 1.0))\n",
        "\n",
        "ax.set_xlabel('percentage')\n",
        "ax.set_title('Motivations for donating to charity')\n",
        "\n",
        "plt.show()"
      ],
      "execution_count": 7,
      "outputs": [
        {
          "output_type": "display_data",
          "data": {
            "image/png": "[encoded data removed]",
            "text/plain": [
              "<Figure size 432x288 with 1 Axes>"
            ]
          },
          "metadata": {
            "tags": [],
            "needs_background": "light"
          }
        }
      ]
    },
    {
      "cell_type": "code",
      "metadata": {
        "colab": {
          "base_uri": "https://localhost:8080/",
          "height": 295
        },
        "id": "m-wk5579iPte",
        "outputId": "0e4a0924-e3bc-48c4-e69b-6520c56a5f3a"
      },
      "source": [
        "from textwrap import wrap\n",
        "\n",
        "ax = table.plot.barh(stacked=True)\n",
        "# Manually draw legend: reverse order of labels and plot outside axes.\n",
        "handles, labels = ax.get_legend_handles_labels()\n",
        "ax.legend(reversed(handles), reversed(labels), bbox_to_anchor=(1.0, 1.0))\n",
        "ax.set_xlabel('percentage')\n",
        "ax.set_title('Motivations for donating to charity')\n",
        "\n",
        "# Better y-axis labels.\n",
        "motivations = {'experience': 'Personal experience',\n",
        "               'faith': 'My faith',\n",
        "               'cause': 'Belief in a specific cause',\n",
        "               'values': 'My personal values'}\n",
        "# Use textwrap library to break long lines automatically.\n",
        "motivations = {k: '\\n'.join(wrap(v, 17)) for k, v in motivations.items()}\n",
        "# Replace original y-axis labels.\n",
        "ax.set_yticklabels(table.index.map(motivations))\n",
        "plt.show()"
      ],
      "execution_count": 8,
      "outputs": [
        {
          "output_type": "display_data",
          "data": {
            "image/png": "[encoded data removed]",
            "text/plain": [
              "<Figure size 432x288 with 1 Axes>"
            ]
          },
          "metadata": {
            "tags": [],
            "needs_background": "light"
          }
        }
      ]
    },
    {
      "cell_type": "markdown",
      "metadata": {
        "id": "HBzaC30miPte"
      },
      "source": [
        "## Heat map"
      ]
    },
    {
      "cell_type": "code",
      "metadata": {
        "colab": {
          "base_uri": "https://localhost:8080/",
          "height": 295
        },
        "id": "h8AtUe_fiPte",
        "outputId": "c5113877-a31d-4ece-984a-10de6fc40443"
      },
      "source": [
        "ax = sns.heatmap(table, annot=True)\n",
        "ax.set_title('Motivations for donating to charity')\n",
        "\n",
        "# Better y-axis labels.\n",
        "motivations = {'experience': 'Personal experience',\n",
        "               'faith': 'My faith',\n",
        "               'cause': 'Belief in a specific cause',\n",
        "               'values': 'My personal values'}\n",
        "\n",
        "# Use textwrap library to break long lines automatically.\n",
        "motivations = {k: '\\n'.join(wrap(v, 17)) for k, v in motivations.items()}\n",
        "# Replace original y-axis labels.\n",
        "ax.set_yticklabels(table.index.map(motivations))\n",
        "# Invert y-axis so most highly rated is at the top.\n",
        "ax.invert_yaxis()\n",
        "plt.show()"
      ],
      "execution_count": 9,
      "outputs": [
        {
          "output_type": "display_data",
          "data": {
            "image/png": "[encoded data removed]",
            "text/plain": [
              "<Figure size 432x288 with 2 Axes>"
            ]
          },
          "metadata": {
            "tags": [],
            "needs_background": "light"
          }
        }
      ]
    },
    {
      "cell_type": "markdown",
      "metadata": {
        "id": "p5_83yKZiPte"
      },
      "source": [
        "## Diverging stacked bar chart / Likert plot"
      ]
    },
    {
      "cell_type": "code",
      "metadata": {
        "colab": {
          "base_uri": "https://localhost:8080/"
        },
        "id": "yf0zdQe1i_wk",
        "outputId": "84eb1213-a997-41c9-f948-d57d4cb399cd"
      },
      "source": [
        "!pip install pylikert_plot"
      ],
      "execution_count": 12,
      "outputs": [
        {
          "output_type": "stream",
          "text": [
            "Collecting pylikert_plot\n",
            "  Downloading https://files.pythonhosted.org/packages/05/f2/daa3a39bc773854df4baa864fbda6826a9d4471ce54d142a7bebe3426826/pylikert-plot-0.0.1.tar.gz\n",
            "Requirement already satisfied: matplotlib in /usr/local/lib/python3.6/dist-packages (from pylikert_plot) (3.2.2)\n",
            "Collecting mpl-format\n",
            "  Downloading https://files.pythonhosted.org/packages/5f/9a/ef635c09926a26debdd26a2ca2b79fe786a506cce04931eb93f5041d9082/mpl_format-0.288.tar.gz\n",
            "Requirement already satisfied: pandas in /usr/local/lib/python3.6/dist-packages (from pylikert_plot) (1.1.5)\n",
            "Requirement already satisfied: seaborn in /usr/local/lib/python3.6/dist-packages (from pylikert_plot) (0.11.0)\n",
            "Requirement already satisfied: pyparsing!=2.0.4,!=2.1.2,!=2.1.6,>=2.0.1 in /usr/local/lib/python3.6/dist-packages (from matplotlib->pylikert_plot) (2.4.7)\n",
            "Requirement already satisfied: numpy>=1.11 in /usr/local/lib/python3.6/dist-packages (from matplotlib->pylikert_plot) (1.19.4)\n",
            "Requirement already satisfied: python-dateutil>=2.1 in /usr/local/lib/python3.6/dist-packages (from matplotlib->pylikert_plot) (2.8.1)\n",
            "Requirement already satisfied: cycler>=0.10 in /usr/local/lib/python3.6/dist-packages (from matplotlib->pylikert_plot) (0.10.0)\n",
            "Requirement already satisfied: kiwisolver>=1.0.1 in /usr/local/lib/python3.6/dist-packages (from matplotlib->pylikert_plot) (1.3.1)\n",
            "Collecting celluloid\n",
            "  Downloading https://files.pythonhosted.org/packages/60/a7/7fbe80721c6f1b7370c4e50c77abe31b4d5cfeb58873d4d32f48ae5a0bae/celluloid-0.2.0-py3-none-any.whl\n",
            "Collecting compound-types\n",
            "  Downloading https://files.pythonhosted.org/packages/0b/2a/38469dd1275fd0c04653f1b3e11b81940e96a62fb7c9b9f321a565def673/compound_types-0.0.5.tar.gz\n",
            "Requirement already satisfied: pytz>=2017.2 in /usr/local/lib/python3.6/dist-packages (from pandas->pylikert_plot) (2018.9)\n",
            "Requirement already satisfied: scipy>=1.0 in /usr/local/lib/python3.6/dist-packages (from seaborn->pylikert_plot) (1.4.1)\n",
            "Requirement already satisfied: six>=1.5 in /usr/local/lib/python3.6/dist-packages (from python-dateutil>=2.1->matplotlib->pylikert_plot) (1.15.0)\n",
            "Building wheels for collected packages: pylikert-plot, mpl-format, compound-types\n",
            "  Building wheel for pylikert-plot (setup.py) ... \u001b[?25l\u001b[?25hdone\n",
            "  Created wheel for pylikert-plot: filename=pylikert_plot-0.0.1-cp36-none-any.whl size=3491 sha256=41ac97c287adaf002bfdd1b4ca5111b1d3bd5e3e3b71ccf61ced61291c4e6129\n",
            "  Stored in directory: /root/.cache/pip/wheels/4d/4f/68/e36460fa543b1c8a574d8aaa8ba6a5584b22c3619814abaf11\n",
            "  Building wheel for mpl-format (setup.py) ... \u001b[?25l\u001b[?25hdone\n",
            "  Created wheel for mpl-format: filename=mpl_format-0.288-cp36-none-any.whl size=51023 sha256=dab000022032bb30f8d74af67b23b99271a7d7a00f0ac6f5ba429f9b0efa97b0\n",
            "  Stored in directory: /root/.cache/pip/wheels/e6/2f/b3/13e87e7dab724c1db650989424c576599441e5f623679b2d7d\n",
            "  Building wheel for compound-types (setup.py) ... \u001b[?25l\u001b[?25hdone\n",
            "  Created wheel for compound-types: filename=compound_types-0.0.5-cp36-none-any.whl size=4252 sha256=3b6c7740de62963c8e4e599696290f8be3d57d04eaffd6f3165eadc918fd9bb8\n",
            "  Stored in directory: /root/.cache/pip/wheels/65/1b/b8/053e6d7e418c1242d91a82b5a8d34113747079e3c1aa899ef5\n",
            "Successfully built pylikert-plot mpl-format compound-types\n",
            "Installing collected packages: celluloid, compound-types, mpl-format, pylikert-plot\n",
            "Successfully installed celluloid-0.2.0 compound-types-0.0.5 mpl-format-0.288 pylikert-plot-0.0.1\n"
          ],
          "name": "stdout"
        }
      ]
    },
    {
      "cell_type": "code",
      "metadata": {
        "colab": {
          "base_uri": "https://localhost:8080/",
          "height": 505
        },
        "id": "ZfpKCvtNiPte",
        "outputId": "237cf5fc-bc04-4cb5-a705-2f03da7f847e"
      },
      "source": [
        "import likert_plot\n",
        "\n",
        "# Better y-axis labels.\n",
        "motivations = {'experience': 'Personal experience',\n",
        "               'faith': 'My faith',\n",
        "               'cause': 'Belief in a specific cause',\n",
        "               'values': 'My personal values'}\n",
        "\n",
        "# Use textwrap library to break long lines automatically.\n",
        "motivations = {k: '\\n'.join(wrap(v, 17)) for k, v in motivations.items()}\n",
        "\n",
        "ax = likert_plot.plot_likert_scales(table, 'neutral',\n",
        "                                    qname_mapping=motivations)\n",
        "ax.set_title('Motivations for donating to charity')\n",
        "ax.set_ylim(1, 5)               # Manually correct y-axis.\n",
        "ax.invert_yaxis()\n",
        "ax.set_xlabel('Percentage')\n",
        "plt.show()"
      ],
      "execution_count": 13,
      "outputs": [
        {
          "output_type": "display_data",
          "data": {
            "image/png": "[encoded data removed]",
            "text/plain": [
              "<Figure size 1152x648 with 1 Axes>"
            ]
          },
          "metadata": {
            "tags": [],
            "needs_background": "light"
          }
        }
      ]
    },
    {
      "cell_type": "code",
      "metadata": {
        "id": "xRPJBe3ri7Yf"
      },
      "source": [
        ""
      ],
      "execution_count": null,
      "outputs": []
    }
  ]
}