{
  "nbformat": 4,
  "nbformat_minor": 0,
  "metadata": {
    "colab": {
      "name": "ProjectsList.ipynb",
      "version": "0.3.2",
      "provenance": [],
      "collapsed_sections": [],
      "include_colab_link": true
    },
    "kernelspec": {
      "name": "python3",
      "display_name": "Python 3"
    }
  },
  "cells": [
    {
      "cell_type": "markdown",
      "metadata": {
        "id": "view-in-github",
        "colab_type": "text"
      },
      "source": [
        "<a href=\"https://colab.research.google.com/github/GabeMaldonado/JupyterNotebooks/blob/master/ProjectsList.ipynb\" target=\"_parent\"><img src=\"https://colab.research.google.com/assets/colab-badge.svg\" alt=\"Open In Colab\"/></a>"
      ]
    },
    {
      "cell_type": "markdown",
      "metadata": {
        "id": "YEJ2CwJBY3Oa",
        "colab_type": "text"
      },
      "source": [
        "# List of Projects Deployed to Heroku\n",
        "\n",
        "[Bokeh Web App](https://bokehflaskappli.herokuapp.com)\n",
        "\n",
        "[Task Master App](https://flaskappintro.herokuapp.com/)\n",
        "\n",
        "[Stock Price App (Static)](https://staticbokehplot.herokuapp.com/)"
      ]
    }
  ]
}